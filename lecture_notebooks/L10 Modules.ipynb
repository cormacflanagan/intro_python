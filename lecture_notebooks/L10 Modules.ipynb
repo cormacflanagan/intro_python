{
 "cells": [
  {
   "metadata": {
    "id": "5UyFJYXOx-WH",
    "slideshow": {
     "slide_type": "slide"
    }
   },
   "cell_type": "markdown",
   "source": "# Lecture 10 \n\nToday:\n* Finishing up sequences:\n  * Generators and the yield keyword\n  * Generator expressions\n* Modules:\n  * Some useful modules\n  * Hierarchical namespaces\n  * Making your own modules\n* The main() function\n* PEP 8 (v. briefly)\n* A revisit to debugging, now that we're writing longer programs:\n  * Different error types (syntax, runtime, logical)\n"
  },
  {
   "metadata": {
    "id": "dBY3UTSMO998",
    "slideshow": {
     "slide_type": "slide"
    }
   },
   "cell_type": "markdown",
   "source": "# Warm-Up Challenge"
  },
  {
   "metadata": {
    "colab": {
     "base_uri": "https://localhost:8080/"
    },
    "execution": {
     "iopub.execute_input": "2022-09-23T00:20:16.804010Z",
     "iopub.status.busy": "2022-09-23T00:20:16.803216Z",
     "iopub.status.idle": "2022-09-23T00:20:16.806297Z",
     "shell.execute_reply": "2022-09-23T00:20:16.806853Z"
    },
    "executionInfo": {
     "elapsed": 987,
     "status": "ok",
     "timestamp": 1607823679567,
     "user": {
      "displayName": "Benedict Paten",
      "photoUrl": "https://lh3.googleusercontent.com/a-/AOh14Gh2rYrrH6yoNnUp0Oj4p4ouybc6ZcWGyPmKFtIY=s64",
      "userId": "06399644931392855882"
     },
     "user_tz": 480
    },
    "id": "Thnha1TQwdkv",
    "outputId": "95c531a1-4ddd-42ba-fc92-dfaae5bff69e",
    "slideshow": {
     "slide_type": "fragment"
    },
    "trusted": false
   },
   "cell_type": "code",
   "source": "# 1. Write a function that takes n and returns a list of the first n squares\n\n# REGULAR FUNCTION\n# CALL IT, IT RETURNS A (BIG LIST) VALUE\ndef squares(n):\n    lst = []\n    for i in range(1, n+1 ): # 0,1,..., n-1, n\n        lst.append( i*i )  # append wants an element\n    return lst\n\n# 2. Write a function find that takes a list and an element,\n# and checks if the element occurs in the list\ndef find(lst, e):\n    for i in lst:\n        if i == e:\n            return True\n    return False\n    \n# Test case:\nprint(squares(15))\nfind( squares(1000), 25)",
   "execution_count": 1,
   "outputs": [
    {
     "output_type": "stream",
     "text": "[1, 4, 9, 16, 25, 36, 49, 64, 81, 100, 121, 144, 169, 196, 225]\n",
     "name": "stdout"
    },
    {
     "output_type": "execute_result",
     "execution_count": 1,
     "data": {
      "text/plain": "True"
     },
     "metadata": {}
    }
   ]
  },
  {
   "metadata": {
    "id": "dBY3UTSMO998",
    "slideshow": {
     "slide_type": "slide"
    }
   },
   "cell_type": "markdown",
   "source": "# Range is Strange"
  },
  {
   "metadata": {
    "colab": {
     "base_uri": "https://localhost:8080/"
    },
    "execution": {
     "iopub.execute_input": "2022-09-23T00:20:16.804010Z",
     "iopub.status.busy": "2022-09-23T00:20:16.803216Z",
     "iopub.status.idle": "2022-09-23T00:20:16.806297Z",
     "shell.execute_reply": "2022-09-23T00:20:16.806853Z"
    },
    "executionInfo": {
     "elapsed": 987,
     "status": "ok",
     "timestamp": 1607823679567,
     "user": {
      "displayName": "Benedict Paten",
      "photoUrl": "https://lh3.googleusercontent.com/a-/AOh14Gh2rYrrH6yoNnUp0Oj4p4ouybc6ZcWGyPmKFtIY=s64",
      "userId": "06399644931392855882"
     },
     "user_tz": 480
    },
    "id": "Thnha1TQwdkv",
    "outputId": "95c531a1-4ddd-42ba-fc92-dfaae5bff69e",
    "slideshow": {
     "slide_type": "fragment"
    },
    "trusted": false
   },
   "cell_type": "code",
   "source": "# Recall that range can be used to iterate through a sequence of numbers:\n\nfor i in range(10):\n  print(i, end = \" \")",
   "execution_count": 12,
   "outputs": [
    {
     "output_type": "stream",
     "text": "0 1 2 3 4 5 6 7 8 9 ",
     "name": "stdout"
    }
   ]
  },
  {
   "metadata": {
    "colab": {
     "base_uri": "https://localhost:8080/"
    },
    "execution": {
     "iopub.execute_input": "2022-09-23T00:20:16.811544Z",
     "iopub.status.busy": "2022-09-23T00:20:16.810683Z",
     "iopub.status.idle": "2022-09-23T00:20:16.813920Z",
     "shell.execute_reply": "2022-09-23T00:20:16.814406Z"
    },
    "executionInfo": {
     "elapsed": 679,
     "status": "ok",
     "timestamp": 1607823697294,
     "user": {
      "displayName": "Benedict Paten",
      "photoUrl": "https://lh3.googleusercontent.com/a-/AOh14Gh2rYrrH6yoNnUp0Oj4p4ouybc6ZcWGyPmKFtIY=s64",
      "userId": "06399644931392855882"
     },
     "user_tz": 480
    },
    "id": "pbmiRTOeeK3_",
    "outputId": "ad8697cf-694a-4666-fd3a-98666a9a2f09",
    "slideshow": {
     "slide_type": "fragment"
    },
    "trusted": false
   },
   "cell_type": "code",
   "source": "# We can convert range to a list\n\nlist(range(10)) ",
   "execution_count": 2,
   "outputs": [
    {
     "output_type": "execute_result",
     "execution_count": 2,
     "data": {
      "text/plain": "[0, 1, 2, 3, 4, 5, 6, 7, 8, 9]"
     },
     "metadata": {}
    }
   ]
  },
  {
   "metadata": {
    "slideshow": {
     "slide_type": "subslide"
    }
   },
   "cell_type": "markdown",
   "source": "**But isn't range a list to start with?**"
  },
  {
   "metadata": {
    "colab": {
     "base_uri": "https://localhost:8080/"
    },
    "execution": {
     "iopub.execute_input": "2022-09-23T00:20:16.819198Z",
     "iopub.status.busy": "2022-09-23T00:20:16.818426Z",
     "iopub.status.idle": "2022-09-23T00:20:16.821208Z",
     "shell.execute_reply": "2022-09-23T00:20:16.821659Z"
    },
    "executionInfo": {
     "elapsed": 815,
     "status": "ok",
     "timestamp": 1607823745329,
     "user": {
      "displayName": "Benedict Paten",
      "photoUrl": "https://lh3.googleusercontent.com/a-/AOh14Gh2rYrrH6yoNnUp0Oj4p4ouybc6ZcWGyPmKFtIY=s64",
      "userId": "06399644931392855882"
     },
     "user_tz": 480
    },
    "id": "q4S0UYQseWBl",
    "outputId": "0a1b9116-19c9-4f6d-c5b3-6fc72a5c7462",
    "slideshow": {
     "slide_type": "fragment"
    },
    "trusted": false
   },
   "cell_type": "code",
   "source": "# No!\n\nx = range(10) \n\nprint(x)",
   "execution_count": 3,
   "outputs": [
    {
     "name": "stdout",
     "output_type": "stream",
     "text": "range(0, 10)\n"
    }
   ]
  },
  {
   "metadata": {
    "colab": {
     "base_uri": "https://localhost:8080/"
    },
    "execution": {
     "iopub.execute_input": "2022-09-23T00:20:16.826625Z",
     "iopub.status.busy": "2022-09-23T00:20:16.825530Z",
     "iopub.status.idle": "2022-09-23T00:20:16.828594Z",
     "shell.execute_reply": "2022-09-23T00:20:16.829041Z"
    },
    "executionInfo": {
     "elapsed": 624,
     "status": "ok",
     "timestamp": 1607823774254,
     "user": {
      "displayName": "Benedict Paten",
      "photoUrl": "https://lh3.googleusercontent.com/a-/AOh14Gh2rYrrH6yoNnUp0Oj4p4ouybc6ZcWGyPmKFtIY=s64",
      "userId": "06399644931392855882"
     },
     "user_tz": 480
    },
    "id": "EHZwMWXeebnk",
    "outputId": "835ece0c-a062-4111-e23f-85b4304250c8",
    "slideshow": {
     "slide_type": "fragment"
    },
    "trusted": false
   },
   "cell_type": "code",
   "source": "# So what is the type of range:\n\nx = range(10) # So what is a range? \n\nprint(type(x))",
   "execution_count": 4,
   "outputs": [
    {
     "name": "stdout",
     "output_type": "stream",
     "text": "<class 'range'>\n"
    }
   ]
  },
  {
   "metadata": {
    "id": "EY8D1A0denOC",
    "slideshow": {
     "slide_type": "fragment"
    }
   },
   "cell_type": "markdown",
   "source": "Why not just represent a range as a list? In a word: memory."
  },
  {
   "metadata": {
    "colab": {
     "base_uri": "https://localhost:8080/"
    },
    "execution": {
     "iopub.execute_input": "2022-09-23T00:20:16.833186Z",
     "iopub.status.busy": "2022-09-23T00:20:16.832505Z",
     "iopub.status.idle": "2022-09-23T00:20:16.834907Z",
     "shell.execute_reply": "2022-09-23T00:20:16.835341Z"
    },
    "executionInfo": {
     "elapsed": 801,
     "status": "ok",
     "timestamp": 1607823806964,
     "user": {
      "displayName": "Benedict Paten",
      "photoUrl": "https://lh3.googleusercontent.com/a-/AOh14Gh2rYrrH6yoNnUp0Oj4p4ouybc6ZcWGyPmKFtIY=s64",
      "userId": "06399644931392855882"
     },
     "user_tz": 480
    },
    "id": "tTT_m124fFyl",
    "outputId": "756898ea-c757-4f0d-f69a-1331f92c1052",
    "slideshow": {
     "slide_type": "subslide"
    },
    "trusted": false
   },
   "cell_type": "code",
   "source": "x = list(range(100)) # This requires allocating memory to store 100 integers\n\nprint(x)",
   "execution_count": 5,
   "outputs": [
    {
     "name": "stdout",
     "output_type": "stream",
     "text": "[0, 1, 2, 3, 4, 5, 6, 7, 8, 9, 10, 11, 12, 13, 14, 15, 16, 17, 18, 19, 20, 21, 22, 23, 24, 25, 26, 27, 28, 29, 30, 31, 32, 33, 34, 35, 36, 37, 38, 39, 40, 41, 42, 43, 44, 45, 46, 47, 48, 49, 50, 51, 52, 53, 54, 55, 56, 57, 58, 59, 60, 61, 62, 63, 64, 65, 66, 67, 68, 69, 70, 71, 72, 73, 74, 75, 76, 77, 78, 79, 80, 81, 82, 83, 84, 85, 86, 87, 88, 89, 90, 91, 92, 93, 94, 95, 96, 97, 98, 99]\n"
    }
   ]
  },
  {
   "metadata": {
    "colab": {
     "base_uri": "https://localhost:8080/"
    },
    "execution": {
     "iopub.execute_input": "2022-09-23T00:20:16.839280Z",
     "iopub.status.busy": "2022-09-23T00:20:16.838596Z",
     "iopub.status.idle": "2022-09-23T00:20:16.840974Z",
     "shell.execute_reply": "2022-09-23T00:20:16.841398Z"
    },
    "executionInfo": {
     "elapsed": 498,
     "status": "ok",
     "timestamp": 1607823829646,
     "user": {
      "displayName": "Benedict Paten",
      "photoUrl": "https://lh3.googleusercontent.com/a-/AOh14Gh2rYrrH6yoNnUp0Oj4p4ouybc6ZcWGyPmKFtIY=s64",
      "userId": "06399644931392855882"
     },
     "user_tz": 480
    },
    "id": "wWX6w0wDfSbs",
    "outputId": "709b9695-19ea-47f5-8990-cf2f84c4dbf2",
    "slideshow": {
     "slide_type": "fragment"
    },
    "trusted": false
   },
   "cell_type": "code",
   "source": "# This does not make the list, so the memory for the list is never allocated. \nx = range(100) \n\nprint(x)",
   "execution_count": 3,
   "outputs": [
    {
     "output_type": "stream",
     "text": "range(0, 100)\n",
     "name": "stdout"
    }
   ]
  },
  {
   "metadata": {
    "colab": {
     "base_uri": "https://localhost:8080/",
     "height": 34
    },
    "execution": {
     "iopub.execute_input": "2022-09-23T00:20:16.845666Z",
     "iopub.status.busy": "2022-09-23T00:20:16.844867Z",
     "iopub.status.idle": "2022-09-23T00:20:16.847470Z",
     "shell.execute_reply": "2022-09-23T00:20:16.847893Z"
    },
    "executionInfo": {
     "elapsed": 484,
     "status": "ok",
     "timestamp": 1571786471281,
     "user": {
      "displayName": "Benedict Paten",
      "photoUrl": "https://lh3.googleusercontent.com/a-/AAuE7mBMnWy8dDR7jyTHNy9tPaRx6DCyA3QKrIcuQ7R4=s64",
      "userId": "06399644931392855882"
     },
     "user_tz": 420
    },
    "id": "8Mysy47HfcPH",
    "outputId": "063d467a-880f-4b6a-c28f-cf37a72535f6",
    "slideshow": {
     "slide_type": "subslide"
    },
    "trusted": false
   },
   "cell_type": "code",
   "source": "# This requires only the memory for j, i and the Python system\n\n# Compute the sum of integers from 1 (inclusive) to 100 (exclusive)\nj = 0\nfor i in range(100):\n  j += i\n  \nprint(j)",
   "execution_count": 7,
   "outputs": [
    {
     "name": "stdout",
     "output_type": "stream",
     "text": "4950\n"
    }
   ]
  },
  {
   "metadata": {
    "colab": {
     "base_uri": "https://localhost:8080/",
     "height": 34
    },
    "execution": {
     "iopub.execute_input": "2022-09-23T00:20:16.852143Z",
     "iopub.status.busy": "2022-09-23T00:20:16.851461Z",
     "iopub.status.idle": "2022-09-23T00:20:16.854501Z",
     "shell.execute_reply": "2022-09-23T00:20:16.854053Z"
    },
    "executionInfo": {
     "elapsed": 255,
     "status": "ok",
     "timestamp": 1571786499654,
     "user": {
      "displayName": "Benedict Paten",
      "photoUrl": "https://lh3.googleusercontent.com/a-/AAuE7mBMnWy8dDR7jyTHNy9tPaRx6DCyA3QKrIcuQ7R4=s64",
      "userId": "06399644931392855882"
     },
     "user_tz": 420
    },
    "id": "ImYZezLHfuj8",
    "outputId": "60e542d4-0a3e-4bf0-b253-5ac1a2d04514",
    "slideshow": {
     "slide_type": "fragment"
    },
    "trusted": false
   },
   "cell_type": "code",
   "source": "# Alternatively, this requires memory for j, i and the list of 100 integers:\n\nj = 0\nfor i in list(range(100)):\n  j += i\n  \nprint(j)",
   "execution_count": 8,
   "outputs": [
    {
     "name": "stdout",
     "output_type": "stream",
     "text": "4950\n"
    }
   ]
  },
  {
   "metadata": {
    "id": "xVrA1CyIf9Yl",
    "slideshow": {
     "slide_type": "subslide"
    }
   },
   "cell_type": "markdown",
   "source": "* Range, as an iterator, is the promise to produce a sequence of integers, but this does not require they all exist in memory at the same time. \n\n* With a list, however, by definition, all the elements are present in memory.\n\n* As a general guide, if we can be \"lazy\", and avoid ever building a complete sequence in memory, then we should be lazy about evaluation of sequences.\n\n* So how do you code a function like range? This is where the \"yield\" keyword comes in, which allows you to create generator functions."
  },
  {
   "metadata": {
    "id": "dBY3UTSMO998",
    "slideshow": {
     "slide_type": "slide"
    }
   },
   "cell_type": "markdown",
   "source": "# Generators\n\n## Regular function \n* Does all of its computation first, and then return one result at the end\n\n## Generator function\n* A function with a **yield** statement\n* Produce a whole sequence of results, one at a time, using **yield**\n* When there are no more results, the function finally does a **return** statement\n* The sequence of results from a generator function can be processed with a for loop. That is, generator functions are iterable."
  },
  {
   "metadata": {
    "id": "dBY3UTSMO998",
    "slideshow": {
     "slide_type": "slide"
    }
   },
   "cell_type": "markdown",
   "source": "# Generator Example"
  },
  {
   "metadata": {
    "colab": {
     "base_uri": "https://localhost:8080/"
    },
    "execution": {
     "iopub.execute_input": "2022-09-23T00:20:16.804010Z",
     "iopub.status.busy": "2022-09-23T00:20:16.803216Z",
     "iopub.status.idle": "2022-09-23T00:20:16.806297Z",
     "shell.execute_reply": "2022-09-23T00:20:16.806853Z"
    },
    "executionInfo": {
     "elapsed": 987,
     "status": "ok",
     "timestamp": 1607823679567,
     "user": {
      "displayName": "Benedict Paten",
      "photoUrl": "https://lh3.googleusercontent.com/a-/AOh14Gh2rYrrH6yoNnUp0Oj4p4ouybc6ZcWGyPmKFtIY=s64",
      "userId": "06399644931392855882"
     },
     "user_tz": 480
    },
    "id": "Thnha1TQwdkv",
    "outputId": "95c531a1-4ddd-42ba-fc92-dfaae5bff69e",
    "slideshow": {
     "slide_type": "fragment"
    },
    "trusted": false
   },
   "cell_type": "code",
   "source": "## squares written as a generator (ie a function with yield)\n# Returns each square, one at a time\n# You can iterate over squares(n) in a for loop\n\ndef squaresGen(n):\n    for i in range(1,n+1):\n        yield i*i              # squaresGen is a generator function\n    return\n\ndef find(collection,e):\n    for i in collection:\n        if i == e:\n            return True \n    return False\n\n# Test case:\nprint(squaresGen(10))\n\nprint(list(squaresGen(10)))  # convert sequence from squares into a list\n\nfor i in squaresGen(10): print(i, end=\" \") # print sequence from squares\n    \nfind( squaresGen(10), 25)",
   "execution_count": 5,
   "outputs": [
    {
     "output_type": "stream",
     "text": "<generator object squaresGen at 0x14af31690>\n[1, 4, 9, 16, 25, 36, 49, 64, 81, 100]\n1 4 9 16 25 36 49 64 81 100 ",
     "name": "stdout"
    },
    {
     "output_type": "execute_result",
     "execution_count": 5,
     "data": {
      "text/plain": "True"
     },
     "metadata": {}
    }
   ]
  },
  {
   "metadata": {
    "id": "3LaBzInG3vZp",
    "slideshow": {
     "slide_type": "slide"
    }
   },
   "cell_type": "markdown",
   "source": "# Yield keyword\n\nWith *return* you exit a function completely, returning a value. The internal state of the function is lost.\n\nYield is like return, in that you return a value from the function and temporarily the function exits, however the state of the function is not lost, and the function can be resumed to return more values.\n\nThis allows a function to act like an iterator over a sequence, where the function incrementally yields values, one for each successive resumption of the function. \n\nIt's easiest to understand this by example:"
  },
  {
   "metadata": {
    "colab": {
     "base_uri": "https://localhost:8080/"
    },
    "execution": {
     "iopub.execute_input": "2022-09-23T00:20:16.859358Z",
     "iopub.status.busy": "2022-09-23T00:20:16.858681Z",
     "iopub.status.idle": "2022-09-23T00:20:16.861067Z",
     "shell.execute_reply": "2022-09-23T00:20:16.861477Z"
    },
    "executionInfo": {
     "elapsed": 517,
     "status": "ok",
     "timestamp": 1607824189451,
     "user": {
      "displayName": "Benedict Paten",
      "photoUrl": "https://lh3.googleusercontent.com/a-/AOh14Gh2rYrrH6yoNnUp0Oj4p4ouybc6ZcWGyPmKFtIY=s64",
      "userId": "06399644931392855882"
     },
     "user_tz": 480
    },
    "id": "qnDSsJ7u3Bo1",
    "outputId": "1a50ddcc-2c5a-4fe2-d4b8-d386de7a480d",
    "slideshow": {
     "slide_type": "fragment"
    },
    "trusted": false
   },
   "cell_type": "code",
   "source": "def functionThatYields():  # aka a Generator\n    yield 1\n    yield \"two\"\n    yield 3.0\n    return\n\nfor i in functionThatYields():\n  print(i)",
   "execution_count": 6,
   "outputs": [
    {
     "output_type": "stream",
     "text": "1\ntwo\n3.0\n",
     "name": "stdout"
    }
   ]
  },
  {
   "metadata": {
    "colab": {
     "base_uri": "https://localhost:8080/"
    },
    "execution": {
     "iopub.execute_input": "2022-09-23T00:20:16.865383Z",
     "iopub.status.busy": "2022-09-23T00:20:16.864720Z",
     "iopub.status.idle": "2022-09-23T00:20:16.867185Z",
     "shell.execute_reply": "2022-09-23T00:20:16.867589Z"
    },
    "executionInfo": {
     "elapsed": 510,
     "status": "ok",
     "timestamp": 1607824248506,
     "user": {
      "displayName": "Benedict Paten",
      "photoUrl": "https://lh3.googleusercontent.com/a-/AOh14Gh2rYrrH6yoNnUp0Oj4p4ouybc6ZcWGyPmKFtIY=s64",
      "userId": "06399644931392855882"
     },
     "user_tz": 480
    },
    "id": "oC9TIKzzyjkb",
    "outputId": "bb10b433-61b4-48bd-819c-470023fbb7c3",
    "slideshow": {
     "slide_type": "subslide"
    },
    "trusted": false
   },
   "cell_type": "code",
   "source": "# What is the type?\n\nx = functionThatYields(5) \n\nprint(type(x)) ",
   "execution_count": 10,
   "outputs": [
    {
     "name": "stdout",
     "output_type": "stream",
     "text": "<class 'generator'>\n"
    }
   ]
  },
  {
   "metadata": {
    "colab": {
     "base_uri": "https://localhost:8080/"
    },
    "execution": {
     "iopub.execute_input": "2022-09-23T00:20:16.859358Z",
     "iopub.status.busy": "2022-09-23T00:20:16.858681Z",
     "iopub.status.idle": "2022-09-23T00:20:16.861067Z",
     "shell.execute_reply": "2022-09-23T00:20:16.861477Z"
    },
    "executionInfo": {
     "elapsed": 517,
     "status": "ok",
     "timestamp": 1607824189451,
     "user": {
      "displayName": "Benedict Paten",
      "photoUrl": "https://lh3.googleusercontent.com/a-/AOh14Gh2rYrrH6yoNnUp0Oj4p4ouybc6ZcWGyPmKFtIY=s64",
      "userId": "06399644931392855882"
     },
     "user_tz": 480
    },
    "id": "qnDSsJ7u3Bo1",
    "outputId": "1a50ddcc-2c5a-4fe2-d4b8-d386de7a480d",
    "slideshow": {
     "slide_type": "fragment"
    },
    "trusted": false
   },
   "cell_type": "code",
   "source": "def make_numbers_list(m): # returns [0, 1, 2, ..., m-1]\n  i = 0\n  l = []\n  while i < m:\n    l.append(i)\n    i += 1\n  return l\n\nfor i in make_numbers_list(10):\n  print(i, end=\" \")",
   "execution_count": 9,
   "outputs": [
    {
     "output_type": "stream",
     "text": "0 1 2 3 4 5 6 7 8 9 ",
     "name": "stdout"
    }
   ]
  },
  {
   "metadata": {
    "colab": {
     "base_uri": "https://localhost:8080/"
    },
    "execution": {
     "iopub.execute_input": "2022-09-23T00:20:16.859358Z",
     "iopub.status.busy": "2022-09-23T00:20:16.858681Z",
     "iopub.status.idle": "2022-09-23T00:20:16.861067Z",
     "shell.execute_reply": "2022-09-23T00:20:16.861477Z"
    },
    "executionInfo": {
     "elapsed": 517,
     "status": "ok",
     "timestamp": 1607824189451,
     "user": {
      "displayName": "Benedict Paten",
      "photoUrl": "https://lh3.googleusercontent.com/a-/AOh14Gh2rYrrH6yoNnUp0Oj4p4ouybc6ZcWGyPmKFtIY=s64",
      "userId": "06399644931392855882"
     },
     "user_tz": 480
    },
    "id": "qnDSsJ7u3Bo1",
    "outputId": "1a50ddcc-2c5a-4fe2-d4b8-d386de7a480d",
    "slideshow": {
     "slide_type": "fragment"
    },
    "trusted": false
   },
   "cell_type": "code",
   "source": "def make_numbers_generator(m): # a generator for 0, 1, 2, ..., m-1\n  i = 0\n  while i < m:\n    yield i   # yields 0, 1, 2, ..., m-1\n    i += 1\n\nfor i in make_numbers_list(10):\n  print(i, end=\" \")",
   "execution_count": 10,
   "outputs": [
    {
     "output_type": "stream",
     "text": "0 1 2 3 4 5 6 7 8 9 ",
     "name": "stdout"
    }
   ]
  },
  {
   "metadata": {
    "id": "ERb6zo4v5YO-",
    "slideshow": {
     "slide_type": "fragment"
    }
   },
   "cell_type": "markdown",
   "source": "Why use yield to write generator functions?:\n\n* Shorter, cleaner code - here we saved all the messing around with lists\n* More efficient in memory - we never have to construct the complete list in memory"
  },
  {
   "metadata": {
    "slideshow": {
     "slide_type": "subslide"
    }
   },
   "cell_type": "markdown",
   "source": "# Generator Expressions\n\nLike list comprehensions, but lazy"
  },
  {
   "metadata": {
    "execution": {
     "iopub.execute_input": "2022-09-23T00:20:16.871812Z",
     "iopub.status.busy": "2022-09-23T00:20:16.871189Z",
     "iopub.status.idle": "2022-09-23T00:20:16.873669Z",
     "shell.execute_reply": "2022-09-23T00:20:16.874070Z"
    },
    "slideshow": {
     "slide_type": "fragment"
    },
    "trusted": false
   },
   "cell_type": "code",
   "source": "# Last lecture we covered list comprehensions, for example:\n\nx = [ i**2 for i in range(1,11) ] # list of square numbers\n\nprint(x) \n\n# Same as ...\nx = []\nfor i in range(1,11):  x.append(i**2)\n    ",
   "execution_count": 1,
   "outputs": [
    {
     "output_type": "stream",
     "text": "[1, 4, 9, 16, 25, 36, 49, 64, 81, 100]\n",
     "name": "stdout"
    }
   ]
  },
  {
   "metadata": {
    "execution": {
     "iopub.execute_input": "2022-09-23T00:20:16.878553Z",
     "iopub.status.busy": "2022-09-23T00:20:16.877803Z",
     "iopub.status.idle": "2022-09-23T00:20:16.880348Z",
     "shell.execute_reply": "2022-09-23T00:20:16.880755Z"
    },
    "slideshow": {
     "slide_type": "fragment"
    },
    "trusted": false
   },
   "cell_type": "code",
   "source": "# If we swap the square brackets for parentheses then we get a \"generator expression\"\n\ny = (i**2 for i in range(1,11)) # square numbers as a generator expression\n\nprint(y)\nprint(list(y))\n\n# Same as\ndef gen_numbers():\n    for i in range(1,11): \n        yield i**2\ny2 = gen_numbers()\nprint(list(y2))\n        \n# A generator expression creates a generator function but in less code:",
   "execution_count": 3,
   "outputs": [
    {
     "output_type": "stream",
     "text": "<generator object <genexpr> at 0x1433a68f0>\n[1, 4, 9, 16, 25, 36, 49, 64, 81, 100]\n[1, 4, 9, 16, 25, 36, 49, 64, 81, 100]\n",
     "name": "stdout"
    }
   ]
  },
  {
   "metadata": {
    "execution": {
     "iopub.execute_input": "2022-09-23T00:20:16.885019Z",
     "iopub.status.busy": "2022-09-23T00:20:16.884414Z",
     "iopub.status.idle": "2022-09-23T00:20:16.886811Z",
     "shell.execute_reply": "2022-09-23T00:20:16.887209Z"
    },
    "slideshow": {
     "slide_type": "subslide"
    },
    "trusted": false
   },
   "cell_type": "code",
   "source": "# We don't need to include the parentheses in some cases\nx = sum(i**2 for i in range(1,101)) # One liner to sum the first 100 square numbers\nprint(f\"Sum of the first hundred square numbers {x}\")",
   "execution_count": 5,
   "outputs": [
    {
     "output_type": "stream",
     "text": "Sum of the first hundred square numbers 338350\n",
     "name": "stdout"
    }
   ]
  },
  {
   "metadata": {
    "pycharm": {
     "name": "#%% md\n"
    },
    "slideshow": {
     "slide_type": "fragment"
    }
   },
   "cell_type": "markdown",
   "source": "The take-home: Generator expressions are just syntatic sugar for generator functions. They are generally less code, particularly when they can be used inline (like the sum example above), and avoid allocating all the memory that a list comprehension involves."
  },
  {
   "metadata": {
    "id": "53Q0YI8QyGFb",
    "slideshow": {
     "slide_type": "subslide"
    }
   },
   "cell_type": "markdown",
   "source": "# Challenge 1"
  },
  {
   "metadata": {
    "trusted": false
   },
   "cell_type": "code",
   "source": "# Write a function cubes1 that that produces a *tuple* of the first n cubes\n# 1,8,27,..., n**3\n\ndef cubes1(n):\n    t = () # empty tuple\n    for i in range(1,n+1):\n        t = t + (i*i*i,)\n    return t\n#print(cubes1(10))\n\n# Write a function cubes2 that that produces a *list* of the first n cubes\ndef cubes2(n):\n    lst = []\n    for i in range(1,n+1):\n        lst = lst + [i*i*i]\n    return lst \n#print(cubes2(10))\n    \n# Write a generator function cubes3 that produces the first n cubes\ndef cubes3(n):\n    for i in range(1,n+1):  \n        #print(f\"About to yield {i*i*i}\")\n        yield i*i*i\n    \n#for x in cubes3(10): print(x)\n\n# Write a list comprehension for the first 10 cubes\nprint( [  i*i*i for i in range(1,10+1) ] )\n\n# Write a generator expression (aka comprehension) for the first 10 cubes\nset( (  i*i*i for i in range(1,10+1) ) )",
   "execution_count": 8,
   "outputs": [
    {
     "output_type": "stream",
     "text": "[1, 8, 27, 64, 125, 216, 343, 512, 729, 1000]\n",
     "name": "stdout"
    },
    {
     "output_type": "execute_result",
     "execution_count": 8,
     "data": {
      "text/plain": "{1, 8, 27, 64, 125, 216, 343, 512, 729, 1000}"
     },
     "metadata": {}
    }
   ]
  },
  {
   "metadata": {
    "id": "53Q0YI8QyGFb",
    "slideshow": {
     "slide_type": "subslide"
    }
   },
   "cell_type": "markdown",
   "source": "# Challenge 2"
  },
  {
   "metadata": {
    "trusted": false
   },
   "cell_type": "code",
   "source": "# Write a function count that takes in a list and an element e,\n# and returns the number of times that e occurs in the list.\n\ndef count(list,e):\n    ...\n    \n\nprint(count( [1,2,3,2,1], 2))\n\n# Next, try your count function on a tuple, generator, string, and set.\n# Which ones would you expect to work?\n\nprint(count( (1,2,3,2,1), 2))  #?\nprint(count( range(10), 2))  #?\nprint(count( \"a man a plan a canal panama\", \"a\"))\nprint(count( { 1,2,3,2,1 }, 2))  #?\n\n",
   "execution_count": 12,
   "outputs": [
    {
     "output_type": "stream",
     "text": "2\n2\n1\n10\n1\n",
     "name": "stdout"
    }
   ]
  },
  {
   "metadata": {
    "id": "VV9kzXORPCHi",
    "slideshow": {
     "slide_type": "slide"
    }
   },
   "cell_type": "markdown",
   "source": "# Modules\n\n* A language like Python has vast libraries of useful functions, classes, etc. \n  * See https://pypi.org/:\n  * As of Dec 2020 there are over 270K different Python \"packages\" in PyPi.\n\n* To make it possible to use these and ensure the namespace of our code does not explode in size, Python has a hierarchical system for managing these libraries using \"modules\" and \"packages\"."
  },
  {
   "metadata": {
    "colab": {
     "base_uri": "https://localhost:8080/"
    },
    "execution": {
     "iopub.execute_input": "2022-09-23T00:20:16.965452Z",
     "iopub.status.busy": "2022-09-23T00:20:16.964581Z",
     "iopub.status.idle": "2022-09-23T00:20:16.968160Z",
     "shell.execute_reply": "2022-09-23T00:20:16.968722Z"
    },
    "executionInfo": {
     "elapsed": 666,
     "status": "ok",
     "timestamp": 1607886943821,
     "user": {
      "displayName": "Benedict Paten",
      "photoUrl": "https://lh3.googleusercontent.com/a-/AOh14Gh2rYrrH6yoNnUp0Oj4p4ouybc6ZcWGyPmKFtIY=s64",
      "userId": "06399644931392855882"
     },
     "user_tz": 480
    },
    "id": "PiAia4wZhAL6",
    "outputId": "6a961fb3-9896-44f6-d101-de90a6d9e457",
    "slideshow": {
     "slide_type": "fragment"
    },
    "trusted": false
   },
   "cell_type": "code",
   "source": "# From a user perspective, modules are variables, functions, objects etc. \n# defined separately to the code we're working on.\n\n# The math module contains lots of math functions and constants\n# This line \"imports\" the math module, so that we can refer to it\nimport math \n\nmath.log10(100) # Now we're calling a function from the math module ",
   "execution_count": 15,
   "outputs": [
    {
     "output_type": "execute_result",
     "execution_count": 15,
     "data": {
      "text/plain": "2.0"
     },
     "metadata": {}
    }
   ]
  },
  {
   "metadata": {
    "colab": {
     "base_uri": "https://localhost:8080/"
    },
    "execution": {
     "iopub.execute_input": "2022-09-23T00:20:16.975275Z",
     "iopub.status.busy": "2022-09-23T00:20:16.974242Z",
     "iopub.status.idle": "2022-09-23T00:20:16.979073Z",
     "shell.execute_reply": "2022-09-23T00:20:16.978524Z"
    },
    "executionInfo": {
     "elapsed": 774,
     "status": "ok",
     "timestamp": 1607886955834,
     "user": {
      "displayName": "Benedict Paten",
      "photoUrl": "https://lh3.googleusercontent.com/a-/AOh14Gh2rYrrH6yoNnUp0Oj4p4ouybc6ZcWGyPmKFtIY=s64",
      "userId": "06399644931392855882"
     },
     "user_tz": 480
    },
    "id": "4ttHHwCGkRKl",
    "outputId": "76f8d38a-7f3c-4f3a-9a45-53ea7c863d68",
    "slideshow": {
     "slide_type": "subslide"
    },
    "trusted": false
   },
   "cell_type": "code",
   "source": "dir(math) # use dir to list the contents of an object or module",
   "execution_count": 16,
   "outputs": [
    {
     "output_type": "execute_result",
     "execution_count": 16,
     "data": {
      "text/plain": "['__doc__',\n '__loader__',\n '__name__',\n '__package__',\n '__spec__',\n 'acos',\n 'acosh',\n 'asin',\n 'asinh',\n 'atan',\n 'atan2',\n 'atanh',\n 'ceil',\n 'comb',\n 'copysign',\n 'cos',\n 'cosh',\n 'degrees',\n 'dist',\n 'e',\n 'erf',\n 'erfc',\n 'exp',\n 'expm1',\n 'fabs',\n 'factorial',\n 'floor',\n 'fmod',\n 'frexp',\n 'fsum',\n 'gamma',\n 'gcd',\n 'hypot',\n 'inf',\n 'isclose',\n 'isfinite',\n 'isinf',\n 'isnan',\n 'isqrt',\n 'lcm',\n 'ldexp',\n 'lgamma',\n 'log',\n 'log10',\n 'log1p',\n 'log2',\n 'modf',\n 'nan',\n 'nextafter',\n 'perm',\n 'pi',\n 'pow',\n 'prod',\n 'radians',\n 'remainder',\n 'sin',\n 'sinh',\n 'sqrt',\n 'tan',\n 'tanh',\n 'tau',\n 'trunc',\n 'ulp']"
     },
     "metadata": {}
    }
   ]
  },
  {
   "metadata": {
    "colab": {
     "base_uri": "https://localhost:8080/"
    },
    "execution": {
     "iopub.execute_input": "2022-09-23T00:20:16.984494Z",
     "iopub.status.busy": "2022-09-23T00:20:16.983468Z",
     "iopub.status.idle": "2022-09-23T00:20:16.987278Z",
     "shell.execute_reply": "2022-09-23T00:20:16.987735Z"
    },
    "executionInfo": {
     "elapsed": 677,
     "status": "ok",
     "timestamp": 1607886963761,
     "user": {
      "displayName": "Benedict Paten",
      "photoUrl": "https://lh3.googleusercontent.com/a-/AOh14Gh2rYrrH6yoNnUp0Oj4p4ouybc6ZcWGyPmKFtIY=s64",
      "userId": "06399644931392855882"
     },
     "user_tz": 480
    },
    "id": "oBJf5NOokYOu",
    "outputId": "f5c26d63-2584-4a7f-9057-3bdf60813448",
    "slideshow": {
     "slide_type": "subslide"
    },
    "trusted": false
   },
   "cell_type": "code",
   "source": "# Use help() to give you info \n# (Note: this is great to use in the interactive interpretor)\n\n# e.g. get info on the math.log10 function\n# this is pulling the doc string of the function\nhelp(math.log10) ",
   "execution_count": 19,
   "outputs": [
    {
     "output_type": "stream",
     "text": "Help on built-in function log10 in module math:\n\nlog10(...)\n\n",
     "name": "stdout"
    }
   ]
  },
  {
   "metadata": {
    "id": "ARVdpaRMiYRj",
    "slideshow": {
     "slide_type": "subslide"
    }
   },
   "cell_type": "markdown",
   "source": "* In general, the Python standard library provides loads of useful modules for all sorts of things: https://docs.python.org/3/py-modindex.html \n\n* Standard library packages are installed as part of a default Python installation - they are part of every Python of that version (e.g. 3.XX)\n\n"
  },
  {
   "metadata": {
    "id": "amq9Ak7-jw1d",
    "slideshow": {
     "slide_type": "fragment"
    }
   },
   "cell_type": "markdown",
   "source": "* There is a much larger universe of open source Python packages you can install from: https://pypi.org/ "
  },
  {
   "metadata": {
    "slideshow": {
     "slide_type": "subslide"
    }
   },
   "cell_type": "markdown",
   "source": "# Challenge 2"
  },
  {
   "metadata": {
    "execution": {
     "iopub.execute_input": "2022-09-23T00:20:17.003545Z",
     "iopub.status.busy": "2022-09-23T00:20:17.002561Z",
     "iopub.status.idle": "2022-09-23T00:20:17.005646Z",
     "shell.execute_reply": "2022-09-23T00:20:17.005123Z"
    },
    "slideshow": {
     "slide_type": "fragment"
    },
    "trusted": false
   },
   "cell_type": "code",
   "source": "# Use the median function from the statistics module to \n# calculate the median of the following list:\nl = [ 1, 8, 3, 4, 2, 8, 7, 2, 6 ]\n\nimport statistics\nstatistics.median( l )",
   "execution_count": 2,
   "outputs": [
    {
     "output_type": "execute_result",
     "execution_count": 2,
     "data": {
      "text/plain": "4"
     },
     "metadata": {}
    }
   ]
  },
  {
   "metadata": {
    "id": "-tr9Pfmgk8K6",
    "slideshow": {
     "slide_type": "slide"
    }
   },
   "cell_type": "markdown",
   "source": "# Namespaces and dot notation\n\n* **Namespace** is all the identifiers  available to a line of code \n\n* In Python (like most programming languages), namespaces are organized hierarchically into subpieces using modules and functions and classes. \n\n* If all identifiers were in one namespace without any hierarchy then we would get lots of collisions between names, and this would result in ambiguity. \n\n* The upshot is if you want to use a function from another module you need to import it into the \"namespace\" of your code and use '.' notation:"
  },
  {
   "metadata": {
    "execution": {
     "iopub.execute_input": "2022-09-23T00:20:17.011421Z",
     "iopub.status.busy": "2022-09-23T00:20:17.010487Z",
     "iopub.status.idle": "2022-09-23T00:20:17.014120Z",
     "shell.execute_reply": "2022-09-23T00:20:17.014635Z"
    },
    "id": "iP1mZoy_iwBI",
    "slideshow": {
     "slide_type": "fragment"
    },
    "trusted": false
   },
   "cell_type": "code",
   "source": "import math # Imports the math module into the current namespace\n\nmath.log10(100) # sqrt is a function that is in the math module\n",
   "execution_count": 1,
   "outputs": [
    {
     "output_type": "execute_result",
     "execution_count": 1,
     "data": {
      "text/plain": "2.0"
     },
     "metadata": {}
    }
   ]
  },
  {
   "metadata": {
    "id": "zJq_izROlrI5",
    "slideshow": {
     "slide_type": "slide"
    }
   },
   "cell_type": "markdown",
   "source": "# Import statements\n\n* As you've seen, to import a module just write \"import x\", where x is the module name.\n\n**Import from**\n\n* You can also import a specific function, class or object from a module into your program's namespace using the import from syntax:"
  },
  {
   "metadata": {
    "colab": {
     "base_uri": "https://localhost:8080/",
     "height": 34
    },
    "execution": {
     "iopub.execute_input": "2022-09-23T00:20:17.020414Z",
     "iopub.status.busy": "2022-09-23T00:20:17.019304Z",
     "iopub.status.idle": "2022-09-23T00:20:17.023075Z",
     "shell.execute_reply": "2022-09-23T00:20:17.023574Z"
    },
    "executionInfo": {
     "elapsed": 559,
     "status": "ok",
     "timestamp": 1572389400280,
     "user": {
      "displayName": "Benedict Paten",
      "photoUrl": "https://lh3.googleusercontent.com/a-/AAuE7mBMnWy8dDR7jyTHNy9tPaRx6DCyA3QKrIcuQ7R4=s64",
      "userId": "06399644931392855882"
     },
     "user_tz": 420
    },
    "id": "vr_3pg00oUdE",
    "outputId": "0895a276-7f55-4333-d5d4-f42e43111262",
    "slideshow": {
     "slide_type": "fragment"
    },
    "trusted": false
   },
   "cell_type": "code",
   "source": "from math import log10\n\nlog10(100) # Now log10 is a just a function in the current program's name space, \n# no dot notation required",
   "execution_count": 3,
   "outputs": [
    {
     "output_type": "execute_result",
     "execution_count": 3,
     "data": {
      "text/plain": "2.0"
     },
     "metadata": {}
    }
   ]
  },
  {
   "metadata": {
    "id": "rHsFOKZrofMt",
    "slideshow": {
     "slide_type": "subslide"
    }
   },
   "cell_type": "markdown",
   "source": "If you want to import all the functions from a module you can use:"
  },
  {
   "metadata": {
    "colab": {
     "base_uri": "https://localhost:8080/",
     "height": 34
    },
    "execution": {
     "iopub.execute_input": "2022-09-23T00:20:17.029259Z",
     "iopub.status.busy": "2022-09-23T00:20:17.028408Z",
     "iopub.status.idle": "2022-09-23T00:20:17.032830Z",
     "shell.execute_reply": "2022-09-23T00:20:17.033544Z"
    },
    "executionInfo": {
     "elapsed": 638,
     "status": "ok",
     "timestamp": 1572389434964,
     "user": {
      "displayName": "Benedict Paten",
      "photoUrl": "https://lh3.googleusercontent.com/a-/AAuE7mBMnWy8dDR7jyTHNy9tPaRx6DCyA3QKrIcuQ7R4=s64",
      "userId": "06399644931392855882"
     },
     "user_tz": 420
    },
    "id": "4-O4FPzYol11",
    "outputId": "6bab78da-8262-4231-9464-3251d20aec7f",
    "slideshow": {
     "slide_type": "fragment"
    },
    "trusted": false
   },
   "cell_type": "code",
   "source": "from math import * # Import all functions from math\n\n\n# But, this is generally a BAD IDEA, because you need to be  sure\n# this doesn't bring in things that will collide with other things\n# used by the program\n\nlog10(100)\n#etc.",
   "execution_count": 2,
   "outputs": [
    {
     "output_type": "execute_result",
     "execution_count": 2,
     "data": {
      "text/plain": "2.0"
     },
     "metadata": {}
    }
   ]
  },
  {
   "metadata": {
    "slideshow": {
     "slide_type": "fragment"
    }
   },
   "cell_type": "markdown",
   "source": "More useful is the \"as\" modifier"
  },
  {
   "metadata": {
    "colab": {
     "base_uri": "https://localhost:8080/",
     "height": 34
    },
    "execution": {
     "iopub.execute_input": "2022-09-23T00:20:17.039543Z",
     "iopub.status.busy": "2022-09-23T00:20:17.038590Z",
     "iopub.status.idle": "2022-09-23T00:20:17.042327Z",
     "shell.execute_reply": "2022-09-23T00:20:17.042996Z"
    },
    "executionInfo": {
     "elapsed": 527,
     "status": "ok",
     "timestamp": 1572389857651,
     "user": {
      "displayName": "Benedict Paten",
      "photoUrl": "https://lh3.googleusercontent.com/a-/AAuE7mBMnWy8dDR7jyTHNy9tPaRx6DCyA3QKrIcuQ7R4=s64",
      "userId": "06399644931392855882"
     },
     "user_tz": 420
    },
    "id": "ZVVJJtTgpJB-",
    "outputId": "b36b0736-989b-4690-c95a-61ad5a6e60a4",
    "slideshow": {
     "slide_type": "fragment"
    },
    "trusted": false
   },
   "cell_type": "code",
   "source": "from math import log10 as log_base_10\n# This imports the sqrt function from math\n# but names it square_root. Useful if you want to abbreviate a long function\n# name, or if you want to import two separate things with the same name\n\nlog_base_10(100)",
   "execution_count": 8,
   "outputs": [
    {
     "output_type": "execute_result",
     "execution_count": 8,
     "data": {
      "text/plain": "2.0"
     },
     "metadata": {}
    }
   ]
  },
  {
   "metadata": {
    "slideshow": {
     "slide_type": "subslide"
    }
   },
   "cell_type": "markdown",
   "source": "# Challenge 3"
  },
  {
   "metadata": {
    "execution": {
     "iopub.execute_input": "2022-09-23T00:20:17.048062Z",
     "iopub.status.busy": "2022-09-23T00:20:17.047128Z",
     "iopub.status.idle": "2022-09-23T00:20:17.049921Z",
     "shell.execute_reply": "2022-09-23T00:20:17.050366Z"
    },
    "slideshow": {
     "slide_type": "fragment"
    },
    "trusted": false
   },
   "cell_type": "code",
   "source": "# Write a statement to import the 'sin' function from the 'math' module\n# and compute the sin of 0\nfrom math import sin\nsin(0)",
   "execution_count": 2,
   "outputs": [
    {
     "output_type": "execute_result",
     "execution_count": 2,
     "data": {
      "text/plain": "0.0"
     },
     "metadata": {}
    }
   ]
  },
  {
   "metadata": {
    "id": "iIpsqMLwqMR_",
    "slideshow": {
     "slide_type": "slide"
    }
   },
   "cell_type": "markdown",
   "source": "# Writing your own modules\n\nYou can write your own modules. \n\n* Create a file whose name is x.py, where x is the name of the module you want to create.\n\n* Edit x.py to contain the stuff you want\n\n* Create a new python file, call it y.py, in the same directory as x.py and\ninclude \"import x\" at the top of y.py. \n"
  },
  {
   "metadata": {
    "trusted": true
   },
   "cell_type": "code",
   "source": "import myadder\n\nprint(myadder.add([3,2,42]))",
   "execution_count": 1,
   "outputs": [
    {
     "output_type": "stream",
     "text": "47\n",
     "name": "stdout"
    }
   ]
  },
  {
   "metadata": {
    "id": "MvIg39k9kJk3",
    "slideshow": {
     "slide_type": "subslide"
    }
   },
   "cell_type": "markdown",
   "source": "# Packages\n\nPackages are collections of modules, organized hierarchically (and accessed using the dot notation).\n\nBeyond the scope here, but you can look more at environment setup to create your own \"packages\". If you're curious see: https://docs.python.org/3/tutorial/modules.html#packages"
  },
  {
   "metadata": {
    "id": "3hklS7CI943A",
    "slideshow": {
     "slide_type": "slide"
    }
   },
   "cell_type": "markdown",
   "source": "# The main() function\n\n* You may write a program and then want to reuse some of the functions by importing them into another program. In this case you are treating the original program as a module. \n\n* The problem is that when you import a module it is executed. \n\n* Question: How do you stop the original program from running when you import it as a module?\n\n* Answer: By putting the logic for the program in a \"main()\", which is only called if the program is being run by user, not imported as a module.\n\n\n"
  },
  {
   "metadata": {
    "execution": {
     "iopub.execute_input": "2022-09-23T00:20:17.059923Z",
     "iopub.status.busy": "2022-09-23T00:20:17.058849Z",
     "iopub.status.idle": "2022-09-23T00:20:17.070115Z",
     "shell.execute_reply": "2022-09-23T00:20:17.070811Z"
    },
    "id": "XkHjUHhr96h8",
    "slideshow": {
     "slide_type": "fragment"
    },
    "trusted": false
   },
   "cell_type": "code",
   "source": "# myadder.py\n\ndef add(c):\n    r = 0\n    for i in c:  r += i\n    return r\n\ndef main():\n    print(\"myadder loaded\")\n    assert add([1,2,3]) == 6\n    print(\"All tests pass\")\n    print(f\"__name__ is {__name__}\")\n\nif __name__ == '__main__': # This will only be true\n    # when the program is executed by a user\n    main()",
   "execution_count": 1,
   "outputs": [
    {
     "output_type": "stream",
     "text": "myadder loaded\nAll tests pass\n__name__ is __main__\n",
     "name": "stdout"
    }
   ]
  },
  {
   "metadata": {
    "trusted": false
   },
   "cell_type": "code",
   "source": "import myadder\nmyadder.add([1,2,3])",
   "execution_count": 3,
   "outputs": [
    {
     "output_type": "execute_result",
     "execution_count": 3,
     "data": {
      "text/plain": "6"
     },
     "metadata": {}
    }
   ]
  },
  {
   "metadata": {
    "id": "AGlA7LeAeylB",
    "slideshow": {
     "slide_type": "slide"
    }
   },
   "cell_type": "markdown",
   "source": "# PEP8: Use Style\n"
  },
  {
   "metadata": {
    "id": "lFJO8hkXkzXX",
    "slideshow": {
     "slide_type": "fragment"
    }
   },
   "cell_type": "markdown",
   "source": "It is easy to rush and write poorly structured, hard-to-read code. \n\nGenerally, this proves a false-economy, resulting in longer debug cycles, a larger maintenance burden (like, what was I thinking?) and less code reuse. \n\nAlthough many sins have nothing to do with the cosmetics of the code, some can be fixed by adopting a consistent, sane set of coding conventions. Python did this with Python Enhancement Proposal (PEP) 8:\n\nhttps://www.python.org/dev/peps/pep-0008/\n\nSome things PEP-8 covers:\n\n* use 4 spaces (instead of tabs) for indentation - you can make your text editor do this (insert spaces for tabs)\n* limit line length to 78 characters\n* when naming identifiers, use CamelCase for classes (we’ll get to those) and lowercase_with_underscores for functions and variables\n* place imports at the top of the file\n* keep function definitions together\n* use docstrings to document functions\n* use two blank lines to separate function definitions from each other\n* keep top level statements, including function calls, together at the bottom of the program"
  },
  {
   "metadata": {
    "id": "Jt48EBSSTtUx",
    "slideshow": {
     "slide_type": "slide"
    }
   },
   "cell_type": "markdown",
   "source": "# Debugging Revisited\n\nWe mentioned earlier that a lot of programming is debugging. Now we're going to debug programs and understand the different errors you can get.\n\nThere are three principle types of error:\n - syntax errors\n - runtime errors\n - semantic/logical errors"
  },
  {
   "metadata": {
    "id": "LF6A0KRWlhlR",
    "slideshow": {
     "slide_type": "slide"
    }
   },
   "cell_type": "markdown",
   "source": "# Syntax Errors\n\n* when what you've written is not valid Python"
  },
  {
   "metadata": {
    "colab": {
     "base_uri": "https://localhost:8080/",
     "height": 131
    },
    "execution": {
     "iopub.execute_input": "2022-09-23T00:20:17.092061Z",
     "iopub.status.busy": "2022-09-23T00:20:17.090495Z",
     "iopub.status.idle": "2022-09-23T00:20:17.095326Z",
     "shell.execute_reply": "2022-09-23T00:20:17.096105Z"
    },
    "executionInfo": {
     "elapsed": 717,
     "status": "error",
     "timestamp": 1572391090120,
     "user": {
      "displayName": "Benedict Paten",
      "photoUrl": "https://lh3.googleusercontent.com/a-/AAuE7mBMnWy8dDR7jyTHNy9tPaRx6DCyA3QKrIcuQ7R4=s64",
      "userId": "06399644931392855882"
     },
     "user_tz": 420
    },
    "id": "pMkRUsPW6fd1",
    "outputId": "252d538c-82d6-4289-8952-eb3f78073ca3",
    "slideshow": {
     "slide_type": "subslide"
    },
    "trusted": false
   },
   "cell_type": "code",
   "source": "# Syntax errors - when what you've written is not valid Python\n\nfor i in range(10)\n  print(i) # What's wrong with this?",
   "execution_count": 27,
   "outputs": [
    {
     "ename": "SyntaxError",
     "evalue": "invalid syntax (<ipython-input-27-d7c418e7e523>, line 3)",
     "output_type": "error",
     "traceback": [
      "\u001b[0;36m  File \u001b[0;32m\"<ipython-input-27-d7c418e7e523>\"\u001b[0;36m, line \u001b[0;32m3\u001b[0m\n\u001b[0;31m    for i in range(10)\u001b[0m\n\u001b[0m                      ^\u001b[0m\n\u001b[0;31mSyntaxError\u001b[0m\u001b[0;31m:\u001b[0m invalid syntax\n"
     ]
    }
   ]
  },
  {
   "metadata": {
    "colab": {
     "base_uri": "https://localhost:8080/",
     "height": 131
    },
    "execution": {
     "iopub.execute_input": "2022-09-23T00:20:17.100813Z",
     "iopub.status.busy": "2022-09-23T00:20:17.099991Z",
     "iopub.status.idle": "2022-09-23T00:20:17.103068Z",
     "shell.execute_reply": "2022-09-23T00:20:17.103574Z"
    },
    "executionInfo": {
     "elapsed": 653,
     "status": "error",
     "timestamp": 1572391098741,
     "user": {
      "displayName": "Benedict Paten",
      "photoUrl": "https://lh3.googleusercontent.com/a-/AAuE7mBMnWy8dDR7jyTHNy9tPaRx6DCyA3QKrIcuQ7R4=s64",
      "userId": "06399644931392855882"
     },
     "user_tz": 420
    },
    "id": "JIcgDJ7bT3Vb",
    "outputId": "b9660643-6fac-4f39-a29f-b9d115d4bb7a",
    "slideshow": {
     "slide_type": "subslide"
    },
    "trusted": false
   },
   "cell_type": "code",
   "source": "# Syntax errors - when what you've written is not valid Python\n\nfor i in range(10):\nprint(i) # What's wrong with this?",
   "execution_count": 28,
   "outputs": [
    {
     "ename": "IndentationError",
     "evalue": "expected an indented block (<ipython-input-28-6f8b904aea77>, line 4)",
     "output_type": "error",
     "traceback": [
      "\u001b[0;36m  File \u001b[0;32m\"<ipython-input-28-6f8b904aea77>\"\u001b[0;36m, line \u001b[0;32m4\u001b[0m\n\u001b[0;31m    print(i) # What's wrong with this?\u001b[0m\n\u001b[0m    ^\u001b[0m\n\u001b[0;31mIndentationError\u001b[0m\u001b[0;31m:\u001b[0m expected an indented block\n"
     ]
    }
   ]
  },
  {
   "metadata": {
    "colab": {
     "base_uri": "https://localhost:8080/",
     "height": 149
    },
    "execution": {
     "iopub.execute_input": "2022-09-23T00:20:17.107971Z",
     "iopub.status.busy": "2022-09-23T00:20:17.107146Z",
     "iopub.status.idle": "2022-09-23T00:20:17.110056Z",
     "shell.execute_reply": "2022-09-23T00:20:17.110775Z"
    },
    "executionInfo": {
     "elapsed": 529,
     "status": "error",
     "timestamp": 1572391119648,
     "user": {
      "displayName": "Benedict Paten",
      "photoUrl": "https://lh3.googleusercontent.com/a-/AAuE7mBMnWy8dDR7jyTHNy9tPaRx6DCyA3QKrIcuQ7R4=s64",
      "userId": "06399644931392855882"
     },
     "user_tz": 420
    },
    "id": "6EYjPqkc64bF",
    "outputId": "926a5ccf-d8b3-4ae5-bcfc-23613bc210d5",
    "slideshow": {
     "slide_type": "subslide"
    },
    "trusted": false
   },
   "cell_type": "code",
   "source": "# Syntax errors - when what you've written is not valid Python\nfor i in range(10):\n  \"\"\" This loop will print stuff \"\"\n  print(i)\n",
   "execution_count": 29,
   "outputs": [
    {
     "ename": "SyntaxError",
     "evalue": "EOF while scanning triple-quoted string literal (<ipython-input-29-d159ec2d490f>, line 4)",
     "output_type": "error",
     "traceback": [
      "\u001b[0;36m  File \u001b[0;32m\"<ipython-input-29-d159ec2d490f>\"\u001b[0;36m, line \u001b[0;32m4\u001b[0m\n\u001b[0;31m    print(i)\u001b[0m\n\u001b[0m            \n^\u001b[0m\n\u001b[0;31mSyntaxError\u001b[0m\u001b[0;31m:\u001b[0m EOF while scanning triple-quoted string literal\n"
     ]
    }
   ]
  },
  {
   "metadata": {
    "colab": {
     "base_uri": "https://localhost:8080/",
     "height": 151
    },
    "execution": {
     "iopub.execute_input": "2022-09-23T00:20:17.114825Z",
     "iopub.status.busy": "2022-09-23T00:20:17.114033Z",
     "iopub.status.idle": "2022-09-23T00:20:17.117110Z",
     "shell.execute_reply": "2022-09-23T00:20:17.117594Z"
    },
    "executionInfo": {
     "elapsed": 691,
     "status": "error",
     "timestamp": 1572391136584,
     "user": {
      "displayName": "Benedict Paten",
      "photoUrl": "https://lh3.googleusercontent.com/a-/AAuE7mBMnWy8dDR7jyTHNy9tPaRx6DCyA3QKrIcuQ7R4=s64",
      "userId": "06399644931392855882"
     },
     "user_tz": 420
    },
    "id": "ZSaz36jD9eoZ",
    "outputId": "5359fc9e-2b95-4071-cf4c-5be1054ea1c6",
    "slideshow": {
     "slide_type": "subslide"
    },
    "trusted": false
   },
   "cell_type": "code",
   "source": "# Syntax errors - when what you've written is not valid Python \n# (note, this kind of print statement was legal in Python 2.XX and earlier)\n\nprint \"Forgetting parentheses\"",
   "execution_count": 30,
   "outputs": [
    {
     "ename": "SyntaxError",
     "evalue": "Missing parentheses in call to 'print'. Did you mean print(\"Forgetting parentheses\")? (<ipython-input-30-b32860499df0>, line 4)",
     "output_type": "error",
     "traceback": [
      "\u001b[0;36m  File \u001b[0;32m\"<ipython-input-30-b32860499df0>\"\u001b[0;36m, line \u001b[0;32m4\u001b[0m\n\u001b[0;31m    print \"Forgetting parentheses\"\u001b[0m\n\u001b[0m          ^\u001b[0m\n\u001b[0;31mSyntaxError\u001b[0m\u001b[0;31m:\u001b[0m Missing parentheses in call to 'print'. Did you mean print(\"Forgetting parentheses\")?\n"
     ]
    }
   ]
  },
  {
   "metadata": {
    "id": "LWBj8-Ellvad",
    "slideshow": {
     "slide_type": "slide"
    }
   },
   "cell_type": "markdown",
   "source": "# Runtime Errors\n\n* when the program crashes during runtime because it \n tries to do something invalid"
  },
  {
   "metadata": {
    "colab": {
     "base_uri": "https://localhost:8080/",
     "height": 184
    },
    "execution": {
     "iopub.execute_input": "2022-09-23T00:20:17.121908Z",
     "iopub.status.busy": "2022-09-23T00:20:17.120950Z",
     "iopub.status.idle": "2022-09-23T00:20:17.127101Z",
     "shell.execute_reply": "2022-09-23T00:20:17.127648Z"
    },
    "executionInfo": {
     "elapsed": 564,
     "status": "error",
     "timestamp": 1572391202747,
     "user": {
      "displayName": "Benedict Paten",
      "photoUrl": "https://lh3.googleusercontent.com/a-/AAuE7mBMnWy8dDR7jyTHNy9tPaRx6DCyA3QKrIcuQ7R4=s64",
      "userId": "06399644931392855882"
     },
     "user_tz": 420
    },
    "id": "cju5V5E07-LX",
    "outputId": "44c0d38f-e836-47a5-f123-e729e01f5939",
    "slideshow": {
     "slide_type": "subslide"
    },
    "trusted": false
   },
   "cell_type": "code",
   "source": "# Runtime errors - when the program errors out during runtime because it \n# tries to do something invalid\n\nprint(\"This is an integer: \" + 10)",
   "execution_count": 31,
   "outputs": [
    {
     "ename": "TypeError",
     "evalue": "can only concatenate str (not \"int\") to str",
     "output_type": "error",
     "traceback": [
      "\u001b[0;31m---------------------------------------------------------------------------\u001b[0m",
      "\u001b[0;31mTypeError\u001b[0m                                 Traceback (most recent call last)",
      "\u001b[0;32m<ipython-input-31-7f86610da627>\u001b[0m in \u001b[0;36m<module>\u001b[0;34m\u001b[0m\n\u001b[1;32m      2\u001b[0m \u001b[0;31m# tries to do something invalid\u001b[0m\u001b[0;34m\u001b[0m\u001b[0;34m\u001b[0m\u001b[0;34m\u001b[0m\u001b[0m\n\u001b[1;32m      3\u001b[0m \u001b[0;34m\u001b[0m\u001b[0m\n\u001b[0;32m----> 4\u001b[0;31m \u001b[0mprint\u001b[0m\u001b[0;34m(\u001b[0m\u001b[0;34m\"This is an integer: \"\u001b[0m \u001b[0;34m+\u001b[0m \u001b[0;36m10\u001b[0m\u001b[0;34m)\u001b[0m\u001b[0;34m\u001b[0m\u001b[0;34m\u001b[0m\u001b[0m\n\u001b[0m",
      "\u001b[0;31mTypeError\u001b[0m: can only concatenate str (not \"int\") to str"
     ]
    }
   ]
  },
  {
   "metadata": {
    "colab": {
     "base_uri": "https://localhost:8080/",
     "height": 184
    },
    "execution": {
     "iopub.execute_input": "2022-09-23T00:20:17.131553Z",
     "iopub.status.busy": "2022-09-23T00:20:17.130808Z",
     "iopub.status.idle": "2022-09-23T00:20:17.136569Z",
     "shell.execute_reply": "2022-09-23T00:20:17.137214Z"
    },
    "executionInfo": {
     "elapsed": 562,
     "status": "error",
     "timestamp": 1572391244957,
     "user": {
      "displayName": "Benedict Paten",
      "photoUrl": "https://lh3.googleusercontent.com/a-/AAuE7mBMnWy8dDR7jyTHNy9tPaRx6DCyA3QKrIcuQ7R4=s64",
      "userId": "06399644931392855882"
     },
     "user_tz": 420
    },
    "id": "RVAT7Xbd8Zz0",
    "outputId": "b4efaa97-21f4-4e4e-d109-13b41c661cd7",
    "slideshow": {
     "slide_type": "subslide"
    },
    "trusted": false
   },
   "cell_type": "code",
   "source": "# Runtime errors - when the program errors out during runtime because it \n# tries to do something invalid\n\nassert 1 + 1 == 3",
   "execution_count": 32,
   "outputs": [
    {
     "ename": "AssertionError",
     "evalue": "",
     "output_type": "error",
     "traceback": [
      "\u001b[0;31m---------------------------------------------------------------------------\u001b[0m",
      "\u001b[0;31mAssertionError\u001b[0m                            Traceback (most recent call last)",
      "\u001b[0;32m<ipython-input-32-bef45c20a0c3>\u001b[0m in \u001b[0;36m<module>\u001b[0;34m\u001b[0m\n\u001b[1;32m      2\u001b[0m \u001b[0;31m# tries to do something invalid\u001b[0m\u001b[0;34m\u001b[0m\u001b[0;34m\u001b[0m\u001b[0;34m\u001b[0m\u001b[0m\n\u001b[1;32m      3\u001b[0m \u001b[0;34m\u001b[0m\u001b[0m\n\u001b[0;32m----> 4\u001b[0;31m \u001b[0;32massert\u001b[0m \u001b[0;36m1\u001b[0m \u001b[0;34m+\u001b[0m \u001b[0;36m1\u001b[0m \u001b[0;34m==\u001b[0m \u001b[0;36m3\u001b[0m\u001b[0;34m\u001b[0m\u001b[0;34m\u001b[0m\u001b[0m\n\u001b[0m",
      "\u001b[0;31mAssertionError\u001b[0m: "
     ]
    }
   ]
  },
  {
   "metadata": {
    "id": "dvqXXqtel0H9",
    "slideshow": {
     "slide_type": "slide"
    }
   },
   "cell_type": "markdown",
   "source": "# Semantic Errors (aka Logical Errors)\n\n* when the program runs and exits without error, but produces an unexpected result"
  },
  {
   "metadata": {
    "colab": {
     "base_uri": "https://localhost:8080/"
    },
    "execution": {
     "iopub.execute_input": "2022-09-23T00:20:17.141763Z",
     "iopub.status.busy": "2022-09-23T00:20:17.141052Z",
     "iopub.status.idle": "2022-09-23T00:20:17.147407Z",
     "shell.execute_reply": "2022-09-23T00:20:17.147960Z"
    },
    "executionInfo": {
     "elapsed": 2987,
     "status": "ok",
     "timestamp": 1607888054375,
     "user": {
      "displayName": "Benedict Paten",
      "photoUrl": "https://lh3.googleusercontent.com/a-/AOh14Gh2rYrrH6yoNnUp0Oj4p4ouybc6ZcWGyPmKFtIY=s64",
      "userId": "06399644931392855882"
     },
     "user_tz": 480
    },
    "id": "9PfD2doV86-T",
    "outputId": "4a1ef597-3708-4207-d7ae-9d6e0431e87e",
    "slideshow": {
     "slide_type": "subslide"
    },
    "trusted": false
   },
   "cell_type": "code",
   "source": "# Semantic errors - when the program runs and exits without error, \n# but produces an unexpected result\n\nj = int(input(\"Input a number: \"))\n\nx = 1\nfor i in range(1, j):  # 1,2,3,..., j-1\n    #print(i)\n    x = x * i\n  \nprint(f\"{j} factorial is {x}\")",
   "execution_count": 1,
   "outputs": [
    {
     "output_type": "stream",
     "name": "stdout",
     "text": "Input a number: 4\n4 factorial is 6\n"
    }
   ]
  },
  {
   "metadata": {
    "id": "wjKzpDkN-u2G",
    "slideshow": {
     "slide_type": "fragment"
    }
   },
   "cell_type": "markdown",
   "source": "In my experience \n* syntax errors are easy to fix, \n* runtime errors are generally solvable fast, but \n* semantic errors can take the longest time to fix"
  },
  {
   "metadata": {
    "id": "0Vf2AjO5iWDT",
    "slideshow": {
     "slide_type": "subslide"
    }
   },
   "cell_type": "markdown",
   "source": "**Debug strategies**\n\nTo debug a failing program, you can:\n  * Use print statements dotted around the code to figure out what code is doing at specific points of time (remember to remove / comment these out when you're done!)\n  * Use a debugger - this allows you to step through execution, line-by-line, seeing what the program is up to at each step. (PyCharm has a nice interface to the Python debugger)\n  * Write tests for individual parts of the code\n  * Use assert to check that expected properties are true during runtime\n  * Stare hard at it! Semantic errors will generally require you to question your program's logic."
  },
  {
   "metadata": {
    "id": "kTCPI8MmjdQw",
    "slideshow": {
     "slide_type": "subslide"
    }
   },
   "cell_type": "markdown",
   "source": "# Challenge 4\n\nSee if you can get this to work:"
  },
  {
   "metadata": {
    "colab": {
     "base_uri": "https://localhost:8080/",
     "height": 132
    },
    "execution": {
     "iopub.execute_input": "2022-09-23T00:20:17.153320Z",
     "iopub.status.busy": "2022-09-23T00:20:17.152567Z",
     "iopub.status.idle": "2022-09-23T00:20:17.155231Z",
     "shell.execute_reply": "2022-09-23T00:20:17.155665Z"
    },
    "executionInfo": {
     "elapsed": 814,
     "status": "error",
     "timestamp": 1607888171113,
     "user": {
      "displayName": "Benedict Paten",
      "photoUrl": "https://lh3.googleusercontent.com/a-/AOh14Gh2rYrrH6yoNnUp0Oj4p4ouybc6ZcWGyPmKFtIY=s64",
      "userId": "06399644931392855882"
     },
     "user_tz": 480
    },
    "id": "XOY0DZZD_RW7",
    "outputId": "962bfd47-4c37-49d5-f074-ecb980edc19a",
    "slideshow": {
     "slide_type": "fragment"
    },
    "trusted": false
   },
   "cell_type": "code",
   "source": "# Try debugging the following - a number guessing program\n\nprint(\"Think of a number from 1 to 100\")\nmin = 1\nmax = 100\n\nwhile min < max:\n    i = (min + max) // 2\n    answer = input(f\"Is your number greater than {i}? Type YES or NO: \")\n    assert answer == \"YES\" or answer == \"NO\" # Check the value is what we expect\n  \n    if answer == \"YES\"\n        max = i\n    else\n        max = i\n\nprint(f\"Your number is {min}\")\n  \n  ",
   "execution_count": 4,
   "outputs": [
    {
     "output_type": "stream",
     "text": "Think of a number from 1 to 100\nIs your number greater than 50? Type YES or NO: YES\nIs your number greater than 75? Type YES or NO: NO\nIs your number greater than 63? Type YES or NO: YES\nIs your number greater than 69? Type YES or NO: NO\nIs your number greater than 66? Type YES or NO: YES\nIs your number greater than 68? Type YES or NO: NO\nIs your number greater than 67? Type YES or NO: NO\nYour number is 67\n",
     "name": "stdout"
    }
   ]
  },
  {
   "metadata": {
    "id": "kTCPI8MmjdQw",
    "slideshow": {
     "slide_type": "subslide"
    }
   },
   "cell_type": "markdown",
   "source": "# Challenge 5\n\nSee if you can get this to work:"
  },
  {
   "metadata": {
    "trusted": false
   },
   "cell_type": "code",
   "source": "# Write a function mostFreq that takes in a list\n# and returns the element that occurs most often in the list\n# You could use your count function from the start of class\n\ndef count(list,e): return sum(1 for x in list if x==e)\n\ndef mostFreq(list):\n    mostCommonElem = None\n    mostCommonCount = 0\n    for x in list:             \n        countX = count(list,x) \n        if ...\n        \n    return mostCommonElem\n\nprint(mostFreq(\"a man a plan a canal panama\"))\nprint(mostFreq([ 1,2,3,2]))\n\n# Alternatively, code up mostFreq using a dictionary to\n# avoid traversing the list multiple times\n\ndef mostFreqFast(list):\n    d = {}\n    for x in list:\n        if x in d:\n            d[x] = d[x] +1\n        else \n            d[x] = 1\n    # have a dictionary            \n    # find key that maps to maximum value\n    ...\n    \npass\n\n",
   "execution_count": 6,
   "outputs": [
    {
     "output_type": "stream",
     "text": "a\n2\n",
     "name": "stdout"
    }
   ]
  },
  {
   "metadata": {
    "id": "KZP9y5sgyVm8",
    "slideshow": {
     "slide_type": "slide"
    }
   },
   "cell_type": "markdown",
   "source": "# Homework\n\n* ZyBook Reading 10\n* Open book chapter 12: http://openbookproject.net/thinkcs/python/english3e/modules.html\n\n"
  }
 ],
 "metadata": {
  "celltoolbar": "Slideshow",
  "colab": {
   "collapsed_sections": [],
   "name": "L10 Modules.ipynb",
   "provenance": []
  },
  "kernelspec": {
   "name": "python3",
   "display_name": "Python 3",
   "language": "python"
  },
  "language_info": {
   "name": "python",
   "version": "3.10.4",
   "mimetype": "text/x-python",
   "codemirror_mode": {
    "name": "ipython",
    "version": 3
   },
   "pygments_lexer": "ipython3",
   "nbconvert_exporter": "python",
   "file_extension": ".py"
  }
 },
 "nbformat": 4,
 "nbformat_minor": 1
}