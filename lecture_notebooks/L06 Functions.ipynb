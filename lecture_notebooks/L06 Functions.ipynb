{
 "cells": [
  {
   "metadata": {
    "id": "V7DbjYGNM1I6",
    "slideshow": {
     "slide_type": "slide"
    }
   },
   "cell_type": "markdown",
   "source": "# Lecture 6 - Functions \n# Warm-Up Challenge 1"
  },
  {
   "metadata": {
    "slideshow": {
     "slide_type": "fragment"
    },
    "trusted": true
   },
   "cell_type": "code",
   "source": "# Print the cube of each number from 1 to 10\n\n",
   "execution_count": 3,
   "outputs": []
  },
  {
   "metadata": {
    "id": "V7DbjYGNM1I6",
    "slideshow": {
     "slide_type": "slide"
    }
   },
   "cell_type": "markdown",
   "source": "# Warm-Up Challenge 2"
  },
  {
   "metadata": {
    "slideshow": {
     "slide_type": "fragment"
    },
    "trusted": true
   },
   "cell_type": "code",
   "source": "# Print an exponent table like the one below, \n# showing the squares, cubes, and 4-powers\n# of each number from 1 to 10\n\n",
   "execution_count": 2,
   "outputs": [
    {
     "output_type": "stream",
     "text": "       1       1       1       1\n       2       4       8      16\n       3       9      27      81\n       4      16      64     256\n       5      25     125     625\n       6      36     216    1296\n       7      49     343    2401\n       8      64     512    4096\n       9      81     729    6561\n      10     100    1000   10000\n",
     "name": "stdout"
    }
   ]
  },
  {
   "metadata": {
    "trusted": true
   },
   "cell_type": "code",
   "source": "# In Math: f(x) = x**2 + 2*x + 1\ndef f(x):\n    return x**2 + 2*x + 1\n\nprint( f(3) )",
   "execution_count": 5,
   "outputs": [
    {
     "output_type": "stream",
     "text": "16\n",
     "name": "stdout"
    }
   ]
  },
  {
   "metadata": {
    "id": "V7DbjYGNM1I6",
    "slideshow": {
     "slide_type": "slide"
    }
   },
   "cell_type": "markdown",
   "source": "# Functions in Math & Python"
  },
  {
   "metadata": {
    "id": "BleZjMKkcxW_",
    "slideshow": {
     "slide_type": "slide"
    }
   },
   "cell_type": "markdown",
   "source": "# Functions in Python\n\nA function in Python is like a mini program that takes inputs, executes some code and then (potentially) returns some value. \n\nThey are very convenient for organizing and structuring programs."
  },
  {
   "metadata": {
    "colab": {
     "base_uri": "https://localhost:8080/"
    },
    "execution": {
     "iopub.execute_input": "2022-09-23T00:20:08.613270Z",
     "iopub.status.busy": "2022-09-23T00:20:08.612184Z",
     "iopub.status.idle": "2022-09-23T00:20:08.697496Z",
     "shell.execute_reply": "2022-09-23T00:20:08.696758Z"
    },
    "executionInfo": {
     "elapsed": 3677,
     "status": "ok",
     "timestamp": 1607566707014,
     "user": {
      "displayName": "Benedict Paten",
      "photoUrl": "https://lh3.googleusercontent.com/a-/AOh14Gh2rYrrH6yoNnUp0Oj4p4ouybc6ZcWGyPmKFtIY=s64",
      "userId": "06399644931392855882"
     },
     "user_tz": 480
    },
    "id": "MB7Bm9u8cxXA",
    "outputId": "287c43d9-7cd7-46d1-e46a-4855deda3803",
    "slideshow": {
     "slide_type": "fragment"
    },
    "trusted": true
   },
   "cell_type": "code",
   "source": "# In Math, you might write: f(x) = x**2 + 2*x + 1\n# In Python ...\n\ndef f(x):\n    return x**2 + 2*x + 1\n\nz = f(3)\nprint(z)",
   "execution_count": 7,
   "outputs": [
    {
     "output_type": "stream",
     "text": "16\n",
     "name": "stdout"
    }
   ]
  },
  {
   "metadata": {
    "id": "BleZjMKkcxW_",
    "slideshow": {
     "slide_type": "slide"
    }
   },
   "cell_type": "markdown",
   "source": "# Execution Model for Functions\n\nA function in Python is like a mini program that takes inputs, executes some code and then (potentially) returns some value. \n\nThey are very convenient for organizing and structuring programs."
  },
  {
   "metadata": {
    "colab": {
     "base_uri": "https://localhost:8080/"
    },
    "execution": {
     "iopub.execute_input": "2022-09-23T00:20:08.613270Z",
     "iopub.status.busy": "2022-09-23T00:20:08.612184Z",
     "iopub.status.idle": "2022-09-23T00:20:08.697496Z",
     "shell.execute_reply": "2022-09-23T00:20:08.696758Z"
    },
    "executionInfo": {
     "elapsed": 3677,
     "status": "ok",
     "timestamp": 1607566707014,
     "user": {
      "displayName": "Benedict Paten",
      "photoUrl": "https://lh3.googleusercontent.com/a-/AOh14Gh2rYrrH6yoNnUp0Oj4p4ouybc6ZcWGyPmKFtIY=s64",
      "userId": "06399644931392855882"
     },
     "user_tz": 480
    },
    "id": "MB7Bm9u8cxXA",
    "outputId": "287c43d9-7cd7-46d1-e46a-4855deda3803",
    "slideshow": {
     "slide_type": "fragment"
    },
    "trusted": true
   },
   "cell_type": "code",
   "source": "def f(x):\n    print(f\"Calculating f({x})\")\n    r = x**2 + 2*x + 1\n    print(f\"Returning f({x}) is {r}\")\n    return r\n\n\n\nz =        f(3)\n\nprint(z)",
   "execution_count": 10,
   "outputs": [
    {
     "output_type": "stream",
     "text": "Calculating f(3)\nReturning f(3) is 16\n16\n",
     "name": "stdout"
    }
   ]
  },
  {
   "metadata": {
    "id": "BleZjMKkcxW_",
    "slideshow": {
     "slide_type": "slide"
    }
   },
   "cell_type": "markdown",
   "source": "# General Syntax for Function Definitions & Calls\n"
  },
  {
   "metadata": {
    "id": "QyhLzw5mq_ER",
    "slideshow": {
     "slide_type": "slide"
    }
   },
   "cell_type": "markdown",
   "source": "# Docstrings"
  },
  {
   "metadata": {
    "id": "g7GWkgwBxw7N",
    "slideshow": {
     "slide_type": "fragment"
    }
   },
   "cell_type": "markdown",
   "source": "A docstring is any string literal that occurs \nas the first statement  in a function definition."
  },
  {
   "metadata": {
    "colab": {
     "base_uri": "https://localhost:8080/"
    },
    "execution": {
     "iopub.execute_input": "2022-09-23T00:20:08.831380Z",
     "iopub.status.busy": "2022-09-23T00:20:08.830356Z",
     "iopub.status.idle": "2022-09-23T00:20:08.833841Z",
     "shell.execute_reply": "2022-09-23T00:20:08.834508Z"
    },
    "executionInfo": {
     "elapsed": 650,
     "status": "ok",
     "timestamp": 1607626625227,
     "user": {
      "displayName": "Benedict Paten",
      "photoUrl": "https://lh3.googleusercontent.com/a-/AOh14Gh2rYrrH6yoNnUp0Oj4p4ouybc6ZcWGyPmKFtIY=s64",
      "userId": "06399644931392855882"
     },
     "user_tz": 480
    },
    "id": "eJaBewuFPwMG",
    "outputId": "8dd973f1-e4dd-4179-b3cd-8592e87468d5",
    "slideshow": {
     "slide_type": "fragment"
    },
    "trusted": false
   },
   "cell_type": "code",
   "source": "# Docstrings are a way to document what a function does - \n# they are a (generally triple quoted)\n# string that occurs immediately after the def line.\n\n# Adding a docstring to your functions is a good convention, \n# they are also parsed by documentation building tools\n\ndef printList(lst):\n  \"\"\"\n  Function that prints the strings in a list of strings\n  (this is a docstring)\n  \"\"\"\n  for x in lst:\n    print(x)\n\nhelp(printList) # Calling \"help\" prints the docstring",
   "execution_count": 9,
   "outputs": [
    {
     "output_type": "stream",
     "text": "Help on function printList in module __main__:\n\nprintList(lst)\n    Function that prints the strings in a list of strings\n    (this is a docstring)\n\n",
     "name": "stdout"
    }
   ]
  },
  {
   "metadata": {
    "slideshow": {
     "slide_type": "slide"
    }
   },
   "cell_type": "markdown",
   "source": "# Challenge 1"
  },
  {
   "metadata": {
    "slideshow": {
     "slide_type": "fragment"
    },
    "trusted": true
   },
   "cell_type": "code",
   "source": "def abs(x):\n    \"Returns the absolute value of its argument\"\n    ...\n    \nprint(abs(-4))\nprint(abs(0))\nprint(abs(4))",
   "execution_count": 11,
   "outputs": [
    {
     "output_type": "stream",
     "text": "4\n0\n4\n",
     "name": "stdout"
    }
   ]
  },
  {
   "metadata": {
    "slideshow": {
     "slide_type": "slide"
    }
   },
   "cell_type": "markdown",
   "source": "# Challenge 2"
  },
  {
   "metadata": {
    "slideshow": {
     "slide_type": "fragment"
    },
    "trusted": false
   },
   "cell_type": "code",
   "source": "def max(x,y):\n    \"\"\"\n    Returns the larger of its two arguments\n    \"\"\"\n\n    ...\n    \nprint(max(3,5))\nprint(max(8,5))",
   "execution_count": 6,
   "outputs": [
    {
     "output_type": "stream",
     "text": "5\n8\n",
     "name": "stdout"
    }
   ]
  },
  {
   "metadata": {
    "slideshow": {
     "slide_type": "slide"
    }
   },
   "cell_type": "markdown",
   "source": "# Challenge 3"
  },
  {
   "metadata": {
    "slideshow": {
     "slide_type": "fragment"
    },
    "trusted": true
   },
   "cell_type": "code",
   "source": "def min(x,y):\n    \"\"\"\n    Returns the smaller of its two arguments\n    \"\"\"\n    return (x if x<y else y)\n\nz = min(5,3)\nprint(z)",
   "execution_count": 13,
   "outputs": [
    {
     "output_type": "stream",
     "text": "3\n",
     "name": "stdout"
    }
   ]
  },
  {
   "metadata": {
    "slideshow": {
     "slide_type": "slide"
    }
   },
   "cell_type": "markdown",
   "source": "# Example "
  },
  {
   "metadata": {
    "slideshow": {
     "slide_type": "slide"
    },
    "trusted": false
   },
   "cell_type": "code",
   "source": "def contains(x,l):\n    \"Returns True iff the list l contains x\"\n    ...\n\ncontains('c', ['b','c','a'])",
   "execution_count": 1,
   "outputs": [
    {
     "output_type": "execute_result",
     "execution_count": 1,
     "data": {
      "text/plain": "True"
     },
     "metadata": {}
    }
   ]
  },
  {
   "metadata": {
    "id": "Vyrs7TNsOvzK",
    "slideshow": {
     "slide_type": "slide"
    }
   },
   "cell_type": "markdown",
   "source": "  # Return values are optional\n\n\n  \nFunctions often return a value, but do not have to. \n\nThe following example shows a function that does not return a value; instead it only prints its argument list.\n\nIt is important to understand that printing to the screen is not the same as returning a value.\n"
  },
  {
   "metadata": {
    "colab": {
     "base_uri": "https://localhost:8080/"
    },
    "execution": {
     "iopub.execute_input": "2022-09-23T00:20:08.820816Z",
     "iopub.status.busy": "2022-09-23T00:20:08.819568Z",
     "iopub.status.idle": "2022-09-23T00:20:08.823399Z",
     "shell.execute_reply": "2022-09-23T00:20:08.824150Z"
    },
    "executionInfo": {
     "elapsed": 556,
     "status": "ok",
     "timestamp": 1607624793283,
     "user": {
      "displayName": "Benedict Paten",
      "photoUrl": "https://lh3.googleusercontent.com/a-/AOh14Gh2rYrrH6yoNnUp0Oj4p4ouybc6ZcWGyPmKFtIY=s64",
      "userId": "06399644931392855882"
     },
     "user_tz": 480
    },
    "id": "JHfKfNJlAXfg",
    "outputId": "4e71ff1c-3f4c-4f0e-a9d0-5c6719c9b28d",
    "slideshow": {
     "slide_type": "fragment"
    },
    "trusted": false
   },
   "cell_type": "code",
   "source": "def printList(lst):\n    \"Print all the elements in the list\"\n    for x in lst:\n        print(x)\n    \n\nr = printList([ \"a\", \"list\", \"of\", \"strings\"])\nprint(\"---\")\n\nprint(r)\n",
   "execution_count": 8,
   "outputs": [
    {
     "output_type": "stream",
     "text": "a\nlist\nof\nstrings\n---\nNone\n",
     "name": "stdout"
    }
   ]
  },
  {
   "metadata": {
    "slideshow": {
     "slide_type": "subslide"
    }
   },
   "cell_type": "markdown",
   "source": "# Challenge 4"
  },
  {
   "metadata": {
    "execution": {
     "iopub.execute_input": "2022-09-23T00:20:08.879757Z",
     "iopub.status.busy": "2022-09-23T00:20:08.878774Z",
     "iopub.status.idle": "2022-09-23T00:20:08.881295Z",
     "shell.execute_reply": "2022-09-23T00:20:08.881979Z"
    },
    "slideshow": {
     "slide_type": "fragment"
    },
    "trusted": false
   },
   "cell_type": "code",
   "source": "# Complete the following function by replacing the pass statements\n\ndef find(l, x):\n    \"\"\"Finds the index of the first occurrence of x \n    in the list l otherwise returns -1 if x is not in l\"\"\"\n    j = 0\n    for i in l:\n        if i == x:\n            pass\n        j += 1\n    pass\n\nfind([2, 3, 5, 4, 5 ], 5) # Should return 2\nfind([2, 3, 5, 4, 5 ], 9) # Should return -1",
   "execution_count": 15,
   "outputs": []
  },
  {
   "metadata": {
    "id": "uPaf3G1p_Bhg",
    "slideshow": {
     "slide_type": "slide"
    }
   },
   "cell_type": "markdown",
   "source": "# None\n\nIf you define a function that does not return anything then the return value is None"
  },
  {
   "metadata": {
    "colab": {
     "base_uri": "https://localhost:8080/"
    },
    "execution": {
     "iopub.execute_input": "2022-09-23T00:20:08.888395Z",
     "iopub.status.busy": "2022-09-23T00:20:08.887418Z",
     "iopub.status.idle": "2022-09-23T00:20:08.890810Z",
     "shell.execute_reply": "2022-09-23T00:20:08.891474Z"
    },
    "executionInfo": {
     "elapsed": 545,
     "status": "ok",
     "timestamp": 1607626352205,
     "user": {
      "displayName": "Benedict Paten",
      "photoUrl": "https://lh3.googleusercontent.com/a-/AOh14Gh2rYrrH6yoNnUp0Oj4p4ouybc6ZcWGyPmKFtIY=s64",
      "userId": "06399644931392855882"
     },
     "user_tz": 480
    },
    "id": "oMBiJrg1_GRY",
    "outputId": "a8e1449c-7bf5-4045-e2cc-9353a0ee1fc6",
    "slideshow": {
     "slide_type": "fragment"
    },
    "trusted": false
   },
   "cell_type": "code",
   "source": "def printList(list):\n  for y in list:\n    print(y)\n\nx = printList([ \"a\", \"list\", \"of\", \"strings\"])\n\n# What is the value of x?",
   "execution_count": 3,
   "outputs": [
    {
     "output_type": "stream",
     "text": "a\nlist\nof\nstrings\n",
     "name": "stdout"
    }
   ]
  },
  {
   "metadata": {
    "colab": {
     "base_uri": "https://localhost:8080/"
    },
    "execution": {
     "iopub.execute_input": "2022-09-23T00:20:08.897098Z",
     "iopub.status.busy": "2022-09-23T00:20:08.896140Z",
     "iopub.status.idle": "2022-09-23T00:20:08.899313Z",
     "shell.execute_reply": "2022-09-23T00:20:08.900272Z"
    },
    "executionInfo": {
     "elapsed": 370,
     "status": "ok",
     "timestamp": 1607626362676,
     "user": {
      "displayName": "Benedict Paten",
      "photoUrl": "https://lh3.googleusercontent.com/a-/AOh14Gh2rYrrH6yoNnUp0Oj4p4ouybc6ZcWGyPmKFtIY=s64",
      "userId": "06399644931392855882"
     },
     "user_tz": 480
    },
    "id": "TKPzy6y1_3a9",
    "outputId": "46f997b7-d0b1-4bdb-c3a6-fd6440777b2c",
    "slideshow": {
     "slide_type": "fragment"
    },
    "trusted": false
   },
   "cell_type": "code",
   "source": "print(x)",
   "execution_count": 17,
   "outputs": [
    {
     "name": "stdout",
     "output_type": "stream",
     "text": "None\n"
    }
   ]
  },
  {
   "metadata": {
    "colab": {
     "base_uri": "https://localhost:8080/"
    },
    "execution": {
     "iopub.execute_input": "2022-09-23T00:20:08.905309Z",
     "iopub.status.busy": "2022-09-23T00:20:08.904407Z",
     "iopub.status.idle": "2022-09-23T00:20:08.908267Z",
     "shell.execute_reply": "2022-09-23T00:20:08.907665Z"
    },
    "executionInfo": {
     "elapsed": 749,
     "status": "ok",
     "timestamp": 1607626503535,
     "user": {
      "displayName": "Benedict Paten",
      "photoUrl": "https://lh3.googleusercontent.com/a-/AOh14Gh2rYrrH6yoNnUp0Oj4p4ouybc6ZcWGyPmKFtIY=s64",
      "userId": "06399644931392855882"
     },
     "user_tz": 480
    },
    "id": "2b-a8vneAZPu",
    "outputId": "045a1403-b7df-4599-fc8d-bddbf51311b9",
    "slideshow": {
     "slide_type": "fragment"
    },
    "trusted": false
   },
   "cell_type": "code",
   "source": "type(x)",
   "execution_count": 18,
   "outputs": [
    {
     "data": {
      "text/plain": "NoneType"
     },
     "execution_count": 18,
     "metadata": {},
     "output_type": "execute_result"
    }
   ]
  },
  {
   "metadata": {
    "colab": {
     "base_uri": "https://localhost:8080/"
    },
    "execution": {
     "iopub.execute_input": "2022-09-23T00:20:08.913638Z",
     "iopub.status.busy": "2022-09-23T00:20:08.912651Z",
     "iopub.status.idle": "2022-09-23T00:20:08.915915Z",
     "shell.execute_reply": "2022-09-23T00:20:08.916601Z"
    },
    "executionInfo": {
     "elapsed": 465,
     "status": "ok",
     "timestamp": 1607626438004,
     "user": {
      "displayName": "Benedict Paten",
      "photoUrl": "https://lh3.googleusercontent.com/a-/AOh14Gh2rYrrH6yoNnUp0Oj4p4ouybc6ZcWGyPmKFtIY=s64",
      "userId": "06399644931392855882"
     },
     "user_tz": 480
    },
    "id": "ZayhDMVIAJPt",
    "outputId": "75060951-631b-46e9-e268-59356775508f",
    "slideshow": {
     "slide_type": "fragment"
    },
    "trusted": false
   },
   "cell_type": "code",
   "source": "# It is not True \n\nx == True",
   "execution_count": 19,
   "outputs": [
    {
     "data": {
      "text/plain": "False"
     },
     "execution_count": 19,
     "metadata": {},
     "output_type": "execute_result"
    }
   ]
  },
  {
   "metadata": {
    "colab": {
     "base_uri": "https://localhost:8080/"
    },
    "execution": {
     "iopub.execute_input": "2022-09-23T00:20:08.920845Z",
     "iopub.status.busy": "2022-09-23T00:20:08.920199Z",
     "iopub.status.idle": "2022-09-23T00:20:08.923289Z",
     "shell.execute_reply": "2022-09-23T00:20:08.923817Z"
    },
    "executionInfo": {
     "elapsed": 413,
     "status": "ok",
     "timestamp": 1607626450435,
     "user": {
      "displayName": "Benedict Paten",
      "photoUrl": "https://lh3.googleusercontent.com/a-/AOh14Gh2rYrrH6yoNnUp0Oj4p4ouybc6ZcWGyPmKFtIY=s64",
      "userId": "06399644931392855882"
     },
     "user_tz": 480
    },
    "id": "ht8A7NLUAMh0",
    "outputId": "deba70c1-81e3-4b99-962c-b778429593f7",
    "slideshow": {
     "slide_type": "fragment"
    },
    "trusted": false
   },
   "cell_type": "code",
   "source": "# And it is not False either, it is just \"None\"\nx == False",
   "execution_count": 20,
   "outputs": [
    {
     "data": {
      "text/plain": "False"
     },
     "execution_count": 20,
     "metadata": {},
     "output_type": "execute_result"
    }
   ]
  },
  {
   "metadata": {
    "id": "pj_RWnvmAitH",
    "slideshow": {
     "slide_type": "subslide"
    }
   },
   "cell_type": "markdown",
   "source": "If you really like you can explicitly use None:"
  },
  {
   "metadata": {
    "execution": {
     "iopub.execute_input": "2022-09-23T00:20:08.928633Z",
     "iopub.status.busy": "2022-09-23T00:20:08.927930Z",
     "iopub.status.idle": "2022-09-23T00:20:08.930597Z",
     "shell.execute_reply": "2022-09-23T00:20:08.931132Z"
    },
    "id": "4z408CB9_8gM",
    "slideshow": {
     "slide_type": "fragment"
    },
    "trusted": false
   },
   "cell_type": "code",
   "source": "# This is the same as the previous definition, it's just now we explicitly define\n# the return value, whereas this was implicit previously:\n\ndef printList(list):\n  for y in list:\n    print(y)\n  return None",
   "execution_count": 4,
   "outputs": []
  },
  {
   "metadata": {
    "id": "YWe5_kABBOqp",
    "slideshow": {
     "slide_type": "fragment"
    }
   },
   "cell_type": "markdown",
   "source": "Similarly if you just specify return without a return value the returned value is None:"
  },
  {
   "metadata": {
    "execution": {
     "iopub.execute_input": "2022-09-23T00:20:08.935875Z",
     "iopub.status.busy": "2022-09-23T00:20:08.935041Z",
     "iopub.status.idle": "2022-09-23T00:20:08.937357Z",
     "shell.execute_reply": "2022-09-23T00:20:08.937965Z"
    },
    "id": "SZIJ_UM_BUve",
    "slideshow": {
     "slide_type": "fragment"
    },
    "trusted": false
   },
   "cell_type": "code",
   "source": "def printList(list):\n  for y in list:\n    print(y)\n  return # This returns None",
   "execution_count": 5,
   "outputs": []
  },
  {
   "metadata": {
    "slideshow": {
     "slide_type": "subslide"
    }
   },
   "cell_type": "markdown",
   "source": "# Challenge 5: Returning values vs Printing values"
  },
  {
   "metadata": {
    "id": "QyhLzw5mq_ER",
    "slideshow": {
     "slide_type": "slide"
    }
   },
   "cell_type": "markdown",
   "source": "# Docstrings"
  },
  {
   "metadata": {
    "id": "g7GWkgwBxw7N",
    "slideshow": {
     "slide_type": "fragment"
    }
   },
   "cell_type": "markdown",
   "source": "A docstring is any string literal that occurs \nas the first statement  in a function definition."
  },
  {
   "metadata": {
    "colab": {
     "base_uri": "https://localhost:8080/"
    },
    "execution": {
     "iopub.execute_input": "2022-09-23T00:20:08.831380Z",
     "iopub.status.busy": "2022-09-23T00:20:08.830356Z",
     "iopub.status.idle": "2022-09-23T00:20:08.833841Z",
     "shell.execute_reply": "2022-09-23T00:20:08.834508Z"
    },
    "executionInfo": {
     "elapsed": 650,
     "status": "ok",
     "timestamp": 1607626625227,
     "user": {
      "displayName": "Benedict Paten",
      "photoUrl": "https://lh3.googleusercontent.com/a-/AOh14Gh2rYrrH6yoNnUp0Oj4p4ouybc6ZcWGyPmKFtIY=s64",
      "userId": "06399644931392855882"
     },
     "user_tz": 480
    },
    "id": "eJaBewuFPwMG",
    "outputId": "8dd973f1-e4dd-4179-b3cd-8592e87468d5",
    "slideshow": {
     "slide_type": "fragment"
    },
    "trusted": false
   },
   "cell_type": "code",
   "source": "# Docstrings are a way to document what a function does - \n# they are a (generally triple quoted)\n# string that occurs immediately after the def line.\n\n# Adding a docstring to your functions is a good convention, \n# they are also parsed by documentation building tools\n\ndef printList(lst):\n  \"\"\"\n  Function that prints the strings in a list of strings\n  (this is a docstring)\n  \"\"\"\n  for x in lst:\n    print(x)\n\nhelp(printList) # Calling \"help\" prints the docstring",
   "execution_count": 9,
   "outputs": [
    {
     "output_type": "stream",
     "text": "Help on function printList in module __main__:\n\nprintList(lst)\n    Function that prints the strings in a list of strings\n    (this is a docstring)\n\n",
     "name": "stdout"
    }
   ]
  },
  {
   "metadata": {
    "execution": {
     "iopub.execute_input": "2022-09-23T00:20:08.942674Z",
     "iopub.status.busy": "2022-09-23T00:20:08.941770Z",
     "iopub.status.idle": "2022-09-23T00:20:08.944391Z",
     "shell.execute_reply": "2022-09-23T00:20:08.944860Z"
    },
    "slideshow": {
     "slide_type": "fragment"
    },
    "trusted": true
   },
   "cell_type": "code",
   "source": "# 1. Write a function \"convert_grams_to_ounces\" which takes a weight in grams \n# and returns the weight in ounces.  It should not print to the screen.\n# Note: There are ~28.3495 grams in an ounce. Do not return a value\n\ndef convert_grams_to_ounces(g1):\n    ...\n\nx = convert_grams_to_ounces(28)\nprint(x)",
   "execution_count": 15,
   "outputs": [
    {
     "output_type": "stream",
     "text": "0.9876717402423324\n",
     "name": "stdout"
    }
   ]
  },
  {
   "metadata": {
    "execution": {
     "iopub.execute_input": "2022-09-23T00:20:08.942674Z",
     "iopub.status.busy": "2022-09-23T00:20:08.941770Z",
     "iopub.status.idle": "2022-09-23T00:20:08.944391Z",
     "shell.execute_reply": "2022-09-23T00:20:08.944860Z"
    },
    "slideshow": {
     "slide_type": "fragment"
    },
    "trusted": true
   },
   "cell_type": "code",
   "source": "# 2. Write a function \"print_ounces\" that takes a weight in grams and prints the weight\n# in ounces. \n\ndef print_ounces(g2):\n    ...\n\nprint_ounces(28)",
   "execution_count": 16,
   "outputs": [
    {
     "output_type": "stream",
     "text": "0.9876717402423324\n",
     "name": "stdout"
    }
   ]
  },
  {
   "metadata": {
    "id": "WNwWbM6DeG3A",
    "slideshow": {
     "slide_type": "slide"
    }
   },
   "cell_type": "markdown",
   "source": "# Functions can call other functions"
  },
  {
   "metadata": {
    "colab": {
     "base_uri": "https://localhost:8080/"
    },
    "execution": {
     "iopub.execute_input": "2022-09-23T00:20:08.976384Z",
     "iopub.status.busy": "2022-09-23T00:20:08.975386Z",
     "iopub.status.idle": "2022-09-23T00:20:08.979623Z",
     "shell.execute_reply": "2022-09-23T00:20:08.978976Z"
    },
    "executionInfo": {
     "elapsed": 425,
     "status": "ok",
     "timestamp": 1607627988180,
     "user": {
      "displayName": "Benedict Paten",
      "photoUrl": "https://lh3.googleusercontent.com/a-/AOh14Gh2rYrrH6yoNnUp0Oj4p4ouybc6ZcWGyPmKFtIY=s64",
      "userId": "06399644931392855882"
     },
     "user_tz": 480
    },
    "id": "7tZm0iV4eTFJ",
    "outputId": "fc685424-c0d3-4127-a651-ca4ed199040d",
    "slideshow": {
     "slide_type": "fragment"
    },
    "trusted": true
   },
   "cell_type": "code",
   "source": "# The last challenge had repeated code, the division by 28.3495\n# We can avoid that repetition by having one function call another\n\ndef convert_grams_to_ounces(g1):\n    return g1 / 28.3495\n\n\n\ndef print_ounces(g2):\n    print(   convert_grams_to_ounces(g2)   )\n    \n    \nprint_ounces( 28 )",
   "execution_count": 18,
   "outputs": [
    {
     "output_type": "stream",
     "text": "0.9876717402423324\n",
     "name": "stdout"
    }
   ]
  },
  {
   "metadata": {
    "id": "8zEfBmSlGbaf",
    "slideshow": {
     "slide_type": "slide"
    }
   },
   "cell_type": "markdown",
   "source": "# Challenge"
  },
  {
   "metadata": {
    "trusted": true
   },
   "cell_type": "code",
   "source": "# Here's an interesting take on arithmetic primitives\n\ndef add(x,y): # compute           x +1 +1 ... (y times)\n    for i in range(y):\n        ...\n    return x\n\ndef mul(x,y): # do not use * or +, use  0 +x +x ... (y times), calling add\n    sum = 0\n    for i in range(y):\n        ...\n    return sum\n\ndef exp(x,y): # do not use **, use 1 *x *x ... (y times)\n    r = 1\n    for i in range(y):\n        ...\n    return r\n\n\nprint(add(3,5))\nprint(mul(2,3))\nprint(exp(2,10))   # 1024\n",
   "execution_count": 19,
   "outputs": [
    {
     "output_type": "stream",
     "text": "8\n6\n1024\n",
     "name": "stdout"
    }
   ]
  },
  {
   "metadata": {
    "id": "L8o5zkQjNHMU",
    "slideshow": {
     "slide_type": "slide"
    }
   },
   "cell_type": "markdown",
   "source": "# Homework\n\n* Zybook Reading 6\n* Open book Chapter 4: http://openbookproject.net/thinkcs/python/english3e/functions.html\n"
  }
 ],
 "metadata": {
  "celltoolbar": "Slideshow",
  "colab": {
   "collapsed_sections": [
    "V7DbjYGNM1I6"
   ],
   "name": "L06 Functions.ipynb",
   "provenance": []
  },
  "kernelspec": {
   "name": "python3",
   "display_name": "Python 3",
   "language": "python"
  },
  "language_info": {
   "name": "python",
   "version": "3.10.4",
   "mimetype": "text/x-python",
   "codemirror_mode": {
    "name": "ipython",
    "version": 3
   },
   "pygments_lexer": "ipython3",
   "nbconvert_exporter": "python",
   "file_extension": ".py"
  }
 },
 "nbformat": 4,
 "nbformat_minor": 1
}