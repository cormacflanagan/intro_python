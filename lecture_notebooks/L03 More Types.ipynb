{
 "cells": [
  {
   "metadata": {
    "id": "S4CkZnM_4FvB",
    "slideshow": {
     "slide_type": "slide"
    }
   },
   "cell_type": "markdown",
   "source": "# Lecture 3 - More Types \n\n"
  },
  {
   "metadata": {
    "id": "S4CkZnM_4FvB",
    "slideshow": {
     "slide_type": "slide"
    }
   },
   "cell_type": "markdown",
   "source": "# Lecture 3 - More Types \n\n# Warm-Up Challenge"
  },
  {
   "metadata": {
    "colab": {
     "base_uri": "https://localhost:8080/",
     "height": 34
    },
    "execution": {
     "iopub.execute_input": "2022-09-23T00:20:03.537432Z",
     "iopub.status.busy": "2022-09-23T00:20:03.536580Z",
     "iopub.status.idle": "2022-09-23T00:20:03.540165Z",
     "shell.execute_reply": "2022-09-23T00:20:03.540692Z"
    },
    "executionInfo": {
     "elapsed": 693,
     "status": "ok",
     "timestamp": 1554323886402,
     "user": {
      "displayName": "Benedict Paten",
      "photoUrl": "https://lh6.googleusercontent.com/-KEXp34y2Ra8/AAAAAAAAAAI/AAAAAAAAAHs/xzPsOsCpcaU/s64/photo.jpg",
      "userId": "06399644931392855882"
     },
     "user_tz": 420
    },
    "id": "13L6yoJ2f5_F",
    "outputId": "17e82f98-e82e-4f31-e2a0-3bc2c856471c",
    "slideshow": {
     "slide_type": "fragment"
    },
    "trusted": false
   },
   "cell_type": "code",
   "source": "# Remove all redundant (ie unnecessary) parentheses \n# from the following expressions\n\nprint(   (   (2+3) ** (4*2)  )   <  (7*2)   ) \nprint(  5-(2-2) )\n\nprint(  (4 < ( 3+3 )) and (not (3 > 1)) )",
   "execution_count": 3,
   "outputs": [
    {
     "output_type": "stream",
     "text": "False\n5\nFalse\n",
     "name": "stdout"
    }
   ]
  },
  {
   "metadata": {
    "id": "odfPyGzkdUIJ",
    "slideshow": {
     "slide_type": "slide"
    }
   },
   "cell_type": "markdown",
   "source": "# More Strings\n\nIn Python3.0 strings are sequences of symbols from an alphabet called Unicode: https://unicode.org/ \n\n* Unicode allows a very wide range of symbols for many languages and encodings. \n* Python used to use ASCII (http://www.asciitable.com/), which is a much smaller alphabet."
  },
  {
   "metadata": {
    "slideshow": {
     "slide_type": "slide"
    }
   },
   "cell_type": "markdown",
   "source": "# String Syntax"
  },
  {
   "metadata": {
    "colab": {
     "base_uri": "https://localhost:8080/",
     "height": 34
    },
    "execution": {
     "iopub.execute_input": "2022-09-23T00:20:03.526743Z",
     "iopub.status.busy": "2022-09-23T00:20:03.525567Z",
     "iopub.status.idle": "2022-09-23T00:20:03.530049Z",
     "shell.execute_reply": "2022-09-23T00:20:03.530717Z"
    },
    "executionInfo": {
     "elapsed": 584,
     "status": "ok",
     "timestamp": 1569539469038,
     "user": {
      "displayName": "Benedict Paten",
      "photoUrl": "",
      "userId": "02468802669323291213"
     },
     "user_tz": 420
    },
    "id": "z5hWOCXYcrFt",
    "outputId": "694e6e4c-17e5-429d-d48a-8bc0552cff97",
    "slideshow": {
     "slide_type": "fragment"
    },
    "trusted": true
   },
   "cell_type": "code",
   "source": "# Strings can be expressed a bunch of ways:\n\ntype('hello') # Single quotes",
   "execution_count": 2,
   "outputs": [
    {
     "output_type": "execute_result",
     "execution_count": 2,
     "data": {
      "text/plain": "str"
     },
     "metadata": {}
    }
   ]
  },
  {
   "metadata": {
    "trusted": true
   },
   "cell_type": "code",
   "source": "'hello'",
   "execution_count": 3,
   "outputs": [
    {
     "output_type": "execute_result",
     "execution_count": 3,
     "data": {
      "text/plain": "'hello'"
     },
     "metadata": {}
    }
   ]
  },
  {
   "metadata": {
    "trusted": true
   },
   "cell_type": "code",
   "source": "print('hello')",
   "execution_count": 4,
   "outputs": [
    {
     "output_type": "stream",
     "text": "hello\n",
     "name": "stdout"
    }
   ]
  },
  {
   "metadata": {
    "colab": {
     "base_uri": "https://localhost:8080/",
     "height": 34
    },
    "execution": {
     "iopub.execute_input": "2022-09-23T00:20:03.537432Z",
     "iopub.status.busy": "2022-09-23T00:20:03.536580Z",
     "iopub.status.idle": "2022-09-23T00:20:03.540165Z",
     "shell.execute_reply": "2022-09-23T00:20:03.540692Z"
    },
    "executionInfo": {
     "elapsed": 693,
     "status": "ok",
     "timestamp": 1554323886402,
     "user": {
      "displayName": "Benedict Paten",
      "photoUrl": "https://lh6.googleusercontent.com/-KEXp34y2Ra8/AAAAAAAAAAI/AAAAAAAAAHs/xzPsOsCpcaU/s64/photo.jpg",
      "userId": "06399644931392855882"
     },
     "user_tz": 420
    },
    "id": "13L6yoJ2f5_F",
    "outputId": "17e82f98-e82e-4f31-e2a0-3bc2c856471c",
    "slideshow": {
     "slide_type": "fragment"
    },
    "trusted": true
   },
   "cell_type": "code",
   "source": "\"hello\" # Double quotes",
   "execution_count": 5,
   "outputs": [
    {
     "output_type": "execute_result",
     "execution_count": 5,
     "data": {
      "text/plain": "'hello'"
     },
     "metadata": {}
    }
   ]
  },
  {
   "metadata": {
    "trusted": true
   },
   "cell_type": "code",
   "source": "",
   "execution_count": null,
   "outputs": []
  },
  {
   "metadata": {
    "colab": {
     "base_uri": "https://localhost:8080/",
     "height": 34
    },
    "execution": {
     "iopub.execute_input": "2022-09-23T00:20:03.546887Z",
     "iopub.status.busy": "2022-09-23T00:20:03.545793Z",
     "iopub.status.idle": "2022-09-23T00:20:03.550210Z",
     "shell.execute_reply": "2022-09-23T00:20:03.549684Z"
    },
    "executionInfo": {
     "elapsed": 378,
     "status": "ok",
     "timestamp": 1554323904826,
     "user": {
      "displayName": "Benedict Paten",
      "photoUrl": "https://lh6.googleusercontent.com/-KEXp34y2Ra8/AAAAAAAAAAI/AAAAAAAAAHs/xzPsOsCpcaU/s64/photo.jpg",
      "userId": "06399644931392855882"
     },
     "user_tz": 420
    },
    "id": "xG8NQ3iLf7m4",
    "outputId": "cdf6c8d7-bfc9-46e3-8cb2-f8b64a39fc59",
    "slideshow": {
     "slide_type": "fragment"
    },
    "trusted": true
   },
   "cell_type": "code",
   "source": "\"\"\"hello\"\"\" # Triple double quotes",
   "execution_count": 6,
   "outputs": [
    {
     "output_type": "execute_result",
     "execution_count": 6,
     "data": {
      "text/plain": "'hello'"
     },
     "metadata": {}
    }
   ]
  },
  {
   "metadata": {
    "colab": {
     "base_uri": "https://localhost:8080/",
     "height": 34
    },
    "execution": {
     "iopub.execute_input": "2022-09-23T00:20:03.556019Z",
     "iopub.status.busy": "2022-09-23T00:20:03.554986Z",
     "iopub.status.idle": "2022-09-23T00:20:03.558755Z",
     "shell.execute_reply": "2022-09-23T00:20:03.559338Z"
    },
    "executionInfo": {
     "elapsed": 539,
     "status": "ok",
     "timestamp": 1554324028562,
     "user": {
      "displayName": "Benedict Paten",
      "photoUrl": "https://lh6.googleusercontent.com/-KEXp34y2Ra8/AAAAAAAAAAI/AAAAAAAAAHs/xzPsOsCpcaU/s64/photo.jpg",
      "userId": "06399644931392855882"
     },
     "user_tz": 420
    },
    "id": "ospXwmAEf9cn",
    "outputId": "13ca371a-b6ce-48f6-afcc-3df1628a2531",
    "slideshow": {
     "slide_type": "fragment"
    },
    "trusted": true
   },
   "cell_type": "code",
   "source": "'''hello'''  # Triple single quotes",
   "execution_count": 7,
   "outputs": [
    {
     "output_type": "execute_result",
     "execution_count": 7,
     "data": {
      "text/plain": "'hello'"
     },
     "metadata": {}
    }
   ]
  },
  {
   "metadata": {
    "trusted": true
   },
   "cell_type": "code",
   "source": "'hello\\nCSE20'",
   "execution_count": 8,
   "outputs": [
    {
     "output_type": "execute_result",
     "execution_count": 8,
     "data": {
      "text/plain": "'hello\\nCSE20'"
     },
     "metadata": {}
    }
   ]
  },
  {
   "metadata": {
    "trusted": true
   },
   "cell_type": "code",
   "source": "print('hello\\nCSE20')",
   "execution_count": 9,
   "outputs": [
    {
     "output_type": "stream",
     "text": "hello\nCSE20\n",
     "name": "stdout"
    }
   ]
  },
  {
   "metadata": {
    "id": "ND2UHQJkgCCH",
    "slideshow": {
     "slide_type": "subslide"
    }
   },
   "cell_type": "markdown",
   "source": "We have these different syntax so we can embed quotes and whitespace (tabs, spaces and new lines) in strings. "
  },
  {
   "metadata": {
    "colab": {
     "base_uri": "https://localhost:8080/",
     "height": 34
    },
    "execution": {
     "iopub.execute_input": "2022-09-23T00:20:03.565692Z",
     "iopub.status.busy": "2022-09-23T00:20:03.564620Z",
     "iopub.status.idle": "2022-09-23T00:20:03.568315Z",
     "shell.execute_reply": "2022-09-23T00:20:03.568829Z"
    },
    "executionInfo": {
     "elapsed": 437,
     "status": "ok",
     "timestamp": 1554324081443,
     "user": {
      "displayName": "Benedict Paten",
      "photoUrl": "https://lh6.googleusercontent.com/-KEXp34y2Ra8/AAAAAAAAAAI/AAAAAAAAAHs/xzPsOsCpcaU/s64/photo.jpg",
      "userId": "06399644931392855882"
     },
     "user_tz": 420
    },
    "id": "_kq0Ugs2Gc8_",
    "outputId": "3ec14f59-7aa5-44c7-8d0d-474b02e1450f",
    "slideshow": {
     "slide_type": "fragment"
    },
    "trusted": true
   },
   "cell_type": "code",
   "source": "# We can embed single quotes in double quotes:\nprint(\"This is a string containing a 'single quoted substring'\")",
   "execution_count": 10,
   "outputs": [
    {
     "output_type": "stream",
     "text": "This is a string containing a 'single quoted substring'\n",
     "name": "stdout"
    }
   ]
  },
  {
   "metadata": {
    "colab": {
     "base_uri": "https://localhost:8080/",
     "height": 130
    },
    "execution": {
     "iopub.execute_input": "2022-09-23T00:20:03.574069Z",
     "iopub.status.busy": "2022-09-23T00:20:03.572888Z",
     "iopub.status.idle": "2022-09-23T00:20:03.576755Z",
     "shell.execute_reply": "2022-09-23T00:20:03.577676Z"
    },
    "executionInfo": {
     "elapsed": 501,
     "status": "error",
     "timestamp": 1554324108166,
     "user": {
      "displayName": "Benedict Paten",
      "photoUrl": "https://lh6.googleusercontent.com/-KEXp34y2Ra8/AAAAAAAAAAI/AAAAAAAAAHs/xzPsOsCpcaU/s64/photo.jpg",
      "userId": "06399644931392855882"
     },
     "user_tz": 420
    },
    "id": "J5UDSxu6gnm8",
    "outputId": "b27a3768-0b1f-4524-c772-bee9b7a8b837",
    "slideshow": {
     "slide_type": "fragment"
    },
    "trusted": true
   },
   "cell_type": "code",
   "source": "# Trying to embed single quotes \n# in a single quoted string naively does not work\nprint('This is a string containing a 'single quoted substring'')",
   "execution_count": 11,
   "outputs": [
    {
     "output_type": "error",
     "ename": "SyntaxError",
     "evalue": "invalid syntax. Perhaps you forgot a comma? (<ipython-input-11-e433f34a8388>, line 3)",
     "traceback": [
      "\u001b[0;36m  File \u001b[0;32m\"<ipython-input-11-e433f34a8388>\"\u001b[0;36m, line \u001b[0;32m3\u001b[0m\n\u001b[0;31m    print('This is a string containing a 'single quoted substring'')\u001b[0m\n\u001b[0m          ^\u001b[0m\n\u001b[0;31mSyntaxError\u001b[0m\u001b[0;31m:\u001b[0m invalid syntax. Perhaps you forgot a comma?\n"
     ]
    }
   ]
  },
  {
   "metadata": {
    "colab": {
     "base_uri": "https://localhost:8080/",
     "height": 34
    },
    "execution": {
     "iopub.execute_input": "2022-09-23T00:20:03.584142Z",
     "iopub.status.busy": "2022-09-23T00:20:03.583122Z",
     "iopub.status.idle": "2022-09-23T00:20:03.586698Z",
     "shell.execute_reply": "2022-09-23T00:20:03.587221Z"
    },
    "executionInfo": {
     "elapsed": 432,
     "status": "ok",
     "timestamp": 1554324181369,
     "user": {
      "displayName": "Benedict Paten",
      "photoUrl": "https://lh6.googleusercontent.com/-KEXp34y2Ra8/AAAAAAAAAAI/AAAAAAAAAHs/xzPsOsCpcaU/s64/photo.jpg",
      "userId": "06399644931392855882"
     },
     "user_tz": 420
    },
    "id": "nvgVKUi2g7yI",
    "outputId": "49f5539f-bdd5-4965-c235-f0fe8bea4316",
    "slideshow": {
     "slide_type": "fragment"
    },
    "trusted": true
   },
   "cell_type": "code",
   "source": "# And vice-versa, we can embed double quotes in single quotes:\nprint('This is a string containing a \"double quoted substring\"')",
   "execution_count": 12,
   "outputs": [
    {
     "output_type": "stream",
     "text": "This is a string containing a \"double quoted substring\"\n",
     "name": "stdout"
    }
   ]
  },
  {
   "metadata": {
    "colab": {
     "base_uri": "https://localhost:8080/",
     "height": 131
    },
    "execution": {
     "iopub.execute_input": "2022-09-23T00:20:03.592520Z",
     "iopub.status.busy": "2022-09-23T00:20:03.591626Z",
     "iopub.status.idle": "2022-09-23T00:20:03.596039Z",
     "shell.execute_reply": "2022-09-23T00:20:03.595286Z"
    },
    "executionInfo": {
     "elapsed": 1099,
     "status": "error",
     "timestamp": 1569539635155,
     "user": {
      "displayName": "Benedict Paten",
      "photoUrl": "",
      "userId": "02468802669323291213"
     },
     "user_tz": 420
    },
    "id": "mZ-JcBF9jkay",
    "outputId": "aac1e383-898b-4b0f-95a0-a5592e4b20c3",
    "slideshow": {
     "slide_type": "subslide"
    },
    "trusted": true
   },
   "cell_type": "code",
   "source": "# Single and double quoted strings can't span multiple lines:\nprint('This is an \n      attempt to have a string on two lines')",
   "execution_count": 13,
   "outputs": [
    {
     "output_type": "error",
     "ename": "SyntaxError",
     "evalue": "unterminated string literal (detected at line 2) (<ipython-input-13-57bd292fdf33>, line 2)",
     "traceback": [
      "\u001b[0;36m  File \u001b[0;32m\"<ipython-input-13-57bd292fdf33>\"\u001b[0;36m, line \u001b[0;32m2\u001b[0m\n\u001b[0;31m    print('This is an\u001b[0m\n\u001b[0m          ^\u001b[0m\n\u001b[0;31mSyntaxError\u001b[0m\u001b[0;31m:\u001b[0m unterminated string literal (detected at line 2)\n"
     ]
    }
   ]
  },
  {
   "metadata": {
    "colab": {
     "base_uri": "https://localhost:8080/",
     "height": 34
    },
    "execution": {
     "iopub.execute_input": "2022-09-23T00:20:03.602131Z",
     "iopub.status.busy": "2022-09-23T00:20:03.601084Z",
     "iopub.status.idle": "2022-09-23T00:20:03.604736Z",
     "shell.execute_reply": "2022-09-23T00:20:03.605265Z"
    },
    "executionInfo": {
     "elapsed": 417,
     "status": "ok",
     "timestamp": 1554324236518,
     "user": {
      "displayName": "Benedict Paten",
      "photoUrl": "https://lh6.googleusercontent.com/-KEXp34y2Ra8/AAAAAAAAAAI/AAAAAAAAAHs/xzPsOsCpcaU/s64/photo.jpg",
      "userId": "06399644931392855882"
     },
     "user_tz": 420
    },
    "id": "tPVSUn-biK47",
    "outputId": "d6dda436-f9f3-4bb3-dd71-5213c27942b7",
    "slideshow": {
     "slide_type": "fragment"
    },
    "trusted": true
   },
   "cell_type": "code",
   "source": "# Triple quotes (either single or double), allow embedding essentially anything, \n# including spanning multiple lines:\n\nprint(\"\"\"Boom, now\nwe can make crazy strings that ' nest quotes in quotes \" \" ' etc.\nand which span multiple lines\"\"\")",
   "execution_count": 16,
   "outputs": [
    {
     "output_type": "stream",
     "text": "Boom, now\nwe can make crazy strings that ' nest quotes in quotes \" \" ' etc.\nand which span multiple lines\n",
     "name": "stdout"
    }
   ]
  },
  {
   "metadata": {
    "colab": {
     "base_uri": "https://localhost:8080/",
     "height": 54
    },
    "execution": {
     "iopub.execute_input": "2022-09-23T00:20:03.610902Z",
     "iopub.status.busy": "2022-09-23T00:20:03.609840Z",
     "iopub.status.idle": "2022-09-23T00:20:03.613778Z",
     "shell.execute_reply": "2022-09-23T00:20:03.614272Z"
    },
    "executionInfo": {
     "elapsed": 850,
     "status": "ok",
     "timestamp": 1554324365093,
     "user": {
      "displayName": "Benedict Paten",
      "photoUrl": "https://lh6.googleusercontent.com/-KEXp34y2Ra8/AAAAAAAAAAI/AAAAAAAAAHs/xzPsOsCpcaU/s64/photo.jpg",
      "userId": "06399644931392855882"
     },
     "user_tz": 420
    },
    "id": "2NARKErpkhsr",
    "outputId": "062c975d-aed6-4de7-c18b-4be0692e3bc8",
    "slideshow": {
     "slide_type": "subslide"
    },
    "trusted": true
   },
   "cell_type": "code",
   "source": "# You will also see this a lot in Python code:\n\n\"\"\"\nA comment string.\n\nThese can be used to document some code\nacross multiple lines. We'll later see this at the top\nof classes and functions as a standard way of giving\na description string.\n\"\"\"\n",
   "execution_count": 18,
   "outputs": [
    {
     "output_type": "execute_result",
     "execution_count": 18,
     "data": {
      "text/plain": "\"\\nA comment string.\\n\\nThese can be used to document some code\\nacross multiple lines. We'll later see this at the top\\nof classes and functions as a standard way of giving\\na description string.\\n\""
     },
     "metadata": {}
    }
   ]
  },
  {
   "metadata": {
    "slideshow": {
     "slide_type": "subslide"
    }
   },
   "cell_type": "markdown",
   "source": "# Challenge 1"
  },
  {
   "metadata": {
    "execution": {
     "iopub.execute_input": "2022-09-23T00:20:03.619066Z",
     "iopub.status.busy": "2022-09-23T00:20:03.618145Z",
     "iopub.status.idle": "2022-09-23T00:20:03.620685Z",
     "shell.execute_reply": "2022-09-23T00:20:03.621290Z"
    },
    "slideshow": {
     "slide_type": "fragment"
    },
    "trusted": false
   },
   "cell_type": "code",
   "source": "# Create a string containing single quotes and double quotes \n# and which spans multiple lines\n",
   "execution_count": 1,
   "outputs": []
  },
  {
   "metadata": {
    "id": "JPxEMRO9bFgc",
    "slideshow": {
     "slide_type": "slide"
    }
   },
   "cell_type": "markdown",
   "source": "# White Space Characters\n\n* There is a difference between the contents of a Python string you type (termed a string literal) and what gets printed to the screen.\n\n* In general, Python and most other programming languages use reserved ASCII or unicode characters to encode white space in string literals. \n\n* Lets cover tabs and newlines"
  },
  {
   "metadata": {
    "colab": {
     "base_uri": "https://localhost:8080/",
     "height": 34
    },
    "execution": {
     "iopub.execute_input": "2022-09-23T00:20:03.625773Z",
     "iopub.status.busy": "2022-09-23T00:20:03.625042Z",
     "iopub.status.idle": "2022-09-23T00:20:03.627833Z",
     "shell.execute_reply": "2022-09-23T00:20:03.628306Z"
    },
    "executionInfo": {
     "elapsed": 872,
     "status": "ok",
     "timestamp": 1571351313722,
     "user": {
      "displayName": "Benedict Paten",
      "photoUrl": "https://lh3.googleusercontent.com/a-/AAuE7mBMnWy8dDR7jyTHNy9tPaRx6DCyA3QKrIcuQ7R4=s64",
      "userId": "06399644931392855882"
     },
     "user_tz": 420
    },
    "id": "lwuNwoa1kPb1",
    "outputId": "f77eb9ac-60af-4b1b-c933-4c4a1e47eb17",
    "slideshow": {
     "slide_type": "fragment"
    },
    "trusted": false
   },
   "cell_type": "code",
   "source": "s = \"This\\tis\\ttab\\tseparated\" # Tabs are encoded with '\\t' \n\nprint(s)",
   "execution_count": 12,
   "outputs": [
    {
     "name": "stdout",
     "output_type": "stream",
     "text": "This\tis\ttab\tseparated\n"
    }
   ]
  },
  {
   "metadata": {
    "colab": {
     "base_uri": "https://localhost:8080/",
     "height": 87
    },
    "execution": {
     "iopub.execute_input": "2022-09-23T00:20:03.632636Z",
     "iopub.status.busy": "2022-09-23T00:20:03.631969Z",
     "iopub.status.idle": "2022-09-23T00:20:03.634732Z",
     "shell.execute_reply": "2022-09-23T00:20:03.635339Z"
    },
    "executionInfo": {
     "elapsed": 484,
     "status": "ok",
     "timestamp": 1571351375970,
     "user": {
      "displayName": "Benedict Paten",
      "photoUrl": "https://lh3.googleusercontent.com/a-/AAuE7mBMnWy8dDR7jyTHNy9tPaRx6DCyA3QKrIcuQ7R4=s64",
      "userId": "06399644931392855882"
     },
     "user_tz": 420
    },
    "id": "-S3ED-nHk4uA",
    "outputId": "12ed2be0-97e4-4141-dcb7-37cf24e25d10",
    "slideshow": {
     "slide_type": "subslide"
    },
    "trusted": false
   },
   "cell_type": "code",
   "source": "s = \"This\\nis\\nnewline\\nseparated\" # Newline characters: '\\n' specify new lines\n\nprint(s)",
   "execution_count": 13,
   "outputs": [
    {
     "name": "stdout",
     "output_type": "stream",
     "text": "This\nis\nnewline\nseparated\n"
    }
   ]
  },
  {
   "metadata": {
    "colab": {
     "base_uri": "https://localhost:8080/",
     "height": 34
    },
    "execution": {
     "iopub.execute_input": "2022-09-23T00:20:03.640290Z",
     "iopub.status.busy": "2022-09-23T00:20:03.639491Z",
     "iopub.status.idle": "2022-09-23T00:20:03.642959Z",
     "shell.execute_reply": "2022-09-23T00:20:03.643526Z"
    },
    "executionInfo": {
     "elapsed": 929,
     "status": "ok",
     "timestamp": 1571351438223,
     "user": {
      "displayName": "Benedict Paten",
      "photoUrl": "https://lh3.googleusercontent.com/a-/AAuE7mBMnWy8dDR7jyTHNy9tPaRx6DCyA3QKrIcuQ7R4=s64",
      "userId": "06399644931392855882"
     },
     "user_tz": 420
    },
    "id": "UlraTeHQlUvU",
    "outputId": "b42aef5a-099a-4c51-e513-4711fc29a452",
    "slideshow": {
     "slide_type": "fragment"
    },
    "trusted": true
   },
   "cell_type": "code",
   "source": "s2 = \"\"\"This\nis\nnewline\nseparated\"\"\" # This is the equivalent way of specifying s by using \n# explicit white space in your code\n\nprint(s2)",
   "execution_count": 1,
   "outputs": [
    {
     "output_type": "stream",
     "text": "This\nis\nnewline\nseparated\n",
     "name": "stdout"
    }
   ]
  },
  {
   "metadata": {
    "colab": {
     "base_uri": "https://localhost:8080/",
     "height": 69
    },
    "execution": {
     "iopub.execute_input": "2022-09-23T00:20:03.661255Z",
     "iopub.status.busy": "2022-09-23T00:20:03.660506Z",
     "iopub.status.idle": "2022-09-23T00:20:03.665011Z",
     "shell.execute_reply": "2022-09-23T00:20:03.666628Z"
    },
    "executionInfo": {
     "elapsed": 874,
     "status": "ok",
     "timestamp": 1571351511757,
     "user": {
      "displayName": "Benedict Paten",
      "photoUrl": "https://lh3.googleusercontent.com/a-/AAuE7mBMnWy8dDR7jyTHNy9tPaRx6DCyA3QKrIcuQ7R4=s64",
      "userId": "06399644931392855882"
     },
     "user_tz": 420
    },
    "id": "Wk43tEb0l550",
    "outputId": "b9239e54-5105-472e-de52-6ae4ddd5092d",
    "slideshow": {
     "slide_type": "subslide"
    },
    "trusted": false
   },
   "cell_type": "code",
   "source": "# It is often convenient to use tab and newline characters in your string \n# formatting to make the strings do what you want, e.g.\n\nprint(\"Welcome to my program.\\n\\tHere is an indent.\\n\\t\\tHere is a double indent\")",
   "execution_count": 17,
   "outputs": [
    {
     "name": "stdout",
     "output_type": "stream",
     "text": "Welcome to my program.\n\tHere is an indent.\n\t\tHere is a double indent\n"
    }
   ]
  },
  {
   "metadata": {
    "id": "Mdhal66NmQHu",
    "slideshow": {
     "slide_type": "fragment"
    }
   },
   "cell_type": "markdown",
   "source": "Doing the above with triple quoted strings is less compact, and generally more error prone,\nbecause the way the editor encodes tabs depends on how the code formatting is setup:\ne.g. are blocks of spaces tabs? how many spaces? etc."
  },
  {
   "metadata": {
    "colab": {
     "base_uri": "https://localhost:8080/",
     "height": 69
    },
    "execution": {
     "iopub.execute_input": "2022-09-23T00:20:03.671637Z",
     "iopub.status.busy": "2022-09-23T00:20:03.670827Z",
     "iopub.status.idle": "2022-09-23T00:20:03.673594Z",
     "shell.execute_reply": "2022-09-23T00:20:03.674153Z"
    },
    "executionInfo": {
     "elapsed": 626,
     "status": "ok",
     "timestamp": 1571351574595,
     "user": {
      "displayName": "Benedict Paten",
      "photoUrl": "https://lh3.googleusercontent.com/a-/AAuE7mBMnWy8dDR7jyTHNy9tPaRx6DCyA3QKrIcuQ7R4=s64",
      "userId": "06399644931392855882"
     },
     "user_tz": 420
    },
    "id": "MqDnWyC_mXwN",
    "outputId": "66396915-41fa-4076-c1e9-ccdbaae24efa",
    "slideshow": {
     "slide_type": "fragment"
    },
    "trusted": false
   },
   "cell_type": "code",
   "source": "print(\"\"\"Welcome to my program.\n    Here is an indent.\n        Here is a double indent\"\"\")",
   "execution_count": 18,
   "outputs": [
    {
     "name": "stdout",
     "output_type": "stream",
     "text": "Welcome to my program.\n    Here is an indent.\n        Here is a double indent\n"
    }
   ]
  },
  {
   "metadata": {
    "slideshow": {
     "slide_type": "subslide"
    }
   },
   "cell_type": "markdown",
   "source": "# Challenge 2"
  },
  {
   "metadata": {
    "execution": {
     "iopub.execute_input": "2022-09-23T00:20:03.678928Z",
     "iopub.status.busy": "2022-09-23T00:20:03.678038Z",
     "iopub.status.idle": "2022-09-23T00:20:03.681220Z",
     "shell.execute_reply": "2022-09-23T00:20:03.681680Z"
    },
    "slideshow": {
     "slide_type": "fragment"
    },
    "trusted": false
   },
   "cell_type": "code",
   "source": "# Rewrite the following string to use single quotes and escape characters\n\"\"\"Santa Cruz\nis a beautiful place\nto live!\"\"\"",
   "execution_count": null,
   "outputs": []
  },
  {
   "metadata": {
    "pycharm": {
     "name": "#%% md\n"
    },
    "slideshow": {
     "slide_type": "slide"
    }
   },
   "cell_type": "markdown",
   "source": "# F-strings"
  },
  {
   "metadata": {
    "slideshow": {
     "slide_type": "fragment"
    }
   },
   "cell_type": "markdown",
   "source": "Often we want to substitute values into strings. \nPython's f-strings are a nice way to do this."
  },
  {
   "metadata": {
    "execution": {
     "iopub.execute_input": "2022-09-23T00:20:03.686049Z",
     "iopub.status.busy": "2022-09-23T00:20:03.685399Z",
     "iopub.status.idle": "2022-09-23T00:20:03.687906Z",
     "shell.execute_reply": "2022-09-23T00:20:03.688352Z"
    },
    "slideshow": {
     "slide_type": "fragment"
    },
    "trusted": false
   },
   "cell_type": "code",
   "source": "# Suppose we have these two variables\n\naddress=\"10 Downing St, London, SW1A, UK\"\nperson=\"prime minister\"\n\n# We could do\nprint(\"I went to \" + address + \" to see the \" + person)\n\n# f-strings (format strings) provide a nicer way...\nprint(f\"I went to {address} to see the {person}\")",
   "execution_count": 2,
   "outputs": [
    {
     "output_type": "stream",
     "text": "I went to 10 Downing St, London, SW1A, UK to see the prime minister\nI went to 10 Downing St, London, SW1A, UK to see the prime minister\n",
     "name": "stdout"
    }
   ]
  },
  {
   "metadata": {
    "execution": {
     "iopub.execute_input": "2022-09-23T00:20:03.693129Z",
     "iopub.status.busy": "2022-09-23T00:20:03.692474Z",
     "iopub.status.idle": "2022-09-23T00:20:03.695142Z",
     "shell.execute_reply": "2022-09-23T00:20:03.695673Z"
    },
    "slideshow": {
     "slide_type": "subslide"
    },
    "trusted": false
   },
   "cell_type": "code",
   "source": "# The general syntax allows either F or f as the prefix. \n# They work with single quotes, double quotes and triple quotes, \n# just as with vanilla strings\n\nprint(f\"I went to {address} to see the {person}\")\nprint(F\"I went to {address} to see the {person}\")\nprint(f'I went to {address} to see the {person}')\nprint(F\"\"\"I went to {address} to see the {person}\"\"\")\n# etc...",
   "execution_count": 21,
   "outputs": [
    {
     "name": "stdout",
     "output_type": "stream",
     "text": "I went to 10 Downing St, London, SW1A, UK to see the prime minister\nI went to 10 Downing St, London, SW1A, UK to see the prime minister\nI went to 10 Downing St, London, SW1A, UK to see the prime minister\nI went to 10 Downing St, London, SW1A, UK to see the prime minister\n"
    }
   ]
  },
  {
   "metadata": {
    "execution": {
     "iopub.execute_input": "2022-09-23T00:20:03.699949Z",
     "iopub.status.busy": "2022-09-23T00:20:03.699171Z",
     "iopub.status.idle": "2022-09-23T00:20:03.701742Z",
     "shell.execute_reply": "2022-09-23T00:20:03.702174Z"
    },
    "slideshow": {
     "slide_type": "fragment"
    },
    "trusted": true
   },
   "cell_type": "code",
   "source": "# You can embed arbitrary expressions within the f-string:\nprint(f\"This is math: { 5 * 5 }.\\nThis is string multiplication: { 'hello' * 2 }\")",
   "execution_count": 2,
   "outputs": [
    {
     "output_type": "stream",
     "text": "This is math: 25.\nThis is string multiplication: hellohello\n",
     "name": "stdout"
    }
   ]
  },
  {
   "metadata": {
    "slideshow": {
     "slide_type": "fragment"
    }
   },
   "cell_type": "markdown",
   "source": "Note in the above example we must embed single quoted strings in the double quoted string."
  },
  {
   "metadata": {
    "id": "SfuZ30qgzSDd",
    "slideshow": {
     "slide_type": "slide"
    }
   },
   "cell_type": "markdown",
   "source": "# Formatting Numbers\n\nWe sometimes want to precisely control the printing of numbers. We discuss some examples here. A more comprehensive summary is https://mkaz.blog/code/python-string-format-cookbook/"
  },
  {
   "metadata": {
    "colab": {
     "base_uri": "https://localhost:8080/",
     "height": 34
    },
    "execution": {
     "iopub.execute_input": "2022-09-23T00:20:03.706990Z",
     "iopub.status.busy": "2022-09-23T00:20:03.706242Z",
     "iopub.status.idle": "2022-09-23T00:20:03.708825Z",
     "shell.execute_reply": "2022-09-23T00:20:03.709244Z"
    },
    "executionInfo": {
     "elapsed": 615,
     "status": "ok",
     "timestamp": 1571354377395,
     "user": {
      "displayName": "Benedict Paten",
      "photoUrl": "https://lh3.googleusercontent.com/a-/AAuE7mBMnWy8dDR7jyTHNy9tPaRx6DCyA3QKrIcuQ7R4=s64",
      "userId": "06399644931392855882"
     },
     "user_tz": 420
    },
    "id": "Kej77oYdI540",
    "outputId": "555063a7-033f-4690-98b0-18e43461d0ae",
    "slideshow": {
     "slide_type": "fragment"
    },
    "trusted": false
   },
   "cell_type": "code",
   "source": "x = 0.9745\n\nf\"The number is: {x:.7f}\" \n\n# The : indicates that you're issuing a formatting command\n# the .7 says you want to seven decimal places, \n# f says the thing you're printing is a float",
   "execution_count": 23,
   "outputs": [
    {
     "data": {
      "text/plain": "'The number is: 0.9745000'"
     },
     "execution_count": 23,
     "metadata": {},
     "output_type": "execute_result"
    }
   ]
  },
  {
   "metadata": {
    "execution": {
     "iopub.execute_input": "2022-09-23T00:20:03.713601Z",
     "iopub.status.busy": "2022-09-23T00:20:03.712873Z",
     "iopub.status.idle": "2022-09-23T00:20:03.716283Z",
     "shell.execute_reply": "2022-09-23T00:20:03.715826Z"
    },
    "slideshow": {
     "slide_type": "fragment"
    },
    "trusted": false
   },
   "cell_type": "code",
   "source": "# We can also embed the number directly\n\nf\"The number is: {0.9745:.7f}\" # The same",
   "execution_count": 24,
   "outputs": [
    {
     "data": {
      "text/plain": "'The number is: 0.9745000'"
     },
     "execution_count": 24,
     "metadata": {},
     "output_type": "execute_result"
    }
   ]
  },
  {
   "metadata": {
    "slideshow": {
     "slide_type": "subslide"
    }
   },
   "cell_type": "markdown",
   "source": "A couple more examples..."
  },
  {
   "metadata": {
    "colab": {
     "base_uri": "https://localhost:8080/",
     "height": 34
    },
    "execution": {
     "iopub.execute_input": "2022-09-23T00:20:03.729412Z",
     "iopub.status.busy": "2022-09-23T00:20:03.728306Z",
     "iopub.status.idle": "2022-09-23T00:20:03.732223Z",
     "shell.execute_reply": "2022-09-23T00:20:03.732869Z"
    },
    "executionInfo": {
     "elapsed": 562,
     "status": "ok",
     "timestamp": 1571354409251,
     "user": {
      "displayName": "Benedict Paten",
      "photoUrl": "https://lh3.googleusercontent.com/a-/AAuE7mBMnWy8dDR7jyTHNy9tPaRx6DCyA3QKrIcuQ7R4=s64",
      "userId": "06399644931392855882"
     },
     "user_tz": 420
    },
    "id": "EWKu3b0pKLkC",
    "outputId": "dd0d4171-b215-4e0f-8530-813730e61b86",
    "slideshow": {
     "slide_type": "fragment"
    },
    "trusted": false
   },
   "cell_type": "code",
   "source": "f\"The number is: {0.9745:+.2f}\" # The + indicates to print a sign (+ or -)",
   "execution_count": 1,
   "outputs": [
    {
     "output_type": "execute_result",
     "execution_count": 1,
     "data": {
      "text/plain": "'The number is: +0.97'"
     },
     "metadata": {}
    }
   ]
  },
  {
   "metadata": {
    "colab": {
     "base_uri": "https://localhost:8080/",
     "height": 34
    },
    "execution": {
     "iopub.execute_input": "2022-09-23T00:20:03.737725Z",
     "iopub.status.busy": "2022-09-23T00:20:03.736932Z",
     "iopub.status.idle": "2022-09-23T00:20:03.739776Z",
     "shell.execute_reply": "2022-09-23T00:20:03.740282Z"
    },
    "executionInfo": {
     "elapsed": 959,
     "status": "ok",
     "timestamp": 1571354441635,
     "user": {
      "displayName": "Benedict Paten",
      "photoUrl": "https://lh3.googleusercontent.com/a-/AAuE7mBMnWy8dDR7jyTHNy9tPaRx6DCyA3QKrIcuQ7R4=s64",
      "userId": "06399644931392855882"
     },
     "user_tz": 420
    },
    "id": "XOOfIWhVJwUI",
    "outputId": "6d9057b2-65f4-4a20-eea3-068752474ab9",
    "slideshow": {
     "slide_type": "fragment"
    },
    "trusted": false
   },
   "cell_type": "code",
   "source": "f\"The number is: {5:0>5d}\" # the d indicates an integer\n# the 0>5 says pad the integer with 0s to make it have at least 5 characters",
   "execution_count": 2,
   "outputs": [
    {
     "output_type": "execute_result",
     "execution_count": 2,
     "data": {
      "text/plain": "'The number is: 00005'"
     },
     "metadata": {}
    }
   ]
  },
  {
   "metadata": {
    "slideshow": {
     "slide_type": "fragment"
    }
   },
   "cell_type": "markdown",
   "source": "There is a lot more to learn about formatting numbers for printing, so refer to the cheat sheet and play with the standard to learn it better."
  },
  {
   "metadata": {
    "slideshow": {
     "slide_type": "subslide"
    }
   },
   "cell_type": "markdown",
   "source": "# Challenge 3"
  },
  {
   "metadata": {
    "execution": {
     "iopub.execute_input": "2022-09-23T00:20:03.744492Z",
     "iopub.status.busy": "2022-09-23T00:20:03.743706Z",
     "iopub.status.idle": "2022-09-23T00:20:03.746565Z",
     "shell.execute_reply": "2022-09-23T00:20:03.746997Z"
    },
    "slideshow": {
     "slide_type": "fragment"
    },
    "trusted": false
   },
   "cell_type": "code",
   "source": "# Complete the command to print '0005.69'\nprint(f\"{5.6872}\")",
   "execution_count": 5,
   "outputs": [
    {
     "output_type": "stream",
     "text": "5.6872\n",
     "name": "stdout"
    }
   ]
  },
  {
   "metadata": {
    "id": "nx4iryO296kf",
    "slideshow": {
     "slide_type": "slide"
    }
   },
   "cell_type": "markdown",
   "source": "# Type Conversion"
  },
  {
   "metadata": {
    "colab": {
     "base_uri": "https://localhost:8080/",
     "height": 34
    },
    "execution": {
     "iopub.execute_input": "2022-09-23T00:20:03.751965Z",
     "iopub.status.busy": "2022-09-23T00:20:03.751229Z",
     "iopub.status.idle": "2022-09-23T00:20:03.754133Z",
     "shell.execute_reply": "2022-09-23T00:20:03.754566Z"
    },
    "executionInfo": {
     "elapsed": 469,
     "status": "ok",
     "timestamp": 1569539824065,
     "user": {
      "displayName": "Benedict Paten",
      "photoUrl": "",
      "userId": "02468802669323291213"
     },
     "user_tz": 420
    },
    "id": "6wtzEpU6hH4D",
    "outputId": "47fd552f-33fd-44cf-c5b4-5f91d608fdd7",
    "slideshow": {
     "slide_type": "fragment"
    },
    "trusted": false
   },
   "cell_type": "code",
   "source": "# We can convert int, float and string types as follows\n\ntype( int('5') ) # This int() turns the string into an integer ",
   "execution_count": 8,
   "outputs": [
    {
     "data": {
      "text/plain": "int"
     },
     "execution_count": 8,
     "metadata": {},
     "output_type": "execute_result"
    }
   ]
  },
  {
   "metadata": {
    "colab": {
     "base_uri": "https://localhost:8080/",
     "height": 34
    },
    "execution": {
     "iopub.execute_input": "2022-09-23T00:20:03.758939Z",
     "iopub.status.busy": "2022-09-23T00:20:03.758224Z",
     "iopub.status.idle": "2022-09-23T00:20:03.761018Z",
     "shell.execute_reply": "2022-09-23T00:20:03.761551Z"
    },
    "executionInfo": {
     "elapsed": 486,
     "status": "ok",
     "timestamp": 1569539847816,
     "user": {
      "displayName": "Benedict Paten",
      "photoUrl": "",
      "userId": "02468802669323291213"
     },
     "user_tz": 420
    },
    "id": "3_CzAiTvhzXQ",
    "outputId": "748b4210-804e-404c-b4b0-ba24889cb259",
    "slideshow": {
     "slide_type": "fragment"
    },
    "trusted": false
   },
   "cell_type": "code",
   "source": "type( str(5) ) # We can also go back the other way",
   "execution_count": 30,
   "outputs": [
    {
     "data": {
      "text/plain": "str"
     },
     "execution_count": 30,
     "metadata": {},
     "output_type": "execute_result"
    }
   ]
  },
  {
   "metadata": {
    "colab": {
     "base_uri": "https://localhost:8080/",
     "height": 166
    },
    "execution": {
     "iopub.execute_input": "2022-09-23T00:20:03.766211Z",
     "iopub.status.busy": "2022-09-23T00:20:03.765021Z",
     "iopub.status.idle": "2022-09-23T00:20:03.827391Z",
     "shell.execute_reply": "2022-09-23T00:20:03.827843Z"
    },
    "executionInfo": {
     "elapsed": 466,
     "status": "error",
     "timestamp": 1569539868997,
     "user": {
      "displayName": "Benedict Paten",
      "photoUrl": "",
      "userId": "02468802669323291213"
     },
     "user_tz": 420
    },
    "id": "7galkn84iCsf",
    "outputId": "ed75be1f-2c32-429e-a29a-3f5bb02eaf45",
    "slideshow": {
     "slide_type": "subslide"
    },
    "trusted": false
   },
   "cell_type": "code",
   "source": "# The following doesn't work because int() doesn't how\n# to interpret 'foo'\nint(\"foo\")",
   "execution_count": 1,
   "outputs": [
    {
     "output_type": "error",
     "ename": "ValueError",
     "evalue": "invalid literal for int() with base 10: 'foo'",
     "traceback": [
      "\u001b[0;31m---------------------------------------------------------------------------\u001b[0m",
      "\u001b[0;31mValueError\u001b[0m                                Traceback (most recent call last)",
      "\u001b[0;32m<ipython-input-1-614d37a87be1>\u001b[0m in \u001b[0;36m<module>\u001b[0;34m\u001b[0m\n\u001b[1;32m      1\u001b[0m \u001b[0;31m# The following doesn't work because int() doesn't how\u001b[0m\u001b[0;34m\u001b[0m\u001b[0;34m\u001b[0m\u001b[0m\n\u001b[1;32m      2\u001b[0m \u001b[0;31m# to interpret 'foo'\u001b[0m\u001b[0;34m\u001b[0m\u001b[0;34m\u001b[0m\u001b[0m\n\u001b[0;32m----> 3\u001b[0;31m \u001b[0mint\u001b[0m\u001b[0;34m(\u001b[0m\u001b[0;34m\"foo\"\u001b[0m\u001b[0;34m)\u001b[0m\u001b[0;34m\u001b[0m\u001b[0;34m\u001b[0m\u001b[0m\n\u001b[0m",
      "\u001b[0;31mValueError\u001b[0m: invalid literal for int() with base 10: 'foo'"
     ]
    }
   ]
  },
  {
   "metadata": {
    "colab": {
     "base_uri": "https://localhost:8080/",
     "height": 34
    },
    "execution": {
     "iopub.execute_input": "2022-09-23T00:20:03.831907Z",
     "iopub.status.busy": "2022-09-23T00:20:03.831207Z",
     "iopub.status.idle": "2022-09-23T00:20:03.834246Z",
     "shell.execute_reply": "2022-09-23T00:20:03.834709Z"
    },
    "executionInfo": {
     "elapsed": 535,
     "status": "ok",
     "timestamp": 1569539921108,
     "user": {
      "displayName": "Benedict Paten",
      "photoUrl": "",
      "userId": "02468802669323291213"
     },
     "user_tz": 420
    },
    "id": "b-su-iJhiVUg",
    "outputId": "f5aef519-2a67-447a-b758-0e95e30ad25d",
    "slideshow": {
     "slide_type": "subslide"
    },
    "trusted": true
   },
   "cell_type": "code",
   "source": "# We can also convert between floats and ints, doing \n# truncation as we go float --> int\nint(float('5.4'))",
   "execution_count": 1,
   "outputs": [
    {
     "output_type": "execute_result",
     "execution_count": 1,
     "data": {
      "text/plain": "5"
     },
     "metadata": {}
    }
   ]
  },
  {
   "metadata": {
    "colab": {
     "base_uri": "https://localhost:8080/",
     "height": 34
    },
    "execution": {
     "iopub.execute_input": "2022-09-23T00:20:03.838815Z",
     "iopub.status.busy": "2022-09-23T00:20:03.838148Z",
     "iopub.status.idle": "2022-09-23T00:20:03.840752Z",
     "shell.execute_reply": "2022-09-23T00:20:03.841273Z"
    },
    "executionInfo": {
     "elapsed": 497,
     "status": "ok",
     "timestamp": 1569539932138,
     "user": {
      "displayName": "Benedict Paten",
      "photoUrl": "",
      "userId": "02468802669323291213"
     },
     "user_tz": 420
    },
    "id": "z6ISL0_Hif7J",
    "outputId": "ae78ec2d-ec9a-4f19-cfde-5368aa9e7771",
    "slideshow": {
     "slide_type": "subslide"
    },
    "trusted": false
   },
   "cell_type": "code",
   "source": "float(5)",
   "execution_count": 33,
   "outputs": [
    {
     "data": {
      "text/plain": "5.0"
     },
     "execution_count": 33,
     "metadata": {},
     "output_type": "execute_result"
    }
   ]
  },
  {
   "metadata": {
    "id": "MiqSwuSkggbP",
    "slideshow": {
     "slide_type": "slide"
    }
   },
   "cell_type": "markdown",
   "source": "# Automatic Type Conversion"
  },
  {
   "metadata": {
    "colab": {
     "base_uri": "https://localhost:8080/"
    },
    "execution": {
     "iopub.execute_input": "2022-09-23T00:20:03.845436Z",
     "iopub.status.busy": "2022-09-23T00:20:03.844779Z",
     "iopub.status.idle": "2022-09-23T00:20:03.847526Z",
     "shell.execute_reply": "2022-09-23T00:20:03.847936Z"
    },
    "executionInfo": {
     "elapsed": 457,
     "status": "ok",
     "timestamp": 1607393155959,
     "user": {
      "displayName": "Benedict Paten",
      "photoUrl": "https://lh3.googleusercontent.com/a-/AOh14Gh2rYrrH6yoNnUp0Oj4p4ouybc6ZcWGyPmKFtIY=s64",
      "userId": "06399644931392855882"
     },
     "user_tz": 480
    },
    "id": "-tRC_KvLQznp",
    "outputId": "0af55f0a-757a-4b36-a73b-93e00d1358cb",
    "slideshow": {
     "slide_type": "fragment"
    },
    "trusted": false
   },
   "cell_type": "code",
   "source": "# Remember everything in Python has a type, discoverable with \"type()\"\n\n# What's the type of x?\nx = 6\n\ntype(x)",
   "execution_count": 16,
   "outputs": [
    {
     "data": {
      "text/plain": "int"
     },
     "execution_count": 16,
     "metadata": {},
     "output_type": "execute_result"
    }
   ]
  },
  {
   "metadata": {
    "colab": {
     "base_uri": "https://localhost:8080/"
    },
    "execution": {
     "iopub.execute_input": "2022-09-23T00:20:03.852189Z",
     "iopub.status.busy": "2022-09-23T00:20:03.851463Z",
     "iopub.status.idle": "2022-09-23T00:20:03.854438Z",
     "shell.execute_reply": "2022-09-23T00:20:03.854920Z"
    },
    "executionInfo": {
     "elapsed": 383,
     "status": "ok",
     "timestamp": 1607393157453,
     "user": {
      "displayName": "Benedict Paten",
      "photoUrl": "https://lh3.googleusercontent.com/a-/AOh14Gh2rYrrH6yoNnUp0Oj4p4ouybc6ZcWGyPmKFtIY=s64",
      "userId": "06399644931392855882"
     },
     "user_tz": 480
    },
    "id": "PZLtFsLwQ1Xk",
    "outputId": "7abf453e-57db-4be9-8fc4-0e70c1356a04",
    "slideshow": {
     "slide_type": "fragment"
    },
    "trusted": false
   },
   "cell_type": "code",
   "source": "y = 5\n\ntype(y)",
   "execution_count": 17,
   "outputs": [
    {
     "data": {
      "text/plain": "int"
     },
     "execution_count": 17,
     "metadata": {},
     "output_type": "execute_result"
    }
   ]
  },
  {
   "metadata": {
    "colab": {
     "base_uri": "https://localhost:8080/"
    },
    "execution": {
     "iopub.execute_input": "2022-09-23T00:20:03.859363Z",
     "iopub.status.busy": "2022-09-23T00:20:03.858733Z",
     "iopub.status.idle": "2022-09-23T00:20:03.861863Z",
     "shell.execute_reply": "2022-09-23T00:20:03.861414Z"
    },
    "executionInfo": {
     "elapsed": 383,
     "status": "ok",
     "timestamp": 1607393158678,
     "user": {
      "displayName": "Benedict Paten",
      "photoUrl": "https://lh3.googleusercontent.com/a-/AOh14Gh2rYrrH6yoNnUp0Oj4p4ouybc6ZcWGyPmKFtIY=s64",
      "userId": "06399644931392855882"
     },
     "user_tz": 480
    },
    "id": "vvlSITbvQmp8",
    "outputId": "c0c32394-6952-46c9-c01b-1630872dabc9",
    "slideshow": {
     "slide_type": "fragment"
    },
    "trusted": false
   },
   "cell_type": "code",
   "source": "# So what's the type of our expression result?\n\ntype(x // y)",
   "execution_count": 36,
   "outputs": [
    {
     "data": {
      "text/plain": "int"
     },
     "execution_count": 36,
     "metadata": {},
     "output_type": "execute_result"
    }
   ]
  },
  {
   "metadata": {
    "colab": {
     "base_uri": "https://localhost:8080/"
    },
    "execution": {
     "iopub.execute_input": "2022-09-23T00:20:03.866072Z",
     "iopub.status.busy": "2022-09-23T00:20:03.865413Z",
     "iopub.status.idle": "2022-09-23T00:20:03.868158Z",
     "shell.execute_reply": "2022-09-23T00:20:03.868566Z"
    },
    "executionInfo": {
     "elapsed": 386,
     "status": "ok",
     "timestamp": 1607393163405,
     "user": {
      "displayName": "Benedict Paten",
      "photoUrl": "https://lh3.googleusercontent.com/a-/AOh14Gh2rYrrH6yoNnUp0Oj4p4ouybc6ZcWGyPmKFtIY=s64",
      "userId": "06399644931392855882"
     },
     "user_tz": 480
    },
    "id": "fL7D8cPVQu7T",
    "outputId": "b7289a02-c419-4530-95d8-2e842547dff3",
    "slideshow": {
     "slide_type": "subslide"
    },
    "trusted": false
   },
   "cell_type": "code",
   "source": "type(x / y) # And this one ?",
   "execution_count": 37,
   "outputs": [
    {
     "data": {
      "text/plain": "float"
     },
     "execution_count": 37,
     "metadata": {},
     "output_type": "execute_result"
    }
   ]
  },
  {
   "metadata": {
    "colab": {
     "base_uri": "https://localhost:8080/"
    },
    "execution": {
     "iopub.execute_input": "2022-09-23T00:20:03.872836Z",
     "iopub.status.busy": "2022-09-23T00:20:03.872113Z",
     "iopub.status.idle": "2022-09-23T00:20:03.875098Z",
     "shell.execute_reply": "2022-09-23T00:20:03.875518Z"
    },
    "executionInfo": {
     "elapsed": 452,
     "status": "ok",
     "timestamp": 1607393165002,
     "user": {
      "displayName": "Benedict Paten",
      "photoUrl": "https://lh3.googleusercontent.com/a-/AOh14Gh2rYrrH6yoNnUp0Oj4p4ouybc6ZcWGyPmKFtIY=s64",
      "userId": "06399644931392855882"
     },
     "user_tz": 480
    },
    "id": "ak9CmTIJREvA",
    "outputId": "33470a33-d35a-47af-a912-a653813f78d9",
    "slideshow": {
     "slide_type": "subslide"
    },
    "trusted": false
   },
   "cell_type": "code",
   "source": "type(x + 0.0) \n# Python will generally automatically switch into \n# floating point to avoid losing the decimal",
   "execution_count": 18,
   "outputs": [
    {
     "data": {
      "text/plain": "float"
     },
     "execution_count": 18,
     "metadata": {},
     "output_type": "execute_result"
    }
   ]
  },
  {
   "metadata": {
    "id": "VNemVpofRKmr",
    "slideshow": {
     "slide_type": "fragment"
    }
   },
   "cell_type": "markdown",
   "source": "In general, Python will try to convert into floating point if needed. However, you can use float() and int() to make it do what you want."
  },
  {
   "metadata": {
    "slideshow": {
     "slide_type": "subslide"
    }
   },
   "cell_type": "markdown",
   "source": "# Challenge 4"
  },
  {
   "metadata": {
    "execution": {
     "iopub.execute_input": "2022-09-23T00:20:03.879751Z",
     "iopub.status.busy": "2022-09-23T00:20:03.879081Z",
     "iopub.status.idle": "2022-09-23T00:20:03.881705Z",
     "shell.execute_reply": "2022-09-23T00:20:03.882110Z"
    },
    "slideshow": {
     "slide_type": "fragment"
    },
    "trusted": true
   },
   "cell_type": "code",
   "source": "# What is the type and value of the following two expressions?\n\n5 % 2\n\n5.6 % 2\n",
   "execution_count": 3,
   "outputs": []
  },
  {
   "metadata": {
    "id": "GFggsPxW6lqW",
    "slideshow": {
     "slide_type": "slide"
    }
   },
   "cell_type": "markdown",
   "source": "# More Input"
  },
  {
   "metadata": {
    "colab": {
     "base_uri": "https://localhost:8080/"
    },
    "execution": {
     "iopub.execute_input": "2022-09-23T00:20:03.886010Z",
     "iopub.status.busy": "2022-09-23T00:20:03.885249Z",
     "iopub.status.idle": "2022-09-23T00:20:03.891693Z",
     "shell.execute_reply": "2022-09-23T00:20:03.892381Z"
    },
    "executionInfo": {
     "elapsed": 2440,
     "status": "ok",
     "timestamp": 1607393280148,
     "user": {
      "displayName": "Benedict Paten",
      "photoUrl": "https://lh3.googleusercontent.com/a-/AOh14Gh2rYrrH6yoNnUp0Oj4p4ouybc6ZcWGyPmKFtIY=s64",
      "userId": "06399644931392855882"
     },
     "user_tz": 480
    },
    "id": "Kbsy1ieS6lqY",
    "outputId": "5c1b3879-f9c3-4c8e-b153-bb66d6e75229",
    "slideshow": {
     "slide_type": "fragment"
    },
    "trusted": false
   },
   "cell_type": "code",
   "source": "# Recall:\n\nname = input(\"What's your name? \")\n\nprint(\"Hello\", name)",
   "execution_count": 14,
   "outputs": [
    {
     "name": "stdout",
     "output_type": "stream",
     "text": "What's your name? CSE20\nHello CSE20\n"
    }
   ]
  },
  {
   "metadata": {
    "colab": {
     "base_uri": "https://localhost:8080/"
    },
    "execution": {
     "iopub.execute_input": "2022-09-23T00:20:03.896286Z",
     "iopub.status.busy": "2022-09-23T00:20:03.895694Z",
     "iopub.status.idle": "2022-09-23T00:20:03.901630Z",
     "shell.execute_reply": "2022-09-23T00:20:03.902155Z"
    },
    "executionInfo": {
     "elapsed": 2705,
     "status": "ok",
     "timestamp": 1610495174610,
     "user": {
      "displayName": "Benedict Paten",
      "photoUrl": "https://lh3.googleusercontent.com/a-/AOh14Gh2rYrrH6yoNnUp0Oj4p4ouybc6ZcWGyPmKFtIY=s64",
      "userId": "06399644931392855882"
     },
     "user_tz": 480
    },
    "id": "olkcXHHz6lqg",
    "outputId": "5efa2d35-6c2f-4f23-a0bd-265c3507cd40",
    "slideshow": {
     "slide_type": "subslide"
    },
    "trusted": false
   },
   "cell_type": "code",
   "source": "# input() always returns a string.\n# We can use type conversion to create numbers\n\nvalue1 = int(input(\"Enter a number: \")) \n\nvalue2 = int(input(\"Enter another number: \")) \n\nprint(\"The sum of your two numbers is: \", value1 + value2)",
   "execution_count": 4,
   "outputs": [
    {
     "output_type": "stream",
     "name": "stdout",
     "text": "Enter a number: 2\nEnter another number: 3\nThe sum of your two numbers is:  5\n"
    }
   ]
  },
  {
   "metadata": {
    "id": "V4a91aOq6lql",
    "slideshow": {
     "slide_type": "fragment"
    }
   },
   "cell_type": "markdown",
   "source": "* Note: input(), like print(), str(), int(), type() is an example of a function, we'll come back to how these work soon"
  },
  {
   "metadata": {
    "slideshow": {
     "slide_type": "subslide"
    }
   },
   "cell_type": "markdown",
   "source": "# Challenge 5"
  },
  {
   "metadata": {
    "execution": {
     "iopub.execute_input": "2022-09-23T00:20:03.906336Z",
     "iopub.status.busy": "2022-09-23T00:20:03.905741Z",
     "iopub.status.idle": "2022-09-23T00:20:03.911443Z",
     "shell.execute_reply": "2022-09-23T00:20:03.911889Z"
    },
    "slideshow": {
     "slide_type": "fragment"
    },
    "trusted": true
   },
   "cell_type": "code",
   "source": "# Adapt the program above to read in floating point numbers:\n\nvalue1 = input(\"Enter a number: \")\nvalue2 = input(\"Enter another number: \")\nprint(f\"The sum of your two numbers is: {value1 + value2}\")",
   "execution_count": 4,
   "outputs": [
    {
     "output_type": "stream",
     "name": "stdout",
     "text": "Enter a number: 3\nEnter another number: 4\nThe sum of your two numbers is: 34\n"
    }
   ]
  },
  {
   "metadata": {
    "id": "MID_5W3JHkY8",
    "slideshow": {
     "slide_type": "slide"
    }
   },
   "cell_type": "markdown",
   "source": "# List Basics\n\nPython lists are sequences of objects, written using square brackets and commas"
  },
  {
   "metadata": {
    "execution": {
     "iopub.execute_input": "2022-09-23T00:20:03.915517Z",
     "iopub.status.busy": "2022-09-23T00:20:03.914929Z",
     "iopub.status.idle": "2022-09-23T00:20:03.916903Z",
     "shell.execute_reply": "2022-09-23T00:20:03.917361Z"
    },
    "id": "7jpmuhZ2H9Mj",
    "slideshow": {
     "slide_type": "fragment"
    },
    "trusted": true
   },
   "cell_type": "code",
   "source": "x = [ 1, 8.0, \"hello\"] \n\nx",
   "execution_count": 2,
   "outputs": [
    {
     "output_type": "execute_result",
     "execution_count": 2,
     "data": {
      "text/plain": "[1, 8.0, 'hello']"
     },
     "metadata": {}
    }
   ]
  },
  {
   "metadata": {
    "colab": {
     "base_uri": "https://localhost:8080/"
    },
    "execution": {
     "iopub.execute_input": "2022-09-23T00:20:03.921525Z",
     "iopub.status.busy": "2022-09-23T00:20:03.920824Z",
     "iopub.status.idle": "2022-09-23T00:20:03.923519Z",
     "shell.execute_reply": "2022-09-23T00:20:03.924013Z"
    },
    "executionInfo": {
     "elapsed": 394,
     "status": "ok",
     "timestamp": 1610495395337,
     "user": {
      "displayName": "Benedict Paten",
      "photoUrl": "https://lh3.googleusercontent.com/a-/AOh14Gh2rYrrH6yoNnUp0Oj4p4ouybc6ZcWGyPmKFtIY=s64",
      "userId": "06399644931392855882"
     },
     "user_tz": 480
    },
    "id": "L404R-wpIJNB",
    "outputId": "d53d4067-5f3c-4142-c3e4-6580d28b6143",
    "slideshow": {
     "slide_type": "fragment"
    },
    "trusted": false
   },
   "cell_type": "code",
   "source": "len(x)  # The length of the list",
   "execution_count": 23,
   "outputs": [
    {
     "data": {
      "text/plain": "3"
     },
     "execution_count": 23,
     "metadata": {},
     "output_type": "execute_result"
    }
   ]
  },
  {
   "metadata": {
    "colab": {
     "base_uri": "https://localhost:8080/"
    },
    "execution": {
     "iopub.execute_input": "2022-09-23T00:20:03.928425Z",
     "iopub.status.busy": "2022-09-23T00:20:03.927506Z",
     "iopub.status.idle": "2022-09-23T00:20:03.930410Z",
     "shell.execute_reply": "2022-09-23T00:20:03.930824Z"
    },
    "executionInfo": {
     "elapsed": 338,
     "status": "ok",
     "timestamp": 1607393851269,
     "user": {
      "displayName": "Benedict Paten",
      "photoUrl": "https://lh3.googleusercontent.com/a-/AOh14Gh2rYrrH6yoNnUp0Oj4p4ouybc6ZcWGyPmKFtIY=s64",
      "userId": "06399644931392855882"
     },
     "user_tz": 480
    },
    "id": "P8ZaQvcFIMJn",
    "outputId": "5b08d31e-3b34-4d5a-9072-d171382ed479",
    "slideshow": {
     "slide_type": "fragment"
    },
    "trusted": false
   },
   "cell_type": "code",
   "source": "print(x) # Printing a list shows it contents",
   "execution_count": 24,
   "outputs": [
    {
     "name": "stdout",
     "output_type": "stream",
     "text": "[1, 8.0, 'hello']\n"
    }
   ]
  },
  {
   "metadata": {
    "colab": {
     "base_uri": "https://localhost:8080/"
    },
    "execution": {
     "iopub.execute_input": "2022-09-23T00:20:03.935604Z",
     "iopub.status.busy": "2022-09-23T00:20:03.934666Z",
     "iopub.status.idle": "2022-09-23T00:20:03.937979Z",
     "shell.execute_reply": "2022-09-23T00:20:03.938406Z"
    },
    "executionInfo": {
     "elapsed": 338,
     "status": "ok",
     "timestamp": 1607393852471,
     "user": {
      "displayName": "Benedict Paten",
      "photoUrl": "https://lh3.googleusercontent.com/a-/AOh14Gh2rYrrH6yoNnUp0Oj4p4ouybc6ZcWGyPmKFtIY=s64",
      "userId": "06399644931392855882"
     },
     "user_tz": 480
    },
    "id": "z7kWX_iuIXnf",
    "outputId": "e20c4700-f52f-4208-ea21-2c018f108ede",
    "slideshow": {
     "slide_type": "fragment"
    },
    "trusted": false
   },
   "cell_type": "code",
   "source": "x[0] # The first element of the list, Python lists are INDEXED FROM 0 ",
   "execution_count": 25,
   "outputs": [
    {
     "data": {
      "text/plain": "1"
     },
     "execution_count": 25,
     "metadata": {},
     "output_type": "execute_result"
    }
   ]
  },
  {
   "metadata": {
    "colab": {
     "base_uri": "https://localhost:8080/"
    },
    "execution": {
     "iopub.execute_input": "2022-09-23T00:20:03.943198Z",
     "iopub.status.busy": "2022-09-23T00:20:03.942348Z",
     "iopub.status.idle": "2022-09-23T00:20:03.945672Z",
     "shell.execute_reply": "2022-09-23T00:20:03.946133Z"
    },
    "executionInfo": {
     "elapsed": 326,
     "status": "ok",
     "timestamp": 1607393853731,
     "user": {
      "displayName": "Benedict Paten",
      "photoUrl": "https://lh3.googleusercontent.com/a-/AOh14Gh2rYrrH6yoNnUp0Oj4p4ouybc6ZcWGyPmKFtIY=s64",
      "userId": "06399644931392855882"
     },
     "user_tz": 480
    },
    "id": "4zxPY5pvIdcT",
    "outputId": "cd79b1fd-379a-449b-99f7-0327fe4c87ed",
    "slideshow": {
     "slide_type": "fragment"
    },
    "trusted": false
   },
   "cell_type": "code",
   "source": "x[1] # The second",
   "execution_count": 26,
   "outputs": [
    {
     "data": {
      "text/plain": "8.0"
     },
     "execution_count": 26,
     "metadata": {},
     "output_type": "execute_result"
    }
   ]
  },
  {
   "metadata": {
    "colab": {
     "base_uri": "https://localhost:8080/"
    },
    "execution": {
     "iopub.execute_input": "2022-09-23T00:20:03.958674Z",
     "iopub.status.busy": "2022-09-23T00:20:03.958050Z",
     "iopub.status.idle": "2022-09-23T00:20:03.960459Z",
     "shell.execute_reply": "2022-09-23T00:20:03.960929Z"
    },
    "executionInfo": {
     "elapsed": 343,
     "status": "ok",
     "timestamp": 1607393856573,
     "user": {
      "displayName": "Benedict Paten",
      "photoUrl": "https://lh3.googleusercontent.com/a-/AOh14Gh2rYrrH6yoNnUp0Oj4p4ouybc6ZcWGyPmKFtIY=s64",
      "userId": "06399644931392855882"
     },
     "user_tz": 480
    },
    "id": "Mal2A87YImp2",
    "outputId": "cb527017-7c8a-45e6-9c17-e52eb6d5f9cc",
    "slideshow": {
     "slide_type": "subslide"
    },
    "trusted": true
   },
   "cell_type": "code",
   "source": "print(\"x is\", x)",
   "execution_count": 4,
   "outputs": [
    {
     "output_type": "stream",
     "text": "x is [1, 8.0, 'hello']\n",
     "name": "stdout"
    }
   ]
  },
  {
   "metadata": {
    "trusted": true
   },
   "cell_type": "code",
   "source": "x[0] = \"coffee\"             # Replace a member of the list\n\nprint(\"x is\", x)",
   "execution_count": 5,
   "outputs": [
    {
     "output_type": "stream",
     "text": "x is ['coffee', 8.0, 'hello']\n",
     "name": "stdout"
    }
   ]
  },
  {
   "metadata": {
    "colab": {
     "base_uri": "https://localhost:8080/"
    },
    "execution": {
     "iopub.execute_input": "2022-09-23T00:20:03.965606Z",
     "iopub.status.busy": "2022-09-23T00:20:03.964870Z",
     "iopub.status.idle": "2022-09-23T00:20:03.967778Z",
     "shell.execute_reply": "2022-09-23T00:20:03.968372Z"
    },
    "executionInfo": {
     "elapsed": 317,
     "status": "ok",
     "timestamp": 1607393907915,
     "user": {
      "displayName": "Benedict Paten",
      "photoUrl": "https://lh3.googleusercontent.com/a-/AOh14Gh2rYrrH6yoNnUp0Oj4p4ouybc6ZcWGyPmKFtIY=s64",
      "userId": "06399644931392855882"
     },
     "user_tz": 480
    },
    "id": "z8lM2V7EI0VX",
    "outputId": "a3901eaf-2ac7-4a51-b009-260a213c9549",
    "slideshow": {
     "slide_type": "skip"
    },
    "trusted": false
   },
   "cell_type": "code",
   "source": "dir(x) # Lists have many other features, we'll visit them again soon\n\n# dir() is a builtin function we can use to discover the variables \n# and methods of a Python object - the \"__\" names look strange here, \n# we'll figure these out later",
   "execution_count": 30,
   "outputs": [
    {
     "data": {
      "text/plain": "['__add__',\n '__class__',\n '__contains__',\n '__delattr__',\n '__delitem__',\n '__dir__',\n '__doc__',\n '__eq__',\n '__format__',\n '__ge__',\n '__getattribute__',\n '__getitem__',\n '__gt__',\n '__hash__',\n '__iadd__',\n '__imul__',\n '__init__',\n '__init_subclass__',\n '__iter__',\n '__le__',\n '__len__',\n '__lt__',\n '__mul__',\n '__ne__',\n '__new__',\n '__reduce__',\n '__reduce_ex__',\n '__repr__',\n '__reversed__',\n '__rmul__',\n '__setattr__',\n '__setitem__',\n '__sizeof__',\n '__str__',\n '__subclasshook__',\n 'append',\n 'clear',\n 'copy',\n 'count',\n 'extend',\n 'index',\n 'insert',\n 'pop',\n 'remove',\n 'reverse',\n 'sort']"
     },
     "execution_count": 30,
     "metadata": {},
     "output_type": "execute_result"
    }
   ]
  },
  {
   "metadata": {
    "slideshow": {
     "slide_type": "subslide"
    }
   },
   "cell_type": "markdown",
   "source": "# Challenge 6"
  },
  {
   "metadata": {
    "execution": {
     "iopub.execute_input": "2022-09-23T00:20:03.972014Z",
     "iopub.status.busy": "2022-09-23T00:20:03.971438Z",
     "iopub.status.idle": "2022-09-23T00:20:03.974060Z",
     "shell.execute_reply": "2022-09-23T00:20:03.973630Z"
    },
    "slideshow": {
     "slide_type": "fragment"
    },
    "trusted": true
   },
   "cell_type": "code",
   "source": "x = [ \"1\", \"2\", \"3\" ]\n\n# Convert each member of the list to an integer\n\nx",
   "execution_count": 6,
   "outputs": [
    {
     "output_type": "execute_result",
     "execution_count": 6,
     "data": {
      "text/plain": "['1', '2', '3']"
     },
     "metadata": {}
    }
   ]
  },
  {
   "metadata": {
    "id": "VUnSbmkzyKwd",
    "slideshow": {
     "slide_type": "slide"
    }
   },
   "cell_type": "markdown",
   "source": "# Dictionary Basics"
  },
  {
   "metadata": {
    "execution": {
     "iopub.execute_input": "2022-09-23T00:20:03.978215Z",
     "iopub.status.busy": "2022-09-23T00:20:03.977578Z",
     "iopub.status.idle": "2022-09-23T00:20:03.979980Z",
     "shell.execute_reply": "2022-09-23T00:20:03.980513Z"
    },
    "id": "Fv6ucZiFYbG9",
    "slideshow": {
     "slide_type": "fragment"
    },
    "trusted": false
   },
   "cell_type": "code",
   "source": "fruit_costs = {\"apples\": 430, \"bananas\": 312, \"oranges\": 525, \"pears\": 217}\nfruit_costs",
   "execution_count": 25,
   "outputs": [
    {
     "data": {
      "text/plain": "{'apples': 430, 'bananas': 312, 'oranges': 525, 'pears': 217}"
     },
     "execution_count": 25,
     "metadata": {},
     "output_type": "execute_result"
    }
   ]
  },
  {
   "metadata": {
    "id": "L2INsf0OhGkP",
    "slideshow": {
     "slide_type": "fragment"
    }
   },
   "cell_type": "markdown",
   "source": "* Dictionaries are defined by curly braces {}\n\n* They are a collection of key:value pairs, each pair separated by a comma.\n\n* Keys and values can be most Python objects, e.g: { 1:\"hello\", \"two\":True }\n\n* You look up elements in a dictionary using square bracket notation:"
  },
  {
   "metadata": {
    "colab": {
     "base_uri": "https://localhost:8080/",
     "height": 35
    },
    "execution": {
     "iopub.execute_input": "2022-09-23T00:20:03.985460Z",
     "iopub.status.busy": "2022-09-23T00:20:03.984641Z",
     "iopub.status.idle": "2022-09-23T00:20:03.987942Z",
     "shell.execute_reply": "2022-09-23T00:20:03.988399Z"
    },
    "executionInfo": {
     "elapsed": 1128,
     "status": "ok",
     "timestamp": 1606701189291,
     "user": {
      "displayName": "Benedict Paten",
      "photoUrl": "https://lh3.googleusercontent.com/a-/AOh14Gh2rYrrH6yoNnUp0Oj4p4ouybc6ZcWGyPmKFtIY=s64",
      "userId": "06399644931392855882"
     },
     "user_tz": 480
    },
    "id": "0tE3-3TZiLY1",
    "outputId": "42f08720-81ae-49cc-f542-c6d921639555",
    "slideshow": {
     "slide_type": "fragment"
    },
    "trusted": false
   },
   "cell_type": "code",
   "source": "fruit_costs[\"\"\"apples\"\"\"]",
   "execution_count": 27,
   "outputs": [
    {
     "data": {
      "text/plain": "430"
     },
     "execution_count": 27,
     "metadata": {},
     "output_type": "execute_result"
    }
   ]
  },
  {
   "metadata": {
    "id": "cuONFTaehZ9M",
    "slideshow": {
     "slide_type": "subslide"
    }
   },
   "cell_type": "markdown",
   "source": "**No duplicate keys**: You can't have duplicate keys in a dictionary:"
  },
  {
   "metadata": {
    "colab": {
     "base_uri": "https://localhost:8080/"
    },
    "execution": {
     "iopub.execute_input": "2022-09-23T00:20:03.994775Z",
     "iopub.status.busy": "2022-09-23T00:20:03.993664Z",
     "iopub.status.idle": "2022-09-23T00:20:03.997445Z",
     "shell.execute_reply": "2022-09-23T00:20:03.998163Z"
    },
    "executionInfo": {
     "elapsed": 1125,
     "status": "ok",
     "timestamp": 1606701189292,
     "user": {
      "displayName": "Benedict Paten",
      "photoUrl": "https://lh3.googleusercontent.com/a-/AOh14Gh2rYrrH6yoNnUp0Oj4p4ouybc6ZcWGyPmKFtIY=s64",
      "userId": "06399644931392855882"
     },
     "user_tz": 480
    },
    "id": "4vxBbOTbysDq",
    "outputId": "2bfac3c3-5d17-47e1-bdb8-3300eecd2638",
    "slideshow": {
     "slide_type": "fragment"
    },
    "trusted": false
   },
   "cell_type": "code",
   "source": "fruit_costs = {\"apples\": 430, \"bananas\": 312, \"oranges\": 525, \"apples\": 217}\nfruit_costs",
   "execution_count": 36,
   "outputs": [
    {
     "data": {
      "text/plain": "{'apples': 217, 'bananas': 312, 'oranges': 525}"
     },
     "execution_count": 36,
     "metadata": {},
     "output_type": "execute_result"
    }
   ]
  },
  {
   "metadata": {
    "id": "a8MVbh8f3VB0",
    "slideshow": {
     "slide_type": "subslide"
    }
   },
   "cell_type": "markdown",
   "source": "**Duplicate values are allowed**:"
  },
  {
   "metadata": {
    "colab": {
     "base_uri": "https://localhost:8080/"
    },
    "execution": {
     "iopub.execute_input": "2022-09-23T00:20:04.004521Z",
     "iopub.status.busy": "2022-09-23T00:20:04.003389Z",
     "iopub.status.idle": "2022-09-23T00:20:04.007234Z",
     "shell.execute_reply": "2022-09-23T00:20:04.008085Z"
    },
    "executionInfo": {
     "elapsed": 1122,
     "status": "ok",
     "timestamp": 1606701189292,
     "user": {
      "displayName": "Benedict Paten",
      "photoUrl": "https://lh3.googleusercontent.com/a-/AOh14Gh2rYrrH6yoNnUp0Oj4p4ouybc6ZcWGyPmKFtIY=s64",
      "userId": "06399644931392855882"
     },
     "user_tz": 480
    },
    "id": "qJOxmZ1p3X-A",
    "outputId": "0f3af977-2a7f-4c9f-8331-179e205d95a2",
    "slideshow": {
     "slide_type": "fragment"
    },
    "trusted": true
   },
   "cell_type": "code",
   "source": "fruit_costs = {\"apples\": 430, \"bananas\": 312, \"oranges\": 525, \"pears\": 430}\nfruit_costs",
   "execution_count": 2,
   "outputs": [
    {
     "output_type": "execute_result",
     "execution_count": 2,
     "data": {
      "text/plain": "{'apples': 430, 'bananas': 312, 'oranges': 525, 'pears': 430}"
     },
     "metadata": {}
    }
   ]
  },
  {
   "metadata": {
    "id": "9MdtD4pgy89t",
    "slideshow": {
     "slide_type": "subslide"
    }
   },
   "cell_type": "markdown",
   "source": "**Dictionaries are mutable:**"
  },
  {
   "metadata": {
    "colab": {
     "base_uri": "https://localhost:8080/"
    },
    "execution": {
     "iopub.execute_input": "2022-09-23T00:20:04.014807Z",
     "iopub.status.busy": "2022-09-23T00:20:04.013638Z",
     "iopub.status.idle": "2022-09-23T00:20:04.017671Z",
     "shell.execute_reply": "2022-09-23T00:20:04.018521Z"
    },
    "executionInfo": {
     "elapsed": 1119,
     "status": "ok",
     "timestamp": 1606701189293,
     "user": {
      "displayName": "Benedict Paten",
      "photoUrl": "https://lh3.googleusercontent.com/a-/AOh14Gh2rYrrH6yoNnUp0Oj4p4ouybc6ZcWGyPmKFtIY=s64",
      "userId": "06399644931392855882"
     },
     "user_tz": 480
    },
    "id": "0x2AWL4EzBlb",
    "outputId": "34eeedea-26de-48fc-a3b1-2e6de1515df7",
    "slideshow": {
     "slide_type": "fragment"
    },
    "trusted": true
   },
   "cell_type": "code",
   "source": "print(fruit_costs)\nfruit_costs[\"apples\"] = 0\nprint(fruit_costs)",
   "execution_count": 3,
   "outputs": [
    {
     "output_type": "stream",
     "text": "{'apples': 430, 'bananas': 312, 'oranges': 525, 'pears': 430}\n{'apples': 0, 'bananas': 312, 'oranges': 525, 'pears': 430}\n",
     "name": "stdout"
    }
   ]
  },
  {
   "metadata": {
    "slideshow": {
     "slide_type": "subslide"
    }
   },
   "cell_type": "markdown",
   "source": "# Challenge 7"
  },
  {
   "metadata": {
    "execution": {
     "iopub.execute_input": "2022-09-23T00:20:04.034887Z",
     "iopub.status.busy": "2022-09-23T00:20:04.033856Z",
     "iopub.status.idle": "2022-09-23T00:20:04.036812Z",
     "shell.execute_reply": "2022-09-23T00:20:04.037322Z"
    },
    "trusted": true
   },
   "cell_type": "code",
   "source": "# Make a dictionary mapping the integers 1, 2, ..., 5 \n# to their cubes (1, 8, 27, ...)\n\n",
   "execution_count": 12,
   "outputs": []
  },
  {
   "metadata": {
    "id": "KZP9y5sgyVm8",
    "slideshow": {
     "slide_type": "slide"
    }
   },
   "cell_type": "markdown",
   "source": "# Homework for Monday\n\n* ZyBooks\n  * Reading 2 \n  * **Reading 3**\n  * Assignment 1\n"
  }
 ],
 "metadata": {
  "celltoolbar": "Slideshow",
  "colab": {
   "collapsed_sections": [
    "S4CkZnM_4FvB",
    "odfPyGzkdUIJ",
    "JPxEMRO9bFgc",
    "nx4iryO296kf",
    "MiqSwuSkggbP",
    "GFggsPxW6lqW",
    "MID_5W3JHkY8",
    "VUnSbmkzyKwd"
   ],
   "name": "L03 More Types",
   "provenance": []
  },
  "kernelspec": {
   "name": "python3",
   "display_name": "Python 3",
   "language": "python"
  },
  "language_info": {
   "name": "python",
   "version": "3.10.4",
   "mimetype": "text/x-python",
   "codemirror_mode": {
    "name": "ipython",
    "version": 3
   },
   "pygments_lexer": "ipython3",
   "nbconvert_exporter": "python",
   "file_extension": ".py"
  }
 },
 "nbformat": 4,
 "nbformat_minor": 1
}