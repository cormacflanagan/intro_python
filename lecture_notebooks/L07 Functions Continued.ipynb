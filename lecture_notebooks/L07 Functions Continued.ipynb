{
 "cells": [
  {
   "metadata": {
    "id": "5UyFJYXOx-WH",
    "slideshow": {
     "slide_type": "slide"
    }
   },
   "cell_type": "markdown",
   "source": "# Lecture 7 - Functions Continued "
  },
  {
   "metadata": {
    "slideshow": {
     "slide_type": "slide"
    }
   },
   "cell_type": "markdown",
   "source": "# Warm-up: Practice with Loops and Functions"
  },
  {
   "metadata": {
    "trusted": false
   },
   "cell_type": "code",
   "source": "# Write the following functions without using '+', '*', or '**'\n# Instead use loops and call add from mul, etc\n\ndef add(x,y):    # x and y are LOCAL to add, not visible in mul\n    # write without using '+'\n    # instead use a loop with increments and decrements\n    # ie x + 1 + 1 ... + 1 (y times)\n    for i in range(y):\n        x = x + 1\n    return x\n\nprint(add(3,5))\n\ndef mul(x,y):  # x and y are LOCAL to mul, DIFFERENT from x and y in add !!!\n    # write without using '*' or '+', instead call add in a loop\n    # 0 + x + x + x + ...  (y times)\n    sum = 0\n    for i in range(y):\n        sum = add( sum, x )   # Scary ****\n    return sum\n\nprint(mul(3,10))\n    \ndef exp(x,y):\n    # write without using '**' or '*' or '+', instead call mul in a loop\n    # 1 * x * x * x ... (y times)\n    product = 1\n    for i in range(y):\n        product = mul( product, x)   # mul does product * x\n    return product\n\nprint(exp(2,4))",
   "execution_count": 7,
   "outputs": [
    {
     "output_type": "stream",
     "text": "8\n30\n16\n",
     "name": "stdout"
    }
   ]
  },
  {
   "metadata": {
    "id": "UGT7JF9yXYWF",
    "slideshow": {
     "slide_type": "slide"
    }
   },
   "cell_type": "markdown",
   "source": "# Scope"
  },
  {
   "metadata": {
    "id": "CDhZEuhjJkQf",
    "slideshow": {
     "slide_type": "fragment"
    }
   },
   "cell_type": "markdown",
   "source": "**Scope** rules define what variables are visible as a point in a program\n\n"
  },
  {
   "metadata": {
    "id": "LSXCXIB-XwaD",
    "slideshow": {
     "slide_type": "subslide"
    }
   },
   "cell_type": "markdown",
   "source": "Python defines three levels of scope:\n\n* **Local scope** refers to identifiers declared within a function. These identifiers are only visible within that function; they are not visible outside of the function."
  },
  {
   "metadata": {
    "execution": {
     "iopub.execute_input": "2022-09-23T00:20:10.535100Z",
     "iopub.status.busy": "2022-09-23T00:20:10.534439Z",
     "iopub.status.idle": "2022-09-23T00:20:10.536704Z",
     "shell.execute_reply": "2022-09-23T00:20:10.537143Z"
    },
    "id": "NWBgegWbKKqW",
    "slideshow": {
     "slide_type": "fragment"
    },
    "trusted": true
   },
   "cell_type": "code",
   "source": "def sum(x, y):\n    z = x + y \n    # x, y and z are in the local scope of the function, they are \"local variables\"\n    print(x,y,z)\n    return z\n\n# x is not in scope\nprint(sum(3,4))\nprint(x)",
   "execution_count": 5,
   "outputs": [
    {
     "output_type": "stream",
     "text": "3 4 7\n7\n",
     "name": "stdout"
    },
    {
     "output_type": "error",
     "ename": "NameError",
     "evalue": "name 'x' is not defined",
     "traceback": [
      "\u001b[0;31m---------------------------------------------------------------------------\u001b[0m",
      "\u001b[0;31mNameError\u001b[0m                                 Traceback (most recent call last)",
      "\u001b[0;32m<ipython-input-5-018fa7d31cfc>\u001b[0m in \u001b[0;36m<module>\u001b[0;34m\u001b[0m\n\u001b[1;32m      7\u001b[0m \u001b[0;31m# x is not in scope\u001b[0m\u001b[0;34m\u001b[0m\u001b[0;34m\u001b[0m\u001b[0m\n\u001b[1;32m      8\u001b[0m \u001b[0mprint\u001b[0m\u001b[0;34m(\u001b[0m\u001b[0msum\u001b[0m\u001b[0;34m(\u001b[0m\u001b[0;36m3\u001b[0m\u001b[0;34m,\u001b[0m\u001b[0;36m4\u001b[0m\u001b[0;34m)\u001b[0m\u001b[0;34m)\u001b[0m\u001b[0;34m\u001b[0m\u001b[0;34m\u001b[0m\u001b[0m\n\u001b[0;32m----> 9\u001b[0;31m \u001b[0mprint\u001b[0m\u001b[0;34m(\u001b[0m\u001b[0mx\u001b[0m\u001b[0;34m)\u001b[0m\u001b[0;34m\u001b[0m\u001b[0;34m\u001b[0m\u001b[0m\n\u001b[0m",
      "\u001b[0;31mNameError\u001b[0m: name 'x' is not defined"
     ]
    }
   ]
  },
  {
   "metadata": {
    "id": "UJs-GeWeKBil",
    "slideshow": {
     "slide_type": "subslide"
    }
   },
   "cell_type": "markdown",
   "source": "* **Global scope** refers to all the identifiers declared within the current module, or file.\n\n"
  },
  {
   "metadata": {
    "execution": {
     "iopub.execute_input": "2022-09-23T00:20:10.541649Z",
     "iopub.status.busy": "2022-09-23T00:20:10.540816Z",
     "iopub.status.idle": "2022-09-23T00:20:10.543022Z",
     "shell.execute_reply": "2022-09-23T00:20:10.543830Z"
    },
    "id": "dEqrqBxIKUxU",
    "slideshow": {
     "slide_type": "fragment"
    },
    "trusted": false
   },
   "cell_type": "code",
   "source": "s = \"hello\" # s is in global scope, it is a global variable\n\nprint(s)  # s is in scope\n\ndef sum(x, y):\n  z = x + y + len(s)   # s is in scope\n  return z\n\nprint(s)  # s is still in scope\n# x is not in scope",
   "execution_count": 1,
   "outputs": [
    {
     "output_type": "stream",
     "text": "hello\nhello\n",
     "name": "stdout"
    }
   ]
  },
  {
   "metadata": {
    "id": "KvErBbabKGip",
    "slideshow": {
     "slide_type": "subslide"
    }
   },
   "cell_type": "markdown",
   "source": "* **Built-in scope** refers to all the identifiers built into Python — those like range and list.\n\n"
  },
  {
   "metadata": {
    "execution": {
     "iopub.execute_input": "2022-09-23T00:20:10.549184Z",
     "iopub.status.busy": "2022-09-23T00:20:10.548375Z",
     "iopub.status.idle": "2022-09-23T00:20:10.556337Z",
     "shell.execute_reply": "2022-09-23T00:20:10.556806Z"
    },
    "id": "Z625Gwf-KrCo",
    "slideshow": {
     "slide_type": "fragment"
    },
    "trusted": false
   },
   "cell_type": "code",
   "source": "s = \"hello\" # s is in global scope, it is a global variable\n\nprint(s)  # s is in scope and print is in scope\n\ndef sum(x, y):\n  z = x + y + len(s)   # s is in scope and len is in scope\n  return z\n\nprint(s)  # s is still in scope and print is in scope\n# x is not in scope",
   "execution_count": 2,
   "outputs": [
    {
     "output_type": "stream",
     "text": "hello\nhello\n",
     "name": "stdout"
    }
   ]
  },
  {
   "metadata": {
    "id": "a-VRyvr9KpGM",
    "slideshow": {
     "slide_type": "subslide"
    }
   },
   "cell_type": "markdown",
   "source": "A line of code's **namespace** is defined by combining these three levels of scope. \n\n* local scope\n* global scope\n* built-in scope\n\nIdentifier collisions (identifiers with the same name) are resolved\nby taking \n* local scope version in precedence to a global scope version, and \n* a global score version in precedence to a built-in scope version\n\nIn summary, **local scope > global scope > built-in scope.**\n\n\n"
  },
  {
   "metadata": {
    "colab": {
     "base_uri": "https://localhost:8080/"
    },
    "execution": {
     "iopub.execute_input": "2022-09-23T00:20:10.561629Z",
     "iopub.status.busy": "2022-09-23T00:20:10.560976Z",
     "iopub.status.idle": "2022-09-23T00:20:10.563863Z",
     "shell.execute_reply": "2022-09-23T00:20:10.564284Z"
    },
    "executionInfo": {
     "elapsed": 402,
     "status": "ok",
     "timestamp": 1607649524942,
     "user": {
      "displayName": "Benedict Paten",
      "photoUrl": "https://lh3.googleusercontent.com/a-/AOh14Gh2rYrrH6yoNnUp0Oj4p4ouybc6ZcWGyPmKFtIY=s64",
      "userId": "06399644931392855882"
     },
     "user_tz": 480
    },
    "id": "RKvZcpb3LKR1",
    "outputId": "7e932094-0c56-4dc4-ab6b-5f88113dafa8",
    "slideshow": {
     "slide_type": "fragment"
    },
    "trusted": false
   },
   "cell_type": "code",
   "source": "# Let's see how these rules affect an example\n\nx = 5        # global scope\n\ndef f():\n  x = 15     # local scope (ie a different variable)\n  print(x)   # Prints 15 as local scope > global scope\n\nprint(x)     # Prints 5 from the global scope x\n\nf() \n\nprint(x)     # Prints 5 as f does not affect global scope x",
   "execution_count": 1,
   "outputs": [
    {
     "output_type": "stream",
     "text": "5\n15\n5\n",
     "name": "stdout"
    }
   ]
  },
  {
   "metadata": {
    "id": "wdfe3rBkLJHR",
    "slideshow": {
     "slide_type": "slide"
    }
   },
   "cell_type": "markdown",
   "source": "# Illustrating The Effect of Scope Rules\n\n\nOkay, let's look at some more illustrative examples of the effect of scope rules on namespace:\n\n"
  },
  {
   "metadata": {
    "id": "oCa_CQUCaGxO",
    "slideshow": {
     "slide_type": "subslide"
    }
   },
   "cell_type": "markdown",
   "source": "**The local scope of a function is not available outside of the function**"
  },
  {
   "metadata": {
    "colab": {
     "base_uri": "https://localhost:8080/",
     "height": 253
    },
    "execution": {
     "iopub.execute_input": "2022-09-23T00:20:10.570838Z",
     "iopub.status.busy": "2022-09-23T00:20:10.569960Z",
     "iopub.status.idle": "2022-09-23T00:20:10.576739Z",
     "shell.execute_reply": "2022-09-23T00:20:10.577403Z"
    },
    "executionInfo": {
     "elapsed": 364,
     "status": "error",
     "timestamp": 1607649666069,
     "user": {
      "displayName": "Benedict Paten",
      "photoUrl": "https://lh3.googleusercontent.com/a-/AOh14Gh2rYrrH6yoNnUp0Oj4p4ouybc6ZcWGyPmKFtIY=s64",
      "userId": "06399644931392855882"
     },
     "user_tz": 480
    },
    "id": "GJZFUzenvsn2",
    "outputId": "f5660ba5-3cb6-4800-9874-6f0d104c1614",
    "slideshow": {
     "slide_type": "fragment"
    },
    "trusted": false
   },
   "cell_type": "code",
   "source": "def sum(l):\n  j = 0\n  for i in l:\n    j += i  \n  return j\n\nnumbers = [1, 9, 8]\n\nprint(f\"The sum of {numbers} is {sum(numbers)}\")\n\nprint(j)    # Error, no j in global scope\n\n# This is because j belongs to the local namespace of sum\n# and are not defined outside of it",
   "execution_count": 3,
   "outputs": [
    {
     "output_type": "stream",
     "text": "The sum of [1, 9, 8] is 18\n",
     "name": "stdout"
    },
    {
     "output_type": "error",
     "ename": "NameError",
     "evalue": "name 'j' is not defined",
     "traceback": [
      "\u001b[0;31m---------------------------------------------------------------------------\u001b[0m",
      "\u001b[0;31mNameError\u001b[0m                                 Traceback (most recent call last)",
      "\u001b[0;32m<ipython-input-3-f205816ef9ce>\u001b[0m in \u001b[0;36m<module>\u001b[0;34m\u001b[0m\n\u001b[1;32m      9\u001b[0m \u001b[0mprint\u001b[0m\u001b[0;34m(\u001b[0m\u001b[0;34mf\"The sum of {numbers} is {sum(numbers)}\"\u001b[0m\u001b[0;34m)\u001b[0m\u001b[0;34m\u001b[0m\u001b[0;34m\u001b[0m\u001b[0m\n\u001b[1;32m     10\u001b[0m \u001b[0;34m\u001b[0m\u001b[0m\n\u001b[0;32m---> 11\u001b[0;31m \u001b[0mprint\u001b[0m\u001b[0;34m(\u001b[0m\u001b[0mj\u001b[0m\u001b[0;34m)\u001b[0m    \u001b[0;31m# Error, no j in global scope\u001b[0m\u001b[0;34m\u001b[0m\u001b[0;34m\u001b[0m\u001b[0m\n\u001b[0m\u001b[1;32m     12\u001b[0m \u001b[0;34m\u001b[0m\u001b[0m\n\u001b[1;32m     13\u001b[0m \u001b[0;31m# This is because j belongs to the local namespace of sum\u001b[0m\u001b[0;34m\u001b[0m\u001b[0;34m\u001b[0m\u001b[0m\n",
      "\u001b[0;31mNameError\u001b[0m: name 'j' is not defined"
     ]
    }
   ]
  },
  {
   "metadata": {
    "id": "STQ7CVavapco",
    "slideshow": {
     "slide_type": "subslide"
    }
   },
   "cell_type": "markdown",
   "source": "**A function's namespace inherits scope from outside**"
  },
  {
   "metadata": {
    "colab": {
     "base_uri": "https://localhost:8080/",
     "height": 35
    },
    "execution": {
     "iopub.execute_input": "2022-09-23T00:20:10.588912Z",
     "iopub.status.busy": "2022-09-23T00:20:10.588178Z",
     "iopub.status.idle": "2022-09-23T00:20:10.591242Z",
     "shell.execute_reply": "2022-09-23T00:20:10.591655Z"
    },
    "executionInfo": {
     "elapsed": 542,
     "status": "ok",
     "timestamp": 1571958320011,
     "user": {
      "displayName": "Benedict Paten",
      "photoUrl": "https://lh3.googleusercontent.com/a-/AAuE7mBMnWy8dDR7jyTHNy9tPaRx6DCyA3QKrIcuQ7R4=s64",
      "userId": "06399644931392855882"
     },
     "user_tz": 420
    },
    "id": "9A6-vfZ90iBJ",
    "outputId": "3fee9c2b-2fc5-46f7-c10b-308cd2a02e0d",
    "slideshow": {
     "slide_type": "fragment"
    },
    "trusted": false
   },
   "cell_type": "code",
   "source": "little_words = [ \"a\", \"an\", \"the\", \"and\", \"or\", \"I\", \"to\"]   # global scope\n\ndef filterLittleWords(sentence):\n  \"\"\"\n  Removes some little words from a sentence\n  \"\"\" \n  filteredSentence = []\n  for word in sentence:\n    if word not in little_words:\n      filteredSentence.append(word) # Adds word to the list\n  \n  return filteredSentence\n\nfilterLittleWords([ \"I\", \"went\", \"to\", \"the\", \"shops\", \"and\", \"bought\", \"a\", \"hat\"])  \n\n# Here little_words is a \"global variable\" (has global scope), \n# that is it can be accessed by any line of the program.\n# In contrast \"filteredSentence\" is a local variable (has local scope)\n# of the \"filterLittleWords\" function",
   "execution_count": 6,
   "outputs": [
    {
     "output_type": "execute_result",
     "execution_count": 6,
     "data": {
      "text/plain": "['went', 'shops', 'bought', 'hat']"
     },
     "metadata": {}
    }
   ]
  },
  {
   "metadata": {
    "id": "BQ11Tkd9asKJ",
    "slideshow": {
     "slide_type": "subslide"
    }
   },
   "cell_type": "markdown",
   "source": "**Identifier Collisions**"
  },
  {
   "metadata": {
    "colab": {
     "base_uri": "https://localhost:8080/",
     "height": 35
    },
    "execution": {
     "iopub.execute_input": "2022-09-23T00:20:10.596783Z",
     "iopub.status.busy": "2022-09-23T00:20:10.595613Z",
     "iopub.status.idle": "2022-09-23T00:20:10.598985Z",
     "shell.execute_reply": "2022-09-23T00:20:10.598551Z"
    },
    "executionInfo": {
     "elapsed": 944,
     "status": "ok",
     "timestamp": 1571958444495,
     "user": {
      "displayName": "Benedict Paten",
      "photoUrl": "https://lh3.googleusercontent.com/a-/AAuE7mBMnWy8dDR7jyTHNy9tPaRx6DCyA3QKrIcuQ7R4=s64",
      "userId": "06399644931392855882"
     },
     "user_tz": 420
    },
    "id": "g41OKv8BbLv8",
    "outputId": "04b551de-15e8-4e32-d3ab-c6b646a5c65e",
    "slideshow": {
     "slide_type": "fragment"
    },
    "trusted": false
   },
   "cell_type": "code",
   "source": "# Okay, so what about identifier collisions?:\n\ndef range(x):\n  \"\"\" Redefining a built-in function (generally a bad idea)\"\"\"\n  print(x)\n  \nrange(10) # This calls the above function, because global scope > built-in scope",
   "execution_count": 8,
   "outputs": [
    {
     "name": "stdout",
     "output_type": "stream",
     "text": "10\n"
    }
   ]
  },
  {
   "metadata": {
    "id": "FiLzcCEaa_C1",
    "slideshow": {
     "slide_type": "subslide"
    }
   },
   "cell_type": "markdown",
   "source": "**Be careful trying to manipulate global variables within a local scope**"
  },
  {
   "metadata": {
    "colab": {
     "base_uri": "https://localhost:8080/",
     "height": 52
    },
    "execution": {
     "iopub.execute_input": "2022-09-23T00:20:10.605054Z",
     "iopub.status.busy": "2022-09-23T00:20:10.603986Z",
     "iopub.status.idle": "2022-09-23T00:20:10.608401Z",
     "shell.execute_reply": "2022-09-23T00:20:10.607659Z"
    },
    "executionInfo": {
     "elapsed": 520,
     "status": "ok",
     "timestamp": 1571958570456,
     "user": {
      "displayName": "Benedict Paten",
      "photoUrl": "https://lh3.googleusercontent.com/a-/AAuE7mBMnWy8dDR7jyTHNy9tPaRx6DCyA3QKrIcuQ7R4=s64",
      "userId": "06399644931392855882"
     },
     "user_tz": 420
    },
    "id": "ZO2_F4rx2kC8",
    "outputId": "14f98509-4be8-4164-d00b-64f371a9d698",
    "slideshow": {
     "slide_type": "subslide"
    },
    "trusted": true
   },
   "cell_type": "code",
   "source": "# Scope rules can do some things that might seem unexpected\n\nx = 0 # global\n\ndef set_x_3():\n    x = 3\n    \nprint(x)\nset_x_3()\nprint(x)",
   "execution_count": 8,
   "outputs": [
    {
     "output_type": "stream",
     "text": "0\n0\n",
     "name": "stdout"
    }
   ]
  },
  {
   "metadata": {
    "id": "UMgjO53o5nQ9",
    "slideshow": {
     "slide_type": "fragment"
    }
   },
   "cell_type": "markdown",
   "source": "The assignment of \"x = 3\" does not replace  the global variable x, rather it creates a new local scope variable called x. \n\nBy default, you can access variables from the surrounding (global) scope, but you cannot assign variables defined outside your scope."
  },
  {
   "metadata": {
    "slideshow": {
     "slide_type": "subslide"
    }
   },
   "cell_type": "markdown",
   "source": "# Global\n\nLet's fix the example using the **global** keyword:"
  },
  {
   "metadata": {
    "colab": {
     "base_uri": "https://localhost:8080/",
     "height": 52
    },
    "execution": {
     "iopub.execute_input": "2022-09-23T00:20:10.616483Z",
     "iopub.status.busy": "2022-09-23T00:20:10.615560Z",
     "iopub.status.idle": "2022-09-23T00:20:10.618569Z",
     "shell.execute_reply": "2022-09-23T00:20:10.618999Z"
    },
    "executionInfo": {
     "elapsed": 540,
     "status": "ok",
     "timestamp": 1571958694331,
     "user": {
      "displayName": "Benedict Paten",
      "photoUrl": "https://lh3.googleusercontent.com/a-/AAuE7mBMnWy8dDR7jyTHNy9tPaRx6DCyA3QKrIcuQ7R4=s64",
      "userId": "06399644931392855882"
     },
     "user_tz": 420
    },
    "id": "AR4KHFA4dTzV",
    "outputId": "8c89f049-478a-4d56-e15b-27a51f367cb1",
    "slideshow": {
     "slide_type": "fragment"
    },
    "trusted": true
   },
   "cell_type": "code",
   "source": "# To fix the above example we can avoid creating a new local scope variable \n# by using the global keyword:\n\nx = 0 # global\n\ndef set_x_3():\n    global x\n    x = 3\n    \nprint(x)\nset_x_3()\nprint(x)",
   "execution_count": 9,
   "outputs": [
    {
     "output_type": "stream",
     "text": "0\n3\n",
     "name": "stdout"
    }
   ]
  },
  {
   "metadata": {
    "id": "QJ71vuuAbinL",
    "slideshow": {
     "slide_type": "fragment"
    }
   },
   "cell_type": "markdown",
   "source": "Use the global keyword sparingly, in general it is a bad pattern to change global variables within a function.\n\nOkay: don't worry if these rules don't click immediately - it takes a little time to get used to scope rules!"
  },
  {
   "metadata": {
    "slideshow": {
     "slide_type": "subslide"
    }
   },
   "cell_type": "markdown",
   "source": "# Challenge 1"
  },
  {
   "metadata": {
    "execution": {
     "iopub.execute_input": "2022-09-23T00:20:10.625442Z",
     "iopub.status.busy": "2022-09-23T00:20:10.624104Z",
     "iopub.status.idle": "2022-09-23T00:20:10.627783Z",
     "shell.execute_reply": "2022-09-23T00:20:10.627107Z"
    },
    "slideshow": {
     "slide_type": "fragment"
    },
    "trusted": false
   },
   "cell_type": "code",
   "source": "y = 5\n\ndef adding(x, y):\n    y = x + y\n    return y\n\nadding(6, 7)\n\n# Q1: What is the value of y at this point?\n\ny = adding(6, 7)\n\n# Q2: And is the value of y now? ",
   "execution_count": 6,
   "outputs": []
  },
  {
   "metadata": {
    "id": "CFyk6QZ6Vad0",
    "slideshow": {
     "slide_type": "slide"
    }
   },
   "cell_type": "markdown",
   "source": "# Optional function arguments \n\nThis is another important piece of syntax that makes Python fun to work with."
  },
  {
   "metadata": {
    "colab": {
     "base_uri": "https://localhost:8080/"
    },
    "execution": {
     "iopub.execute_input": "2022-09-23T00:20:10.635004Z",
     "iopub.status.busy": "2022-09-23T00:20:10.634081Z",
     "iopub.status.idle": "2022-09-23T00:20:10.638352Z",
     "shell.execute_reply": "2022-09-23T00:20:10.638851Z"
    },
    "executionInfo": {
     "elapsed": 400,
     "status": "ok",
     "timestamp": 1607650578485,
     "user": {
      "displayName": "Benedict Paten",
      "photoUrl": "https://lh3.googleusercontent.com/a-/AOh14Gh2rYrrH6yoNnUp0Oj4p4ouybc6ZcWGyPmKFtIY=s64",
      "userId": "06399644931392855882"
     },
     "user_tz": 480
    },
    "id": "nyQXT0RwOSh9",
    "outputId": "8aba00b2-be48-4608-8d92-2ff3e78a8879",
    "slideshow": {
     "slide_type": "fragment"
    },
    "trusted": false
   },
   "cell_type": "code",
   "source": "def walkDog(dog): \n    print(f\"I like to walk my dog {dog}\")\n    \nwalkDog(\"Ranger\")",
   "execution_count": 2,
   "outputs": [
    {
     "output_type": "stream",
     "text": "I like to walk my dog Ranger\n",
     "name": "stdout"
    }
   ]
  },
  {
   "metadata": {
    "colab": {
     "base_uri": "https://localhost:8080/"
    },
    "execution": {
     "iopub.execute_input": "2022-09-23T00:20:10.635004Z",
     "iopub.status.busy": "2022-09-23T00:20:10.634081Z",
     "iopub.status.idle": "2022-09-23T00:20:10.638352Z",
     "shell.execute_reply": "2022-09-23T00:20:10.638851Z"
    },
    "executionInfo": {
     "elapsed": 400,
     "status": "ok",
     "timestamp": 1607650578485,
     "user": {
      "displayName": "Benedict Paten",
      "photoUrl": "https://lh3.googleusercontent.com/a-/AOh14Gh2rYrrH6yoNnUp0Oj4p4ouybc6ZcWGyPmKFtIY=s64",
      "userId": "06399644931392855882"
     },
     "user_tz": 480
    },
    "id": "nyQXT0RwOSh9",
    "outputId": "8aba00b2-be48-4608-8d92-2ff3e78a8879",
    "slideshow": {
     "slide_type": "fragment"
    },
    "trusted": false
   },
   "cell_type": "code",
   "source": "def walkDog(dog = \"Ranger\"): \n    print(f\"I like to walk my dog {dog}\")\n    \nwalkDog(\"Ranger\")\n\nwalkDog(\"Fido\")\n\nwalkDog()\n\nwalkDog(dog=\"Cujo\")\n",
   "execution_count": 4,
   "outputs": [
    {
     "output_type": "stream",
     "text": "I like to walk my dog Ranger\nI like to walk my dog Fido\nI like to walk my dog Ranger\nI like to walk my dog Cujo\n",
     "name": "stdout"
    }
   ]
  },
  {
   "metadata": {
    "id": "CFyk6QZ6Vad0",
    "slideshow": {
     "slide_type": "slide"
    }
   },
   "cell_type": "markdown",
   "source": "# Optional function arguments "
  },
  {
   "metadata": {
    "colab": {
     "base_uri": "https://localhost:8080/"
    },
    "execution": {
     "iopub.execute_input": "2022-09-23T00:20:10.635004Z",
     "iopub.status.busy": "2022-09-23T00:20:10.634081Z",
     "iopub.status.idle": "2022-09-23T00:20:10.638352Z",
     "shell.execute_reply": "2022-09-23T00:20:10.638851Z"
    },
    "executionInfo": {
     "elapsed": 400,
     "status": "ok",
     "timestamp": 1607650578485,
     "user": {
      "displayName": "Benedict Paten",
      "photoUrl": "https://lh3.googleusercontent.com/a-/AOh14Gh2rYrrH6yoNnUp0Oj4p4ouybc6ZcWGyPmKFtIY=s64",
      "userId": "06399644931392855882"
     },
     "user_tz": 480
    },
    "id": "nyQXT0RwOSh9",
    "outputId": "8aba00b2-be48-4608-8d92-2ff3e78a8879",
    "slideshow": {
     "slide_type": "fragment"
    },
    "trusted": false
   },
   "cell_type": "code",
   "source": "def walkPets(dog = \"Ranger\", cat = \"Meow\"): \n    print(f\"I like to walk {dog} and {cat}\")\n    \nwalkPets()\n\nwalkPets(\"Fido\")\n\nwalkPets(\"Fido\", \"Tigger\")\n\nwalkPets(cat=\"Tigger\")\n\nwalkPets(dog=\"Fido\", cat=\"Tigger\")\n",
   "execution_count": 1,
   "outputs": [
    {
     "output_type": "stream",
     "text": "I like to walk Ranger and Meow\nI like to walk Fido and Meow\nI like to walk Fido and Tigger\nI like to walk Ranger and Tigger\nI like to walk Fido and Tigger\n",
     "name": "stdout"
    }
   ]
  },
  {
   "metadata": {
    "colab": {
     "base_uri": "https://localhost:8080/"
    },
    "execution": {
     "iopub.execute_input": "2022-09-23T00:20:10.670852Z",
     "iopub.status.busy": "2022-09-23T00:20:10.669978Z",
     "iopub.status.idle": "2022-09-23T00:20:10.673961Z",
     "shell.execute_reply": "2022-09-23T00:20:10.674392Z"
    },
    "executionInfo": {
     "elapsed": 416,
     "status": "ok",
     "timestamp": 1607650597278,
     "user": {
      "displayName": "Benedict Paten",
      "photoUrl": "https://lh3.googleusercontent.com/a-/AOh14Gh2rYrrH6yoNnUp0Oj4p4ouybc6ZcWGyPmKFtIY=s64",
      "userId": "06399644931392855882"
     },
     "user_tz": 480
    },
    "id": "mqDh6vQJQn-F",
    "outputId": "2139f007-97db-46d1-e101-51dbeae49582",
    "slideshow": {
     "slide_type": "fragment"
    },
    "trusted": false
   },
   "cell_type": "code",
   "source": "# You can also mix named and left-to-right (aka positional) arguments\n\nwalkPets(\"Fido\", cat=\"Tigger\")",
   "execution_count": 3,
   "outputs": [
    {
     "output_type": "stream",
     "text": "I like to walk Fido and Tigger\n",
     "name": "stdout"
    }
   ]
  },
  {
   "metadata": {
    "colab": {
     "base_uri": "https://localhost:8080/",
     "height": 132
    },
    "execution": {
     "iopub.execute_input": "2022-09-23T00:20:10.679347Z",
     "iopub.status.busy": "2022-09-23T00:20:10.678416Z",
     "iopub.status.idle": "2022-09-23T00:20:10.681639Z",
     "shell.execute_reply": "2022-09-23T00:20:10.682237Z"
    },
    "executionInfo": {
     "elapsed": 402,
     "status": "error",
     "timestamp": 1607650867606,
     "user": {
      "displayName": "Benedict Paten",
      "photoUrl": "https://lh3.googleusercontent.com/a-/AOh14Gh2rYrrH6yoNnUp0Oj4p4ouybc6ZcWGyPmKFtIY=s64",
      "userId": "06399644931392855882"
     },
     "user_tz": 480
    },
    "id": "UUQuyEPZQzlw",
    "outputId": "ca512737-ed1b-4ce7-db2d-f6c1b2fe6bc8",
    "slideshow": {
     "slide_type": "subslide"
    },
    "trusted": false
   },
   "cell_type": "code",
   "source": "# Python insists that once you give default arguments\n# you give all remaining arguments default values..\n\ndef walkPets(dog = \"Ranger\", cat): \n    print(f\"I like to walk {dog} and {cat}\")\n",
   "execution_count": 19,
   "outputs": [
    {
     "output_type": "error",
     "ename": "SyntaxError",
     "evalue": "non-default argument follows default argument (<ipython-input-19-e2a69f0b0341>, line 4)",
     "traceback": [
      "\u001b[0;36m  File \u001b[0;32m\"<ipython-input-19-e2a69f0b0341>\"\u001b[0;36m, line \u001b[0;32m4\u001b[0m\n\u001b[0;31m    def walkPets(dog = \"Ranger\", cat):\u001b[0m\n\u001b[0m                                 ^\u001b[0m\n\u001b[0;31mSyntaxError\u001b[0m\u001b[0;31m:\u001b[0m non-default argument follows default argument\n"
     ]
    }
   ]
  },
  {
   "metadata": {
    "colab": {
     "base_uri": "https://localhost:8080/",
     "height": 132
    },
    "execution": {
     "iopub.execute_input": "2022-09-23T00:20:10.687606Z",
     "iopub.status.busy": "2022-09-23T00:20:10.686625Z",
     "iopub.status.idle": "2022-09-23T00:20:10.689772Z",
     "shell.execute_reply": "2022-09-23T00:20:10.690280Z"
    },
    "executionInfo": {
     "elapsed": 415,
     "status": "error",
     "timestamp": 1607650964939,
     "user": {
      "displayName": "Benedict Paten",
      "photoUrl": "https://lh3.googleusercontent.com/a-/AOh14Gh2rYrrH6yoNnUp0Oj4p4ouybc6ZcWGyPmKFtIY=s64",
      "userId": "06399644931392855882"
     },
     "user_tz": 480
    },
    "id": "TiFToKS6ROls",
    "outputId": "d5884236-07ca-4c3c-a31b-08ce91b50727",
    "slideshow": {
     "slide_type": "subslide"
    },
    "trusted": false
   },
   "cell_type": "code",
   "source": "# Similarly, when you call a function, once you start giving \n# named arguments all the remaining arguments must be named..\n\ndef walkPets(dog = \"Ranger\", cat = \"Meow\"): \n    print(f\"I like to walk {dog} and {cat}\")\n    \nwalkPets(dog=\"Fido\", \"Tigger\")  #ERROR",
   "execution_count": 21,
   "outputs": [
    {
     "output_type": "error",
     "ename": "SyntaxError",
     "evalue": "positional argument follows keyword argument (<ipython-input-21-5e1d5178c1da>, line 7)",
     "traceback": [
      "\u001b[0;36m  File \u001b[0;32m\"<ipython-input-21-5e1d5178c1da>\"\u001b[0;36m, line \u001b[0;32m7\u001b[0m\n\u001b[0;31m    walkPets(dog=\"Fido\", \"Tigger\")  #ERROR\u001b[0m\n\u001b[0m                                 ^\u001b[0m\n\u001b[0;31mSyntaxError\u001b[0m\u001b[0;31m:\u001b[0m positional argument follows keyword argument\n"
     ]
    }
   ]
  },
  {
   "metadata": {
    "slideshow": {
     "slide_type": "subslide"
    }
   },
   "cell_type": "markdown",
   "source": "# Challenge 2"
  },
  {
   "metadata": {
    "execution": {
     "iopub.execute_input": "2022-09-23T00:20:10.694201Z",
     "iopub.status.busy": "2022-09-23T00:20:10.693555Z",
     "iopub.status.idle": "2022-09-23T00:20:10.695867Z",
     "shell.execute_reply": "2022-09-23T00:20:10.696338Z"
    },
    "slideshow": {
     "slide_type": "fragment"
    },
    "trusted": true
   },
   "cell_type": "code",
   "source": "# Firstly write a function named 'pow' with two arguments: x and then y.\n# Give y the default value 2 \n# The function should return the value of x to the power of y. \n\n# Secondly, call pow using named arguments such that x=2 and y=3\n\n# Finally, call pow using a single argument 3 \n# (what are the values of x and y in this case?)\n\ndef pow( x, y=2 ):\n    print(f\"pow({x},{y})\")\n    return x ** y\n\nprint(pow(x=2,y=3))\nprint(pow(3))\n\npow( x = 2 )\n",
   "execution_count": 7,
   "outputs": [
    {
     "output_type": "stream",
     "text": "pow(2,3)\n8\npow(3,2)\n9\npow(2,2)\n",
     "name": "stdout"
    },
    {
     "output_type": "execute_result",
     "execution_count": 7,
     "data": {
      "text/plain": "4"
     },
     "metadata": {}
    }
   ]
  },
  {
   "metadata": {
    "id": "JfAlNS5TnfQF",
    "slideshow": {
     "slide_type": "slide"
    }
   },
   "cell_type": "markdown",
   "source": "# A Few Common Mistakes About Functions"
  },
  {
   "metadata": {
    "colab": {
     "base_uri": "https://localhost:8080/"
    },
    "execution": {
     "iopub.execute_input": "2022-09-23T00:20:10.701849Z",
     "iopub.status.busy": "2022-09-23T00:20:10.700931Z",
     "iopub.status.idle": "2022-09-23T00:20:10.704003Z",
     "shell.execute_reply": "2022-09-23T00:20:10.704627Z"
    },
    "executionInfo": {
     "elapsed": 529,
     "status": "ok",
     "timestamp": 1607651032598,
     "user": {
      "displayName": "Benedict Paten",
      "photoUrl": "https://lh3.googleusercontent.com/a-/AOh14Gh2rYrrH6yoNnUp0Oj4p4ouybc6ZcWGyPmKFtIY=s64",
      "userId": "06399644931392855882"
     },
     "user_tz": 480
    },
    "id": "2WiKGKXwno9c",
    "outputId": "7be121ad-bdda-4f26-b520-093f184bd862",
    "slideshow": {
     "slide_type": "subslide"
    },
    "trusted": false
   },
   "cell_type": "code",
   "source": "# Return and print are not the same:\n\ndef sum(x, y):\n   print(x + y)\n\n\nz = sum(5, 10)\n\nprint(\"The return value is:\", z)",
   "execution_count": 20,
   "outputs": [
    {
     "name": "stdout",
     "output_type": "stream",
     "text": "15\nThe return value is: None\n"
    }
   ]
  },
  {
   "metadata": {
    "colab": {
     "base_uri": "https://localhost:8080/",
     "height": 201
    },
    "execution": {
     "iopub.execute_input": "2022-09-23T00:20:10.711246Z",
     "iopub.status.busy": "2022-09-23T00:20:10.710150Z",
     "iopub.status.idle": "2022-09-23T00:20:10.718381Z",
     "shell.execute_reply": "2022-09-23T00:20:10.718937Z"
    },
    "executionInfo": {
     "elapsed": 369,
     "status": "error",
     "timestamp": 1607651153173,
     "user": {
      "displayName": "Benedict Paten",
      "photoUrl": "https://lh3.googleusercontent.com/a-/AOh14Gh2rYrrH6yoNnUp0Oj4p4ouybc6ZcWGyPmKFtIY=s64",
      "userId": "06399644931392855882"
     },
     "user_tz": 480
    },
    "id": "EJdHIO7an4Y9",
    "outputId": "8722d1a4-ce32-4413-ffdf-f710860bdab7",
    "slideshow": {
     "slide_type": "subslide"
    },
    "trusted": true
   },
   "cell_type": "code",
   "source": "# Global variables do not automatically substitute for function arguments\n\nkilos = 10\n\ndef kilos_to_pounds(kilos = kilos):\n    return kilos * 2.205\n\nkilos_to_pounds()",
   "execution_count": 5,
   "outputs": [
    {
     "output_type": "execute_result",
     "execution_count": 5,
     "data": {
      "text/plain": "22.05"
     },
     "metadata": {}
    }
   ]
  },
  {
   "metadata": {
    "id": "dtBRbb0AT5cA",
    "slideshow": {
     "slide_type": "slide"
    }
   },
   "cell_type": "markdown",
   "source": "# Consolidate functions by looking at examples\n\nThe examples are all directly adapted from Chapter 7 of the open textbook, so you can use textbook to help you understand them."
  },
  {
   "metadata": {
    "id": "lo65FcZ4Tx4a",
    "slideshow": {
     "slide_type": "subslide"
    }
   },
   "cell_type": "markdown",
   "source": "**Printing multiplication tables**\n\nHere's an example of making a table using multiple functions to break the work up and the use of for loops:"
  },
  {
   "metadata": {
    "colab": {
     "base_uri": "https://localhost:8080/"
    },
    "execution": {
     "iopub.execute_input": "2022-09-23T00:20:10.727074Z",
     "iopub.status.busy": "2022-09-23T00:20:10.725936Z",
     "iopub.status.idle": "2022-09-23T00:20:10.735540Z",
     "shell.execute_reply": "2022-09-23T00:20:10.736382Z"
    },
    "executionInfo": {
     "elapsed": 361,
     "status": "ok",
     "timestamp": 1607651224321,
     "user": {
      "displayName": "Benedict Paten",
      "photoUrl": "https://lh3.googleusercontent.com/a-/AOh14Gh2rYrrH6yoNnUp0Oj4p4ouybc6ZcWGyPmKFtIY=s64",
      "userId": "06399644931392855882"
     },
     "user_tz": 480
    },
    "id": "m3prRfUjTrMP",
    "outputId": "1dfda794-b3de-4140-dfb0-4b314949eb5f",
    "slideshow": {
     "slide_type": "fragment"
    },
    "trusted": false
   },
   "cell_type": "code",
   "source": "def print_multiples(n, columnNo):\n  \"\"\" Prints a line giving the multiples of n from 1 to columnNo  \"\"\"\n  for i in range(1, columnNo+1):\n    print(f\"{n*i:4d}\", end=\"\")\n  print()\n            \nprint_multiples(5, 10)",
   "execution_count": 1,
   "outputs": [
    {
     "output_type": "stream",
     "text": "   5  10  15  20  25  30  35  40  45  50\n",
     "name": "stdout"
    }
   ]
  },
  {
   "metadata": {
    "colab": {
     "base_uri": "https://localhost:8080/"
    },
    "execution": {
     "iopub.execute_input": "2022-09-23T00:20:10.745852Z",
     "iopub.status.busy": "2022-09-23T00:20:10.743109Z",
     "iopub.status.idle": "2022-09-23T00:20:10.754386Z",
     "shell.execute_reply": "2022-09-23T00:20:10.755309Z"
    },
    "executionInfo": {
     "elapsed": 441,
     "status": "ok",
     "timestamp": 1607651226382,
     "user": {
      "displayName": "Benedict Paten",
      "photoUrl": "https://lh3.googleusercontent.com/a-/AOh14Gh2rYrrH6yoNnUp0Oj4p4ouybc6ZcWGyPmKFtIY=s64",
      "userId": "06399644931392855882"
     },
     "user_tz": 480
    },
    "id": "su73Q9PZOazG",
    "outputId": "fc9e8e6f-129f-4522-e977-b87fd879c14d",
    "slideshow": {
     "slide_type": "fragment"
    },
    "trusted": false
   },
   "cell_type": "code",
   "source": "def print_mult_table(rowNo=8, columnNo=10):\n  \"\"\" Prints a 2-d table with rowNo rows, \n  where the ith row represents the multiples of i from 1 to columnNo \"\"\"\n  for i in range(1, rowNo+1):\n    print_multiples(i, columnNo)\n        \nprint_mult_table()",
   "execution_count": 2,
   "outputs": [
    {
     "output_type": "stream",
     "text": "   1   2   3   4   5   6   7   8   9  10\n   2   4   6   8  10  12  14  16  18  20\n   3   6   9  12  15  18  21  24  27  30\n   4   8  12  16  20  24  28  32  36  40\n   5  10  15  20  25  30  35  40  45  50\n   6  12  18  24  30  36  42  48  54  60\n   7  14  21  28  35  42  49  56  63  70\n   8  16  24  32  40  48  56  64  72  80\n",
     "name": "stdout"
    }
   ]
  },
  {
   "metadata": {
    "id": "YF293aEee_r6",
    "slideshow": {
     "slide_type": "subslide"
    }
   },
   "cell_type": "markdown",
   "source": "**Okay, now let's revisit the pesky concept of nested function calls but add in the effect of scope rules:**"
  },
  {
   "metadata": {
    "execution": {
     "iopub.execute_input": "2022-09-23T00:20:10.763484Z",
     "iopub.status.busy": "2022-09-23T00:20:10.762360Z",
     "iopub.status.idle": "2022-09-23T00:20:10.767383Z",
     "shell.execute_reply": "2022-09-23T00:20:10.768132Z"
    },
    "slideshow": {
     "slide_type": "fragment"
    },
    "trusted": false
   },
   "cell_type": "code",
   "source": "def one(a):\n  print(\"in one\", a)\n  two(a-10)\n  print(\"exit one\", a)\n\ndef two(a):\n  print(\"in two\", a)\n  if a > 10:\n    one(a-10)\n  print(\"exit two\", a)\n  \none(30)",
   "execution_count": 2,
   "outputs": [
    {
     "output_type": "stream",
     "text": "in one 30\nin two 20\nin one 10\nin two 0\nexit two 0\nexit one 10\nexit two 20\nexit one 30\n",
     "name": "stdout"
    }
   ]
  },
  {
   "metadata": {
    "slideshow": {
     "slide_type": "subslide"
    }
   },
   "cell_type": "markdown",
   "source": "<img src=\"https://raw.githubusercontent.com/cormacflanagan/intro_python/main/lecture_notebooks/figures/graffles/call%20stack%20with%20args.jpg\" width=1500 height=750 />\n"
  },
  {
   "metadata": {
    "slideshow": {
     "slide_type": "slide"
    }
   },
   "cell_type": "markdown",
   "source": "# Challenge 3"
  },
  {
   "metadata": {
    "colab": {
     "base_uri": "https://localhost:8080/"
    },
    "execution": {
     "iopub.execute_input": "2022-09-23T00:20:10.776520Z",
     "iopub.status.busy": "2022-09-23T00:20:10.775464Z",
     "iopub.status.idle": "2022-09-23T00:20:10.778867Z",
     "shell.execute_reply": "2022-09-23T00:20:10.779567Z"
    },
    "executionInfo": {
     "elapsed": 507,
     "status": "ok",
     "timestamp": 1607651342713,
     "user": {
      "displayName": "Benedict Paten",
      "photoUrl": "https://lh3.googleusercontent.com/a-/AOh14Gh2rYrrH6yoNnUp0Oj4p4ouybc6ZcWGyPmKFtIY=s64",
      "userId": "06399644931392855882"
     },
     "user_tz": 480
    },
    "id": "bDlZ4SxLF-MW",
    "outputId": "8656b9ec-2713-4162-d918-8b266957b4fd",
    "slideshow": {
     "slide_type": "fragment"
    },
    "trusted": false
   },
   "cell_type": "code",
   "source": "# Without running this code write down the output! \n\ndef firstFunction(a):\n  print(f\"Starting firstFunction, a is {a}\")\n  if a > 10:\n    secondFunction(a)\n  else:\n    thirdFunction(a)\n  print(f\"Ending firstFunction, a is {a}\")\n  \ndef secondFunction(a):\n  print(f\"Starting secondFunction, a is {a}\")\n  a = a - 10\n  firstFunction(a)\n  print(f\"Ending secondFunction, a is {a}\")\n  \ndef thirdFunction(a):\n  print(f\"ThirdFunction, a is {a}\")\n\nfirstFunction(20)",
   "execution_count": 5,
   "outputs": [
    {
     "output_type": "stream",
     "text": "Starting firstFunction, a is 20\nStarting secondFunction, a is 20\nStarting firstFunction, a is 10\nThirdFunction, a is 10\nEnding firstFunction, a is 10\nEnding secondFunction, a is 10\nEnding firstFunction, a is 20\n",
     "name": "stdout"
    }
   ]
  },
  {
   "metadata": {
    "id": "KZP9y5sgyVm8",
    "slideshow": {
     "slide_type": "slide"
    }
   },
   "cell_type": "markdown",
   "source": "# Homework\n\n* Read chapter 4: http://openbookproject.net/thinkcs/python/english3e/functions.html\n* Read chapter 6: http://openbookproject.net/thinkcs/python/english3e/fruitful_functions.html\n* Zybooks Reading 7"
  }
 ],
 "metadata": {
  "celltoolbar": "Slideshow",
  "colab": {
   "collapsed_sections": [],
   "name": "L07 Functions Continued.ipynb",
   "provenance": []
  },
  "kernelspec": {
   "name": "python3",
   "display_name": "Python 3",
   "language": "python"
  },
  "language_info": {
   "name": "python",
   "version": "3.10.4",
   "mimetype": "text/x-python",
   "codemirror_mode": {
    "name": "ipython",
    "version": 3
   },
   "pygments_lexer": "ipython3",
   "nbconvert_exporter": "python",
   "file_extension": ".py"
  }
 },
 "nbformat": 4,
 "nbformat_minor": 1
}