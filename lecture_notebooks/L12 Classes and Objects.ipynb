{
 "cells": [
  {
   "metadata": {
    "id": "5UyFJYXOx-WH",
    "slideshow": {
     "slide_type": "slide"
    }
   },
   "cell_type": "markdown",
   "source": "# Lecture 12 - Classes and Objects \n\n* The basics of Python classes and objects:\n  * Classes and Objects\n \t* The \\__init__ constructor method\n \t* Object membership: Dot notation and classes\n \t* Everything is an object in Python!\n \t* Methods: adding functions to a class and the self argument\n \t* Object vs. class variables\n \t* Objects Mutability\n* Is vs. =="
  },
  {
   "metadata": {
    "id": "RfH9iOJpKnV7",
    "slideshow": {
     "slide_type": "slide"
    }
   },
   "cell_type": "markdown",
   "source": "#  Warm Up Challenge"
  },
  {
   "metadata": {
    "id": "bLaJky0K3AD2",
    "slideshow": {
     "slide_type": "fragment"
    },
    "trusted": true
   },
   "cell_type": "code",
   "source": "# Warm-Up Challenge\n\n# Write code to manipulate Cartesian coordinates (x,y)\n\n# Your code should have two global variables, x and y,\n# both initialized to 0,\n# and a function move(dx,dy) that adds dx to x and \n# adds dy to y\n\n",
   "execution_count": 2,
   "outputs": []
  },
  {
   "metadata": {
    "id": "cMTiXTrGR1-y",
    "slideshow": {
     "slide_type": "slide"
    }
   },
   "cell_type": "markdown",
   "source": "# Object Oriented Programming (OOP)\n\n* As programs grow it is important to manage complexity\n* **scope** rules and **modules** help keep **namespaces** manageable.\n  * e.g. ensuring that variables in one scope (e.g. a function) do not alter identically named variables in another scope.\n \n* Object Oriented Programming further helps manage complexity\n  * All values are \"objects\".\n  * Objects are, loosely, a combination of functions and variables that allow you to create your own rich types."
  },
  {
   "metadata": {
    "id": "RfH9iOJpKnV7",
    "slideshow": {
     "slide_type": "slide"
    }
   },
   "cell_type": "markdown",
   "source": "#  Classes and Objects\n\nA Python object is defined by creating a class definition. This uses the keyword \"class\":"
  },
  {
   "metadata": {
    "id": "bLaJky0K3AD2",
    "slideshow": {
     "slide_type": "fragment"
    },
    "trusted": true
   },
   "cell_type": "code",
   "source": "class Point:\n  \"\"\" Point class represents and manipulates x,y coords. \"\"\" \n  pass",
   "execution_count": 1,
   "outputs": []
  },
  {
   "metadata": {
    "id": "2WQDsWcnYsj1",
    "slideshow": {
     "slide_type": "fragment"
    }
   },
   "cell_type": "markdown",
   "source": "In general classes have the following syntax:"
  },
  {
   "metadata": {
    "id": "xF7knWJ4Yv-5",
    "slideshow": {
     "slide_type": "fragment"
    },
    "trusted": false
   },
   "cell_type": "code",
   "source": "class NameOfClass:                          # Pep 8 says use CamelCase for class names\n  \"\"\" Docstring describing the class \"\"\"    # Optional Docstring\n  # Class stuff\n\n#other statements outside of the class\n#(Python uses the same indented whitespace \n#rules to define what belongs to a class)",
   "execution_count": null,
   "outputs": []
  },
  {
   "metadata": {
    "id": "SN3z_BEa4BJx",
    "slideshow": {
     "slide_type": "fragment"
    }
   },
   "cell_type": "markdown",
   "source": "A class can be considered a recipe for creating objects."
  },
  {
   "metadata": {
    "colab": {
     "base_uri": "https://localhost:8080/",
     "height": 34
    },
    "executionInfo": {
     "elapsed": 551,
     "status": "ok",
     "timestamp": 1573601734179,
     "user": {
      "displayName": "Benedict Paten",
      "photoUrl": "https://lh3.googleusercontent.com/a-/AAuE7mBMnWy8dDR7jyTHNy9tPaRx6DCyA3QKrIcuQ7R4=s64",
      "userId": "06399644931392855882"
     },
     "user_tz": 480
    },
    "id": "W8PSnxc_3_m1",
    "outputId": "068ffba4-4ba7-40be-951f-d5e69c3849c6",
    "slideshow": {
     "slide_type": "fragment"
    },
    "trusted": true
   },
   "cell_type": "code",
   "source": "p = Point() # Create an object of class Point, \n# the general syntax is ClassName(arguments)\n\nprint(type(p)) # p is now an object, an \"instance of\" class Point\nprint(p)\n",
   "execution_count": 7,
   "outputs": [
    {
     "output_type": "stream",
     "text": "<class '__main__.Point'>\n<__main__.Point object at 0x14f3be6e0>\n",
     "name": "stdout"
    }
   ]
  },
  {
   "metadata": {
    "colab": {
     "base_uri": "https://localhost:8080/",
     "height": 34
    },
    "executionInfo": {
     "elapsed": 551,
     "status": "ok",
     "timestamp": 1573601734179,
     "user": {
      "displayName": "Benedict Paten",
      "photoUrl": "https://lh3.googleusercontent.com/a-/AAuE7mBMnWy8dDR7jyTHNy9tPaRx6DCyA3QKrIcuQ7R4=s64",
      "userId": "06399644931392855882"
     },
     "user_tz": 480
    },
    "id": "W8PSnxc_3_m1",
    "outputId": "068ffba4-4ba7-40be-951f-d5e69c3849c6",
    "slideshow": {
     "slide_type": "fragment"
    },
    "trusted": true
   },
   "cell_type": "code",
   "source": "# Add some attributes (aka fields) to Point p\n\np.x = 3\nprint(p.x)\np.x += 10\nprint(p.x)",
   "execution_count": 5,
   "outputs": [
    {
     "output_type": "stream",
     "text": "3\n13\n",
     "name": "stdout"
    }
   ]
  },
  {
   "metadata": {
    "colab": {
     "base_uri": "https://localhost:8080/",
     "height": 34
    },
    "executionInfo": {
     "elapsed": 551,
     "status": "ok",
     "timestamp": 1573601734179,
     "user": {
      "displayName": "Benedict Paten",
      "photoUrl": "https://lh3.googleusercontent.com/a-/AAuE7mBMnWy8dDR7jyTHNy9tPaRx6DCyA3QKrIcuQ7R4=s64",
      "userId": "06399644931392855882"
     },
     "user_tz": 480
    },
    "id": "W8PSnxc_3_m1",
    "outputId": "068ffba4-4ba7-40be-951f-d5e69c3849c6",
    "slideshow": {
     "slide_type": "fragment"
    },
    "trusted": true
   },
   "cell_type": "code",
   "source": "# Create another point q\n\nq = Point()\nq.x = 42\nprint(q.x)\nprint(p.x)",
   "execution_count": 6,
   "outputs": [
    {
     "output_type": "stream",
     "text": "42\n13\n",
     "name": "stdout"
    }
   ]
  },
  {
   "metadata": {
    "id": "-5-Ukx1s4dYw",
    "slideshow": {
     "slide_type": "slide"
    }
   },
   "cell_type": "markdown",
   "source": "# \\__init__()\n\n* Classes can contain functions, which we call **methods**\n\n* The first method we will use is \\__init__\n  * \\__init__ is the object's \"constructor\"\n  * it initializes the objects attributes (aka fields)\n  * it takes a self argument, plus 0-or-more other arguments"
  },
  {
   "metadata": {
    "executionInfo": {
     "elapsed": 723,
     "status": "ok",
     "timestamp": 1607911577003,
     "user": {
      "displayName": "Benedict Paten",
      "photoUrl": "https://lh3.googleusercontent.com/a-/AOh14Gh2rYrrH6yoNnUp0Oj4p4ouybc6ZcWGyPmKFtIY=s64",
      "userId": "06399644931392855882"
     },
     "user_tz": 480
    },
    "id": "_jfs8HBnKrPQ",
    "slideshow": {
     "slide_type": "fragment"
    },
    "trusted": true
   },
   "cell_type": "code",
   "source": "class Point:\n  \"\"\" Point class represents and manipulates x,y coords. \"\"\"\n\n  def __init__(self, x, y):\n    \"\"\" Create a new point     \n    This method will be called implicitly when we make a point object.\n    \"\"\"\n    self.x = x \n    self.y = y\n",
   "execution_count": 8,
   "outputs": []
  },
  {
   "metadata": {
    "id": "tgUCAlkN-8w7",
    "slideshow": {
     "slide_type": "fragment"
    }
   },
   "cell_type": "markdown",
   "source": "* The key difference between a method and a function, apart from a method belonging to a class, is the first argument: **self**. \n\n* It is called \"self\" by convention - you could name it what you like (but don't! - call it self!)\n\n* self is a reference to the object itself. it is how we reference things belonging to the object, like variables. "
  },
  {
   "metadata": {
    "id": "PLrrQ0uq6j00",
    "slideshow": {
     "slide_type": "subslide"
    }
   },
   "cell_type": "markdown",
   "source": "We can now create a Point object using much the same syntax we use for calling any function:"
  },
  {
   "metadata": {
    "executionInfo": {
     "elapsed": 836,
     "status": "ok",
     "timestamp": 1607901543656,
     "user": {
      "displayName": "Benedict Paten",
      "photoUrl": "https://lh3.googleusercontent.com/a-/AOh14Gh2rYrrH6yoNnUp0Oj4p4ouybc6ZcWGyPmKFtIY=s64",
      "userId": "06399644931392855882"
     },
     "user_tz": 480
    },
    "id": "dpAjByq22flF",
    "slideshow": {
     "slide_type": "fragment"
    },
    "trusted": true
   },
   "cell_type": "code",
   "source": "p = Point(10, 11) \n# Make an object of type Point, this implicitly calls the __init__() method\n# making 10 to the x argument, and 11 the y argument\nprint(type(p))\n",
   "execution_count": 9,
   "outputs": [
    {
     "output_type": "stream",
     "text": "<class '__main__.Point'>\n",
     "name": "stdout"
    }
   ]
  },
  {
   "metadata": {
    "slideshow": {
     "slide_type": "fragment"
    }
   },
   "cell_type": "markdown",
   "source": "To understand the implicit stuff happening:"
  },
  {
   "metadata": {
    "slideshow": {
     "slide_type": "fragment"
    },
    "trusted": false
   },
   "cell_type": "code",
   "source": "# When you write \"p = Point(10, 11)\" this happens...\n\np = Point.__new__(Point) \n# Roughly, this allocates the memory for the p object and sets up the object\n\nPoint.__init__(p, 10, 11) \n# This then \"instantiates\" the variables, e.g. x and y ",
   "execution_count": 13,
   "outputs": []
  },
  {
   "metadata": {
    "id": "n5JZwJmuLXSQ",
    "slideshow": {
     "slide_type": "slide"
    }
   },
   "cell_type": "markdown",
   "source": "# Object membership: Dot notation and classes\n\nTo access the variables in a class"
  },
  {
   "metadata": {
    "colab": {
     "base_uri": "https://localhost:8080/",
     "height": 34
    },
    "executionInfo": {
     "elapsed": 290,
     "status": "ok",
     "timestamp": 1573602204578,
     "user": {
      "displayName": "Benedict Paten",
      "photoUrl": "https://lh3.googleusercontent.com/a-/AAuE7mBMnWy8dDR7jyTHNy9tPaRx6DCyA3QKrIcuQ7R4=s64",
      "userId": "06399644931392855882"
     },
     "user_tz": 480
    },
    "id": "UsqoomyqK-Sp",
    "outputId": "8baee511-ea61-4156-8550-027df6259550",
    "slideshow": {
     "slide_type": "fragment"
    },
    "trusted": false
   },
   "cell_type": "code",
   "source": "print(p.x, p.y) # This syntax has the form \"object.attribute\"",
   "execution_count": 14,
   "outputs": [
    {
     "name": "stdout",
     "output_type": "stream",
     "text": "10 11\n"
    }
   ]
  },
  {
   "metadata": {
    "colab": {
     "base_uri": "https://localhost:8080/",
     "height": 34
    },
    "executionInfo": {
     "elapsed": 374,
     "status": "ok",
     "timestamp": 1573602222322,
     "user": {
      "displayName": "Benedict Paten",
      "photoUrl": "https://lh3.googleusercontent.com/a-/AAuE7mBMnWy8dDR7jyTHNy9tPaRx6DCyA3QKrIcuQ7R4=s64",
      "userId": "06399644931392855882"
     },
     "user_tz": 480
    },
    "id": "1ys_lhrmLgaK",
    "outputId": "6d236eb0-b3fa-4761-c0d7-7c808059a9b8",
    "slideshow": {
     "slide_type": "fragment"
    },
    "trusted": false
   },
   "cell_type": "code",
   "source": "p.x = 5 # We can update the values of x and y by reassignment\np.y = 10\n\nprint(p.x, p.y)",
   "execution_count": null,
   "outputs": [
    {
     "name": "stdout",
     "output_type": "stream",
     "text": "5 10\n"
    }
   ]
  },
  {
   "metadata": {
    "slideshow": {
     "slide_type": "slide"
    }
   },
   "cell_type": "markdown",
   "source": "# Classes vs. Objects\n\nThe following silly diagram illustrates the difference between a Class and Objects of that class:\n\n<img src=\"https://upload.wikimedia.org/wikipedia/commons/thumb/6/62/CPT-OOP-objects_and_classes.svg/2560px-CPT-OOP-objects_and_classes.svg.png\" width=800 height=400 />\n"
  },
  {
   "metadata": {
    "slideshow": {
     "slide_type": "subslide"
    },
    "trusted": false
   },
   "cell_type": "code",
   "source": "# As the previous picture illustrates, \n# we are free to make as many objects of a class as we like:\n\np = Point(10, 11) # p and q are distinct objects of the same class\nq = Point(4, 2)\n\nprint(\"p.x\", p.x, \"p.y\", p.y) # Different x and y values\nprint(\"q.x\", q.x, \"q.y\", q.y)\nprint(\"Objects the same:\", p == q) # Not the same object",
   "execution_count": 5,
   "outputs": [
    {
     "name": "stdout",
     "output_type": "stream",
     "text": "p.x 10 p.y 11\nq.x 4 q.y 2\nObjects the same: False\n"
    }
   ]
  },
  {
   "metadata": {
    "slideshow": {
     "slide_type": "subslide"
    }
   },
   "cell_type": "markdown",
   "source": "# Challenge 1"
  },
  {
   "metadata": {
    "slideshow": {
     "slide_type": "fragment"
    },
    "trusted": true
   },
   "cell_type": "code",
   "source": "# Write a class definition for a new class called \"Vehicle\". \n# Add an __init__ method that takes a single argument \"color\" and \n# sets the value as an attribute \"color\"\n\n...\n\n# This code should work:\nv = Vehicle(\"purple\")\nprint(v.color)",
   "execution_count": 1,
   "outputs": [
    {
     "output_type": "stream",
     "text": "purple\n",
     "name": "stdout"
    }
   ]
  },
  {
   "metadata": {
    "slideshow": {
     "slide_type": "fragment"
    }
   },
   "cell_type": "markdown",
   "source": "Which leads us to our next discovery.."
  },
  {
   "metadata": {
    "id": "YZm69sZRRsQn",
    "slideshow": {
     "slide_type": "slide"
    }
   },
   "cell_type": "markdown",
   "source": "# Everything is an object in Python!!!!\n\nWe've seen lots of basic Python types: \n* ints, strings, floats, booleans, lists, tuples, etc. \n\nEach of these types is actually a **class** \n\nConsequently, the following are all **objects** of the corresponding class: \n* 1\n* 2.0\n* \"three\"\n* True \n\nConsider a string:"
  },
  {
   "metadata": {
    "colab": {
     "base_uri": "https://localhost:8080/",
     "height": 34
    },
    "executionInfo": {
     "elapsed": 348,
     "status": "ok",
     "timestamp": 1573602247980,
     "user": {
      "displayName": "Benedict Paten",
      "photoUrl": "https://lh3.googleusercontent.com/a-/AAuE7mBMnWy8dDR7jyTHNy9tPaRx6DCyA3QKrIcuQ7R4=s64",
      "userId": "06399644931392855882"
     },
     "user_tz": 480
    },
    "id": "HZqD5JoJ9ujf",
    "outputId": "42480de3-7a07-4921-cf12-a0a31f1415dc",
    "slideshow": {
     "slide_type": "fragment"
    },
    "trusted": false
   },
   "cell_type": "code",
   "source": "type(\"hello\")",
   "execution_count": null,
   "outputs": [
    {
     "data": {
      "text/plain": "str"
     },
     "execution_count": 8,
     "metadata": {
      "tags": []
     },
     "output_type": "execute_result"
    }
   ]
  },
  {
   "metadata": {
    "colab": {
     "base_uri": "https://localhost:8080/",
     "height": 34
    },
    "executionInfo": {
     "elapsed": 434,
     "status": "ok",
     "timestamp": 1573602255762,
     "user": {
      "displayName": "Benedict Paten",
      "photoUrl": "https://lh3.googleusercontent.com/a-/AAuE7mBMnWy8dDR7jyTHNy9tPaRx6DCyA3QKrIcuQ7R4=s64",
      "userId": "06399644931392855882"
     },
     "user_tz": 480
    },
    "id": "ok0uTDxL-pBK",
    "outputId": "5679b7da-7bc0-48bd-80c8-7ed0704d5d44",
    "slideshow": {
     "slide_type": "fragment"
    },
    "trusted": false
   },
   "cell_type": "code",
   "source": "\"hello\".__class__ \n# We can also use the __class__ variable of any object to find the \"type\" or \n# class of the object, i.e. __class__ is an attribute on the object that \n# refers to the class from which the object was created. ",
   "execution_count": 1,
   "outputs": [
    {
     "data": {
      "text/plain": "str"
     },
     "execution_count": 1,
     "metadata": {},
     "output_type": "execute_result"
    }
   ]
  },
  {
   "metadata": {
    "colab": {
     "base_uri": "https://localhost:8080/",
     "height": 1000
    },
    "executionInfo": {
     "elapsed": 303,
     "status": "ok",
     "timestamp": 1573602268524,
     "user": {
      "displayName": "Benedict Paten",
      "photoUrl": "https://lh3.googleusercontent.com/a-/AAuE7mBMnWy8dDR7jyTHNy9tPaRx6DCyA3QKrIcuQ7R4=s64",
      "userId": "06399644931392855882"
     },
     "user_tz": 480
    },
    "id": "eglFDImz-akm",
    "outputId": "6d619a3f-28f2-4a56-b18f-359f043374ed",
    "slideshow": {
     "slide_type": "fragment"
    },
    "trusted": false
   },
   "cell_type": "code",
   "source": "dir(\"hello\")",
   "execution_count": null,
   "outputs": [
    {
     "data": {
      "text/plain": "['__add__',\n '__class__',\n '__contains__',\n '__delattr__',\n '__dir__',\n '__doc__',\n '__eq__',\n '__format__',\n '__ge__',\n '__getattribute__',\n '__getitem__',\n '__getnewargs__',\n '__gt__',\n '__hash__',\n '__init__',\n '__init_subclass__',\n '__iter__',\n '__le__',\n '__len__',\n '__lt__',\n '__mod__',\n '__mul__',\n '__ne__',\n '__new__',\n '__reduce__',\n '__reduce_ex__',\n '__repr__',\n '__rmod__',\n '__rmul__',\n '__setattr__',\n '__sizeof__',\n '__str__',\n '__subclasshook__',\n 'capitalize',\n 'casefold',\n 'center',\n 'count',\n 'encode',\n 'endswith',\n 'expandtabs',\n 'find',\n 'format',\n 'format_map',\n 'index',\n 'isalnum',\n 'isalpha',\n 'isdecimal',\n 'isdigit',\n 'isidentifier',\n 'islower',\n 'isnumeric',\n 'isprintable',\n 'isspace',\n 'istitle',\n 'isupper',\n 'join',\n 'ljust',\n 'lower',\n 'lstrip',\n 'maketrans',\n 'partition',\n 'replace',\n 'rfind',\n 'rindex',\n 'rjust',\n 'rpartition',\n 'rsplit',\n 'rstrip',\n 'split',\n 'splitlines',\n 'startswith',\n 'strip',\n 'swapcase',\n 'title',\n 'translate',\n 'upper',\n 'zfill']"
     },
     "execution_count": 10,
     "metadata": {
      "tags": []
     },
     "output_type": "execute_result"
    }
   ]
  },
  {
   "metadata": {
    "slideshow": {
     "slide_type": "subslide"
    }
   },
   "cell_type": "markdown",
   "source": "What about the attributes of our point object, p?"
  },
  {
   "metadata": {
    "colab": {
     "base_uri": "https://localhost:8080/",
     "height": 507
    },
    "executionInfo": {
     "elapsed": 349,
     "status": "ok",
     "timestamp": 1573602304109,
     "user": {
      "displayName": "Benedict Paten",
      "photoUrl": "https://lh3.googleusercontent.com/a-/AAuE7mBMnWy8dDR7jyTHNy9tPaRx6DCyA3QKrIcuQ7R4=s64",
      "userId": "06399644931392855882"
     },
     "user_tz": 480
    },
    "id": "uq5KpijFAXrf",
    "outputId": "27b26598-d9ed-4e4a-92c6-9b6eead85a8d",
    "slideshow": {
     "slide_type": "fragment"
    },
    "trusted": false
   },
   "cell_type": "code",
   "source": "dir(p)",
   "execution_count": null,
   "outputs": [
    {
     "data": {
      "text/plain": "['__class__',\n '__delattr__',\n '__dict__',\n '__dir__',\n '__doc__',\n '__eq__',\n '__format__',\n '__ge__',\n '__getattribute__',\n '__gt__',\n '__hash__',\n '__init__',\n '__init_subclass__',\n '__le__',\n '__lt__',\n '__module__',\n '__ne__',\n '__new__',\n '__reduce__',\n '__reduce_ex__',\n '__repr__',\n '__setattr__',\n '__sizeof__',\n '__str__',\n '__subclasshook__',\n '__weakref__',\n 'x',\n 'y']"
     },
     "execution_count": 12,
     "metadata": {
      "tags": []
     },
     "output_type": "execute_result"
    }
   ]
  },
  {
   "metadata": {
    "slideshow": {
     "slide_type": "fragment"
    }
   },
   "cell_type": "markdown",
   "source": "Note that in addition to the x and y variables, p has many additional attributes, we'll learn about where those come from when we study inheritance. "
  },
  {
   "metadata": {
    "id": "ZVH9QrmLL2OS",
    "slideshow": {
     "slide_type": "slide"
    }
   },
   "cell_type": "markdown",
   "source": "# Methods: Adding Functions to an object\n\n* The \\__init__() we added was a **method**, a function belonging to an object.\n\n* We are free to add user defined methods:\n"
  },
  {
   "metadata": {
    "id": "DjkEz_2DMA4x",
    "slideshow": {
     "slide_type": "fragment"
    },
    "trusted": false
   },
   "cell_type": "code",
   "source": "class Point:\n  \"\"\" Create a new Point, at coordinates x, y \"\"\"\n\n  def __init__(self, x, y):\n    \"\"\" Create a new point at x, y \"\"\"\n    self.x = x\n    self.y = y\n\n  def distance_from_origin(self): # We see the \"self\" argument again\n    \"\"\" Compute my distance from the origin \"\"\"\n    return ((self.x ** 2) + (self.y ** 2)) ** 0.5 # Pythagorus's theorem",
   "execution_count": null,
   "outputs": []
  },
  {
   "metadata": {
    "colab": {
     "base_uri": "https://localhost:8080/",
     "height": 34
    },
    "executionInfo": {
     "elapsed": 419,
     "status": "ok",
     "timestamp": 1573602799832,
     "user": {
      "displayName": "Benedict Paten",
      "photoUrl": "https://lh3.googleusercontent.com/a-/AAuE7mBMnWy8dDR7jyTHNy9tPaRx6DCyA3QKrIcuQ7R4=s64",
      "userId": "06399644931392855882"
     },
     "user_tz": 480
    },
    "id": "Cs-_HBW-MZ8H",
    "outputId": "6a5229cb-a122-43f6-edce-7742366aab33",
    "slideshow": {
     "slide_type": "fragment"
    },
    "trusted": false
   },
   "cell_type": "code",
   "source": "p = Point(3, 4)\n\np.distance_from_origin()",
   "execution_count": null,
   "outputs": [
    {
     "data": {
      "text/plain": "5.0"
     },
     "execution_count": 23,
     "metadata": {
      "tags": []
     },
     "output_type": "execute_result"
    }
   ]
  },
  {
   "metadata": {
    "id": "47UIdaWFCOL6",
    "slideshow": {
     "slide_type": "fragment"
    }
   },
   "cell_type": "markdown",
   "source": "* Adding methods to a class definition is a natural way to group code (e.g. in this example, geometric functions) with data\n\n* To recap, the only major structural differences between a regular function and a method are:\n  * The \"self\" argument\n  * The use of dot notation to invoke the function\n  \n"
  },
  {
   "metadata": {
    "slideshow": {
     "slide_type": "subslide"
    }
   },
   "cell_type": "markdown",
   "source": "# Challenge 2"
  },
  {
   "metadata": {
    "slideshow": {
     "slide_type": "fragment"
    },
    "trusted": false
   },
   "cell_type": "code",
   "source": "# Expand the Vehicle class you wrote in Challenge 1 by adding a method\n# print_color, which prints the color of the Vehicle to the screen\n       \n...\n\n# This code should work\nv = Vehicle(\"purple\")\nv.print_color()",
   "execution_count": 2,
   "outputs": [
    {
     "output_type": "stream",
     "text": "purple\n",
     "name": "stdout"
    }
   ]
  },
  {
   "metadata": {
    "id": "c4kF3OFFI0eo",
    "slideshow": {
     "slide_type": "slide"
    }
   },
   "cell_type": "markdown",
   "source": "# Object vs. class variables\n\nAs we said earlier, the variables defined in the constructor are unique\nto an object:"
  },
  {
   "metadata": {
    "colab": {
     "base_uri": "https://localhost:8080/"
    },
    "executionInfo": {
     "elapsed": 705,
     "status": "ok",
     "timestamp": 1607911746547,
     "user": {
      "displayName": "Benedict Paten",
      "photoUrl": "https://lh3.googleusercontent.com/a-/AOh14Gh2rYrrH6yoNnUp0Oj4p4ouybc6ZcWGyPmKFtIY=s64",
      "userId": "06399644931392855882"
     },
     "user_tz": 480
    },
    "id": "uT3atnUxLcYm",
    "outputId": "d08eca43-29fa-4b93-ef49-a878e06d87d8",
    "slideshow": {
     "slide_type": "fragment"
    },
    "trusted": false
   },
   "cell_type": "code",
   "source": "p = Point(3, 4)\nq = Point(10 ,12) # Make a second point\n\nprint(p.x, p.y, q.x, q.y)  # Each point object (p and q) \n# has its own x and y",
   "execution_count": 7,
   "outputs": [
    {
     "name": "stdout",
     "output_type": "stream",
     "text": "3 4 10 12\n"
    }
   ]
  },
  {
   "metadata": {
    "id": "UHWmQ4VzPRyF",
    "slideshow": {
     "slide_type": "subslide"
    }
   },
   "cell_type": "markdown",
   "source": "**Class variables** are shared by all objects of a class"
  },
  {
   "metadata": {
    "colab": {
     "base_uri": "https://localhost:8080/"
    },
    "executionInfo": {
     "elapsed": 720,
     "status": "ok",
     "timestamp": 1607911766447,
     "user": {
      "displayName": "Benedict Paten",
      "photoUrl": "https://lh3.googleusercontent.com/a-/AOh14Gh2rYrrH6yoNnUp0Oj4p4ouybc6ZcWGyPmKFtIY=s64",
      "userId": "06399644931392855882"
     },
     "user_tz": 480
    },
    "id": "EpGKO-ADPuKY",
    "outputId": "5ed91ed1-076e-4053-cc76-ebc45db744d7",
    "slideshow": {
     "slide_type": "fragment"
    },
    "trusted": false
   },
   "cell_type": "code",
   "source": "class Point:\n  \"\"\" Create a new Point, at coordinates x, y \"\"\"\n\n  # Class variables are defined outside of __init__ and are shared\n  # by all objects of the class\n  theta = 10\n\n  def __init__(self, x=0, y=0):\n    \"\"\" Create a new point at x, y \"\"\"\n    self.x = x\n    self.y = y\n\n  # Etc.\n  \np = Point(3, 4)\nq = Point(9, 10) \n\nprint(\"Before\", p.theta, q.theta)\n\nPoint.theta = 20 \n# There is only one theta, so we just\n# changed theta value for all Point objects -note the use of the class name\n\nprint(\"After\", p.theta, q.theta) \n",
   "execution_count": 7,
   "outputs": [
    {
     "name": "stdout",
     "output_type": "stream",
     "text": "Before 10 10\nAfter 20 20\n"
    }
   ]
  },
  {
   "metadata": {
    "id": "EHQ3hZWQQZvQ",
    "slideshow": {
     "slide_type": "fragment"
    }
   },
   "cell_type": "markdown",
   "source": "The benefit of class variables being shared is primarily memory - if you have something that is the same across all objects of a class, use a class variable."
  },
  {
   "metadata": {
    "colab": {
     "base_uri": "https://localhost:8080/"
    },
    "executionInfo": {
     "elapsed": 763,
     "status": "ok",
     "timestamp": 1607911778698,
     "user": {
      "displayName": "Benedict Paten",
      "photoUrl": "https://lh3.googleusercontent.com/a-/AOh14Gh2rYrrH6yoNnUp0Oj4p4ouybc6ZcWGyPmKFtIY=s64",
      "userId": "06399644931392855882"
     },
     "user_tz": 480
    },
    "id": "60r39t4VyZSo",
    "outputId": "e47c398a-399f-43c6-dd3a-d3a9e189a773",
    "slideshow": {
     "slide_type": "subslide"
    },
    "trusted": false
   },
   "cell_type": "code",
   "source": "# Note, this doesn't work the way you might expect:\n\np.theta = 5\n\nprint(\"Again\", p.theta, q.theta) \n\n# This is because assigning to p.theta creates a new object variable \n# that overrides the class variable in the scope of the object \n# it's those pesky scope rules again\n\nprint(Point.theta)",
   "execution_count": 8,
   "outputs": [
    {
     "name": "stdout",
     "output_type": "stream",
     "text": "Again 5 20\n20\n"
    }
   ]
  },
  {
   "metadata": {
    "slideshow": {
     "slide_type": "subslide"
    }
   },
   "cell_type": "markdown",
   "source": "# Challenge 3"
  },
  {
   "metadata": {
    "slideshow": {
     "slide_type": "fragment"
    },
    "trusted": false
   },
   "cell_type": "code",
   "source": "# Redefine the Vehicle class from Challenges 1 and 2 to include a class variable\n# \"speed_limit\" setting it to 100\n\n...\n\n# This code should work\nv = Vehicle(\"purple\")\nv.print_color()\nprint(v.speed_limit, Vehicle.speed_limit)\n",
   "execution_count": 3,
   "outputs": [
    {
     "output_type": "stream",
     "text": "purple\n100 100\n",
     "name": "stdout"
    }
   ]
  },
  {
   "metadata": {
    "id": "xIC6Gf32QoXP",
    "slideshow": {
     "slide_type": "slide"
    }
   },
   "cell_type": "markdown",
   "source": " # Object Mutability\n \n Python objects are mutable."
  },
  {
   "metadata": {
    "colab": {
     "base_uri": "https://localhost:8080/"
    },
    "executionInfo": {
     "elapsed": 792,
     "status": "ok",
     "timestamp": 1607911832561,
     "user": {
      "displayName": "Benedict Paten",
      "photoUrl": "https://lh3.googleusercontent.com/a-/AOh14Gh2rYrrH6yoNnUp0Oj4p4ouybc6ZcWGyPmKFtIY=s64",
      "userId": "06399644931392855882"
     },
     "user_tz": 480
    },
    "id": "MXyKWy2wKAL4",
    "outputId": "f286e558-3828-4b21-fe4d-e56afa6ead20",
    "slideshow": {
     "slide_type": "fragment"
    },
    "trusted": false
   },
   "cell_type": "code",
   "source": "p = Point(5, 10)\n\np.x += 5 # You can directly modify variables\n\nprint(p.x)\n\n# You can even add new variables to an object\np.new_variable = 1\n\nprint(p.new_variable)",
   "execution_count": 9,
   "outputs": [
    {
     "name": "stdout",
     "output_type": "stream",
     "text": "10\n1\n"
    }
   ]
  },
  {
   "metadata": {
    "colab": {
     "base_uri": "https://localhost:8080/",
     "height": 219
    },
    "executionInfo": {
     "elapsed": 429,
     "status": "error",
     "timestamp": 1573603367495,
     "user": {
      "displayName": "Benedict Paten",
      "photoUrl": "https://lh3.googleusercontent.com/a-/AAuE7mBMnWy8dDR7jyTHNy9tPaRx6DCyA3QKrIcuQ7R4=s64",
      "userId": "06399644931392855882"
     },
     "user_tz": 480
    },
    "id": "F-iqtMhWKiwv",
    "outputId": "c53305fe-333b-4039-82b7-462c5f174cfc",
    "slideshow": {
     "slide_type": "fragment"
    },
    "trusted": false
   },
   "cell_type": "code",
   "source": "# But note, this doesn't add a \"new_variable\" to other points \n# you might have or create\n\nq = Point(5, 10)\n\nq.new_variable # This doesn't exist, \n# because you only added \"new_variable\" to p",
   "execution_count": 10,
   "outputs": [
    {
     "ename": "AttributeError",
     "evalue": "'Point' object has no attribute 'new_variable'",
     "output_type": "error",
     "traceback": [
      "\u001b[0;31m---------------------------------------------------------------------------\u001b[0m",
      "\u001b[0;31mAttributeError\u001b[0m                            Traceback (most recent call last)",
      "\u001b[0;32m<ipython-input-10-2ea43eb72878>\u001b[0m in \u001b[0;36m<module>\u001b[0;34m\u001b[0m\n\u001b[1;32m      4\u001b[0m \u001b[0mq\u001b[0m \u001b[0;34m=\u001b[0m \u001b[0mPoint\u001b[0m\u001b[0;34m(\u001b[0m\u001b[0;36m5\u001b[0m\u001b[0;34m,\u001b[0m \u001b[0;36m10\u001b[0m\u001b[0;34m)\u001b[0m\u001b[0;34m\u001b[0m\u001b[0m\n\u001b[1;32m      5\u001b[0m \u001b[0;34m\u001b[0m\u001b[0m\n\u001b[0;32m----> 6\u001b[0;31m \u001b[0mq\u001b[0m\u001b[0;34m.\u001b[0m\u001b[0mnew_variable\u001b[0m \u001b[0;31m# This doesn't exist,\u001b[0m\u001b[0;34m\u001b[0m\u001b[0m\n\u001b[0m\u001b[1;32m      7\u001b[0m \u001b[0;31m# because you only added \"new_variable\" to p\u001b[0m\u001b[0;34m\u001b[0m\u001b[0;34m\u001b[0m\u001b[0m\n",
      "\u001b[0;31mAttributeError\u001b[0m: 'Point' object has no attribute 'new_variable'"
     ]
    }
   ]
  },
  {
   "metadata": {
    "id": "73mwHvO3LApm",
    "slideshow": {
     "slide_type": "subslide"
    }
   },
   "cell_type": "markdown",
   "source": "# Modifier Methods\n\nIt is often helpful to add \"modifier\" methods to change the underlying fields, e.g.:"
  },
  {
   "metadata": {
    "colab": {
     "base_uri": "https://localhost:8080/",
     "height": 34
    },
    "executionInfo": {
     "elapsed": 304,
     "status": "ok",
     "timestamp": 1573603551840,
     "user": {
      "displayName": "Benedict Paten",
      "photoUrl": "https://lh3.googleusercontent.com/a-/AAuE7mBMnWy8dDR7jyTHNy9tPaRx6DCyA3QKrIcuQ7R4=s64",
      "userId": "06399644931392855882"
     },
     "user_tz": 480
    },
    "id": "3X80Tbi8LBje",
    "outputId": "57b12dcc-ca2f-45f6-9dde-8f976e8ea79a",
    "slideshow": {
     "slide_type": "fragment"
    },
    "trusted": false
   },
   "cell_type": "code",
   "source": "class Point:\n  \"\"\" Create a new Point, at coordinates x, y \"\"\"\n\n  def __init__(self, x=0, y=0):\n    \"\"\" Create a new point at x, y \"\"\"\n    self.x = x\n    self.y = y\n\n  def move(self, deltaX, deltaY):\n    \"\"\" Moves coordinates of point \n    (this is a modifier method, which you call to change x and y)\n    \"\"\" \n    self.x += deltaX\n    self.y += deltaY\n  \np = Point()\n\np.move(5, 10)\n\nprint(p.x, p.y)\n  ",
   "execution_count": 2,
   "outputs": [
    {
     "name": "stdout",
     "output_type": "stream",
     "text": "5 10\n"
    }
   ]
  },
  {
   "metadata": {
    "id": "vBsLiWKcMQwl",
    "slideshow": {
     "slide_type": "fragment"
    }
   },
   "cell_type": "markdown",
   "source": "* Modifiers can be used to check changes make sense (using asserts or exceptions)\n* Modifiers can be used to create more abstract interfaces (avoiding direct variable access)\n* Sometimes however, modifiers can just be busy work - your mileage may vary"
  },
  {
   "metadata": {
    "slideshow": {
     "slide_type": "subslide"
    }
   },
   "cell_type": "markdown",
   "source": "# Challenge 4"
  },
  {
   "metadata": {
    "slideshow": {
     "slide_type": "fragment"
    },
    "trusted": true
   },
   "cell_type": "code",
   "source": "# Redefine the Vehicle class from Challenge 3 to include \n# a modifier method \"respray\" that takes a color argument \n# and sets the color variable\n        \n...\n    \n# This code should work\nv = Vehicle(\"purple\")\nv.print_color()\nv.respray(\"green\")\nv.print_color()",
   "execution_count": 4,
   "outputs": [
    {
     "output_type": "stream",
     "text": "purple\ngreen\n",
     "name": "stdout"
    }
   ]
  },
  {
   "metadata": {
    "slideshow": {
     "slide_type": "slide"
    }
   },
   "cell_type": "markdown",
   "source": "# Two notions of equality\n* ==\n* is"
  },
  {
   "metadata": {
    "slideshow": {
     "slide_type": "fragment"
    },
    "trusted": false
   },
   "cell_type": "code",
   "source": "p = [1,2,3]\nq = [1,2,3]\n\n# Are p and q 'equal'? \n# Yes, in that they contain the same contents\nprint(p == q)",
   "execution_count": 1,
   "outputs": [
    {
     "output_type": "stream",
     "text": "True\n",
     "name": "stdout"
    }
   ]
  },
  {
   "metadata": {
    "slideshow": {
     "slide_type": "fragment"
    },
    "trusted": false
   },
   "cell_type": "code",
   "source": "# But no, in that they refer to *different* lists. \n# We can see this by changing one list.\n\nq.append(4)\nprint(f\"q: {q}\")\nprint(f\"p: {p}\")\nprint(p == q)",
   "execution_count": 2,
   "outputs": [
    {
     "output_type": "stream",
     "text": "q is [1, 2, 3, 4]\np is [1, 2, 3]\nFalse\n",
     "name": "stdout"
    }
   ]
  },
  {
   "metadata": {
    "slideshow": {
     "slide_type": "fragment"
    },
    "trusted": false
   },
   "cell_type": "code",
   "source": "# How to see if p and q refer to the *same* list\n# (not just same contents)?\n# Use 'is', which checks for pointer-equality\n# (do p and q point to the same object)\np = [1,2,3]\nq = [1,2,3]\nprint(p == q)\nprint(p is q)\n",
   "execution_count": 3,
   "outputs": [
    {
     "output_type": "stream",
     "text": "True\nFalse\n",
     "name": "stdout"
    }
   ]
  },
  {
   "metadata": {
    "slideshow": {
     "slide_type": "slide"
    },
    "trusted": true
   },
   "cell_type": "code",
   "source": "# Now, does this behavior make sense to you?\np = [1,2,3]\nq = p\nprint(f\"q: {q}\")\nprint(f\"p: {p}\")\n\nq.append(4)\nprint(f\"q: {q}\")\nprint(f\"p: {p}\")\n",
   "execution_count": 1,
   "outputs": [
    {
     "output_type": "stream",
     "text": "q: [1, 2, 3]\np: [1, 2, 3]\nq: [1, 2, 3, 4]\np: [1, 2, 3, 4]\n",
     "name": "stdout"
    }
   ]
  },
  {
   "metadata": {
    "slideshow": {
     "slide_type": "slide"
    },
    "trusted": false
   },
   "cell_type": "code",
   "source": "# Ditto with tuples\np=(1,2,3)\nq=(1,2,3)\nprint(p==q)   # same contents\nprint(q is p) # different objects\n",
   "execution_count": 10,
   "outputs": [
    {
     "name": "stdout",
     "output_type": "stream",
     "text": "True\nFalse\n"
    }
   ]
  },
  {
   "metadata": {
    "id": "KZP9y5sgyVm8",
    "slideshow": {
     "slide_type": "slide"
    }
   },
   "cell_type": "markdown",
   "source": "# Homework\n\n* ZyBook Reading 12\n* Open book Chapter 15: http://openbookproject.net/thinkcs/python/english3e/classes_and_objects_I.html\n* Open book Chapter 16: \nhttp://openbookproject.net/thinkcs/python/english3e/classes_and_objects_II.html\n"
  }
 ],
 "metadata": {
  "celltoolbar": "Slideshow",
  "colab": {
   "collapsed_sections": [],
   "name": "L12 Classes and Objects.ipynb",
   "provenance": []
  },
  "kernelspec": {
   "name": "python3",
   "display_name": "Python 3",
   "language": "python"
  },
  "language_info": {
   "name": "python",
   "version": "3.10.4",
   "mimetype": "text/x-python",
   "codemirror_mode": {
    "name": "ipython",
    "version": 3
   },
   "pygments_lexer": "ipython3",
   "nbconvert_exporter": "python",
   "file_extension": ".py"
  }
 },
 "nbformat": 4,
 "nbformat_minor": 1
}