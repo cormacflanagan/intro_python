{
 "cells": [
  {
   "metadata": {
    "id": "L4Yq7MGPZERE",
    "slideshow": {
     "slide_type": "slide"
    }
   },
   "cell_type": "markdown",
   "source": "# Lecture 16 - Unit Testing and Exceptions"
  },
  {
   "metadata": {
    "id": "iPsTLSW0BJSu",
    "slideshow": {
     "slide_type": "slide"
    }
   },
   "cell_type": "markdown",
   "source": "# Unit testing \n\n* As programs grow in complexity, the scope for bugs becomes huge.\n\n* Satisfactorily debugging a complex program is **hard**.\n\n* Systematic testing helps\n\n* **Unit-testing**\n  * you design tests to test individual \"units\" of the code, e.g. functions and classes.\n \n"
  },
  {
   "metadata": {
    "id": "KeaobT9uqS3v",
    "slideshow": {
     "slide_type": "slide"
    }
   },
   "cell_type": "markdown",
   "source": "# Unit testing example: Fibonacci numbers\n\n* Fibonacci numbers have a naturally recursive definition:\n  * fib(0) = 0 \n  * fib(1) = 1\n  * fib(i) = fib(i-1) + f(i-2), for i > 1"
  },
  {
   "metadata": {
    "id": "Fv6ucZiFYbG9",
    "slideshow": {
     "slide_type": "fragment"
    },
    "trusted": false
   },
   "cell_type": "code",
   "source": "def fib(i):\n    \"\"\" Compute the ith fibonacci number recursively\n    \"\"\"\n    \n    assert type(i) == int and i >= 0\n    \n    # Note, this is not quite right!\n    return 1 if i == 0 else 1 if i == 1 else fib(i-1) + fib(i-2) \n\n    ",
   "execution_count": 1,
   "outputs": []
  },
  {
   "metadata": {
    "id": "zpYh0wDB5TCb",
    "slideshow": {
     "slide_type": "subslide"
    }
   },
   "cell_type": "markdown",
   "source": "Here's how we test it using unittest:"
  },
  {
   "metadata": {
    "colab": {
     "base_uri": "https://localhost:8080/"
    },
    "executionInfo": {
     "elapsed": 374,
     "status": "ok",
     "timestamp": 1608090815502,
     "user": {
      "displayName": "Benedict Paten",
      "photoUrl": "https://lh3.googleusercontent.com/a-/AOh14Gh2rYrrH6yoNnUp0Oj4p4ouybc6ZcWGyPmKFtIY=s64",
      "userId": "06399644931392855882"
     },
     "user_tz": 480
    },
    "id": "nCodoVss5Jb-",
    "outputId": "c7100872-7e0a-4900-a571-3b75fb9baeb7",
    "slideshow": {
     "slide_type": "fragment"
    },
    "trusted": false
   },
   "cell_type": "code",
   "source": "import unittest # unittest is the standard Python library module for unit testing,\n\nclass FibTest(unittest.TestCase): # Note the use of inheritence\n    \"\"\" Create a test class that inherits from the unittest.TestCase\"\"\"\n    \n    def test_calc_x(self):\n        \"\"\" Each test we create must start with the name \"test\"  \"\"\"\n    \n        self.assertEqual(fib(0), 0)\n        self.assertEqual(fib(1), 1)\n        self.assertEqual(fib(2), 1)\n        self.assertEqual(fib(3), 2)\n        self.assertEqual(fib(4), 3)\n        self.assertEqual(fib(5), 5)\n        self.assertEqual(fib(6), 8)\n\nunittest.main(exit=False)",
   "execution_count": 4,
   "outputs": [
    {
     "output_type": "stream",
     "text": "F\n======================================================================\nFAIL: test_calc_x (__main__.FibTest)\nEach test we create must start with the name \"test\"\n----------------------------------------------------------------------\nTraceback (most recent call last):\n  File \"<ipython-input-4-c2567fb22d9a>\", line 7, in test_calc_x\n    self.assertEqual(fib(0), 0)\nAssertionError: 1 != 0\n\n----------------------------------------------------------------------\nRan 1 test in 0.001s\n\nFAILED (failures=1)\n",
     "name": "stderr"
    },
    {
     "output_type": "execute_result",
     "execution_count": 4,
     "data": {
      "text/plain": "<unittest.main.TestProgram at 0x13ea63ee0>"
     },
     "metadata": {}
    }
   ]
  },
  {
   "metadata": {
    "id": "_29yYOF1rrSQ",
    "slideshow": {
     "slide_type": "subslide"
    }
   },
   "cell_type": "markdown",
   "source": "Okay, so our test failed, let's fix it:"
  },
  {
   "metadata": {
    "id": "r72cNfLsrxkc",
    "slideshow": {
     "slide_type": "fragment"
    },
    "trusted": false
   },
   "cell_type": "code",
   "source": "# Example demonstrating unittesting using the Python\n# unittest module\n\n# Let's suppose we want to test our implementation of the fibonnaci sequence\ndef fib(i):\n    \"\"\" Compute the ith fibonacci number recursively\n    \"\"\"\n    assert type(i) == int and i >= 0\n    \n    return 0 if i == 0 else 1 if i == 1 else fib(i-1) + fib(i-2) # That's right",
   "execution_count": 5,
   "outputs": []
  },
  {
   "metadata": {
    "id": "qKcD3NG_sA2z",
    "slideshow": {
     "slide_type": "subslide"
    }
   },
   "cell_type": "markdown",
   "source": "Now we can rerun the tests:"
  },
  {
   "metadata": {
    "colab": {
     "base_uri": "https://localhost:8080/"
    },
    "executionInfo": {
     "elapsed": 597,
     "status": "ok",
     "timestamp": 1608090883841,
     "user": {
      "displayName": "Benedict Paten",
      "photoUrl": "https://lh3.googleusercontent.com/a-/AOh14Gh2rYrrH6yoNnUp0Oj4p4ouybc6ZcWGyPmKFtIY=s64",
      "userId": "06399644931392855882"
     },
     "user_tz": 480
    },
    "id": "8hmU0_UPr4U_",
    "outputId": "b7534222-9deb-4b84-81b1-2ca0df42d248",
    "slideshow": {
     "slide_type": "fragment"
    },
    "trusted": false
   },
   "cell_type": "code",
   "source": "import unittest # unittest is the standard Python library module for unit testing,\n\nclass FibTest(unittest.TestCase): # Note the use of inheritence\n    \"\"\" Create a test class that inherits from the unittest.TestCase\"\"\"\n    \n    def test_calc_x(self):\n        \"\"\" Each test we create must start with the name \"test\"  \"\"\"\n        self.assertEqual(fib(0), 0)\n        self.assertEqual(fib(1), 1)\n        self.assertEqual(fib(2), 1)\n        self.assertEqual(fib(3), 2)\n        self.assertEqual(fib(4), 3)\n        self.assertEqual(fib(5), 5)\n        self.assertEqual(fib(6), 8)\n\nunittest.main(exit=False)",
   "execution_count": 6,
   "outputs": [
    {
     "output_type": "stream",
     "text": ".\n----------------------------------------------------------------------\nRan 1 test in 0.001s\n\nOK\n",
     "name": "stderr"
    },
    {
     "output_type": "execute_result",
     "execution_count": 6,
     "data": {
      "text/plain": "<unittest.main.TestProgram at 0x13ea62320>"
     },
     "metadata": {}
    }
   ]
  },
  {
   "metadata": {
    "id": "kApqUqdysJsV",
    "slideshow": {
     "slide_type": "fragment"
    }
   },
   "cell_type": "markdown",
   "source": "Okay, this example is contrived, but the idea that you should write code to test your code turns out to be remarkably useful.\n\nWhat if you want to write multiple tests for multiple different functions?"
  },
  {
   "metadata": {
    "id": "2PGtely3EFs8",
    "slideshow": {
     "slide_type": "slide"
    }
   },
   "cell_type": "markdown",
   "source": "# Writing multiple tests: setUp() and tearDown()\n\n* It is good to keep tests small and modular.\n\n* If you want to test lots of related functions, e.g. the functions of a class, it is helpful to have shared \"setup\" and \"cleanup\" functions that are run, respectively, before and after each test. You can achieve this with the *setUp()* and *tearDown()* functions of the unittest.TestCase function."
  },
  {
   "metadata": {
    "id": "sNBmpzjsEAqh",
    "slideshow": {
     "slide_type": "subslide"
    },
    "trusted": false
   },
   "cell_type": "code",
   "source": "# Here's the card class we studied before when looking at the Old Maid card game:\n\nclass Card:\n  \"\"\" Represents a card from a deck of cards.\n  \"\"\"\n  \n  # Here are some class variables\n  # to represent possible suits and ranks\n  suits = [\"Clubs\", \"Diamonds\", \"Spades\", \"Hearts\"]\n  ranks = [\"UNUSED\", \"Ace\", \"2\", \"3\", \"4\", \"5\", \"6\", \"7\",\n           \"8\", \"9\", \"10\", \"Jack\", \"Queen\", \"King\"]  \n\n  def __init__(self, suit, rank):\n    \"\"\" Create a card using integer variables to represent suit and rank.\n    \"\"\"\n    # Couple of handy asserts to check any cards we build make sense\n    assert suit >= 0 and suit < 4  \n    assert rank >= 1 and rank < 14\n    self.suit = suit\n    self.rank = rank\n\n  def __str__(self):\n    # The lookup in the suits/ranks lists prints \n    # a human readable representation of the card.\n    return (self.ranks[self.rank] + \" of \" + self.suits[self.suit])\n      \n  # The following methods implement card comparison\n    \n  def cmp(self, other):\n    \"\"\" Compares the card with another, returning 1, 0, or -1 depending on \n        if this card is greater than, equal or less than the other card, respectively.\n        Cards are compared first by suit and then rank.\n    \"\"\"\n    # Check the suits\n    if self.suit > other.suit: return 1\n    if self.suit < other.suit: return -1\n    # Suits are the same... check ranks\n    if self.rank > other.rank: return 1\n    if self.rank < other.rank: return -1\n    # Ranks are the same... it's a tie\n    return 0\n      \n  def __eq__(self, other):    return self.cmp(other) == 0\n  def __le__(self, other):    return self.cmp(other) <= 0\n  def __ge__(self, other):    return self.cmp(other) >= 0\n  def __gt__(self, other):    return self.cmp(other) >  0\n  def __lt__(self, other):    return self.cmp(other) <  0\n  def __ne__(self, other):    return self.cmp(other) != 0",
   "execution_count": 1,
   "outputs": []
  },
  {
   "metadata": {
    "id": "Wg9_BufJbXyn",
    "slideshow": {
     "slide_type": "subslide"
    }
   },
   "cell_type": "markdown",
   "source": "To test the individual functions we could do something like this:"
  },
  {
   "metadata": {
    "colab": {
     "base_uri": "https://localhost:8080/"
    },
    "executionInfo": {
     "elapsed": 375,
     "status": "ok",
     "timestamp": 1608091284365,
     "user": {
      "displayName": "Benedict Paten",
      "photoUrl": "https://lh3.googleusercontent.com/a-/AOh14Gh2rYrrH6yoNnUp0Oj4p4ouybc6ZcWGyPmKFtIY=s64",
      "userId": "06399644931392855882"
     },
     "user_tz": 480
    },
    "id": "WhXVuy3Tbefl",
    "outputId": "0a1cb74f-a999-4699-fb86-90a284ae2779",
    "slideshow": {
     "slide_type": "fragment"
    },
    "trusted": false
   },
   "cell_type": "code",
   "source": "import unittest\n\nclass CardTest(unittest.TestCase):\n  \"\"\" Test the Card class\n  \"\"\"\n  \n  def setUp(self):\n    print(\"setUp\")\n    # This function gets run before each test\n    self.aceClubs    = Card(0, 1) # Ace of clubs\n    self.aceDiamonds = Card(1, 1) # Ace of diamonds\n    self.aceSpades   = Card(2, 1) # Ace of spades\n    \n  def tearDown(self):\n    # This function gets run after each test. \n    # Here I do nothing in teardown, but print a message\n    # but you can use it to cleanup temporary files, etc.\n    print(\"tearDown\")\n   \n  def test_str1(self):\n    print(\"Running test_str1\")\n    self.assertEqual(str(self.aceClubs),    \"Ace of Clubs\")\n    self.assertEqual(str(self.aceSpades),   \"Ace of Spades\")\n\n  def test_str2(self):\n    print(\"Running test_str2\")\n    self.assertEqual(str(self.aceDiamonds), \"Ace of Diamonds\")\n\nunittest.main(exit=False)",
   "execution_count": 5,
   "outputs": [
    {
     "output_type": "stream",
     "text": "..\n----------------------------------------------------------------------\nRan 2 tests in 0.003s\n\nOK\n",
     "name": "stderr"
    },
    {
     "output_type": "stream",
     "text": "setUp\nRunning test_str1\ntearDown\nsetUp\nRunning test_str2\ntearDown\n",
     "name": "stdout"
    },
    {
     "output_type": "execute_result",
     "execution_count": 5,
     "data": {
      "text/plain": "<unittest.main.TestProgram at 0x145d80130>"
     },
     "metadata": {}
    }
   ]
  },
  {
   "metadata": {
    "slideshow": {
     "slide_type": "slide"
    }
   },
   "cell_type": "markdown",
   "source": "# Challenge 1"
  },
  {
   "metadata": {
    "slideshow": {
     "slide_type": "fragment"
    },
    "trusted": false
   },
   "cell_type": "code",
   "source": "# Create your own CardTest unit test class, called ExpandedCardTest, \n# which additionally includes a test for\n# comparing cards using ==, <, and <=  operators. \n# The test should compare the expected ordering of the three cards \n# created by the setUp method (ace of clubs, ace of diamonds, ace of spades)\n# In this program \"Clubs\" < \"Diamonds\" < \"Spades\" < \"Hearts\".\n\nimport unittest\nclass ExpandedCardTest(unittest.TestCase):\n  \"\"\" Test the Card class\n  \"\"\"\n  def test_equals(self):\n    print(\"test_equals\")\n    # have self.aceClubs, self.aceDiamonds, self.aceSpades\n    ...\n\n  # Also write methods to test < and <=\n  ...\n        \n  def setUp(self):\n    print(\"setUp\")\n    # This function gets run before each test\n    self.aceClubs    = Card(0, 1) # Ace of clubs\n    self.aceDiamonds = Card(1, 1) # Ace of diamonds\n    self.aceSpades   = Card(2, 1) # Ace of spades\n    \n  def tearDown(self):\n    # This function gets run after each test. \n    # Here I do nothing in teardown, but print a message\n    # but you can use it to cleanup temporary files, etc.\n    print(\"tearDown\")\n   \n  def test_str(self):\n    \"\"\" Tests Card.__str__()\"\"\"\n    print(\"Running test_str\")\n    self.assertEqual(str(self.aceClubs),    \"Ace of Clubs\")\n    self.assertEqual(str(self.aceSpades),   \"Ace of Spades\")\n    self.assertEqual(str(self.aceDiamonds), \"Ace of Diamonds\")\n\nunittest.main(exit=False)",
   "execution_count": 10,
   "outputs": [
    {
     "output_type": "stream",
     "text": "........\n----------------------------------------------------------------------\nRan 8 tests in 0.008s\n\nOK\n",
     "name": "stderr"
    },
    {
     "output_type": "stream",
     "text": "setUp\nRunning test_same_color\ntearDown\nsetUp\nRunning test_str\ntearDown\nsetUp\ntest_leq\ntearDown\nsetUp\ntest_lessthan\ntearDown\nsetUp\nRunning test_same_color\ntearDown\nsetUp\nRunning test_str\ntearDown\nsetUp\ntest_equals\ntearDown\n",
     "name": "stdout"
    },
    {
     "output_type": "execute_result",
     "execution_count": 10,
     "data": {
      "text/plain": "<unittest.main.TestProgram at 0x13ea63130>"
     },
     "metadata": {}
    }
   ]
  },
  {
   "metadata": {
    "id": "XZyCu9gYtsSa",
    "slideshow": {
     "slide_type": "slide"
    }
   },
   "cell_type": "markdown",
   "source": "# Writing Test Suites\n\n* Generally for each Python module \"foo.py\" you also write a unittest module \"fooTest.py\". \n* Good programmers write about us much unit test code as they write program code.\n  * Generally quicker than ad hoc debugging which is otherwise inevitable. \n\n* One popular approach is to write the tests before writing the core of the program\n  * called \"test driven development\"\n  * helps figure out what the program should do before going to far into coding"
  },
  {
   "metadata": {
    "id": "WEmfPnG2EUg8",
    "slideshow": {
     "slide_type": "slide"
    }
   },
   "cell_type": "markdown",
   "source": "# Exceptions\n\nWhen a runtime error occurs Python creates an exception. "
  },
  {
   "metadata": {
    "colab": {
     "base_uri": "https://localhost:8080/",
     "height": 186
    },
    "executionInfo": {
     "elapsed": 486,
     "status": "error",
     "timestamp": 1574381127895,
     "user": {
      "displayName": "Benedict Paten",
      "photoUrl": "https://lh3.googleusercontent.com/a-/AAuE7mBMnWy8dDR7jyTHNy9tPaRx6DCyA3QKrIcuQ7R4=s64",
      "userId": "06399644931392855882"
     },
     "user_tz": 480
    },
    "id": "7Glnk2WEEWYL",
    "outputId": "2a09fd28-4d35-4420-ebae-e09c3acee49b",
    "slideshow": {
     "slide_type": "fragment"
    },
    "trusted": false
   },
   "cell_type": "code",
   "source": "10 + \"hello\" # Creates an TypeError, a kind of exception",
   "execution_count": 17,
   "outputs": [
    {
     "output_type": "error",
     "ename": "TypeError",
     "evalue": "unsupported operand type(s) for +: 'int' and 'str'",
     "traceback": [
      "\u001b[0;31m---------------------------------------------------------------------------\u001b[0m",
      "\u001b[0;31mTypeError\u001b[0m                                 Traceback (most recent call last)",
      "\u001b[0;32m<ipython-input-17-3b3bcc7d36d8>\u001b[0m in \u001b[0;36m<module>\u001b[0;34m\u001b[0m\n\u001b[0;32m----> 1\u001b[0;31m \u001b[0;36m10\u001b[0m \u001b[0;34m+\u001b[0m \u001b[0;34m\"hello\"\u001b[0m \u001b[0;31m# Creates an TypeError, a kind of exception\u001b[0m\u001b[0;34m\u001b[0m\u001b[0;34m\u001b[0m\u001b[0m\n\u001b[0m",
      "\u001b[0;31mTypeError\u001b[0m: unsupported operand type(s) for +: 'int' and 'str'"
     ]
    }
   ]
  },
  {
   "metadata": {
    "id": "ur1rkvM_hD0I",
    "slideshow": {
     "slide_type": "subslide"
    }
   },
   "cell_type": "markdown",
   "source": "* So far exceptions have halted (aka crashed) program execution\n* We can instead catch these exceptions using the try / except syntax"
  },
  {
   "metadata": {
    "id": "jWpzzBljxRtd",
    "slideshow": {
     "slide_type": "fragment"
    },
    "trusted": false
   },
   "cell_type": "code",
   "source": "# The syntax is \n\ntry: \n  STATEMENT_BLOCK_1\nexcept [ERROR TYPE]:\n  STATEMENT_BLOCK_2",
   "execution_count": null,
   "outputs": []
  },
  {
   "metadata": {
    "id": "gLs88wCrijJy",
    "slideshow": {
     "slide_type": "fragment"
    }
   },
   "cell_type": "markdown",
   "source": "The way this works:\n * The statement block STATEMENT_BLOCK_1 is executed.\n * If an exception occurs of type ERROR_TYPE during the execution of STATEMENT_BLOCK_1 then STATEMENT_BLOCK_1 stops execution and STATEMENT_BLOCK_2 executes. \n * If no exception occurs during STATEMENT_BLOCK_1, STATEMENT_BLOCK_2 is skipped.\n * This allows us to handle exceptions in a predictable way"
  },
  {
   "metadata": {
    "id": "6bpXcrjQxtN4",
    "slideshow": {
     "slide_type": "subslide"
    }
   },
   "cell_type": "markdown",
   "source": "Consider how parsing user input can create errors:"
  },
  {
   "metadata": {
    "colab": {
     "base_uri": "https://localhost:8080/",
     "height": 183
    },
    "executionInfo": {
     "elapsed": 5502,
     "status": "error",
     "timestamp": 1608092348364,
     "user": {
      "displayName": "Benedict Paten",
      "photoUrl": "https://lh3.googleusercontent.com/a-/AOh14Gh2rYrrH6yoNnUp0Oj4p4ouybc6ZcWGyPmKFtIY=s64",
      "userId": "06399644931392855882"
     },
     "user_tz": 480
    },
    "id": "8SZ9lCn0gjRF",
    "outputId": "04f35f03-9dd3-4534-9f90-7992edab81f2",
    "slideshow": {
     "slide_type": "fragment"
    },
    "trusted": false
   },
   "cell_type": "code",
   "source": "i = int(input(\"Enter an integer: \")) \n# What happens if I don't enter a valid integer?",
   "execution_count": null,
   "outputs": [
    {
     "name": "stdout",
     "output_type": "stream",
     "text": "Enter an integer: foo\n"
    },
    {
     "ename": "ValueError",
     "evalue": "ignored",
     "output_type": "error",
     "traceback": [
      "\u001b[0;31m---------------------------------------------------------------------------\u001b[0m",
      "\u001b[0;31mValueError\u001b[0m                                Traceback (most recent call last)",
      "\u001b[0;32m<ipython-input-11-31b04b94ed4b>\u001b[0m in \u001b[0;36m<module>\u001b[0;34m()\u001b[0m\n\u001b[0;32m----> 1\u001b[0;31m \u001b[0mi\u001b[0m \u001b[0;34m=\u001b[0m \u001b[0mint\u001b[0m\u001b[0;34m(\u001b[0m\u001b[0minput\u001b[0m\u001b[0;34m(\u001b[0m\u001b[0;34m\"Enter an integer: \"\u001b[0m\u001b[0;34m)\u001b[0m\u001b[0;34m)\u001b[0m \u001b[0;31m# What happens if I don't enter a valid integer?\u001b[0m\u001b[0;34m\u001b[0m\u001b[0;34m\u001b[0m\u001b[0m\n\u001b[0m",
      "\u001b[0;31mValueError\u001b[0m: invalid literal for int() with base 10: 'foo'"
     ]
    }
   ]
  },
  {
   "metadata": {
    "id": "AEH6i4Yghv5s",
    "slideshow": {
     "slide_type": "fragment"
    }
   },
   "cell_type": "markdown",
   "source": "We can handle this using try/except:"
  },
  {
   "metadata": {
    "colab": {
     "base_uri": "https://localhost:8080/"
    },
    "executionInfo": {
     "elapsed": 5011,
     "status": "ok",
     "timestamp": 1608092389137,
     "user": {
      "displayName": "Benedict Paten",
      "photoUrl": "https://lh3.googleusercontent.com/a-/AOh14Gh2rYrrH6yoNnUp0Oj4p4ouybc6ZcWGyPmKFtIY=s64",
      "userId": "06399644931392855882"
     },
     "user_tz": 480
    },
    "id": "09rznfdSg7tv",
    "outputId": "289879e3-aece-48d5-d374-9f65d6fa20ba",
    "slideshow": {
     "slide_type": "fragment"
    },
    "trusted": false
   },
   "cell_type": "code",
   "source": "while True:\n  try:\n    i = int(input(\"Enter an integer: \"))\n    break\n  except ValueError: \n    print(\"Got an error parsing user input, try again!\")\n    \nprint(\"You entered: \", i)",
   "execution_count": 1,
   "outputs": [
    {
     "name": "stdout",
     "output_type": "stream",
     "text": "Enter an integer: Foo\nGot an error parsing user input, try again!\nEnter an integer: \nGot an error parsing user input, try again!\nEnter an integer: -\nGot an error parsing user input, try again!\nEnter an integer: -123\nYou entered:  -123\n"
    }
   ]
  },
  {
   "metadata": {
    "id": "ocTPd5poixNz",
    "slideshow": {
     "slide_type": "subslide"
    }
   },
   "cell_type": "markdown",
   "source": "**You don't have to specify the exception type** \n\n* If you don't know what error to anticipate you can not specify the type of exception:"
  },
  {
   "metadata": {
    "colab": {
     "base_uri": "https://localhost:8080/",
     "height": 52
    },
    "executionInfo": {
     "elapsed": 4740,
     "status": "ok",
     "timestamp": 1574381810504,
     "user": {
      "displayName": "Benedict Paten",
      "photoUrl": "https://lh3.googleusercontent.com/a-/AAuE7mBMnWy8dDR7jyTHNy9tPaRx6DCyA3QKrIcuQ7R4=s64",
      "userId": "06399644931392855882"
     },
     "user_tz": 480
    },
    "id": "dMg1FKaJi8vI",
    "outputId": "0650ef72-c4e2-41a4-fcbe-df572cefcb82",
    "slideshow": {
     "slide_type": "fragment"
    },
    "trusted": false
   },
   "cell_type": "code",
   "source": "while True:\n  try:\n    i = int(input(\"Enter an integer: \"))\n    break\n  except: # Note we don't say what kind of error it is\n    print(\"Got an error parsing user input, try again!\")\n\nprint(\"You entered: \", i)",
   "execution_count": 8,
   "outputs": [
    {
     "name": "stdout",
     "output_type": "stream",
     "text": "Enter an integer: Foo\nGot an error parsing user input, try again!\nEnter an integer: 1\nYou entered:  1\n"
    }
   ]
  },
  {
   "metadata": {
    "id": "hjvNDiCcjosT",
    "slideshow": {
     "slide_type": "fragment"
    }
   },
   "cell_type": "markdown",
   "source": "The downside of not specifying the type of the expected exception, is that  except without a type will catch all exceptions, possibly including unrelated errors.\n"
  },
  {
   "metadata": {
    "slideshow": {
     "slide_type": "subslide"
    }
   },
   "cell_type": "markdown",
   "source": "# Challenge 2"
  },
  {
   "metadata": {
    "slideshow": {
     "slide_type": "fragment"
    },
    "trusted": true
   },
   "cell_type": "code",
   "source": "# Practice problem\n\n# Write a function \"get_file\" to ask the user for a file name.\n# Return an open file handle to that file in \"read\" mode.\n# Use exception handling to deal with the case that the user's file\n# does not exist, printing an error saying \"File does not exist, try again\" \n# and trying again to get a file from the user name\n# Hint use FileNotFoundError\n\ndef get_file():\n    while True:\n        try:\n            filename = input(\"File? \")\n            return open(filename, \"r\")\n        except FileNotFoundError:\n            print(\"File does not exist, try again\")\n    \n\nget_file()",
   "execution_count": 10,
   "outputs": [
    {
     "output_type": "stream",
     "name": "stdout",
     "text": "File? o\nFile does not exist, try again\nFile? out.txt\n"
    },
    {
     "output_type": "execute_result",
     "execution_count": 10,
     "data": {
      "text/plain": "<_io.TextIOWrapper name='out.txt' mode='r' encoding='UTF-8'>"
     },
     "metadata": {}
    }
   ]
  },
  {
   "metadata": {
    "id": "bHqpCuKmkI4e",
    "slideshow": {
     "slide_type": "slide"
    }
   },
   "cell_type": "markdown",
   "source": "# Finally \n\nFinally allows us to specify code that will be run regardless of if there is an error:"
  },
  {
   "metadata": {
    "colab": {
     "base_uri": "https://localhost:8080/"
    },
    "executionInfo": {
     "elapsed": 358,
     "status": "ok",
     "timestamp": 1608092491019,
     "user": {
      "displayName": "Benedict Paten",
      "photoUrl": "https://lh3.googleusercontent.com/a-/AOh14Gh2rYrrH6yoNnUp0Oj4p4ouybc6ZcWGyPmKFtIY=s64",
      "userId": "06399644931392855882"
     },
     "user_tz": 480
    },
    "id": "ITFjFenBlSUQ",
    "outputId": "f9e63e8e-3c74-48a4-e97c-4377e864d924",
    "slideshow": {
     "slide_type": "fragment"
    },
    "trusted": false
   },
   "cell_type": "code",
   "source": "try:\n    f = open(\"out.txt\", \"w\")\n    f.write(\"Hello, file!\\n\")\n    assert 1 == 2  # Causes an error\nexcept:\n    print(\"Got an error\")\nfinally:\n    print(\"Closing the file\")\n    f.close()",
   "execution_count": 18,
   "outputs": [
    {
     "output_type": "stream",
     "text": "Got an error\nClosing the file\n",
     "name": "stdout"
    }
   ]
  },
  {
   "metadata": {
    "id": "HaHUZWhsm90X",
    "slideshow": {
     "slide_type": "fragment"
    }
   },
   "cell_type": "markdown",
   "source": "The way this works: \n* if there is an error, the error is dealt with.\n* the finally clause is then run, regardless of if there is an error or not"
  },
  {
   "metadata": {
    "id": "AwL6DdxaoQJd",
    "slideshow": {
     "slide_type": "slide"
    }
   },
   "cell_type": "markdown",
   "source": "# Raise\n\nIf you want to create your own exception use \"Raise\":"
  },
  {
   "metadata": {
    "colab": {
     "base_uri": "https://localhost:8080/",
     "height": 338
    },
    "executionInfo": {
     "elapsed": 3630,
     "status": "error",
     "timestamp": 1608092534622,
     "user": {
      "displayName": "Benedict Paten",
      "photoUrl": "https://lh3.googleusercontent.com/a-/AOh14Gh2rYrrH6yoNnUp0Oj4p4ouybc6ZcWGyPmKFtIY=s64",
      "userId": "06399644931392855882"
     },
     "user_tz": 480
    },
    "id": "CXwrlHwopfeo",
    "outputId": "0482cf6b-bda6-4de9-89f8-22efec05883a",
    "slideshow": {
     "slide_type": "fragment"
    },
    "trusted": false
   },
   "cell_type": "code",
   "source": "def get_age():\n    age = int(input(\"Please enter your age: \"))\n    if age < 0:\n        # Create a new instance of an exception\n        my_error = ValueError(f\"{age} is not a valid age\")\n        raise my_error\n    return age\n    \nget_age()",
   "execution_count": 19,
   "outputs": [
    {
     "output_type": "stream",
     "name": "stdout",
     "text": "Please enter your age: -1\n"
    },
    {
     "output_type": "error",
     "ename": "ValueError",
     "evalue": "-1 is not a valid age",
     "traceback": [
      "\u001b[0;31m---------------------------------------------------------------------------\u001b[0m",
      "\u001b[0;31mValueError\u001b[0m                                Traceback (most recent call last)",
      "\u001b[0;32m<ipython-input-19-be0db9a726db>\u001b[0m in \u001b[0;36m<module>\u001b[0;34m\u001b[0m\n\u001b[1;32m      7\u001b[0m     \u001b[0;32mreturn\u001b[0m \u001b[0mage\u001b[0m\u001b[0;34m\u001b[0m\u001b[0;34m\u001b[0m\u001b[0m\n\u001b[1;32m      8\u001b[0m \u001b[0;34m\u001b[0m\u001b[0m\n\u001b[0;32m----> 9\u001b[0;31m \u001b[0mget_age\u001b[0m\u001b[0;34m(\u001b[0m\u001b[0;34m)\u001b[0m\u001b[0;34m\u001b[0m\u001b[0;34m\u001b[0m\u001b[0m\n\u001b[0m",
      "\u001b[0;32m<ipython-input-19-be0db9a726db>\u001b[0m in \u001b[0;36mget_age\u001b[0;34m()\u001b[0m\n\u001b[1;32m      4\u001b[0m         \u001b[0;31m# Create a new instance of an exception\u001b[0m\u001b[0;34m\u001b[0m\u001b[0;34m\u001b[0m\u001b[0m\n\u001b[1;32m      5\u001b[0m         \u001b[0mmy_error\u001b[0m \u001b[0;34m=\u001b[0m \u001b[0mValueError\u001b[0m\u001b[0;34m(\u001b[0m\u001b[0;34mf\"{age} is not a valid age\"\u001b[0m\u001b[0;34m)\u001b[0m\u001b[0;34m\u001b[0m\u001b[0;34m\u001b[0m\u001b[0m\n\u001b[0;32m----> 6\u001b[0;31m         \u001b[0;32mraise\u001b[0m \u001b[0mmy_error\u001b[0m\u001b[0;34m\u001b[0m\u001b[0;34m\u001b[0m\u001b[0m\n\u001b[0m\u001b[1;32m      7\u001b[0m     \u001b[0;32mreturn\u001b[0m \u001b[0mage\u001b[0m\u001b[0;34m\u001b[0m\u001b[0;34m\u001b[0m\u001b[0m\n\u001b[1;32m      8\u001b[0m \u001b[0;34m\u001b[0m\u001b[0m\n",
      "\u001b[0;31mValueError\u001b[0m: -1 is not a valid age"
     ]
    }
   ]
  },
  {
   "metadata": {
    "colab": {
     "base_uri": "https://localhost:8080/",
     "height": 338
    },
    "executionInfo": {
     "elapsed": 3630,
     "status": "error",
     "timestamp": 1608092534622,
     "user": {
      "displayName": "Benedict Paten",
      "photoUrl": "https://lh3.googleusercontent.com/a-/AOh14Gh2rYrrH6yoNnUp0Oj4p4ouybc6ZcWGyPmKFtIY=s64",
      "userId": "06399644931392855882"
     },
     "user_tz": 480
    },
    "id": "CXwrlHwopfeo",
    "outputId": "0482cf6b-bda6-4de9-89f8-22efec05883a",
    "slideshow": {
     "slide_type": "fragment"
    },
    "trusted": false
   },
   "cell_type": "code",
   "source": "try:\n    get_age()\nexcept ValueError:\n    print(\"Got an invalid age\")",
   "execution_count": 23,
   "outputs": [
    {
     "output_type": "stream",
     "name": "stdout",
     "text": "Please enter your age: -1\nGot an invalid age\n"
    }
   ]
  },
  {
   "metadata": {
    "id": "P5pblXmQp48w",
    "slideshow": {
     "slide_type": "subslide"
    }
   },
   "cell_type": "markdown",
   "source": "You can also **raise** to \"re-throw\" an exception:"
  },
  {
   "metadata": {
    "colab": {
     "base_uri": "https://localhost:8080/",
     "height": 252
    },
    "executionInfo": {
     "elapsed": 360,
     "status": "error",
     "timestamp": 1608092557060,
     "user": {
      "displayName": "Benedict Paten",
      "photoUrl": "https://lh3.googleusercontent.com/a-/AOh14Gh2rYrrH6yoNnUp0Oj4p4ouybc6ZcWGyPmKFtIY=s64",
      "userId": "06399644931392855882"
     },
     "user_tz": 480
    },
    "id": "C8UvvAwVp9xO",
    "outputId": "24d06d86-89d2-4824-9270-bdd2f6223447",
    "slideshow": {
     "slide_type": "fragment"
    },
    "trusted": false
   },
   "cell_type": "code",
   "source": "try:\n    get_age()\nexcept ValueError:\n    print(\"Got an invalid age\")\n    raise # Re-throws the exception",
   "execution_count": 24,
   "outputs": [
    {
     "output_type": "stream",
     "name": "stdout",
     "text": "Please enter your age: -1\nGot an invalid age\n"
    },
    {
     "output_type": "error",
     "ename": "ValueError",
     "evalue": "-1 is not a valid age",
     "traceback": [
      "\u001b[0;31m---------------------------------------------------------------------------\u001b[0m",
      "\u001b[0;31mValueError\u001b[0m                                Traceback (most recent call last)",
      "\u001b[0;32m<ipython-input-24-bd8ead2bcf79>\u001b[0m in \u001b[0;36m<module>\u001b[0;34m\u001b[0m\n\u001b[1;32m      1\u001b[0m \u001b[0;32mtry\u001b[0m\u001b[0;34m:\u001b[0m\u001b[0;34m\u001b[0m\u001b[0;34m\u001b[0m\u001b[0m\n\u001b[0;32m----> 2\u001b[0;31m     \u001b[0mget_age\u001b[0m\u001b[0;34m(\u001b[0m\u001b[0;34m)\u001b[0m\u001b[0;34m\u001b[0m\u001b[0;34m\u001b[0m\u001b[0m\n\u001b[0m\u001b[1;32m      3\u001b[0m \u001b[0;32mexcept\u001b[0m \u001b[0mValueError\u001b[0m\u001b[0;34m:\u001b[0m\u001b[0;34m\u001b[0m\u001b[0;34m\u001b[0m\u001b[0m\n\u001b[1;32m      4\u001b[0m     \u001b[0mprint\u001b[0m\u001b[0;34m(\u001b[0m\u001b[0;34m\"Got an invalid age\"\u001b[0m\u001b[0;34m)\u001b[0m\u001b[0;34m\u001b[0m\u001b[0;34m\u001b[0m\u001b[0m\n\u001b[1;32m      5\u001b[0m     \u001b[0;32mraise\u001b[0m \u001b[0;31m# Re-throws the exception\u001b[0m\u001b[0;34m\u001b[0m\u001b[0;34m\u001b[0m\u001b[0m\n",
      "\u001b[0;32m<ipython-input-21-954ce4c84aaf>\u001b[0m in \u001b[0;36mget_age\u001b[0;34m()\u001b[0m\n\u001b[1;32m      4\u001b[0m     \u001b[0;31m# Create a new instance of an exception\u001b[0m\u001b[0;34m\u001b[0m\u001b[0;34m\u001b[0m\u001b[0m\n\u001b[1;32m      5\u001b[0m     \u001b[0mmy_error\u001b[0m \u001b[0;34m=\u001b[0m \u001b[0mValueError\u001b[0m\u001b[0;34m(\u001b[0m\u001b[0;34mf\"{age} is not a valid age\"\u001b[0m\u001b[0;34m)\u001b[0m\u001b[0;34m\u001b[0m\u001b[0;34m\u001b[0m\u001b[0m\n\u001b[0;32m----> 6\u001b[0;31m     \u001b[0;32mraise\u001b[0m \u001b[0mmy_error\u001b[0m\u001b[0;34m\u001b[0m\u001b[0;34m\u001b[0m\u001b[0m\n\u001b[0m\u001b[1;32m      7\u001b[0m   \u001b[0;32mreturn\u001b[0m \u001b[0mage\u001b[0m\u001b[0;34m\u001b[0m\u001b[0;34m\u001b[0m\u001b[0m\n\u001b[1;32m      8\u001b[0m \u001b[0;34m\u001b[0m\u001b[0m\n",
      "\u001b[0;31mValueError\u001b[0m: -1 is not a valid age"
     ]
    }
   ]
  },
  {
   "metadata": {
    "id": "nlJtaCzbQg7I",
    "slideshow": {
     "slide_type": "fragment"
    }
   },
   "cell_type": "markdown",
   "source": "Note: There is a lot more to say about exceptions and writing false tolerant code, but hopefully this summary is a good start!"
  },
  {
   "metadata": {
    "slideshow": {
     "slide_type": "slide"
    }
   },
   "cell_type": "markdown",
   "source": "# Challenge 3"
  },
  {
   "metadata": {
    "slideshow": {
     "slide_type": "fragment"
    },
    "trusted": true
   },
   "cell_type": "code",
   "source": "# Write code that uses exception handling and the get_age function  \n# to probe a user for a valid age, repeating the prompt until a valid age is given.\n\ndef get_age():\n    age = int(input(\"Please enter your age: \"))\n    if age < 0:\n        # Create a new instance of an exception\n        raise ValueError(f\"{age} is not a valid age\")\n    return age\n\nwhile True:\n    try:\n        age = get_age()\n        break\n    except ValueError:\n        print(\"Not a valid age, sorry, please try again\")\n        raise\n        \nprint(f\"age is {age}\")",
   "execution_count": 2,
   "outputs": [
    {
     "output_type": "stream",
     "name": "stdout",
     "text": "Please enter your age: Foo\nNot a valid age, sorry, please try again\n"
    },
    {
     "output_type": "error",
     "ename": "ValueError",
     "evalue": "invalid literal for int() with base 10: 'Foo'",
     "traceback": [
      "\u001b[0;31m---------------------------------------------------------------------------\u001b[0m",
      "\u001b[0;31mValueError\u001b[0m                                Traceback (most recent call last)",
      "\u001b[0;32m<ipython-input-2-f2458c537297>\u001b[0m in \u001b[0;36m<module>\u001b[0;34m\u001b[0m\n\u001b[1;32m     11\u001b[0m \u001b[0;32mwhile\u001b[0m \u001b[0;32mTrue\u001b[0m\u001b[0;34m:\u001b[0m\u001b[0;34m\u001b[0m\u001b[0;34m\u001b[0m\u001b[0m\n\u001b[1;32m     12\u001b[0m     \u001b[0;32mtry\u001b[0m\u001b[0;34m:\u001b[0m\u001b[0;34m\u001b[0m\u001b[0;34m\u001b[0m\u001b[0m\n\u001b[0;32m---> 13\u001b[0;31m         \u001b[0mage\u001b[0m \u001b[0;34m=\u001b[0m \u001b[0mget_age\u001b[0m\u001b[0;34m(\u001b[0m\u001b[0;34m)\u001b[0m\u001b[0;34m\u001b[0m\u001b[0;34m\u001b[0m\u001b[0m\n\u001b[0m\u001b[1;32m     14\u001b[0m         \u001b[0;32mbreak\u001b[0m\u001b[0;34m\u001b[0m\u001b[0;34m\u001b[0m\u001b[0m\n\u001b[1;32m     15\u001b[0m     \u001b[0;32mexcept\u001b[0m \u001b[0mValueError\u001b[0m\u001b[0;34m:\u001b[0m\u001b[0;34m\u001b[0m\u001b[0;34m\u001b[0m\u001b[0m\n",
      "\u001b[0;32m<ipython-input-2-f2458c537297>\u001b[0m in \u001b[0;36mget_age\u001b[0;34m()\u001b[0m\n\u001b[1;32m      3\u001b[0m \u001b[0;34m\u001b[0m\u001b[0m\n\u001b[1;32m      4\u001b[0m \u001b[0;32mdef\u001b[0m \u001b[0mget_age\u001b[0m\u001b[0;34m(\u001b[0m\u001b[0;34m)\u001b[0m\u001b[0;34m:\u001b[0m\u001b[0;34m\u001b[0m\u001b[0;34m\u001b[0m\u001b[0m\n\u001b[0;32m----> 5\u001b[0;31m     \u001b[0mage\u001b[0m \u001b[0;34m=\u001b[0m \u001b[0mint\u001b[0m\u001b[0;34m(\u001b[0m\u001b[0minput\u001b[0m\u001b[0;34m(\u001b[0m\u001b[0;34m\"Please enter your age: \"\u001b[0m\u001b[0;34m)\u001b[0m\u001b[0;34m)\u001b[0m\u001b[0;34m\u001b[0m\u001b[0;34m\u001b[0m\u001b[0m\n\u001b[0m\u001b[1;32m      6\u001b[0m     \u001b[0;32mif\u001b[0m \u001b[0mage\u001b[0m \u001b[0;34m<\u001b[0m \u001b[0;36m0\u001b[0m\u001b[0;34m:\u001b[0m\u001b[0;34m\u001b[0m\u001b[0;34m\u001b[0m\u001b[0m\n\u001b[1;32m      7\u001b[0m         \u001b[0;31m# Create a new instance of an exception\u001b[0m\u001b[0;34m\u001b[0m\u001b[0;34m\u001b[0m\u001b[0m\n",
      "\u001b[0;31mValueError\u001b[0m: invalid literal for int() with base 10: 'Foo'"
     ]
    }
   ]
  },
  {
   "metadata": {
    "id": "PucGp8tOZC_s",
    "slideshow": {
     "slide_type": "slide"
    }
   },
   "cell_type": "markdown",
   "source": "# Homework\n\n* Zybooks Reading 16\n* Open book Chapter 19: (exceptions)\nhttp://openbookproject.net/thinkcs/python/english3e/exceptions.html\n"
  }
 ],
 "metadata": {
  "celltoolbar": "Slideshow",
  "colab": {
   "collapsed_sections": [],
   "name": "L16 Exceptions and Unit Testing.ipynb",
   "provenance": []
  },
  "kernelspec": {
   "name": "python3",
   "display_name": "Python 3",
   "language": "python"
  },
  "language_info": {
   "name": "python",
   "version": "3.10.4",
   "mimetype": "text/x-python",
   "codemirror_mode": {
    "name": "ipython",
    "version": 3
   },
   "pygments_lexer": "ipython3",
   "nbconvert_exporter": "python",
   "file_extension": ".py"
  }
 },
 "nbformat": 4,
 "nbformat_minor": 1
}