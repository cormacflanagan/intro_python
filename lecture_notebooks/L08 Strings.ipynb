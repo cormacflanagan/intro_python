{
 "cells": [
  {
   "metadata": {
    "id": "5UyFJYXOx-WH",
    "slideshow": {
     "slide_type": "slide"
    }
   },
   "cell_type": "markdown",
   "source": "# Lecture 8 - Strings \n\n"
  },
  {
   "metadata": {
    "colab": {
     "base_uri": "https://localhost:8080/",
     "height": 34
    },
    "execution": {
     "iopub.execute_input": "2022-09-23T00:20:12.183754Z",
     "iopub.status.busy": "2022-09-23T00:20:12.182636Z",
     "iopub.status.idle": "2022-09-23T00:20:12.186668Z",
     "shell.execute_reply": "2022-09-23T00:20:12.187402Z"
    },
    "executionInfo": {
     "elapsed": 472,
     "status": "ok",
     "timestamp": 1571351590922,
     "user": {
      "displayName": "Benedict Paten",
      "photoUrl": "https://lh3.googleusercontent.com/a-/AAuE7mBMnWy8dDR7jyTHNy9tPaRx6DCyA3QKrIcuQ7R4=s64",
      "userId": "06399644931392855882"
     },
     "user_tz": 420
    },
    "id": "08DGFMoYo5Y8",
    "outputId": "89071984-6be2-43d8-9ecb-de11985e8352",
    "slideshow": {
     "slide_type": "subslide"
    },
    "trusted": true
   },
   "cell_type": "code",
   "source": "# Write a function combine that takes in 2 strings\n# and concatenates them with a space in between\n\n...\n\ncombine(\"Good\", combine(\"morning\", \"CSE20\"))",
   "execution_count": 1,
   "outputs": [
    {
     "output_type": "execute_result",
     "execution_count": 1,
     "data": {
      "text/plain": "'Good morning CSE20'"
     },
     "metadata": {}
    }
   ]
  },
  {
   "metadata": {
    "colab": {
     "base_uri": "https://localhost:8080/",
     "height": 34
    },
    "execution": {
     "iopub.execute_input": "2022-09-23T00:20:12.331029Z",
     "iopub.status.busy": "2022-09-23T00:20:12.329956Z",
     "iopub.status.idle": "2022-09-23T00:20:12.333741Z",
     "shell.execute_reply": "2022-09-23T00:20:12.334657Z"
    },
    "executionInfo": {
     "elapsed": 613,
     "status": "ok",
     "timestamp": 1571351680541,
     "user": {
      "displayName": "Benedict Paten",
      "photoUrl": "https://lh3.googleusercontent.com/a-/AAuE7mBMnWy8dDR7jyTHNy9tPaRx6DCyA3QKrIcuQ7R4=s64",
      "userId": "06399644931392855882"
     },
     "user_tz": 420
    },
    "id": "za5PJOoKTkHu",
    "outputId": "37e7c9c0-b74a-4631-b6dd-673ce89fe22d",
    "slideshow": {
     "slide_type": "fragment"
    },
    "trusted": false
   },
   "cell_type": "code",
   "source": "s = \"A long string\"\n\nlen(s)",
   "execution_count": 1,
   "outputs": [
    {
     "data": {
      "text/plain": "13"
     },
     "execution_count": 1,
     "metadata": {},
     "output_type": "execute_result"
    }
   ]
  },
  {
   "metadata": {
    "id": "o6vwDEdxoeow",
    "slideshow": {
     "slide_type": "slide"
    }
   },
   "cell_type": "markdown",
   "source": "# String operators\n\nPython provides some surprising ways to manipulate strings"
  },
  {
   "metadata": {
    "colab": {
     "base_uri": "https://localhost:8080/",
     "height": 34
    },
    "execution": {
     "iopub.execute_input": "2022-09-23T00:20:12.183754Z",
     "iopub.status.busy": "2022-09-23T00:20:12.182636Z",
     "iopub.status.idle": "2022-09-23T00:20:12.186668Z",
     "shell.execute_reply": "2022-09-23T00:20:12.187402Z"
    },
    "executionInfo": {
     "elapsed": 472,
     "status": "ok",
     "timestamp": 1571351590922,
     "user": {
      "displayName": "Benedict Paten",
      "photoUrl": "https://lh3.googleusercontent.com/a-/AAuE7mBMnWy8dDR7jyTHNy9tPaRx6DCyA3QKrIcuQ7R4=s64",
      "userId": "06399644931392855882"
     },
     "user_tz": 420
    },
    "id": "08DGFMoYo5Y8",
    "outputId": "89071984-6be2-43d8-9ecb-de11985e8352",
    "slideshow": {
     "slide_type": "subslide"
    },
    "trusted": false
   },
   "cell_type": "code",
   "source": "# You can concatenate strings together\ns = \"Lets\" + \"add\" + \"together\" + \"strings\"\n\nprint(s) # Note it just puts them one after the other \n# (i.e. it doesn't do any whitesppace addition)",
   "execution_count": 1,
   "outputs": [
    {
     "name": "stdout",
     "output_type": "stream",
     "text": "Letsaddtogetherstrings\n"
    }
   ]
  },
  {
   "metadata": {
    "colab": {
     "base_uri": "https://localhost:8080/",
     "height": 34
    },
    "execution": {
     "iopub.execute_input": "2022-09-23T00:20:12.192931Z",
     "iopub.status.busy": "2022-09-23T00:20:12.191965Z",
     "iopub.status.idle": "2022-09-23T00:20:12.195283Z",
     "shell.execute_reply": "2022-09-23T00:20:12.195973Z"
    },
    "executionInfo": {
     "elapsed": 496,
     "status": "ok",
     "timestamp": 1571351603349,
     "user": {
      "displayName": "Benedict Paten",
      "photoUrl": "https://lh3.googleusercontent.com/a-/AAuE7mBMnWy8dDR7jyTHNy9tPaRx6DCyA3QKrIcuQ7R4=s64",
      "userId": "06399644931392855882"
     },
     "user_tz": 420
    },
    "id": "gAuriJBVokuD",
    "outputId": "e660924e-c294-4ef3-bbd0-381f58fa75e8",
    "slideshow": {
     "slide_type": "subslide"
    },
    "trusted": false
   },
   "cell_type": "code",
   "source": "s = \"Hello\" * 10 # The multiplication operator allows you to make a \n# a sequence of strings\n\nprint(s) ",
   "execution_count": 2,
   "outputs": [
    {
     "name": "stdout",
     "output_type": "stream",
     "text": "HelloHelloHelloHelloHelloHelloHelloHelloHelloHello\n"
    }
   ]
  },
  {
   "metadata": {
    "colab": {
     "base_uri": "https://localhost:8080/",
     "height": 184
    },
    "execution": {
     "iopub.execute_input": "2022-09-23T00:20:12.201460Z",
     "iopub.status.busy": "2022-09-23T00:20:12.200437Z",
     "iopub.status.idle": "2022-09-23T00:20:12.302434Z",
     "shell.execute_reply": "2022-09-23T00:20:12.303316Z"
    },
    "executionInfo": {
     "elapsed": 951,
     "status": "error",
     "timestamp": 1571351625506,
     "user": {
      "displayName": "Benedict Paten",
      "photoUrl": "https://lh3.googleusercontent.com/a-/AAuE7mBMnWy8dDR7jyTHNy9tPaRx6DCyA3QKrIcuQ7R4=s64",
      "userId": "06399644931392855882"
     },
     "user_tz": 420
    },
    "id": "oiRGSeFqpTmI",
    "outputId": "4ad704ae-26cf-4665-a3ab-69a582e39272",
    "slideshow": {
     "slide_type": "subslide"
    },
    "trusted": false
   },
   "cell_type": "code",
   "source": "# Note this doesn't work\n\ns = \"You can't\" - \"subtract strings\" # What would this even do?",
   "execution_count": 3,
   "outputs": [
    {
     "ename": "TypeError",
     "evalue": "unsupported operand type(s) for -: 'str' and 'str'",
     "output_type": "error",
     "traceback": [
      "\u001b[0;31m---------------------------------------------------------------------------\u001b[0m",
      "\u001b[0;31mTypeError\u001b[0m                                 Traceback (most recent call last)",
      "\u001b[0;32m<ipython-input-3-1d028e677cdb>\u001b[0m in \u001b[0;36m<module>\u001b[0;34m\u001b[0m\n\u001b[1;32m      1\u001b[0m \u001b[0;31m# Note this doesn't work\u001b[0m\u001b[0;34m\u001b[0m\u001b[0;34m\u001b[0m\u001b[0;34m\u001b[0m\u001b[0m\n\u001b[1;32m      2\u001b[0m \u001b[0;34m\u001b[0m\u001b[0m\n\u001b[0;32m----> 3\u001b[0;31m \u001b[0ms\u001b[0m \u001b[0;34m=\u001b[0m \u001b[0;34m\"You can't\"\u001b[0m \u001b[0;34m-\u001b[0m \u001b[0;34m\"subtract strings\"\u001b[0m \u001b[0;31m# What would this even do?\u001b[0m\u001b[0;34m\u001b[0m\u001b[0;34m\u001b[0m\u001b[0m\n\u001b[0m",
      "\u001b[0;31mTypeError\u001b[0m: unsupported operand type(s) for -: 'str' and 'str'"
     ]
    }
   ]
  },
  {
   "metadata": {
    "colab": {
     "base_uri": "https://localhost:8080/",
     "height": 184
    },
    "execution": {
     "iopub.execute_input": "2022-09-23T00:20:12.308795Z",
     "iopub.status.busy": "2022-09-23T00:20:12.307819Z",
     "iopub.status.idle": "2022-09-23T00:20:12.315829Z",
     "shell.execute_reply": "2022-09-23T00:20:12.316634Z"
    },
    "executionInfo": {
     "elapsed": 526,
     "status": "error",
     "timestamp": 1571351645757,
     "user": {
      "displayName": "Benedict Paten",
      "photoUrl": "https://lh3.googleusercontent.com/a-/AAuE7mBMnWy8dDR7jyTHNy9tPaRx6DCyA3QKrIcuQ7R4=s64",
      "userId": "06399644931392855882"
     },
     "user_tz": 420
    },
    "id": "J8DSG_EIpeuC",
    "outputId": "ceaf2725-c593-4d13-a659-b6d73e6e8012",
    "slideshow": {
     "slide_type": "subslide"
    },
    "trusted": false
   },
   "cell_type": "code",
   "source": "# Nor does this\n\ns = \"You can't\" / \"divide strings either\"",
   "execution_count": 4,
   "outputs": [
    {
     "ename": "TypeError",
     "evalue": "unsupported operand type(s) for /: 'str' and 'str'",
     "output_type": "error",
     "traceback": [
      "\u001b[0;31m---------------------------------------------------------------------------\u001b[0m",
      "\u001b[0;31mTypeError\u001b[0m                                 Traceback (most recent call last)",
      "\u001b[0;32m<ipython-input-4-2c80a1834ea1>\u001b[0m in \u001b[0;36m<module>\u001b[0;34m\u001b[0m\n\u001b[1;32m      1\u001b[0m \u001b[0;31m# Nor does this\u001b[0m\u001b[0;34m\u001b[0m\u001b[0;34m\u001b[0m\u001b[0;34m\u001b[0m\u001b[0m\n\u001b[1;32m      2\u001b[0m \u001b[0;34m\u001b[0m\u001b[0m\n\u001b[0;32m----> 3\u001b[0;31m \u001b[0ms\u001b[0m \u001b[0;34m=\u001b[0m \u001b[0;34m\"You can't\"\u001b[0m \u001b[0;34m/\u001b[0m \u001b[0;34m\"divide strings either\"\u001b[0m\u001b[0;34m\u001b[0m\u001b[0;34m\u001b[0m\u001b[0m\n\u001b[0m",
      "\u001b[0;31mTypeError\u001b[0m: unsupported operand type(s) for /: 'str' and 'str'"
     ]
    }
   ]
  },
  {
   "metadata": {
    "id": "bqg0xuRkaRrm",
    "slideshow": {
     "slide_type": "slide"
    }
   },
   "cell_type": "markdown",
   "source": "# Length function\n\nThe length of a string is given by the len() function"
  },
  {
   "metadata": {
    "colab": {
     "base_uri": "https://localhost:8080/",
     "height": 34
    },
    "execution": {
     "iopub.execute_input": "2022-09-23T00:20:12.331029Z",
     "iopub.status.busy": "2022-09-23T00:20:12.329956Z",
     "iopub.status.idle": "2022-09-23T00:20:12.333741Z",
     "shell.execute_reply": "2022-09-23T00:20:12.334657Z"
    },
    "executionInfo": {
     "elapsed": 613,
     "status": "ok",
     "timestamp": 1571351680541,
     "user": {
      "displayName": "Benedict Paten",
      "photoUrl": "https://lh3.googleusercontent.com/a-/AAuE7mBMnWy8dDR7jyTHNy9tPaRx6DCyA3QKrIcuQ7R4=s64",
      "userId": "06399644931392855882"
     },
     "user_tz": 420
    },
    "id": "za5PJOoKTkHu",
    "outputId": "37e7c9c0-b74a-4631-b6dd-673ce89fe22d",
    "slideshow": {
     "slide_type": "fragment"
    },
    "trusted": false
   },
   "cell_type": "code",
   "source": "s = \"A long string\"\n\nlen(s)",
   "execution_count": 1,
   "outputs": [
    {
     "data": {
      "text/plain": "13"
     },
     "execution_count": 1,
     "metadata": {},
     "output_type": "execute_result"
    }
   ]
  },
  {
   "metadata": {
    "colab": {
     "base_uri": "https://localhost:8080/",
     "height": 34
    },
    "execution": {
     "iopub.execute_input": "2022-09-23T00:20:12.340051Z",
     "iopub.status.busy": "2022-09-23T00:20:12.339093Z",
     "iopub.status.idle": "2022-09-23T00:20:12.342416Z",
     "shell.execute_reply": "2022-09-23T00:20:12.343113Z"
    },
    "executionInfo": {
     "elapsed": 931,
     "status": "ok",
     "timestamp": 1571351691922,
     "user": {
      "displayName": "Benedict Paten",
      "photoUrl": "https://lh3.googleusercontent.com/a-/AAuE7mBMnWy8dDR7jyTHNy9tPaRx6DCyA3QKrIcuQ7R4=s64",
      "userId": "06399644931392855882"
     },
     "user_tz": 420
    },
    "id": "VAJSHL9ST16Y",
    "outputId": "b9c0f3ff-8af0-4f0a-dfdc-a49214cce829",
    "slideshow": {
     "slide_type": "fragment"
    },
    "trusted": false
   },
   "cell_type": "code",
   "source": "s = \"\" # The empty string case\n\nlen(s)",
   "execution_count": 6,
   "outputs": [
    {
     "data": {
      "text/plain": "0"
     },
     "execution_count": 6,
     "metadata": {},
     "output_type": "execute_result"
    }
   ]
  },
  {
   "metadata": {
    "id": "sWnL_RBgaJ-j",
    "slideshow": {
     "slide_type": "slide"
    }
   },
   "cell_type": "markdown",
   "source": "# Selecting Characters from a String\n\nZero-based indices (like lists), running from 0 to len(s)-1"
  },
  {
   "metadata": {
    "colab": {
     "base_uri": "https://localhost:8080/",
     "height": 34
    },
    "execution": {
     "iopub.execute_input": "2022-09-23T00:20:12.348394Z",
     "iopub.status.busy": "2022-09-23T00:20:12.347575Z",
     "iopub.status.idle": "2022-09-23T00:20:12.350863Z",
     "shell.execute_reply": "2022-09-23T00:20:12.351551Z"
    },
    "executionInfo": {
     "elapsed": 528,
     "status": "ok",
     "timestamp": 1571351744673,
     "user": {
      "displayName": "Benedict Paten",
      "photoUrl": "https://lh3.googleusercontent.com/a-/AAuE7mBMnWy8dDR7jyTHNy9tPaRx6DCyA3QKrIcuQ7R4=s64",
      "userId": "06399644931392855882"
     },
     "user_tz": 420
    },
    "id": "3567I2ZXaLm_",
    "outputId": "16b56d75-2883-4717-c508-10e5aa2d03a4",
    "slideshow": {
     "slide_type": "fragment"
    },
    "trusted": false
   },
   "cell_type": "code",
   "source": "s = \"My string\"\n\ns[0] # Let's select the first character",
   "execution_count": 1,
   "outputs": [
    {
     "output_type": "execute_result",
     "execution_count": 1,
     "data": {
      "text/plain": "'M'"
     },
     "metadata": {}
    }
   ]
  },
  {
   "metadata": {
    "colab": {
     "base_uri": "https://localhost:8080/",
     "height": 34
    },
    "execution": {
     "iopub.execute_input": "2022-09-23T00:20:12.356637Z",
     "iopub.status.busy": "2022-09-23T00:20:12.355761Z",
     "iopub.status.idle": "2022-09-23T00:20:12.358943Z",
     "shell.execute_reply": "2022-09-23T00:20:12.359701Z"
    },
    "executionInfo": {
     "elapsed": 548,
     "status": "ok",
     "timestamp": 1571351753450,
     "user": {
      "displayName": "Benedict Paten",
      "photoUrl": "https://lh3.googleusercontent.com/a-/AAuE7mBMnWy8dDR7jyTHNy9tPaRx6DCyA3QKrIcuQ7R4=s64",
      "userId": "06399644931392855882"
     },
     "user_tz": 420
    },
    "id": "HZI5w7gVqDKK",
    "outputId": "f398b9cb-1141-43e3-fee0-4c5cda1366e1",
    "slideshow": {
     "slide_type": "fragment"
    },
    "trusted": false
   },
   "cell_type": "code",
   "source": "s[1] # The second character",
   "execution_count": 2,
   "outputs": [
    {
     "output_type": "execute_result",
     "execution_count": 2,
     "data": {
      "text/plain": "'y'"
     },
     "metadata": {}
    }
   ]
  },
  {
   "metadata": {
    "colab": {
     "base_uri": "https://localhost:8080/",
     "height": 184
    },
    "execution": {
     "iopub.execute_input": "2022-09-23T00:20:12.365945Z",
     "iopub.status.busy": "2022-09-23T00:20:12.364244Z",
     "iopub.status.idle": "2022-09-23T00:20:12.369736Z",
     "shell.execute_reply": "2022-09-23T00:20:12.370474Z"
    },
    "executionInfo": {
     "elapsed": 927,
     "status": "error",
     "timestamp": 1571351774857,
     "user": {
      "displayName": "Benedict Paten",
      "photoUrl": "https://lh3.googleusercontent.com/a-/AAuE7mBMnWy8dDR7jyTHNy9tPaRx6DCyA3QKrIcuQ7R4=s64",
      "userId": "06399644931392855882"
     },
     "user_tz": 420
    },
    "id": "c8mTFDBTRSTE",
    "outputId": "a24e7c0c-5f59-49bd-a5ad-ac0f63387842",
    "slideshow": {
     "slide_type": "fragment"
    },
    "trusted": false
   },
   "cell_type": "code",
   "source": "s[8] # Trying to address a character beyond the length of the string creates \n# an error",
   "execution_count": 3,
   "outputs": [
    {
     "output_type": "execute_result",
     "execution_count": 3,
     "data": {
      "text/plain": "'g'"
     },
     "metadata": {}
    }
   ]
  },
  {
   "metadata": {
    "colab": {
     "base_uri": "https://localhost:8080/",
     "height": 184
    },
    "execution": {
     "iopub.execute_input": "2022-09-23T00:20:12.365945Z",
     "iopub.status.busy": "2022-09-23T00:20:12.364244Z",
     "iopub.status.idle": "2022-09-23T00:20:12.369736Z",
     "shell.execute_reply": "2022-09-23T00:20:12.370474Z"
    },
    "executionInfo": {
     "elapsed": 927,
     "status": "error",
     "timestamp": 1571351774857,
     "user": {
      "displayName": "Benedict Paten",
      "photoUrl": "https://lh3.googleusercontent.com/a-/AAuE7mBMnWy8dDR7jyTHNy9tPaRx6DCyA3QKrIcuQ7R4=s64",
      "userId": "06399644931392855882"
     },
     "user_tz": 420
    },
    "id": "c8mTFDBTRSTE",
    "outputId": "a24e7c0c-5f59-49bd-a5ad-ac0f63387842",
    "slideshow": {
     "slide_type": "fragment"
    },
    "trusted": false
   },
   "cell_type": "code",
   "source": "s[9] # Trying to address a character beyond the length of the string creates \n# an error",
   "execution_count": 4,
   "outputs": [
    {
     "output_type": "error",
     "ename": "IndexError",
     "evalue": "string index out of range",
     "traceback": [
      "\u001b[0;31m---------------------------------------------------------------------------\u001b[0m",
      "\u001b[0;31mIndexError\u001b[0m                                Traceback (most recent call last)",
      "\u001b[0;32m<ipython-input-4-6d5ee4c0e952>\u001b[0m in \u001b[0;36m<module>\u001b[0;34m\u001b[0m\n\u001b[0;32m----> 1\u001b[0;31m \u001b[0ms\u001b[0m\u001b[0;34m[\u001b[0m\u001b[0;36m9\u001b[0m\u001b[0;34m]\u001b[0m \u001b[0;31m# Trying to address a character beyond the length of the string creates\u001b[0m\u001b[0;34m\u001b[0m\u001b[0;34m\u001b[0m\u001b[0m\n\u001b[0m\u001b[1;32m      2\u001b[0m \u001b[0;31m# an error\u001b[0m\u001b[0;34m\u001b[0m\u001b[0;34m\u001b[0m\u001b[0m\n",
      "\u001b[0;31mIndexError\u001b[0m: string index out of range"
     ]
    }
   ]
  },
  {
   "metadata": {
    "colab": {
     "base_uri": "https://localhost:8080/",
     "height": 34
    },
    "execution": {
     "iopub.execute_input": "2022-09-23T00:20:12.375714Z",
     "iopub.status.busy": "2022-09-23T00:20:12.374882Z",
     "iopub.status.idle": "2022-09-23T00:20:12.378057Z",
     "shell.execute_reply": "2022-09-23T00:20:12.378590Z"
    },
    "executionInfo": {
     "elapsed": 1003,
     "status": "ok",
     "timestamp": 1571351884825,
     "user": {
      "displayName": "Benedict Paten",
      "photoUrl": "https://lh3.googleusercontent.com/a-/AAuE7mBMnWy8dDR7jyTHNy9tPaRx6DCyA3QKrIcuQ7R4=s64",
      "userId": "06399644931392855882"
     },
     "user_tz": 420
    },
    "id": "8p0pkdE2tUJX",
    "outputId": "b5c0e9dc-3620-4aa6-f1f5-be4889706f88",
    "slideshow": {
     "slide_type": "subslide"
    },
    "trusted": false
   },
   "cell_type": "code",
   "source": "# A character is just another string in Python\ns = \"My string\"\n\nprint(s)\nprint(type(s))\n\nprint(s[0])\nprint(type(s[0]))\n",
   "execution_count": 5,
   "outputs": [
    {
     "output_type": "stream",
     "text": "My string\n<class 'str'>\nM\n<class 'str'>\n",
     "name": "stdout"
    }
   ]
  },
  {
   "metadata": {
    "colab": {
     "base_uri": "https://localhost:8080/",
     "height": 34
    },
    "execution": {
     "iopub.execute_input": "2022-09-23T00:20:12.384221Z",
     "iopub.status.busy": "2022-09-23T00:20:12.383520Z",
     "iopub.status.idle": "2022-09-23T00:20:12.387000Z",
     "shell.execute_reply": "2022-09-23T00:20:12.387888Z"
    },
    "executionInfo": {
     "elapsed": 969,
     "status": "ok",
     "timestamp": 1571351899567,
     "user": {
      "displayName": "Benedict Paten",
      "photoUrl": "https://lh3.googleusercontent.com/a-/AAuE7mBMnWy8dDR7jyTHNy9tPaRx6DCyA3QKrIcuQ7R4=s64",
      "userId": "06399644931392855882"
     },
     "user_tz": 420
    },
    "id": "zlvyM0IIUAH-",
    "outputId": "a974c578-985a-40d0-e95c-6f8add8f2eb6",
    "slideshow": {
     "slide_type": "slide"
    },
    "trusted": false
   },
   "cell_type": "code",
   "source": "len(s[0]) # It is a string with length 1",
   "execution_count": 11,
   "outputs": [
    {
     "data": {
      "text/plain": "1"
     },
     "execution_count": 11,
     "metadata": {},
     "output_type": "execute_result"
    }
   ]
  },
  {
   "metadata": {
    "id": "OzcORCoaal3H",
    "slideshow": {
     "slide_type": "slide"
    }
   },
   "cell_type": "markdown",
   "source": "# Slices\n\nYou will often find you want to work with substrings: sub-portions of a string. Python is really nice for this."
  },
  {
   "metadata": {
    "colab": {
     "base_uri": "https://localhost:8080/",
     "height": 34
    },
    "execution": {
     "iopub.execute_input": "2022-09-23T00:20:12.394027Z",
     "iopub.status.busy": "2022-09-23T00:20:12.393136Z",
     "iopub.status.idle": "2022-09-23T00:20:12.397481Z",
     "shell.execute_reply": "2022-09-23T00:20:12.399879Z"
    },
    "executionInfo": {
     "elapsed": 951,
     "status": "ok",
     "timestamp": 1571351955970,
     "user": {
      "displayName": "Benedict Paten",
      "photoUrl": "https://lh3.googleusercontent.com/a-/AAuE7mBMnWy8dDR7jyTHNy9tPaRx6DCyA3QKrIcuQ7R4=s64",
      "userId": "06399644931392855882"
     },
     "user_tz": 420
    },
    "id": "FXQon9_Ts2UE",
    "outputId": "6b31384c-5b29-4c8a-91bf-fcfd32960c88",
    "slideshow": {
     "slide_type": "fragment"
    },
    "trusted": false
   },
   "cell_type": "code",
   "source": "# Beyond indexing single characters, you can slice strings to create substrings\n\ns = \"A long string\"\n\ns[0:6] # The 'prefix' substring of the first 6 characters",
   "execution_count": 9,
   "outputs": [
    {
     "data": {
      "text/plain": "'A long'"
     },
     "execution_count": 9,
     "metadata": {},
     "output_type": "execute_result"
    }
   ]
  },
  {
   "metadata": {
    "id": "x8yL2mMpuUEy",
    "slideshow": {
     "slide_type": "fragment"
    }
   },
   "cell_type": "markdown",
   "source": "A slice s[x:y] is zero-based, and from x (inclusive) to y (exclusive), just like range(x,y)"
  },
  {
   "metadata": {
    "colab": {
     "base_uri": "https://localhost:8080/",
     "height": 34
    },
    "execution": {
     "iopub.execute_input": "2022-09-23T00:20:12.412934Z",
     "iopub.status.busy": "2022-09-23T00:20:12.411853Z",
     "iopub.status.idle": "2022-09-23T00:20:12.415380Z",
     "shell.execute_reply": "2022-09-23T00:20:12.415881Z"
    },
    "executionInfo": {
     "elapsed": 521,
     "status": "ok",
     "timestamp": 1571352000152,
     "user": {
      "displayName": "Benedict Paten",
      "photoUrl": "https://lh3.googleusercontent.com/a-/AAuE7mBMnWy8dDR7jyTHNy9tPaRx6DCyA3QKrIcuQ7R4=s64",
      "userId": "06399644931392855882"
     },
     "user_tz": 420
    },
    "id": "aVbaXAr8QNBN",
    "outputId": "c2dff24e-7180-40ba-8624-e22b4f10b779",
    "slideshow": {
     "slide_type": "fragment"
    },
    "trusted": false
   },
   "cell_type": "code",
   "source": "# Zero length case\n\ns = \"A long string\"\n\ns[6:6] # The interval from 6 (inclusive) to 6 (exclusive) is empty\n",
   "execution_count": 1,
   "outputs": [
    {
     "output_type": "execute_result",
     "execution_count": 1,
     "data": {
      "text/plain": "''"
     },
     "metadata": {}
    }
   ]
  },
  {
   "metadata": {
    "colab": {
     "base_uri": "https://localhost:8080/",
     "height": 34
    },
    "execution": {
     "iopub.execute_input": "2022-09-23T00:20:12.420964Z",
     "iopub.status.busy": "2022-09-23T00:20:12.420122Z",
     "iopub.status.idle": "2022-09-23T00:20:12.423614Z",
     "shell.execute_reply": "2022-09-23T00:20:12.424320Z"
    },
    "executionInfo": {
     "elapsed": 513,
     "status": "ok",
     "timestamp": 1571352035771,
     "user": {
      "displayName": "Benedict Paten",
      "photoUrl": "https://lh3.googleusercontent.com/a-/AAuE7mBMnWy8dDR7jyTHNy9tPaRx6DCyA3QKrIcuQ7R4=s64",
      "userId": "06399644931392855882"
     },
     "user_tz": 420
    },
    "id": "pOjiOXjNP358",
    "outputId": "57a59e2d-d73b-4429-9831-57e57322096f",
    "slideshow": {
     "slide_type": "subslide"
    },
    "trusted": false
   },
   "cell_type": "code",
   "source": "# Negative length strings?\n\ns = \"A long string\"\n\ns[6:0] # If the second index occurs before the first index it won't\n# throw an error, just make a zero length (empty) string",
   "execution_count": 14,
   "outputs": [
    {
     "data": {
      "text/plain": "''"
     },
     "execution_count": 14,
     "metadata": {},
     "output_type": "execute_result"
    }
   ]
  },
  {
   "metadata": {
    "colab": {
     "base_uri": "https://localhost:8080/",
     "height": 34
    },
    "execution": {
     "iopub.execute_input": "2022-09-23T00:20:12.429291Z",
     "iopub.status.busy": "2022-09-23T00:20:12.428571Z",
     "iopub.status.idle": "2022-09-23T00:20:12.431637Z",
     "shell.execute_reply": "2022-09-23T00:20:12.432141Z"
    },
    "executionInfo": {
     "elapsed": 542,
     "status": "ok",
     "timestamp": 1571352096347,
     "user": {
      "displayName": "Benedict Paten",
      "photoUrl": "https://lh3.googleusercontent.com/a-/AAuE7mBMnWy8dDR7jyTHNy9tPaRx6DCyA3QKrIcuQ7R4=s64",
      "userId": "06399644931392855882"
     },
     "user_tz": 420
    },
    "id": "s4TuDS2hQHmy",
    "outputId": "0f1dd612-2f13-42e6-ec88-11bb72430481",
    "slideshow": {
     "slide_type": "subslide"
    },
    "trusted": false
   },
   "cell_type": "code",
   "source": "# Python also gives you useful shorthand where you omit the start or end of a slive\n\ns[:6] # This is the same as s[0:6], and is called a prefix of s",
   "execution_count": 2,
   "outputs": [
    {
     "output_type": "execute_result",
     "execution_count": 2,
     "data": {
      "text/plain": "'A long'"
     },
     "metadata": {}
    }
   ]
  },
  {
   "metadata": {
    "colab": {
     "base_uri": "https://localhost:8080/",
     "height": 34
    },
    "execution": {
     "iopub.execute_input": "2022-09-23T00:20:12.437185Z",
     "iopub.status.busy": "2022-09-23T00:20:12.436079Z",
     "iopub.status.idle": "2022-09-23T00:20:12.440016Z",
     "shell.execute_reply": "2022-09-23T00:20:12.440573Z"
    },
    "executionInfo": {
     "elapsed": 487,
     "status": "ok",
     "timestamp": 1571352125252,
     "user": {
      "displayName": "Benedict Paten",
      "photoUrl": "https://lh3.googleusercontent.com/a-/AAuE7mBMnWy8dDR7jyTHNy9tPaRx6DCyA3QKrIcuQ7R4=s64",
      "userId": "06399644931392855882"
     },
     "user_tz": 420
    },
    "id": "S6nhDZ7VRqKn",
    "outputId": "fd1e017e-7dfa-4a60-b289-087f3c8ce231",
    "slideshow": {
     "slide_type": "subslide"
    },
    "trusted": false
   },
   "cell_type": "code",
   "source": "s[6:] # This is the same as s[6:13] or s[6:len(s)], and is called a suffix of s",
   "execution_count": 3,
   "outputs": [
    {
     "output_type": "execute_result",
     "execution_count": 3,
     "data": {
      "text/plain": "' string'"
     },
     "metadata": {}
    }
   ]
  },
  {
   "metadata": {
    "colab": {
     "base_uri": "https://localhost:8080/",
     "height": 34
    },
    "execution": {
     "iopub.execute_input": "2022-09-23T00:20:12.446473Z",
     "iopub.status.busy": "2022-09-23T00:20:12.445433Z",
     "iopub.status.idle": "2022-09-23T00:20:12.448888Z",
     "shell.execute_reply": "2022-09-23T00:20:12.449488Z"
    },
    "executionInfo": {
     "elapsed": 877,
     "status": "ok",
     "timestamp": 1571352140029,
     "user": {
      "displayName": "Benedict Paten",
      "photoUrl": "https://lh3.googleusercontent.com/a-/AAuE7mBMnWy8dDR7jyTHNy9tPaRx6DCyA3QKrIcuQ7R4=s64",
      "userId": "06399644931392855882"
     },
     "user_tz": 420
    },
    "id": "SXExDmnxR6_Z",
    "outputId": "c2a2eda6-58ae-4611-e8f1-77bbbdcc66b7",
    "slideshow": {
     "slide_type": "subslide"
    },
    "trusted": false
   },
   "cell_type": "code",
   "source": "s[:] \n# This is just s[0:len(s)], ie the whole string",
   "execution_count": 7,
   "outputs": [
    {
     "data": {
      "text/plain": "'A long string'"
     },
     "execution_count": 7,
     "metadata": {},
     "output_type": "execute_result"
    }
   ]
  },
  {
   "metadata": {
    "execution": {
     "iopub.execute_input": "2022-09-23T00:20:12.455130Z",
     "iopub.status.busy": "2022-09-23T00:20:12.454147Z",
     "iopub.status.idle": "2022-09-23T00:20:12.457613Z",
     "shell.execute_reply": "2022-09-23T00:20:12.458282Z"
    },
    "slideshow": {
     "slide_type": "subslide"
    },
    "trusted": false
   },
   "cell_type": "code",
   "source": "s[::2] # This is every second character! (step of 2)",
   "execution_count": 18,
   "outputs": [
    {
     "data": {
      "text/plain": "'Aln tig'"
     },
     "execution_count": 18,
     "metadata": {},
     "output_type": "execute_result"
    }
   ]
  },
  {
   "metadata": {
    "slideshow": {
     "slide_type": "subslide"
    }
   },
   "cell_type": "markdown",
   "source": "# Challenge 1"
  },
  {
   "metadata": {
    "execution": {
     "iopub.execute_input": "2022-09-23T00:20:12.463358Z",
     "iopub.status.busy": "2022-09-23T00:20:12.462480Z",
     "iopub.status.idle": "2022-09-23T00:20:12.464804Z",
     "shell.execute_reply": "2022-09-23T00:20:12.466115Z"
    },
    "slideshow": {
     "slide_type": "fragment"
    },
    "trusted": false
   },
   "cell_type": "code",
   "source": "s = \"A long string\"\n\n# Write down an expression that concatenates two slices of s to get \"long ring\"\n",
   "execution_count": 19,
   "outputs": [
    {
     "data": {
      "text/plain": "'long ring'"
     },
     "execution_count": 19,
     "metadata": {},
     "output_type": "execute_result"
    }
   ]
  },
  {
   "metadata": {
    "id": "Rz9YXJGXaaO4",
    "slideshow": {
     "slide_type": "slide"
    }
   },
   "cell_type": "markdown",
   "source": "# Negative slicing coordinates"
  },
  {
   "metadata": {
    "colab": {
     "base_uri": "https://localhost:8080/",
     "height": 34
    },
    "execution": {
     "iopub.execute_input": "2022-09-23T00:20:12.471763Z",
     "iopub.status.busy": "2022-09-23T00:20:12.470779Z",
     "iopub.status.idle": "2022-09-23T00:20:12.474956Z",
     "shell.execute_reply": "2022-09-23T00:20:12.474252Z"
    },
    "executionInfo": {
     "elapsed": 511,
     "status": "ok",
     "timestamp": 1571352171863,
     "user": {
      "displayName": "Benedict Paten",
      "photoUrl": "https://lh3.googleusercontent.com/a-/AAuE7mBMnWy8dDR7jyTHNy9tPaRx6DCyA3QKrIcuQ7R4=s64",
      "userId": "06399644931392855882"
     },
     "user_tz": 420
    },
    "id": "nxkh93guSgvB",
    "outputId": "708ec010-81ca-4ad3-a44d-157746517ae7",
    "slideshow": {
     "slide_type": "fragment"
    },
    "trusted": false
   },
   "cell_type": "code",
   "source": "# Negative coordinates let you slice from the other end of the string\n# (it's surprising how often this proves to be useful)\n\ns = \"A long string\"\n\ns[-1] # This is the last character of s",
   "execution_count": 20,
   "outputs": [
    {
     "data": {
      "text/plain": "'g'"
     },
     "execution_count": 20,
     "metadata": {},
     "output_type": "execute_result"
    }
   ]
  },
  {
   "metadata": {
    "colab": {
     "base_uri": "https://localhost:8080/",
     "height": 34
    },
    "execution": {
     "iopub.execute_input": "2022-09-23T00:20:12.480951Z",
     "iopub.status.busy": "2022-09-23T00:20:12.479841Z",
     "iopub.status.idle": "2022-09-23T00:20:12.483849Z",
     "shell.execute_reply": "2022-09-23T00:20:12.484790Z"
    },
    "executionInfo": {
     "elapsed": 558,
     "status": "ok",
     "timestamp": 1571352182520,
     "user": {
      "displayName": "Benedict Paten",
      "photoUrl": "https://lh3.googleusercontent.com/a-/AAuE7mBMnWy8dDR7jyTHNy9tPaRx6DCyA3QKrIcuQ7R4=s64",
      "userId": "06399644931392855882"
     },
     "user_tz": 420
    },
    "id": "kZuIQwKsUqDt",
    "outputId": "2ca5e545-5375-400f-fdde-ab38759d28a8",
    "slideshow": {
     "slide_type": "fragment"
    },
    "trusted": false
   },
   "cell_type": "code",
   "source": "s[-2] # The second to last",
   "execution_count": 21,
   "outputs": [
    {
     "data": {
      "text/plain": "'n'"
     },
     "execution_count": 21,
     "metadata": {},
     "output_type": "execute_result"
    }
   ]
  },
  {
   "metadata": {
    "colab": {
     "base_uri": "https://localhost:8080/",
     "height": 184
    },
    "execution": {
     "iopub.execute_input": "2022-09-23T00:20:12.490536Z",
     "iopub.status.busy": "2022-09-23T00:20:12.489578Z",
     "iopub.status.idle": "2022-09-23T00:20:12.496839Z",
     "shell.execute_reply": "2022-09-23T00:20:12.497394Z"
    },
    "executionInfo": {
     "elapsed": 695,
     "status": "error",
     "timestamp": 1571352215458,
     "user": {
      "displayName": "Benedict Paten",
      "photoUrl": "https://lh3.googleusercontent.com/a-/AAuE7mBMnWy8dDR7jyTHNy9tPaRx6DCyA3QKrIcuQ7R4=s64",
      "userId": "06399644931392855882"
     },
     "user_tz": 420
    },
    "id": "KljDKg0wUwMV",
    "outputId": "dba76baf-7b33-4200-cbf7-9ea3e19d7272",
    "slideshow": {
     "slide_type": "fragment"
    },
    "trusted": false
   },
   "cell_type": "code",
   "source": "s[-100] # This throws an error, because it implies a character before \n# the start of the string",
   "execution_count": 22,
   "outputs": [
    {
     "ename": "IndexError",
     "evalue": "string index out of range",
     "output_type": "error",
     "traceback": [
      "\u001b[0;31m---------------------------------------------------------------------------\u001b[0m",
      "\u001b[0;31mIndexError\u001b[0m                                Traceback (most recent call last)",
      "\u001b[0;32m<ipython-input-22-15ed8abbba4d>\u001b[0m in \u001b[0;36m<module>\u001b[0;34m\u001b[0m\n\u001b[0;32m----> 1\u001b[0;31m \u001b[0ms\u001b[0m\u001b[0;34m[\u001b[0m\u001b[0;34m-\u001b[0m\u001b[0;36m100\u001b[0m\u001b[0;34m]\u001b[0m \u001b[0;31m# This throws an error, because it implies a character before\u001b[0m\u001b[0;34m\u001b[0m\u001b[0;34m\u001b[0m\u001b[0m\n\u001b[0m\u001b[1;32m      2\u001b[0m \u001b[0;31m# the start of the string\u001b[0m\u001b[0;34m\u001b[0m\u001b[0;34m\u001b[0m\u001b[0;34m\u001b[0m\u001b[0m\n",
      "\u001b[0;31mIndexError\u001b[0m: string index out of range"
     ]
    }
   ]
  },
  {
   "metadata": {
    "colab": {
     "base_uri": "https://localhost:8080/",
     "height": 34
    },
    "execution": {
     "iopub.execute_input": "2022-09-23T00:20:12.503212Z",
     "iopub.status.busy": "2022-09-23T00:20:12.502241Z",
     "iopub.status.idle": "2022-09-23T00:20:12.505794Z",
     "shell.execute_reply": "2022-09-23T00:20:12.506625Z"
    },
    "executionInfo": {
     "elapsed": 887,
     "status": "ok",
     "timestamp": 1571352262418,
     "user": {
      "displayName": "Benedict Paten",
      "photoUrl": "https://lh3.googleusercontent.com/a-/AAuE7mBMnWy8dDR7jyTHNy9tPaRx6DCyA3QKrIcuQ7R4=s64",
      "userId": "06399644931392855882"
     },
     "user_tz": 420
    },
    "id": "LsqsJTEDaAaC",
    "outputId": "4a02b6ec-59be-4bbd-9dcb-6645c2267731",
    "slideshow": {
     "slide_type": "subslide"
    },
    "trusted": false
   },
   "cell_type": "code",
   "source": "# You can also slice using negative coordinates:\n\ns[:-1] # Get the n-1 prefix ",
   "execution_count": 23,
   "outputs": [
    {
     "data": {
      "text/plain": "'A long strin'"
     },
     "execution_count": 23,
     "metadata": {},
     "output_type": "execute_result"
    }
   ]
  },
  {
   "metadata": {
    "colab": {
     "base_uri": "https://localhost:8080/",
     "height": 34
    },
    "execution": {
     "iopub.execute_input": "2022-09-23T00:20:12.514193Z",
     "iopub.status.busy": "2022-09-23T00:20:12.513255Z",
     "iopub.status.idle": "2022-09-23T00:20:12.516551Z",
     "shell.execute_reply": "2022-09-23T00:20:12.517985Z"
    },
    "executionInfo": {
     "elapsed": 1032,
     "status": "ok",
     "timestamp": 1571352274143,
     "user": {
      "displayName": "Benedict Paten",
      "photoUrl": "https://lh3.googleusercontent.com/a-/AAuE7mBMnWy8dDR7jyTHNy9tPaRx6DCyA3QKrIcuQ7R4=s64",
      "userId": "06399644931392855882"
     },
     "user_tz": 420
    },
    "id": "YTAAcoA9bpLa",
    "outputId": "723a9004-97b5-4269-dfd2-136b69acabb1",
    "slideshow": {
     "slide_type": "fragment"
    },
    "trusted": false
   },
   "cell_type": "code",
   "source": "s[-2:-1] # Get the penultimate character",
   "execution_count": 24,
   "outputs": [
    {
     "data": {
      "text/plain": "'n'"
     },
     "execution_count": 24,
     "metadata": {},
     "output_type": "execute_result"
    }
   ]
  },
  {
   "metadata": {
    "slideshow": {
     "slide_type": "subslide"
    }
   },
   "cell_type": "markdown",
   "source": "# Challenge 2"
  },
  {
   "metadata": {
    "execution": {
     "iopub.execute_input": "2022-09-23T00:20:12.522833Z",
     "iopub.status.busy": "2022-09-23T00:20:12.521880Z",
     "iopub.status.idle": "2022-09-23T00:20:12.524278Z",
     "shell.execute_reply": "2022-09-23T00:20:12.524971Z"
    },
    "slideshow": {
     "slide_type": "fragment"
    },
    "trusted": false
   },
   "cell_type": "code",
   "source": "s = \"A long string\"\n\n# Give a slice of s that reverses s ! (hint: try a negative step)\n",
   "execution_count": 22,
   "outputs": [
    {
     "data": {
      "text/plain": "'gnirts gnol A'"
     },
     "execution_count": 22,
     "metadata": {},
     "output_type": "execute_result"
    }
   ]
  },
  {
   "metadata": {
    "id": "gebDEnWXaHy-",
    "slideshow": {
     "slide_type": "slide"
    }
   },
   "cell_type": "markdown",
   "source": "# Immutability\n\nStrings are immutable - that is you can't edit a string, you can only make new strings by copying them."
  },
  {
   "metadata": {
    "colab": {
     "base_uri": "https://localhost:8080/",
     "height": 236
    },
    "execution": {
     "iopub.execute_input": "2022-09-23T00:20:12.530162Z",
     "iopub.status.busy": "2022-09-23T00:20:12.529187Z",
     "iopub.status.idle": "2022-09-23T00:20:12.536084Z",
     "shell.execute_reply": "2022-09-23T00:20:12.536753Z"
    },
    "executionInfo": {
     "elapsed": 369,
     "status": "error",
     "timestamp": 1607651995586,
     "user": {
      "displayName": "Benedict Paten",
      "photoUrl": "https://lh3.googleusercontent.com/a-/AOh14Gh2rYrrH6yoNnUp0Oj4p4ouybc6ZcWGyPmKFtIY=s64",
      "userId": "06399644931392855882"
     },
     "user_tz": 480
    },
    "id": "9TFPmbxneasj",
    "outputId": "ecec982a-3e3a-48a9-c8a9-ee5a84951aa7",
    "slideshow": {
     "slide_type": "fragment"
    },
    "trusted": false
   },
   "cell_type": "code",
   "source": "x = \"Strings can't be changed\"\n\n# This doesn't work\n\nx[0] = 's'\n",
   "execution_count": 26,
   "outputs": [
    {
     "ename": "TypeError",
     "evalue": "'str' object does not support item assignment",
     "output_type": "error",
     "traceback": [
      "\u001b[0;31m---------------------------------------------------------------------------\u001b[0m",
      "\u001b[0;31mTypeError\u001b[0m                                 Traceback (most recent call last)",
      "\u001b[0;32m<ipython-input-26-f309569eeca3>\u001b[0m in \u001b[0;36m<module>\u001b[0;34m\u001b[0m\n\u001b[1;32m      3\u001b[0m \u001b[0;31m# This doesn't work\u001b[0m\u001b[0;34m\u001b[0m\u001b[0;34m\u001b[0m\u001b[0;34m\u001b[0m\u001b[0m\n\u001b[1;32m      4\u001b[0m \u001b[0;34m\u001b[0m\u001b[0m\n\u001b[0;32m----> 5\u001b[0;31m \u001b[0mx\u001b[0m\u001b[0;34m[\u001b[0m\u001b[0;36m0\u001b[0m\u001b[0;34m]\u001b[0m \u001b[0;34m=\u001b[0m \u001b[0;34m's'\u001b[0m\u001b[0;34m\u001b[0m\u001b[0;34m\u001b[0m\u001b[0m\n\u001b[0m",
      "\u001b[0;31mTypeError\u001b[0m: 'str' object does not support item assignment"
     ]
    }
   ]
  },
  {
   "metadata": {
    "colab": {
     "base_uri": "https://localhost:8080/"
    },
    "execution": {
     "iopub.execute_input": "2022-09-23T00:20:12.542251Z",
     "iopub.status.busy": "2022-09-23T00:20:12.541334Z",
     "iopub.status.idle": "2022-09-23T00:20:12.544482Z",
     "shell.execute_reply": "2022-09-23T00:20:12.545155Z"
    },
    "executionInfo": {
     "elapsed": 660,
     "status": "ok",
     "timestamp": 1607652015782,
     "user": {
      "displayName": "Benedict Paten",
      "photoUrl": "https://lh3.googleusercontent.com/a-/AOh14Gh2rYrrH6yoNnUp0Oj4p4ouybc6ZcWGyPmKFtIY=s64",
      "userId": "06399644931392855882"
     },
     "user_tz": 480
    },
    "id": "ApnoENONhuhB",
    "outputId": "1bbb857c-aba6-4820-ee3d-ef7ff2d31b22",
    "slideshow": {
     "slide_type": "subslide"
    },
    "trusted": false
   },
   "cell_type": "code",
   "source": "x = \"Strings can't be changed\"\n\n# This doesn't work\n\n#x[0] = 's'\n\n# To make s lower case you could instead do:\n\nx = 's' + x[1:]\n\nprint(x)",
   "execution_count": 27,
   "outputs": [
    {
     "name": "stdout",
     "output_type": "stream",
     "text": "strings can't be changed\n"
    }
   ]
  },
  {
   "metadata": {
    "id": "Zi4EmVI5erTw",
    "slideshow": {
     "slide_type": "fragment"
    }
   },
   "cell_type": "markdown",
   "source": "Immutable data has some very nice properties.\n\nImmutable data is easy to share across different parts of a program, because we are guaranteed that one bit of the code can't change the data and cause unexpected behaviour in another part of the program that was not expecting these changes. \n\nInts, floats, booleans and strings are all immutable in Python."
  },
  {
   "metadata": {
    "id": "qkZwlEdqaoN8",
    "slideshow": {
     "slide_type": "slide"
    }
   },
   "cell_type": "markdown",
   "source": "# String comparison\n"
  },
  {
   "metadata": {
    "colab": {
     "base_uri": "https://localhost:8080/"
    },
    "execution": {
     "iopub.execute_input": "2022-09-23T00:20:12.551225Z",
     "iopub.status.busy": "2022-09-23T00:20:12.550259Z",
     "iopub.status.idle": "2022-09-23T00:20:12.553644Z",
     "shell.execute_reply": "2022-09-23T00:20:12.554249Z"
    },
    "executionInfo": {
     "elapsed": 520,
     "status": "ok",
     "timestamp": 1607660593803,
     "user": {
      "displayName": "Benedict Paten",
      "photoUrl": "https://lh3.googleusercontent.com/a-/AOh14Gh2rYrrH6yoNnUp0Oj4p4ouybc6ZcWGyPmKFtIY=s64",
      "userId": "06399644931392855882"
     },
     "user_tz": 480
    },
    "id": "A0VG4USUb7ri",
    "outputId": "8b6fd294-6286-4235-a649-d84c34f3dca8",
    "slideshow": {
     "slide_type": "fragment"
    },
    "trusted": false
   },
   "cell_type": "code",
   "source": "# We saw this already, but Python compares strings lexicographically\n\nx = \"Aardvarks\"\ny = \"Apples\"\n\nx < y # This is true, because Aardvarks is before (less than) Apples in the dictionary",
   "execution_count": 28,
   "outputs": [
    {
     "data": {
      "text/plain": "True"
     },
     "execution_count": 28,
     "metadata": {},
     "output_type": "execute_result"
    }
   ]
  },
  {
   "metadata": {
    "colab": {
     "base_uri": "https://localhost:8080/"
    },
    "execution": {
     "iopub.execute_input": "2022-09-23T00:20:12.561589Z",
     "iopub.status.busy": "2022-09-23T00:20:12.560608Z",
     "iopub.status.idle": "2022-09-23T00:20:12.563974Z",
     "shell.execute_reply": "2022-09-23T00:20:12.564539Z"
    },
    "executionInfo": {
     "elapsed": 913,
     "status": "ok",
     "timestamp": 1607660602797,
     "user": {
      "displayName": "Benedict Paten",
      "photoUrl": "https://lh3.googleusercontent.com/a-/AOh14Gh2rYrrH6yoNnUp0Oj4p4ouybc6ZcWGyPmKFtIY=s64",
      "userId": "06399644931392855882"
     },
     "user_tz": 480
    },
    "id": "hPUwKduNcNET",
    "outputId": "cf8e00c4-b8f7-4bb0-95b8-7f53bd11e85c",
    "slideshow": {
     "slide_type": "fragment"
    },
    "trusted": false
   },
   "cell_type": "code",
   "source": "x == \"aardvarks\" # This is false because string comparison is case sensitive",
   "execution_count": 29,
   "outputs": [
    {
     "data": {
      "text/plain": "False"
     },
     "execution_count": 29,
     "metadata": {},
     "output_type": "execute_result"
    }
   ]
  },
  {
   "metadata": {
    "colab": {
     "base_uri": "https://localhost:8080/"
    },
    "execution": {
     "iopub.execute_input": "2022-09-23T00:20:12.569140Z",
     "iopub.status.busy": "2022-09-23T00:20:12.567161Z",
     "iopub.status.idle": "2022-09-23T00:20:12.572677Z",
     "shell.execute_reply": "2022-09-23T00:20:12.573425Z"
    },
    "executionInfo": {
     "elapsed": 661,
     "status": "ok",
     "timestamp": 1607660682870,
     "user": {
      "displayName": "Benedict Paten",
      "photoUrl": "https://lh3.googleusercontent.com/a-/AOh14Gh2rYrrH6yoNnUp0Oj4p4ouybc6ZcWGyPmKFtIY=s64",
      "userId": "06399644931392855882"
     },
     "user_tz": 480
    },
    "id": "xf0f4dgACvjJ",
    "outputId": "3fe4c0e9-3603-4f2d-a99d-f9248ad21ea1",
    "slideshow": {
     "slide_type": "fragment"
    },
    "trusted": false
   },
   "cell_type": "code",
   "source": "x.lower() == \"aardvarks\" # The call to .lower() changes the string to lower case",
   "execution_count": 30,
   "outputs": [
    {
     "data": {
      "text/plain": "True"
     },
     "execution_count": 30,
     "metadata": {},
     "output_type": "execute_result"
    }
   ]
  },
  {
   "metadata": {
    "id": "Oh5MYpEKasuM",
    "slideshow": {
     "slide_type": "slide"
    }
   },
   "cell_type": "markdown",
   "source": "# In operator\n\nWe can easily search within a string to find if it contains a given substring:"
  },
  {
   "metadata": {
    "colab": {
     "base_uri": "https://localhost:8080/"
    },
    "execution": {
     "iopub.execute_input": "2022-09-23T00:20:12.579413Z",
     "iopub.status.busy": "2022-09-23T00:20:12.578370Z",
     "iopub.status.idle": "2022-09-23T00:20:12.582800Z",
     "shell.execute_reply": "2022-09-23T00:20:12.583570Z"
    },
    "executionInfo": {
     "elapsed": 372,
     "status": "ok",
     "timestamp": 1607660733975,
     "user": {
      "displayName": "Benedict Paten",
      "photoUrl": "https://lh3.googleusercontent.com/a-/AOh14Gh2rYrrH6yoNnUp0Oj4p4ouybc6ZcWGyPmKFtIY=s64",
      "userId": "06399644931392855882"
     },
     "user_tz": 480
    },
    "id": "jAiWPfyfgP2c",
    "outputId": "6e752c1e-e5b3-423b-9e0e-6c65500b6998",
    "slideshow": {
     "slide_type": "fragment"
    },
    "trusted": false
   },
   "cell_type": "code",
   "source": "s = \"once upon a time there lived a wicked teacher\"\n\n\"wicked\" in s",
   "execution_count": 2,
   "outputs": [
    {
     "output_type": "execute_result",
     "execution_count": 2,
     "data": {
      "text/plain": "True"
     },
     "metadata": {}
    }
   ]
  },
  {
   "metadata": {
    "colab": {
     "base_uri": "https://localhost:8080/"
    },
    "execution": {
     "iopub.execute_input": "2022-09-23T00:20:12.589567Z",
     "iopub.status.busy": "2022-09-23T00:20:12.588504Z",
     "iopub.status.idle": "2022-09-23T00:20:12.593068Z",
     "shell.execute_reply": "2022-09-23T00:20:12.594088Z"
    },
    "executionInfo": {
     "elapsed": 354,
     "status": "ok",
     "timestamp": 1607660753284,
     "user": {
      "displayName": "Benedict Paten",
      "photoUrl": "https://lh3.googleusercontent.com/a-/AOh14Gh2rYrrH6yoNnUp0Oj4p4ouybc6ZcWGyPmKFtIY=s64",
      "userId": "06399644931392855882"
     },
     "user_tz": 480
    },
    "id": "uq4MvODPhL3p",
    "outputId": "26563365-c215-4c75-90d4-388082f5df77",
    "slideshow": {
     "slide_type": "fragment"
    },
    "trusted": false
   },
   "cell_type": "code",
   "source": "# You can also use 'not in'\n\n\"wicked\" not in s    # Same as not(\"wicked\" in s)\n",
   "execution_count": 4,
   "outputs": [
    {
     "output_type": "execute_result",
     "execution_count": 4,
     "data": {
      "text/plain": "False"
     },
     "metadata": {}
    }
   ]
  },
  {
   "metadata": {
    "id": "Tgba77cDafAt",
    "slideshow": {
     "slide_type": "slide"
    }
   },
   "cell_type": "markdown",
   "source": "# For loops on strings"
  },
  {
   "metadata": {
    "colab": {
     "base_uri": "https://localhost:8080/",
     "height": 472
    },
    "execution": {
     "iopub.execute_input": "2022-09-23T00:20:12.600849Z",
     "iopub.status.busy": "2022-09-23T00:20:12.599823Z",
     "iopub.status.idle": "2022-09-23T00:20:12.604803Z",
     "shell.execute_reply": "2022-09-23T00:20:12.605563Z"
    },
    "executionInfo": {
     "elapsed": 537,
     "status": "ok",
     "timestamp": 1571352985727,
     "user": {
      "displayName": "Benedict Paten",
      "photoUrl": "https://lh3.googleusercontent.com/a-/AAuE7mBMnWy8dDR7jyTHNy9tPaRx6DCyA3QKrIcuQ7R4=s64",
      "userId": "06399644931392855882"
     },
     "user_tz": 420
    },
    "id": "v_HkLmdgdAUY",
    "outputId": "134ac9d2-e5a1-4ef1-8b02-f947937d91cb",
    "slideshow": {
     "slide_type": "fragment"
    },
    "trusted": false
   },
   "cell_type": "code",
   "source": "# You can easily iterate through the characters in a string\n# using a for loop:\n\ns = \"toys\"\nfor i in range(0, len(s)):\n  print(alphabet[i])",
   "execution_count": 6,
   "outputs": [
    {
     "output_type": "stream",
     "text": "t\no\ny\ns\n",
     "name": "stdout"
    }
   ]
  },
  {
   "metadata": {
    "colab": {
     "base_uri": "https://localhost:8080/",
     "height": 472
    },
    "execution": {
     "iopub.execute_input": "2022-09-23T00:20:12.610476Z",
     "iopub.status.busy": "2022-09-23T00:20:12.609419Z",
     "iopub.status.idle": "2022-09-23T00:20:12.615155Z",
     "shell.execute_reply": "2022-09-23T00:20:12.615820Z"
    },
    "executionInfo": {
     "elapsed": 614,
     "status": "ok",
     "timestamp": 1571353037429,
     "user": {
      "displayName": "Benedict Paten",
      "photoUrl": "https://lh3.googleusercontent.com/a-/AAuE7mBMnWy8dDR7jyTHNy9tPaRx6DCyA3QKrIcuQ7R4=s64",
      "userId": "06399644931392855882"
     },
     "user_tz": 420
    },
    "id": "8ZpsDsUxaxDR",
    "outputId": "5e23846e-f782-49b2-b8cc-37d9428f4310",
    "slideshow": {
     "slide_type": "subslide"
    },
    "trusted": false
   },
   "cell_type": "code",
   "source": "# Or better:\n\nfor i in s:\n  print(i)          # i is bound to each character in the string",
   "execution_count": 7,
   "outputs": [
    {
     "output_type": "stream",
     "text": "t\no\ny\ns\n",
     "name": "stdout"
    }
   ]
  },
  {
   "metadata": {
    "slideshow": {
     "slide_type": "subslide"
    }
   },
   "cell_type": "markdown",
   "source": "# Challenge 3"
  },
  {
   "metadata": {
    "execution": {
     "iopub.execute_input": "2022-09-23T00:20:12.621334Z",
     "iopub.status.busy": "2022-09-23T00:20:12.620357Z",
     "iopub.status.idle": "2022-09-23T00:20:12.623494Z",
     "shell.execute_reply": "2022-09-23T00:20:12.624423Z"
    },
    "slideshow": {
     "slide_type": "fragment"
    },
    "trusted": false
   },
   "cell_type": "code",
   "source": "s = \"toys\"\n\n# Print all possible non-empty slices of s\n# Use two nested loops for the start and end of the slice\n# There are 10 such slices\n\n",
   "execution_count": 9,
   "outputs": [
    {
     "output_type": "stream",
     "text": "t\nto\ntoy\ntoys\no\noy\noys\ny\nys\ns\n",
     "name": "stdout"
    }
   ]
  },
  {
   "metadata": {
    "id": "FN72wWAZDxsJ",
    "slideshow": {
     "slide_type": "slide"
    }
   },
   "cell_type": "markdown",
   "source": "# Examples of functions processing strings"
  },
  {
   "metadata": {
    "colab": {
     "base_uri": "https://localhost:8080/",
     "height": 34
    },
    "execution": {
     "iopub.execute_input": "2022-09-23T00:20:12.632118Z",
     "iopub.status.busy": "2022-09-23T00:20:12.631116Z",
     "iopub.status.idle": "2022-09-23T00:20:12.634626Z",
     "shell.execute_reply": "2022-09-23T00:20:12.635158Z"
    },
    "executionInfo": {
     "elapsed": 859,
     "status": "ok",
     "timestamp": 1571353224599,
     "user": {
      "displayName": "Benedict Paten",
      "photoUrl": "https://lh3.googleusercontent.com/a-/AAuE7mBMnWy8dDR7jyTHNy9tPaRx6DCyA3QKrIcuQ7R4=s64",
      "userId": "06399644931392855882"
     },
     "user_tz": 420
    },
    "id": "DzOKqdJBhhIv",
    "outputId": "f6fc4122-911e-4ca6-c91c-6167f8471195",
    "slideshow": {
     "slide_type": "fragment"
    },
    "trusted": false
   },
   "cell_type": "code",
   "source": "# We can use loops to do neat processing to strings\n\ndef remove_vowels(s): \n  \"\"\"Remove vowels from a string \"\"\"\n  vowels = \"aeiouAEIOU\"\n  r = \"\"\n  for x in s:           # For each character in s\n    if x not in vowels: # If not a vowel\n      r = r + x         # makes a new string\n  return r\n\nremove_vowels(\"compsci\")",
   "execution_count": 10,
   "outputs": [
    {
     "output_type": "execute_result",
     "execution_count": 10,
     "data": {
      "text/plain": "'cmpsc'"
     },
     "metadata": {}
    }
   ]
  },
  {
   "metadata": {
    "colab": {
     "base_uri": "https://localhost:8080/"
    },
    "execution": {
     "iopub.execute_input": "2022-09-23T00:20:12.640957Z",
     "iopub.status.busy": "2022-09-23T00:20:12.640173Z",
     "iopub.status.idle": "2022-09-23T00:20:12.643482Z",
     "shell.execute_reply": "2022-09-23T00:20:12.644217Z"
    },
    "executionInfo": {
     "elapsed": 378,
     "status": "ok",
     "timestamp": 1607660870083,
     "user": {
      "displayName": "Benedict Paten",
      "photoUrl": "https://lh3.googleusercontent.com/a-/AOh14Gh2rYrrH6yoNnUp0Oj4p4ouybc6ZcWGyPmKFtIY=s64",
      "userId": "06399644931392855882"
     },
     "user_tz": 480
    },
    "id": "CKPugt1Cz_yP",
    "outputId": "6141939f-1c2a-4d95-9fcf-03b53a374246",
    "slideshow": {
     "slide_type": "subslide"
    },
    "trusted": false
   },
   "cell_type": "code",
   "source": "# Search for first instance of a character string\n\ndef find_character(s, ch):\n  \"\"\"\n  Find the first occurrence of a given character ch\n  in a string s and return the position, \n  otherwise if not present, return -1\n  \"\"\"\n  for i in range(len(s)):\n    if s[i] == ch:\n      return i\n  return -1\n\nfind_character(\"once upon a time\", 'u')",
   "execution_count": 37,
   "outputs": [
    {
     "data": {
      "text/plain": "5"
     },
     "execution_count": 37,
     "metadata": {},
     "output_type": "execute_result"
    }
   ]
  },
  {
   "metadata": {
    "id": "V7P-krgyazTM",
    "slideshow": {
     "slide_type": "slide"
    }
   },
   "cell_type": "markdown",
   "source": "# Convenience functions\n\nThere are several useful functions on strings that Python provides, here's a non-exhaustive look:\n\n"
  },
  {
   "metadata": {
    "id": "g4CmyIR7D6Hn",
    "slideshow": {
     "slide_type": "subslide"
    }
   },
   "cell_type": "markdown",
   "source": "**find**"
  },
  {
   "metadata": {
    "colab": {
     "base_uri": "https://localhost:8080/",
     "height": 34
    },
    "execution": {
     "iopub.execute_input": "2022-09-23T00:20:12.650548Z",
     "iopub.status.busy": "2022-09-23T00:20:12.649713Z",
     "iopub.status.idle": "2022-09-23T00:20:12.652642Z",
     "shell.execute_reply": "2022-09-23T00:20:12.653343Z"
    },
    "executionInfo": {
     "elapsed": 470,
     "status": "ok",
     "timestamp": 1571353445509,
     "user": {
      "displayName": "Benedict Paten",
      "photoUrl": "https://lh3.googleusercontent.com/a-/AAuE7mBMnWy8dDR7jyTHNy9tPaRx6DCyA3QKrIcuQ7R4=s64",
      "userId": "06399644931392855882"
     },
     "user_tz": 420
    },
    "id": "VGGD7SXK1S-T",
    "outputId": "707c72c7-097e-4907-d887-1f768bc9424c",
    "slideshow": {
     "slide_type": "fragment"
    },
    "trusted": false
   },
   "cell_type": "code",
   "source": "# Find generalizes the find_character method above to search for substrings\n\ns = \"once upon a time there lived\"\n\ns.find(\"time\") # Find first instance of \"time\" in s\n  \n  ",
   "execution_count": 11,
   "outputs": [
    {
     "output_type": "execute_result",
     "execution_count": 11,
     "data": {
      "text/plain": "12"
     },
     "metadata": {}
    }
   ]
  },
  {
   "metadata": {
    "id": "QxGW1U_WNo2I",
    "slideshow": {
     "slide_type": "subslide"
    }
   },
   "cell_type": "markdown",
   "source": "**split**"
  },
  {
   "metadata": {
    "colab": {
     "base_uri": "https://localhost:8080/",
     "height": 34
    },
    "execution": {
     "iopub.execute_input": "2022-09-23T00:20:12.658665Z",
     "iopub.status.busy": "2022-09-23T00:20:12.657899Z",
     "iopub.status.idle": "2022-09-23T00:20:12.661423Z",
     "shell.execute_reply": "2022-09-23T00:20:12.662324Z"
    },
    "executionInfo": {
     "elapsed": 923,
     "status": "ok",
     "timestamp": 1571353683649,
     "user": {
      "displayName": "Benedict Paten",
      "photoUrl": "https://lh3.googleusercontent.com/a-/AAuE7mBMnWy8dDR7jyTHNy9tPaRx6DCyA3QKrIcuQ7R4=s64",
      "userId": "06399644931392855882"
     },
     "user_tz": 420
    },
    "id": "ijLgz1C3MV7O",
    "outputId": "e7b1dbc7-a2f4-4766-9392-337ea1e3d08a",
    "slideshow": {
     "slide_type": "fragment"
    },
    "trusted": false
   },
   "cell_type": "code",
   "source": "# Split is useful for splitting strings into words \n\ns = \"once upon a time there lived\"\n\ns.split()\n\n#Q: how does split work with other whitespace characters?",
   "execution_count": 12,
   "outputs": [
    {
     "output_type": "execute_result",
     "execution_count": 12,
     "data": {
      "text/plain": "['once', 'upon', 'a', 'time', 'there', 'lived']"
     },
     "metadata": {}
    }
   ]
  },
  {
   "metadata": {
    "colab": {
     "base_uri": "https://localhost:8080/",
     "height": 34
    },
    "execution": {
     "iopub.execute_input": "2022-09-23T00:20:12.667915Z",
     "iopub.status.busy": "2022-09-23T00:20:12.667031Z",
     "iopub.status.idle": "2022-09-23T00:20:12.670476Z",
     "shell.execute_reply": "2022-09-23T00:20:12.671278Z"
    },
    "executionInfo": {
     "elapsed": 1138,
     "status": "ok",
     "timestamp": 1571353692209,
     "user": {
      "displayName": "Benedict Paten",
      "photoUrl": "https://lh3.googleusercontent.com/a-/AAuE7mBMnWy8dDR7jyTHNy9tPaRx6DCyA3QKrIcuQ7R4=s64",
      "userId": "06399644931392855882"
     },
     "user_tz": 420
    },
    "id": "Hr7Xein7Md75",
    "outputId": "839b82e8-28a3-4662-bcb4-6c017fc4118a",
    "slideshow": {
     "slide_type": "fragment"
    },
    "trusted": false
   },
   "cell_type": "code",
   "source": "# You can use it to split on specific characters, \n# consider comma separated data (csv data):\n\ns = \"0.5,0.9,17,20\"\n\ns.split(\",\") # ',' is used as the split character",
   "execution_count": 40,
   "outputs": [
    {
     "data": {
      "text/plain": "['0.5', '0.9', '17', '20']"
     },
     "execution_count": 40,
     "metadata": {},
     "output_type": "execute_result"
    }
   ]
  },
  {
   "metadata": {
    "colab": {
     "base_uri": "https://localhost:8080/",
     "height": 34
    },
    "execution": {
     "iopub.execute_input": "2022-09-23T00:20:12.676545Z",
     "iopub.status.busy": "2022-09-23T00:20:12.675825Z",
     "iopub.status.idle": "2022-09-23T00:20:12.678635Z",
     "shell.execute_reply": "2022-09-23T00:20:12.679323Z"
    },
    "executionInfo": {
     "elapsed": 1016,
     "status": "ok",
     "timestamp": 1571353698794,
     "user": {
      "displayName": "Benedict Paten",
      "photoUrl": "https://lh3.googleusercontent.com/a-/AAuE7mBMnWy8dDR7jyTHNy9tPaRx6DCyA3QKrIcuQ7R4=s64",
      "userId": "06399644931392855882"
     },
     "user_tz": 420
    },
    "id": "nxBvYmhQMvqc",
    "outputId": "8522cefe-3b37-4d36-d2fc-3bf20685a6dc",
    "slideshow": {
     "slide_type": "fragment"
    },
    "trusted": false
   },
   "cell_type": "code",
   "source": "# You can also do this with tabs (e.g. tsv data)\n\ns = \"0.5\\t0.9\\t17\\t20\"\n\ns.split(\"\\t\") # a tab is used as the split character",
   "execution_count": 41,
   "outputs": [
    {
     "data": {
      "text/plain": "['0.5', '0.9', '17', '20']"
     },
     "execution_count": 41,
     "metadata": {},
     "output_type": "execute_result"
    }
   ]
  },
  {
   "metadata": {
    "id": "rKLLb-JoNsUt",
    "slideshow": {
     "slide_type": "subslide"
    }
   },
   "cell_type": "markdown",
   "source": "**join**"
  },
  {
   "metadata": {
    "colab": {
     "base_uri": "https://localhost:8080/",
     "height": 34
    },
    "execution": {
     "iopub.execute_input": "2022-09-23T00:20:12.684766Z",
     "iopub.status.busy": "2022-09-23T00:20:12.683971Z",
     "iopub.status.idle": "2022-09-23T00:20:12.688223Z",
     "shell.execute_reply": "2022-09-23T00:20:12.688932Z"
    },
    "executionInfo": {
     "elapsed": 876,
     "status": "ok",
     "timestamp": 1571353850764,
     "user": {
      "displayName": "Benedict Paten",
      "photoUrl": "https://lh3.googleusercontent.com/a-/AAuE7mBMnWy8dDR7jyTHNy9tPaRx6DCyA3QKrIcuQ7R4=s64",
      "userId": "06399644931392855882"
     },
     "user_tz": 420
    },
    "id": "NLuD1HzdM_7O",
    "outputId": "0e672e6b-b32c-43e0-d057-17c9e7b0dc65",
    "slideshow": {
     "slide_type": "fragment"
    },
    "trusted": false
   },
   "cell_type": "code",
   "source": "# Join lets you concatenate a sequence of strings\n\nl = ['once', 'upon', 'a', 'time', 'there', 'lived']\n\n\" \".join(l) # the string \" \" is used as the joining sequence",
   "execution_count": 7,
   "outputs": [
    {
     "data": {
      "text/plain": "'once upon a time there lived'"
     },
     "execution_count": 7,
     "metadata": {},
     "output_type": "execute_result"
    }
   ]
  },
  {
   "metadata": {
    "execution": {
     "iopub.execute_input": "2022-09-23T00:20:12.693894Z",
     "iopub.status.busy": "2022-09-23T00:20:12.693065Z",
     "iopub.status.idle": "2022-09-23T00:20:12.696665Z",
     "shell.execute_reply": "2022-09-23T00:20:12.697075Z"
    },
    "id": "-z4JxBARNasR",
    "slideshow": {
     "slide_type": "fragment"
    },
    "trusted": false
   },
   "cell_type": "code",
   "source": "# This therefore works too\n\n\",\".join(l)",
   "execution_count": 8,
   "outputs": [
    {
     "data": {
      "text/plain": "'once,upon,a,time,there,lived'"
     },
     "execution_count": 8,
     "metadata": {},
     "output_type": "execute_result"
    }
   ]
  },
  {
   "metadata": {
    "slideshow": {
     "slide_type": "fragment"
    },
    "trusted": false
   },
   "cell_type": "code",
   "source": "\"\".join(l)",
   "execution_count": 9,
   "outputs": [
    {
     "data": {
      "text/plain": "'onceuponatimetherelived'"
     },
     "execution_count": 9,
     "metadata": {},
     "output_type": "execute_result"
    }
   ]
  },
  {
   "metadata": {
    "id": "EhDivoc4N_EV",
    "slideshow": {
     "slide_type": "subslide"
    }
   },
   "cell_type": "markdown",
   "source": "**case changing functions**"
  },
  {
   "metadata": {
    "colab": {
     "base_uri": "https://localhost:8080/",
     "height": 34
    },
    "execution": {
     "iopub.execute_input": "2022-09-23T00:20:12.701497Z",
     "iopub.status.busy": "2022-09-23T00:20:12.700609Z",
     "iopub.status.idle": "2022-09-23T00:20:12.704035Z",
     "shell.execute_reply": "2022-09-23T00:20:12.704712Z"
    },
    "executionInfo": {
     "elapsed": 914,
     "status": "ok",
     "timestamp": 1571353870826,
     "user": {
      "displayName": "Benedict Paten",
      "photoUrl": "https://lh3.googleusercontent.com/a-/AAuE7mBMnWy8dDR7jyTHNy9tPaRx6DCyA3QKrIcuQ7R4=s64",
      "userId": "06399644931392855882"
     },
     "user_tz": 420
    },
    "id": "nkmJGVZ5OLw3",
    "outputId": "17721ae1-12e5-4e62-bf23-24369e6467ef",
    "slideshow": {
     "slide_type": "fragment"
    },
    "trusted": false
   },
   "cell_type": "code",
   "source": "s = \"once upon a time there lived\"\n\ns.upper() # When you feel like shouting",
   "execution_count": 44,
   "outputs": [
    {
     "data": {
      "text/plain": "'ONCE UPON A TIME THERE LIVED'"
     },
     "execution_count": 44,
     "metadata": {},
     "output_type": "execute_result"
    }
   ]
  },
  {
   "metadata": {
    "colab": {
     "base_uri": "https://localhost:8080/",
     "height": 34
    },
    "execution": {
     "iopub.execute_input": "2022-09-23T00:20:12.709763Z",
     "iopub.status.busy": "2022-09-23T00:20:12.708943Z",
     "iopub.status.idle": "2022-09-23T00:20:12.713167Z",
     "shell.execute_reply": "2022-09-23T00:20:12.712727Z"
    },
    "executionInfo": {
     "elapsed": 896,
     "status": "ok",
     "timestamp": 1571353880532,
     "user": {
      "displayName": "Benedict Paten",
      "photoUrl": "https://lh3.googleusercontent.com/a-/AAuE7mBMnWy8dDR7jyTHNy9tPaRx6DCyA3QKrIcuQ7R4=s64",
      "userId": "06399644931392855882"
     },
     "user_tz": 420
    },
    "id": "riKiqHpwOVuK",
    "outputId": "f5af930c-ad11-4023-d081-e831bbc56e06",
    "slideshow": {
     "slide_type": "fragment"
    },
    "trusted": false
   },
   "cell_type": "code",
   "source": "s = \"SHOUTING\" \n\ns.lower() # The opposite",
   "execution_count": 45,
   "outputs": [
    {
     "data": {
      "text/plain": "'shouting'"
     },
     "execution_count": 45,
     "metadata": {},
     "output_type": "execute_result"
    }
   ]
  },
  {
   "metadata": {
    "id": "n4ctRIUQOkV6",
    "slideshow": {
     "slide_type": "subslide"
    }
   },
   "cell_type": "markdown",
   "source": "**lots more...**\n\nPython strings provide lots of good functions, see:\n\nhttps://docs.python.org/3/library/string.html"
  },
  {
   "metadata": {
    "colab": {
     "base_uri": "https://localhost:8080/",
     "height": 1000
    },
    "execution": {
     "iopub.execute_input": "2022-09-23T00:20:12.718625Z",
     "iopub.status.busy": "2022-09-23T00:20:12.717736Z",
     "iopub.status.idle": "2022-09-23T00:20:12.722222Z",
     "shell.execute_reply": "2022-09-23T00:20:12.723094Z"
    },
    "executionInfo": {
     "elapsed": 794,
     "status": "ok",
     "timestamp": 1571353886074,
     "user": {
      "displayName": "Benedict Paten",
      "photoUrl": "https://lh3.googleusercontent.com/a-/AAuE7mBMnWy8dDR7jyTHNy9tPaRx6DCyA3QKrIcuQ7R4=s64",
      "userId": "06399644931392855882"
     },
     "user_tz": 420
    },
    "id": "Ji6EyMvfOnoW",
    "outputId": "c8206587-6211-4696-b374-7bc876832945",
    "slideshow": {
     "slide_type": "fragment"
    },
    "trusted": false
   },
   "cell_type": "code",
   "source": "dir('')",
   "execution_count": 3,
   "outputs": [
    {
     "data": {
      "text/plain": "['__add__',\n '__class__',\n '__contains__',\n '__delattr__',\n '__dir__',\n '__doc__',\n '__eq__',\n '__format__',\n '__ge__',\n '__getattribute__',\n '__getitem__',\n '__getnewargs__',\n '__gt__',\n '__hash__',\n '__init__',\n '__init_subclass__',\n '__iter__',\n '__le__',\n '__len__',\n '__lt__',\n '__mod__',\n '__mul__',\n '__ne__',\n '__new__',\n '__reduce__',\n '__reduce_ex__',\n '__repr__',\n '__rmod__',\n '__rmul__',\n '__setattr__',\n '__sizeof__',\n '__str__',\n '__subclasshook__',\n 'capitalize',\n 'casefold',\n 'center',\n 'count',\n 'encode',\n 'endswith',\n 'expandtabs',\n 'find',\n 'format',\n 'format_map',\n 'index',\n 'isalnum',\n 'isalpha',\n 'isdecimal',\n 'isdigit',\n 'isidentifier',\n 'islower',\n 'isnumeric',\n 'isprintable',\n 'isspace',\n 'istitle',\n 'isupper',\n 'join',\n 'ljust',\n 'lower',\n 'lstrip',\n 'maketrans',\n 'partition',\n 'replace',\n 'rfind',\n 'rindex',\n 'rjust',\n 'rpartition',\n 'rsplit',\n 'rstrip',\n 'split',\n 'splitlines',\n 'startswith',\n 'strip',\n 'swapcase',\n 'title',\n 'translate',\n 'upper',\n 'zfill']"
     },
     "execution_count": 3,
     "metadata": {},
     "output_type": "execute_result"
    }
   ]
  },
  {
   "metadata": {
    "slideshow": {
     "slide_type": "subslide"
    },
    "trusted": false
   },
   "cell_type": "code",
   "source": "\"foo\".swapcase",
   "execution_count": 13,
   "outputs": [
    {
     "data": {
      "text/plain": "<function str.swapcase>"
     },
     "execution_count": 13,
     "metadata": {},
     "output_type": "execute_result"
    }
   ]
  },
  {
   "metadata": {
    "slideshow": {
     "slide_type": "fragment"
    },
    "trusted": false
   },
   "cell_type": "code",
   "source": "help(\"foo\".swapcase)",
   "execution_count": 10,
   "outputs": [
    {
     "name": "stdout",
     "output_type": "stream",
     "text": "Help on built-in function swapcase:\n\nswapcase(...) method of builtins.str instance\n    S.swapcase() -> str\n    \n    Return a copy of S with uppercase characters converted to lowercase\n    and vice versa.\n\n"
    }
   ]
  },
  {
   "metadata": {
    "id": "UxULa5wYE4co",
    "slideshow": {
     "slide_type": "slide"
    }
   },
   "cell_type": "markdown",
   "source": "# Challenge 4"
  },
  {
   "metadata": {
    "execution": {
     "iopub.execute_input": "2022-09-23T00:20:12.781465Z",
     "iopub.status.busy": "2022-09-23T00:20:12.780607Z",
     "iopub.status.idle": "2022-09-23T00:20:12.782506Z",
     "shell.execute_reply": "2022-09-23T00:20:12.782909Z"
    },
    "id": "W78Bw4AsYeNq",
    "slideshow": {
     "slide_type": "fragment"
    },
    "trusted": false
   },
   "cell_type": "code",
   "source": "# Complete the function:\n\ndef how_many_occurrences(s, s2):\n  \"\"\"  Returns the number of times s2 occurs as a substring of s   \"\"\"\n\nhow_many_occurrences(\"mississsippi\", \"ss\") # Correct answer should be 3 \n\n# PS: yes, I know mississsippi (sic) is spelled wrong, \n# just to make you think about overlapping occurrences",
   "execution_count": 2,
   "outputs": [
    {
     "output_type": "execute_result",
     "execution_count": 2,
     "data": {
      "text/plain": "3"
     },
     "metadata": {}
    }
   ]
  },
  {
   "metadata": {
    "id": "KZP9y5sgyVm8",
    "slideshow": {
     "slide_type": "slide"
    }
   },
   "cell_type": "markdown",
   "source": "# Homework\n\n* ZyBook Reading 8\n* ZyBook Assignment 4\n* Read chapter 8: http://openbookproject.net/thinkcs/python/english3e/strings.html\n"
  }
 ],
 "metadata": {
  "celltoolbar": "Slideshow",
  "colab": {
   "collapsed_sections": [],
   "name": "L08 Strings.ipynb",
   "provenance": [
    {
     "file_id": "1kIqY78jiim_Ln0JhaYkVqb00ArgQUP9l",
     "timestamp": 1607721744003
    }
   ]
  },
  "kernelspec": {
   "name": "python3",
   "display_name": "Python 3",
   "language": "python"
  },
  "language_info": {
   "name": "python",
   "version": "3.10.4",
   "mimetype": "text/x-python",
   "codemirror_mode": {
    "name": "ipython",
    "version": 3
   },
   "pygments_lexer": "ipython3",
   "nbconvert_exporter": "python",
   "file_extension": ".py"
  }
 },
 "nbformat": 4,
 "nbformat_minor": 1
}