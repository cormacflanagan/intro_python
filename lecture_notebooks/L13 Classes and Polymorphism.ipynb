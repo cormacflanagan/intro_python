{
 "cells": [
  {
   "metadata": {
    "id": "5UyFJYXOx-WH",
    "slideshow": {
     "slide_type": "slide"
    }
   },
   "cell_type": "markdown",
   "source": "# Lecture 13 - Objects and Polymorphism \n\n* Polymorphism\n* Polymorphism by reimplementing basic object functionality:\n* Redefining the \\__str__ method\n* How Python implements ''==\" for objects\n* General operator overloading, including comparison operators\n* Copying objects\n"
  },
  {
   "metadata": {
    "slideshow": {
     "slide_type": "subslide"
    }
   },
   "cell_type": "markdown",
   "source": "# Warm-Up Challenge"
  },
  {
   "metadata": {
    "slideshow": {
     "slide_type": "fragment"
    },
    "trusted": true
   },
   "cell_type": "code",
   "source": "# 1. Write a class Food\n# whose constructor takes two arguments, name and flavor,\n# and stores those arguments as fields/attributes of the new object.\n\n# 2. Write a to_string method to class Food so that the following code works;\n\n...\n\nf = Food(\"vindaloo\", \"spicy\")\n\nprint(\"I am going to eat:\", f.to_string())\n# Should print \"I am going to eat: vindaloo which is spicy\"",
   "execution_count": 2,
   "outputs": [
    {
     "output_type": "stream",
     "text": "I am going to eat: vindaloo which is spicy\n",
     "name": "stdout"
    }
   ]
  },
  {
   "metadata": {
    "trusted": false
   },
   "cell_type": "code",
   "source": "t = { \"Tasty\":\"Cookie\" }\nprint(\"Cookie monster loves to eat: \", t)",
   "execution_count": 9,
   "outputs": [
    {
     "output_type": "stream",
     "text": "Cookie monster loves to eat:  {'Tasty': 'Cookie'}\n",
     "name": "stdout"
    }
   ]
  },
  {
   "metadata": {
    "id": "J9kAOlvpx3dS",
    "slideshow": {
     "slide_type": "slide"
    }
   },
   "cell_type": "markdown",
   "source": "# Polymorphism\n\n* \"the condition of occurring in several different forms.\"\n\n* In programming, polymorphism means having different behavior for the same function, based upon type:\n\n<img src=\"https://raw.githubusercontent.com/cormacflanagan/intro_python/main/lecture_notebooks/figures/graffles/polymorphism.jpg\" width=700 height=350 />\n\n* Polymorphism is everywhere in Python, and is a huge part of why Python is a pleasure to use. Consider the len() function:\n"
  },
  {
   "metadata": {
    "colab": {
     "base_uri": "https://localhost:8080/",
     "height": 51
    },
    "executionInfo": {
     "elapsed": 640,
     "status": "ok",
     "timestamp": 1573773898917,
     "user": {
      "displayName": "Benedict Paten",
      "photoUrl": "https://lh3.googleusercontent.com/a-/AAuE7mBMnWy8dDR7jyTHNy9tPaRx6DCyA3QKrIcuQ7R4=s64",
      "userId": "06399644931392855882"
     },
     "user_tz": 480
    },
    "id": "vZMLh2QxzbWS",
    "outputId": "a18ac85c-c9f3-48dc-f979-b43ba5bb1458",
    "slideshow": {
     "slide_type": "subslide"
    },
    "trusted": false
   },
   "cell_type": "code",
   "source": "# Python program to demonstrate in-built polymorphic functions \n  \n# len() being used for a string \nprint(len(\"geeks\")) \n  \n# len() being used for a list \nprint(len([10, 20, 30]))\n\n# The behavior of len() is polymorphic, \n# for a string it gives the length of a string \n# for a list gives the length of the list",
   "execution_count": 1,
   "outputs": [
    {
     "name": "stdout",
     "output_type": "stream",
     "text": "5\n3\n"
    }
   ]
  },
  {
   "metadata": {
    "id": "3AxMcZ1Dzx3m",
    "slideshow": {
     "slide_type": "fragment"
    }
   },
   "cell_type": "markdown",
   "source": "Similarly, consider the polymorphic behavior of the \"+\" operator:"
  },
  {
   "metadata": {
    "colab": {
     "base_uri": "https://localhost:8080/",
     "height": 34
    },
    "executionInfo": {
     "elapsed": 503,
     "status": "ok",
     "timestamp": 1573773952070,
     "user": {
      "displayName": "Benedict Paten",
      "photoUrl": "https://lh3.googleusercontent.com/a-/AAuE7mBMnWy8dDR7jyTHNy9tPaRx6DCyA3QKrIcuQ7R4=s64",
      "userId": "06399644931392855882"
     },
     "user_tz": 480
    },
    "id": "yoXCHG-gz4Fd",
    "outputId": "fc450d55-dc6b-435a-9028-f87b2aa837dc",
    "slideshow": {
     "slide_type": "fragment"
    },
    "trusted": false
   },
   "cell_type": "code",
   "source": "def add(x, y):\n  return x + y\n\nadd(10, 5) # This returns 15\n\nadd(\"hello \", \"world\") # This returns \"hello world\"",
   "execution_count": null,
   "outputs": [
    {
     "data": {
      "text/plain": "'hello world'"
     },
     "execution_count": 2,
     "metadata": {
      "tags": []
     },
     "output_type": "execute_result"
    }
   ]
  },
  {
   "metadata": {
    "id": "G37-huZN0GUK",
    "slideshow": {
     "slide_type": "fragment"
    }
   },
   "cell_type": "markdown",
   "source": "* So, how does the program know to add numbers but concatenate strings? \n\n* The answer is by using inheritence. We'll visit inheritence in detail next lecture, for now let's see how inheritence works by overriding default behaviors. "
  },
  {
   "metadata": {
    "id": "t6G3kLtvzKWw",
    "slideshow": {
     "slide_type": "slide"
    }
   },
   "cell_type": "markdown",
   "source": "# Redefining the behavior of str()\n\n\nLet's consider the Point class again that we created last time.\n\nSuppose we wanted to add a method to create a printable string representing a point:"
  },
  {
   "metadata": {
    "id": "rzwo_WjE1TMi",
    "slideshow": {
     "slide_type": "fragment"
    },
    "trusted": false
   },
   "cell_type": "code",
   "source": "class Point:\n\n  def __init__(self, x=0, y=0):\n    self.x = x\n    self.y = y\n\n  def to_string(self):\n    \"\"\"Return a string representing the point\"\"\"\n    return f\"({self.x}, {self.y})\"",
   "execution_count": 1,
   "outputs": []
  },
  {
   "metadata": {
    "colab": {
     "base_uri": "https://localhost:8080/",
     "height": 34
    },
    "executionInfo": {
     "elapsed": 512,
     "status": "ok",
     "timestamp": 1573774121370,
     "user": {
      "displayName": "Benedict Paten",
      "photoUrl": "https://lh3.googleusercontent.com/a-/AAuE7mBMnWy8dDR7jyTHNy9tPaRx6DCyA3QKrIcuQ7R4=s64",
      "userId": "06399644931392855882"
     },
     "user_tz": 480
    },
    "id": "YpIO3k401szb",
    "outputId": "a63f06d5-0e3f-439f-9be2-65d00f1dc71d",
    "slideshow": {
     "slide_type": "fragment"
    },
    "trusted": false
   },
   "cell_type": "code",
   "source": "p = Point(3, 4)\n\nprint(p.to_string()) ",
   "execution_count": 2,
   "outputs": [
    {
     "name": "stdout",
     "output_type": "stream",
     "text": "(3, 4)\n"
    }
   ]
  },
  {
   "metadata": {
    "id": "F2ABmk4D15io",
    "slideshow": {
     "slide_type": "subslide"
    }
   },
   "cell_type": "markdown",
   "source": "to_string() is nice, but what happens if we call print on p:"
  },
  {
   "metadata": {
    "colab": {
     "base_uri": "https://localhost:8080/",
     "height": 34
    },
    "executionInfo": {
     "elapsed": 501,
     "status": "ok",
     "timestamp": 1573774246994,
     "user": {
      "displayName": "Benedict Paten",
      "photoUrl": "https://lh3.googleusercontent.com/a-/AAuE7mBMnWy8dDR7jyTHNy9tPaRx6DCyA3QKrIcuQ7R4=s64",
      "userId": "06399644931392855882"
     },
     "user_tz": 480
    },
    "id": "kmFp7Jj32BJA",
    "outputId": "0854e027-b302-4aeb-9cb0-e3f203216e81",
    "slideshow": {
     "slide_type": "fragment"
    },
    "trusted": false
   },
   "cell_type": "code",
   "source": "print(p) # Not very helpful",
   "execution_count": 9,
   "outputs": [
    {
     "name": "stdout",
     "output_type": "stream",
     "text": "<__main__.Point object at 0x130f77470>\n"
    }
   ]
  },
  {
   "metadata": {
    "id": "E-q_Ij0g2C1V",
    "slideshow": {
     "slide_type": "fragment"
    }
   },
   "cell_type": "markdown",
   "source": "Print is implicitly calling a function str(p) to make a string. But:"
  },
  {
   "metadata": {
    "colab": {
     "base_uri": "https://localhost:8080/",
     "height": 34
    },
    "executionInfo": {
     "elapsed": 662,
     "status": "ok",
     "timestamp": 1573774302830,
     "user": {
      "displayName": "Benedict Paten",
      "photoUrl": "https://lh3.googleusercontent.com/a-/AAuE7mBMnWy8dDR7jyTHNy9tPaRx6DCyA3QKrIcuQ7R4=s64",
      "userId": "06399644931392855882"
     },
     "user_tz": 480
    },
    "id": "xw6aZ-lt2MsO",
    "outputId": "de6d2d84-c086-435d-f62e-abf61d42cf75",
    "slideshow": {
     "slide_type": "fragment"
    },
    "trusted": false
   },
   "cell_type": "code",
   "source": "str(p) # This is because the str method of the object defaults\n# to something not very helpful ",
   "execution_count": 3,
   "outputs": [
    {
     "data": {
      "text/plain": "'<__main__.Point object at 0x1255dd2e8>'"
     },
     "execution_count": 3,
     "metadata": {},
     "output_type": "execute_result"
    }
   ]
  },
  {
   "metadata": {
    "id": "pCVRcF9C2Zzj",
    "slideshow": {
     "slide_type": "subslide"
    }
   },
   "cell_type": "markdown",
   "source": "Okay, so we need to *override* the str() function by defining a \\__str\\__ method for Points"
  },
  {
   "metadata": {
    "id": "Iyr_6I5L2lkg",
    "slideshow": {
     "slide_type": "fragment"
    },
    "trusted": false
   },
   "cell_type": "code",
   "source": "class Point:\n\n  def __init__(self, x=0, y=0):\n    self.x = x\n    self.y = y\n\n  def __str__(self): # the str() method uses another one of these __ functions\n    \"\"\"Return a string representing the point\"\"\"\n    return f\"({self.x}, {self.y})\"\n  \n  ",
   "execution_count": 1,
   "outputs": []
  },
  {
   "metadata": {
    "colab": {
     "base_uri": "https://localhost:8080/",
     "height": 34
    },
    "executionInfo": {
     "elapsed": 504,
     "status": "ok",
     "timestamp": 1573774475831,
     "user": {
      "displayName": "Benedict Paten",
      "photoUrl": "https://lh3.googleusercontent.com/a-/AAuE7mBMnWy8dDR7jyTHNy9tPaRx6DCyA3QKrIcuQ7R4=s64",
      "userId": "06399644931392855882"
     },
     "user_tz": 480
    },
    "id": "TvsN6x352mQL",
    "outputId": "e740129f-0e36-4f85-b9eb-2bd80554fc83",
    "slideshow": {
     "slide_type": "fragment"
    },
    "trusted": false
   },
   "cell_type": "code",
   "source": "p = Point(3, 4)\n\nstr(p)",
   "execution_count": 2,
   "outputs": [
    {
     "output_type": "execute_result",
     "execution_count": 2,
     "data": {
      "text/plain": "'(3, 4)'"
     },
     "metadata": {}
    }
   ]
  },
  {
   "metadata": {
    "colab": {
     "base_uri": "https://localhost:8080/",
     "height": 34
    },
    "executionInfo": {
     "elapsed": 1075,
     "status": "ok",
     "timestamp": 1573774556969,
     "user": {
      "displayName": "Benedict Paten",
      "photoUrl": "https://lh3.googleusercontent.com/a-/AAuE7mBMnWy8dDR7jyTHNy9tPaRx6DCyA3QKrIcuQ7R4=s64",
      "userId": "06399644931392855882"
     },
     "user_tz": 480
    },
    "id": "05VioCD-3Eyw",
    "outputId": "0d63d8a6-5f5f-40e1-b9e4-cda645dc1304",
    "slideshow": {
     "slide_type": "fragment"
    },
    "trusted": false
   },
   "cell_type": "code",
   "source": "print(p) # Way better",
   "execution_count": 5,
   "outputs": [
    {
     "output_type": "stream",
     "text": "(3, 4)\n",
     "name": "stdout"
    }
   ]
  },
  {
   "metadata": {
    "id": "7AE7kHjI3NQD",
    "slideshow": {
     "slide_type": "fragment"
    }
   },
   "cell_type": "markdown",
   "source": "We just re-defined the string method of the class to do something much more custom and useful. You'll see later that this is an example of using inheritance. "
  },
  {
   "metadata": {
    "slideshow": {
     "slide_type": "subslide"
    }
   },
   "cell_type": "markdown",
   "source": "# Challenge 1"
  },
  {
   "metadata": {
    "slideshow": {
     "slide_type": "fragment"
    },
    "trusted": false
   },
   "cell_type": "code",
   "source": "class Food:\n    def __init__(self, name, flavor):\n        self.name = name\n        self.flavor = flavor\n    def to_string(self):\n        return f\"{self.name} which is {self.flavor}\"\n        \n# Add a method to the above class definition so that the code below works\n\nf = Food(\"vindaloo\", \"spicy\")\nprint(\"I am going to eat:\", f) # Should print \"I am going to eat: vindaloo which is spicy\"",
   "execution_count": 6,
   "outputs": [
    {
     "output_type": "stream",
     "text": "I am going to eat: vindaloo which is spicy\n",
     "name": "stdout"
    }
   ]
  },
  {
   "metadata": {
    "id": "2EKHtIOqTlP2",
    "slideshow": {
     "slide_type": "slide"
    }
   },
   "cell_type": "markdown",
   "source": "# How Python implements \"==\" \n\nOkay, as another example of polymorphism, let's revisit how Python implements ==.\n\nRecall from earlier that: \n  * == is for equivalence (contain the same values)\n  * 'is' is for testing if references point to the same thing in memory"
  },
  {
   "metadata": {
    "colab": {
     "base_uri": "https://localhost:8080/"
    },
    "executionInfo": {
     "elapsed": 416,
     "status": "ok",
     "timestamp": 1607919663251,
     "user": {
      "displayName": "Benedict Paten",
      "photoUrl": "https://lh3.googleusercontent.com/a-/AOh14Gh2rYrrH6yoNnUp0Oj4p4ouybc6ZcWGyPmKFtIY=s64",
      "userId": "06399644931392855882"
     },
     "user_tz": 480
    },
    "id": "IaHfOGfZUt2q",
    "outputId": "de6ee869-e81a-4a38-a1a3-6bd3d5694e7a",
    "slideshow": {
     "slide_type": "fragment"
    },
    "trusted": false
   },
   "cell_type": "code",
   "source": "x = [1,2]\ny = [1,2]\n\nx == y # Python is checking that they represent the same thing",
   "execution_count": 1,
   "outputs": [
    {
     "data": {
      "text/plain": "True"
     },
     "execution_count": 1,
     "metadata": {
      "tags": []
     },
     "output_type": "execute_result"
    }
   ]
  },
  {
   "metadata": {
    "id": "6aqjiDJOVJhD",
    "slideshow": {
     "slide_type": "fragment"
    }
   },
   "cell_type": "markdown",
   "source": "* The 'is' keyword is not user specifiable: references are either the same or they are not. \n\n* However, \"==\" is specifiable by defining \\__eq__(). "
  },
  {
   "metadata": {
    "executionInfo": {
     "elapsed": 344,
     "status": "ok",
     "timestamp": 1607919685508,
     "user": {
      "displayName": "Benedict Paten",
      "photoUrl": "https://lh3.googleusercontent.com/a-/AOh14Gh2rYrrH6yoNnUp0Oj4p4ouybc6ZcWGyPmKFtIY=s64",
      "userId": "06399644931392855882"
     },
     "user_tz": 480
    },
    "id": "QPpDE-pFWC2j",
    "slideshow": {
     "slide_type": "subslide"
    },
    "trusted": false
   },
   "cell_type": "code",
   "source": "class Point:\n    def __init__(self, x=0, y=0):\n        self.x = x\n        self.y = y\n  \np = Point(5, 10)\nq = Point(5, 10)",
   "execution_count": 5,
   "outputs": []
  },
  {
   "metadata": {
    "colab": {
     "base_uri": "https://localhost:8080/"
    },
    "executionInfo": {
     "elapsed": 365,
     "status": "ok",
     "timestamp": 1607919687355,
     "user": {
      "displayName": "Benedict Paten",
      "photoUrl": "https://lh3.googleusercontent.com/a-/AOh14Gh2rYrrH6yoNnUp0Oj4p4ouybc6ZcWGyPmKFtIY=s64",
      "userId": "06399644931392855882"
     },
     "user_tz": 480
    },
    "id": "agTJHvKiwRca",
    "outputId": "73c8e5e8-ee4f-4926-c2ea-af9c2bcc21d0",
    "slideshow": {
     "slide_type": "fragment"
    },
    "trusted": false
   },
   "cell_type": "code",
   "source": "p == q # This is because by default __eq__() on objects works like 'is'",
   "execution_count": 6,
   "outputs": [
    {
     "data": {
      "text/plain": "False"
     },
     "execution_count": 6,
     "metadata": {
      "tags": []
     },
     "output_type": "execute_result"
    }
   ]
  },
  {
   "metadata": {
    "colab": {
     "base_uri": "https://localhost:8080/"
    },
    "executionInfo": {
     "elapsed": 343,
     "status": "ok",
     "timestamp": 1607919690909,
     "user": {
      "displayName": "Benedict Paten",
      "photoUrl": "https://lh3.googleusercontent.com/a-/AOh14Gh2rYrrH6yoNnUp0Oj4p4ouybc6ZcWGyPmKFtIY=s64",
      "userId": "06399644931392855882"
     },
     "user_tz": 480
    },
    "id": "E0wrhO_eXPNU",
    "outputId": "c943cd22-0e43-404f-9284-d4bfd613f121",
    "slideshow": {
     "slide_type": "fragment"
    },
    "trusted": false
   },
   "cell_type": "code",
   "source": "p == p # True, because p is p ",
   "execution_count": 7,
   "outputs": [
    {
     "data": {
      "text/plain": "True"
     },
     "execution_count": 7,
     "metadata": {
      "tags": []
     },
     "output_type": "execute_result"
    }
   ]
  },
  {
   "metadata": {
    "colab": {
     "base_uri": "https://localhost:8080/"
    },
    "executionInfo": {
     "elapsed": 373,
     "status": "ok",
     "timestamp": 1607919699489,
     "user": {
      "displayName": "Benedict Paten",
      "photoUrl": "https://lh3.googleusercontent.com/a-/AOh14Gh2rYrrH6yoNnUp0Oj4p4ouybc6ZcWGyPmKFtIY=s64",
      "userId": "06399644931392855882"
     },
     "user_tz": 480
    },
    "id": "aWXvxeXLVQiV",
    "outputId": "28ad6a4d-680e-464f-8d20-85bd683f38ea",
    "slideshow": {
     "slide_type": "subslide"
    },
    "trusted": false
   },
   "cell_type": "code",
   "source": "# Now let's implement the __eq__\n\nclass Point:\n    def __init__(self, x=0, y=0):\n        self.x = x\n        self.y = y\n\n    def __eq__(self, other):\n        \"\"\" True if the points have the same x, y, coordinates \"\"\"\n        return (self.x, self.y) == (other.x, other.y)\n  \np = Point(5, 10)\nq = Point(5, 10)\n\np == q",
   "execution_count": 1,
   "outputs": [
    {
     "output_type": "execute_result",
     "execution_count": 1,
     "data": {
      "text/plain": "True"
     },
     "metadata": {}
    }
   ]
  },
  {
   "metadata": {
    "colab": {
     "base_uri": "https://localhost:8080/"
    },
    "executionInfo": {
     "elapsed": 356,
     "status": "ok",
     "timestamp": 1607919707170,
     "user": {
      "displayName": "Benedict Paten",
      "photoUrl": "https://lh3.googleusercontent.com/a-/AOh14Gh2rYrrH6yoNnUp0Oj4p4ouybc6ZcWGyPmKFtIY=s64",
      "userId": "06399644931392855882"
     },
     "user_tz": 480
    },
    "id": "4NqtAJOMgCLj",
    "outputId": "ad16742b-d385-413b-8fae-cf9df2805979",
    "slideshow": {
     "slide_type": "fragment"
    },
    "trusted": false
   },
   "cell_type": "code",
   "source": "# We can also do not equals (!= operator)\n\np != q",
   "execution_count": 9,
   "outputs": [
    {
     "data": {
      "text/plain": "False"
     },
     "execution_count": 9,
     "metadata": {
      "tags": []
     },
     "output_type": "execute_result"
    }
   ]
  },
  {
   "metadata": {
    "colab": {
     "base_uri": "https://localhost:8080/",
     "height": 323
    },
    "executionInfo": {
     "elapsed": 306,
     "status": "error",
     "timestamp": 1607919710449,
     "user": {
      "displayName": "Benedict Paten",
      "photoUrl": "https://lh3.googleusercontent.com/a-/AOh14Gh2rYrrH6yoNnUp0Oj4p4ouybc6ZcWGyPmKFtIY=s64",
      "userId": "06399644931392855882"
     },
     "user_tz": 480
    },
    "id": "XD-R6_veXXbR",
    "outputId": "d62f71e9-9a54-4650-96ab-93d0c2cc2cb9",
    "slideshow": {
     "slide_type": "subslide"
    },
    "trusted": false
   },
   "cell_type": "code",
   "source": "p == (5, 10) # If we try to compare things that are not comparable we'll get a runtime exception",
   "execution_count": 10,
   "outputs": [
    {
     "ename": "AttributeError",
     "evalue": "ignored",
     "output_type": "error",
     "traceback": [
      "\u001b[0;31m---------------------------------------------------------------------------\u001b[0m",
      "\u001b[0;31mAttributeError\u001b[0m                            Traceback (most recent call last)",
      "\u001b[0;32m<ipython-input-10-5d8a648e2092>\u001b[0m in \u001b[0;36m<module>\u001b[0;34m()\u001b[0m\n\u001b[1;32m      1\u001b[0m \u001b[0;34m\u001b[0m\u001b[0m\n\u001b[1;32m      2\u001b[0m \u001b[0;34m\u001b[0m\u001b[0m\n\u001b[0;32m----> 3\u001b[0;31m \u001b[0mp\u001b[0m \u001b[0;34m==\u001b[0m \u001b[0;34m(\u001b[0m\u001b[0;36m5\u001b[0m\u001b[0;34m,\u001b[0m \u001b[0;36m10\u001b[0m\u001b[0;34m)\u001b[0m \u001b[0;31m# But note, if we try to compare things that are not comparable we'll get a runtime exception\u001b[0m\u001b[0;34m\u001b[0m\u001b[0;34m\u001b[0m\u001b[0m\n\u001b[0m",
      "\u001b[0;32m<ipython-input-8-ee27b9a69ca0>\u001b[0m in \u001b[0;36m__eq__\u001b[0;34m(self, p)\u001b[0m\n\u001b[1;32m     19\u001b[0m   \u001b[0;32mdef\u001b[0m \u001b[0m__eq__\u001b[0m\u001b[0;34m(\u001b[0m\u001b[0mself\u001b[0m\u001b[0;34m,\u001b[0m \u001b[0mp\u001b[0m\u001b[0;34m)\u001b[0m\u001b[0;34m:\u001b[0m\u001b[0;34m\u001b[0m\u001b[0;34m\u001b[0m\u001b[0m\n\u001b[1;32m     20\u001b[0m     \u001b[0;34m\"\"\" True if the points have the same x, y, coordinates \"\"\"\u001b[0m\u001b[0;34m\u001b[0m\u001b[0;34m\u001b[0m\u001b[0m\n\u001b[0;32m---> 21\u001b[0;31m     \u001b[0;32mreturn\u001b[0m \u001b[0;34m(\u001b[0m\u001b[0mself\u001b[0m\u001b[0;34m.\u001b[0m\u001b[0mx\u001b[0m\u001b[0;34m,\u001b[0m \u001b[0mself\u001b[0m\u001b[0;34m.\u001b[0m\u001b[0my\u001b[0m\u001b[0;34m)\u001b[0m \u001b[0;34m==\u001b[0m \u001b[0;34m(\u001b[0m\u001b[0mp\u001b[0m\u001b[0;34m.\u001b[0m\u001b[0mx\u001b[0m\u001b[0;34m,\u001b[0m \u001b[0mp\u001b[0m\u001b[0;34m.\u001b[0m\u001b[0my\u001b[0m\u001b[0;34m)\u001b[0m\u001b[0;34m\u001b[0m\u001b[0;34m\u001b[0m\u001b[0m\n\u001b[0m\u001b[1;32m     22\u001b[0m \u001b[0;34m\u001b[0m\u001b[0m\n\u001b[1;32m     23\u001b[0m \u001b[0mp\u001b[0m \u001b[0;34m=\u001b[0m \u001b[0mPoint\u001b[0m\u001b[0;34m(\u001b[0m\u001b[0;36m5\u001b[0m\u001b[0;34m,\u001b[0m \u001b[0;36m10\u001b[0m\u001b[0;34m)\u001b[0m\u001b[0;34m\u001b[0m\u001b[0;34m\u001b[0m\u001b[0m\n",
      "\u001b[0;31mAttributeError\u001b[0m: 'tuple' object has no attribute 'x'"
     ]
    }
   ]
  },
  {
   "metadata": {
    "slideshow": {
     "slide_type": "subslide"
    }
   },
   "cell_type": "markdown",
   "source": "# Challenge 2"
  },
  {
   "metadata": {
    "slideshow": {
     "slide_type": "fragment"
    },
    "trusted": false
   },
   "cell_type": "code",
   "source": "# Expand the class definition you wrote earlier include an __eq__ method.\n# The method should return True if the food names are equal, \n# (ignoring the flavors)\n# otherwise it should return False\n\nclass Food:\n    def __init__(self, name, flavor):\n        self.name = name\n        self.flavor = flavor\n    def __str__(self):\n        return f\"{self.name} which is {self.flavor}\"\n    ...\n    \ncurry         = Food(\"vindaloo\", \"spicy\")\nanother_curry = Food(\"vindaloo\", \"hot\")\ntaco          = Food(\"fajita tacos\", \"zingy\")\n\n# The following should work\nprint(curry == another_curry)   # True because both vindaloo \nprint(curry == taco)            # False\nprint(another_curry == taco)    # False",
   "execution_count": 7,
   "outputs": [
    {
     "output_type": "stream",
     "text": "True\nFalse\nFalse\n",
     "name": "stdout"
    }
   ]
  },
  {
   "metadata": {
    "id": "1WyXRwJkdZ2p",
    "slideshow": {
     "slide_type": "slide"
    }
   },
   "cell_type": "markdown",
   "source": "# General operator overloading\n\nWe've seen two examples of polymorphism: \n  * we can alter the behavior of str() implementing _ _ str _ _ () \n  * we can alter the behavior of == by implementing _ _ eq _ _ ()\n\nAltering the behavior of an operator is known as \"operator overloading\"\n\nWe can do the same for other operators"
  },
  {
   "metadata": {
    "colab": {
     "base_uri": "https://localhost:8080/",
     "height": 51
    },
    "executionInfo": {
     "elapsed": 624,
     "status": "ok",
     "timestamp": 1573775293031,
     "user": {
      "displayName": "Benedict Paten",
      "photoUrl": "https://lh3.googleusercontent.com/a-/AAuE7mBMnWy8dDR7jyTHNy9tPaRx6DCyA3QKrIcuQ7R4=s64",
      "userId": "06399644931392855882"
     },
     "user_tz": 480
    },
    "id": "5oIQOvmaWtC1",
    "outputId": "c9a12e8b-07e8-46c5-9e7b-948449687610",
    "slideshow": {
     "slide_type": "subslide"
    },
    "trusted": false
   },
   "cell_type": "code",
   "source": "class Point:\n    def __init__(self, x=0, y=0):\n        self.x = x\n        self.y = y\n\n    def __str__(self):\n        return \"({0}, {1})\".format(self.x, self.y)\n    \n    def __eq__(self, other):\n        return (self.x, self.y) == (other.x, other.y)\n\n    def __add__(self, other):            # Implements the + operator\n        return Point(self.x + other.x, self.y + other.y)\n\n    def __mul__(self, other):            # Implement the * operator\n        return Point(self.x * other.x, self.y * other.y)\n    \np = Point(5, 10)\nq = Point(2, 3)\n\nprint(f\"{p} plus {q} gives {p+q}\")\nprint(f\"{p} times {q} gives {p*q}\")\n",
   "execution_count": 1,
   "outputs": [
    {
     "output_type": "stream",
     "text": "(5, 10) plus (2, 3) gives (7, 13)\n(5, 10) times (2, 3) gives (10, 30)\n",
     "name": "stdout"
    }
   ]
  },
  {
   "metadata": {
    "id": "BQzhXYpEmOg6",
    "slideshow": {
     "slide_type": "slide"
    }
   },
   "cell_type": "markdown",
   "source": "# Overloading Comparison Operators\n\n* Let's finish operator overloading by considering the general comparison operators. \n\n* Python implements all the difference logical comparison operators and each maps to a specific object function\n  * == implement \\__eq__() \n  * != implement \\__ne\\__() (optional if you do \\__eq__())\n  * <= implement \\__le__() \n  * \\>= implement \\__ge__()\n  * < implement \\__lt__()\n  * \\> implement \\__gt__()\n\n\n(If this seems a bit complicated see: https://portingguide.readthedocs.io/en/latest/comparisons.html)\n\nHere's a little example of a complete implementation:"
  },
  {
   "metadata": {
    "colab": {
     "base_uri": "https://localhost:8080/",
     "height": 120
    },
    "executionInfo": {
     "elapsed": 1110,
     "status": "ok",
     "timestamp": 1573775476282,
     "user": {
      "displayName": "Benedict Paten",
      "photoUrl": "https://lh3.googleusercontent.com/a-/AAuE7mBMnWy8dDR7jyTHNy9tPaRx6DCyA3QKrIcuQ7R4=s64",
      "userId": "06399644931392855882"
     },
     "user_tz": 480
    },
    "id": "pVCmBi6lqjZO",
    "outputId": "069d66d3-854e-477f-9c8b-62c61b53c09c",
    "slideshow": {
     "slide_type": "subslide"
    },
    "trusted": true
   },
   "cell_type": "code",
   "source": "class Point:\n    def __init__(self, x=0, y=0):\n        self.x = x\n        self.y = y\n    def __str__(self):\n        return f\"({self.x}, {self.y})\"\n    def __eq__(self, other):\n        return (self.x, self.y) == (other.x, other.y)\n    def __lt__(self, other):\n        return (self.x, self.y) < (other.x, other.y)\n    def __le__(self, other):\n        return (self.x, self.y) <= (other.x, other.y)\n    def __gt__(self, other):\n        return (self.x, self.y) > (other.x, other.y)\n    def __ge__(self, other):\n        return (self.x, self.y) >= (other.x, other.y)\n  \np = Point(3, 4)\nq = Point(3, 5)\n\nprint(f\"{p} == {q} is {p == q}\")\nprint(f\"{p} != {q} is {p != q}\")\nprint(f\"{p} <= {q} is {p <= q}\")\nprint(f\"{p} <  {q} is {p < q}\")\nprint(f\"{p} >= {q} is {p >= q}\")\nprint(f\"{p} >  {q} is {p >  q}\")",
   "execution_count": 4,
   "outputs": [
    {
     "output_type": "stream",
     "text": "(3, 4) == (3, 5) is False\n(3, 4) != (3, 5) is True\n(3, 4) <= (3, 5) is True\n(3, 4) <  (3, 5) is True\n(3, 4) >= (3, 5) is False\n(3, 4) >  (3, 5) is False\n",
     "name": "stdout"
    }
   ]
  },
  {
   "metadata": {
    "id": "Ry54X38GGIFv",
    "slideshow": {
     "slide_type": "subslide"
    }
   },
   "cell_type": "markdown",
   "source": "# Challenge 3"
  },
  {
   "metadata": {
    "colab": {
     "base_uri": "https://localhost:8080/",
     "height": 51
    },
    "executionInfo": {
     "elapsed": 496,
     "status": "ok",
     "timestamp": 1573778051064,
     "user": {
      "displayName": "Benedict Paten",
      "photoUrl": "https://lh3.googleusercontent.com/a-/AAuE7mBMnWy8dDR7jyTHNy9tPaRx6DCyA3QKrIcuQ7R4=s64",
      "userId": "06399644931392855882"
     },
     "user_tz": 480
    },
    "id": "J5D4lslfrgH_",
    "outputId": "b37e3dd6-16b0-4b42-e64b-358f47233cec",
    "slideshow": {
     "slide_type": "fragment"
    },
    "trusted": false
   },
   "cell_type": "code",
   "source": "class Contact:\n    \"\"\"Used to represent the contact details of an individual\"\"\"\n\n    def __init__(self, name, phone, email):\n        (self.name, self.phone, self.email) = (name, phone, email)\n\n    # Implement equals, less-than, less-than-or-equals, greater-than and \n    # greater-than-or-equals comparison methods \n    # comparing only by the name attribute\n    ...\n    \n# Tests\nf = Contact(\"Dave\", 1234, \"dave@dave.net\")\ng = Contact(\"Dave\", 56, \"an_email@email.net\")\nh = Contact(\"Ben\", 439205934, \"nospam@gmail.com\")\n\nassert f == g \nassert f != h \n# Ben occurs in the dictionary before the Daves so ...\nassert h < f and h < g and h <= f and h <= g \nassert f > h and g > h and f >= h and g >= h ",
   "execution_count": 5,
   "outputs": []
  },
  {
   "metadata": {
    "trusted": false
   },
   "cell_type": "code",
   "source": "l1 = [ 1,2,3 ]\nl2 = l1[1:2]\nl2",
   "execution_count": 1,
   "outputs": [
    {
     "output_type": "execute_result",
     "execution_count": 1,
     "data": {
      "text/plain": "[2]"
     },
     "metadata": {}
    }
   ]
  },
  {
   "metadata": {
    "id": "SonqW-KnQ4Ur",
    "slideshow": {
     "slide_type": "slide"
    }
   },
   "cell_type": "markdown",
   "source": "# Copying Objects\n\n* We've talked about how different objects of a class are distinct. \n\n* What if we want to copy an object?\n\n  * If the object is immutable you never need copy it, because you can just make multiple references to it without fear of any reference altering it.\n\n  * With mutable objects it is sometimes useful to actually copy the object, effectively cloning the contents of the memory.\n\nWe'll illustrate how this works:"
  },
  {
   "metadata": {
    "colab": {
     "base_uri": "https://localhost:8080/",
     "height": 34
    },
    "executionInfo": {
     "elapsed": 864,
     "status": "ok",
     "timestamp": 1573775955469,
     "user": {
      "displayName": "Benedict Paten",
      "photoUrl": "https://lh3.googleusercontent.com/a-/AAuE7mBMnWy8dDR7jyTHNy9tPaRx6DCyA3QKrIcuQ7R4=s64",
      "userId": "06399644931392855882"
     },
     "user_tz": 480
    },
    "id": "4acXgcytxDdb",
    "outputId": "5b6313f4-3c64-4613-c806-55af94730f92",
    "slideshow": {
     "slide_type": "fragment"
    },
    "trusted": false
   },
   "cell_type": "code",
   "source": "import copy\n\np1 = Point(3, 4)\np2 = copy.copy(p1)\n\np1 == p2",
   "execution_count": 7,
   "outputs": [
    {
     "output_type": "execute_result",
     "execution_count": 7,
     "data": {
      "text/plain": "True"
     },
     "metadata": {}
    }
   ]
  },
  {
   "metadata": {
    "colab": {
     "base_uri": "https://localhost:8080/",
     "height": 34
    },
    "executionInfo": {
     "elapsed": 537,
     "status": "ok",
     "timestamp": 1573775957341,
     "user": {
      "displayName": "Benedict Paten",
      "photoUrl": "https://lh3.googleusercontent.com/a-/AAuE7mBMnWy8dDR7jyTHNy9tPaRx6DCyA3QKrIcuQ7R4=s64",
      "userId": "06399644931392855882"
     },
     "user_tz": 480
    },
    "id": "rkIRcbIWxOQG",
    "outputId": "7c9ce4d6-c3a6-45f3-8202-5e09a68ef9cf",
    "slideshow": {
     "slide_type": "fragment"
    },
    "trusted": false
   },
   "cell_type": "code",
   "source": "p1 is p2 # Nope, p2 is a copy of p1 so the memory references are different",
   "execution_count": 3,
   "outputs": [
    {
     "data": {
      "text/plain": "False"
     },
     "execution_count": 3,
     "metadata": {},
     "output_type": "execute_result"
    }
   ]
  },
  {
   "metadata": {
    "colab": {
     "base_uri": "https://localhost:8080/",
     "height": 51
    },
    "executionInfo": {
     "elapsed": 480,
     "status": "ok",
     "timestamp": 1573775656978,
     "user": {
      "displayName": "Benedict Paten",
      "photoUrl": "https://lh3.googleusercontent.com/a-/AAuE7mBMnWy8dDR7jyTHNy9tPaRx6DCyA3QKrIcuQ7R4=s64",
      "userId": "06399644931392855882"
     },
     "user_tz": 480
    },
    "id": "uU247QoPRhdZ",
    "outputId": "7c105bef-2415-4f78-dba3-dc403efd5ef7",
    "slideshow": {
     "slide_type": "fragment"
    },
    "trusted": false
   },
   "cell_type": "code",
   "source": "# It follows that reassigning the variables in p1,  does not affect p2\nprint(f\"p1 {p1} p2 {p2}\") \np1.x = 7\nprint(f\"p1 {p1} p2 {p2}\") ",
   "execution_count": 8,
   "outputs": [
    {
     "output_type": "stream",
     "text": "p1 (3, 4) p2 (3, 4)\np1 (7, 4) p2 (3, 4)\n",
     "name": "stdout"
    }
   ]
  },
  {
   "metadata": {
    "id": "GTGoQDcUzC_u",
    "slideshow": {
     "slide_type": "slide"
    }
   },
   "cell_type": "markdown",
   "source": "# Deep Copy (aka Deep Clone)\n\n* Ok, but what about when we want to copy the references, recursively? \n\n<img src=\"https://raw.githubusercontent.com/cormacflanagan/intro_python/main/lecture_notebooks/figures/graffles/deep%20copy.jpg\" width=600 height=300 />\n\n* If we use copy we only clone the original objects, not the referenced objects, so the reference object is shared.\n\n* Consider the following example:"
  },
  {
   "metadata": {
    "colab": {
     "base_uri": "https://localhost:8080/",
     "height": 34
    },
    "executionInfo": {
     "elapsed": 457,
     "status": "ok",
     "timestamp": 1573776116554,
     "user": {
      "displayName": "Benedict Paten",
      "photoUrl": "https://lh3.googleusercontent.com/a-/AAuE7mBMnWy8dDR7jyTHNy9tPaRx6DCyA3QKrIcuQ7R4=s64",
      "userId": "06399644931392855882"
     },
     "user_tz": 480
    },
    "id": "30VfVRkpzHvc",
    "outputId": "6f844ffe-0bb6-48b1-fdff-5fd429a73435",
    "slideshow": {
     "slide_type": "subslide"
    },
    "trusted": false
   },
   "cell_type": "code",
   "source": "class Rectangle:\n    \"\"\" A class to manufacture rectangle objects \"\"\"\n\n    def __init__(self, corner, w, h):\n        \"\"\" Initialize rectangle at Point corner, with width w, height h \"\"\"\n        self.corner = corner \n        self.width = w\n        self.height = h\n\n    def __str__(self):\n        return  f\"Rectangle at {self.corner} width {self.width} height {self.height}\"\n        # self.corner reuses the __str__ method of Point\n\nbox = Rectangle(Point(0, 0), 100, 200)\nprint(\"box:\", box)",
   "execution_count": 6,
   "outputs": [
    {
     "output_type": "stream",
     "text": "box: Rectangle at (0, 0) width 100 height 200\n",
     "name": "stdout"
    }
   ]
  },
  {
   "metadata": {
    "id": "UTCxgAlOHPQa",
    "slideshow": {
     "slide_type": "fragment"
    }
   },
   "cell_type": "markdown",
   "source": "Now let's make a rectangle and try copying it:"
  },
  {
   "metadata": {
    "colab": {
     "base_uri": "https://localhost:8080/",
     "height": 86
    },
    "executionInfo": {
     "elapsed": 891,
     "status": "ok",
     "timestamp": 1573776264012,
     "user": {
      "displayName": "Benedict Paten",
      "photoUrl": "https://lh3.googleusercontent.com/a-/AAuE7mBMnWy8dDR7jyTHNy9tPaRx6DCyA3QKrIcuQ7R4=s64",
      "userId": "06399644931392855882"
     },
     "user_tz": 480
    },
    "id": "BlrsxJFfHVRw",
    "outputId": "e089814b-2fc0-4c1e-ce71-f934186b8e5f",
    "slideshow": {
     "slide_type": "fragment"
    },
    "trusted": false
   },
   "cell_type": "code",
   "source": "import copy\nr1 = Rectangle(Point(3, 4), 100, 200)\n\nr2 = copy.deepcopy(r1)\n\nprint(\"r1 is\", r1)\nprint(\"r2 is\", r2)\n\nr1.corner.x = 10\nr2.corner.x\n#print(\"after change r1 is\", r1)\n#print(\"after change r2 is\", r2) \n# r1.corner is r2.corner, so changes to r1.corner change r2.corner",
   "execution_count": 11,
   "outputs": [
    {
     "output_type": "stream",
     "text": "r1 is Rectangle at (3, 4) width 100 height 200\nr2 is Rectangle at (3, 4) width 100 height 200\n",
     "name": "stdout"
    },
    {
     "output_type": "execute_result",
     "execution_count": 11,
     "data": {
      "text/plain": "3"
     },
     "metadata": {}
    }
   ]
  },
  {
   "metadata": {
    "id": "un4Y-jAtS2VS",
    "slideshow": {
     "slide_type": "subslide"
    }
   },
   "cell_type": "markdown",
   "source": "The solution is to use \"deepcopy()\", which recursively invokes the copy\nmethod on references using Python magic (something called: reflection)."
  },
  {
   "metadata": {
    "colab": {
     "base_uri": "https://localhost:8080/",
     "height": 86
    },
    "executionInfo": {
     "elapsed": 962,
     "status": "ok",
     "timestamp": 1573776500280,
     "user": {
      "displayName": "Benedict Paten",
      "photoUrl": "https://lh3.googleusercontent.com/a-/AAuE7mBMnWy8dDR7jyTHNy9tPaRx6DCyA3QKrIcuQ7R4=s64",
      "userId": "06399644931392855882"
     },
     "user_tz": 480
    },
    "id": "xEF2YZVl0ZZW",
    "outputId": "a3cf50d3-b136-4eff-e31c-0a36469c5baa",
    "slideshow": {
     "slide_type": "fragment"
    },
    "trusted": false
   },
   "cell_type": "code",
   "source": "r1 = Rectangle(Point(3, 4), 100, 200)\n\nr2 = copy.deepcopy(r1)\n\nprint(\"r1 is\", r1)\nprint(\"r2 is\", r2)\nprint(r1.corner is r2.corner)\n\nr1.corner.x = 10\n\nprint(\"after change r1 is\", r1)\nprint(\"after change r2 is\", r2) \n# r1.corner is r2.corner, so changes to r1.corner change r2.corner",
   "execution_count": 19,
   "outputs": [
    {
     "name": "stdout",
     "output_type": "stream",
     "text": "r1 is Rectangle at (3, 4) width 100 height 200\nr2 is Rectangle at (3, 4) width 100 height 200\nFalse\nafter change r1 is Rectangle at (10, 4) width 100 height 200\nafter change r2 is Rectangle at (3, 4) width 100 height 200\n"
    }
   ]
  },
  {
   "metadata": {
    "slideshow": {
     "slide_type": "subslide"
    }
   },
   "cell_type": "markdown",
   "source": "import copy\n# Challenge 4"
  },
  {
   "metadata": {
    "slideshow": {
     "slide_type": "fragment"
    },
    "trusted": false
   },
   "cell_type": "code",
   "source": "import copy\n\nclass Contact:\n    \"\"\"Used to represent the contact details of an individual\"\"\"\n\n    def __init__(self, name, phone, email):\n        self.name, self.phone, self.email = name, phone, email\n    \nf = Contact(\"Dave\", 1234, \"dave@dave.net\")\n\n# Use the copy module to make a copy, g, of f \n# and replace the email address of g to be \"an_email@email.net\"\n\n...\n\n# Check that the two copies have distinct email addresses.\nassert f.email != g.email\n",
   "execution_count": 2,
   "outputs": []
  },
  {
   "metadata": {
    "id": "KZP9y5sgyVm8",
    "slideshow": {
     "slide_type": "slide"
    }
   },
   "cell_type": "markdown",
   "source": "# Homework\n\n* Zybooks Reading 13\n* Zybooks Assignment 7\n\n* Finish reading Chapter 16: (more objects) http://openbookproject.net/thinkcs/python/english3e/classes_and_objects_II.html\n* Read Chapter 21: (polymorphism) \nhttp://openbookproject.net/thinkcs/python/english3e/even_more_oop.html\n"
  }
 ],
 "metadata": {
  "celltoolbar": "Slideshow",
  "colab": {
   "collapsed_sections": [],
   "name": "L13 Classes and Polymorphism.ipynb",
   "provenance": []
  },
  "kernelspec": {
   "name": "python3",
   "display_name": "Python 3",
   "language": "python"
  },
  "language_info": {
   "name": "python",
   "version": "3.10.4",
   "mimetype": "text/x-python",
   "codemirror_mode": {
    "name": "ipython",
    "version": 3
   },
   "pygments_lexer": "ipython3",
   "nbconvert_exporter": "python",
   "file_extension": ".py"
  }
 },
 "nbformat": 4,
 "nbformat_minor": 1
}