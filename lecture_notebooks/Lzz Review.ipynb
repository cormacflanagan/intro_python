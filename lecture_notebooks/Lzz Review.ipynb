{
 "cells": [
  {
   "metadata": {},
   "id": "cfbe5b22",
   "cell_type": "markdown",
   "source": "# Revision Session CSE20\n\n\n**Final Exam**\n\n* Here, Wednesday 8-11am\n* On paper, closed book, closed notes\n* On everything covered in lectures, \n  * except no lambdas, no generators\n* Will publish mock final soon\n  \n  "
  },
  {
   "metadata": {},
   "cell_type": "markdown",
   "source": "# Unit testing example: Fibonacci numbers\n\n* Fibonacci numbers have a naturally recursive definition:\n  * fib(0) = 0 \n  * fib(1) = 1\n  * fib(i) = fib(i-1) + f(i-2), for i > 1"
  },
  {
   "metadata": {
    "trusted": false
   },
   "id": "bf387a7a",
   "cell_type": "code",
   "source": "def even(n):\n    if n % 2 == 0:\n        return True\n    else:\n        return False\n    \nprint( [even(i)  for i in range(10)] )",
   "execution_count": 14,
   "outputs": [
    {
     "output_type": "stream",
     "text": "[True, False, True, False, True, False, True, False, True, False]\n",
     "name": "stdout"
    }
   ]
  },
  {
   "metadata": {},
   "id": "e985d490",
   "cell_type": "markdown",
   "source": ""
  },
  {
   "metadata": {
    "trusted": false
   },
   "id": "b192bcd8",
   "cell_type": "code",
   "source": "def even2(n):    return (True if n % 2 == 0 else False)\n    \nprint([even2(i) for i in range(10)])",
   "execution_count": 15,
   "outputs": [
    {
     "output_type": "stream",
     "text": "[True, False, True, False, True, False, True, False, True, False]\n",
     "name": "stdout"
    }
   ]
  },
  {
   "metadata": {
    "trusted": false
   },
   "id": "f1363e7e",
   "cell_type": "code",
   "source": "def even3(n):    return (n % 2 == 0)\n    \nprint([even3(i) for i in range(10)])",
   "execution_count": 1,
   "outputs": [
    {
     "output_type": "stream",
     "text": "[True, False, True, False, True, False, True, False, True, False]\n",
     "name": "stdout"
    }
   ]
  },
  {
   "metadata": {},
   "id": "e0941555",
   "cell_type": "markdown",
   "source": ""
  },
  {
   "metadata": {
    "trusted": false
   },
   "id": "b6ade440",
   "cell_type": "code",
   "source": "# Example of function definition and for loops\n\ndef character_in_the_string(s, c):\n    \"\"\" Returns true if character c is in the string s \"\"\"\n    for b in s: # What items are iterable?\n        if b == c:\n            return True\n    return False\n\ncharacter_in_the_string(\"hello and welcome to the exam\", \"z\")",
   "execution_count": 2,
   "outputs": [
    {
     "output_type": "execute_result",
     "execution_count": 2,
     "data": {
      "text/plain": "False"
     },
     "metadata": {}
    }
   ]
  },
  {
   "metadata": {
    "trusted": false
   },
   "id": "eb30291f",
   "cell_type": "code",
   "source": "{ char:character_in_the_string(\"hello and welcome to the exam\", char) for char in \"abcd\"}",
   "execution_count": 5,
   "outputs": [
    {
     "output_type": "execute_result",
     "execution_count": 5,
     "data": {
      "text/plain": "{'a': True, 'b': False, 'c': True, 'd': True}"
     },
     "metadata": {}
    }
   ]
  },
  {
   "metadata": {
    "trusted": false
   },
   "id": "56b05b39",
   "cell_type": "code",
   "source": "{ char:character_in_the_string( {'a','b','c'}, char) for char in \"abcd\"}",
   "execution_count": 4,
   "outputs": [
    {
     "output_type": "execute_result",
     "execution_count": 4,
     "data": {
      "text/plain": "{'a': True, 'b': True, 'c': True, 'd': False}"
     },
     "metadata": {}
    }
   ]
  },
  {
   "metadata": {
    "trusted": false
   },
   "id": "0fb38c22",
   "cell_type": "code",
   "source": "# CHALLENGE: Recursion\n\n# Write a recursive version of character_in_the_string from the last code block:\n\ndef character_in_the_string_recursive(s, c):\n    print(s)\n    ...\n    # somewhere you might call character_in_the_string_recursive( s[1:], c)\n            \nprint(character_in_the_string_recursive(\"hello and welcome to the exam\", \"o\"))\n\n",
   "execution_count": 7,
   "outputs": [
    {
     "output_type": "stream",
     "text": "hello and welcome to the exam\nello and welcome to the exam\nllo and welcome to the exam\nlo and welcome to the exam\no and welcome to the exam\nTrue\n",
     "name": "stdout"
    }
   ]
  },
  {
   "metadata": {
    "trusted": false
   },
   "id": "203b3dc9",
   "cell_type": "code",
   "source": "# equivalent to above\nprint(sorted(z, key=abs))",
   "execution_count": 27,
   "outputs": [
    {
     "name": "stdout",
     "output_type": "stream",
     "text": "[2, -3, 4, 5, 7, -7, 10]\n"
    }
   ]
  },
  {
   "metadata": {},
   "id": "138ad548",
   "cell_type": "markdown",
   "source": "# Modules"
  },
  {
   "metadata": {
    "trusted": false
   },
   "id": "e7bff13a",
   "cell_type": "code",
   "source": "## Modules\n\nimport random # imports the random module into the namespace\nprint(random.random()) # Print a random number between 0 and 1, I need to import the module\n# random to be able to refer to random.random()\n\n\nfrom random import randint  # Brings randint into the namespace from the random module\nprint(randint(0, 10)) # Use randint to get a randome number between 0 and 10\n\n\nfrom random import randint as random_integer\nprint(random_integer(0, 10)) # Same as before, but now I'm calling the function random_integer",
   "execution_count": 21,
   "outputs": [
    {
     "name": "stdout",
     "output_type": "stream",
     "text": "0.2870958419854919\n3\n2\n"
    }
   ]
  },
  {
   "metadata": {},
   "id": "76329bcd",
   "cell_type": "markdown",
   "source": "# File Input/Output"
  },
  {
   "metadata": {
    "trusted": false
   },
   "id": "f01408db",
   "cell_type": "code",
   "source": "## Files\n## Write 10 random integers into a file \n\nimport random\n\n# Make the 10 random numbers\nrand_nums = [ random.randint(1, 10) for i in range(10)]\nprint(rand_nums)\n\n# Write the numbers in a file\nfile_name = \"temp.txt\"\nwith open(file_name, \"w\") as file_handle:\n    for i in rand_nums: \n        # Write each number of a new line\n        file_handle.write(f\"{i}\\n\")",
   "execution_count": 7,
   "outputs": [
    {
     "output_type": "stream",
     "text": "[10, 8, 9, 2, 7, 10, 6, 2, 9, 3]\n",
     "name": "stdout"
    }
   ]
  },
  {
   "metadata": {
    "trusted": false
   },
   "id": "445797b8",
   "cell_type": "code",
   "source": "## Files: \n# read those numbers back in\n                \n# Read the numbers from the file\nrand_nums_2 = [] # Intitially an empty list that we'll put the numbers in\nwith open(file_name, \"r\") as file_handle:\n    for line in file_handle: # This for loop will return successive lines of the file\n        rand_nums_2.append(int(line))\n\nprint(rand_nums_2)\nassert rand_nums == rand_nums_2",
   "execution_count": 8,
   "outputs": [
    {
     "output_type": "stream",
     "text": "[10, 8, 9, 2, 7, 10, 6, 2, 9, 3]\n",
     "name": "stdout"
    }
   ]
  },
  {
   "metadata": {},
   "id": "3fb40560",
   "cell_type": "markdown",
   "source": "# Operating System"
  },
  {
   "metadata": {
    "trusted": false
   },
   "id": "54e18534",
   "cell_type": "code",
   "source": "import os\n\nprint(os.listdir(os.getcwd())) \n# Print all files in the current working directory",
   "execution_count": 8,
   "outputs": [
    {
     "output_type": "stream",
     "text": "['L03 More Types.ipynb', 'L15 More Functions and Recursion.ipynb', 'L11 Files.ipynb', 'L09 Tuples, Lists and Dictionaries.ipynb', 'myadder.py', 'out.txt', 'unbitly', 'test2.txt', 'L07 Functions Continued.ipynb', 'fasta.fa', 'L14 Inheritance.ipynb', 'Mortality', 'L18 Data Science .ipynb', 'L06 Functions.ipynb', 'node_modules', 'new_directory', 'alice_in_wonderland.txt', 'L16 Exceptions and Unit Testing.ipynb', '__pycache__', 'L02 Variables and Expressions.ipynb', 'L05 Loops.ipynb', 'temp.txt', 'package-lock.json', 'package.json', 'before-lecture', 'figures', 'L10 Modules.ipynb', 'L08 Strings.ipynb', 'test.txt', '.ipynb_checkpoints', 'sum.py', 'Lzz Review.ipynb', 'zhivago.txt', 'L01 Intro.ipynb', 'L04 Conditionals and Branching.ipynb', 'data', 'L17 Search Algorithms.ipynb', 'L13 Classes and Polymorphism.ipynb', 'cancer_data.csv', 'L12 Classes and Objects.ipynb', 'local.txt']\n",
     "name": "stdout"
    }
   ]
  },
  {
   "metadata": {},
   "id": "b540d156",
   "cell_type": "markdown",
   "source": "# Classes"
  },
  {
   "metadata": {
    "trusted": false
   },
   "id": "cce50c96",
   "cell_type": "code",
   "source": "# Classes\n\n## Create a Plant class \n# whose __init__ takes an name argument and a likes_sun boolean variable\"\nclass Plant:\n    def __init__(self, plant_name, likes_sun=True):\n        self.plant_name = plant_name # Create object (aka instance) variables \n        self.likes_sun  = likes_sun\n    def __str__(self):\n        return f'Plant {self.plant_name} likes {\"sun\" if self.likes_sun else \"shade\"}'\n\n# Make objects (aka instances) of the classes\nrose = Plant(\"Rock Rose\")\nprint(rose)\n",
   "execution_count": 9,
   "outputs": [
    {
     "output_type": "stream",
     "text": "Plant Rock Rose likes sun\n",
     "name": "stdout"
    }
   ]
  },
  {
   "metadata": {
    "trusted": false
   },
   "id": "7653b0c9",
   "cell_type": "code",
   "source": "# Inheritance \n\nclass Cactus(Plant):  # Class Cactus is child of parent Plant\n    def __init__(self, plant_name, how_often_do_you_water_per_week=1):\n        # Call init method of superclass Plant\n        super().__init__(plant_name, likes_sun=True)       \n        # Plant.__init__(self, plant_name, sun_not_shade=True) # Equivalent to above\n        self.how_often_do_you_water_per_week = how_often_do_you_water_per_week\n\n# Make objects (aka instances) of the classes\nprickly_pear = Cactus(\"Prickly Pear\", 1)\nprint(prickly_pear)             \n\n# Challenge: make this nicer with __str__ method",
   "execution_count": 10,
   "outputs": [
    {
     "output_type": "stream",
     "text": "Plant Prickly Pear likes sun\n",
     "name": "stdout"
    }
   ]
  },
  {
   "metadata": {},
   "id": "d7dda8d3",
   "cell_type": "markdown",
   "source": "# Exceptions"
  },
  {
   "metadata": {
    "trusted": false
   },
   "id": "48dfc274",
   "cell_type": "code",
   "source": "# Exceptions\n\n## Ask the user to input a name from a list of options, repeating the request until a valid \n## option is input\n\ncars = { \"Toyota\":10900, \"VW\": 34000, \"BMW\":53000}  \n\nwhile True:\n    try:\n        print(\"Car options:\", list(cars.keys()))\n        car = input(\"Please input a make of car: \")\n        if car not in cars:\n            raise ValueError()  # create a custom exception via ValueError() and raise it\n        break # Stop looping as car is ok\n    except ValueError: # Catch a ValueError\n        print(\"Not a recognized car make, try again\")\n        \nprint(f\"The cost of a {car} is {cars[car]}\")\n\n# Challenge: Re-write this code without exceptions",
   "execution_count": 13,
   "outputs": [
    {
     "output_type": "stream",
     "text": "Car options: ['Toyota', 'VW', 'BMW']\nPlease input a make of car: vw\nNot a recognized car make, try again\nCar options: ['Toyota', 'VW', 'BMW']\nPlease input a make of car: VW\nThe cost of a VW is 34000\n",
     "name": "stdout"
    }
   ]
  },
  {
   "metadata": {
    "trusted": false
   },
   "id": "d4aacbf2",
   "cell_type": "code",
   "source": "# More on functions\n\ndef applyTwice( f, x  ):\n    return f(f(x))             # becomes double( double( 3 ) )\n\ndef double(y): return y*2\n\napplyTwice( double, 3 )",
   "execution_count": 16,
   "outputs": [
    {
     "output_type": "execute_result",
     "execution_count": 16,
     "data": {
      "text/plain": "12"
     },
     "metadata": {}
    }
   ]
  },
  {
   "metadata": {},
   "id": "797b2962",
   "cell_type": "markdown",
   "source": "## Topics to make sure you review\n\n* Strings, slicing, indexing etc\n* f-strings and formatting, eg {n:...}\n* Dictionaries, lists, sets, tuples\n* File IO\n* Classes, and Operator overloading of +, * etc\n* Exceptions, try ... except ...\n* Everything else covered in lectures\n\nFinally, please fill out the Student Evaluation of Teaching on Canvas!"
  }
 ],
 "metadata": {
  "kernelspec": {
   "name": "python3",
   "display_name": "Python 3",
   "language": "python"
  },
  "language_info": {
   "name": "python",
   "version": "3.10.4",
   "mimetype": "text/x-python",
   "codemirror_mode": {
    "name": "ipython",
    "version": 3
   },
   "pygments_lexer": "ipython3",
   "nbconvert_exporter": "python",
   "file_extension": ".py"
  }
 },
 "nbformat": 4,
 "nbformat_minor": 5
}