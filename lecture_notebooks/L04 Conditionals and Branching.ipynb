{
 "cells": [
  {
   "metadata": {
    "id": "Uz6CuQUwlUsK",
    "slideshow": {
     "slide_type": "slide"
    }
   },
   "cell_type": "markdown",
   "source": "# Lecture 4 - Conditionals and Branching \n\n# Warm-Up Challenge"
  },
  {
   "metadata": {
    "execution": {
     "iopub.execute_input": "2022-09-23T00:20:05.587375Z",
     "iopub.status.busy": "2022-09-23T00:20:05.586654Z",
     "iopub.status.idle": "2022-09-23T00:20:05.592848Z",
     "shell.execute_reply": "2022-09-23T00:20:05.592160Z"
    },
    "slideshow": {
     "slide_type": "fragment"
    },
    "trusted": true
   },
   "cell_type": "code",
   "source": "# Write code to input someone's age\n# and print out what year they will become a centenarian (age 100)\n",
   "execution_count": null,
   "outputs": []
  },
  {
   "metadata": {
    "execution": {
     "iopub.execute_input": "2022-09-23T00:20:05.587375Z",
     "iopub.status.busy": "2022-09-23T00:20:05.586654Z",
     "iopub.status.idle": "2022-09-23T00:20:05.592848Z",
     "shell.execute_reply": "2022-09-23T00:20:05.592160Z"
    },
    "slideshow": {
     "slide_type": "fragment"
    },
    "trusted": true
   },
   "cell_type": "code",
   "source": "# Write code to input someone's age\n# and print out if they are over 21\n",
   "execution_count": 1,
   "outputs": []
  },
  {
   "metadata": {
    "id": "vE5fhwAet5B6",
    "slideshow": {
     "slide_type": "slide"
    }
   },
   "cell_type": "markdown",
   "source": "# If statements\n\nJust like reading a book,  \nPython reads each line of code in turn,  \nupdating it's memory with variables and definitions. \n\nThe flow is not necessarily linear through the lines of code,  \nthe program can skip lines and jump around using \"conditionals\" "
  },
  {
   "metadata": {
    "id": "GUovzl4O6lqn",
    "slideshow": {
     "slide_type": "slide"
    }
   },
   "cell_type": "markdown",
   "source": "# If statements\n\nThe if statement decides to do something based on the result of a logical expression.\n\n<img src=\"https://raw.githubusercontent.com/cormacflanagan/intro_python/main/lecture_notebooks/figures/graffles/if.jpg\" width=400 height=400 />\n\n"
  },
  {
   "metadata": {
    "colab": {
     "base_uri": "https://localhost:8080/",
     "height": 52
    },
    "execution": {
     "iopub.execute_input": "2022-09-23T00:20:05.476865Z",
     "iopub.status.busy": "2022-09-23T00:20:05.475924Z",
     "iopub.status.idle": "2022-09-23T00:20:05.479256Z",
     "shell.execute_reply": "2022-09-23T00:20:05.481100Z"
    },
    "executionInfo": {
     "elapsed": 483,
     "status": "ok",
     "timestamp": 1570142288296,
     "user": {
      "displayName": "Benedict Paten",
      "photoUrl": "https://lh3.googleusercontent.com/a-/AAuE7mBMnWy8dDR7jyTHNy9tPaRx6DCyA3QKrIcuQ7R4=s64",
      "userId": "06399644931392855882"
     },
     "user_tz": 420
    },
    "id": "B6fK-_sU6lqo",
    "outputId": "ae318066-ae9b-4d66-d837-e68b288f689e",
    "slideshow": {
     "slide_type": "subslide"
    },
    "trusted": false
   },
   "cell_type": "code",
   "source": "age = int(input(\"Age? \"))\n\nif age >= 21:\n  print(\"Alcohol is legal\")\n\nprint(\"Soft drinks are fine too\")\nprint(\"Water is the best!\")\n",
   "execution_count": null,
   "outputs": []
  },
  {
   "metadata": {
    "slideshow": {
     "slide_type": "slide"
    },
    "trusted": false
   },
   "cell_type": "code",
   "source": "# The general structure of an if statement is:\n\nif expression:\n  statement\n  statement\n  ...\n\nmore statements\n",
   "execution_count": null,
   "outputs": []
  },
  {
   "metadata": {
    "id": "VaBVgBIT_7uD",
    "slideshow": {
     "slide_type": "fragment"
    }
   },
   "cell_type": "markdown",
   "source": "You read the above as \"if expression is True\" then execute the \"statement block\", which is composed of one or more indented lines. After the if, regardless of if the expression is true the program continues executing more statements.\n\n**Critically note the indent of the statement block - only stuff indented by a tab width will get run.**"
  },
  {
   "metadata": {
    "slideshow": {
     "slide_type": "subslide"
    }
   },
   "cell_type": "markdown",
   "source": "# Challenge 1"
  },
  {
   "metadata": {
    "execution": {
     "iopub.execute_input": "2022-09-23T00:20:05.488760Z",
     "iopub.status.busy": "2022-09-23T00:20:05.487842Z",
     "iopub.status.idle": "2022-09-23T00:20:05.559783Z",
     "shell.execute_reply": "2022-09-23T00:20:05.560435Z"
    },
    "slideshow": {
     "slide_type": "fragment"
    },
    "trusted": true
   },
   "cell_type": "code",
   "source": "# You have 50 square feet of tiles\n# Write code to input the width and length of a room,\n# and print out \"OK!\" if there are enough tiles to cover the floor.\n\nwidth  = float(input(\"Input width: \"))\nlength = float(input(\"Input length: \"))\n",
   "execution_count": null,
   "outputs": []
  },
  {
   "metadata": {
    "id": "HQ6_JVLQxXdk",
    "slideshow": {
     "slide_type": "slide"
    }
   },
   "cell_type": "markdown",
   "source": "# Else\n\nElse is the partner of if:\n\n<img src=\"https://raw.githubusercontent.com/cormacflanagan/intro_python/main/lecture_notebooks/figures/graffles/if%3Aelse.jpg\" width=400 height=400 />\n\nWe can use if/else to control flow - choosing to do one thing or the other\n"
  },
  {
   "metadata": {
    "colab": {
     "base_uri": "https://localhost:8080/"
    },
    "execution": {
     "iopub.execute_input": "2022-09-23T00:20:05.565468Z",
     "iopub.status.busy": "2022-09-23T00:20:05.564530Z",
     "iopub.status.idle": "2022-09-23T00:20:05.571918Z",
     "shell.execute_reply": "2022-09-23T00:20:05.572634Z"
    },
    "executionInfo": {
     "elapsed": 14309,
     "status": "ok",
     "timestamp": 1607538910708,
     "user": {
      "displayName": "Benedict Paten",
      "photoUrl": "https://lh3.googleusercontent.com/a-/AOh14Gh2rYrrH6yoNnUp0Oj4p4ouybc6ZcWGyPmKFtIY=s64",
      "userId": "06399644931392855882"
     },
     "user_tz": 480
    },
    "id": "KZI1QLl96lqr",
    "outputId": "6b9884e3-4ebc-4bc7-d9bc-fb2ac43cc497",
    "slideshow": {
     "slide_type": "subslide"
    },
    "trusted": true
   },
   "cell_type": "code",
   "source": "# Extend the above code to print out more clearly if there are \n# enough tiles to cover the floor\n",
   "execution_count": null,
   "outputs": []
  },
  {
   "metadata": {
    "execution": {
     "iopub.execute_input": "2022-09-23T00:20:05.577782Z",
     "iopub.status.busy": "2022-09-23T00:20:05.576855Z",
     "iopub.status.idle": "2022-09-23T00:20:05.579789Z",
     "shell.execute_reply": "2022-09-23T00:20:05.580604Z"
    },
    "id": "ELOHTigjyhMt",
    "slideshow": {
     "slide_type": "subslide"
    },
    "trusted": false
   },
   "cell_type": "code",
   "source": "# The general structure of an if/else statement is:\n\nif expression:\n  statement block1\nelse:\n  statement block2\n",
   "execution_count": null,
   "outputs": []
  },
  {
   "metadata": {
    "slideshow": {
     "slide_type": "subslide"
    }
   },
   "cell_type": "markdown",
   "source": "# Challenge 2"
  },
  {
   "metadata": {
    "execution": {
     "iopub.execute_input": "2022-09-23T00:20:05.587375Z",
     "iopub.status.busy": "2022-09-23T00:20:05.586654Z",
     "iopub.status.idle": "2022-09-23T00:20:05.592848Z",
     "shell.execute_reply": "2022-09-23T00:20:05.592160Z"
    },
    "slideshow": {
     "slide_type": "fragment"
    },
    "trusted": false
   },
   "cell_type": "code",
   "source": "x = float(input(\"Input a weight in grams: \"))\ny = input(\"Enter 'kilos' or 'pounds': \")\n\n# Write an if/else statement such that \n# if y equals 'kilos' print the input weight in kilograms \n# else print the weight in lbs\n# There are 1000 grams in a kilogram, \n# there are 453.592 grams in a pound.\n\n",
   "execution_count": 1,
   "outputs": [
    {
     "output_type": "stream",
     "name": "stdout",
     "text": "Input a weight in grams: 10\nEnter 'kilos' or 'pounds': Pounds\n"
    }
   ]
  },
  {
   "metadata": {
    "id": "N48eQTsU-33z",
    "slideshow": {
     "slide_type": "slide"
    }
   },
   "cell_type": "markdown",
   "source": "# Else and elif\n\nElif is the partner of if and else:\n\n<img src=\"https://raw.githubusercontent.com/cormacflanagan/intro_python/main/lecture_notebooks/figures/graffles/if%3Aelif%3Aelse.jpg\" width=400 height=400 />\n"
  },
  {
   "metadata": {
    "colab": {
     "base_uri": "https://localhost:8080/"
    },
    "execution": {
     "iopub.execute_input": "2022-09-23T00:20:05.598833Z",
     "iopub.status.busy": "2022-09-23T00:20:05.598086Z",
     "iopub.status.idle": "2022-09-23T00:20:05.605834Z",
     "shell.execute_reply": "2022-09-23T00:20:05.606523Z"
    },
    "executionInfo": {
     "elapsed": 19064,
     "status": "ok",
     "timestamp": 1607539084982,
     "user": {
      "displayName": "Benedict Paten",
      "photoUrl": "https://lh3.googleusercontent.com/a-/AOh14Gh2rYrrH6yoNnUp0Oj4p4ouybc6ZcWGyPmKFtIY=s64",
      "userId": "06399644931392855882"
     },
     "user_tz": 480
    },
    "id": "G3r0A_6A6lqu",
    "outputId": "06a1d65b-b538-4f6a-bf51-c6c209b5b167",
    "slideshow": {
     "slide_type": "subslide"
    },
    "trusted": false
   },
   "cell_type": "code",
   "source": "# If, else and elif\n\nx = float(input(\"What's your favorite number? : \"))\n\nif x == 7:\n  print(\"We have the same favorite number!\")\nelif x < 2:\n  print(\"Your favorite number is way less than mine\")\nelif x < 7:\n  print(\"Your favorite number is less than mine\")\nelse:\n  print(\"Your favorite number is greater than mine\")\n  ",
   "execution_count": null,
   "outputs": []
  },
  {
   "metadata": {
    "id": "79QIBoDX6lqz",
    "slideshow": {
     "slide_type": "subslide"
    }
   },
   "cell_type": "markdown",
   "source": "* Note: You can string together if, elif and else to have control determined by multiple chaining expressions"
  },
  {
   "metadata": {
    "execution": {
     "iopub.execute_input": "2022-09-23T00:20:05.612345Z",
     "iopub.status.busy": "2022-09-23T00:20:05.611293Z",
     "iopub.status.idle": "2022-09-23T00:20:05.616589Z",
     "shell.execute_reply": "2022-09-23T00:20:05.617434Z"
    },
    "id": "qzOPIrG7zAIL",
    "slideshow": {
     "slide_type": "fragment"
    },
    "trusted": false
   },
   "cell_type": "code",
   "source": "# The general structure of an if/elif/else statement is:\n\nif expression:\n  statement block1\nelif expression2:\n  statement block2 \nelif expression3:\n  ...\nelse:\n  statement blockN\n",
   "execution_count": null,
   "outputs": []
  },
  {
   "metadata": {
    "slideshow": {
     "slide_type": "subslide"
    }
   },
   "cell_type": "markdown",
   "source": "# Challenge 3"
  },
  {
   "metadata": {
    "execution": {
     "iopub.execute_input": "2022-09-23T00:20:05.625918Z",
     "iopub.status.busy": "2022-09-23T00:20:05.624843Z",
     "iopub.status.idle": "2022-09-23T00:20:05.633096Z",
     "shell.execute_reply": "2022-09-23T00:20:05.633934Z"
    },
    "trusted": false
   },
   "cell_type": "code",
   "source": "x = float(input(\"Input a weight in grams: \"))\ny = input(\"Enter 'kilos', 'pounds', 'ounces' or 'tons': \")\n\n# Modify the program you wrote in challenge 2 to print the desired weight\n# There are 1000 grams in a kilogram\n# there are 453.592 grams in a pound.\n# there are 28.3495 grams in an ounce\n# there are 907185 grams in a ton\n# if the user does not correctly input either \n# 'kilos', 'pounds', 'ounces' or 'tons' \n# print \"unknown unit, sorry\"\n\n",
   "execution_count": 2,
   "outputs": [
    {
     "output_type": "stream",
     "name": "stdout",
     "text": "Input a weight in grams: 10\nEnter 'kilos', 'pounds', 'ounces' or 'tons': pounds\n"
    }
   ]
  },
  {
   "metadata": {
    "id": "Uy6j31wLA5E3",
    "slideshow": {
     "slide_type": "slide"
    }
   },
   "cell_type": "markdown",
   "source": "# Nested conditionals"
  },
  {
   "metadata": {
    "colab": {
     "base_uri": "https://localhost:8080/"
    },
    "execution": {
     "iopub.execute_input": "2022-09-23T00:20:05.639736Z",
     "iopub.status.busy": "2022-09-23T00:20:05.638649Z",
     "iopub.status.idle": "2022-09-23T00:20:05.647698Z",
     "shell.execute_reply": "2022-09-23T00:20:05.647050Z"
    },
    "executionInfo": {
     "elapsed": 4263,
     "status": "ok",
     "timestamp": 1607539159638,
     "user": {
      "displayName": "Benedict Paten",
      "photoUrl": "https://lh3.googleusercontent.com/a-/AOh14Gh2rYrrH6yoNnUp0Oj4p4ouybc6ZcWGyPmKFtIY=s64",
      "userId": "06399644931392855882"
     },
     "user_tz": 480
    },
    "id": "wuj_LMwIa3M2",
    "outputId": "d0306f6f-8bc8-475d-ac2c-f08141e3919c",
    "slideshow": {
     "slide_type": "fragment"
    },
    "trusted": false
   },
   "cell_type": "code",
   "source": "# Consider the following if/elif/else block\n\nx = float(input(\"Give me a number? : \"))\n\nif x < 0:\n    print(\"x is negative\")\nelif x == 0:\n    print(\"x is zero\")\nelse:\n    print(\"x is positive\")",
   "execution_count": 2,
   "outputs": [
    {
     "output_type": "stream",
     "name": "stdout",
     "text": "Give me a number? : 1\nx is positive\n"
    }
   ]
  },
  {
   "metadata": {
    "colab": {
     "base_uri": "https://localhost:8080/"
    },
    "execution": {
     "iopub.execute_input": "2022-09-23T00:20:05.653723Z",
     "iopub.status.busy": "2022-09-23T00:20:05.652753Z",
     "iopub.status.idle": "2022-09-23T00:20:05.660245Z",
     "shell.execute_reply": "2022-09-23T00:20:05.660988Z"
    },
    "executionInfo": {
     "elapsed": 5650,
     "status": "ok",
     "timestamp": 1607539207669,
     "user": {
      "displayName": "Benedict Paten",
      "photoUrl": "https://lh3.googleusercontent.com/a-/AOh14Gh2rYrrH6yoNnUp0Oj4p4ouybc6ZcWGyPmKFtIY=s64",
      "userId": "06399644931392855882"
     },
     "user_tz": 480
    },
    "id": "EkL6WUVCrMgC",
    "outputId": "8730049d-331e-4738-9a20-136902516d76",
    "slideshow": {
     "slide_type": "subslide"
    },
    "trusted": false
   },
   "cell_type": "code",
   "source": "# You can achieve the same with nested if statements:\n\n# Consider the following if/elif/else block\n\nx = float(input(\"Give me a number? : \"))\n\nif x < 0:\n    print(\"x is negative\")\nelse:\n    if x == 0:\n        print(\"x is zero\")\n    else:\n        print(\"x is positive\")",
   "execution_count": 3,
   "outputs": [
    {
     "output_type": "stream",
     "name": "stdout",
     "text": "Give me a number? : 1\nx is positive\n"
    }
   ]
  },
  {
   "metadata": {
    "id": "QKLjfm0nBAVA",
    "slideshow": {
     "slide_type": "fragment"
    }
   },
   "cell_type": "markdown",
   "source": "The if/elif/else version is clearer and easier to read (so better, IMO).\n\nIn general, nesting allows more varied and complex control flow."
  },
  {
   "metadata": {
    "id": "6DuN8AbvBfEv",
    "slideshow": {
     "slide_type": "slide"
    }
   },
   "cell_type": "markdown",
   "source": "# Inline conditionals\n\nJust as in natural languages, Python has short hand abbreviations, like we saw with abbreviated assignment.\n\nInline conditionals are \"syntatic sugar\", a shorthand for doing conditional evaluation on one line."
  },
  {
   "metadata": {
    "colab": {
     "base_uri": "https://localhost:8080/"
    },
    "execution": {
     "iopub.execute_input": "2022-09-23T00:20:05.667893Z",
     "iopub.status.busy": "2022-09-23T00:20:05.666939Z",
     "iopub.status.idle": "2022-09-23T00:20:05.669884Z",
     "shell.execute_reply": "2022-09-23T00:20:05.670331Z"
    },
    "executionInfo": {
     "elapsed": 340,
     "status": "ok",
     "timestamp": 1607539463026,
     "user": {
      "displayName": "Benedict Paten",
      "photoUrl": "https://lh3.googleusercontent.com/a-/AOh14Gh2rYrrH6yoNnUp0Oj4p4ouybc6ZcWGyPmKFtIY=s64",
      "userId": "06399644931392855882"
     },
     "user_tz": 480
    },
    "id": "uUfU9TWy6lq0",
    "outputId": "8ede0ef2-94fe-43b2-c775-b24232b083ad",
    "slideshow": {
     "slide_type": "fragment"
    },
    "trusted": false
   },
   "cell_type": "code",
   "source": "import random # Allows us to call random.random() function\n# (don't worry, we'll cover this later)\n\n# Consider picking a random flip of a coin...\nif random.random() > 0.5:\n  x = \"heads\"\nelse:\n  x = \"tails\"\n\n# This if/else structure can be written \"inline\"\nx = \"heads\" if random.random() > 0.5 else \"tails\"\n\nprint(x)",
   "execution_count": 2,
   "outputs": [
    {
     "output_type": "stream",
     "text": "heads\n",
     "name": "stdout"
    }
   ]
  },
  {
   "metadata": {
    "id": "bJcwPSeE75es",
    "slideshow": {
     "slide_type": "slide"
    }
   },
   "cell_type": "markdown",
   "source": "# Pass\n\nSometimes, when you're writing code you want a placeholder statement - use pass"
  },
  {
   "metadata": {
    "execution": {
     "iopub.execute_input": "2022-09-23T00:20:05.675300Z",
     "iopub.status.busy": "2022-09-23T00:20:05.674032Z",
     "iopub.status.idle": "2022-09-23T00:20:05.676582Z",
     "shell.execute_reply": "2022-09-23T00:20:05.677112Z"
    },
    "id": "OxcP-RfCCMSK",
    "slideshow": {
     "slide_type": "fragment"
    },
    "trusted": false
   },
   "cell_type": "code",
   "source": "x = int(input())\n\nif x > 0:\n  pass # What to do with positive x is TBD\nelse:\n  print(\"Error, input was negative\")\n",
   "execution_count": 1,
   "outputs": [
    {
     "output_type": "stream",
     "name": "stdout",
     "text": "-1\nError, input was negative\n"
    }
   ]
  },
  {
   "metadata": {
    "id": "ftjUa2adLc5_",
    "slideshow": {
     "slide_type": "slide"
    }
   },
   "cell_type": "markdown",
   "source": "# While \n\nThe while statement is the first looping statement we're going to see.\n\nThe basic idea is that it may be useful to repeatedly execute a statement block \nto progressively update the state of the program.\n\n<img src=\"https://raw.githubusercontent.com/cormacflanagan/intro_python/main/lecture_notebooks/figures/graffles/while.jpg\" width=400 height=400 />"
  },
  {
   "metadata": {
    "execution": {
     "iopub.execute_input": "2022-09-23T00:20:05.682462Z",
     "iopub.status.busy": "2022-09-23T00:20:05.681693Z",
     "iopub.status.idle": "2022-09-23T00:20:05.684786Z",
     "shell.execute_reply": "2022-09-23T00:20:05.685307Z"
    },
    "id": "ir-G5cOq5MT_",
    "slideshow": {
     "slide_type": "subslide"
    }
   },
   "cell_type": "markdown",
   "source": "## The while statement has the general structure:\n```\nwhile expression:\n  statements\n  statements\n  \nmore stuff after the while\n```"
  },
  {
   "metadata": {},
   "cell_type": "markdown",
   "source": "Let's look at this carefully:\n\nTo get this flow into your head think about a curser moving through the\nprogram from top-to-bottom going back to the top of loop at the end \nof each loop of the while. In effect, you can unroll the flow in your head:\n\nUnrolling the code shows we could have explicitly done the same thing without a loop, but it's very repetitive and long and if we want to change the value of i that we count up to we have to edit many lines of code:\n"
  },
  {
   "metadata": {
    "execution": {
     "iopub.execute_input": "2022-09-23T00:20:05.682462Z",
     "iopub.status.busy": "2022-09-23T00:20:05.681693Z",
     "iopub.status.idle": "2022-09-23T00:20:05.684786Z",
     "shell.execute_reply": "2022-09-23T00:20:05.685307Z"
    },
    "id": "ir-G5cOq5MT_",
    "slideshow": {
     "slide_type": "subslide"
    }
   },
   "cell_type": "markdown",
   "source": "# While Loops"
  },
  {
   "metadata": {
    "trusted": false
   },
   "cell_type": "code",
   "source": "\n# Write a program to print out the first 5 squares, version 1\n\nprint(1**2)\nprint(2**2)\nprint(3**2)\nprint(4**2)\nprint(5**2)",
   "execution_count": 3,
   "outputs": [
    {
     "name": "stdout",
     "output_type": "stream",
     "text": "1\n4\n9\n16\n25\n"
    }
   ]
  },
  {
   "metadata": {
    "trusted": false
   },
   "cell_type": "code",
   "source": "\n# Write a program to print out the first 5 squares, version 2\nn = 1\n\nprint(n**2)\nn = n + 1\n\nprint(n**2)\nn = n + 1\n\nprint(n**2)\nn = n + 1\n\nprint(n**2)\nn = n + 1\n\nprint(n**2)\nn = n + 1\n\nprint(\"Bye, n is\", n)",
   "execution_count": 1,
   "outputs": [
    {
     "output_type": "stream",
     "text": "1\n4\n9\n16\n25\nBye, n is 6\n",
     "name": "stdout"
    }
   ]
  },
  {
   "metadata": {
    "trusted": false
   },
   "cell_type": "code",
   "source": "# Write a program to print out the first 5 squares, version 3\nn = 1\n\n# Repeat the following block of code 5 times please\n# Repeat the following block of code as long as (n <= 5)\n\nwhile n <= 5:\n\n    print(n**2)\n    n = n + 1\n\n    \nprint(\"Bye, n is\", n)",
   "execution_count": 2,
   "outputs": [
    {
     "output_type": "stream",
     "text": "1\n4\n9\n16\n25\nBye, n is 6\n",
     "name": "stdout"
    }
   ]
  },
  {
   "metadata": {
    "slideshow": {
     "slide_type": "subslide"
    }
   },
   "cell_type": "markdown",
   "source": "# Challenge 4"
  },
  {
   "metadata": {
    "execution": {
     "iopub.execute_input": "2022-09-23T00:20:05.724571Z",
     "iopub.status.busy": "2022-09-23T00:20:05.723748Z",
     "iopub.status.idle": "2022-09-23T00:20:05.727624Z",
     "shell.execute_reply": "2022-09-23T00:20:05.728172Z"
    },
    "slideshow": {
     "slide_type": "fragment"
    },
    "trusted": false
   },
   "cell_type": "code",
   "source": "x = input(\"Enter a mantra: \")\ny = int(input(\"How many times do you want me to repeat it? : \"))\n\n# Write code to print x y times\n",
   "execution_count": 5,
   "outputs": [
    {
     "output_type": "stream",
     "name": "stdout",
     "text": "Enter a mantra: Peace\nHow many times do you want me to repeat it? : 10\n"
    }
   ]
  },
  {
   "metadata": {
    "slideshow": {
     "slide_type": "slide"
    }
   },
   "cell_type": "markdown",
   "source": "# Example: summing the first 100 integers"
  },
  {
   "metadata": {
    "trusted": false
   },
   "cell_type": "code",
   "source": "# n(n+1)/2\nsum = 0\nn = 0\nwhile n <= 100:\n    sum = sum + n\n    n = n + 1\nprint(sum)\n",
   "execution_count": 12,
   "outputs": [
    {
     "name": "stdout",
     "output_type": "stream",
     "text": "5050\n"
    }
   ]
  },
  {
   "metadata": {
    "slideshow": {
     "slide_type": "slide"
    }
   },
   "cell_type": "markdown",
   "source": "# Example: summing odd integers"
  },
  {
   "metadata": {
    "trusted": true
   },
   "cell_type": "code",
   "source": "# Calculate the sum of the odd integers < 100\n\nsum = 0\nn = 0\nwhile n <= 100:\n    if n % 2 == 1:\n        sum = sum + n\n    n = n + 1\nprint(sum)",
   "execution_count": 3,
   "outputs": [
    {
     "output_type": "stream",
     "text": "2500\n",
     "name": "stdout"
    }
   ]
  },
  {
   "metadata": {
    "trusted": true
   },
   "cell_type": "code",
   "source": "# Calculate the sum of the odd integers < 100\n\nsum = 0\nn = 1\nwhile n <= 100:\n    sum = sum + n\n    n = n + 2\nprint(sum)\n\n",
   "execution_count": 2,
   "outputs": [
    {
     "output_type": "stream",
     "text": "2500\n",
     "name": "stdout"
    }
   ]
  },
  {
   "metadata": {
    "slideshow": {
     "slide_type": "slide"
    }
   },
   "cell_type": "markdown",
   "source": "# Example: Summing Odd Integers v3"
  },
  {
   "metadata": {
    "colab": {
     "base_uri": "https://localhost:8080/"
    },
    "execution": {
     "iopub.execute_input": "2022-09-23T00:20:05.753542Z",
     "iopub.status.busy": "2022-09-23T00:20:05.750420Z",
     "iopub.status.idle": "2022-09-23T00:20:05.758652Z",
     "shell.execute_reply": "2022-09-23T00:20:05.759400Z"
    },
    "executionInfo": {
     "elapsed": 11137,
     "status": "ok",
     "timestamp": 1607549549001,
     "user": {
      "displayName": "Benedict Paten",
      "photoUrl": "https://lh3.googleusercontent.com/a-/AOh14Gh2rYrrH6yoNnUp0Oj4p4ouybc6ZcWGyPmKFtIY=s64",
      "userId": "06399644931392855882"
     },
     "user_tz": 480
    },
    "id": "HO0xOmC8DzkI",
    "outputId": "c83a044a-fbf2-406b-9ae4-b4a540dcf8b6",
    "slideshow": {
     "slide_type": "fragment"
    },
    "trusted": false
   },
   "cell_type": "code",
   "source": "# Calculate the sum of odd numbered integers in the range x, x+1, x+2, ... y-1\n\nx = int(input(\"Please enter an integer: \"))\ny = int(input(\"Please enter a larger integer: \"))\n\nassert y > x # Check the input is okay\n\nsum = 0 \ni = x\nwhile i < y: # We calculate the sum up to but excluding y\n  if i % 2 == 1: # This conditional is true if i is odd\n    sum += i\n  i += 1\n\nprint(\"Sum of odd integers is\", sum)",
   "execution_count": 1,
   "outputs": [
    {
     "output_type": "stream",
     "name": "stdout",
     "text": "Please enter an integer: 3\nPlease enter a larger integer: 8\nSum of odd integers is 15\n"
    }
   ]
  },
  {
   "metadata": {
    "id": "_KTnjyZqZjs6",
    "slideshow": {
     "slide_type": "fragment"
    }
   },
   "cell_type": "markdown",
   "source": "You should be able to understand the above, if it hasn't stuck yet don't worry, but spend some time \"unrolling\" the code in your head to see how the flow of execution works.\n"
  },
  {
   "metadata": {
    "slideshow": {
     "slide_type": "subslide"
    }
   },
   "cell_type": "markdown",
   "source": "# Challenge 5"
  },
  {
   "metadata": {
    "execution": {
     "iopub.execute_input": "2022-09-23T00:20:05.766467Z",
     "iopub.status.busy": "2022-09-23T00:20:05.765511Z",
     "iopub.status.idle": "2022-09-23T00:20:05.773023Z",
     "shell.execute_reply": "2022-09-23T00:20:05.773556Z"
    },
    "slideshow": {
     "slide_type": "fragment"
    },
    "trusted": false
   },
   "cell_type": "code",
   "source": "x = int(input(\"Please enter an integer: \"))\ny = int(input(\"Please enter a power: \"))\n\n# Write a program to find x**y without using the power operator \n# Compute 1 * x * x * x ... (y times)\n# (hint: using a while loop!). \n# print the resulting number\n\nn = 1\nproduct = 1\n\nwhile ... :\n    ...\n    ...\n    \nprint(product)",
   "execution_count": null,
   "outputs": []
  },
  {
   "metadata": {
    "id": "SCdB4AkyYU2L",
    "slideshow": {
     "slide_type": "slide"
    }
   },
   "cell_type": "markdown",
   "source": "# Trickier Example: Calculating Fibonacci Numbers\n\nWe can use loops to do repetitive, repeating calculations\n\nLet's calculate Fibonacci numbers. \n * The first Fibonacci number is 0 and the second is 1. \n * The ith Fibonacci number is the sum of  the preceding two Fibonacci numbers in the sequence.\n\n\nThe Fibonacci sequence is therefore 0, 1, 1, 2, 3, 5, 8, 13, ..."
  },
  {
   "metadata": {
    "colab": {
     "base_uri": "https://localhost:8080/"
    },
    "execution": {
     "iopub.execute_input": "2022-09-23T00:20:05.736906Z",
     "iopub.status.busy": "2022-09-23T00:20:05.734553Z",
     "iopub.status.idle": "2022-09-23T00:20:05.743986Z",
     "shell.execute_reply": "2022-09-23T00:20:05.744750Z"
    },
    "executionInfo": {
     "elapsed": 3122,
     "status": "ok",
     "timestamp": 1607549176002,
     "user": {
      "displayName": "Benedict Paten",
      "photoUrl": "https://lh3.googleusercontent.com/a-/AOh14Gh2rYrrH6yoNnUp0Oj4p4ouybc6ZcWGyPmKFtIY=s64",
      "userId": "06399644931392855882"
     },
     "user_tz": 480
    },
    "id": "gpLlOyLxOQue",
    "outputId": "5f91215e-77ca-4bf3-f018-e098b322802c",
    "slideshow": {
     "slide_type": "subslide"
    },
    "trusted": true
   },
   "cell_type": "code",
   "source": "# A calculator for Fibonacci numbers\n\nprint(\"Fibonacci number 1 is 0\")\nprint(\"Fibonacci number 2 is 1\")\n\ni = 3\nfibiMinus2 = 0 # The first Fibonacci number\nfibiMinus1 = 1 # The second Fibonacci number\n\nwhile i <= 10:\n  fibi = fibiMinus1 + fibiMinus2  # The ith Fibonacci number\n  print(f\"In the loop, i={i}, fibiMinus1={fibiMinus1}, fibiMinus2={fibiMinus2}, fibi={fibi}\")\n    \n  i = i + 1\n  fibiMinus2 = fibiMinus1\n  fibiMinus1 = fibi\n\nprint(\"Loop ended, i is\",i)",
   "execution_count": 7,
   "outputs": [
    {
     "output_type": "stream",
     "text": "Fibonacci number 1 is 0\nFibonacci number 2 is 1\nIn the loop, i=3, fibiMinus1=1, fibiMinus2=0, fibi=1\nIn the loop, i=4, fibiMinus1=1, fibiMinus2=1, fibi=2\nIn the loop, i=5, fibiMinus1=2, fibiMinus2=1, fibi=3\nIn the loop, i=6, fibiMinus1=3, fibiMinus2=2, fibi=5\nIn the loop, i=7, fibiMinus1=5, fibiMinus2=3, fibi=8\nIn the loop, i=8, fibiMinus1=8, fibiMinus2=5, fibi=13\nIn the loop, i=9, fibiMinus1=13, fibiMinus2=8, fibi=21\nIn the loop, i=10, fibiMinus1=21, fibiMinus2=13, fibi=34\nLoop ended, i is 11\n",
     "name": "stdout"
    }
   ]
  },
  {
   "metadata": {
    "trusted": false
   },
   "cell_type": "code",
   "source": "\nprint(5, end=\"\")\n        \n        \n",
   "execution_count": 2,
   "outputs": [
    {
     "name": "stdout",
     "output_type": "stream",
     "text": "5"
    }
   ]
  },
  {
   "metadata": {
    "id": "f2jTGrfA5kx5",
    "slideshow": {
     "slide_type": "slide"
    }
   },
   "cell_type": "markdown",
   "source": "# Reading\n\n\n# Homework \n\n* ZyBooks\n  * Reading 4\n* http://openbookproject.net/thinkcs/python/english3e/conditionals.html\n  * Chapter 5\n* Attend section, use Learning Support Services, Group tutors as needed!\n\n"
  }
 ],
 "metadata": {
  "celltoolbar": "Slideshow",
  "colab": {
   "collapsed_sections": [],
   "name": "L04 Conditionals and Branching.ipynb",
   "provenance": [
    {
     "file_id": "1kkmlQW4vnBVbvlK3b2I29lUrre_3gD2y",
     "timestamp": 1547248458335
    },
    {
     "file_id": "17GPUwfjMAW-SkqDI2qb9LangNzYzgNH_",
     "timestamp": 1547074807405
    }
   ]
  },
  "kernelspec": {
   "name": "python3",
   "display_name": "Python 3",
   "language": "python"
  },
  "language_info": {
   "name": "python",
   "version": "3.10.4",
   "mimetype": "text/x-python",
   "codemirror_mode": {
    "name": "ipython",
    "version": 3
   },
   "pygments_lexer": "ipython3",
   "nbconvert_exporter": "python",
   "file_extension": ".py"
  }
 },
 "nbformat": 4,
 "nbformat_minor": 1
}