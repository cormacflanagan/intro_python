{
 "cells": [
  {
   "metadata": {
    "id": "f28Xd6z9-lp_",
    "slideshow": {
     "slide_type": "slide"
    }
   },
   "cell_type": "markdown",
   "source": "# Lecture 15 - Functions and Recursion "
  },
  {
   "metadata": {
    "slideshow": {
     "slide_type": "slide"
    }
   },
   "cell_type": "markdown",
   "source": "# Warm Up Challenge"
  },
  {
   "metadata": {
    "slideshow": {
     "slide_type": "fragment"
    },
    "trusted": false
   },
   "cell_type": "code",
   "source": "# Write a function called one that prints out its string argument once.\n\ndef one(s):\n    ...\n\n# Write a function called two that prints out its string argument twice,\n# by calling one twice\n\ndef two(s):\n    ...\n\n    \n# Write a function called four that prints out its string argument four times,\n# by calling two twice\n\ndef four(s):\n    ...\n\n    \nfour(\"Hi!\")",
   "execution_count": 3,
   "outputs": [
    {
     "output_type": "stream",
     "text": "Hi!\nHi!\nHi!\nHi!\n",
     "name": "stdout"
    }
   ]
  },
  {
   "metadata": {
    "slideshow": {
     "slide_type": "fragment"
    },
    "trusted": false
   },
   "cell_type": "code",
   "source": "# Write a function called fact\n# that computes the factorial of its integer argument\n\ndef fact(n):\n    r = 1\n    for i in range(1,n+1): # i = 1,2,...,n\n        r = r * i\n    return r\n    \nprint(fact(5)) # 120 = 1 * 2 * 3 * 4 * 5",
   "execution_count": 6,
   "outputs": [
    {
     "output_type": "stream",
     "text": "120\n",
     "name": "stdout"
    }
   ]
  },
  {
   "metadata": {
    "slideshow": {
     "slide_type": "slide"
    }
   },
   "cell_type": "markdown",
   "source": "# On to Recursion.\n# We start by re-considering Factorial"
  },
  {
   "metadata": {
    "slideshow": {
     "slide_type": "slide"
    },
    "trusted": false
   },
   "cell_type": "code",
   "source": "def fact(n):\n    r = 1\n    for i in range(1,n+1): r *= i\n    return r\n\nfact(4)",
   "execution_count": 5,
   "outputs": [
    {
     "data": {
      "text/plain": "24"
     },
     "execution_count": 5,
     "metadata": {},
     "output_type": "execute_result"
    }
   ]
  },
  {
   "metadata": {
    "slideshow": {
     "slide_type": "fragment"
    },
    "trusted": false
   },
   "cell_type": "code",
   "source": "def fact(n):\n    if n > 1: return n * fact(n-1)\n    else:     return 1\n\nfact(4)",
   "execution_count": 8,
   "outputs": [
    {
     "data": {
      "text/plain": "24"
     },
     "execution_count": 8,
     "metadata": {},
     "output_type": "execute_result"
    }
   ]
  },
  {
   "metadata": {
    "slideshow": {
     "slide_type": "fragment"
    },
    "trusted": false
   },
   "cell_type": "code",
   "source": "def fact(n):\n    print(f\"fact({n}) called\")\n    if n > 1: r = n * fact(n-1)\n    else:     r = 1\n    print(f\"fact({n}) returning {r}\")\n    return r\n\nfact(4)",
   "execution_count": 3,
   "outputs": [
    {
     "output_type": "stream",
     "text": "fact(4) called\nfact(3) called\nfact(2) called\nfact(1) called\nfact(1) returning 1\nfact(2) returning 2\nfact(3) returning 6\nfact(4) returning 24\n",
     "name": "stdout"
    },
    {
     "output_type": "execute_result",
     "execution_count": 3,
     "data": {
      "text/plain": "24"
     },
     "metadata": {}
    }
   ]
  },
  {
   "metadata": {
    "id": "GkYm_4rEedmq",
    "slideshow": {
     "slide_type": "slide"
    }
   },
   "cell_type": "markdown",
   "source": "# Recursion: Functions can call themselves\n\n* Functions can call each other - you know this.\n\n* Functions can also call themselves, this is called recursion:\n\n<img src=\"https://raw.githubusercontent.com/cormacflanagan/intro_python/main/lecture_notebooks/figures/graffles/recursive.jpg\" width=600 height=300 />\n\n* Recursion is a powerful method for breaking down a problem into smaller, more easily solved subproblems. \n\n* Recursion can be \n  * direct (where a function calls itself) or \n  * indirect (e.g. where a function calls another function which then calls the first function, etc.)"
  },
  {
   "metadata": {
    "id": "6coWzD7V9SRk",
    "slideshow": {
     "slide_type": "slide"
    }
   },
   "cell_type": "markdown",
   "source": "# More Examples of Recursion"
  },
  {
   "metadata": {
    "id": "1fvWuYf1ISYp",
    "slideshow": {
     "slide_type": "subslide"
    }
   },
   "cell_type": "markdown",
   "source": " **Counting digits**"
  },
  {
   "metadata": {
    "colab": {
     "base_uri": "https://localhost:8080/"
    },
    "executionInfo": {
     "elapsed": 562,
     "status": "ok",
     "timestamp": 1608082394449,
     "user": {
      "displayName": "Benedict Paten",
      "photoUrl": "https://lh3.googleusercontent.com/a-/AOh14Gh2rYrrH6yoNnUp0Oj4p4ouybc6ZcWGyPmKFtIY=s64",
      "userId": "06399644931392855882"
     },
     "user_tz": 480
    },
    "id": "lWJ1ieJnH3Mt",
    "outputId": "6a4c0a76-2315-4d62-cb40-afc03451471d",
    "slideshow": {
     "slide_type": "fragment"
    },
    "trusted": false
   },
   "cell_type": "code",
   "source": "def num_digits(n):\n    \"\"\"Returns the number of digits in the number (base 10).\n    e.g. For n = 6706 returns 4  \"\"\"\n    count = 0\n    while n != 0:\n        print(f\"count={count}, n={n}\")\n        count += 1\n        n = n // 10 # This is the integer division operator, it loses the remainder\n    return count\n  \nnum_digits(6706)",
   "execution_count": 5,
   "outputs": [
    {
     "output_type": "stream",
     "text": "count=0, n=6706\ncount=1, n=670\ncount=2, n=67\ncount=3, n=6\n",
     "name": "stdout"
    },
    {
     "output_type": "execute_result",
     "execution_count": 5,
     "data": {
      "text/plain": "4"
     },
     "metadata": {}
    }
   ]
  },
  {
   "metadata": {
    "id": "ncoE7lwMKS_u",
    "slideshow": {
     "slide_type": "slide"
    }
   },
   "cell_type": "markdown",
   "source": "We note that for n > 0:\n\n* num_digits(n) = 1 + num_digits(n//10) \n\nThis suggests a recursive definition:"
  },
  {
   "metadata": {
    "colab": {
     "base_uri": "https://localhost:8080/"
    },
    "executionInfo": {
     "elapsed": 770,
     "status": "ok",
     "timestamp": 1608082397037,
     "user": {
      "displayName": "Benedict Paten",
      "photoUrl": "https://lh3.googleusercontent.com/a-/AOh14Gh2rYrrH6yoNnUp0Oj4p4ouybc6ZcWGyPmKFtIY=s64",
      "userId": "06399644931392855882"
     },
     "user_tz": 480
    },
    "id": "A9aiyqvE4uu9",
    "outputId": "0780acb2-2231-48c3-da53-d43e9b862f45",
    "slideshow": {
     "slide_type": "fragment"
    },
    "trusted": false
   },
   "cell_type": "code",
   "source": "# Here's a recursive version\n\ndef num_digits(n):\n    #print(f\"num_digits({n})\")\n    if n == 0: r = 0\n    else:      r = 1 + num_digits( n // 10 )\n    #print(f\"num_digits({n}) returning {r}\")\n    return r\n        \n    \nnum_digits(6706)",
   "execution_count": 1,
   "outputs": [
    {
     "output_type": "stream",
     "text": "num_digits(6706)\nnum_digits(670)\nnum_digits(67)\nnum_digits(6)\nnum_digits(0)\nnum_digits(0) returning 0\nnum_digits(6) returning 1\nnum_digits(67) returning 2\nnum_digits(670) returning 3\nnum_digits(6706) returning 4\n",
     "name": "stdout"
    },
    {
     "output_type": "execute_result",
     "execution_count": 1,
     "data": {
      "text/plain": "4"
     },
     "metadata": {}
    }
   ]
  },
  {
   "metadata": {
    "slideshow": {
     "slide_type": "subslide"
    }
   },
   "cell_type": "markdown",
   "source": "# Challenge: Recursive sum"
  },
  {
   "metadata": {
    "slideshow": {
     "slide_type": "fragment"
    },
    "trusted": true
   },
   "cell_type": "code",
   "source": "# Write a *RECURSIVE* function sum(x,y) \n# that sums all integers between x (inclusive) and y (exclusive)\n# sum(5,5) is 0\n# sum(4,5) is 4\n# sum(6,5) is 0\n\ndef sum(x,y):\n    if ... : \n        return ...\n    else:    \n        return ...\n        \nassert sum(3,6) == 3 + 4 + 5",
   "execution_count": 1,
   "outputs": []
  },
  {
   "metadata": {
    "id": "shO-JrIxMQyu",
    "slideshow": {
     "slide_type": "subslide"
    }
   },
   "cell_type": "markdown",
   "source": "# Sorting\n\n* There is a simple way to sort lists recursively"
  },
  {
   "metadata": {
    "colab": {
     "base_uri": "https://localhost:8080/",
     "height": 105
    },
    "executionInfo": {
     "elapsed": 628,
     "status": "ok",
     "timestamp": 1571959203324,
     "user": {
      "displayName": "Benedict Paten",
      "photoUrl": "https://lh3.googleusercontent.com/a-/AAuE7mBMnWy8dDR7jyTHNy9tPaRx6DCyA3QKrIcuQ7R4=s64",
      "userId": "06399644931392855882"
     },
     "user_tz": 420
    },
    "id": "gGjPyP_IoXpR",
    "outputId": "6a80cebf-9b66-4189-b209-68e85591086e",
    "slideshow": {
     "slide_type": "fragment"
    },
    "trusted": true
   },
   "cell_type": "code",
   "source": "def sortTheList(l):\n    \"\"\" Function takes a list l and returns a sorted version of l\"\"\"\n    print(f\"sortTheList( {l} )\")\n\n    if len(l) == 0:  \n        r = []\n    else:\n        i = min(l)\n        print( f\"min is {i}\" )    \n        l.remove(i)\n        r = [ i ] + sortTheList(l) \n        \n    print(f\"Returning {r}\")\n    return r\n    \nsortTheList([ 4, -8, 12, 1 ])",
   "execution_count": 2,
   "outputs": [
    {
     "output_type": "stream",
     "text": "sortTheList( [4, -8, 12, 1] )\nmin is -8\nsortTheList( [4, 12, 1] )\nmin is 1\nsortTheList( [4, 12] )\nmin is 4\nsortTheList( [12] )\nmin is 12\nsortTheList( [] )\nReturning []\nReturning [12]\nReturning [4, 12]\nReturning [1, 4, 12]\nReturning [-8, 1, 4, 12]\n",
     "name": "stdout"
    },
    {
     "output_type": "execute_result",
     "execution_count": 2,
     "data": {
      "text/plain": "[-8, 1, 4, 12]"
     },
     "metadata": {}
    }
   ]
  },
  {
   "metadata": {
    "slideshow": {
     "slide_type": "slide"
    },
    "trusted": false
   },
   "cell_type": "code",
   "source": "def multiplylist(list):\n    \"Multiply all the numbers in a list\"\n    if list == []: \n        return 1\n    else:          \n        return list[0] * multiplylist( list[1:] )  \n    \nmultiplylist( [ 10, 3, 2] )",
   "execution_count": 4,
   "outputs": [
    {
     "data": {
      "text/plain": "60"
     },
     "execution_count": 4,
     "metadata": {},
     "output_type": "execute_result"
    }
   ]
  },
  {
   "metadata": {
    "slideshow": {
     "slide_type": "subslide"
    }
   },
   "cell_type": "markdown",
   "source": "# Hard Challenge: \n# Enumerate all words length n from a given alphabet"
  },
  {
   "metadata": {
    "slideshow": {
     "slide_type": "fragment"
    },
    "trusted": true
   },
   "cell_type": "code",
   "source": "# Write the set of all the words of length 3\n# where the letters are chosen from the alphabet \"ABC\".\n\n{ \"AAA\", \"AAB\", ... }\n\n",
   "execution_count": 1,
   "outputs": [
    {
     "output_type": "execute_result",
     "execution_count": 1,
     "data": {
      "text/plain": "{'AAA', 'AAB', Ellipsis}"
     },
     "metadata": {}
    }
   ]
  },
  {
   "metadata": {
    "slideshow": {
     "slide_type": "fragment"
    },
    "trusted": true
   },
   "cell_type": "code",
   "source": "# Write a recursive fn to return the set of all words of length n,\n# where the letters are chosen from a given alphabet (eg \"ABC\")\n\n# The problem is naturally recursive because, \n#   words(alphabet,0) = { \"\" } (a set containing the empty string)\n# and for n>0, \n#   words(alphabet,n) = { word+letter | letter in alphabet, word in words(alphabet,n-1)} \n\ndef words(alphabet,n):\n    if n==0: \n        return ... # see line 5 above\n    else:\n        s = set()\n        ... # compute the above set from line 7 using nested for loops\n        return s\n\nwords(\"AB\",3)",
   "execution_count": 7,
   "outputs": [
    {
     "output_type": "execute_result",
     "execution_count": 7,
     "data": {
      "text/plain": "{'AAA', 'AAB', 'ABA', 'ABB', 'BAA', 'BAB', 'BBA', 'BBB'}"
     },
     "metadata": {}
    }
   ]
  },
  {
   "metadata": {
    "id": "J_ShlgSsM4RY",
    "slideshow": {
     "slide_type": "slide"
    }
   },
   "cell_type": "markdown",
   "source": "# Recursion Summary\n\n* Recursion is a powerful technique to write elegant solutions to problems that involve solving smaller subproblems of the same type.\n\n* For more challenges, see: https://www.geeksforgeeks.org/recursion-practice-problems-solutions/"
  },
  {
   "metadata": {
    "id": "oeXHxduP1V4U",
    "slideshow": {
     "slide_type": "slide"
    }
   },
   "cell_type": "markdown",
   "source": "# Lambdas \n\nWhat if you want to define a little function?\n\nLambdas are one-liner functions:"
  },
  {
   "metadata": {
    "colab": {
     "base_uri": "https://localhost:8080/",
     "height": 35
    },
    "executionInfo": {
     "elapsed": 896,
     "status": "ok",
     "timestamp": 1571959373898,
     "user": {
      "displayName": "Benedict Paten",
      "photoUrl": "https://lh3.googleusercontent.com/a-/AAuE7mBMnWy8dDR7jyTHNy9tPaRx6DCyA3QKrIcuQ7R4=s64",
      "userId": "06399644931392855882"
     },
     "user_tz": 420
    },
    "id": "7zCP0m8LD8Kl",
    "outputId": "5c8620b4-3370-4494-8ab7-70c8af5e99b9",
    "slideshow": {
     "slide_type": "fragment"
    },
    "trusted": false
   },
   "cell_type": "code",
   "source": "def fn1(x, y): return x + y > 10\n\nfn1(5, 6)",
   "execution_count": 3,
   "outputs": [
    {
     "output_type": "execute_result",
     "execution_count": 3,
     "data": {
      "text/plain": "True"
     },
     "metadata": {}
    }
   ]
  },
  {
   "metadata": {
    "colab": {
     "base_uri": "https://localhost:8080/",
     "height": 35
    },
    "executionInfo": {
     "elapsed": 896,
     "status": "ok",
     "timestamp": 1571959373898,
     "user": {
      "displayName": "Benedict Paten",
      "photoUrl": "https://lh3.googleusercontent.com/a-/AAuE7mBMnWy8dDR7jyTHNy9tPaRx6DCyA3QKrIcuQ7R4=s64",
      "userId": "06399644931392855882"
     },
     "user_tz": 420
    },
    "id": "7zCP0m8LD8Kl",
    "outputId": "5c8620b4-3370-4494-8ab7-70c8af5e99b9",
    "slideshow": {
     "slide_type": "fragment"
    },
    "trusted": false
   },
   "cell_type": "code",
   "source": "# We can write the above definition as a lambda\nfn2 =     lambda x, y : x + y > 10\n\nfn2(5,6)",
   "execution_count": 4,
   "outputs": [
    {
     "output_type": "execute_result",
     "execution_count": 4,
     "data": {
      "text/plain": "True"
     },
     "metadata": {}
    }
   ]
  },
  {
   "metadata": {
    "id": "at6E7-UGPI0h",
    "slideshow": {
     "slide_type": "fragment"
    }
   },
   "cell_type": "markdown",
   "source": "**Differences**\n* lambda vs def\n* lambda has no parens\n* lambda has no return\n* lambda body is an expression, not a statement\n\nUseful when we want to pass a small function as an argument to another function.\n\nIf you're interested see https://en.wikipedia.org/wiki/Anonymous_function (functions without names) - the lambda name comes from Alonzo Church, who created the lambda calculus. "
  },
  {
   "metadata": {
    "trusted": false
   },
   "cell_type": "code",
   "source": "def add1(l): return [i+1 for i in l]\nadd1([1,2,3])",
   "execution_count": 1,
   "outputs": [
    {
     "output_type": "execute_result",
     "execution_count": 1,
     "data": {
      "text/plain": "[2, 3, 4]"
     },
     "metadata": {}
    }
   ]
  },
  {
   "metadata": {
    "trusted": false
   },
   "cell_type": "code",
   "source": "def add2(l): return [i+2 for i in l]\nadd2([1,2,3])",
   "execution_count": 2,
   "outputs": [
    {
     "output_type": "execute_result",
     "execution_count": 2,
     "data": {
      "text/plain": "[3, 4, 5]"
     },
     "metadata": {}
    }
   ]
  },
  {
   "metadata": {
    "trusted": false
   },
   "cell_type": "code",
   "source": "def addN(l,n): return [i+n for i in l]\ndef add4(l): return addN(l,4)\nadd4([1,2,3])",
   "execution_count": 3,
   "outputs": [
    {
     "output_type": "execute_result",
     "execution_count": 3,
     "data": {
      "text/plain": "[5, 6, 7]"
     },
     "metadata": {}
    }
   ]
  },
  {
   "metadata": {
    "trusted": false
   },
   "cell_type": "code",
   "source": "def mulN(l,n): return [i*n for i in l]\ndef mul2(l): return mulN(l,2)\nmul2([1,2,3])\n",
   "execution_count": 2,
   "outputs": [
    {
     "output_type": "execute_result",
     "execution_count": 2,
     "data": {
      "text/plain": "[2, 4, 6]"
     },
     "metadata": {}
    }
   ]
  },
  {
   "metadata": {
    "trusted": false
   },
   "cell_type": "code",
   "source": "def map(l,f): return [ f(i) for i in l]\n\nmap( [1,2,3],    lambda i: i+1  )",
   "execution_count": 3,
   "outputs": [
    {
     "output_type": "execute_result",
     "execution_count": 3,
     "data": {
      "text/plain": "[2, 3, 4]"
     },
     "metadata": {}
    }
   ]
  },
  {
   "metadata": {
    "trusted": false
   },
   "cell_type": "code",
   "source": "map( [1,2,3],    lambda i: i*2  )",
   "execution_count": 4,
   "outputs": [
    {
     "output_type": "execute_result",
     "execution_count": 4,
     "data": {
      "text/plain": "[2, 4, 6]"
     },
     "metadata": {}
    }
   ]
  },
  {
   "metadata": {
    "trusted": false
   },
   "cell_type": "code",
   "source": "map( [1,2,3],    lambda i: i**2 )",
   "execution_count": 5,
   "outputs": [
    {
     "output_type": "execute_result",
     "execution_count": 5,
     "data": {
      "text/plain": "[1, 4, 9]"
     },
     "metadata": {}
    }
   ]
  },
  {
   "metadata": {
    "trusted": false
   },
   "cell_type": "code",
   "source": "map( [1,2,3],    str )",
   "execution_count": 6,
   "outputs": [
    {
     "output_type": "execute_result",
     "execution_count": 6,
     "data": {
      "text/plain": "['1', '2', '3']"
     },
     "metadata": {}
    }
   ]
  },
  {
   "metadata": {
    "trusted": false
   },
   "cell_type": "code",
   "source": "map( map( map( [1,2,3], \n               lambda i:i+1),\n          lambda i:i*2),\n     str)",
   "execution_count": 8,
   "outputs": [
    {
     "output_type": "execute_result",
     "execution_count": 8,
     "data": {
      "text/plain": "['4', '6', '8']"
     },
     "metadata": {}
    }
   ]
  },
  {
   "metadata": {
    "id": "7r2yQ-5y1nfJ",
    "slideshow": {
     "slide_type": "slide"
    }
   },
   "cell_type": "markdown",
   "source": "# Functions can be passed around as arguments\n\nPassing functions as arguments to another function is a powerful trick"
  },
  {
   "metadata": {
    "colab": {
     "base_uri": "https://localhost:8080/",
     "height": 55
    },
    "executionInfo": {
     "elapsed": 528,
     "status": "ok",
     "timestamp": 1571959410010,
     "user": {
      "displayName": "Benedict Paten",
      "photoUrl": "https://lh3.googleusercontent.com/a-/AAuE7mBMnWy8dDR7jyTHNy9tPaRx6DCyA3QKrIcuQ7R4=s64",
      "userId": "06399644931392855882"
     },
     "user_tz": 420
    },
    "id": "38zbC_xH1-l6",
    "outputId": "d116a29b-ba34-45c2-cd21-fd03a5d7fa7a",
    "slideshow": {
     "slide_type": "fragment"
    },
    "trusted": false
   },
   "cell_type": "code",
   "source": "# First consider a function for sorting a list of strings\n\nsomeStrings = [ \"Once\", \"upon\", \"a\", \"time\", \"there\", \"lived\", \n               \"a\", \"wicked\", \"teacher\"]\n\nsorted(someStrings)",
   "execution_count": 3,
   "outputs": [
    {
     "data": {
      "text/plain": "['Once', 'a', 'a', 'lived', 'teacher', 'there', 'time', 'upon', 'wicked']"
     },
     "execution_count": 3,
     "metadata": {},
     "output_type": "execute_result"
    }
   ]
  },
  {
   "metadata": {
    "id": "dM4e5PZnQyls",
    "slideshow": {
     "slide_type": "fragment"
    }
   },
   "cell_type": "markdown",
   "source": "Strange, 'Once' is first!!\n\nTo fix this, sorted() can take a \"key\" argument which allows you to define the sort value for each element in the list."
  },
  {
   "metadata": {
    "colab": {
     "base_uri": "https://localhost:8080/"
    },
    "executionInfo": {
     "elapsed": 826,
     "status": "ok",
     "timestamp": 1608083879365,
     "user": {
      "displayName": "Benedict Paten",
      "photoUrl": "https://lh3.googleusercontent.com/a-/AOh14Gh2rYrrH6yoNnUp0Oj4p4ouybc6ZcWGyPmKFtIY=s64",
      "userId": "06399644931392855882"
     },
     "user_tz": 480
    },
    "id": "477-AIOE1pWg",
    "outputId": "e84b9986-ace7-45ac-e336-460e3f1114c9",
    "slideshow": {
     "slide_type": "fragment"
    },
    "trusted": false
   },
   "cell_type": "code",
   "source": "def tolower(s): return s.lower()\n\nsorted(someStrings, key=tolower) ",
   "execution_count": 47,
   "outputs": [
    {
     "data": {
      "text/plain": "['a', 'a', 'lived', 'Once', 'teacher', 'there', 'time', 'upon', 'wicked']"
     },
     "execution_count": 47,
     "metadata": {},
     "output_type": "execute_result"
    }
   ]
  },
  {
   "metadata": {
    "colab": {
     "base_uri": "https://localhost:8080/"
    },
    "executionInfo": {
     "elapsed": 826,
     "status": "ok",
     "timestamp": 1608083879365,
     "user": {
      "displayName": "Benedict Paten",
      "photoUrl": "https://lh3.googleusercontent.com/a-/AOh14Gh2rYrrH6yoNnUp0Oj4p4ouybc6ZcWGyPmKFtIY=s64",
      "userId": "06399644931392855882"
     },
     "user_tz": 480
    },
    "id": "477-AIOE1pWg",
    "outputId": "e84b9986-ace7-45ac-e336-460e3f1114c9",
    "slideshow": {
     "slide_type": "fragment"
    },
    "trusted": false
   },
   "cell_type": "code",
   "source": "# Or with a lambda function\n\ntolower = lambda s: s.lower()\n\nsorted(someStrings, key=tolower) ",
   "execution_count": 48,
   "outputs": [
    {
     "data": {
      "text/plain": "['a', 'a', 'lived', 'Once', 'teacher', 'there', 'time', 'upon', 'wicked']"
     },
     "execution_count": 48,
     "metadata": {},
     "output_type": "execute_result"
    }
   ]
  },
  {
   "metadata": {
    "colab": {
     "base_uri": "https://localhost:8080/"
    },
    "executionInfo": {
     "elapsed": 826,
     "status": "ok",
     "timestamp": 1608083879365,
     "user": {
      "displayName": "Benedict Paten",
      "photoUrl": "https://lh3.googleusercontent.com/a-/AOh14Gh2rYrrH6yoNnUp0Oj4p4ouybc6ZcWGyPmKFtIY=s64",
      "userId": "06399644931392855882"
     },
     "user_tz": 480
    },
    "id": "477-AIOE1pWg",
    "outputId": "e84b9986-ace7-45ac-e336-460e3f1114c9",
    "slideshow": {
     "slide_type": "fragment"
    },
    "trusted": false
   },
   "cell_type": "code",
   "source": "# Or as a one liner with an anonymous lambda function (never given a name)\nsorted(someStrings, key = lambda s: s.lower()  ) ",
   "execution_count": 4,
   "outputs": [
    {
     "data": {
      "text/plain": "['a', 'a', 'lived', 'Once', 'teacher', 'there', 'time', 'upon', 'wicked']"
     },
     "execution_count": 4,
     "metadata": {},
     "output_type": "execute_result"
    }
   ]
  },
  {
   "metadata": {
    "id": "sWi13HRmRqBS",
    "slideshow": {
     "slide_type": "subslide"
    }
   },
   "cell_type": "markdown",
   "source": "We can combine inline lambdas to do complex things:"
  },
  {
   "metadata": {
    "colab": {
     "base_uri": "https://localhost:8080/"
    },
    "executionInfo": {
     "elapsed": 1069,
     "status": "ok",
     "timestamp": 1608084160710,
     "user": {
      "displayName": "Benedict Paten",
      "photoUrl": "https://lh3.googleusercontent.com/a-/AOh14Gh2rYrrH6yoNnUp0Oj4p4ouybc6ZcWGyPmKFtIY=s64",
      "userId": "06399644931392855882"
     },
     "user_tz": 480
    },
    "id": "Ib1MpmxhR5L3",
    "outputId": "7ede385c-5af3-4358-9ee2-a8b0e6f1d8ad",
    "slideshow": {
     "slide_type": "fragment"
    },
    "trusted": false
   },
   "cell_type": "code",
   "source": "sorted(someStrings, key=lambda x : x[::-1]) \n# x[::-1] is the reverse string of x,\n# so this sorts the strings according to their reversals",
   "execution_count": 55,
   "outputs": [
    {
     "data": {
      "text/plain": "['a', 'a', 'wicked', 'lived', 'Once', 'time', 'there', 'upon', 'teacher']"
     },
     "execution_count": 55,
     "metadata": {},
     "output_type": "execute_result"
    }
   ]
  },
  {
   "metadata": {
    "slideshow": {
     "slide_type": "subslide"
    }
   },
   "cell_type": "markdown",
   "source": "# Challenge"
  },
  {
   "metadata": {
    "slideshow": {
     "slide_type": "fragment"
    },
    "trusted": false
   },
   "cell_type": "code",
   "source": "someStrings = [ \"Once\", \"upon\", \"a\", \"time\", \"there\", \"lived\",\n               \"a\", \"wicked\", \"teacher\"]\n\nsorted(someStrings, key=... )\n# replace ... with a lambda function such that shorter strings will be sorted first.\n",
   "execution_count": 3,
   "outputs": [
    {
     "output_type": "execute_result",
     "execution_count": 3,
     "data": {
      "text/plain": "['a', 'a', 'Once', 'upon', 'time', 'there', 'lived', 'wicked', 'teacher']"
     },
     "metadata": {}
    }
   ]
  },
  {
   "metadata": {
    "slideshow": {
     "slide_type": "fragment"
    },
    "trusted": false
   },
   "cell_type": "code",
   "source": "someStrings = [ \"Once\", \"upon\", \"a\", \"time\", \"there\", \"lived\",\n               \"a\", \"wicked\", \"teacher\"]\n\nsorted(someStrings, key= ... )\n# replace xx with a lambda function such that longer strings will be sorted first.",
   "execution_count": 6,
   "outputs": [
    {
     "output_type": "execute_result",
     "execution_count": 6,
     "data": {
      "text/plain": "['teacher', 'wicked', 'there', 'lived', 'Once', 'upon', 'time', 'a', 'a']"
     },
     "metadata": {}
    }
   ]
  },
  {
   "metadata": {
    "id": "L8o5zkQjNHMU",
    "pycharm": {
     "name": "#%% md\n"
    },
    "slideshow": {
     "slide_type": "slide"
    }
   },
   "cell_type": "markdown",
   "source": "# Homework\n\n* ZyBooks Reading 15\n* ZyBooks Assignment 8"
  },
  {
   "metadata": {
    "id": "L8o5zkQjNHMU",
    "pycharm": {
     "name": "#%% md\n"
    },
    "slideshow": {
     "slide_type": "slide"
    }
   },
   "cell_type": "markdown",
   "source": "# Extra stuff"
  },
  {
   "metadata": {
    "trusted": false
   },
   "cell_type": "code",
   "source": "# Write a function to add 1 to each element in a list\ndef add1(l):\n    for i in range(len(l)):\n        l[i] += 1\n\n# Write a function to add 2 to each element in a list\ndef add2(l): \n    addn(l,2)\n\ndef addn(l,n):\n    for i in range(len(l)):\n        l[i] = l[i] + n\n\n# Write a function to multiply each element in a list by 2\ndef muln(l,n):\n    for i in range(len(l)):\n        l[i] = l[i] * n\n        \ndef foreach(l,f): # f a function to apply to each element in l\n    for i in range(len(l)):\n        l[i] = f( l[i] )\n        \ndef mul2(l):\n    # def times2(x): return x * 2\n    foreach( l,  lambda x: x*2 )\n    \nl = [3,4,5]\nlist(map(str, map( lambda x: x+1,  map( lambda x: x*2, l ))))",
   "execution_count": 8,
   "outputs": [
    {
     "output_type": "stream",
     "text": "<class 'map'>\n",
     "name": "stdout"
    }
   ]
  },
  {
   "metadata": {
    "slideshow": {
     "slide_type": "subslide"
    }
   },
   "cell_type": "markdown",
   "source": "# Extreme Challenge 2: Enumerate all permutations of a set"
  },
  {
   "metadata": {
    "slideshow": {
     "slide_type": "fragment"
    },
    "trusted": false
   },
   "cell_type": "code",
   "source": "# Given a set S of elements, say integers { 0, 1, 2 },\n# a permutation is an ordering of the elements, e.g:\n# (0, 1, 2) or (1, 0, 2) or (2, 1, 0), etc.\n\n# The challenge is to write a recursive function to enumerate all possible permutations \n# of an input set.\n\n# The problem is recursive because the set of permutations R of a set S containing a member x\n# can be constructed from the set of permutations, T, of S - { x } (S after removing x) \n# as follows:\n\n# For each P = y_1, y_2, ..., y_n permutation in T, create n+2 permutations containing x:\n# x, y_1, y_2, ..., y_n\n# y_1, x, y_2, ..., y_n\n# y_1, y_2, x, ..., y_n\n# ...\n# y_1, y_2, ..., x, y_n\n# y_1, y_2, ..., y_n, x\n# For example for S = { 0, 1, 2 } and x=2\n# then S - { 2 } = { 0, 1 } and \n# T = { (0,1), (1,0) }\n# then R = { (2,0,1), (0,2,1), (0,1,2), (2,1,0), (1,2,0), (1,0,2) }\n\ndef permutations(S):\n    \"\"\" Returns the set of tuples of all permutations of S \"\"\"\n    if len(S) == 0:\n        return {()}\n    x = S[0]\n    T = permutations(S[1:])\n    print(S,T,x)\n    # Code to complete\n    R = set()\n    for t in T:\n        for i in range(len(t)+1):\n            R.add( t[:i]+(x,)+t[i:])\n    return R\n    \n\n\npermutations((0,1,2))",
   "execution_count": 12,
   "outputs": [
    {
     "name": "stdout",
     "output_type": "stream",
     "text": "(2,) {()} 2\n(1, 2) {(2,)} 1\n(0, 1, 2) {(1, 2), (2, 1)} 0\n"
    },
    {
     "data": {
      "text/plain": "{(0, 1, 2), (0, 2, 1), (1, 0, 2), (1, 2, 0), (2, 0, 1), (2, 1, 0)}"
     },
     "execution_count": 12,
     "metadata": {},
     "output_type": "execute_result"
    }
   ]
  }
 ],
 "metadata": {
  "celltoolbar": "Slideshow",
  "colab": {
   "collapsed_sections": [],
   "name": "L15 More Functions and Recursion.ipynb",
   "provenance": []
  },
  "kernelspec": {
   "name": "python3",
   "display_name": "Python 3",
   "language": "python"
  },
  "language_info": {
   "name": "python",
   "version": "3.10.4",
   "mimetype": "text/x-python",
   "codemirror_mode": {
    "name": "ipython",
    "version": 3
   },
   "pygments_lexer": "ipython3",
   "nbconvert_exporter": "python",
   "file_extension": ".py"
  }
 },
 "nbformat": 4,
 "nbformat_minor": 1
}