{
 "cells": [
  {
   "metadata": {
    "id": "cjsgMup6ktUd",
    "slideshow": {
     "slide_type": "slide"
    }
   },
   "cell_type": "markdown",
   "source": "# Lecture 2 - Variables and Expressions "
  },
  {
   "metadata": {
    "id": "OkA6aiONlE7b",
    "slideshow": {
     "slide_type": "slide"
    }
   },
   "cell_type": "markdown",
   "source": "# Warm-Up Challenge"
  },
  {
   "metadata": {
    "execution": {
     "iopub.execute_input": "2022-09-23T00:20:01.514450Z",
     "iopub.status.busy": "2022-09-23T00:20:01.513702Z",
     "iopub.status.idle": "2022-09-23T00:20:01.516187Z",
     "shell.execute_reply": "2022-09-23T00:20:01.516691Z"
    },
    "executionInfo": {
     "elapsed": 363,
     "status": "ok",
     "timestamp": 1607391378206,
     "user": {
      "displayName": "Benedict Paten",
      "photoUrl": "https://lh3.googleusercontent.com/a-/AOh14Gh2rYrrH6yoNnUp0Oj4p4ouybc6ZcWGyPmKFtIY=s64",
      "userId": "06399644931392855882"
     },
     "user_tz": 480
    },
    "id": "7vBJtWFslI-G",
    "slideshow": {
     "slide_type": "fragment"
    },
    "trusted": false
   },
   "cell_type": "code",
   "source": "# In colab (https://colab.research.google.com)\n# load these slides from github\n# (https://github.com/cormacflanagan/intro_python)\n# and write code to\n# 1. input a name\n# 2. print that name\n# 3. print 13 times 12\nname = input(\"What is your name?\")\nprint(name)\nprint(13*12)\n",
   "execution_count": null,
   "outputs": []
  },
  {
   "metadata": {
    "id": "OkA6aiONlE7b",
    "slideshow": {
     "slide_type": "slide"
    }
   },
   "cell_type": "markdown",
   "source": "# Variables"
  },
  {
   "metadata": {
    "execution": {
     "iopub.execute_input": "2022-09-23T00:20:01.514450Z",
     "iopub.status.busy": "2022-09-23T00:20:01.513702Z",
     "iopub.status.idle": "2022-09-23T00:20:01.516187Z",
     "shell.execute_reply": "2022-09-23T00:20:01.516691Z"
    },
    "executionInfo": {
     "elapsed": 363,
     "status": "ok",
     "timestamp": 1607391378206,
     "user": {
      "displayName": "Benedict Paten",
      "photoUrl": "https://lh3.googleusercontent.com/a-/AOh14Gh2rYrrH6yoNnUp0Oj4p4ouybc6ZcWGyPmKFtIY=s64",
      "userId": "06399644931392855882"
     },
     "user_tz": 480
    },
    "id": "7vBJtWFslI-G",
    "slideshow": {
     "slide_type": "fragment"
    },
    "trusted": true
   },
   "cell_type": "code",
   "source": "# As in algebra, we use variables to refer to things\n\nx = 1         # x is a variable referring to the int 1\n\ny = \"coffee\"  # y is a variable referring to the string \"coffee\"\n\n4.0 / 2",
   "execution_count": 1,
   "outputs": [
    {
     "output_type": "execute_result",
     "execution_count": 1,
     "data": {
      "text/plain": "2.0"
     },
     "metadata": {}
    }
   ]
  },
  {
   "metadata": {
    "id": "S0j3Xtd1DhKp",
    "slideshow": {
     "slide_type": "skip"
    }
   },
   "cell_type": "markdown",
   "source": "Think of x as \"referring to 1\". That is x is really a reference to the object representing 1. \n  * x -----> 1\n  * y -----> \"coffee\"\n\nUnder the hood, in general, there is a piece of memory (bits) representing x \nthat stores the location of where the value 1 is actually stored in memory. \n\nIn some languages, x or y stores the content directly, e.g. x is actually \nmemory representing 1. However in Python variables are references."
  },
  {
   "metadata": {
    "id": "s8eUIhrM9xjr",
    "slideshow": {
     "slide_type": "slide"
    }
   },
   "cell_type": "markdown",
   "source": "# Assignment is not equals"
  },
  {
   "metadata": {
    "slideshow": {
     "slide_type": "fragment"
    },
    "trusted": false
   },
   "cell_type": "code",
   "source": "x = 1      \nx = 2      ",
   "execution_count": null,
   "outputs": []
  },
  {
   "metadata": {
    "id": "toK-UKQ198jr",
    "slideshow": {
     "slide_type": "slide"
    }
   },
   "cell_type": "markdown",
   "source": "# Copying"
  },
  {
   "metadata": {
    "colab": {
     "base_uri": "https://localhost:8080/"
    },
    "execution": {
     "iopub.execute_input": "2022-09-23T00:20:01.530298Z",
     "iopub.status.busy": "2022-09-23T00:20:01.529234Z",
     "iopub.status.idle": "2022-09-23T00:20:01.532713Z",
     "shell.execute_reply": "2022-09-23T00:20:01.533533Z"
    },
    "executionInfo": {
     "elapsed": 373,
     "status": "ok",
     "timestamp": 1607391393919,
     "user": {
      "displayName": "Benedict Paten",
      "photoUrl": "https://lh3.googleusercontent.com/a-/AOh14Gh2rYrrH6yoNnUp0Oj4p4ouybc6ZcWGyPmKFtIY=s64",
      "userId": "06399644931392855882"
     },
     "user_tz": 480
    },
    "id": "FndrQqcuFho6",
    "outputId": "3f7bfc04-874e-4ad0-e328-ef219333c8c5",
    "slideshow": {
     "slide_type": "fragment"
    },
    "trusted": false
   },
   "cell_type": "code",
   "source": "# We can also copy variables\n\nx = \"coffee\"\n\ny = x       # Now x and y refer to the same thing (\"coffee\")\nprint(x)",
   "execution_count": null,
   "outputs": []
  },
  {
   "metadata": {
    "colab": {
     "base_uri": "https://localhost:8080/"
    },
    "execution": {
     "iopub.execute_input": "2022-09-23T00:20:01.540865Z",
     "iopub.status.busy": "2022-09-23T00:20:01.539599Z",
     "iopub.status.idle": "2022-09-23T00:20:01.543769Z",
     "shell.execute_reply": "2022-09-23T00:20:01.544287Z"
    },
    "executionInfo": {
     "elapsed": 411,
     "status": "ok",
     "timestamp": 1607391407291,
     "user": {
      "displayName": "Benedict Paten",
      "photoUrl": "https://lh3.googleusercontent.com/a-/AOh14Gh2rYrrH6yoNnUp0Oj4p4ouybc6ZcWGyPmKFtIY=s64",
      "userId": "06399644931392855882"
     },
     "user_tz": 480
    },
    "id": "4ous2ZHC6Z1h",
    "outputId": "7b6a6f09-34a4-42b3-a068-5232da47c35d",
    "slideshow": {
     "slide_type": "slide"
    },
    "trusted": false
   },
   "cell_type": "code",
   "source": "# Reassignment and copying can be co-mingled\n\nx = \"coffee\"\ny = x          # Now x and y refer to the same thing (\"coffee\")\n\nx = \"tea\"      # Change what x refers to, this doesn't change y!\n\nprint(x) \nprint(y)",
   "execution_count": null,
   "outputs": []
  },
  {
   "metadata": {
    "id": "sQLo2H1qGadW",
    "slideshow": {
     "slide_type": "slide"
    }
   },
   "cell_type": "markdown",
   "source": "# Variable Names\n\nVariables don't have to be single letters (in fact, that's a terrible idea), but can be **any combination of alpha-numeric characters and the '_' symbol, providing they don't start with a number and aren't already a reserved keyword**. "
  },
  {
   "metadata": {
    "colab": {
     "base_uri": "https://localhost:8080/"
    },
    "execution": {
     "iopub.execute_input": "2022-09-23T00:20:01.549407Z",
     "iopub.status.busy": "2022-09-23T00:20:01.548685Z",
     "iopub.status.idle": "2022-09-23T00:20:01.551347Z",
     "shell.execute_reply": "2022-09-23T00:20:01.551809Z"
    },
    "executionInfo": {
     "elapsed": 424,
     "status": "ok",
     "timestamp": 1607391414262,
     "user": {
      "displayName": "Benedict Paten",
      "photoUrl": "https://lh3.googleusercontent.com/a-/AOh14Gh2rYrrH6yoNnUp0Oj4p4ouybc6ZcWGyPmKFtIY=s64",
      "userId": "06399644931392855882"
     },
     "user_tz": 480
    },
    "id": "p92pX5KtHHHk",
    "outputId": "3f342de4-5e6a-4e09-ffca-46fd608459dd",
    "slideshow": {
     "slide_type": "subslide"
    },
    "trusted": false
   },
   "cell_type": "code",
   "source": "# Variable names\n\nfoo = 1    # Legit variable name\n\nbar2 = 2   # Also legit\n\n_boo = 3   # Legit\n\nsuper_helpful_variable_name = 4     # Legit\n\nsomePeopleLikeCamelCase = 5         # Fine variable name\n\nprint(super_helpful_variable_name)",
   "execution_count": null,
   "outputs": []
  },
  {
   "metadata": {
    "colab": {
     "base_uri": "https://localhost:8080/",
     "height": 130
    },
    "execution": {
     "iopub.execute_input": "2022-09-23T00:20:01.555991Z",
     "iopub.status.busy": "2022-09-23T00:20:01.555150Z",
     "iopub.status.idle": "2022-09-23T00:20:01.558311Z",
     "shell.execute_reply": "2022-09-23T00:20:01.558910Z"
    },
    "executionInfo": {
     "elapsed": 381,
     "status": "error",
     "timestamp": 1607391419362,
     "user": {
      "displayName": "Benedict Paten",
      "photoUrl": "https://lh3.googleusercontent.com/a-/AOh14Gh2rYrrH6yoNnUp0Oj4p4ouybc6ZcWGyPmKFtIY=s64",
      "userId": "06399644931392855882"
     },
     "user_tz": 480
    },
    "id": "wkwn4Z1PHcjy",
    "outputId": "03ea9788-5615-4905-91de-02ae1765e4b7",
    "slideshow": {
     "slide_type": "subslide"
    },
    "trusted": false
   },
   "cell_type": "code",
   "source": "# Not okay\n\n3l33t = 4    # Not okay, starts with a number\n\nnot^okay = 5 # Not okay, contains an illegal character\n\nand = 6      # Not okay, is a reserved keyword\n\n# Etc.",
   "execution_count": null,
   "outputs": []
  },
  {
   "metadata": {
    "id": "U9VGvqwEHQtf",
    "slideshow": {
     "slide_type": "subslide"
    }
   },
   "cell_type": "markdown",
   "source": "Reserved key words, see Chapter 2 of the open textbook:\n\nhttp://openbookproject.net/thinkcs/python/english3e/variables_expressions_statements.html"
  },
  {
   "metadata": {
    "id": "bHeo34G5IWAN",
    "slideshow": {
     "slide_type": "slide"
    }
   },
   "cell_type": "markdown",
   "source": "# Expressions"
  },
  {
   "metadata": {
    "colab": {
     "base_uri": "https://localhost:8080/"
    },
    "execution": {
     "iopub.execute_input": "2022-09-23T00:20:01.569020Z",
     "iopub.status.busy": "2022-09-23T00:20:01.568190Z",
     "iopub.status.idle": "2022-09-23T00:20:01.571388Z",
     "shell.execute_reply": "2022-09-23T00:20:01.572377Z"
    },
    "executionInfo": {
     "elapsed": 349,
     "status": "ok",
     "timestamp": 1607391427113,
     "user": {
      "displayName": "Benedict Paten",
      "photoUrl": "https://lh3.googleusercontent.com/a-/AOh14Gh2rYrrH6yoNnUp0Oj4p4ouybc6ZcWGyPmKFtIY=s64",
      "userId": "06399644931392855882"
     },
     "user_tz": 480
    },
    "id": "dhSAuuO-Ich7",
    "outputId": "4207f127-b0be-4ba3-c85e-813ab30a4ae7",
    "slideshow": {
     "slide_type": "fragment"
    },
    "trusted": false
   },
   "cell_type": "code",
   "source": "# Now we have basic types and variables, we can do stuff with them\n\nx = 1\ny = 4\n\nx + y - 2\n\n# This is an expression, the interpreter\n# has to \"evaluate it\" to figure out the value by \n# combining variables (x, y), values (2) and operators (+, -)",
   "execution_count": null,
   "outputs": []
  },
  {
   "metadata": {
    "colab": {
     "base_uri": "https://localhost:8080/"
    },
    "execution": {
     "iopub.execute_input": "2022-09-23T00:20:01.578603Z",
     "iopub.status.busy": "2022-09-23T00:20:01.577817Z",
     "iopub.status.idle": "2022-09-23T00:20:01.581317Z",
     "shell.execute_reply": "2022-09-23T00:20:01.581969Z"
    },
    "executionInfo": {
     "elapsed": 373,
     "status": "ok",
     "timestamp": 1607391431652,
     "user": {
      "displayName": "Benedict Paten",
      "photoUrl": "https://lh3.googleusercontent.com/a-/AOh14Gh2rYrrH6yoNnUp0Oj4p4ouybc6ZcWGyPmKFtIY=s64",
      "userId": "06399644931392855882"
     },
     "user_tz": 480
    },
    "id": "ega2_raeI6uc",
    "outputId": "2e98e03f-f8e3-4a04-f134-52f3c027ba67",
    "slideshow": {
     "slide_type": "fragment"
    },
    "trusted": false
   },
   "cell_type": "code",
   "source": "# When we're calling a function (we'll learn about functions soon), \n# we're also evaluating an expression\n\ntype(3.14 + 2.0)",
   "execution_count": null,
   "outputs": []
  },
  {
   "metadata": {
    "slideshow": {
     "slide_type": "subslide"
    }
   },
   "cell_type": "markdown",
   "source": "## Definition:  An **expression** is a combination of values, variables, operators, and calls to functions. \n\nExpressions need to be evaluated and result in a value (could be number, a string, an object, a list, etc.) \n"
  },
  {
   "metadata": {
    "slideshow": {
     "slide_type": "subslide"
    }
   },
   "cell_type": "markdown",
   "source": "# Challenge 1"
  },
  {
   "metadata": {
    "execution": {
     "iopub.execute_input": "2022-09-23T00:20:01.586878Z",
     "iopub.status.busy": "2022-09-23T00:20:01.586188Z",
     "iopub.status.idle": "2022-09-23T00:20:01.588844Z",
     "shell.execute_reply": "2022-09-23T00:20:01.589359Z"
    },
    "slideshow": {
     "slide_type": "fragment"
    },
    "trusted": false
   },
   "cell_type": "code",
   "source": "# Write an expression that uses x and y and evaluates to 18\nx = 4\ny = 2\n\nx * x + y\n",
   "execution_count": 5,
   "outputs": [
    {
     "output_type": "execute_result",
     "execution_count": 5,
     "data": {
      "text/plain": "18"
     },
     "metadata": {}
    }
   ]
  },
  {
   "metadata": {
    "slideshow": {
     "slide_type": "slide"
    }
   },
   "cell_type": "markdown",
   "source": "# Statements"
  },
  {
   "metadata": {
    "colab": {
     "base_uri": "https://localhost:8080/"
    },
    "execution": {
     "iopub.execute_input": "2022-09-23T00:20:01.593786Z",
     "iopub.status.busy": "2022-09-23T00:20:01.593065Z",
     "iopub.status.idle": "2022-09-23T00:20:01.595535Z",
     "shell.execute_reply": "2022-09-23T00:20:01.595954Z"
    },
    "executionInfo": {
     "elapsed": 614,
     "status": "ok",
     "timestamp": 1607391462358,
     "user": {
      "displayName": "Benedict Paten",
      "photoUrl": "https://lh3.googleusercontent.com/a-/AOh14Gh2rYrrH6yoNnUp0Oj4p4ouybc6ZcWGyPmKFtIY=s64",
      "userId": "06399644931392855882"
     },
     "user_tz": 480
    },
    "id": "MhVakYkCJ0wv",
    "outputId": "75f12273-51e2-4c97-91be-b93aa1d4c604",
    "slideshow": {
     "slide_type": "fragment"
    },
    "trusted": false
   },
   "cell_type": "code",
   "source": "# Statements are instructions to the interpreter\n# This is a statement telling Python, make x refer to the value 1\nx = 1 ",
   "execution_count": null,
   "outputs": []
  },
  {
   "metadata": {
    "id": "Fmbh2g2FKdNd",
    "slideshow": {
     "slide_type": "fragment"
    }
   },
   "cell_type": "markdown",
   "source": "A statement is everything that can make up a line of Python code.\n\nA statement can do something (eg update a variable)\n\nAn expression just computes a value\n\n* All expressions are statements.\n* Not all statements are expressions.\n\nNote: you may see slightly different definitions in textbooks, but I like these"
  },
  {
   "metadata": {
    "id": "mNIC7nQkOxEP",
    "slideshow": {
     "slide_type": "slide"
    }
   },
   "cell_type": "markdown",
   "source": "# Operators"
  },
  {
   "metadata": {
    "colab": {
     "base_uri": "https://localhost:8080/"
    },
    "execution": {
     "iopub.execute_input": "2022-09-23T00:20:01.600370Z",
     "iopub.status.busy": "2022-09-23T00:20:01.599687Z",
     "iopub.status.idle": "2022-09-23T00:20:01.602418Z",
     "shell.execute_reply": "2022-09-23T00:20:01.602838Z"
    },
    "executionInfo": {
     "elapsed": 395,
     "status": "ok",
     "timestamp": 1607391472811,
     "user": {
      "displayName": "Benedict Paten",
      "photoUrl": "https://lh3.googleusercontent.com/a-/AOh14Gh2rYrrH6yoNnUp0Oj4p4ouybc6ZcWGyPmKFtIY=s64",
      "userId": "06399644931392855882"
     },
     "user_tz": 480
    },
    "id": "o-rCwk1oOwM1",
    "outputId": "755ba91e-de2a-4182-ce62-687d269f404b",
    "slideshow": {
     "slide_type": "subslide"
    },
    "trusted": false
   },
   "cell_type": "code",
   "source": "# Operators perform basic operations on objects\n\n# Let's start with arithmetic operators\n\nx = 10\ny = 3\n\nprint(x + y)       # + is the addition operator,    a binary op\nprint(x - y)       # - is the subtraction operator, a binary op\nprint(  - x)       # - is also negation,            a unary op\n",
   "execution_count": null,
   "outputs": []
  },
  {
   "metadata": {
    "colab": {
     "base_uri": "https://localhost:8080/"
    },
    "execution": {
     "iopub.execute_input": "2022-09-23T00:20:01.607236Z",
     "iopub.status.busy": "2022-09-23T00:20:01.606496Z",
     "iopub.status.idle": "2022-09-23T00:20:01.609822Z",
     "shell.execute_reply": "2022-09-23T00:20:01.610280Z"
    },
    "executionInfo": {
     "elapsed": 386,
     "status": "ok",
     "timestamp": 1607391476046,
     "user": {
      "displayName": "Benedict Paten",
      "photoUrl": "https://lh3.googleusercontent.com/a-/AOh14Gh2rYrrH6yoNnUp0Oj4p4ouybc6ZcWGyPmKFtIY=s64",
      "userId": "06399644931392855882"
     },
     "user_tz": 480
    },
    "id": "RTsa3LB9PzAK",
    "outputId": "2cb111a5-d282-41f3-b67f-69058e3f23b5",
    "slideshow": {
     "slide_type": "subslide"
    },
    "trusted": false
   },
   "cell_type": "code",
   "source": "x = 10\ny = 3\n\nx * y # multiplication",
   "execution_count": null,
   "outputs": []
  },
  {
   "metadata": {
    "colab": {
     "base_uri": "https://localhost:8080/"
    },
    "execution": {
     "iopub.execute_input": "2022-09-23T00:20:01.614474Z",
     "iopub.status.busy": "2022-09-23T00:20:01.613791Z",
     "iopub.status.idle": "2022-09-23T00:20:01.616366Z",
     "shell.execute_reply": "2022-09-23T00:20:01.616780Z"
    },
    "executionInfo": {
     "elapsed": 372,
     "status": "ok",
     "timestamp": 1607391477584,
     "user": {
      "displayName": "Benedict Paten",
      "photoUrl": "https://lh3.googleusercontent.com/a-/AOh14Gh2rYrrH6yoNnUp0Oj4p4ouybc6ZcWGyPmKFtIY=s64",
      "userId": "06399644931392855882"
     },
     "user_tz": 480
    },
    "id": "vZaiIhnOP4UW",
    "outputId": "aaf74190-452c-44ac-8faa-70270bac0384",
    "slideshow": {
     "slide_type": "subslide"
    },
    "trusted": false
   },
   "cell_type": "code",
   "source": "x = 10\ny = 3\n\nx ** y # exponentiation ",
   "execution_count": null,
   "outputs": []
  },
  {
   "metadata": {
    "slideshow": {
     "slide_type": "fragment"
    }
   },
   "cell_type": "markdown",
   "source": "Note: The ** operator may be new to you, so try and remember it and difference with the * operator."
  },
  {
   "metadata": {
    "colab": {
     "base_uri": "https://localhost:8080/"
    },
    "execution": {
     "iopub.execute_input": "2022-09-23T00:20:01.621124Z",
     "iopub.status.busy": "2022-09-23T00:20:01.620389Z",
     "iopub.status.idle": "2022-09-23T00:20:01.623008Z",
     "shell.execute_reply": "2022-09-23T00:20:01.623436Z"
    },
    "executionInfo": {
     "elapsed": 383,
     "status": "ok",
     "timestamp": 1607391479027,
     "user": {
      "displayName": "Benedict Paten",
      "photoUrl": "https://lh3.googleusercontent.com/a-/AOh14Gh2rYrrH6yoNnUp0Oj4p4ouybc6ZcWGyPmKFtIY=s64",
      "userId": "06399644931392855882"
     },
     "user_tz": 480
    },
    "id": "tpccI3SiP7Ol",
    "outputId": "9214331e-4f89-4374-cf52-b994b7c0b2c2",
    "slideshow": {
     "slide_type": "subslide"
    },
    "trusted": false
   },
   "cell_type": "code",
   "source": "x = 10\ny = 3\n\nx / y # What's the value of this one ?",
   "execution_count": null,
   "outputs": []
  },
  {
   "metadata": {
    "colab": {
     "base_uri": "https://localhost:8080/"
    },
    "execution": {
     "iopub.execute_input": "2022-09-23T00:20:01.627866Z",
     "iopub.status.busy": "2022-09-23T00:20:01.627027Z",
     "iopub.status.idle": "2022-09-23T00:20:01.630283Z",
     "shell.execute_reply": "2022-09-23T00:20:01.629881Z"
    },
    "executionInfo": {
     "elapsed": 389,
     "status": "ok",
     "timestamp": 1607391480313,
     "user": {
      "displayName": "Benedict Paten",
      "photoUrl": "https://lh3.googleusercontent.com/a-/AOh14Gh2rYrrH6yoNnUp0Oj4p4ouybc6ZcWGyPmKFtIY=s64",
      "userId": "06399644931392855882"
     },
     "user_tz": 480
    },
    "id": "BFUrcwMXQEL3",
    "outputId": "3bd6b58a-c8dc-435d-9a27-ad1f03930f60",
    "slideshow": {
     "slide_type": "subslide"
    },
    "trusted": false
   },
   "cell_type": "code",
   "source": "x = 10\ny = 3\n\nx // y # And this one?",
   "execution_count": null,
   "outputs": []
  },
  {
   "metadata": {
    "pycharm": {
     "name": "#%% md\n"
    },
    "slideshow": {
     "slide_type": "fragment"
    }
   },
   "cell_type": "markdown",
   "source": "Note: learn and remember the difference between the integer division (//) and division (/) operators!"
  },
  {
   "metadata": {
    "colab": {
     "base_uri": "https://localhost:8080/"
    },
    "execution": {
     "iopub.execute_input": "2022-09-23T00:20:01.641849Z",
     "iopub.status.busy": "2022-09-23T00:20:01.641139Z",
     "iopub.status.idle": "2022-09-23T00:20:01.644090Z",
     "shell.execute_reply": "2022-09-23T00:20:01.644506Z"
    },
    "executionInfo": {
     "elapsed": 364,
     "status": "ok",
     "timestamp": 1607391485528,
     "user": {
      "displayName": "Benedict Paten",
      "photoUrl": "https://lh3.googleusercontent.com/a-/AOh14Gh2rYrrH6yoNnUp0Oj4p4ouybc6ZcWGyPmKFtIY=s64",
      "userId": "06399644931392855882"
     },
     "user_tz": 480
    },
    "id": "wKJ17ugFsXo1",
    "outputId": "359750e3-3454-4c56-f20d-40a0c665c67c",
    "slideshow": {
     "slide_type": "subslide"
    },
    "trusted": false
   },
   "cell_type": "code",
   "source": "x = 10\ny = 3\n\nx % y    # The modulus operator, it returns the \"remainder\"",
   "execution_count": null,
   "outputs": []
  },
  {
   "metadata": {
    "colab": {
     "base_uri": "https://localhost:8080/"
    },
    "execution": {
     "iopub.execute_input": "2022-09-23T00:20:01.648426Z",
     "iopub.status.busy": "2022-09-23T00:20:01.647775Z",
     "iopub.status.idle": "2022-09-23T00:20:01.650417Z",
     "shell.execute_reply": "2022-09-23T00:20:01.650829Z"
    },
    "executionInfo": {
     "elapsed": 335,
     "status": "ok",
     "timestamp": 1607391487065,
     "user": {
      "displayName": "Benedict Paten",
      "photoUrl": "https://lh3.googleusercontent.com/a-/AOh14Gh2rYrrH6yoNnUp0Oj4p4ouybc6ZcWGyPmKFtIY=s64",
      "userId": "06399644931392855882"
     },
     "user_tz": 480
    },
    "id": "-d4YQzH1slYv",
    "outputId": "2047f716-b6da-4148-b2c9-308ad5297796",
    "slideshow": {
     "slide_type": "subslide"
    },
    "trusted": false
   },
   "cell_type": "code",
   "source": "# It's a good way to determine if a number is divisible by another,\n# because if it is, the expression value will be 0\n4 % 2",
   "execution_count": null,
   "outputs": []
  },
  {
   "metadata": {
    "slideshow": {
     "slide_type": "subslide"
    }
   },
   "cell_type": "markdown",
   "source": "# Challenge 2"
  },
  {
   "metadata": {
    "execution": {
     "iopub.execute_input": "2022-09-23T00:20:01.654769Z",
     "iopub.status.busy": "2022-09-23T00:20:01.654018Z",
     "iopub.status.idle": "2022-09-23T00:20:01.655905Z",
     "shell.execute_reply": "2022-09-23T00:20:01.656432Z"
    },
    "slideshow": {
     "slide_type": "fragment"
    },
    "trusted": true
   },
   "cell_type": "code",
   "source": "x = 5\ny = 2\n# Write a statement that divides x by y, forgetting the remainder, \n# storing the result in a variable z\n\nz = x // y\nprint(z)",
   "execution_count": 1,
   "outputs": [
    {
     "output_type": "stream",
     "text": "2\n",
     "name": "stdout"
    }
   ]
  },
  {
   "metadata": {
    "id": "-_noHbEBglV5",
    "slideshow": {
     "slide_type": "slide"
    }
   },
   "cell_type": "markdown",
   "source": "# Operator Overloading"
  },
  {
   "metadata": {
    "colab": {
     "base_uri": "https://localhost:8080/"
    },
    "execution": {
     "iopub.execute_input": "2022-09-23T00:20:01.660729Z",
     "iopub.status.busy": "2022-09-23T00:20:01.660026Z",
     "iopub.status.idle": "2022-09-23T00:20:01.662806Z",
     "shell.execute_reply": "2022-09-23T00:20:01.663222Z"
    },
    "executionInfo": {
     "elapsed": 367,
     "status": "ok",
     "timestamp": 1607391491626,
     "user": {
      "displayName": "Benedict Paten",
      "photoUrl": "https://lh3.googleusercontent.com/a-/AOh14Gh2rYrrH6yoNnUp0Oj4p4ouybc6ZcWGyPmKFtIY=s64",
      "userId": "06399644931392855882"
     },
     "user_tz": 480
    },
    "id": "VM61C-mG8z10",
    "outputId": "eb800a43-f593-4dd0-b149-c9c40f311a1c",
    "slideshow": {
     "slide_type": "fragment"
    },
    "trusted": false
   },
   "cell_type": "code",
   "source": "5 + 10 + 12 # We can use \"+\" to add together numbers",
   "execution_count": null,
   "outputs": []
  },
  {
   "metadata": {
    "colab": {
     "base_uri": "https://localhost:8080/",
     "height": 35
    },
    "execution": {
     "iopub.execute_input": "2022-09-23T00:20:01.667380Z",
     "iopub.status.busy": "2022-09-23T00:20:01.666705Z",
     "iopub.status.idle": "2022-09-23T00:20:01.669376Z",
     "shell.execute_reply": "2022-09-23T00:20:01.669786Z"
    },
    "executionInfo": {
     "elapsed": 344,
     "status": "ok",
     "timestamp": 1607391522629,
     "user": {
      "displayName": "Benedict Paten",
      "photoUrl": "https://lh3.googleusercontent.com/a-/AOh14Gh2rYrrH6yoNnUp0Oj4p4ouybc6ZcWGyPmKFtIY=s64",
      "userId": "06399644931392855882"
     },
     "user_tz": 480
    },
    "id": "zsIwvpbFRzvf",
    "outputId": "2bc48222-e07d-4f25-ef67-6e3be2cd7aab",
    "slideshow": {
     "slide_type": "fragment"
    },
    "trusted": true
   },
   "cell_type": "code",
   "source": "# We can use \"+\" to concatenate strings\n# (This is an example of \"overloading\" or \"polymorphism\")\n\n\"This\" + \" \" + \"is\" + \" contrived\" # The '+' concatenates strings",
   "execution_count": 1,
   "outputs": [
    {
     "output_type": "execute_result",
     "execution_count": 1,
     "data": {
      "text/plain": "'This is contrived'"
     },
     "metadata": {}
    }
   ]
  },
  {
   "metadata": {
    "colab": {
     "base_uri": "https://localhost:8080/",
     "height": 198
    },
    "execution": {
     "iopub.execute_input": "2022-09-23T00:20:01.673431Z",
     "iopub.status.busy": "2022-09-23T00:20:01.672838Z",
     "iopub.status.idle": "2022-09-23T00:20:01.751084Z",
     "shell.execute_reply": "2022-09-23T00:20:01.750596Z"
    },
    "executionInfo": {
     "elapsed": 319,
     "status": "error",
     "timestamp": 1607391525883,
     "user": {
      "displayName": "Benedict Paten",
      "photoUrl": "https://lh3.googleusercontent.com/a-/AOh14Gh2rYrrH6yoNnUp0Oj4p4ouybc6ZcWGyPmKFtIY=s64",
      "userId": "06399644931392855882"
     },
     "user_tz": 480
    },
    "id": "cggT1iCJN7AI",
    "outputId": "57c8840f-f089-4328-e414-5a97914ce860",
    "slideshow": {
     "slide_type": "subslide"
    },
    "trusted": false
   },
   "cell_type": "code",
   "source": "# Note, this doesn't work because Python doesn't know \n# how to add a string and a number together\n\n\"this\" + 5",
   "execution_count": null,
   "outputs": []
  },
  {
   "metadata": {
    "id": "9XAjll9RUokG",
    "slideshow": {
     "slide_type": "slide"
    }
   },
   "cell_type": "markdown",
   "source": "# Abbreviated Assignment\n\nYou will see this a lot:"
  },
  {
   "metadata": {
    "colab": {
     "base_uri": "https://localhost:8080/"
    },
    "execution": {
     "iopub.execute_input": "2022-09-23T00:20:01.756077Z",
     "iopub.status.busy": "2022-09-23T00:20:01.755228Z",
     "iopub.status.idle": "2022-09-23T00:20:01.758282Z",
     "shell.execute_reply": "2022-09-23T00:20:01.758720Z"
    },
    "executionInfo": {
     "elapsed": 343,
     "status": "ok",
     "timestamp": 1607391531326,
     "user": {
      "displayName": "Benedict Paten",
      "photoUrl": "https://lh3.googleusercontent.com/a-/AOh14Gh2rYrrH6yoNnUp0Oj4p4ouybc6ZcWGyPmKFtIY=s64",
      "userId": "06399644931392855882"
     },
     "user_tz": 480
    },
    "id": "Ls-IKDqWUu0u",
    "outputId": "ccf895e0-81d1-4501-c0a6-a08dddb0dbe2",
    "slideshow": {
     "slide_type": "subslide"
    },
    "trusted": false
   },
   "cell_type": "code",
   "source": "x = 1\n\n# Instead of writing\n\nx = x + 5\n\n# you can use the shorthand:\n\nx += 5         # This means \"add 5 to x\"\n\nx",
   "execution_count": null,
   "outputs": []
  },
  {
   "metadata": {
    "id": "1zKtAWt7Uvzo",
    "slideshow": {
     "slide_type": "subslide"
    }
   },
   "cell_type": "markdown",
   "source": "This works for all the obvious math operators:"
  },
  {
   "metadata": {
    "colab": {
     "base_uri": "https://localhost:8080/"
    },
    "execution": {
     "iopub.execute_input": "2022-09-23T00:20:01.762761Z",
     "iopub.status.busy": "2022-09-23T00:20:01.762020Z",
     "iopub.status.idle": "2022-09-23T00:20:01.764537Z",
     "shell.execute_reply": "2022-09-23T00:20:01.764956Z"
    },
    "executionInfo": {
     "elapsed": 370,
     "status": "ok",
     "timestamp": 1607391536440,
     "user": {
      "displayName": "Benedict Paten",
      "photoUrl": "https://lh3.googleusercontent.com/a-/AOh14Gh2rYrrH6yoNnUp0Oj4p4ouybc6ZcWGyPmKFtIY=s64",
      "userId": "06399644931392855882"
     },
     "user_tz": 480
    },
    "id": "DWhES0_nU0xS",
    "outputId": "93b32e09-3dff-49b0-ed65-0121ead40033",
    "slideshow": {
     "slide_type": "subslide"
    },
    "trusted": false
   },
   "cell_type": "code",
   "source": "x = 11\n\nx *= 2 # multiply x by 2, aka x = x * 2\nx",
   "execution_count": null,
   "outputs": []
  },
  {
   "metadata": {
    "colab": {
     "base_uri": "https://localhost:8080/"
    },
    "execution": {
     "iopub.execute_input": "2022-09-23T00:20:01.768976Z",
     "iopub.status.busy": "2022-09-23T00:20:01.768343Z",
     "iopub.status.idle": "2022-09-23T00:20:01.770721Z",
     "shell.execute_reply": "2022-09-23T00:20:01.771143Z"
    },
    "executionInfo": {
     "elapsed": 357,
     "status": "ok",
     "timestamp": 1607391540567,
     "user": {
      "displayName": "Benedict Paten",
      "photoUrl": "https://lh3.googleusercontent.com/a-/AOh14Gh2rYrrH6yoNnUp0Oj4p4ouybc6ZcWGyPmKFtIY=s64",
      "userId": "06399644931392855882"
     },
     "user_tz": 480
    },
    "id": "536MyapkU21H",
    "outputId": "d9cf7d10-91f6-412e-f8ab-355a8488bdb4",
    "slideshow": {
     "slide_type": "subslide"
    },
    "trusted": false
   },
   "cell_type": "code",
   "source": "x = 11\n\nx -= 3 # subtract three, aka x = x - 3\nx",
   "execution_count": null,
   "outputs": []
  },
  {
   "metadata": {
    "colab": {
     "base_uri": "https://localhost:8080/"
    },
    "execution": {
     "iopub.execute_input": "2022-09-23T00:20:01.774925Z",
     "iopub.status.busy": "2022-09-23T00:20:01.774259Z",
     "iopub.status.idle": "2022-09-23T00:20:01.776709Z",
     "shell.execute_reply": "2022-09-23T00:20:01.777127Z"
    },
    "executionInfo": {
     "elapsed": 372,
     "status": "ok",
     "timestamp": 1607391542854,
     "user": {
      "displayName": "Benedict Paten",
      "photoUrl": "https://lh3.googleusercontent.com/a-/AOh14Gh2rYrrH6yoNnUp0Oj4p4ouybc6ZcWGyPmKFtIY=s64",
      "userId": "06399644931392855882"
     },
     "user_tz": 480
    },
    "id": "GonNznhrU6E1",
    "outputId": "092d1fb9-e1c9-4786-d001-36518e69dd74",
    "slideshow": {
     "slide_type": "subslide"
    },
    "trusted": false
   },
   "cell_type": "code",
   "source": "x = 11\n\nx /= 2 # divide by 2 \nx",
   "execution_count": null,
   "outputs": []
  },
  {
   "metadata": {
    "colab": {
     "base_uri": "https://localhost:8080/"
    },
    "execution": {
     "iopub.execute_input": "2022-09-23T00:20:01.780879Z",
     "iopub.status.busy": "2022-09-23T00:20:01.780260Z",
     "iopub.status.idle": "2022-09-23T00:20:01.782613Z",
     "shell.execute_reply": "2022-09-23T00:20:01.783076Z"
    },
    "executionInfo": {
     "elapsed": 358,
     "status": "ok",
     "timestamp": 1607391544853,
     "user": {
      "displayName": "Benedict Paten",
      "photoUrl": "https://lh3.googleusercontent.com/a-/AOh14Gh2rYrrH6yoNnUp0Oj4p4ouybc6ZcWGyPmKFtIY=s64",
      "userId": "06399644931392855882"
     },
     "user_tz": 480
    },
    "id": "Sm7tItanU8WA",
    "outputId": "c5bbbc82-a61d-4cf8-cc55-cc1161489f4a",
    "slideshow": {
     "slide_type": "subslide"
    },
    "trusted": false
   },
   "cell_type": "code",
   "source": "x = 11\n\nx //= 2 # divide by 2 and forget fraction\nx",
   "execution_count": null,
   "outputs": []
  },
  {
   "metadata": {
    "colab": {
     "base_uri": "https://localhost:8080/"
    },
    "execution": {
     "iopub.execute_input": "2022-09-23T00:20:01.786830Z",
     "iopub.status.busy": "2022-09-23T00:20:01.786180Z",
     "iopub.status.idle": "2022-09-23T00:20:01.788538Z",
     "shell.execute_reply": "2022-09-23T00:20:01.788946Z"
    },
    "executionInfo": {
     "elapsed": 387,
     "status": "ok",
     "timestamp": 1607391549191,
     "user": {
      "displayName": "Benedict Paten",
      "photoUrl": "https://lh3.googleusercontent.com/a-/AOh14Gh2rYrrH6yoNnUp0Oj4p4ouybc6ZcWGyPmKFtIY=s64",
      "userId": "06399644931392855882"
     },
     "user_tz": 480
    },
    "id": "WRp0r1tAU_Kg",
    "outputId": "877fa5c8-c703-4696-a147-da34228da6f3",
    "slideshow": {
     "slide_type": "subslide"
    },
    "trusted": false
   },
   "cell_type": "code",
   "source": "x = 11\n\nx %= 3 # Take x mod 3 and store the result in x, i.e. x = x % 3\nx",
   "execution_count": null,
   "outputs": []
  },
  {
   "metadata": {
    "slideshow": {
     "slide_type": "subslide"
    }
   },
   "cell_type": "markdown",
   "source": "# Challenge 3"
  },
  {
   "metadata": {
    "execution": {
     "iopub.execute_input": "2022-09-23T00:20:01.793075Z",
     "iopub.status.busy": "2022-09-23T00:20:01.792409Z",
     "iopub.status.idle": "2022-09-23T00:20:01.794303Z",
     "shell.execute_reply": "2022-09-23T00:20:01.794715Z"
    },
    "slideshow": {
     "slide_type": "fragment"
    },
    "trusted": true
   },
   "cell_type": "code",
   "source": "x = 7 \ny = 2\n# Use abbreviated assignment to subtract y from x, \n# storing the result as x\n\nx -= y  %  x = x - y\nprint(x)",
   "execution_count": 2,
   "outputs": [
    {
     "output_type": "execute_result",
     "execution_count": 2,
     "data": {
      "text/plain": "5"
     },
     "metadata": {}
    }
   ]
  },
  {
   "metadata": {
    "id": "6oYe0AgQl7kl",
    "slideshow": {
     "slide_type": "slide"
    }
   },
   "cell_type": "markdown",
   "source": "# Boolean Type\n\nPython has a special boolean type, \nwhich can either be 'True' or 'False'. "
  },
  {
   "metadata": {
    "colab": {
     "base_uri": "https://localhost:8080/"
    },
    "execution": {
     "iopub.execute_input": "2022-09-23T00:20:01.798773Z",
     "iopub.status.busy": "2022-09-23T00:20:01.798133Z",
     "iopub.status.idle": "2022-09-23T00:20:01.800894Z",
     "shell.execute_reply": "2022-09-23T00:20:01.801379Z"
    },
    "executionInfo": {
     "elapsed": 342,
     "status": "ok",
     "timestamp": 1607391563443,
     "user": {
      "displayName": "Benedict Paten",
      "photoUrl": "https://lh3.googleusercontent.com/a-/AOh14Gh2rYrrH6yoNnUp0Oj4p4ouybc6ZcWGyPmKFtIY=s64",
      "userId": "06399644931392855882"
     },
     "user_tz": 480
    },
    "id": "12mmMhhGmEmz",
    "outputId": "b52afd9e-f599-4cd7-e635-58f70bff9a18",
    "slideshow": {
     "slide_type": "fragment"
    },
    "trusted": false
   },
   "cell_type": "code",
   "source": "type(True)",
   "execution_count": null,
   "outputs": []
  },
  {
   "metadata": {
    "colab": {
     "base_uri": "https://localhost:8080/"
    },
    "execution": {
     "iopub.execute_input": "2022-09-23T00:20:01.805380Z",
     "iopub.status.busy": "2022-09-23T00:20:01.804692Z",
     "iopub.status.idle": "2022-09-23T00:20:01.807447Z",
     "shell.execute_reply": "2022-09-23T00:20:01.807879Z"
    },
    "executionInfo": {
     "elapsed": 387,
     "status": "ok",
     "timestamp": 1607391564807,
     "user": {
      "displayName": "Benedict Paten",
      "photoUrl": "https://lh3.googleusercontent.com/a-/AOh14Gh2rYrrH6yoNnUp0Oj4p4ouybc6ZcWGyPmKFtIY=s64",
      "userId": "06399644931392855882"
     },
     "user_tz": 480
    },
    "id": "IN_9Y3UdmPVi",
    "outputId": "fe44676e-cbf3-4151-b441-2bf6bb4447a3",
    "slideshow": {
     "slide_type": "fragment"
    },
    "trusted": false
   },
   "cell_type": "code",
   "source": "type(False)",
   "execution_count": null,
   "outputs": []
  },
  {
   "metadata": {
    "id": "SjGU71_1QWqx",
    "slideshow": {
     "slide_type": "slide"
    }
   },
   "cell_type": "markdown",
   "source": "# Logical Operators\n\n Booleans are used for making decisions in your program.\n \n To do this we use logical operators, which evaluate to booleans."
  },
  {
   "metadata": {
    "colab": {
     "base_uri": "https://localhost:8080/"
    },
    "execution": {
     "iopub.execute_input": "2022-09-23T00:20:01.812382Z",
     "iopub.status.busy": "2022-09-23T00:20:01.811476Z",
     "iopub.status.idle": "2022-09-23T00:20:01.814312Z",
     "shell.execute_reply": "2022-09-23T00:20:01.814724Z"
    },
    "executionInfo": {
     "elapsed": 601,
     "status": "ok",
     "timestamp": 1607391567269,
     "user": {
      "displayName": "Benedict Paten",
      "photoUrl": "https://lh3.googleusercontent.com/a-/AOh14Gh2rYrrH6yoNnUp0Oj4p4ouybc6ZcWGyPmKFtIY=s64",
      "userId": "06399644931392855882"
     },
     "user_tz": 480
    },
    "id": "bKqHlRGZ6Vyz",
    "outputId": "989aeb11-c58f-4f9a-b43c-9ca6f21ebe34",
    "slideshow": {
     "slide_type": "subslide"
    },
    "trusted": false
   },
   "cell_type": "code",
   "source": "x = 5\ny = 10\n\nx > y # The greater than operator compares two things",
   "execution_count": null,
   "outputs": []
  },
  {
   "metadata": {
    "colab": {
     "base_uri": "https://localhost:8080/"
    },
    "execution": {
     "iopub.execute_input": "2022-09-23T00:20:01.819324Z",
     "iopub.status.busy": "2022-09-23T00:20:01.818659Z",
     "iopub.status.idle": "2022-09-23T00:20:01.821244Z",
     "shell.execute_reply": "2022-09-23T00:20:01.821836Z"
    },
    "executionInfo": {
     "elapsed": 361,
     "status": "ok",
     "timestamp": 1607391568662,
     "user": {
      "displayName": "Benedict Paten",
      "photoUrl": "https://lh3.googleusercontent.com/a-/AOh14Gh2rYrrH6yoNnUp0Oj4p4ouybc6ZcWGyPmKFtIY=s64",
      "userId": "06399644931392855882"
     },
     "user_tz": 480
    },
    "id": "WowJC26dmoPX",
    "outputId": "fd4ea3be-d279-45e5-b6e2-5aeb14e4fb6f",
    "slideshow": {
     "slide_type": "subslide"
    },
    "trusted": false
   },
   "cell_type": "code",
   "source": "# To see the relationship with Booleans\nx = 5\ny = 10\n\ntype(x > y)",
   "execution_count": null,
   "outputs": []
  },
  {
   "metadata": {
    "colab": {
     "base_uri": "https://localhost:8080/"
    },
    "execution": {
     "iopub.execute_input": "2022-09-23T00:20:01.825737Z",
     "iopub.status.busy": "2022-09-23T00:20:01.825096Z",
     "iopub.status.idle": "2022-09-23T00:20:01.828296Z",
     "shell.execute_reply": "2022-09-23T00:20:01.827856Z"
    },
    "executionInfo": {
     "elapsed": 385,
     "status": "ok",
     "timestamp": 1607391570353,
     "user": {
      "displayName": "Benedict Paten",
      "photoUrl": "https://lh3.googleusercontent.com/a-/AOh14Gh2rYrrH6yoNnUp0Oj4p4ouybc6ZcWGyPmKFtIY=s64",
      "userId": "06399644931392855882"
     },
     "user_tz": 480
    },
    "id": "SJcNUseq6VzG",
    "outputId": "e12c144f-3997-416b-9cd5-66c3b31a5a02",
    "slideshow": {
     "slide_type": "subslide"
    },
    "trusted": false
   },
   "cell_type": "code",
   "source": "# There are a bunch of these\n\nx >= y # Is x greater than or equals to y?",
   "execution_count": null,
   "outputs": []
  },
  {
   "metadata": {
    "colab": {
     "base_uri": "https://localhost:8080/"
    },
    "execution": {
     "iopub.execute_input": "2022-09-23T00:20:01.832936Z",
     "iopub.status.busy": "2022-09-23T00:20:01.832116Z",
     "iopub.status.idle": "2022-09-23T00:20:01.835268Z",
     "shell.execute_reply": "2022-09-23T00:20:01.835696Z"
    },
    "executionInfo": {
     "elapsed": 403,
     "status": "ok",
     "timestamp": 1607391571943,
     "user": {
      "displayName": "Benedict Paten",
      "photoUrl": "https://lh3.googleusercontent.com/a-/AOh14Gh2rYrrH6yoNnUp0Oj4p4ouybc6ZcWGyPmKFtIY=s64",
      "userId": "06399644931392855882"
     },
     "user_tz": 480
    },
    "id": "hDYP9S1J6VzI",
    "outputId": "1c178c9c-9aa6-41a2-eb98-de7169e6cba9",
    "slideshow": {
     "slide_type": "subslide"
    },
    "trusted": false
   },
   "cell_type": "code",
   "source": "x < y # Is x less than y?",
   "execution_count": null,
   "outputs": []
  },
  {
   "metadata": {
    "colab": {
     "base_uri": "https://localhost:8080/"
    },
    "execution": {
     "iopub.execute_input": "2022-09-23T00:20:01.839872Z",
     "iopub.status.busy": "2022-09-23T00:20:01.839160Z",
     "iopub.status.idle": "2022-09-23T00:20:01.841736Z",
     "shell.execute_reply": "2022-09-23T00:20:01.842216Z"
    },
    "executionInfo": {
     "elapsed": 343,
     "status": "ok",
     "timestamp": 1607391579454,
     "user": {
      "displayName": "Benedict Paten",
      "photoUrl": "https://lh3.googleusercontent.com/a-/AOh14Gh2rYrrH6yoNnUp0Oj4p4ouybc6ZcWGyPmKFtIY=s64",
      "userId": "06399644931392855882"
     },
     "user_tz": 480
    },
    "id": "i_JdqLQi6VzK",
    "outputId": "9d69d1b9-25c8-4bd3-b678-436670d83b96",
    "slideshow": {
     "slide_type": "subslide"
    },
    "trusted": false
   },
   "cell_type": "code",
   "source": "x <= y # Less than or equals?",
   "execution_count": null,
   "outputs": []
  },
  {
   "metadata": {
    "colab": {
     "base_uri": "https://localhost:8080/"
    },
    "execution": {
     "iopub.execute_input": "2022-09-23T00:20:01.846327Z",
     "iopub.status.busy": "2022-09-23T00:20:01.845669Z",
     "iopub.status.idle": "2022-09-23T00:20:01.848275Z",
     "shell.execute_reply": "2022-09-23T00:20:01.848685Z"
    },
    "executionInfo": {
     "elapsed": 321,
     "status": "ok",
     "timestamp": 1607391580841,
     "user": {
      "displayName": "Benedict Paten",
      "photoUrl": "https://lh3.googleusercontent.com/a-/AOh14Gh2rYrrH6yoNnUp0Oj4p4ouybc6ZcWGyPmKFtIY=s64",
      "userId": "06399644931392855882"
     },
     "user_tz": 480
    },
    "id": "fXbNwOfd6VzM",
    "outputId": "878ea4b5-c993-4510-ce61-bb94482ba231",
    "slideshow": {
     "slide_type": "subslide"
    },
    "trusted": false
   },
   "cell_type": "code",
   "source": "# What about this one?\n\nx == y",
   "execution_count": null,
   "outputs": []
  },
  {
   "metadata": {
    "id": "oEu8nmKg6VzR",
    "slideshow": {
     "slide_type": "fragment"
    }
   },
   "cell_type": "markdown",
   "source": "* As we discussed earlier, in Python (and many languages) '=' is the assignment operator\n* Logical equals is  '=='. Some people find this weird, but you get over it.\n"
  },
  {
   "metadata": {
    "colab": {
     "base_uri": "https://localhost:8080/"
    },
    "execution": {
     "iopub.execute_input": "2022-09-23T00:20:01.854077Z",
     "iopub.status.busy": "2022-09-23T00:20:01.853404Z",
     "iopub.status.idle": "2022-09-23T00:20:01.856427Z",
     "shell.execute_reply": "2022-09-23T00:20:01.856037Z"
    },
    "executionInfo": {
     "elapsed": 336,
     "status": "ok",
     "timestamp": 1607391583102,
     "user": {
      "displayName": "Benedict Paten",
      "photoUrl": "https://lh3.googleusercontent.com/a-/AOh14Gh2rYrrH6yoNnUp0Oj4p4ouybc6ZcWGyPmKFtIY=s64",
      "userId": "06399644931392855882"
     },
     "user_tz": 480
    },
    "id": "hkZW2hBN_F9k",
    "outputId": "b95dc957-8a08-4321-fc66-b2e182f523db",
    "slideshow": {
     "slide_type": "subslide"
    },
    "trusted": false
   },
   "cell_type": "code",
   "source": "# Python also has the not logical equals operator !=\n\nx != y          # Read this as \"does x not equal y?\"",
   "execution_count": null,
   "outputs": []
  },
  {
   "metadata": {
    "colab": {
     "base_uri": "https://localhost:8080/"
    },
    "execution": {
     "iopub.execute_input": "2022-09-23T00:20:01.861099Z",
     "iopub.status.busy": "2022-09-23T00:20:01.860262Z",
     "iopub.status.idle": "2022-09-23T00:20:01.863078Z",
     "shell.execute_reply": "2022-09-23T00:20:01.863504Z"
    },
    "executionInfo": {
     "elapsed": 344,
     "status": "ok",
     "timestamp": 1607391585169,
     "user": {
      "displayName": "Benedict Paten",
      "photoUrl": "https://lh3.googleusercontent.com/a-/AOh14Gh2rYrrH6yoNnUp0Oj4p4ouybc6ZcWGyPmKFtIY=s64",
      "userId": "06399644931392855882"
     },
     "user_tz": 480
    },
    "id": "IGoHXsjM6VzR",
    "outputId": "49896c73-c773-4e13-b826-19ff54a18be8",
    "slideshow": {
     "slide_type": "subslide"
    },
    "trusted": false
   },
   "cell_type": "code",
   "source": "# We can compose logical statements into complex expressions \n# using logical 'and' and 'or'\n\nx = 5\ny = 10\nz = 7\n\nx > y or z > x  # Says: True if x is greater than y \n                #       or z is greater than x",
   "execution_count": null,
   "outputs": []
  },
  {
   "metadata": {
    "colab": {
     "base_uri": "https://localhost:8080/"
    },
    "execution": {
     "iopub.execute_input": "2022-09-23T00:20:01.867776Z",
     "iopub.status.busy": "2022-09-23T00:20:01.867131Z",
     "iopub.status.idle": "2022-09-23T00:20:01.869774Z",
     "shell.execute_reply": "2022-09-23T00:20:01.870398Z"
    },
    "executionInfo": {
     "elapsed": 366,
     "status": "ok",
     "timestamp": 1607391587116,
     "user": {
      "displayName": "Benedict Paten",
      "photoUrl": "https://lh3.googleusercontent.com/a-/AOh14Gh2rYrrH6yoNnUp0Oj4p4ouybc6ZcWGyPmKFtIY=s64",
      "userId": "06399644931392855882"
     },
     "user_tz": 480
    },
    "id": "BI0J-9Bt6VzV",
    "outputId": "17a0145a-4299-4342-fe62-f20df8342b62",
    "slideshow": {
     "slide_type": "subslide"
    },
    "trusted": false
   },
   "cell_type": "code",
   "source": "# Similarly\n\ny > x and y > z # Says: True if y is greater than x AND y is greater than z",
   "execution_count": null,
   "outputs": []
  },
  {
   "metadata": {
    "colab": {
     "base_uri": "https://localhost:8080/"
    },
    "execution": {
     "iopub.execute_input": "2022-09-23T00:20:01.874340Z",
     "iopub.status.busy": "2022-09-23T00:20:01.873674Z",
     "iopub.status.idle": "2022-09-23T00:20:01.876378Z",
     "shell.execute_reply": "2022-09-23T00:20:01.876792Z"
    },
    "executionInfo": {
     "elapsed": 344,
     "status": "ok",
     "timestamp": 1607391588715,
     "user": {
      "displayName": "Benedict Paten",
      "photoUrl": "https://lh3.googleusercontent.com/a-/AOh14Gh2rYrrH6yoNnUp0Oj4p4ouybc6ZcWGyPmKFtIY=s64",
      "userId": "06399644931392855882"
     },
     "user_tz": 480
    },
    "id": "fYlNC0fz6VzY",
    "outputId": "abf04d8b-c83b-4ee8-ee70-ec4fc25269ed",
    "slideshow": {
     "slide_type": "subslide"
    },
    "trusted": false
   },
   "cell_type": "code",
   "source": "# There is also the unary negation operator: not\n\nnot True",
   "execution_count": null,
   "outputs": []
  },
  {
   "metadata": {
    "colab": {
     "base_uri": "https://localhost:8080/"
    },
    "execution": {
     "iopub.execute_input": "2022-09-23T00:20:01.881408Z",
     "iopub.status.busy": "2022-09-23T00:20:01.880377Z",
     "iopub.status.idle": "2022-09-23T00:20:01.883443Z",
     "shell.execute_reply": "2022-09-23T00:20:01.883848Z"
    },
    "executionInfo": {
     "elapsed": 345,
     "status": "ok",
     "timestamp": 1607391590335,
     "user": {
      "displayName": "Benedict Paten",
      "photoUrl": "https://lh3.googleusercontent.com/a-/AOh14Gh2rYrrH6yoNnUp0Oj4p4ouybc6ZcWGyPmKFtIY=s64",
      "userId": "06399644931392855882"
     },
     "user_tz": 480
    },
    "id": "ffSYgAtK6Vze",
    "outputId": "cdf7bcbc-8c10-4244-b435-c49b1bbc592e",
    "slideshow": {
     "slide_type": "subslide"
    },
    "trusted": false
   },
   "cell_type": "code",
   "source": "# Use it to switch True to False and vice versa:\n\ny = 0\nx = 1\n\nnot y > x",
   "execution_count": null,
   "outputs": []
  },
  {
   "metadata": {
    "id": "cNDSDbL86Vzh",
    "slideshow": {
     "slide_type": "subslide"
    }
   },
   "cell_type": "markdown",
   "source": "Logical comparisons also work with strings"
  },
  {
   "metadata": {
    "colab": {
     "base_uri": "https://localhost:8080/"
    },
    "execution": {
     "iopub.execute_input": "2022-09-23T00:20:01.887913Z",
     "iopub.status.busy": "2022-09-23T00:20:01.887227Z",
     "iopub.status.idle": "2022-09-23T00:20:01.889875Z",
     "shell.execute_reply": "2022-09-23T00:20:01.890284Z"
    },
    "executionInfo": {
     "elapsed": 338,
     "status": "ok",
     "timestamp": 1607391592411,
     "user": {
      "displayName": "Benedict Paten",
      "photoUrl": "https://lh3.googleusercontent.com/a-/AOh14Gh2rYrrH6yoNnUp0Oj4p4ouybc6ZcWGyPmKFtIY=s64",
      "userId": "06399644931392855882"
     },
     "user_tz": 480
    },
    "id": "NEN92T0s6Vzk",
    "outputId": "9442c91d-f428-463a-fea0-0343ce7b5acd",
    "slideshow": {
     "slide_type": "fragment"
    },
    "trusted": false
   },
   "cell_type": "code",
   "source": "# String comparison\n\n\"cats\" > \"dogs\" # ?",
   "execution_count": null,
   "outputs": []
  },
  {
   "metadata": {
    "execution": {
     "iopub.execute_input": "2022-09-23T00:20:01.893713Z",
     "iopub.status.busy": "2022-09-23T00:20:01.893047Z",
     "iopub.status.idle": "2022-09-23T00:20:01.895018Z",
     "shell.execute_reply": "2022-09-23T00:20:01.895739Z"
    },
    "executionInfo": {
     "elapsed": 339,
     "status": "ok",
     "timestamp": 1607391594107,
     "user": {
      "displayName": "Benedict Paten",
      "photoUrl": "https://lh3.googleusercontent.com/a-/AOh14Gh2rYrrH6yoNnUp0Oj4p4ouybc6ZcWGyPmKFtIY=s64",
      "userId": "06399644931392855882"
     },
     "user_tz": 480
    },
    "id": "RMv-T1e26Vzp",
    "slideshow": {
     "slide_type": "notes"
    },
    "trusted": false
   },
   "cell_type": "code",
   "source": "# Suggested exercise: play with >, <, >=, <=, not, and, or, () \n# and see if they do what you expect\n\n## Also definitely read text book on this for more thorough treatment",
   "execution_count": null,
   "outputs": []
  },
  {
   "metadata": {
    "slideshow": {
     "slide_type": "subslide"
    }
   },
   "cell_type": "markdown",
   "source": "# Challenge 4"
  },
  {
   "metadata": {
    "execution": {
     "iopub.execute_input": "2022-09-23T00:20:01.899754Z",
     "iopub.status.busy": "2022-09-23T00:20:01.899041Z",
     "iopub.status.idle": "2022-09-23T00:20:01.905493Z",
     "shell.execute_reply": "2022-09-23T00:20:01.905972Z"
    },
    "slideshow": {
     "slide_type": "fragment"
    },
    "trusted": true
   },
   "cell_type": "code",
   "source": "# The 'int' function converts its argument to an int (if possible)\n\nx = int(input(\"Enter a number: \"))\ny = int(input(\"Enter a second number: \"))\n# Write a logical expression that is True if and only if \n# x is greater than y or x is divisible by y\n\n# (x > y) or (x % y == 0) \n\n# not (x <= y) or (x % y == 0) \n\nx += 1",
   "execution_count": null,
   "outputs": []
  },
  {
   "metadata": {
    "id": "CLy5-zuqmV6k",
    "slideshow": {
     "slide_type": "slide"
    }
   },
   "cell_type": "markdown",
   "source": "# Order of operations\n\nThis is a boring topic, but if you don't understand it, you'll write lots of bugs"
  },
  {
   "metadata": {
    "trusted": false
   },
   "cell_type": "code",
   "source": "x = 2\ny = 3\n\nx + y * x",
   "execution_count": null,
   "outputs": []
  },
  {
   "metadata": {
    "colab": {
     "base_uri": "https://localhost:8080/"
    },
    "execution": {
     "iopub.execute_input": "2022-09-23T00:20:01.910349Z",
     "iopub.status.busy": "2022-09-23T00:20:01.909608Z",
     "iopub.status.idle": "2022-09-23T00:20:01.912870Z",
     "shell.execute_reply": "2022-09-23T00:20:01.913294Z"
    },
    "executionInfo": {
     "elapsed": 342,
     "status": "ok",
     "timestamp": 1607391600951,
     "user": {
      "displayName": "Benedict Paten",
      "photoUrl": "https://lh3.googleusercontent.com/a-/AOh14Gh2rYrrH6yoNnUp0Oj4p4ouybc6ZcWGyPmKFtIY=s64",
      "userId": "06399644931392855882"
     },
     "user_tz": 480
    },
    "id": "g0g2n8E7mkSf",
    "outputId": "df09bf20-fa8c-4ed9-e670-97503a94867d",
    "slideshow": {
     "slide_type": "subslide"
    },
    "trusted": false
   },
   "cell_type": "code",
   "source": "# Just like in math, it is important to know the order of operands\n# in Python\n\nx = 2\ny = 3\n\nx + y * x # Yup, this works just like math",
   "execution_count": null,
   "outputs": []
  },
  {
   "metadata": {
    "colab": {
     "base_uri": "https://localhost:8080/"
    },
    "execution": {
     "iopub.execute_input": "2022-09-23T00:20:01.917462Z",
     "iopub.status.busy": "2022-09-23T00:20:01.916775Z",
     "iopub.status.idle": "2022-09-23T00:20:01.919391Z",
     "shell.execute_reply": "2022-09-23T00:20:01.919890Z"
    },
    "executionInfo": {
     "elapsed": 366,
     "status": "ok",
     "timestamp": 1607391602661,
     "user": {
      "displayName": "Benedict Paten",
      "photoUrl": "https://lh3.googleusercontent.com/a-/AOh14Gh2rYrrH6yoNnUp0Oj4p4ouybc6ZcWGyPmKFtIY=s64",
      "userId": "06399644931392855882"
     },
     "user_tz": 480
    },
    "id": "kcKJf8C0nGIQ",
    "outputId": "d4675860-1131-433d-c9dc-78a447ca072b",
    "slideshow": {
     "slide_type": "subslide"
    },
    "trusted": false
   },
   "cell_type": "code",
   "source": "# If you want to force the addition \n# before the multiplication you can use brackets, like in math\n\n(x + y) * x ",
   "execution_count": null,
   "outputs": []
  },
  {
   "metadata": {
    "colab": {
     "base_uri": "https://localhost:8080/"
    },
    "execution": {
     "iopub.execute_input": "2022-09-23T00:20:01.923971Z",
     "iopub.status.busy": "2022-09-23T00:20:01.923238Z",
     "iopub.status.idle": "2022-09-23T00:20:01.926072Z",
     "shell.execute_reply": "2022-09-23T00:20:01.926486Z"
    },
    "executionInfo": {
     "elapsed": 350,
     "status": "ok",
     "timestamp": 1607391604199,
     "user": {
      "displayName": "Benedict Paten",
      "photoUrl": "https://lh3.googleusercontent.com/a-/AOh14Gh2rYrrH6yoNnUp0Oj4p4ouybc6ZcWGyPmKFtIY=s64",
      "userId": "06399644931392855882"
     },
     "user_tz": 480
    },
    "id": "Y7Zjv-vPoEjQ",
    "outputId": "5780e325-2091-4cd1-8a89-00f26eccda95",
    "slideshow": {
     "slide_type": "subslide"
    },
    "trusted": false
   },
   "cell_type": "code",
   "source": "# Exponents have higher precedence than division/multiplication\n# The exponent happens first\n\n2 * 2**2 ",
   "execution_count": null,
   "outputs": []
  },
  {
   "metadata": {
    "colab": {
     "base_uri": "https://localhost:8080/"
    },
    "execution": {
     "iopub.execute_input": "2022-09-23T00:20:01.930628Z",
     "iopub.status.busy": "2022-09-23T00:20:01.929929Z",
     "iopub.status.idle": "2022-09-23T00:20:01.932620Z",
     "shell.execute_reply": "2022-09-23T00:20:01.933032Z"
    },
    "executionInfo": {
     "elapsed": 372,
     "status": "ok",
     "timestamp": 1607391605731,
     "user": {
      "displayName": "Benedict Paten",
      "photoUrl": "https://lh3.googleusercontent.com/a-/AOh14Gh2rYrrH6yoNnUp0Oj4p4ouybc6ZcWGyPmKFtIY=s64",
      "userId": "06399644931392855882"
     },
     "user_tz": 480
    },
    "id": "QO7dKEBPnsoH",
    "outputId": "b5fe6c37-fe98-46f4-ba9c-f7c117422efc",
    "slideshow": {
     "slide_type": "subslide"
    },
    "trusted": false
   },
   "cell_type": "code",
   "source": "# Arithmetic operators have precidence over logical operators\n\nx * y > x + y ",
   "execution_count": null,
   "outputs": []
  },
  {
   "metadata": {
    "colab": {
     "base_uri": "https://localhost:8080/"
    },
    "execution": {
     "iopub.execute_input": "2022-09-23T00:20:01.938103Z",
     "iopub.status.busy": "2022-09-23T00:20:01.937105Z",
     "iopub.status.idle": "2022-09-23T00:20:01.940951Z",
     "shell.execute_reply": "2022-09-23T00:20:01.941698Z"
    },
    "executionInfo": {
     "elapsed": 499,
     "status": "ok",
     "timestamp": 1607391607443,
     "user": {
      "displayName": "Benedict Paten",
      "photoUrl": "https://lh3.googleusercontent.com/a-/AOh14Gh2rYrrH6yoNnUp0Oj4p4ouybc6ZcWGyPmKFtIY=s64",
      "userId": "06399644931392855882"
     },
     "user_tz": 480
    },
    "id": "AZ32yKDSsARP",
    "outputId": "320ef43f-b98f-4d1f-8f1d-c694a9e08aa1",
    "slideshow": {
     "slide_type": "subslide"
    },
    "trusted": false
   },
   "cell_type": "code",
   "source": "# Sometimes it is helpful to use brackets, because \n# it's hard to remember the order of operations...\n\nnot 3 * 5 > 10 and 2 > 1",
   "execution_count": null,
   "outputs": []
  },
  {
   "metadata": {
    "colab": {
     "base_uri": "https://localhost:8080/"
    },
    "execution": {
     "iopub.execute_input": "2022-09-23T00:20:01.948184Z",
     "iopub.status.busy": "2022-09-23T00:20:01.947289Z",
     "iopub.status.idle": "2022-09-23T00:20:01.950827Z",
     "shell.execute_reply": "2022-09-23T00:20:01.951610Z"
    },
    "executionInfo": {
     "elapsed": 541,
     "status": "ok",
     "timestamp": 1607391609440,
     "user": {
      "displayName": "Benedict Paten",
      "photoUrl": "https://lh3.googleusercontent.com/a-/AOh14Gh2rYrrH6yoNnUp0Oj4p4ouybc6ZcWGyPmKFtIY=s64",
      "userId": "06399644931392855882"
     },
     "user_tz": 480
    },
    "id": "1hIvAe9PtOFQ",
    "outputId": "d0f2cc99-323d-4411-eaea-f3f107cd5bb2",
    "slideshow": {
     "slide_type": "subslide"
    },
    "trusted": false
   },
   "cell_type": "code",
   "source": "# Which is much clearer as..\n\n(not 3 * 5 > 10) and (2 > 1) # The brackets are just there for clarity",
   "execution_count": null,
   "outputs": []
  },
  {
   "metadata": {
    "colab": {
     "base_uri": "https://localhost:8080/"
    },
    "execution": {
     "iopub.execute_input": "2022-09-23T00:20:01.957347Z",
     "iopub.status.busy": "2022-09-23T00:20:01.956412Z",
     "iopub.status.idle": "2022-09-23T00:20:01.959886Z",
     "shell.execute_reply": "2022-09-23T00:20:01.960379Z"
    },
    "executionInfo": {
     "elapsed": 363,
     "status": "ok",
     "timestamp": 1607391611076,
     "user": {
      "displayName": "Benedict Paten",
      "photoUrl": "https://lh3.googleusercontent.com/a-/AOh14Gh2rYrrH6yoNnUp0Oj4p4ouybc6ZcWGyPmKFtIY=s64",
      "userId": "06399644931392855882"
     },
     "user_tz": 480
    },
    "id": "HDtWTEzotec7",
    "outputId": "bcb4c84f-1088-46d7-f8c3-0eb85f438f36",
    "slideshow": {
     "slide_type": "subslide"
    },
    "trusted": false
   },
   "cell_type": "code",
   "source": "# Or maybe even.. \n\n(not (3 * 5 > 10)) or (2 > 1)",
   "execution_count": null,
   "outputs": []
  },
  {
   "metadata": {
    "slideshow": {
     "slide_type": "subslide"
    }
   },
   "cell_type": "markdown",
   "source": "# Challenge 5"
  },
  {
   "metadata": {
    "execution": {
     "iopub.execute_input": "2022-09-23T00:20:01.966096Z",
     "iopub.status.busy": "2022-09-23T00:20:01.965254Z",
     "iopub.status.idle": "2022-09-23T00:20:01.969087Z",
     "shell.execute_reply": "2022-09-23T00:20:01.969906Z"
    },
    "slideshow": {
     "slide_type": "fragment"
    },
    "trusted": false
   },
   "cell_type": "code",
   "source": "# Change the expression below so that the 'not' is applied after the 'or' \nnot 3 * 5 > 10 or 2 > 1",
   "execution_count": null,
   "outputs": []
  },
  {
   "metadata": {
    "id": "ZwejXNuJaC-g",
    "slideshow": {
     "slide_type": "slide"
    }
   },
   "cell_type": "markdown",
   "source": "# Homework\n\n* In Zybooks, due Monday\n  * Reading 2\n  * Assignment 1\n* In \"How to Think Like a Computer Scientist\" Free textbook\n  * http://openbookproject.net/thinkcs/python/english3e/variables_expressions_statements.html\n  * Chapter 2 on expressions, variables, statements and operators"
  }
 ],
 "metadata": {
  "celltoolbar": "Slideshow",
  "colab": {
   "collapsed_sections": [
    "cjsgMup6ktUd"
   ],
   "name": "L02 Variables and Expressions.ipynb",
   "provenance": [
    {
     "file_id": "17GPUwfjMAW-SkqDI2qb9LangNzYzgNH_",
     "timestamp": 1547074807405
    }
   ]
  },
  "kernelspec": {
   "name": "python3",
   "display_name": "Python 3",
   "language": "python"
  },
  "language_info": {
   "name": "python",
   "version": "3.10.4",
   "mimetype": "text/x-python",
   "codemirror_mode": {
    "name": "ipython",
    "version": 3
   },
   "pygments_lexer": "ipython3",
   "nbconvert_exporter": "python",
   "file_extension": ".py"
  }
 },
 "nbformat": 4,
 "nbformat_minor": 1
}