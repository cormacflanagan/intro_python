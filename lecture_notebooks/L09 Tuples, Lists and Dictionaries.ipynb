{
 "cells": [
  {
   "metadata": {
    "id": "S4CkZnM_4FvB",
    "slideshow": {
     "slide_type": "slide"
    }
   },
   "cell_type": "markdown",
   "source": "# Lecture 9 - Tuples, Lists, Dictionaries, Sets\n\nToday:\n* Tuples \n* Lists \n* Dictionaries\n* Sets\n"
  },
  {
   "metadata": {
    "id": "L6OFitz0bAgK",
    "slideshow": {
     "slide_type": "slide"
    }
   },
   "cell_type": "markdown",
   "source": "# Warm-Up\n"
  },
  {
   "metadata": {
    "colab": {
     "base_uri": "https://localhost:8080/",
     "height": 34
    },
    "execution": {
     "iopub.execute_input": "2022-09-23T00:20:14.390347Z",
     "iopub.status.busy": "2022-09-23T00:20:14.389317Z",
     "iopub.status.idle": "2022-09-23T00:20:14.394136Z",
     "shell.execute_reply": "2022-09-23T00:20:14.394869Z"
    },
    "executionInfo": {
     "elapsed": 252,
     "status": "ok",
     "timestamp": 1571783323283,
     "user": {
      "displayName": "Benedict Paten",
      "photoUrl": "https://lh3.googleusercontent.com/a-/AAuE7mBMnWy8dDR7jyTHNy9tPaRx6DCyA3QKrIcuQ7R4=s64",
      "userId": "06399644931392855882"
     },
     "user_tz": 420
    },
    "id": "J2zuhJRobMhC",
    "outputId": "23ed72fa-a7fd-483e-ad2c-063dbfd57c02",
    "slideshow": {
     "slide_type": "fragment"
    },
    "trusted": true
   },
   "cell_type": "code",
   "source": "# write a function that uses slicing to reverse a string\ndef rev(s):\n    ...\n\n# returns True if s is an anagram (the same forwards and backwards)\ndef isAnagram(s):\n    ...\n    \n# A few test cases. \n# Write code to satisfy the first, & then iterate...\nprint(isAnagram(\"amanaplanacanalpanama\"))\nprint(isAnagram(\"a man a plan a canal panama\"))\nprint(isAnagram(\"A man a plan a canal Panama\"))\n",
   "execution_count": 1,
   "outputs": [
    {
     "output_type": "stream",
     "text": "True\nTrue\nTrue\n",
     "name": "stdout"
    }
   ]
  },
  {
   "metadata": {
    "id": "L6OFitz0bAgK",
    "slideshow": {
     "slide_type": "slide"
    }
   },
   "cell_type": "markdown",
   "source": "# Tuples\n\n* A String is an immutable sequence of (unicode) characters\n\n* A **Tuple** is an immutable sequence of arbitrary values\n\nTuples behave a lot like  strings, because Python is very consistent in handling sequences.\n\nImmutable means we cannot change individual elements in the sequence."
  },
  {
   "metadata": {
    "colab": {
     "base_uri": "https://localhost:8080/",
     "height": 34
    },
    "execution": {
     "iopub.execute_input": "2022-09-23T00:20:14.390347Z",
     "iopub.status.busy": "2022-09-23T00:20:14.389317Z",
     "iopub.status.idle": "2022-09-23T00:20:14.394136Z",
     "shell.execute_reply": "2022-09-23T00:20:14.394869Z"
    },
    "executionInfo": {
     "elapsed": 252,
     "status": "ok",
     "timestamp": 1571783323283,
     "user": {
      "displayName": "Benedict Paten",
      "photoUrl": "https://lh3.googleusercontent.com/a-/AAuE7mBMnWy8dDR7jyTHNy9tPaRx6DCyA3QKrIcuQ7R4=s64",
      "userId": "06399644931392855882"
     },
     "user_tz": 420
    },
    "id": "J2zuhJRobMhC",
    "outputId": "23ed72fa-a7fd-483e-ad2c-063dbfd57c02",
    "slideshow": {
     "slide_type": "fragment"
    },
    "trusted": false
   },
   "cell_type": "code",
   "source": "# A tuple \n\nx = (\"Paris Hilton\", 1981) # I'm using the examples from the open book, btw\n\ntype(x)",
   "execution_count": 1,
   "outputs": [
    {
     "data": {
      "text/plain": "tuple"
     },
     "execution_count": 1,
     "metadata": {},
     "output_type": "execute_result"
    }
   ]
  },
  {
   "metadata": {
    "id": "XcqhgOmDe_0_",
    "slideshow": {
     "slide_type": "fragment"
    }
   },
   "cell_type": "markdown",
   "source": "Tuples are written like lists, except you switch square [] brackets for rounded brackets (), aka parentheses. \n\nLike lists, they can have arbitrary length.\n\nThe rounded brackets are actually optional (but we'll mostly include them for clarity):"
  },
  {
   "metadata": {
    "execution": {
     "iopub.execute_input": "2022-09-23T00:20:14.410023Z",
     "iopub.status.busy": "2022-09-23T00:20:14.409212Z",
     "iopub.status.idle": "2022-09-23T00:20:14.412983Z",
     "shell.execute_reply": "2022-09-23T00:20:14.413722Z"
    },
    "slideshow": {
     "slide_type": "fragment"
    },
    "trusted": false
   },
   "cell_type": "code",
   "source": "x = \"Paris Hilton\", 1981\n\ntype(x)",
   "execution_count": 2,
   "outputs": [
    {
     "data": {
      "text/plain": "tuple"
     },
     "execution_count": 2,
     "metadata": {},
     "output_type": "execute_result"
    }
   ]
  },
  {
   "metadata": {
    "colab": {
     "base_uri": "https://localhost:8080/",
     "height": 34
    },
    "execution": {
     "iopub.execute_input": "2022-09-23T00:20:14.444178Z",
     "iopub.status.busy": "2022-09-23T00:20:14.442828Z",
     "iopub.status.idle": "2022-09-23T00:20:14.447347Z",
     "shell.execute_reply": "2022-09-23T00:20:14.448088Z"
    },
    "executionInfo": {
     "elapsed": 239,
     "status": "ok",
     "timestamp": 1571783413743,
     "user": {
      "displayName": "Benedict Paten",
      "photoUrl": "https://lh3.googleusercontent.com/a-/AAuE7mBMnWy8dDR7jyTHNy9tPaRx6DCyA3QKrIcuQ7R4=s64",
      "userId": "06399644931392855882"
     },
     "user_tz": 420
    },
    "id": "GHUTdge-zHPA",
    "outputId": "c392c553-3468-4184-c4ef-3f49122e4f2d",
    "slideshow": {
     "slide_type": "subslide"
    },
    "trusted": true
   },
   "cell_type": "code",
   "source": "# Tuples of various lengths\nx = (1,2,3)\ny = (1,2)\nz = (1)\nw = ()\n\ntype(x)",
   "execution_count": 2,
   "outputs": [
    {
     "output_type": "execute_result",
     "execution_count": 2,
     "data": {
      "text/plain": "tuple"
     },
     "metadata": {}
    }
   ]
  },
  {
   "metadata": {
    "execution": {
     "iopub.execute_input": "2022-09-23T00:20:14.454970Z",
     "iopub.status.busy": "2022-09-23T00:20:14.453777Z",
     "iopub.status.idle": "2022-09-23T00:20:14.460617Z",
     "shell.execute_reply": "2022-09-23T00:20:14.461579Z"
    },
    "slideshow": {
     "slide_type": "fragment"
    },
    "trusted": true
   },
   "cell_type": "code",
   "source": "type(y)",
   "execution_count": 3,
   "outputs": [
    {
     "output_type": "execute_result",
     "execution_count": 3,
     "data": {
      "text/plain": "tuple"
     },
     "metadata": {}
    }
   ]
  },
  {
   "metadata": {
    "execution": {
     "iopub.execute_input": "2022-09-23T00:20:14.454970Z",
     "iopub.status.busy": "2022-09-23T00:20:14.453777Z",
     "iopub.status.idle": "2022-09-23T00:20:14.460617Z",
     "shell.execute_reply": "2022-09-23T00:20:14.461579Z"
    },
    "slideshow": {
     "slide_type": "fragment"
    },
    "trusted": true
   },
   "cell_type": "code",
   "source": "type(z)",
   "execution_count": 4,
   "outputs": [
    {
     "output_type": "execute_result",
     "execution_count": 4,
     "data": {
      "text/plain": "int"
     },
     "metadata": {}
    }
   ]
  },
  {
   "metadata": {
    "execution": {
     "iopub.execute_input": "2022-09-23T00:20:14.454970Z",
     "iopub.status.busy": "2022-09-23T00:20:14.453777Z",
     "iopub.status.idle": "2022-09-23T00:20:14.460617Z",
     "shell.execute_reply": "2022-09-23T00:20:14.461579Z"
    },
    "slideshow": {
     "slide_type": "fragment"
    },
    "trusted": true
   },
   "cell_type": "code",
   "source": "type(w)",
   "execution_count": 5,
   "outputs": [
    {
     "output_type": "execute_result",
     "execution_count": 5,
     "data": {
      "text/plain": "tuple"
     },
     "metadata": {}
    }
   ]
  },
  {
   "metadata": {
    "colab": {
     "base_uri": "https://localhost:8080/",
     "height": 34
    },
    "execution": {
     "iopub.execute_input": "2022-09-23T00:20:14.468875Z",
     "iopub.status.busy": "2022-09-23T00:20:14.467494Z",
     "iopub.status.idle": "2022-09-23T00:20:14.473309Z",
     "shell.execute_reply": "2022-09-23T00:20:14.472796Z"
    },
    "executionInfo": {
     "elapsed": 315,
     "status": "ok",
     "timestamp": 1571783435564,
     "user": {
      "displayName": "Benedict Paten",
      "photoUrl": "https://lh3.googleusercontent.com/a-/AAuE7mBMnWy8dDR7jyTHNy9tPaRx6DCyA3QKrIcuQ7R4=s64",
      "userId": "06399644931392855882"
     },
     "user_tz": 420
    },
    "id": "6eejNrBwzLwE",
    "outputId": "ca65fa09-43ec-43c8-8be1-f66500ba9daa",
    "slideshow": {
     "slide_type": "fragment"
    },
    "trusted": true
   },
   "cell_type": "code",
   "source": "# Tuples of length 1 need special notation with extra comma\nx = (1,)\n\ntype(x)",
   "execution_count": 6,
   "outputs": [
    {
     "output_type": "execute_result",
     "execution_count": 6,
     "data": {
      "text/plain": "tuple"
     },
     "metadata": {}
    }
   ]
  },
  {
   "metadata": {
    "colab": {
     "base_uri": "https://localhost:8080/",
     "height": 34
    },
    "execution": {
     "iopub.execute_input": "2022-09-23T00:20:14.468875Z",
     "iopub.status.busy": "2022-09-23T00:20:14.467494Z",
     "iopub.status.idle": "2022-09-23T00:20:14.473309Z",
     "shell.execute_reply": "2022-09-23T00:20:14.472796Z"
    },
    "executionInfo": {
     "elapsed": 315,
     "status": "ok",
     "timestamp": 1571783435564,
     "user": {
      "displayName": "Benedict Paten",
      "photoUrl": "https://lh3.googleusercontent.com/a-/AAuE7mBMnWy8dDR7jyTHNy9tPaRx6DCyA3QKrIcuQ7R4=s64",
      "userId": "06399644931392855882"
     },
     "user_tz": 420
    },
    "id": "6eejNrBwzLwE",
    "outputId": "ca65fa09-43ec-43c8-8be1-f66500ba9daa",
    "slideshow": {
     "slide_type": "fragment"
    },
    "trusted": true
   },
   "cell_type": "code",
   "source": "# or ...\nx = 1,\n\ntype(x)",
   "execution_count": 7,
   "outputs": [
    {
     "output_type": "execute_result",
     "execution_count": 7,
     "data": {
      "text/plain": "tuple"
     },
     "metadata": {}
    }
   ]
  },
  {
   "metadata": {
    "colab": {
     "base_uri": "https://localhost:8080/",
     "height": 34
    },
    "execution": {
     "iopub.execute_input": "2022-09-23T00:20:14.421255Z",
     "iopub.status.busy": "2022-09-23T00:20:14.420000Z",
     "iopub.status.idle": "2022-09-23T00:20:14.424206Z",
     "shell.execute_reply": "2022-09-23T00:20:14.424987Z"
    },
    "executionInfo": {
     "elapsed": 253,
     "status": "ok",
     "timestamp": 1571783357587,
     "user": {
      "displayName": "Benedict Paten",
      "photoUrl": "https://lh3.googleusercontent.com/a-/AAuE7mBMnWy8dDR7jyTHNy9tPaRx6DCyA3QKrIcuQ7R4=s64",
      "userId": "06399644931392855882"
     },
     "user_tz": 420
    },
    "id": "1AudEL1_cgSr",
    "outputId": "92b02e0e-fb17-4e2f-8977-162b35b3df65",
    "slideshow": {
     "slide_type": "subslide"
    },
    "trusted": true
   },
   "cell_type": "code",
   "source": "# Indexing works on tuples just like strings\n# (Reminder: review indexing on strings as needed)\n\nx = (\"Paris Hilton\", 1981) # I'm using the examples from the open book, btw\n\nx[0] ",
   "execution_count": 8,
   "outputs": [
    {
     "output_type": "execute_result",
     "execution_count": 8,
     "data": {
      "text/plain": "'Paris Hilton'"
     },
     "metadata": {}
    }
   ]
  },
  {
   "metadata": {
    "colab": {
     "base_uri": "https://localhost:8080/",
     "height": 34
    },
    "execution": {
     "iopub.execute_input": "2022-09-23T00:20:14.432618Z",
     "iopub.status.busy": "2022-09-23T00:20:14.431355Z",
     "iopub.status.idle": "2022-09-23T00:20:14.435455Z",
     "shell.execute_reply": "2022-09-23T00:20:14.436198Z"
    },
    "executionInfo": {
     "elapsed": 256,
     "status": "ok",
     "timestamp": 1571783379889,
     "user": {
      "displayName": "Benedict Paten",
      "photoUrl": "https://lh3.googleusercontent.com/a-/AAuE7mBMnWy8dDR7jyTHNy9tPaRx6DCyA3QKrIcuQ7R4=s64",
      "userId": "06399644931392855882"
     },
     "user_tz": 420
    },
    "id": "WjnZIEkUcrDS",
    "outputId": "e66055b6-ebe0-4cca-b3fd-a187a854f38c",
    "slideshow": {
     "slide_type": "fragment"
    },
    "trusted": false
   },
   "cell_type": "code",
   "source": "x[1]",
   "execution_count": 4,
   "outputs": [
    {
     "data": {
      "text/plain": "1981"
     },
     "execution_count": 4,
     "metadata": {},
     "output_type": "execute_result"
    }
   ]
  },
  {
   "metadata": {
    "colab": {
     "base_uri": "https://localhost:8080/",
     "height": 34
    },
    "execution": {
     "iopub.execute_input": "2022-09-23T00:20:14.480562Z",
     "iopub.status.busy": "2022-09-23T00:20:14.479378Z",
     "iopub.status.idle": "2022-09-23T00:20:14.484300Z",
     "shell.execute_reply": "2022-09-23T00:20:14.483670Z"
    },
    "executionInfo": {
     "elapsed": 247,
     "status": "ok",
     "timestamp": 1571783746159,
     "user": {
      "displayName": "Benedict Paten",
      "photoUrl": "https://lh3.googleusercontent.com/a-/AAuE7mBMnWy8dDR7jyTHNy9tPaRx6DCyA3QKrIcuQ7R4=s64",
      "userId": "06399644931392855882"
     },
     "user_tz": 420
    },
    "id": "siMbTbn1cvDc",
    "outputId": "dba4d2cc-7875-42a6-97b5-217973e2b3be",
    "slideshow": {
     "slide_type": "subslide"
    },
    "trusted": true
   },
   "cell_type": "code",
   "source": "# Slicing works on tuples just like with strings\n# (Reminder: review slicing on strings as needed)\n\nx = (\"a\", \"sequence\", \"of\", \"strings\")\n\nx[1:] ",
   "execution_count": 9,
   "outputs": [
    {
     "output_type": "execute_result",
     "execution_count": 9,
     "data": {
      "text/plain": "('sequence', 'of', 'strings')"
     },
     "metadata": {}
    }
   ]
  },
  {
   "metadata": {
    "id": "9AHMno61AUw2",
    "slideshow": {
     "slide_type": "subslide"
    }
   },
   "cell_type": "markdown",
   "source": "**Immutable**\n\nThe key difference between lists and tuples is that tuples are immutable - they can't be edited."
  },
  {
   "metadata": {
    "colab": {
     "base_uri": "https://localhost:8080/",
     "height": 179
    },
    "execution": {
     "iopub.execute_input": "2022-09-23T00:20:14.492795Z",
     "iopub.status.busy": "2022-09-23T00:20:14.491417Z",
     "iopub.status.idle": "2022-09-23T00:20:14.595279Z",
     "shell.execute_reply": "2022-09-23T00:20:14.596074Z"
    },
    "executionInfo": {
     "elapsed": 254,
     "status": "error",
     "timestamp": 1571783523449,
     "user": {
      "displayName": "Benedict Paten",
      "photoUrl": "https://lh3.googleusercontent.com/a-/AAuE7mBMnWy8dDR7jyTHNy9tPaRx6DCyA3QKrIcuQ7R4=s64",
      "userId": "06399644931392855882"
     },
     "user_tz": 420
    },
    "id": "NNFp1tikegYk",
    "outputId": "75faa18d-8283-4bf2-f18a-9956bf84705a",
    "slideshow": {
     "slide_type": "fragment"
    },
    "trusted": false
   },
   "cell_type": "code",
   "source": "# Tuples (like strings) are IMMUTABLE and can't be changed\n\nx = (\"a\", \"sequence\", \"of\", \"strings\")\n\nx[0] = \"the\"",
   "execution_count": 9,
   "outputs": [
    {
     "ename": "TypeError",
     "evalue": "'tuple' object does not support item assignment",
     "output_type": "error",
     "traceback": [
      "\u001b[0;31m---------------------------------------------------------------------------\u001b[0m",
      "\u001b[0;31mTypeError\u001b[0m                                 Traceback (most recent call last)",
      "\u001b[0;32m<ipython-input-9-0d490008a158>\u001b[0m in \u001b[0;36m<module>\u001b[0;34m\u001b[0m\n\u001b[1;32m      3\u001b[0m \u001b[0mx\u001b[0m \u001b[0;34m=\u001b[0m \u001b[0;34m(\u001b[0m\u001b[0;34m\"a\"\u001b[0m\u001b[0;34m,\u001b[0m \u001b[0;34m\"sequence\"\u001b[0m\u001b[0;34m,\u001b[0m \u001b[0;34m\"of\"\u001b[0m\u001b[0;34m,\u001b[0m \u001b[0;34m\"strings\"\u001b[0m\u001b[0;34m)\u001b[0m\u001b[0;34m\u001b[0m\u001b[0;34m\u001b[0m\u001b[0m\n\u001b[1;32m      4\u001b[0m \u001b[0;34m\u001b[0m\u001b[0m\n\u001b[0;32m----> 5\u001b[0;31m \u001b[0mx\u001b[0m\u001b[0;34m[\u001b[0m\u001b[0;36m0\u001b[0m\u001b[0;34m]\u001b[0m \u001b[0;34m=\u001b[0m \u001b[0;34m\"the\"\u001b[0m\u001b[0;34m\u001b[0m\u001b[0;34m\u001b[0m\u001b[0m\n\u001b[0m",
      "\u001b[0;31mTypeError\u001b[0m: 'tuple' object does not support item assignment"
     ]
    }
   ]
  },
  {
   "metadata": {
    "slideshow": {
     "slide_type": "fragment"
    },
    "trusted": false
   },
   "cell_type": "code",
   "source": "# Lists (with square brackets) can be changed\ny = [\"a\", \"sequence\", \"of\", \"strings\"]\nprint(y)\ny[0] = \"the\"\nprint(y)",
   "execution_count": 1,
   "outputs": [
    {
     "output_type": "stream",
     "text": "['a', 'sequence', 'of', 'strings']\n['the', 'sequence', 'of', 'strings']\n",
     "name": "stdout"
    }
   ]
  },
  {
   "metadata": {
    "colab": {
     "base_uri": "https://localhost:8080/",
     "height": 34
    },
    "execution": {
     "iopub.execute_input": "2022-09-23T00:20:14.603556Z",
     "iopub.status.busy": "2022-09-23T00:20:14.602382Z",
     "iopub.status.idle": "2022-09-23T00:20:14.607154Z",
     "shell.execute_reply": "2022-09-23T00:20:14.606476Z"
    },
    "executionInfo": {
     "elapsed": 241,
     "status": "ok",
     "timestamp": 1571783750956,
     "user": {
      "displayName": "Benedict Paten",
      "photoUrl": "https://lh3.googleusercontent.com/a-/AAuE7mBMnWy8dDR7jyTHNy9tPaRx6DCyA3QKrIcuQ7R4=s64",
      "userId": "06399644931392855882"
     },
     "user_tz": 420
    },
    "id": "ICUm9DrEewDo",
    "outputId": "e1de0dfc-cfc1-470c-91cf-aa788edb7507",
    "slideshow": {
     "slide_type": "subslide"
    },
    "trusted": false
   },
   "cell_type": "code",
   "source": "# To make edited tuples from existing tuples you therefore slice and dice\n# them, using the '+' operator, which (as with strings), represents concatenation\n\nx = (\"a\", \"sequence\", \"of\", \"strings\")\n\n(\"the\",) + x[1:] # This produces the effect of replacing the first member of x, \n# creating a new tuple\n",
   "execution_count": 2,
   "outputs": [
    {
     "output_type": "execute_result",
     "execution_count": 2,
     "data": {
      "text/plain": "('the', 'sequence', 'of', 'strings')"
     },
     "metadata": {}
    }
   ]
  },
  {
   "metadata": {
    "id": "_jztMzDCffrz",
    "slideshow": {
     "slide_type": "fragment"
    }
   },
   "cell_type": "markdown",
   "source": "Having tuples be immutable is a design choice that\nmakes them easy to share between different parts of a program without\nworrying that they will change. "
  },
  {
   "metadata": {
    "id": "UFuGRNskAXua",
    "slideshow": {
     "slide_type": "subslide"
    }
   },
   "cell_type": "markdown",
   "source": "**Length**"
  },
  {
   "metadata": {
    "colab": {
     "base_uri": "https://localhost:8080/",
     "height": 34
    },
    "execution": {
     "iopub.execute_input": "2022-09-23T00:20:14.614068Z",
     "iopub.status.busy": "2022-09-23T00:20:14.613108Z",
     "iopub.status.idle": "2022-09-23T00:20:14.616822Z",
     "shell.execute_reply": "2022-09-23T00:20:14.617402Z"
    },
    "executionInfo": {
     "elapsed": 245,
     "status": "ok",
     "timestamp": 1571783801546,
     "user": {
      "displayName": "Benedict Paten",
      "photoUrl": "https://lh3.googleusercontent.com/a-/AAuE7mBMnWy8dDR7jyTHNy9tPaRx6DCyA3QKrIcuQ7R4=s64",
      "userId": "06399644931392855882"
     },
     "user_tz": 420
    },
    "id": "h-F42PYgAZlg",
    "outputId": "bee0c41e-2f3e-4e44-efea-862896d845f9",
    "slideshow": {
     "slide_type": "fragment"
    },
    "trusted": false
   },
   "cell_type": "code",
   "source": "julia = (\"Julia\", \"Roberts\", 1967, \"Duplicity\", 2009, \"Actress\", \"Atlanta\")\n\nlen(julia) # The length of the tuple",
   "execution_count": 3,
   "outputs": [
    {
     "output_type": "execute_result",
     "execution_count": 3,
     "data": {
      "text/plain": "7"
     },
     "metadata": {}
    }
   ]
  },
  {
   "metadata": {
    "id": "ex3Q_qIbAtp0",
    "slideshow": {
     "slide_type": "subslide"
    }
   },
   "cell_type": "markdown",
   "source": "**In operator revisited**"
  },
  {
   "metadata": {
    "colab": {
     "base_uri": "https://localhost:8080/",
     "height": 34
    },
    "execution": {
     "iopub.execute_input": "2022-09-23T00:20:14.624445Z",
     "iopub.status.busy": "2022-09-23T00:20:14.623099Z",
     "iopub.status.idle": "2022-09-23T00:20:14.627286Z",
     "shell.execute_reply": "2022-09-23T00:20:14.628108Z"
    },
    "executionInfo": {
     "elapsed": 249,
     "status": "ok",
     "timestamp": 1571783841940,
     "user": {
      "displayName": "Benedict Paten",
      "photoUrl": "https://lh3.googleusercontent.com/a-/AAuE7mBMnWy8dDR7jyTHNy9tPaRx6DCyA3QKrIcuQ7R4=s64",
      "userId": "06399644931392855882"
     },
     "user_tz": 420
    },
    "id": "pgrVwT9pAwy3",
    "outputId": "1dea5e8d-1c7f-4328-f5b8-d46424111c07",
    "slideshow": {
     "slide_type": "fragment"
    },
    "trusted": false
   },
   "cell_type": "code",
   "source": "# Like strings we can do search in tuples using the in operator:\n\n5 in (1, 2, 3, 4, 5, 6)",
   "execution_count": 12,
   "outputs": [
    {
     "data": {
      "text/plain": "True"
     },
     "execution_count": 12,
     "metadata": {},
     "output_type": "execute_result"
    }
   ]
  },
  {
   "metadata": {
    "colab": {
     "base_uri": "https://localhost:8080/",
     "height": 34
    },
    "execution": {
     "iopub.execute_input": "2022-09-23T00:20:14.635286Z",
     "iopub.status.busy": "2022-09-23T00:20:14.634165Z",
     "iopub.status.idle": "2022-09-23T00:20:14.638209Z",
     "shell.execute_reply": "2022-09-23T00:20:14.639531Z"
    },
    "executionInfo": {
     "elapsed": 245,
     "status": "ok",
     "timestamp": 1571783849588,
     "user": {
      "displayName": "Benedict Paten",
      "photoUrl": "https://lh3.googleusercontent.com/a-/AAuE7mBMnWy8dDR7jyTHNy9tPaRx6DCyA3QKrIcuQ7R4=s64",
      "userId": "06399644931392855882"
     },
     "user_tz": 420
    },
    "id": "bAwI7mnfA4mu",
    "outputId": "6f922114-f9de-4beb-9dd6-cf211fcc38bd",
    "slideshow": {
     "slide_type": "fragment"
    },
    "trusted": false
   },
   "cell_type": "code",
   "source": "# And its negation (not in):\n\n5 not in (1, 2, 3, 4, 5, 6)",
   "execution_count": 13,
   "outputs": [
    {
     "data": {
      "text/plain": "False"
     },
     "execution_count": 13,
     "metadata": {},
     "output_type": "execute_result"
    }
   ]
  },
  {
   "metadata": {
    "id": "3pAEPQ2CgRWP",
    "slideshow": {
     "slide_type": "subslide"
    }
   },
   "cell_type": "markdown",
   "source": "**Tuple assignment**\n\nYou can unpack the values in a tuple into multiple variables on one line (more nice syntactic sugar):"
  },
  {
   "metadata": {
    "colab": {
     "base_uri": "https://localhost:8080/",
     "height": 34
    },
    "execution": {
     "iopub.execute_input": "2022-09-23T00:20:14.646192Z",
     "iopub.status.busy": "2022-09-23T00:20:14.645164Z",
     "iopub.status.idle": "2022-09-23T00:20:14.648575Z",
     "shell.execute_reply": "2022-09-23T00:20:14.649271Z"
    },
    "executionInfo": {
     "elapsed": 388,
     "status": "ok",
     "timestamp": 1571783942707,
     "user": {
      "displayName": "Benedict Paten",
      "photoUrl": "https://lh3.googleusercontent.com/a-/AAuE7mBMnWy8dDR7jyTHNy9tPaRx6DCyA3QKrIcuQ7R4=s64",
      "userId": "06399644931392855882"
     },
     "user_tz": 420
    },
    "id": "fOstoHkrgWSD",
    "outputId": "fd15467f-d022-463b-b1b5-d09cdaf340af",
    "slideshow": {
     "slide_type": "fragment"
    },
    "trusted": false
   },
   "cell_type": "code",
   "source": "julia = (\"Julia\", \"Roberts\", 1967, \"Duplicity\", 2009, \"Actress\", \"Atlanta\")\n\n(name, surname, b_year, movie, m_year, profession, b_place) = julia\n\nprint(surname)",
   "execution_count": 4,
   "outputs": [
    {
     "output_type": "stream",
     "text": "Roberts\n",
     "name": "stdout"
    }
   ]
  },
  {
   "metadata": {
    "colab": {
     "base_uri": "https://localhost:8080/",
     "height": 34
    },
    "execution": {
     "iopub.execute_input": "2022-09-23T00:20:14.656145Z",
     "iopub.status.busy": "2022-09-23T00:20:14.655064Z",
     "iopub.status.idle": "2022-09-23T00:20:14.658518Z",
     "shell.execute_reply": "2022-09-23T00:20:14.659251Z"
    },
    "executionInfo": {
     "elapsed": 275,
     "status": "ok",
     "timestamp": 1571784052033,
     "user": {
      "displayName": "Benedict Paten",
      "photoUrl": "https://lh3.googleusercontent.com/a-/AAuE7mBMnWy8dDR7jyTHNy9tPaRx6DCyA3QKrIcuQ7R4=s64",
      "userId": "06399644931392855882"
     },
     "user_tz": 420
    },
    "id": "OkddWAu4hIkT",
    "outputId": "a035e627-095e-4f74-ab49-4a5431a72f6c",
    "slideshow": {
     "slide_type": "subslide"
    },
    "trusted": false
   },
   "cell_type": "code",
   "source": "# This allows you to neat variable value swaps on one line:\n\nx = 10\ny = 5\nprint(x,y)\n\n# Swap x and y\n(x, y) = (y, x)\nprint(x, y)\n\n# A more verbose way to swap variables\nz = x\nx = y\ny = z\n\nprint(x, y)",
   "execution_count": 2,
   "outputs": [
    {
     "output_type": "stream",
     "text": "10 5\n5 10\n10 5\n",
     "name": "stdout"
    }
   ]
  },
  {
   "metadata": {
    "colab": {
     "base_uri": "https://localhost:8080/",
     "height": 50
    },
    "execution": {
     "iopub.execute_input": "2022-09-23T00:20:14.665492Z",
     "iopub.status.busy": "2022-09-23T00:20:14.664479Z",
     "iopub.status.idle": "2022-09-23T00:20:14.668079Z",
     "shell.execute_reply": "2022-09-23T00:20:14.668791Z"
    },
    "executionInfo": {
     "elapsed": 245,
     "status": "ok",
     "timestamp": 1571784191948,
     "user": {
      "displayName": "Benedict Paten",
      "photoUrl": "https://lh3.googleusercontent.com/a-/AAuE7mBMnWy8dDR7jyTHNy9tPaRx6DCyA3QKrIcuQ7R4=s64",
      "userId": "06399644931392855882"
     },
     "user_tz": 420
    },
    "id": "cr23iGl8hoc5",
    "outputId": "17aa30fb-f516-4673-fdaf-2714dbc4226c",
    "slideshow": {
     "slide_type": "fragment"
    },
    "trusted": false
   },
   "cell_type": "code",
   "source": "# You actually don't even need the brackets, the tuples are implicit:\n\nx, y = 5, 10 # This is the same as (x, y) = (5, 10)\n\nprint(x, y)\n\nx, y = y, x # Here the parentheses are again implicit\n\nprint(x, y)",
   "execution_count": 16,
   "outputs": [
    {
     "name": "stdout",
     "output_type": "stream",
     "text": "5 10\n10 5\n"
    }
   ]
  },
  {
   "metadata": {
    "id": "mAHc6nzZiElK",
    "slideshow": {
     "slide_type": "subslide"
    }
   },
   "cell_type": "markdown",
   "source": "**Multiple return Values**"
  },
  {
   "metadata": {
    "colab": {
     "base_uri": "https://localhost:8080/"
    },
    "execution": {
     "iopub.execute_input": "2022-09-23T00:20:14.676480Z",
     "iopub.status.busy": "2022-09-23T00:20:14.675591Z",
     "iopub.status.idle": "2022-09-23T00:20:14.684439Z",
     "shell.execute_reply": "2022-09-23T00:20:14.685210Z"
    },
    "executionInfo": {
     "elapsed": 2538,
     "status": "ok",
     "timestamp": 1607735726198,
     "user": {
      "displayName": "Benedict Paten",
      "photoUrl": "https://lh3.googleusercontent.com/a-/AOh14Gh2rYrrH6yoNnUp0Oj4p4ouybc6ZcWGyPmKFtIY=s64",
      "userId": "06399644931392855882"
     },
     "user_tz": 480
    },
    "id": "F5BOVqGJiI-_",
    "outputId": "969a6887-3ba5-4d3a-a9ea-8fbd4f9a817f",
    "slideshow": {
     "slide_type": "fragment"
    },
    "trusted": false
   },
   "cell_type": "code",
   "source": "# Tuples allow you to return multiple values from a function\n\nimport math # module import, we'll cover this shortly\n\ndef f(r):\n    \"\"\" Return (circumference, area) of a circle of radius r \"\"\"\n    \n    c = 2 * math.pi * r # Circumference \n    a = math.pi * r * r # Area \n    return (c, a)\n  \nr = float(input(\"Enter a radius: \"))\n\nc, a = f(r)\n\nprint(f\"Radius {r} Circumference {c} Area {a}\")",
   "execution_count": 1,
   "outputs": [
    {
     "output_type": "stream",
     "name": "stdout",
     "text": "Enter a radius: 1\nRadius 1.0 Circumference 6.283185307179586 Area 3.141592653589793\n"
    }
   ]
  },
  {
   "metadata": {
    "id": "wfuIH0fzjtdd",
    "slideshow": {
     "slide_type": "subslide"
    }
   },
   "cell_type": "markdown",
   "source": "**Nested / Composed tuples**"
  },
  {
   "metadata": {
    "colab": {
     "base_uri": "https://localhost:8080/",
     "height": 54
    },
    "execution": {
     "iopub.execute_input": "2022-09-23T00:20:14.691955Z",
     "iopub.status.busy": "2022-09-23T00:20:14.690969Z",
     "iopub.status.idle": "2022-09-23T00:20:14.693727Z",
     "shell.execute_reply": "2022-09-23T00:20:14.694140Z"
    },
    "executionInfo": {
     "elapsed": 236,
     "status": "ok",
     "timestamp": 1571784528015,
     "user": {
      "displayName": "Benedict Paten",
      "photoUrl": "https://lh3.googleusercontent.com/a-/AAuE7mBMnWy8dDR7jyTHNy9tPaRx6DCyA3QKrIcuQ7R4=s64",
      "userId": "06399644931392855882"
     },
     "user_tz": 420
    },
    "id": "woXPF83Pjx0D",
    "outputId": "199aa394-11c1-456f-ee32-5c7a64378276",
    "slideshow": {
     "slide_type": "fragment"
    },
    "trusted": true
   },
   "cell_type": "code",
   "source": "# The values in a tuple can be any legit Python object.\n# So you can make complex nested data stuctures\n\njulia_more_info = ( (\"Julia\", \"Roberts\"),\n                    1967,\n                     ( (\"Duplicity\",       2009 ),\n                       (\"Notting Hill\",    1999),\n                       (\"Pretty Woman\",    1990),\n                       (\"Erin Brockovich\", 2000),\n                       (\"Eat Pray Love\",   2010),\n                       (\"Mona Lisa Smile\", 2003),\n                       (\"Oceans Twelve\",   2004) ))\n\nname, birth_year, bibliography = julia_more_info\n\nprint(bibliography[0])\nprint(name)",
   "execution_count": 3,
   "outputs": [
    {
     "output_type": "stream",
     "text": "('Duplicity', 2009)\n('Julia', 'Roberts')\n",
     "name": "stdout"
    }
   ]
  },
  {
   "metadata": {
    "id": "yfL25TGCkYr9",
    "slideshow": {
     "slide_type": "fragment"
    }
   },
   "cell_type": "markdown",
   "source": "The above example is kind of over complicated, we'll see better ways\nto make complex data like this when we cover Python classes.\n\n\n\n\n\n\n"
  },
  {
   "metadata": {
    "id": "emlv74gYi9A-",
    "slideshow": {
     "slide_type": "skip"
    }
   },
   "cell_type": "markdown",
   "source": "**Tuples and Nested Sets**\n\nAs a quick aside, nested tuples can represent any nested set of sets, e.g.:\n\n<img src=\"https://raw.githubusercontent.com/cormacflanagan/intro_python/main/lecture_notebooks/figures/graffles/tree%20nested%20sets.jpg\" width=600 height=300 />"
  },
  {
   "metadata": {
    "execution": {
     "iopub.execute_input": "2022-09-23T00:20:14.699675Z",
     "iopub.status.busy": "2022-09-23T00:20:14.698743Z",
     "iopub.status.idle": "2022-09-23T00:20:14.701569Z",
     "shell.execute_reply": "2022-09-23T00:20:14.702008Z"
    },
    "slideshow": {
     "slide_type": "skip"
    },
    "trusted": false
   },
   "cell_type": "code",
   "source": "# A tuple representation \nfruit = (\"Fruit\", (\"Berries\", (\"Bananas\",), (\"Strawberries\",), (\"Raspberries\",)), (\"Citrus\", (\"Lemons\",), (\"Oranges\",)), (\"Apples\",))\n\nprint(fruit[1][1])",
   "execution_count": 19,
   "outputs": [
    {
     "name": "stdout",
     "output_type": "stream",
     "text": "('Bananas',)\n"
    }
   ]
  },
  {
   "metadata": {
    "slideshow": {
     "slide_type": "skip"
    }
   },
   "cell_type": "markdown",
   "source": "Nested sets are equivalent to \"trees\", another important type of graph structure used commonly in computer science:\n\n<img src=\"https://raw.githubusercontent.com/cormacflanagan/intro_python/main/lecture_notebooks/figures/graffles/tree%20structure.jpg\" width=600 height=300 />"
  },
  {
   "metadata": {
    "slideshow": {
     "slide_type": "skip"
    }
   },
   "cell_type": "markdown",
   "source": "**This kind of nested representation pops up many places, for example JSON and XML are both similar nested set structures.**"
  },
  {
   "metadata": {
    "id": "04KjIsq6xWCJ",
    "slideshow": {
     "slide_type": "subslide"
    }
   },
   "cell_type": "markdown",
   "source": "**Tuple comparison**"
  },
  {
   "metadata": {
    "colab": {
     "base_uri": "https://localhost:8080/",
     "height": 34
    },
    "execution": {
     "iopub.execute_input": "2022-09-23T00:20:14.707987Z",
     "iopub.status.busy": "2022-09-23T00:20:14.707016Z",
     "iopub.status.idle": "2022-09-23T00:20:14.710316Z",
     "shell.execute_reply": "2022-09-23T00:20:14.710970Z"
    },
    "executionInfo": {
     "elapsed": 245,
     "status": "ok",
     "timestamp": 1571784657533,
     "user": {
      "displayName": "Benedict Paten",
      "photoUrl": "https://lh3.googleusercontent.com/a-/AAuE7mBMnWy8dDR7jyTHNy9tPaRx6DCyA3QKrIcuQ7R4=s64",
      "userId": "06399644931392855882"
     },
     "user_tz": 420
    },
    "id": "pU9JsTjexeSR",
    "outputId": "95bec169-9a02-472e-a94a-ecc36c724408",
    "slideshow": {
     "slide_type": "fragment"
    },
    "trusted": false
   },
   "cell_type": "code",
   "source": "# Tuples are by default compared lexicographically: https://en.wikipedia.org/wiki/Lexicographical_order\n\na = (5, 7)\nb = (5, 10)\n\na < b # Yes, because a[0] == b[0] but a[1] < b[1]",
   "execution_count": 20,
   "outputs": [
    {
     "data": {
      "text/plain": "True"
     },
     "execution_count": 20,
     "metadata": {},
     "output_type": "execute_result"
    }
   ]
  },
  {
   "metadata": {
    "colab": {
     "base_uri": "https://localhost:8080/",
     "height": 34
    },
    "execution": {
     "iopub.execute_input": "2022-09-23T00:20:14.715961Z",
     "iopub.status.busy": "2022-09-23T00:20:14.715178Z",
     "iopub.status.idle": "2022-09-23T00:20:14.718165Z",
     "shell.execute_reply": "2022-09-23T00:20:14.718702Z"
    },
    "executionInfo": {
     "elapsed": 254,
     "status": "ok",
     "timestamp": 1571784675140,
     "user": {
      "displayName": "Benedict Paten",
      "photoUrl": "https://lh3.googleusercontent.com/a-/AAuE7mBMnWy8dDR7jyTHNy9tPaRx6DCyA3QKrIcuQ7R4=s64",
      "userId": "06399644931392855882"
     },
     "user_tz": 420
    },
    "id": "eMxcO4mgzDYQ",
    "outputId": "cd5ff52e-e67f-413b-82f5-19a0c2a0ecb4",
    "slideshow": {
     "slide_type": "fragment"
    },
    "trusted": false
   },
   "cell_type": "code",
   "source": "# Note this works too, just like with a dictionary sort\n\na = (5,)\nb = (5, 10)\n\na < b # Yes, because a[0] == b[0] and a is shorter than b",
   "execution_count": 21,
   "outputs": [
    {
     "data": {
      "text/plain": "True"
     },
     "execution_count": 21,
     "metadata": {},
     "output_type": "execute_result"
    }
   ]
  },
  {
   "metadata": {
    "colab": {
     "base_uri": "https://localhost:8080/",
     "height": 196
    },
    "execution": {
     "iopub.execute_input": "2022-09-23T00:20:14.725069Z",
     "iopub.status.busy": "2022-09-23T00:20:14.724175Z",
     "iopub.status.idle": "2022-09-23T00:20:14.734952Z",
     "shell.execute_reply": "2022-09-23T00:20:14.735470Z"
    },
    "executionInfo": {
     "elapsed": 256,
     "status": "error",
     "timestamp": 1571784710597,
     "user": {
      "displayName": "Benedict Paten",
      "photoUrl": "https://lh3.googleusercontent.com/a-/AAuE7mBMnWy8dDR7jyTHNy9tPaRx6DCyA3QKrIcuQ7R4=s64",
      "userId": "06399644931392855882"
     },
     "user_tz": 420
    },
    "id": "LGQ1eXLrx5PO",
    "outputId": "ef94e8fb-3c4f-477a-f989-8ef002c697b0",
    "slideshow": {
     "slide_type": "subslide"
    },
    "trusted": false
   },
   "cell_type": "code",
   "source": "# Tuples can only be compared if their corresponding elements are comparable\n\na = (\"5\", 7)\nb = (5, 10)\n\na < b",
   "execution_count": 22,
   "outputs": [
    {
     "ename": "TypeError",
     "evalue": "'<' not supported between instances of 'str' and 'int'",
     "output_type": "error",
     "traceback": [
      "\u001b[0;31m---------------------------------------------------------------------------\u001b[0m",
      "\u001b[0;31mTypeError\u001b[0m                                 Traceback (most recent call last)",
      "\u001b[0;32m<ipython-input-22-a808cef02997>\u001b[0m in \u001b[0;36m<module>\u001b[0;34m\u001b[0m\n\u001b[1;32m      4\u001b[0m \u001b[0mb\u001b[0m \u001b[0;34m=\u001b[0m \u001b[0;34m(\u001b[0m\u001b[0;36m5\u001b[0m\u001b[0;34m,\u001b[0m \u001b[0;36m10\u001b[0m\u001b[0;34m)\u001b[0m\u001b[0;34m\u001b[0m\u001b[0;34m\u001b[0m\u001b[0m\n\u001b[1;32m      5\u001b[0m \u001b[0;34m\u001b[0m\u001b[0m\n\u001b[0;32m----> 6\u001b[0;31m \u001b[0ma\u001b[0m \u001b[0;34m<\u001b[0m \u001b[0mb\u001b[0m\u001b[0;34m\u001b[0m\u001b[0;34m\u001b[0m\u001b[0m\n\u001b[0m",
      "\u001b[0;31mTypeError\u001b[0m: '<' not supported between instances of 'str' and 'int'"
     ]
    }
   ]
  },
  {
   "metadata": {
    "colab": {
     "base_uri": "https://localhost:8080/",
     "height": 34
    },
    "execution": {
     "iopub.execute_input": "2022-09-23T00:20:14.743329Z",
     "iopub.status.busy": "2022-09-23T00:20:14.742223Z",
     "iopub.status.idle": "2022-09-23T00:20:14.745912Z",
     "shell.execute_reply": "2022-09-23T00:20:14.746697Z"
    },
    "executionInfo": {
     "elapsed": 226,
     "status": "ok",
     "timestamp": 1571784760797,
     "user": {
      "displayName": "Benedict Paten",
      "photoUrl": "https://lh3.googleusercontent.com/a-/AAuE7mBMnWy8dDR7jyTHNy9tPaRx6DCyA3QKrIcuQ7R4=s64",
      "userId": "06399644931392855882"
     },
     "user_tz": 420
    },
    "id": "KvQ5_ac79vET",
    "outputId": "939a4c38-dee9-43d5-a268-3534d3c2bf69",
    "slideshow": {
     "slide_type": "subslide"
    },
    "trusted": false
   },
   "cell_type": "code",
   "source": "# Comparisons can be nested\n\na = ((1, 2), 3) \nb = ((1, 3), 3)  \n\na < b # True because the a[0] < b[0] because (1, 2) < (1, 3)",
   "execution_count": 23,
   "outputs": [
    {
     "data": {
      "text/plain": "True"
     },
     "execution_count": 23,
     "metadata": {},
     "output_type": "execute_result"
    }
   ]
  },
  {
   "metadata": {
    "slideshow": {
     "slide_type": "subslide"
    }
   },
   "cell_type": "markdown",
   "source": "# Challenge 1"
  },
  {
   "metadata": {
    "execution": {
     "iopub.execute_input": "2022-09-23T00:20:14.752730Z",
     "iopub.status.busy": "2022-09-23T00:20:14.751810Z",
     "iopub.status.idle": "2022-09-23T00:20:14.758769Z",
     "shell.execute_reply": "2022-09-23T00:20:14.759367Z"
    },
    "slideshow": {
     "slide_type": "fragment"
    },
    "trusted": true
   },
   "cell_type": "code",
   "source": "# Write a function \"min_max that takes a tuple and \n# returns the minimum and maximum values in the sequence as a tuple\n# (min_value, max_value)\ndef min_max(t):\n    \"Do not call me with the empty tuple!\"\n    pass\n\nl = (4, 7, 2, 0, 10, 8)\nprint(min_max(l)) # should return (0, 10)\n\n# does your min_max work on strings & lists too?\nprint(min_max(\"Julia Roberts\"))\nprint(min_max( [ 3,4,5 ]))\n",
   "execution_count": 1,
   "outputs": [
    {
     "output_type": "stream",
     "text": "(0, 10)\n(' ', 'u')\n(3, 5)\n",
     "name": "stdout"
    }
   ]
  },
  {
   "metadata": {
    "id": "bbALFw0ilBFr",
    "slideshow": {
     "slide_type": "slide"
    }
   },
   "cell_type": "markdown",
   "source": "# Lists (again)\n\nWe started covering lists earlier, let's now fill in the missing details.\n\nGiven that we've covered strings and tuples, many of the details will be the same and should feel consistent and the same (and somewhat repetitive), which is why we'll only briefly review them."
  },
  {
   "metadata": {
    "id": "6vjBqTtrxLhQ",
    "slideshow": {
     "slide_type": "subslide"
    }
   },
   "cell_type": "markdown",
   "source": "**Slicing and length**"
  },
  {
   "metadata": {
    "colab": {
     "base_uri": "https://localhost:8080/",
     "height": 34
    },
    "execution": {
     "iopub.execute_input": "2022-09-23T00:20:14.766558Z",
     "iopub.status.busy": "2022-09-23T00:20:14.765491Z",
     "iopub.status.idle": "2022-09-23T00:20:14.769189Z",
     "shell.execute_reply": "2022-09-23T00:20:14.769819Z"
    },
    "executionInfo": {
     "elapsed": 248,
     "status": "ok",
     "timestamp": 1571784826584,
     "user": {
      "displayName": "Benedict Paten",
      "photoUrl": "https://lh3.googleusercontent.com/a-/AAuE7mBMnWy8dDR7jyTHNy9tPaRx6DCyA3QKrIcuQ7R4=s64",
      "userId": "06399644931392855882"
     },
     "user_tz": 420
    },
    "id": "8WdM2h7f_1J3",
    "outputId": "92733f36-4603-41fe-e697-f2b759f9ed07",
    "slideshow": {
     "slide_type": "fragment"
    },
    "trusted": false
   },
   "cell_type": "code",
   "source": "x = [\"hello\", 2.0, 5, [10, 20]] # A list, containing 4 elements. The last \n# element is itself a list with two elements\n\nx[0] # First element",
   "execution_count": 25,
   "outputs": [
    {
     "data": {
      "text/plain": "'hello'"
     },
     "execution_count": 25,
     "metadata": {},
     "output_type": "execute_result"
    }
   ]
  },
  {
   "metadata": {
    "colab": {
     "base_uri": "https://localhost:8080/",
     "height": 34
    },
    "execution": {
     "iopub.execute_input": "2022-09-23T00:20:14.776363Z",
     "iopub.status.busy": "2022-09-23T00:20:14.775287Z",
     "iopub.status.idle": "2022-09-23T00:20:14.779253Z",
     "shell.execute_reply": "2022-09-23T00:20:14.780242Z"
    },
    "executionInfo": {
     "elapsed": 242,
     "status": "ok",
     "timestamp": 1571784846758,
     "user": {
      "displayName": "Benedict Paten",
      "photoUrl": "https://lh3.googleusercontent.com/a-/AAuE7mBMnWy8dDR7jyTHNy9tPaRx6DCyA3QKrIcuQ7R4=s64",
      "userId": "06399644931392855882"
     },
     "user_tz": 420
    },
    "id": "Rml6aNfQBQ9I",
    "outputId": "f6325e6e-13a9-4220-aaba-fcfe677e6816",
    "slideshow": {
     "slide_type": "fragment"
    },
    "trusted": false
   },
   "cell_type": "code",
   "source": "x[-1] # Last element",
   "execution_count": 26,
   "outputs": [
    {
     "data": {
      "text/plain": "[10, 20]"
     },
     "execution_count": 26,
     "metadata": {},
     "output_type": "execute_result"
    }
   ]
  },
  {
   "metadata": {
    "colab": {
     "base_uri": "https://localhost:8080/",
     "height": 34
    },
    "execution": {
     "iopub.execute_input": "2022-09-23T00:20:14.788372Z",
     "iopub.status.busy": "2022-09-23T00:20:14.786848Z",
     "iopub.status.idle": "2022-09-23T00:20:14.792926Z",
     "shell.execute_reply": "2022-09-23T00:20:14.793805Z"
    },
    "executionInfo": {
     "elapsed": 244,
     "status": "ok",
     "timestamp": 1571784862204,
     "user": {
      "displayName": "Benedict Paten",
      "photoUrl": "https://lh3.googleusercontent.com/a-/AAuE7mBMnWy8dDR7jyTHNy9tPaRx6DCyA3QKrIcuQ7R4=s64",
      "userId": "06399644931392855882"
     },
     "user_tz": 420
    },
    "id": "oHgsFXrmBSIs",
    "outputId": "01158533-f723-47a5-a987-dd8ce1e9f025",
    "slideshow": {
     "slide_type": "fragment"
    },
    "trusted": false
   },
   "cell_type": "code",
   "source": "len(x) # Length of a list",
   "execution_count": 27,
   "outputs": [
    {
     "data": {
      "text/plain": "4"
     },
     "execution_count": 27,
     "metadata": {},
     "output_type": "execute_result"
    }
   ]
  },
  {
   "metadata": {
    "colab": {
     "base_uri": "https://localhost:8080/",
     "height": 34
    },
    "execution": {
     "iopub.execute_input": "2022-09-23T00:20:14.800463Z",
     "iopub.status.busy": "2022-09-23T00:20:14.799451Z",
     "iopub.status.idle": "2022-09-23T00:20:14.803017Z",
     "shell.execute_reply": "2022-09-23T00:20:14.803742Z"
    },
    "executionInfo": {
     "elapsed": 272,
     "status": "ok",
     "timestamp": 1571784867826,
     "user": {
      "displayName": "Benedict Paten",
      "photoUrl": "https://lh3.googleusercontent.com/a-/AAuE7mBMnWy8dDR7jyTHNy9tPaRx6DCyA3QKrIcuQ7R4=s64",
      "userId": "06399644931392855882"
     },
     "user_tz": 420
    },
    "id": "1NKFTU-5BbBB",
    "outputId": "5acd65d1-2483-4a2f-80a2-acec5124bfb7",
    "slideshow": {
     "slide_type": "fragment"
    },
    "trusted": false
   },
   "cell_type": "code",
   "source": "x[len(x)-1] # Same as x[-1] (which is clearer)",
   "execution_count": 28,
   "outputs": [
    {
     "data": {
      "text/plain": "[10, 20]"
     },
     "execution_count": 28,
     "metadata": {},
     "output_type": "execute_result"
    }
   ]
  },
  {
   "metadata": {
    "colab": {
     "base_uri": "https://localhost:8080/",
     "height": 34
    },
    "execution": {
     "iopub.execute_input": "2022-09-23T00:20:14.809521Z",
     "iopub.status.busy": "2022-09-23T00:20:14.808487Z",
     "iopub.status.idle": "2022-09-23T00:20:14.811958Z",
     "shell.execute_reply": "2022-09-23T00:20:14.812464Z"
    },
    "executionInfo": {
     "elapsed": 249,
     "status": "ok",
     "timestamp": 1571784888924,
     "user": {
      "displayName": "Benedict Paten",
      "photoUrl": "https://lh3.googleusercontent.com/a-/AAuE7mBMnWy8dDR7jyTHNy9tPaRx6DCyA3QKrIcuQ7R4=s64",
      "userId": "06399644931392855882"
     },
     "user_tz": 420
    },
    "id": "R0syg2jUBgSa",
    "outputId": "3a0117c7-9466-44fc-987b-83a0ba378d44",
    "slideshow": {
     "slide_type": "fragment"
    },
    "trusted": false
   },
   "cell_type": "code",
   "source": "x[1:] # Yup, slicing works the same as with strings and tuples. \n\n# This consistency among basic data types is part of why Python\n# is so nice to use. Again, if this isn't clear to you play with the slicing\n# examples on strings and try them with lists and tuples - they work the same.",
   "execution_count": 29,
   "outputs": [
    {
     "data": {
      "text/plain": "[2.0, 5, [10, 20]]"
     },
     "execution_count": 29,
     "metadata": {},
     "output_type": "execute_result"
    }
   ]
  },
  {
   "metadata": {
    "id": "YPyPX8MqKkkc",
    "slideshow": {
     "slide_type": "subslide"
    }
   },
   "cell_type": "markdown",
   "source": "**Concatenate operator**"
  },
  {
   "metadata": {
    "colab": {
     "base_uri": "https://localhost:8080/",
     "height": 34
    },
    "execution": {
     "iopub.execute_input": "2022-09-23T00:20:14.817509Z",
     "iopub.status.busy": "2022-09-23T00:20:14.816727Z",
     "iopub.status.idle": "2022-09-23T00:20:14.819835Z",
     "shell.execute_reply": "2022-09-23T00:20:14.820359Z"
    },
    "executionInfo": {
     "elapsed": 245,
     "status": "ok",
     "timestamp": 1571784907779,
     "user": {
      "displayName": "Benedict Paten",
      "photoUrl": "https://lh3.googleusercontent.com/a-/AAuE7mBMnWy8dDR7jyTHNy9tPaRx6DCyA3QKrIcuQ7R4=s64",
      "userId": "06399644931392855882"
     },
     "user_tz": 420
    },
    "id": "oCVJLoGZKsYu",
    "outputId": "8e296998-e66a-48ff-bbf7-1bfffa9641d4",
    "slideshow": {
     "slide_type": "fragment"
    },
    "trusted": false
   },
   "cell_type": "code",
   "source": "[ 1, 2, 3 ] + [ 4, 5 ] # Here + concatenates the two lists, creating a new list, \n# just like with strings and tuples",
   "execution_count": 30,
   "outputs": [
    {
     "data": {
      "text/plain": "[1, 2, 3, 4, 5]"
     },
     "execution_count": 30,
     "metadata": {},
     "output_type": "execute_result"
    }
   ]
  },
  {
   "metadata": {
    "id": "vEOF9gKfxOPy",
    "slideshow": {
     "slide_type": "subslide"
    }
   },
   "cell_type": "markdown",
   "source": "**In operator**"
  },
  {
   "metadata": {
    "colab": {
     "base_uri": "https://localhost:8080/",
     "height": 34
    },
    "execution": {
     "iopub.execute_input": "2022-09-23T00:20:14.825296Z",
     "iopub.status.busy": "2022-09-23T00:20:14.824500Z",
     "iopub.status.idle": "2022-09-23T00:20:14.828169Z",
     "shell.execute_reply": "2022-09-23T00:20:14.828673Z"
    },
    "executionInfo": {
     "elapsed": 254,
     "status": "ok",
     "timestamp": 1571784916515,
     "user": {
      "displayName": "Benedict Paten",
      "photoUrl": "https://lh3.googleusercontent.com/a-/AAuE7mBMnWy8dDR7jyTHNy9tPaRx6DCyA3QKrIcuQ7R4=s64",
      "userId": "06399644931392855882"
     },
     "user_tz": 420
    },
    "id": "V-GcxAThCIZC",
    "outputId": "4047dc71-9769-4297-f551-4f2d711d6688",
    "slideshow": {
     "slide_type": "fragment"
    },
    "trusted": false
   },
   "cell_type": "code",
   "source": "# Yup, the \"in\" operator works on lists the way you'd expect\n\nx = [\"hello\", 2.0, 5, [10, 20]]\n\n5 in x",
   "execution_count": 31,
   "outputs": [
    {
     "data": {
      "text/plain": "True"
     },
     "execution_count": 31,
     "metadata": {},
     "output_type": "execute_result"
    }
   ]
  },
  {
   "metadata": {
    "colab": {
     "base_uri": "https://localhost:8080/",
     "height": 34
    },
    "execution": {
     "iopub.execute_input": "2022-09-23T00:20:14.833344Z",
     "iopub.status.busy": "2022-09-23T00:20:14.832610Z",
     "iopub.status.idle": "2022-09-23T00:20:14.835959Z",
     "shell.execute_reply": "2022-09-23T00:20:14.835538Z"
    },
    "executionInfo": {
     "elapsed": 247,
     "status": "ok",
     "timestamp": 1571784924765,
     "user": {
      "displayName": "Benedict Paten",
      "photoUrl": "https://lh3.googleusercontent.com/a-/AAuE7mBMnWy8dDR7jyTHNy9tPaRx6DCyA3QKrIcuQ7R4=s64",
      "userId": "06399644931392855882"
     },
     "user_tz": 420
    },
    "id": "7KXu-ULPCSK0",
    "outputId": "efc20e24-1857-48fe-9626-837f98348a1f",
    "slideshow": {
     "slide_type": "fragment"
    },
    "trusted": false
   },
   "cell_type": "code",
   "source": "\"monkey\" not in x",
   "execution_count": 32,
   "outputs": [
    {
     "data": {
      "text/plain": "True"
     },
     "execution_count": 32,
     "metadata": {},
     "output_type": "execute_result"
    }
   ]
  },
  {
   "metadata": {
    "id": "Yf7QhuEwxR6k",
    "slideshow": {
     "slide_type": "subslide"
    }
   },
   "cell_type": "markdown",
   "source": "**Comparison**"
  },
  {
   "metadata": {
    "colab": {
     "base_uri": "https://localhost:8080/",
     "height": 34
    },
    "execution": {
     "iopub.execute_input": "2022-09-23T00:20:14.841060Z",
     "iopub.status.busy": "2022-09-23T00:20:14.840345Z",
     "iopub.status.idle": "2022-09-23T00:20:14.843068Z",
     "shell.execute_reply": "2022-09-23T00:20:14.843482Z"
    },
    "executionInfo": {
     "elapsed": 250,
     "status": "ok",
     "timestamp": 1571784928475,
     "user": {
      "displayName": "Benedict Paten",
      "photoUrl": "https://lh3.googleusercontent.com/a-/AAuE7mBMnWy8dDR7jyTHNy9tPaRx6DCyA3QKrIcuQ7R4=s64",
      "userId": "06399644931392855882"
     },
     "user_tz": 420
    },
    "id": "VHVYFFwSCbKA",
    "outputId": "8ed646ff-5011-4ddc-804f-7e8524d78288",
    "slideshow": {
     "slide_type": "fragment"
    },
    "trusted": false
   },
   "cell_type": "code",
   "source": "# This works using the same lexicographic method\n\nx = [1, 2, 3]\ny = [2, 5]\n\nx < y",
   "execution_count": 33,
   "outputs": [
    {
     "data": {
      "text/plain": "True"
     },
     "execution_count": 33,
     "metadata": {},
     "output_type": "execute_result"
    }
   ]
  },
  {
   "metadata": {
    "colab": {
     "base_uri": "https://localhost:8080/",
     "height": 201
    },
    "execution": {
     "iopub.execute_input": "2022-09-23T00:20:14.847551Z",
     "iopub.status.busy": "2022-09-23T00:20:14.846848Z",
     "iopub.status.idle": "2022-09-23T00:20:14.852077Z",
     "shell.execute_reply": "2022-09-23T00:20:14.852785Z"
    },
    "executionInfo": {
     "elapsed": 641,
     "status": "error",
     "timestamp": 1607736523258,
     "user": {
      "displayName": "Benedict Paten",
      "photoUrl": "https://lh3.googleusercontent.com/a-/AOh14Gh2rYrrH6yoNnUp0Oj4p4ouybc6ZcWGyPmKFtIY=s64",
      "userId": "06399644931392855882"
     },
     "user_tz": 480
    },
    "id": "kRzv4R7LDdau",
    "outputId": "d3ded2dc-fc19-4576-db24-503ea7e33480",
    "slideshow": {
     "slide_type": "fragment"
    },
    "trusted": false
   },
   "cell_type": "code",
   "source": "# Again, it only works if the items themselves can be compared\n\nx = [1, 2, 3]\ny = [1, 2, []]\n\nx < y",
   "execution_count": 34,
   "outputs": [
    {
     "ename": "TypeError",
     "evalue": "'<' not supported between instances of 'int' and 'list'",
     "output_type": "error",
     "traceback": [
      "\u001b[0;31m---------------------------------------------------------------------------\u001b[0m",
      "\u001b[0;31mTypeError\u001b[0m                                 Traceback (most recent call last)",
      "\u001b[0;32m<ipython-input-34-26ef9c4c1038>\u001b[0m in \u001b[0;36m<module>\u001b[0;34m\u001b[0m\n\u001b[1;32m      4\u001b[0m \u001b[0my\u001b[0m \u001b[0;34m=\u001b[0m \u001b[0;34m[\u001b[0m\u001b[0;36m1\u001b[0m\u001b[0;34m,\u001b[0m \u001b[0;36m2\u001b[0m\u001b[0;34m,\u001b[0m \u001b[0;34m[\u001b[0m\u001b[0;34m]\u001b[0m\u001b[0;34m]\u001b[0m\u001b[0;34m\u001b[0m\u001b[0;34m\u001b[0m\u001b[0m\n\u001b[1;32m      5\u001b[0m \u001b[0;34m\u001b[0m\u001b[0m\n\u001b[0;32m----> 6\u001b[0;31m \u001b[0mx\u001b[0m \u001b[0;34m<\u001b[0m \u001b[0my\u001b[0m\u001b[0;34m\u001b[0m\u001b[0;34m\u001b[0m\u001b[0m\n\u001b[0m",
      "\u001b[0;31mTypeError\u001b[0m: '<' not supported between instances of 'int' and 'list'"
     ]
    }
   ]
  },
  {
   "metadata": {
    "id": "LfpO4SSF_mfk",
    "slideshow": {
     "slide_type": "slide"
    }
   },
   "cell_type": "markdown",
   "source": "# Lists are mutable"
  },
  {
   "metadata": {
    "colab": {
     "base_uri": "https://localhost:8080/",
     "height": 34
    },
    "execution": {
     "iopub.execute_input": "2022-09-23T00:20:14.856871Z",
     "iopub.status.busy": "2022-09-23T00:20:14.856091Z",
     "iopub.status.idle": "2022-09-23T00:20:14.859711Z",
     "shell.execute_reply": "2022-09-23T00:20:14.859304Z"
    },
    "executionInfo": {
     "elapsed": 261,
     "status": "ok",
     "timestamp": 1571785142249,
     "user": {
      "displayName": "Benedict Paten",
      "photoUrl": "https://lh3.googleusercontent.com/a-/AAuE7mBMnWy8dDR7jyTHNy9tPaRx6DCyA3QKrIcuQ7R4=s64",
      "userId": "06399644931392855882"
     },
     "user_tz": 420
    },
    "id": "1ygkdENuDvH2",
    "outputId": "3b11d052-f85d-4b9f-a04a-a053e6db45d1",
    "slideshow": {
     "slide_type": "fragment"
    },
    "trusted": false
   },
   "cell_type": "code",
   "source": "# Lists, unlike strings, ints, floats and tuples, are mutable\n\nx = [1, 2, 3]\n\nx[0] = 3\n\nprint(x)",
   "execution_count": 35,
   "outputs": [
    {
     "name": "stdout",
     "output_type": "stream",
     "text": "[3, 2, 3]\n"
    }
   ]
  },
  {
   "metadata": {
    "slideshow": {
     "slide_type": "subslide"
    }
   },
   "cell_type": "markdown",
   "source": "**Lists can be edited using slices**"
  },
  {
   "metadata": {
    "colab": {
     "base_uri": "https://localhost:8080/",
     "height": 34
    },
    "execution": {
     "iopub.execute_input": "2022-09-23T00:20:14.863890Z",
     "iopub.status.busy": "2022-09-23T00:20:14.863232Z",
     "iopub.status.idle": "2022-09-23T00:20:14.865530Z",
     "shell.execute_reply": "2022-09-23T00:20:14.865935Z"
    },
    "executionInfo": {
     "elapsed": 257,
     "status": "ok",
     "timestamp": 1571785196421,
     "user": {
      "displayName": "Benedict Paten",
      "photoUrl": "https://lh3.googleusercontent.com/a-/AAuE7mBMnWy8dDR7jyTHNy9tPaRx6DCyA3QKrIcuQ7R4=s64",
      "userId": "06399644931392855882"
     },
     "user_tz": 420
    },
    "id": "-qd9idIREjyy",
    "outputId": "f295a82c-599e-431c-cc87-0db7f0b6d3f0",
    "slideshow": {
     "slide_type": "fragment"
    },
    "trusted": false
   },
   "cell_type": "code",
   "source": "# We can use slices to insert, replace and remove elements\n\nx = [1, 2, 3, 4, 5, 6, 7]\n\nx[1:3] = [8, 9] # Replace the second and third elements in the list (2 and 3)\n# with 8 and 9\n\nprint(x)",
   "execution_count": 36,
   "outputs": [
    {
     "name": "stdout",
     "output_type": "stream",
     "text": "[1, 8, 9, 4, 5, 6, 7]\n"
    }
   ]
  },
  {
   "metadata": {
    "colab": {
     "base_uri": "https://localhost:8080/",
     "height": 34
    },
    "execution": {
     "iopub.execute_input": "2022-09-23T00:20:14.870350Z",
     "iopub.status.busy": "2022-09-23T00:20:14.869562Z",
     "iopub.status.idle": "2022-09-23T00:20:14.872917Z",
     "shell.execute_reply": "2022-09-23T00:20:14.873321Z"
    },
    "executionInfo": {
     "elapsed": 260,
     "status": "ok",
     "timestamp": 1571785234891,
     "user": {
      "displayName": "Benedict Paten",
      "photoUrl": "https://lh3.googleusercontent.com/a-/AAuE7mBMnWy8dDR7jyTHNy9tPaRx6DCyA3QKrIcuQ7R4=s64",
      "userId": "06399644931392855882"
     },
     "user_tz": 420
    },
    "id": "AD-kpOJ3E35t",
    "outputId": "c4fd1dfc-9135-421d-f6dc-8fc1f736d33e",
    "slideshow": {
     "slide_type": "fragment"
    },
    "trusted": false
   },
   "cell_type": "code",
   "source": "x = [1, 2, 3, 4, 5, 6, 7]\n\n# Replace the elements at index 1 and 2 with an empty list, so removing them\nx[1:3] = [] \n\nprint(x)",
   "execution_count": 1,
   "outputs": [
    {
     "output_type": "stream",
     "text": "[1, 4, 5, 6, 7]\n",
     "name": "stdout"
    }
   ]
  },
  {
   "metadata": {
    "colab": {
     "base_uri": "https://localhost:8080/",
     "height": 34
    },
    "execution": {
     "iopub.execute_input": "2022-09-23T00:20:14.877501Z",
     "iopub.status.busy": "2022-09-23T00:20:14.876898Z",
     "iopub.status.idle": "2022-09-23T00:20:14.879148Z",
     "shell.execute_reply": "2022-09-23T00:20:14.879596Z"
    },
    "executionInfo": {
     "elapsed": 267,
     "status": "ok",
     "timestamp": 1571785550128,
     "user": {
      "displayName": "Benedict Paten",
      "photoUrl": "https://lh3.googleusercontent.com/a-/AAuE7mBMnWy8dDR7jyTHNy9tPaRx6DCyA3QKrIcuQ7R4=s64",
      "userId": "06399644931392855882"
     },
     "user_tz": 420
    },
    "id": "g5VngVvNIWFy",
    "outputId": "16c5946b-b1b3-4a6f-fd80-5af06de2e7d0",
    "slideshow": {
     "slide_type": "fragment"
    },
    "trusted": false
   },
   "cell_type": "code",
   "source": "x = [1, 2, 3, 4, 5, 6, 7]\n\nx[1:3] = [ 8, 9, 10] # Replace the second and third elements with an larger \n# list, so inserting elements\n\nprint(x)",
   "execution_count": 38,
   "outputs": [
    {
     "name": "stdout",
     "output_type": "stream",
     "text": "[1, 8, 9, 10, 4, 5, 6, 7]\n"
    }
   ]
  },
  {
   "metadata": {
    "slideshow": {
     "slide_type": "subslide"
    }
   },
   "cell_type": "markdown",
   "source": "**Methods to add elements to the end of a list**"
  },
  {
   "metadata": {
    "colab": {
     "base_uri": "https://localhost:8080/",
     "height": 34
    },
    "execution": {
     "iopub.execute_input": "2022-09-23T00:20:14.884687Z",
     "iopub.status.busy": "2022-09-23T00:20:14.883553Z",
     "iopub.status.idle": "2022-09-23T00:20:14.887257Z",
     "shell.execute_reply": "2022-09-23T00:20:14.887965Z"
    },
    "executionInfo": {
     "elapsed": 278,
     "status": "ok",
     "timestamp": 1571785401620,
     "user": {
      "displayName": "Benedict Paten",
      "photoUrl": "https://lh3.googleusercontent.com/a-/AAuE7mBMnWy8dDR7jyTHNy9tPaRx6DCyA3QKrIcuQ7R4=s64",
      "userId": "06399644931392855882"
     },
     "user_tz": 420
    },
    "id": "GjE9wOh0D6ir",
    "outputId": "88d007c0-17a7-4207-9463-f89b71730a4d",
    "slideshow": {
     "slide_type": "fragment"
    },
    "trusted": false
   },
   "cell_type": "code",
   "source": "# Append method lets us add an element to the end of a list\n\nx = [1, 8, 9, 10, 4, 5, 6, 7] \n\nx.append(5)\n\nprint(x)",
   "execution_count": 39,
   "outputs": [
    {
     "name": "stdout",
     "output_type": "stream",
     "text": "[1, 8, 9, 10, 4, 5, 6, 7, 5]\n"
    }
   ]
  },
  {
   "metadata": {
    "colab": {
     "base_uri": "https://localhost:8080/",
     "height": 34
    },
    "execution": {
     "iopub.execute_input": "2022-09-23T00:20:14.892438Z",
     "iopub.status.busy": "2022-09-23T00:20:14.891765Z",
     "iopub.status.idle": "2022-09-23T00:20:14.895255Z",
     "shell.execute_reply": "2022-09-23T00:20:14.894804Z"
    },
    "executionInfo": {
     "elapsed": 251,
     "status": "ok",
     "timestamp": 1571785418663,
     "user": {
      "displayName": "Benedict Paten",
      "photoUrl": "https://lh3.googleusercontent.com/a-/AAuE7mBMnWy8dDR7jyTHNy9tPaRx6DCyA3QKrIcuQ7R4=s64",
      "userId": "06399644931392855882"
     },
     "user_tz": 420
    },
    "id": "Jjq2cGivJygZ",
    "outputId": "ae9260ce-590a-44f5-ad7c-53cb61574cf6",
    "slideshow": {
     "slide_type": "fragment"
    },
    "trusted": false
   },
   "cell_type": "code",
   "source": "# You can add multiple elements to the end of a list using extend()\n\nx.extend([4, 5, 6]) # This takes the input list and adds its elements\n# to x in order at the end\n\nprint(x)",
   "execution_count": 40,
   "outputs": [
    {
     "name": "stdout",
     "output_type": "stream",
     "text": "[1, 8, 9, 10, 4, 5, 6, 7, 5, 4, 5, 6]\n"
    }
   ]
  },
  {
   "metadata": {
    "slideshow": {
     "slide_type": "subslide"
    }
   },
   "cell_type": "markdown",
   "source": "**Lists methods to remove elements**"
  },
  {
   "metadata": {
    "colab": {
     "base_uri": "https://localhost:8080/",
     "height": 34
    },
    "execution": {
     "iopub.execute_input": "2022-09-23T00:20:14.899448Z",
     "iopub.status.busy": "2022-09-23T00:20:14.898805Z",
     "iopub.status.idle": "2022-09-23T00:20:14.902485Z",
     "shell.execute_reply": "2022-09-23T00:20:14.903165Z"
    },
    "executionInfo": {
     "elapsed": 253,
     "status": "ok",
     "timestamp": 1571785432743,
     "user": {
      "displayName": "Benedict Paten",
      "photoUrl": "https://lh3.googleusercontent.com/a-/AAuE7mBMnWy8dDR7jyTHNy9tPaRx6DCyA3QKrIcuQ7R4=s64",
      "userId": "06399644931392855882"
     },
     "user_tz": 420
    },
    "id": "fjuqf4C4EDyh",
    "outputId": "b9373117-df4a-4ea7-f9de-729c3f1fde70",
    "slideshow": {
     "slide_type": "fragment"
    },
    "trusted": false
   },
   "cell_type": "code",
   "source": "x = [1, 8, 9, 10, 4, 5, 6, 7, 5, 4, 5, 6]\n\n# Remove\n\nx.remove(10) # Removes the first instance of 10\n\nprint(x)",
   "execution_count": 41,
   "outputs": [
    {
     "name": "stdout",
     "output_type": "stream",
     "text": "[1, 8, 9, 4, 5, 6, 7, 5, 4, 5, 6]\n"
    }
   ]
  },
  {
   "metadata": {
    "colab": {
     "base_uri": "https://localhost:8080/",
     "height": 213
    },
    "execution": {
     "iopub.execute_input": "2022-09-23T00:20:14.909133Z",
     "iopub.status.busy": "2022-09-23T00:20:14.908096Z",
     "iopub.status.idle": "2022-09-23T00:20:14.911238Z",
     "shell.execute_reply": "2022-09-23T00:20:14.911785Z"
    },
    "executionInfo": {
     "elapsed": 305,
     "status": "error",
     "timestamp": 1571785541739,
     "user": {
      "displayName": "Benedict Paten",
      "photoUrl": "https://lh3.googleusercontent.com/a-/AAuE7mBMnWy8dDR7jyTHNy9tPaRx6DCyA3QKrIcuQ7R4=s64",
      "userId": "06399644931392855882"
     },
     "user_tz": 420
    },
    "id": "1INhFKyEJLyt",
    "outputId": "90158021-a501-4ade-d072-cb7e7a6252c8",
    "slideshow": {
     "slide_type": "fragment"
    },
    "trusted": false
   },
   "cell_type": "code",
   "source": "# You can also use \"del\"\n\ndel x[0]\n\nprint(x)",
   "execution_count": 42,
   "outputs": [
    {
     "name": "stdout",
     "output_type": "stream",
     "text": "[8, 9, 4, 5, 6, 7, 5, 4, 5, 6]\n"
    }
   ]
  },
  {
   "metadata": {
    "colab": {
     "base_uri": "https://localhost:8080/",
     "height": 34
    },
    "execution": {
     "iopub.execute_input": "2022-09-23T00:20:14.917108Z",
     "iopub.status.busy": "2022-09-23T00:20:14.915968Z",
     "iopub.status.idle": "2022-09-23T00:20:14.919514Z",
     "shell.execute_reply": "2022-09-23T00:20:14.920237Z"
    },
    "executionInfo": {
     "elapsed": 318,
     "status": "ok",
     "timestamp": 1571785563681,
     "user": {
      "displayName": "Benedict Paten",
      "photoUrl": "https://lh3.googleusercontent.com/a-/AAuE7mBMnWy8dDR7jyTHNy9tPaRx6DCyA3QKrIcuQ7R4=s64",
      "userId": "06399644931392855882"
     },
     "user_tz": 420
    },
    "id": "mx1YrvNxoxje",
    "outputId": "69d04194-a8e1-460f-8e2d-0023650f8a24",
    "slideshow": {
     "slide_type": "fragment"
    },
    "trusted": false
   },
   "cell_type": "code",
   "source": "# Remove the last element of the list:\n\nx.pop()\n\nprint(x)",
   "execution_count": 43,
   "outputs": [
    {
     "name": "stdout",
     "output_type": "stream",
     "text": "[8, 9, 4, 5, 6, 7, 5, 4, 5]\n"
    }
   ]
  },
  {
   "metadata": {
    "slideshow": {
     "slide_type": "subslide"
    }
   },
   "cell_type": "markdown",
   "source": "**Inserting into a list**"
  },
  {
   "metadata": {
    "colab": {
     "base_uri": "https://localhost:8080/",
     "height": 34
    },
    "execution": {
     "iopub.execute_input": "2022-09-23T00:20:14.926729Z",
     "iopub.status.busy": "2022-09-23T00:20:14.925892Z",
     "iopub.status.idle": "2022-09-23T00:20:14.929057Z",
     "shell.execute_reply": "2022-09-23T00:20:14.929528Z"
    },
    "executionInfo": {
     "elapsed": 243,
     "status": "ok",
     "timestamp": 1571785585058,
     "user": {
      "displayName": "Benedict Paten",
      "photoUrl": "https://lh3.googleusercontent.com/a-/AAuE7mBMnWy8dDR7jyTHNy9tPaRx6DCyA3QKrIcuQ7R4=s64",
      "userId": "06399644931392855882"
     },
     "user_tz": 420
    },
    "id": "pL2FVUFuER7S",
    "outputId": "dcc552fb-8d06-46ea-ff78-55b44a87c3c6",
    "slideshow": {
     "slide_type": "fragment"
    },
    "trusted": false
   },
   "cell_type": "code",
   "source": "# Insert \n\nx = [1, 2, 3, 4, 5, 6, 7]\n\nx.insert(2, \"boo\") # Insert an element at the 2 position, shifting the existing\n# list up\n\nprint(x)",
   "execution_count": 44,
   "outputs": [
    {
     "name": "stdout",
     "output_type": "stream",
     "text": "[1, 2, 'boo', 3, 4, 5, 6, 7]\n"
    }
   ]
  },
  {
   "metadata": {
    "id": "y_CmPhlEDsZp",
    "slideshow": {
     "slide_type": "subslide"
    }
   },
   "cell_type": "markdown",
   "source": "**Other useful list functions**"
  },
  {
   "metadata": {
    "colab": {
     "base_uri": "https://localhost:8080/",
     "height": 34
    },
    "execution": {
     "iopub.execute_input": "2022-09-23T00:20:14.935897Z",
     "iopub.status.busy": "2022-09-23T00:20:14.934808Z",
     "iopub.status.idle": "2022-09-23T00:20:14.938685Z",
     "shell.execute_reply": "2022-09-23T00:20:14.939486Z"
    },
    "executionInfo": {
     "elapsed": 232,
     "status": "ok",
     "timestamp": 1571785667331,
     "user": {
      "displayName": "Benedict Paten",
      "photoUrl": "https://lh3.googleusercontent.com/a-/AAuE7mBMnWy8dDR7jyTHNy9tPaRx6DCyA3QKrIcuQ7R4=s64",
      "userId": "06399644931392855882"
     },
     "user_tz": 420
    },
    "id": "8ugFjkOXK6vo",
    "outputId": "ccd56bc4-1ea7-40ae-a06e-04a18478b18f",
    "slideshow": {
     "slide_type": "fragment"
    },
    "trusted": false
   },
   "cell_type": "code",
   "source": "# Python provides lots of useful list functions, non-exhaustively:\n\nx = [1, 2, 3, 4]\n\n# Type conversion from list to tuple\ntuple(x)",
   "execution_count": 45,
   "outputs": [
    {
     "data": {
      "text/plain": "(1, 2, 3, 4)"
     },
     "execution_count": 45,
     "metadata": {},
     "output_type": "execute_result"
    }
   ]
  },
  {
   "metadata": {
    "colab": {
     "base_uri": "https://localhost:8080/",
     "height": 34
    },
    "execution": {
     "iopub.execute_input": "2022-09-23T00:20:14.946269Z",
     "iopub.status.busy": "2022-09-23T00:20:14.945003Z",
     "iopub.status.idle": "2022-09-23T00:20:14.948678Z",
     "shell.execute_reply": "2022-09-23T00:20:14.949223Z"
    },
    "executionInfo": {
     "elapsed": 253,
     "status": "ok",
     "timestamp": 1571785686565,
     "user": {
      "displayName": "Benedict Paten",
      "photoUrl": "https://lh3.googleusercontent.com/a-/AAuE7mBMnWy8dDR7jyTHNy9tPaRx6DCyA3QKrIcuQ7R4=s64",
      "userId": "06399644931392855882"
     },
     "user_tz": 420
    },
    "id": "8AjbGgxjL1GD",
    "outputId": "bec53d8a-aa11-41c5-e82c-26ba630a328e",
    "slideshow": {
     "slide_type": "fragment"
    },
    "trusted": false
   },
   "cell_type": "code",
   "source": "x = (1, 2, 3, 4)\n\n# Type conversion from tuple to list \nlist(x)",
   "execution_count": 46,
   "outputs": [
    {
     "data": {
      "text/plain": "[1, 2, 3, 4]"
     },
     "execution_count": 46,
     "metadata": {},
     "output_type": "execute_result"
    }
   ]
  },
  {
   "metadata": {
    "colab": {
     "base_uri": "https://localhost:8080/",
     "height": 34
    },
    "execution": {
     "iopub.execute_input": "2022-09-23T00:20:14.954594Z",
     "iopub.status.busy": "2022-09-23T00:20:14.953597Z",
     "iopub.status.idle": "2022-09-23T00:20:14.956998Z",
     "shell.execute_reply": "2022-09-23T00:20:14.957472Z"
    },
    "executionInfo": {
     "elapsed": 253,
     "status": "ok",
     "timestamp": 1571785700646,
     "user": {
      "displayName": "Benedict Paten",
      "photoUrl": "https://lh3.googleusercontent.com/a-/AAuE7mBMnWy8dDR7jyTHNy9tPaRx6DCyA3QKrIcuQ7R4=s64",
      "userId": "06399644931392855882"
     },
     "user_tz": 420
    },
    "id": "dShr80p9MCz-",
    "outputId": "673ca2ca-b7a1-4014-dfc8-d5edbe486ccf",
    "slideshow": {
     "slide_type": "fragment"
    },
    "trusted": false
   },
   "cell_type": "code",
   "source": "x = [1, 2, 3, 4]\n\nx.reverse() # Reverses the elements of the list in place (this doesn't make a new\n# list, it just reverses the sequence of the elements in x)\n\nprint(x)",
   "execution_count": 47,
   "outputs": [
    {
     "name": "stdout",
     "output_type": "stream",
     "text": "[4, 3, 2, 1]\n"
    }
   ]
  },
  {
   "metadata": {
    "id": "nq1Tm84MMZtj",
    "slideshow": {
     "slide_type": "subslide"
    }
   },
   "cell_type": "markdown",
   "source": "**Nesting and Matrices**"
  },
  {
   "metadata": {
    "colab": {
     "base_uri": "https://localhost:8080/",
     "height": 34
    },
    "execution": {
     "iopub.execute_input": "2022-09-23T00:20:14.964292Z",
     "iopub.status.busy": "2022-09-23T00:20:14.963619Z",
     "iopub.status.idle": "2022-09-23T00:20:14.966618Z",
     "shell.execute_reply": "2022-09-23T00:20:14.967176Z"
    },
    "executionInfo": {
     "elapsed": 262,
     "status": "ok",
     "timestamp": 1571785797577,
     "user": {
      "displayName": "Benedict Paten",
      "photoUrl": "https://lh3.googleusercontent.com/a-/AAuE7mBMnWy8dDR7jyTHNy9tPaRx6DCyA3QKrIcuQ7R4=s64",
      "userId": "06399644931392855882"
     },
     "user_tz": 420
    },
    "id": "K85A5Oh5Meuf",
    "outputId": "7e74b826-1698-48e4-b563-f300622e6755",
    "slideshow": {
     "slide_type": "fragment"
    },
    "trusted": false
   },
   "cell_type": "code",
   "source": "# We have seen examples of nested lists/tuples, e.g.\n\nx = [ 1, 2, [ 4, 5 ]]\n\n# A matrix is just a 2D 'list of lists', a special case of this\n\nx = [ [ 1, 2], [3, 4]]\n\n# You can access it using nested array accesses\nx[0][1] ",
   "execution_count": 48,
   "outputs": [
    {
     "data": {
      "text/plain": "2"
     },
     "execution_count": 48,
     "metadata": {},
     "output_type": "execute_result"
    }
   ]
  },
  {
   "metadata": {
    "id": "nqHUMrSyNKGZ",
    "slideshow": {
     "slide_type": "fragment"
    }
   },
   "cell_type": "markdown",
   "source": "Matrices and arrays are important data types of many kinds of scientific and mathematical computing. \n\nSpecialized packages, like Numpy,  represent this kind of data more efficiently than \"lists of lists\", and can be used for doing math stuff, like diagonalizing matrices, etc."
  },
  {
   "metadata": {
    "slideshow": {
     "slide_type": "subslide"
    }
   },
   "cell_type": "markdown",
   "source": "# Challenge"
  },
  {
   "metadata": {
    "execution": {
     "iopub.execute_input": "2022-09-23T00:20:14.971800Z",
     "iopub.status.busy": "2022-09-23T00:20:14.970998Z",
     "iopub.status.idle": "2022-09-23T00:20:14.973283Z",
     "shell.execute_reply": "2022-09-23T00:20:14.974046Z"
    },
    "slideshow": {
     "slide_type": "fragment"
    },
    "trusted": false
   },
   "cell_type": "code",
   "source": "x = [1, 2, 3, 4, 5, 6, 7]\n#    0  1  2  3  4  5  6\n\n# Use a list slice operation to insert the sequence 8, 9, 10\n# between the third and fourth element in the list, \n# i.e so that x = [ 1, 2, 3, 8, 9, 10, 4, 5, 6, 7 ]\n\n...\n\nx",
   "execution_count": 5,
   "outputs": [
    {
     "data": {
      "text/plain": "[1, 2, 3, 8, 9, 10, 4, 5, 6, 7]"
     },
     "execution_count": 5,
     "metadata": {},
     "output_type": "execute_result"
    }
   ]
  },
  {
   "metadata": {
    "slideshow": {
     "slide_type": "slide"
    }
   },
   "cell_type": "markdown",
   "source": "# Challenge"
  },
  {
   "metadata": {
    "trusted": false
   },
   "cell_type": "code",
   "source": "x = [ 1, 2, 3, 4, 5 ]\n\n# Create a list y that is the same length as x,\n# and where each element in y is 2* the corresponding element in x\n\n...\n\ny",
   "execution_count": 3,
   "outputs": [
    {
     "output_type": "execute_result",
     "execution_count": 3,
     "data": {
      "text/plain": "[1, 2, 3, 4, 5]"
     },
     "metadata": {}
    }
   ]
  },
  {
   "metadata": {
    "id": "its87A0BTYHF",
    "slideshow": {
     "slide_type": "slide"
    }
   },
   "cell_type": "markdown",
   "source": "# List comprehensions\n\nThese are a super useful mashup of a for loop, a list and conditionals. "
  },
  {
   "metadata": {
    "slideshow": {
     "slide_type": "fragment"
    },
    "trusted": false
   },
   "cell_type": "code",
   "source": "x = [ 1, 2, 3, 4, 5 ]\n\ny = []\nfor i in x:\n    y.append(i*2)\n\nprint(y)",
   "execution_count": 1,
   "outputs": [
    {
     "name": "stdout",
     "output_type": "stream",
     "text": "[2, 4, 6, 8, 10]\n"
    }
   ]
  },
  {
   "metadata": {
    "colab": {
     "base_uri": "https://localhost:8080/"
    },
    "execution": {
     "iopub.execute_input": "2022-09-23T00:20:14.979292Z",
     "iopub.status.busy": "2022-09-23T00:20:14.978586Z",
     "iopub.status.idle": "2022-09-23T00:20:14.980961Z",
     "shell.execute_reply": "2022-09-23T00:20:14.981407Z"
    },
    "executionInfo": {
     "elapsed": 550,
     "status": "ok",
     "timestamp": 1607737295522,
     "user": {
      "displayName": "Benedict Paten",
      "photoUrl": "https://lh3.googleusercontent.com/a-/AOh14Gh2rYrrH6yoNnUp0Oj4p4ouybc6ZcWGyPmKFtIY=s64",
      "userId": "06399644931392855882"
     },
     "user_tz": 480
    },
    "id": "7zfvW0nkm91n",
    "outputId": "618aa080-9876-43e1-ee19-ebcfa22747d5",
    "slideshow": {
     "slide_type": "fragment"
    },
    "trusted": false
   },
   "cell_type": "code",
   "source": "x = [ 1, 2, 3, 4, 5 ]\n\ny = [ i * 2 for i in x ]\n\nprint(y)",
   "execution_count": 2,
   "outputs": [
    {
     "name": "stdout",
     "output_type": "stream",
     "text": "[2, 4, 6, 8, 10]\n"
    }
   ]
  },
  {
   "metadata": {
    "execution": {
     "iopub.execute_input": "2022-09-23T00:20:14.985378Z",
     "iopub.status.busy": "2022-09-23T00:20:14.984740Z",
     "iopub.status.idle": "2022-09-23T00:20:14.990598Z",
     "shell.execute_reply": "2022-09-23T00:20:14.991076Z"
    },
    "id": "ctAGluJXnHJo",
    "slideshow": {
     "slide_type": "fragment"
    },
    "trusted": false
   },
   "cell_type": "code",
   "source": "# The basic structure of the simplest form is:\n# [ EXPRESSION1 for x in ITERABLE ]\n\n# it is equivalent to writing:\n# l = []\n# for x in ITERABLE:\n#   l.append(EXPRESSION1)",
   "execution_count": 21,
   "outputs": []
  },
  {
   "metadata": {
    "id": "KgDsDemJnRmB",
    "slideshow": {
     "slide_type": "subslide"
    }
   },
   "cell_type": "markdown",
   "source": "Such expressions are really useful for systematically modifying the elements in a list. Here are a couple more examples:"
  },
  {
   "metadata": {
    "colab": {
     "base_uri": "https://localhost:8080/"
    },
    "execution": {
     "iopub.execute_input": "2022-09-23T00:20:14.995405Z",
     "iopub.status.busy": "2022-09-23T00:20:14.994776Z",
     "iopub.status.idle": "2022-09-23T00:20:14.997294Z",
     "shell.execute_reply": "2022-09-23T00:20:14.997721Z"
    },
    "executionInfo": {
     "elapsed": 648,
     "status": "ok",
     "timestamp": 1607737467878,
     "user": {
      "displayName": "Benedict Paten",
      "photoUrl": "https://lh3.googleusercontent.com/a-/AOh14Gh2rYrrH6yoNnUp0Oj4p4ouybc6ZcWGyPmKFtIY=s64",
      "userId": "06399644931392855882"
     },
     "user_tz": 480
    },
    "id": "P0E0Vumsnary",
    "outputId": "831a40b5-6ef3-49c1-d506-28a6e2a1a39b",
    "slideshow": {
     "slide_type": "fragment"
    },
    "trusted": false
   },
   "cell_type": "code",
   "source": "# Append a prefix string to a set of strings:\n\nx = [ \"essay.doc\", \"draft.xls\", \"funny.jpg\"] \n\ny = [ \"/my_dir/\" + i for i in x ]\n\nprint(y)",
   "execution_count": 52,
   "outputs": [
    {
     "name": "stdout",
     "output_type": "stream",
     "text": "['/my_dir/essay.doc', '/my_dir/draft.xls', '/my_dir/funny.jpg']\n"
    }
   ]
  },
  {
   "metadata": {
    "colab": {
     "base_uri": "https://localhost:8080/"
    },
    "execution": {
     "iopub.execute_input": "2022-09-23T00:20:15.001904Z",
     "iopub.status.busy": "2022-09-23T00:20:15.001289Z",
     "iopub.status.idle": "2022-09-23T00:20:15.003658Z",
     "shell.execute_reply": "2022-09-23T00:20:15.004070Z"
    },
    "executionInfo": {
     "elapsed": 521,
     "status": "ok",
     "timestamp": 1607737594833,
     "user": {
      "displayName": "Benedict Paten",
      "photoUrl": "https://lh3.googleusercontent.com/a-/AOh14Gh2rYrrH6yoNnUp0Oj4p4ouybc6ZcWGyPmKFtIY=s64",
      "userId": "06399644931392855882"
     },
     "user_tz": 480
    },
    "id": "jicsLbQmn0Zo",
    "outputId": "12d858d5-5f4e-4df9-cf45-a91c840606ff",
    "slideshow": {
     "slide_type": "fragment"
    },
    "trusted": false
   },
   "cell_type": "code",
   "source": "import random # this is a module for making random numbers, etc.\n\ny = [ \"head\" if random.random() > 0.5 else \"tail\" for i in range(10) ]\n\nprint(y) # A sequence of random coin tosses",
   "execution_count": 53,
   "outputs": [
    {
     "name": "stdout",
     "output_type": "stream",
     "text": "['head', 'head', 'head', 'tail', 'tail', 'head', 'head', 'tail', 'tail', 'head']\n"
    }
   ]
  },
  {
   "metadata": {
    "id": "qQRCtbt3oQvT",
    "slideshow": {
     "slide_type": "subslide"
    }
   },
   "cell_type": "markdown",
   "source": "The syntax also allows for a conditional in a list comprehension:"
  },
  {
   "metadata": {
    "colab": {
     "base_uri": "https://localhost:8080/"
    },
    "execution": {
     "iopub.execute_input": "2022-09-23T00:20:15.008875Z",
     "iopub.status.busy": "2022-09-23T00:20:15.008174Z",
     "iopub.status.idle": "2022-09-23T00:20:15.010559Z",
     "shell.execute_reply": "2022-09-23T00:20:15.010959Z"
    },
    "executionInfo": {
     "elapsed": 554,
     "status": "ok",
     "timestamp": 1607736658629,
     "user": {
      "displayName": "Benedict Paten",
      "photoUrl": "https://lh3.googleusercontent.com/a-/AOh14Gh2rYrrH6yoNnUp0Oj4p4ouybc6ZcWGyPmKFtIY=s64",
      "userId": "06399644931392855882"
     },
     "user_tz": 480
    },
    "id": "nHxDTSOgV_0y",
    "outputId": "dc0bad39-525c-425b-9a3f-88f225bc569e",
    "slideshow": {
     "slide_type": "fragment"
    },
    "trusted": false
   },
   "cell_type": "code",
   "source": "x = [ \"a\", 1, 2, \"list\"]\n\n# Make a new list, l, containing only the strings in x\nl = [ i for i in x if type(i) == str ] \n\nprint(l)",
   "execution_count": 54,
   "outputs": [
    {
     "name": "stdout",
     "output_type": "stream",
     "text": "['a', 'list']\n"
    }
   ]
  },
  {
   "metadata": {
    "execution": {
     "iopub.execute_input": "2022-09-23T00:20:15.014849Z",
     "iopub.status.busy": "2022-09-23T00:20:15.014201Z",
     "iopub.status.idle": "2022-09-23T00:20:15.019507Z",
     "shell.execute_reply": "2022-09-23T00:20:15.019995Z"
    },
    "id": "um2Ud7OckpGp",
    "slideshow": {
     "slide_type": "fragment"
    },
    "trusted": false
   },
   "cell_type": "code",
   "source": "# The basic structure is:\n# [ EXPRESSION1 for x in ITERABLE (optionally) if EXPRESSION2 ]\n\n# it is equivalent to writing:\n# l = []\n# for x in ITERABLE:\n#   if EXPRESSION2:\n#       l.append(EXPRESSION1)",
   "execution_count": 23,
   "outputs": []
  },
  {
   "metadata": {
    "id": "eos0g3HqXvRW",
    "slideshow": {
     "slide_type": "fragment"
    }
   },
   "cell_type": "markdown",
   "source": "You can always do this with more code, but these shorthands are succinct and save code.\n\nHere's one more example:"
  },
  {
   "metadata": {
    "colab": {
     "base_uri": "https://localhost:8080/"
    },
    "execution": {
     "iopub.execute_input": "2022-09-23T00:20:15.026206Z",
     "iopub.status.busy": "2022-09-23T00:20:15.025512Z",
     "iopub.status.idle": "2022-09-23T00:20:15.028215Z",
     "shell.execute_reply": "2022-09-23T00:20:15.028617Z"
    },
    "executionInfo": {
     "elapsed": 543,
     "status": "ok",
     "timestamp": 1607737831584,
     "user": {
      "displayName": "Benedict Paten",
      "photoUrl": "https://lh3.googleusercontent.com/a-/AOh14Gh2rYrrH6yoNnUp0Oj4p4ouybc6ZcWGyPmKFtIY=s64",
      "userId": "06399644931392855882"
     },
     "user_tz": 480
    },
    "id": "BoiDUhozYDff",
    "outputId": "09c88139-6660-4d7f-b0fc-fe96331982ba",
    "slideshow": {
     "slide_type": "subslide"
    },
    "trusted": false
   },
   "cell_type": "code",
   "source": "def how_many_strings(x):\n  \"\"\" Returns the number of strings in x, where x is a list or equivalent. \"\"\"\n  j = 0\n  for i in x:\n    if type(i) == str:\n      j += 1\n  return j\n\n# This can be accomplished equivalently:\n\ndef how_many_strings2(x):\n  \"\"\" Returns the number of strings in x, where x is a list or equivalent. \"\"\"\n  return len([ None for i in x if type(i) == str ])\n\n\nhow_many_strings2([ 1, \"a\", \"string\", 6, (7,), [ 5, 6] ])\n",
   "execution_count": 56,
   "outputs": [
    {
     "data": {
      "text/plain": "2"
     },
     "execution_count": 56,
     "metadata": {},
     "output_type": "execute_result"
    }
   ]
  },
  {
   "metadata": {
    "slideshow": {
     "slide_type": "subslide"
    }
   },
   "cell_type": "markdown",
   "source": "# Challenge 3"
  },
  {
   "metadata": {
    "execution": {
     "iopub.execute_input": "2022-09-23T00:20:15.032496Z",
     "iopub.status.busy": "2022-09-23T00:20:15.031765Z",
     "iopub.status.idle": "2022-09-23T00:20:15.033629Z",
     "shell.execute_reply": "2022-09-23T00:20:15.034030Z"
    },
    "slideshow": {
     "slide_type": "fragment"
    },
    "trusted": false
   },
   "cell_type": "code",
   "source": "# (Q1) Write a list comprehension to calculate a list of the first 100 square numbers.\n\nx = [ 1, 27, 30, 6, 9, 8 ]\n# (Q2) Write a list comprehension that produces a modified list excluding any odd numbers.\n\n",
   "execution_count": 3,
   "outputs": [
    {
     "output_type": "stream",
     "text": "[1, 4, 9, 16, 25, 36, 49, 64, 81, 100]\n",
     "name": "stdout"
    },
    {
     "output_type": "execute_result",
     "execution_count": 3,
     "data": {
      "text/plain": "[30, 6, 8]"
     },
     "metadata": {}
    }
   ]
  },
  {
   "metadata": {
    "id": "VUnSbmkzyKwd",
    "slideshow": {
     "slide_type": "slide"
    }
   },
   "cell_type": "markdown",
   "source": "# More Dictionaries\n\n* Dictionaries are maps from a set of keys to a set of values\n\n* Written as a collection of key:value pairs separated by commas.\n\n* Keys and values can be most Python objects\n\n* You look up elements in a dictionary using square bracket notation"
  },
  {
   "metadata": {
    "execution": {
     "iopub.execute_input": "2022-09-23T00:20:15.038493Z",
     "iopub.status.busy": "2022-09-23T00:20:15.037904Z",
     "iopub.status.idle": "2022-09-23T00:20:15.039753Z",
     "shell.execute_reply": "2022-09-23T00:20:15.040226Z"
    },
    "id": "Fv6ucZiFYbG9",
    "slideshow": {
     "slide_type": "fragment"
    },
    "trusted": false
   },
   "cell_type": "code",
   "source": "fruit_costs = {\"apples\": 430, \"bananas\": 312, \"oranges\": 525, \"pears\": 217}\nfruit_costs[\"apples\"]",
   "execution_count": 1,
   "outputs": [
    {
     "output_type": "execute_result",
     "execution_count": 1,
     "data": {
      "text/plain": "430"
     },
     "metadata": {}
    }
   ]
  },
  {
   "metadata": {
    "id": "4AG7-8nxG72y",
    "slideshow": {
     "slide_type": "fragment"
    }
   },
   "cell_type": "markdown",
   "source": "As a reminder:\n\n* **No duplicate keys**: You can't have duplicate keys in a dictionary\n\n* **Duplicate values are allowed**\n\n* **Dictionaries are mutable**"
  },
  {
   "metadata": {
    "id": "cllbkzV11E5m",
    "slideshow": {
     "slide_type": "slide"
    }
   },
   "cell_type": "markdown",
   "source": "# Why use dictionaries?\n\n* Dictionaries are convenient - it is surprising how often we want to create maps from one set to another.\n\n* Dictionaries are fast: \n  * The cost of looking up a key value pair in a dictionary is a constant time operation. \n  * In contrast checking if something is in a list costs N operations where N is the length of the list. \n  * Addition, removal and update operations are all constant-time on dictionaries.\n\n\n\n\n\n"
  },
  {
   "metadata": {
    "id": "DgeYKrJr73pH",
    "slideshow": {
     "slide_type": "slide"
    }
   },
   "cell_type": "markdown",
   "source": "# More Dictionary Odds and Ends\n\n**Some types can't be keys**:"
  },
  {
   "metadata": {
    "colab": {
     "base_uri": "https://localhost:8080/",
     "height": 164
    },
    "execution": {
     "iopub.execute_input": "2022-09-23T00:20:15.044987Z",
     "iopub.status.busy": "2022-09-23T00:20:15.044270Z",
     "iopub.status.idle": "2022-09-23T00:20:15.051105Z",
     "shell.execute_reply": "2022-09-23T00:20:15.051895Z"
    },
    "executionInfo": {
     "elapsed": 1117,
     "status": "error",
     "timestamp": 1606701189298,
     "user": {
      "displayName": "Benedict Paten",
      "photoUrl": "https://lh3.googleusercontent.com/a-/AOh14Gh2rYrrH6yoNnUp0Oj4p4ouybc6ZcWGyPmKFtIY=s64",
      "userId": "06399644931392855882"
     },
     "user_tz": 480
    },
    "id": "C28zdECb79aj",
    "outputId": "265eb2f4-febf-4c52-f7bc-47e9510cd64a",
    "slideshow": {
     "slide_type": "fragment"
    },
    "trusted": false
   },
   "cell_type": "code",
   "source": "{ [ 1, ]:\"hello\"} # Lists can't be keys because they are mutable",
   "execution_count": 59,
   "outputs": [
    {
     "ename": "TypeError",
     "evalue": "unhashable type: 'list'",
     "output_type": "error",
     "traceback": [
      "\u001b[0;31m---------------------------------------------------------------------------\u001b[0m",
      "\u001b[0;31mTypeError\u001b[0m                                 Traceback (most recent call last)",
      "\u001b[0;32m<ipython-input-59-4eb963e7adaf>\u001b[0m in \u001b[0;36m<module>\u001b[0;34m\u001b[0m\n\u001b[0;32m----> 1\u001b[0;31m \u001b[0;34m{\u001b[0m \u001b[0;34m[\u001b[0m \u001b[0;36m1\u001b[0m\u001b[0;34m,\u001b[0m \u001b[0;34m]\u001b[0m\u001b[0;34m:\u001b[0m\u001b[0;34m\"hello\"\u001b[0m\u001b[0;34m}\u001b[0m \u001b[0;31m# Lists can't be keys because they are mutable\u001b[0m\u001b[0;34m\u001b[0m\u001b[0;34m\u001b[0m\u001b[0m\n\u001b[0m",
      "\u001b[0;31mTypeError\u001b[0m: unhashable type: 'list'"
     ]
    }
   ]
  },
  {
   "metadata": {
    "execution": {
     "iopub.execute_input": "2022-09-23T00:20:15.060832Z",
     "iopub.status.busy": "2022-09-23T00:20:15.059474Z",
     "iopub.status.idle": "2022-09-23T00:20:15.063207Z",
     "shell.execute_reply": "2022-09-23T00:20:15.063744Z"
    },
    "id": "9nRKbe1W8Kco",
    "slideshow": {
     "slide_type": "fragment"
    },
    "trusted": false
   },
   "cell_type": "code",
   "source": "# However, tuples, being immutable, can be keys - another reason to use tuples\n{ (1,):\"hello\"} ",
   "execution_count": 1,
   "outputs": [
    {
     "output_type": "execute_result",
     "execution_count": 1,
     "data": {
      "text/plain": "{(1,): 'hello'}"
     },
     "metadata": {}
    }
   ]
  },
  {
   "metadata": {
    "id": "WBx9Zb0w2hR3",
    "slideshow": {
     "slide_type": "subslide"
    }
   },
   "cell_type": "markdown",
   "source": "**Get the Keys**: To get the set of keys in a dictionary do this:"
  },
  {
   "metadata": {
    "execution": {
     "iopub.execute_input": "2022-09-23T00:20:15.070368Z",
     "iopub.status.busy": "2022-09-23T00:20:15.068987Z",
     "iopub.status.idle": "2022-09-23T00:20:15.073015Z",
     "shell.execute_reply": "2022-09-23T00:20:15.073858Z"
    },
    "id": "v8-YP9Q92mHv",
    "slideshow": {
     "slide_type": "fragment"
    },
    "trusted": false
   },
   "cell_type": "code",
   "source": "fruit_costs = {\"apples\": 430, \"bananas\": 312, \"oranges\": 525, \"pears\": 217}\n\nfruit_costs.keys()",
   "execution_count": 5,
   "outputs": [
    {
     "data": {
      "text/plain": "dict_keys(['apples', 'bananas', 'oranges', 'pears'])"
     },
     "execution_count": 5,
     "metadata": {},
     "output_type": "execute_result"
    }
   ]
  },
  {
   "metadata": {
    "id": "MVEmTnsK8pWj",
    "slideshow": {
     "slide_type": "subslide"
    }
   },
   "cell_type": "markdown",
   "source": "**Get the Values**:"
  },
  {
   "metadata": {
    "execution": {
     "iopub.execute_input": "2022-09-23T00:20:15.079886Z",
     "iopub.status.busy": "2022-09-23T00:20:15.078990Z",
     "iopub.status.idle": "2022-09-23T00:20:15.083190Z",
     "shell.execute_reply": "2022-09-23T00:20:15.082502Z"
    },
    "id": "1aiUlgD923bE",
    "slideshow": {
     "slide_type": "fragment"
    },
    "trusted": false
   },
   "cell_type": "code",
   "source": "fruit_costs = {\"apples\": 430, \"bananas\": 312, \"oranges\": 525, \"pears\": 430}\n\nfruit_costs.values() # This could contain duplicates",
   "execution_count": 1,
   "outputs": [
    {
     "data": {
      "text/plain": "dict_values([430, 312, 525, 430])"
     },
     "execution_count": 1,
     "metadata": {},
     "output_type": "execute_result"
    }
   ]
  },
  {
   "metadata": {
    "id": "fX97c6O3zPdR",
    "slideshow": {
     "slide_type": "subslide"
    }
   },
   "cell_type": "markdown",
   "source": "**Dictionary syntax is consistent with other Python types**: Much of the same stuff that works with lists works with dictionaries:\n\n(I'm not covering every function and keyword here - but use your knowledge and intuition to test what works)"
  },
  {
   "metadata": {
    "execution": {
     "iopub.execute_input": "2022-09-23T00:20:15.089607Z",
     "iopub.status.busy": "2022-09-23T00:20:15.088675Z",
     "iopub.status.idle": "2022-09-23T00:20:15.092204Z",
     "shell.execute_reply": "2022-09-23T00:20:15.092719Z"
    },
    "id": "xJYUeoLr0hu1",
    "slideshow": {
     "slide_type": "fragment"
    },
    "trusted": false
   },
   "cell_type": "code",
   "source": "fruit_costs = {\"apples\": 430, \"bananas\": 312, \"oranges\": 525, \"pears\": 217}\n\nlen(fruit_costs) # The number of key value pairs in a",
   "execution_count": 63,
   "outputs": [
    {
     "data": {
      "text/plain": "4"
     },
     "execution_count": 63,
     "metadata": {},
     "output_type": "execute_result"
    }
   ]
  },
  {
   "metadata": {
    "execution": {
     "iopub.execute_input": "2022-09-23T00:20:15.097341Z",
     "iopub.status.busy": "2022-09-23T00:20:15.096549Z",
     "iopub.status.idle": "2022-09-23T00:20:15.099155Z",
     "shell.execute_reply": "2022-09-23T00:20:15.099592Z"
    },
    "id": "HrwojH_m0i1j",
    "slideshow": {
     "slide_type": "fragment"
    },
    "trusted": false
   },
   "cell_type": "code",
   "source": "del fruit_costs[\"apples\"] # Removes the key value pair \n\nprint(fruit_costs)",
   "execution_count": 64,
   "outputs": [
    {
     "name": "stdout",
     "output_type": "stream",
     "text": "{'bananas': 312, 'oranges': 525, 'pears': 217}\n"
    }
   ]
  },
  {
   "metadata": {
    "execution": {
     "iopub.execute_input": "2022-09-23T00:20:15.103709Z",
     "iopub.status.busy": "2022-09-23T00:20:15.103003Z",
     "iopub.status.idle": "2022-09-23T00:20:15.105464Z",
     "shell.execute_reply": "2022-09-23T00:20:15.105905Z"
    },
    "id": "w5ZWTNvE03a0",
    "slideshow": {
     "slide_type": "fragment"
    },
    "trusted": false
   },
   "cell_type": "code",
   "source": "fruit_costs.pop(\"oranges\") # This is like del\n\nprint(fruit_costs)",
   "execution_count": 65,
   "outputs": [
    {
     "name": "stdout",
     "output_type": "stream",
     "text": "{'bananas': 312, 'pears': 217}\n"
    }
   ]
  },
  {
   "metadata": {
    "slideshow": {
     "slide_type": "subslide"
    }
   },
   "cell_type": "markdown",
   "source": "**For loops on dictionaries**"
  },
  {
   "metadata": {
    "execution": {
     "iopub.execute_input": "2022-09-23T00:20:15.112008Z",
     "iopub.status.busy": "2022-09-23T00:20:15.111262Z",
     "iopub.status.idle": "2022-09-23T00:20:15.113872Z",
     "shell.execute_reply": "2022-09-23T00:20:15.114336Z"
    },
    "id": "WLbV_bCJ3ix2",
    "slideshow": {
     "slide_type": "fragment"
    },
    "trusted": false
   },
   "cell_type": "code",
   "source": "fruit_costs = {\"apples\": 430, \"bananas\": 312, \"oranges\": 525, \"pears\": 217}\n\n# A for loop over the *keys* in the dictionary\n \nfor i in fruit_costs: \n    print(i, fruit_costs[i])",
   "execution_count": 1,
   "outputs": [
    {
     "output_type": "stream",
     "text": "apples 430\nbananas 312\noranges 525\npears 217\n",
     "name": "stdout"
    }
   ]
  },
  {
   "metadata": {
    "slideshow": {
     "slide_type": "subslide"
    }
   },
   "cell_type": "markdown",
   "source": "**Testing key membership**"
  },
  {
   "metadata": {
    "execution": {
     "iopub.execute_input": "2022-09-23T00:20:15.119402Z",
     "iopub.status.busy": "2022-09-23T00:20:15.118637Z",
     "iopub.status.idle": "2022-09-23T00:20:15.121488Z",
     "shell.execute_reply": "2022-09-23T00:20:15.121903Z"
    },
    "id": "xoprZtmkDZ1w",
    "slideshow": {
     "slide_type": "fragment"
    },
    "trusted": false
   },
   "cell_type": "code",
   "source": "fruit_costs = {\"apples\": 430, \"bananas\": 312, \"oranges\": 525, \"pears\": 217}\n\n# Test for key membership using \"in\" and \"not in\"\n\n\"apples\" in fruit_costs",
   "execution_count": 67,
   "outputs": [
    {
     "data": {
      "text/plain": "True"
     },
     "execution_count": 67,
     "metadata": {},
     "output_type": "execute_result"
    }
   ]
  },
  {
   "metadata": {
    "execution": {
     "iopub.execute_input": "2022-09-23T00:20:15.126151Z",
     "iopub.status.busy": "2022-09-23T00:20:15.125446Z",
     "iopub.status.idle": "2022-09-23T00:20:15.128045Z",
     "shell.execute_reply": "2022-09-23T00:20:15.128450Z"
    },
    "id": "JFQBHSPKDubU",
    "slideshow": {
     "slide_type": "fragment"
    },
    "trusted": false
   },
   "cell_type": "code",
   "source": "\"passion fruit\" not in fruit_costs # Not in",
   "execution_count": 68,
   "outputs": [
    {
     "data": {
      "text/plain": "True"
     },
     "execution_count": 68,
     "metadata": {},
     "output_type": "execute_result"
    }
   ]
  },
  {
   "metadata": {
    "execution": {
     "iopub.execute_input": "2022-09-23T00:20:15.132452Z",
     "iopub.status.busy": "2022-09-23T00:20:15.131790Z",
     "iopub.status.idle": "2022-09-23T00:20:15.134550Z",
     "shell.execute_reply": "2022-09-23T00:20:15.134964Z"
    },
    "id": "Uqgqwm80Dl4p",
    "slideshow": {
     "slide_type": "fragment"
    },
    "trusted": false
   },
   "cell_type": "code",
   "source": "217 in fruit_costs # This is membership of the set of keys, not the values!",
   "execution_count": 69,
   "outputs": [
    {
     "data": {
      "text/plain": "False"
     },
     "execution_count": 69,
     "metadata": {},
     "output_type": "execute_result"
    }
   ]
  },
  {
   "metadata": {
    "slideshow": {
     "slide_type": "subslide"
    }
   },
   "cell_type": "markdown",
   "source": "**Dictionary comprehensions**\n\nLastly, like list comprehensions, Python provides a convenient syntax for mashing up loops, conditionals and dictionaries - dictionary comprehensions."
  },
  {
   "metadata": {
    "colab": {
     "base_uri": "https://localhost:8080/"
    },
    "execution": {
     "iopub.execute_input": "2022-09-23T00:20:15.139606Z",
     "iopub.status.busy": "2022-09-23T00:20:15.138958Z",
     "iopub.status.idle": "2022-09-23T00:20:15.141527Z",
     "shell.execute_reply": "2022-09-23T00:20:15.142073Z"
    },
    "executionInfo": {
     "elapsed": 556,
     "status": "ok",
     "timestamp": 1607824477813,
     "user": {
      "displayName": "Benedict Paten",
      "photoUrl": "https://lh3.googleusercontent.com/a-/AOh14Gh2rYrrH6yoNnUp0Oj4p4ouybc6ZcWGyPmKFtIY=s64",
      "userId": "06399644931392855882"
     },
     "user_tz": 480
    },
    "id": "oCraFP6uzjDn",
    "outputId": "dec8281e-db88-448d-ac17-4272a12130c5",
    "slideshow": {
     "slide_type": "fragment"
    },
    "trusted": false
   },
   "cell_type": "code",
   "source": "# Dictionary comprehension\n\n{ i : i*2 for i in range(10) } # Like a list comprehension, \n# but instead you iterate to produce a sequence of key:value pairs",
   "execution_count": 70,
   "outputs": [
    {
     "data": {
      "text/plain": "{0: 0, 1: 2, 2: 4, 3: 6, 4: 8, 5: 10, 6: 12, 7: 14, 8: 16, 9: 18}"
     },
     "execution_count": 70,
     "metadata": {},
     "output_type": "execute_result"
    }
   ]
  },
  {
   "metadata": {
    "execution": {
     "iopub.execute_input": "2022-09-23T00:20:15.146204Z",
     "iopub.status.busy": "2022-09-23T00:20:15.145476Z",
     "iopub.status.idle": "2022-09-23T00:20:15.150894Z",
     "shell.execute_reply": "2022-09-23T00:20:15.151474Z"
    },
    "slideshow": {
     "slide_type": "fragment"
    },
    "trusted": false
   },
   "cell_type": "code",
   "source": "# The basic structure is:\n# { KEY:VALUE for x in ITERABLE (optionally) if EXPRESSION2 }\n\n# it is equivalent to writing:\n# d = {}\n# for x in ITERABLE:\n#   if EXPRESSION2:\n#       d[KEY] = VALUE",
   "execution_count": 29,
   "outputs": []
  },
  {
   "metadata": {
    "slideshow": {
     "slide_type": "subslide"
    }
   },
   "cell_type": "markdown",
   "source": "# Challenge 4"
  },
  {
   "metadata": {
    "execution": {
     "iopub.execute_input": "2022-09-23T00:20:15.155423Z",
     "iopub.status.busy": "2022-09-23T00:20:15.154839Z",
     "iopub.status.idle": "2022-09-23T00:20:15.157400Z",
     "shell.execute_reply": "2022-09-23T00:20:15.156833Z"
    },
    "slideshow": {
     "slide_type": "fragment"
    },
    "trusted": true
   },
   "cell_type": "code",
   "source": "x = [ (\"Dave\", \"Davies\", \"831-123-4567\"), \n      (\"Mobin\", \"Shafin\", \"821-678-1234\"), \n      (\"Marina\", \"Chang\", \"805-789-3456\")]\n\n# Q1: Use a for loop to build a dictionary, d, \n# of first names to phone numbers from x, \n# note each tuple in x is (first name, last name, phone number)\n\nd = {}\nfor (first,last,phone) in x:\n    d[first] = phone\nprint(d)\nprint(d[\"Dave\"])\n\n# Q2: Use a dictionary comphrehension to do the same thing as in Q1.\n",
   "execution_count": 3,
   "outputs": [
    {
     "output_type": "stream",
     "text": "{'Dave': '831-123-4567', 'Mobin': '821-678-1234', 'Marina': '805-789-3456'}\n831-123-4567\n",
     "name": "stdout"
    }
   ]
  },
  {
   "metadata": {
    "id": "nUHlh0rO4BbL",
    "slideshow": {
     "slide_type": "slide"
    }
   },
   "cell_type": "markdown",
   "source": "# Sets"
  },
  {
   "metadata": {
    "id": "quX1f5Ef4DX_",
    "slideshow": {
     "slide_type": "fragment"
    }
   },
   "cell_type": "markdown",
   "source": "* In Python, sets are collections of **unique, unordered** elements. \n\n* Like dictionaries, sets offer constant time membership operations.\n\n* If you've done any discrete math, you'll appreciate Python provides awesome set functionality."
  },
  {
   "metadata": {
    "colab": {
     "base_uri": "https://localhost:8080/"
    },
    "execution": {
     "iopub.execute_input": "2022-09-23T00:20:15.162359Z",
     "iopub.status.busy": "2022-09-23T00:20:15.161575Z",
     "iopub.status.idle": "2022-09-23T00:20:15.163945Z",
     "shell.execute_reply": "2022-09-23T00:20:15.164348Z"
    },
    "executionInfo": {
     "elapsed": 785,
     "status": "ok",
     "timestamp": 1607824753189,
     "user": {
      "displayName": "Benedict Paten",
      "photoUrl": "https://lh3.googleusercontent.com/a-/AOh14Gh2rYrrH6yoNnUp0Oj4p4ouybc6ZcWGyPmKFtIY=s64",
      "userId": "06399644931392855882"
     },
     "user_tz": 480
    },
    "id": "QrIsxGIjODvd",
    "outputId": "44f3b77c-1b09-426e-c4dd-136dc7d4f7e5",
    "slideshow": {
     "slide_type": "fragment"
    },
    "trusted": true
   },
   "cell_type": "code",
   "source": "alice_text = \"\"\"Alice was beginning to get very tired of sitting by her sister on the bank, \nand of having nothing to do: once or twice she had peeped into the book her sister was reading, \nbut it had no pictures or conversations in it, `and what is the use of a book,' \nthought Alice `without pictures or conversation?'\"\"\"\n\n# This breaks up alice into a sequence of words\nalice_words = alice_text.split() \nprint(alice_words)\n\ns = set(alice_words)\nprint(s)\n\nprint(f\"There are {len(alice_words)} words and {len(s)} unique words\")",
   "execution_count": 2,
   "outputs": [
    {
     "output_type": "stream",
     "text": "['Alice', 'was', 'beginning', 'to', 'get', 'very', 'tired', 'of', 'sitting', 'by', 'her', 'sister', 'on', 'the', 'bank,', 'and', 'of', 'having', 'nothing', 'to', 'do:', 'once', 'or', 'twice', 'she', 'had', 'peeped', 'into', 'the', 'book', 'her', 'sister', 'was', 'reading,', 'but', 'it', 'had', 'no', 'pictures', 'or', 'conversations', 'in', 'it,', '`and', 'what', 'is', 'the', 'use', 'of', 'a', \"book,'\", 'thought', 'Alice', '`without', 'pictures', 'or', \"conversation?'\"]\n{'had', \"conversation?'\", 'reading,', 'Alice', 'having', 'nothing', 'twice', 'very', 'sister', 'into', 'a', 'she', 'but', 'or', '`without', 'the', 'it,', 'is', 'book', 'her', 'get', 'to', 'it', 'once', 'tired', 'in', 'bank,', 'of', 'thought', 'on', 'use', 'pictures', 'what', \"book,'\", 'do:', 'peeped', 'conversations', 'and', 'beginning', 'was', 'sitting', '`and', 'no', 'by'}\nThere are 57 words and 44 unique words\n",
     "name": "stdout"
    }
   ]
  },
  {
   "metadata": {
    "slideshow": {
     "slide_type": "subslide"
    }
   },
   "cell_type": "markdown",
   "source": "**Sets can be created using curly brackets**\n\nLike dictionaries, you can create a set with curly brackets, the difference being with sets you omit the colons to indicate key-value pairs."
  },
  {
   "metadata": {
    "execution": {
     "iopub.execute_input": "2022-09-23T00:20:15.168455Z",
     "iopub.status.busy": "2022-09-23T00:20:15.167719Z",
     "iopub.status.idle": "2022-09-23T00:20:15.170117Z",
     "shell.execute_reply": "2022-09-23T00:20:15.170518Z"
    },
    "slideshow": {
     "slide_type": "fragment"
    },
    "trusted": false
   },
   "cell_type": "code",
   "source": "s2 = { \"a\", \"lot\", \"of\", \"good\", \"that\", \"did\", \"did\"}\n\nprint(s2) # Note, sets are unordered",
   "execution_count": 1,
   "outputs": [
    {
     "output_type": "stream",
     "text": "{'that', 'lot', 'of', 'good', 'did', 'a'}\n",
     "name": "stdout"
    }
   ]
  },
  {
   "metadata": {
    "execution": {
     "iopub.execute_input": "2022-09-23T00:20:15.175019Z",
     "iopub.status.busy": "2022-09-23T00:20:15.174278Z",
     "iopub.status.idle": "2022-09-23T00:20:15.176888Z",
     "shell.execute_reply": "2022-09-23T00:20:15.177290Z"
    },
    "slideshow": {
     "slide_type": "fragment"
    },
    "trusted": false
   },
   "cell_type": "code",
   "source": "# Note, if you want to create an empty set do this:\n\nx = set()  \n\n# If you write:\n\nx = {}\n\ntype(x) # You make an empty dictionary instead",
   "execution_count": 75,
   "outputs": [
    {
     "data": {
      "text/plain": "dict"
     },
     "execution_count": 75,
     "metadata": {},
     "output_type": "execute_result"
    }
   ]
  },
  {
   "metadata": {
    "id": "HP_pAkCjOjfU",
    "slideshow": {
     "slide_type": "subslide"
    }
   },
   "cell_type": "markdown",
   "source": "**All the basic Python op things work with sets:**"
  },
  {
   "metadata": {
    "colab": {
     "base_uri": "https://localhost:8080/"
    },
    "execution": {
     "iopub.execute_input": "2022-09-23T00:20:15.181638Z",
     "iopub.status.busy": "2022-09-23T00:20:15.180859Z",
     "iopub.status.idle": "2022-09-23T00:20:15.183658Z",
     "shell.execute_reply": "2022-09-23T00:20:15.184064Z"
    },
    "executionInfo": {
     "elapsed": 866,
     "status": "ok",
     "timestamp": 1607825419135,
     "user": {
      "displayName": "Benedict Paten",
      "photoUrl": "https://lh3.googleusercontent.com/a-/AOh14Gh2rYrrH6yoNnUp0Oj4p4ouybc6ZcWGyPmKFtIY=s64",
      "userId": "06399644931392855882"
     },
     "user_tz": 480
    },
    "id": "o-YI_JoHPc8_",
    "outputId": "97631102-6e70-4356-858c-d425cf0e2749",
    "slideshow": {
     "slide_type": "fragment"
    },
    "trusted": false
   },
   "cell_type": "code",
   "source": "\"Alice\" in s",
   "execution_count": 76,
   "outputs": [
    {
     "data": {
      "text/plain": "True"
     },
     "execution_count": 76,
     "metadata": {},
     "output_type": "execute_result"
    }
   ]
  },
  {
   "metadata": {
    "colab": {
     "base_uri": "https://localhost:8080/"
    },
    "execution": {
     "iopub.execute_input": "2022-09-23T00:20:15.188065Z",
     "iopub.status.busy": "2022-09-23T00:20:15.187292Z",
     "iopub.status.idle": "2022-09-23T00:20:15.190363Z",
     "shell.execute_reply": "2022-09-23T00:20:15.190773Z"
    },
    "executionInfo": {
     "elapsed": 534,
     "status": "ok",
     "timestamp": 1607824712106,
     "user": {
      "displayName": "Benedict Paten",
      "photoUrl": "https://lh3.googleusercontent.com/a-/AOh14Gh2rYrrH6yoNnUp0Oj4p4ouybc6ZcWGyPmKFtIY=s64",
      "userId": "06399644931392855882"
     },
     "user_tz": 480
    },
    "id": "7NaxiefNPGD7",
    "outputId": "26db2131-3a11-4e78-fd05-28a581c6c567",
    "slideshow": {
     "slide_type": "fragment"
    },
    "trusted": false
   },
   "cell_type": "code",
   "source": "for i in s: #Yup, for loops\n  print(i, end=\"\\t\")",
   "execution_count": 3,
   "outputs": [
    {
     "output_type": "stream",
     "text": "very\tand\ttwice\ta\tshe\treading,\twas\thad\tin\tor\twhat\tonce\tof\tto\ton\tit\tis\tthe\ther\tbut\tbook\tsitting\thaving\tnothing\tbook,'\tget\tit,\tthought\tpictures\tAlice\tno\t`and\tby\tuse\tpeeped\tconversation?'\tconversations\tbeginning\t`without\tsister\tbank,\tdo:\ttired\tinto\t",
     "name": "stdout"
    }
   ]
  },
  {
   "metadata": {
    "id": "QdkNn4NsQvlo",
    "slideshow": {
     "slide_type": "subslide"
    }
   },
   "cell_type": "markdown",
   "source": "**Don't expect the ordering to be meanginful:**"
  },
  {
   "metadata": {
    "colab": {
     "base_uri": "https://localhost:8080/"
    },
    "execution": {
     "iopub.execute_input": "2022-09-23T00:20:15.194912Z",
     "iopub.status.busy": "2022-09-23T00:20:15.194244Z",
     "iopub.status.idle": "2022-09-23T00:20:15.196761Z",
     "shell.execute_reply": "2022-09-23T00:20:15.197170Z"
    },
    "executionInfo": {
     "elapsed": 820,
     "status": "ok",
     "timestamp": 1607825432511,
     "user": {
      "displayName": "Benedict Paten",
      "photoUrl": "https://lh3.googleusercontent.com/a-/AOh14Gh2rYrrH6yoNnUp0Oj4p4ouybc6ZcWGyPmKFtIY=s64",
      "userId": "06399644931392855882"
     },
     "user_tz": 480
    },
    "id": "9JJHsd7sQ0C4",
    "outputId": "566edb42-0738-42dd-fab7-eac47f632bf6",
    "slideshow": {
     "slide_type": "fragment"
    },
    "trusted": false
   },
   "cell_type": "code",
   "source": "x = { \"a\", \"list\", \"of\", \"strings\" }\n\nprint(x) # Sets are unordered",
   "execution_count": 78,
   "outputs": [
    {
     "name": "stdout",
     "output_type": "stream",
     "text": "{'of', 'list', 'a', 'strings'}\n"
    }
   ]
  },
  {
   "metadata": {
    "id": "csBfbr6cP51c",
    "slideshow": {
     "slide_type": "subslide"
    }
   },
   "cell_type": "markdown",
   "source": "**Python offers set theoretic ops:**"
  },
  {
   "metadata": {
    "colab": {
     "base_uri": "https://localhost:8080/"
    },
    "execution": {
     "iopub.execute_input": "2022-09-23T00:20:15.201507Z",
     "iopub.status.busy": "2022-09-23T00:20:15.200829Z",
     "iopub.status.idle": "2022-09-23T00:20:15.203211Z",
     "shell.execute_reply": "2022-09-23T00:20:15.203633Z"
    },
    "executionInfo": {
     "elapsed": 728,
     "status": "ok",
     "timestamp": 1607825435549,
     "user": {
      "displayName": "Benedict Paten",
      "photoUrl": "https://lh3.googleusercontent.com/a-/AOh14Gh2rYrrH6yoNnUp0Oj4p4ouybc6ZcWGyPmKFtIY=s64",
      "userId": "06399644931392855882"
     },
     "user_tz": 480
    },
    "id": "Qkg1hkvQQbKy",
    "outputId": "3a4b8134-1e65-4371-8641-d840cadf97f3",
    "slideshow": {
     "slide_type": "fragment"
    },
    "trusted": false
   },
   "cell_type": "code",
   "source": "x = { 1, 2, 3, 4 }\ny = { 3, 4, 5, 6 }\n\nprint(x.union(y)) # Set union\n",
   "execution_count": 79,
   "outputs": [
    {
     "name": "stdout",
     "output_type": "stream",
     "text": "{1, 2, 3, 4, 5, 6}\n"
    }
   ]
  },
  {
   "metadata": {
    "colab": {
     "base_uri": "https://localhost:8080/",
     "height": 34
    },
    "execution": {
     "iopub.execute_input": "2022-09-23T00:20:15.207681Z",
     "iopub.status.busy": "2022-09-23T00:20:15.207003Z",
     "iopub.status.idle": "2022-09-23T00:20:15.209441Z",
     "shell.execute_reply": "2022-09-23T00:20:15.209849Z"
    },
    "executionInfo": {
     "elapsed": 427,
     "status": "ok",
     "timestamp": 1572999693052,
     "user": {
      "displayName": "Benedict Paten",
      "photoUrl": "https://lh3.googleusercontent.com/a-/AAuE7mBMnWy8dDR7jyTHNy9tPaRx6DCyA3QKrIcuQ7R4=s64",
      "userId": "06399644931392855882"
     },
     "user_tz": 480
    },
    "id": "aNupDOm6RFm9",
    "outputId": "522805b4-3dc5-4343-aced-bdce879919b9",
    "slideshow": {
     "slide_type": "fragment"
    },
    "trusted": false
   },
   "cell_type": "code",
   "source": "print(x.intersection(y)) # Set intersection",
   "execution_count": 80,
   "outputs": [
    {
     "name": "stdout",
     "output_type": "stream",
     "text": "{3, 4}\n"
    }
   ]
  },
  {
   "metadata": {
    "colab": {
     "base_uri": "https://localhost:8080/",
     "height": 34
    },
    "execution": {
     "iopub.execute_input": "2022-09-23T00:20:15.213739Z",
     "iopub.status.busy": "2022-09-23T00:20:15.213076Z",
     "iopub.status.idle": "2022-09-23T00:20:15.215489Z",
     "shell.execute_reply": "2022-09-23T00:20:15.215889Z"
    },
    "executionInfo": {
     "elapsed": 347,
     "status": "ok",
     "timestamp": 1572999697132,
     "user": {
      "displayName": "Benedict Paten",
      "photoUrl": "https://lh3.googleusercontent.com/a-/AAuE7mBMnWy8dDR7jyTHNy9tPaRx6DCyA3QKrIcuQ7R4=s64",
      "userId": "06399644931392855882"
     },
     "user_tz": 480
    },
    "id": "jALlNbiARLlU",
    "outputId": "9c8ca8ac-3953-4a99-e820-fae8858fc62c",
    "slideshow": {
     "slide_type": "fragment"
    },
    "trusted": false
   },
   "cell_type": "code",
   "source": "print(x.difference(y)) # This is x - y",
   "execution_count": 81,
   "outputs": [
    {
     "name": "stdout",
     "output_type": "stream",
     "text": "{1, 2}\n"
    }
   ]
  },
  {
   "metadata": {
    "slideshow": {
     "slide_type": "subslide"
    }
   },
   "cell_type": "markdown",
   "source": "**You can also do set comprehensions**"
  },
  {
   "metadata": {
    "execution": {
     "iopub.execute_input": "2022-09-23T00:20:15.227325Z",
     "iopub.status.busy": "2022-09-23T00:20:15.226709Z",
     "iopub.status.idle": "2022-09-23T00:20:15.231906Z",
     "shell.execute_reply": "2022-09-23T00:20:15.232342Z"
    },
    "trusted": false
   },
   "cell_type": "code",
   "source": "# The general format is like a list comprehension, \n# but instead with the curly brackets\n\n# The basic structure is:\n# { EXPRESSION1 for x in ITERABLE (optionally) if EXPRESSION2 }\n\n# it is equivalent to writing:\n# l = set()\n# for x in ITERABLE:\n#   if EXPRESSION2:\n#       l.add(EXPRESSION1)",
   "execution_count": 34,
   "outputs": []
  },
  {
   "metadata": {
    "execution": {
     "iopub.execute_input": "2022-09-23T00:20:15.220984Z",
     "iopub.status.busy": "2022-09-23T00:20:15.220201Z",
     "iopub.status.idle": "2022-09-23T00:20:15.222975Z",
     "shell.execute_reply": "2022-09-23T00:20:15.223462Z"
    },
    "slideshow": {
     "slide_type": "fragment"
    },
    "trusted": false
   },
   "cell_type": "code",
   "source": "{ a.upper() for a in alice_words if len(a) <= 3} # short Alice words, loudly",
   "execution_count": 3,
   "outputs": [
    {
     "output_type": "execute_result",
     "execution_count": 3,
     "data": {
      "text/plain": "{'A',\n 'AND',\n 'BUT',\n 'BY',\n 'DO:',\n 'GET',\n 'HAD',\n 'HER',\n 'IN',\n 'IS',\n 'IT',\n 'IT,',\n 'NO',\n 'OF',\n 'ON',\n 'OR',\n 'SHE',\n 'THE',\n 'TO',\n 'USE',\n 'WAS'}"
     },
     "metadata": {}
    }
   ]
  },
  {
   "metadata": {
    "slideshow": {
     "slide_type": "subslide"
    }
   },
   "cell_type": "markdown",
   "source": "# Challenge 5"
  },
  {
   "metadata": {
    "execution": {
     "iopub.execute_input": "2022-09-23T00:20:15.236248Z",
     "iopub.status.busy": "2022-09-23T00:20:15.235660Z",
     "iopub.status.idle": "2022-09-23T00:20:15.237680Z",
     "shell.execute_reply": "2022-09-23T00:20:15.238158Z"
    },
    "slideshow": {
     "slide_type": "fragment"
    },
    "trusted": true
   },
   "cell_type": "code",
   "source": "dickens_text = \"\"\"My father’s family name being Pirrip, and my Christian name Philip, \nmy infant tongue could make of both names nothing longer or more explicit than Pip. \nSo, I called myself Pip, and came to be called Pip.I give Pirrip as my father’s family name, \non the authority of his tombstone and my sister,—Mrs. Joe Gargery, who married the blacksmith. \nAs I never saw my father or my mother, and never saw any likeness of either of them \n(for their days were long before the days of photographs), my first fancies regarding what they \nwere like were unreasonably derived from their tombstones. \nThe shape of the letters on my father’s, gave me an odd idea that he was a square, stout, \ndark man, with curly black hair. From the character and turn of the inscription, \n“Also Georgiana Wife of the Above,” I drew a childish conclusion that my mother was freckled and sickly. \nTo five little stone lozenges, each about a foot and a half long, which were arranged in a neat \nrow beside their grave, and were sacred to the memory of five little brothers of mine,—who gave up trying to \nget a living, exceedingly early in that universal struggle,—I am indebted for a belief I religiously \nentertained that they had all been born on their backs with their hands in their trousers-pockets, \nand had never taken them out in this state of existence.\"\"\"\n\n# Q1: Calculate how many unique words are in \n# both dickens_text \n\ndickens_words = dickens_text.split() \ns2 = set(dickens_words)\nprint(len(s2))\n\n# Q2: Calculate how many unique words are in \n# both dickens_text and alice_text.\n# Remember: s is the set of words from Alice_text\n# (you may need to run that jupyter cell above to get s)\n\ns3 = s.intersection(s2)\nprint(len(s3))\n\n# Q3: Calculate how many unique words are in \n# either dickens_text or alice_text.\nprint( len(s.union(s2)))",
   "execution_count": 5,
   "outputs": [
    {
     "output_type": "stream",
     "text": "156\n13\n187\n",
     "name": "stdout"
    }
   ]
  },
  {
   "metadata": {
    "trusted": true
   },
   "cell_type": "code",
   "source": "print( set() < s ) # subset\nprint( \"Alice\" in s ) # works\nprint( s[\"Alice\"] ) # does not work",
   "execution_count": 8,
   "outputs": [
    {
     "output_type": "stream",
     "text": "True\nTrue\n",
     "name": "stdout"
    },
    {
     "output_type": "error",
     "ename": "TypeError",
     "evalue": "'set' object is not subscriptable",
     "traceback": [
      "\u001b[0;31m---------------------------------------------------------------------------\u001b[0m",
      "\u001b[0;31mTypeError\u001b[0m                                 Traceback (most recent call last)",
      "\u001b[0;32m<ipython-input-8-7eb72c109860>\u001b[0m in \u001b[0;36m<module>\u001b[0;34m\u001b[0m\n\u001b[1;32m      1\u001b[0m \u001b[0mprint\u001b[0m\u001b[0;34m(\u001b[0m \u001b[0mset\u001b[0m\u001b[0;34m(\u001b[0m\u001b[0;34m)\u001b[0m \u001b[0;34m<\u001b[0m \u001b[0ms\u001b[0m \u001b[0;34m)\u001b[0m \u001b[0;31m# subset\u001b[0m\u001b[0;34m\u001b[0m\u001b[0;34m\u001b[0m\u001b[0m\n\u001b[1;32m      2\u001b[0m \u001b[0mprint\u001b[0m\u001b[0;34m(\u001b[0m \u001b[0;34m\"Alice\"\u001b[0m \u001b[0;32min\u001b[0m \u001b[0ms\u001b[0m \u001b[0;34m)\u001b[0m \u001b[0;31m# works\u001b[0m\u001b[0;34m\u001b[0m\u001b[0;34m\u001b[0m\u001b[0m\n\u001b[0;32m----> 3\u001b[0;31m \u001b[0mprint\u001b[0m\u001b[0;34m(\u001b[0m \u001b[0ms\u001b[0m\u001b[0;34m[\u001b[0m\u001b[0;34m\"Alice\"\u001b[0m\u001b[0;34m]\u001b[0m \u001b[0;34m)\u001b[0m \u001b[0;31m# does not work\u001b[0m\u001b[0;34m\u001b[0m\u001b[0;34m\u001b[0m\u001b[0m\n\u001b[0m\u001b[1;32m      4\u001b[0m \u001b[0;31m# s+s\u001b[0m\u001b[0;34m\u001b[0m\u001b[0;34m\u001b[0m\u001b[0m\n",
      "\u001b[0;31mTypeError\u001b[0m: 'set' object is not subscriptable"
     ]
    }
   ]
  },
  {
   "metadata": {
    "id": "KZP9y5sgyVm8",
    "slideshow": {
     "slide_type": "slide"
    }
   },
   "cell_type": "markdown",
   "source": "# Homework\n\n* ZyBook Reading 9\n* Read Chapter 9 (tuples): http://openbookproject.net/thinkcs/python/english3e/tuples.html\n* Read Chapter 11 (lists): http://openbookproject.net/thinkcs/python/english3e/lists.html\n\n"
  }
 ],
 "metadata": {
  "celltoolbar": "Slideshow",
  "colab": {
   "collapsed_sections": [],
   "name": "L09 Tuples, Lists and Dictionaries.ipynb",
   "provenance": []
  },
  "kernelspec": {
   "name": "python3",
   "display_name": "Python 3",
   "language": "python"
  },
  "language_info": {
   "name": "python",
   "version": "3.10.4",
   "mimetype": "text/x-python",
   "codemirror_mode": {
    "name": "ipython",
    "version": 3
   },
   "pygments_lexer": "ipython3",
   "nbconvert_exporter": "python",
   "file_extension": ".py"
  }
 },
 "nbformat": 4,
 "nbformat_minor": 1
}