{
 "cells": [
  {
   "metadata": {
    "id": "1a-o5LXYOuXB",
    "slideshow": {
     "slide_type": "slide"
    }
   },
   "cell_type": "markdown",
   "source": "# Lecture 5 - Loops "
  },
  {
   "metadata": {
    "slideshow": {
     "slide_type": "slide"
    }
   },
   "cell_type": "markdown",
   "source": "# Lecture 5 - Loops \n# Warm-Up Challenge"
  },
  {
   "metadata": {
    "slideshow": {
     "slide_type": "fragment"
    },
    "trusted": false
   },
   "cell_type": "code",
   "source": "# Print each element of this list on a separate line\ngreeting = ['Happy', 'Thursday', 'to', 'all', 'of', 'CSE20']\n",
   "execution_count": 1,
   "outputs": []
  },
  {
   "metadata": {
    "slideshow": {
     "slide_type": "fragment"
    }
   },
   "cell_type": "markdown",
   "source": "# Warmup challenge 2"
  },
  {
   "metadata": {
    "slideshow": {
     "slide_type": "fragment"
    },
    "trusted": false
   },
   "cell_type": "code",
   "source": "# Combine all elements of this list into a string, and print it out\ngreeting = ['Happy', 'Thursday', 'to', 'all']\n\n",
   "execution_count": 2,
   "outputs": []
  },
  {
   "metadata": {
    "slideshow": {
     "slide_type": "fragment"
    }
   },
   "cell_type": "markdown",
   "source": "# Warmup challenge 3"
  },
  {
   "metadata": {
    "slideshow": {
     "slide_type": "fragment"
    },
    "trusted": false
   },
   "cell_type": "code",
   "source": "x = float(input(\"Please enter an float: \"))\ny = int(input(\"Please enter a power: \"))\n\n# Compute x**y without using the ** operator and print it out\n# Hint: use a loop to do repeated multiplication, starting from 1\n",
   "execution_count": null,
   "outputs": []
  },
  {
   "metadata": {
    "slideshow": {
     "slide_type": "slide"
    }
   },
   "cell_type": "markdown",
   "source": "# For loops"
  },
  {
   "metadata": {
    "slideshow": {
     "slide_type": "slide"
    }
   },
   "cell_type": "markdown",
   "source": "# For loop syntax"
  },
  {
   "metadata": {
    "execution": {
     "iopub.execute_input": "2022-09-23T00:20:07.079210Z",
     "iopub.status.busy": "2022-09-23T00:20:07.078288Z",
     "iopub.status.idle": "2022-09-23T00:20:07.139828Z",
     "shell.execute_reply": "2022-09-23T00:20:07.140254Z"
    },
    "id": "kAgiq8YNg_yr",
    "slideshow": {
     "slide_type": "fragment"
    }
   },
   "cell_type": "markdown",
   "source": "\nThe general syntax is:\n```\nfor variable in iterable:\n  statement_block\n```\nWhat counts as an 'iterable' thing?\n * Lists, eg ['Happy', 'Friday', 'to', 'all']\n * **range** is a powerful function for generating iterable sequences of integers\n   * range(0,10) is iterable, behaves like [0,1,2,3,4,5,6,7,8,9]\n     * includes 0\n     * excludes 10\n   * range(10) abbreviates range(0,10)"
  },
  {
   "metadata": {
    "slideshow": {
     "slide_type": "subslide"
    }
   },
   "cell_type": "markdown",
   "source": "# Challenge 1"
  },
  {
   "metadata": {
    "execution": {
     "iopub.execute_input": "2022-09-23T00:20:07.143780Z",
     "iopub.status.busy": "2022-09-23T00:20:07.143199Z",
     "iopub.status.idle": "2022-09-23T00:20:07.145210Z",
     "shell.execute_reply": "2022-09-23T00:20:07.145574Z"
    },
    "slideshow": {
     "slide_type": "fragment"
    },
    "trusted": false
   },
   "cell_type": "code",
   "source": "# Print the first 10 integers \n",
   "execution_count": null,
   "outputs": []
  },
  {
   "metadata": {
    "execution": {
     "iopub.execute_input": "2022-09-23T00:20:07.143780Z",
     "iopub.status.busy": "2022-09-23T00:20:07.143199Z",
     "iopub.status.idle": "2022-09-23T00:20:07.145210Z",
     "shell.execute_reply": "2022-09-23T00:20:07.145574Z"
    },
    "slideshow": {
     "slide_type": "fragment"
    },
    "trusted": false
   },
   "cell_type": "code",
   "source": "# Sum the first 10 integers \n",
   "execution_count": null,
   "outputs": []
  },
  {
   "metadata": {
    "id": "Mqd1YnDchZ7a",
    "slideshow": {
     "slide_type": "skip"
    }
   },
   "cell_type": "markdown",
   "source": "# Iterating on lists"
  },
  {
   "metadata": {
    "colab": {
     "base_uri": "https://localhost:8080/"
    },
    "execution": {
     "iopub.execute_input": "2022-09-23T00:20:07.156014Z",
     "iopub.status.busy": "2022-09-23T00:20:07.155435Z",
     "iopub.status.idle": "2022-09-23T00:20:07.157845Z",
     "shell.execute_reply": "2022-09-23T00:20:07.158232Z"
    },
    "executionInfo": {
     "elapsed": 310,
     "status": "ok",
     "timestamp": 1607551903887,
     "user": {
      "displayName": "Benedict Paten",
      "photoUrl": "https://lh3.googleusercontent.com/a-/AOh14Gh2rYrrH6yoNnUp0Oj4p4ouybc6ZcWGyPmKFtIY=s64",
      "userId": "06399644931392855882"
     },
     "user_tz": 480
    },
    "id": "vFiO_0oijjAU",
    "outputId": "aec03087-1876-4bbc-82e2-0ab1f464d212",
    "slideshow": {
     "slide_type": "skip"
    },
    "trusted": true
   },
   "cell_type": "code",
   "source": "# If you give range two arguments \n# the first is the starting number of the iteration\n# the second is the ending point of the iteration (exclusive), \n# counting up 1 each time:\n\nfor i in range(5, 10): # From 5 (inclusive) to 10 (exclusive)\n  print(\"i is\",i)",
   "execution_count": 1,
   "outputs": [
    {
     "output_type": "stream",
     "text": "i is 5\ni is 6\ni is 7\ni is 8\ni is 9\n",
     "name": "stdout"
    }
   ]
  },
  {
   "metadata": {
    "colab": {
     "base_uri": "https://localhost:8080/",
     "height": 105
    },
    "execution": {
     "iopub.execute_input": "2022-09-23T00:20:07.168838Z",
     "iopub.status.busy": "2022-09-23T00:20:07.168229Z",
     "iopub.status.idle": "2022-09-23T00:20:07.170550Z",
     "shell.execute_reply": "2022-09-23T00:20:07.171016Z"
    },
    "executionInfo": {
     "elapsed": 383,
     "status": "ok",
     "timestamp": 1570574354511,
     "user": {
      "displayName": "Benedict Paten",
      "photoUrl": "https://lh3.googleusercontent.com/a-/AAuE7mBMnWy8dDR7jyTHNy9tPaRx6DCyA3QKrIcuQ7R4=s64",
      "userId": "06399644931392855882"
     },
     "user_tz": 420
    },
    "id": "FbVyQUwATL2-",
    "outputId": "7c6841e7-e6f6-4f18-ba7e-f6da5d98cbf0",
    "slideshow": {
     "slide_type": "subslide"
    },
    "trusted": true
   },
   "cell_type": "code",
   "source": "# If you give range a third argument it determines the \"step\" of the iteration\n# Jumping two steps at a time\nfor i in range(0, 10, 2): \n  print(\"i is\",i)",
   "execution_count": 3,
   "outputs": [
    {
     "output_type": "stream",
     "text": "i is 0\ni is 2\ni is 4\ni is 6\ni is 8\n",
     "name": "stdout"
    }
   ]
  },
  {
   "metadata": {
    "colab": {
     "base_uri": "https://localhost:8080/",
     "height": 193
    },
    "execution": {
     "iopub.execute_input": "2022-09-23T00:20:07.162444Z",
     "iopub.status.busy": "2022-09-23T00:20:07.161771Z",
     "iopub.status.idle": "2022-09-23T00:20:07.164160Z",
     "shell.execute_reply": "2022-09-23T00:20:07.164551Z"
    },
    "executionInfo": {
     "elapsed": 327,
     "status": "ok",
     "timestamp": 1570574154922,
     "user": {
      "displayName": "Benedict Paten",
      "photoUrl": "https://lh3.googleusercontent.com/a-/AAuE7mBMnWy8dDR7jyTHNy9tPaRx6DCyA3QKrIcuQ7R4=s64",
      "userId": "06399644931392855882"
     },
     "user_tz": 420
    },
    "id": "ngfEQSFtSszF",
    "outputId": "fc85ba0a-be25-4ec0-d00c-f6c2ca5e9d01",
    "slideshow": {
     "slide_type": "subslide"
    },
    "trusted": true
   },
   "cell_type": "code",
   "source": "for i in range(9, -1, -1): # Backwards from 9 to 0, stepping -1 each time:\n  print(\"i is\",i)",
   "execution_count": 2,
   "outputs": [
    {
     "output_type": "stream",
     "text": "i is 9\ni is 8\ni is 7\ni is 6\ni is 5\ni is 4\ni is 3\ni is 2\ni is 1\ni is 0\n",
     "name": "stdout"
    }
   ]
  },
  {
   "metadata": {
    "slideshow": {
     "slide_type": "subslide"
    }
   },
   "cell_type": "markdown",
   "source": "# Challenge 2"
  },
  {
   "metadata": {
    "execution": {
     "iopub.execute_input": "2022-09-23T00:20:07.174477Z",
     "iopub.status.busy": "2022-09-23T00:20:07.173849Z",
     "iopub.status.idle": "2022-09-23T00:20:07.176079Z",
     "shell.execute_reply": "2022-09-23T00:20:07.176491Z"
    },
    "slideshow": {
     "slide_type": "fragment"
    },
    "trusted": false
   },
   "cell_type": "code",
   "source": "# Print every third integer starting at 20 and ending at and including 38\n\n",
   "execution_count": null,
   "outputs": []
  },
  {
   "metadata": {
    "slideshow": {
     "slide_type": "slide"
    }
   },
   "cell_type": "markdown",
   "source": "# Big Challenge: \n# Print a 10 x 10 Multiplication Table using Nested Loops!"
  },
  {
   "metadata": {
    "slideshow": {
     "slide_type": "fragment"
    },
    "trusted": false
   },
   "cell_type": "code",
   "source": "",
   "execution_count": null,
   "outputs": []
  },
  {
   "metadata": {
    "id": "6coWzD7V9SRk",
    "slideshow": {
     "slide_type": "slide"
    }
   },
   "cell_type": "markdown",
   "source": "# Let's practice a bit\n\nThe following code examples are designed to make you think a little bit and practice what we've learned.\n\nIf they doesn't make sense to you try reviewing the material we've covered so far to figure out what you're struggling with.\n\nThey are all directly adapted from Chapter 7 of the open textbook, so you can use textbook to help you understand them."
  },
  {
   "metadata": {
    "id": "1fvWuYf1ISYp",
    "slideshow": {
     "slide_type": "slide"
    }
   },
   "cell_type": "markdown",
   "source": " # Counting digits\n\n How many digits, base 10, are there in an integer?"
  },
  {
   "metadata": {
    "colab": {
     "base_uri": "https://localhost:8080/"
    },
    "execution": {
     "iopub.execute_input": "2022-09-23T00:20:07.274390Z",
     "iopub.status.busy": "2022-09-23T00:20:07.273735Z",
     "iopub.status.idle": "2022-09-23T00:20:07.280029Z",
     "shell.execute_reply": "2022-09-23T00:20:07.280824Z"
    },
    "executionInfo": {
     "elapsed": 9234,
     "status": "ok",
     "timestamp": 1607563814545,
     "user": {
      "displayName": "Benedict Paten",
      "photoUrl": "https://lh3.googleusercontent.com/a-/AOh14Gh2rYrrH6yoNnUp0Oj4p4ouybc6ZcWGyPmKFtIY=s64",
      "userId": "06399644931392855882"
     },
     "user_tz": 480
    },
    "id": "lWJ1ieJnH3Mt",
    "outputId": "2b545cfa-e858-443d-f34d-cb43ad70461a",
    "slideshow": {
     "slide_type": "fragment"
    },
    "trusted": true
   },
   "cell_type": "code",
   "source": "n = int(input(\"Enter a whole number: \"))\n  \n# Calculate the number of digits in an integer (base 10).\n# e.g. For n = 6706 returns 4\ncount = 0\nwhile n != 0:\n  count = count + 1\n  n = n // 10 # This is the integer division operator, it loses the remainder\n  \nprint(f\"That number has {count} digits\")\n",
   "execution_count": 1,
   "outputs": [
    {
     "output_type": "stream",
     "name": "stdout",
     "text": "Enter a whole number: 6706\nThat number has 4 digits\n"
    }
   ]
  },
  {
   "metadata": {
    "id": "EUI99pKQRFQD",
    "slideshow": {
     "slide_type": "fragment"
    }
   },
   "cell_type": "markdown",
   "source": "Challenge: Can you see how to adapt the above to count how many digits are in the binary representation of the number? (https://en.wikipedia.org/wiki/Binary_number)"
  },
  {
   "metadata": {
    "id": "cagq9CB_AZAP",
    "slideshow": {
     "slide_type": "slide"
    }
   },
   "cell_type": "markdown",
   "source": "# A sqrt function\n\nNewton's method to find square roots:\n * If x is a guess of the square root of n then: \n * (x + n/x)/2 is a better approximation.\n \n(If curious, see: https://math.mit.edu/~stevenj/18.335/newton-sqrt.pdf)"
  },
  {
   "metadata": {
    "execution": {
     "iopub.execute_input": "2022-09-23T00:20:07.296749Z",
     "iopub.status.busy": "2022-09-23T00:20:07.296151Z",
     "iopub.status.idle": "2022-09-23T00:20:07.302396Z",
     "shell.execute_reply": "2022-09-23T00:20:07.302865Z"
    },
    "slideshow": {
     "slide_type": "subslide"
    },
    "trusted": true
   },
   "cell_type": "code",
   "source": "n = float(input(\"Enter a number: \"))\nx = n/2.0 # Start with guess \nfor i in range(10):\n    print(f\"x is {x}, n/x is {n/x}, x**2 is {x*x}\")\n    x = (x + n/x)/2\n",
   "execution_count": null,
   "outputs": []
  },
  {
   "metadata": {
    "slideshow": {
     "slide_type": "subslide"
    }
   },
   "cell_type": "markdown",
   "source": "# Challenge 5"
  },
  {
   "metadata": {
    "execution": {
     "iopub.execute_input": "2022-09-23T00:20:07.307318Z",
     "iopub.status.busy": "2022-09-23T00:20:07.306593Z",
     "iopub.status.idle": "2022-09-23T00:20:07.313296Z",
     "shell.execute_reply": "2022-09-23T00:20:07.313758Z"
    },
    "slideshow": {
     "slide_type": "fragment"
    },
    "trusted": false
   },
   "cell_type": "code",
   "source": "# Challenge: Adapt the previous example \n# to iterate until the absolute difference between \n# successive values of x is less than a 0.00001\n# Hint: try using a while loop and break statement and the abs() function\n\n",
   "execution_count": null,
   "outputs": []
  },
  {
   "metadata": {
    "id": "RYt-oPWENG-F",
    "slideshow": {
     "slide_type": "slide"
    }
   },
   "cell_type": "markdown",
   "source": "# Break and Continue"
  },
  {
   "metadata": {
    "id": "RYt-oPWENG-F",
    "slideshow": {
     "slide_type": "slide"
    }
   },
   "cell_type": "markdown",
   "source": "# Break\n\nA break statement inside a loop immediately terminates the loop. Execution continues right after the loop."
  },
  {
   "metadata": {
    "colab": {
     "base_uri": "https://localhost:8080/"
    },
    "execution": {
     "iopub.execute_input": "2022-09-23T00:20:07.193039Z",
     "iopub.status.busy": "2022-09-23T00:20:07.192214Z",
     "iopub.status.idle": "2022-09-23T00:20:07.194892Z",
     "shell.execute_reply": "2022-09-23T00:20:07.195313Z"
    },
    "executionInfo": {
     "elapsed": 566,
     "status": "ok",
     "timestamp": 1615507806833,
     "user": {
      "displayName": "Benedict Paten",
      "photoUrl": "https://lh3.googleusercontent.com/a-/AOh14Gh2rYrrH6yoNnUp0Oj4p4ouybc6ZcWGyPmKFtIY=s64",
      "userId": "06399644931392855882"
     },
     "user_tz": 480
    },
    "id": "fUmk3NK91BUp",
    "outputId": "d5d6561e-25ae-44d6-d075-71c074677d59",
    "slideshow": {
     "slide_type": "subslide"
    },
    "trusted": false
   },
   "cell_type": "code",
   "source": "# Break is used to jump out of a loop\n\ni = 0\n\nwhile True: \n  print(i)\n  i = i + 1 # Increase i, or the loop will never terminate \n  if i > 10:\n    break # This causes execution of the loop to stop \n    \nprint(\"We are at the end\")",
   "execution_count": null,
   "outputs": []
  },
  {
   "metadata": {
    "colab": {
     "base_uri": "https://localhost:8080/",
     "height": 70
    },
    "execution": {
     "iopub.execute_input": "2022-09-23T00:20:07.200582Z",
     "iopub.status.busy": "2022-09-23T00:20:07.199919Z",
     "iopub.status.idle": "2022-09-23T00:20:07.202333Z",
     "shell.execute_reply": "2022-09-23T00:20:07.202740Z"
    },
    "executionInfo": {
     "elapsed": 325,
     "status": "ok",
     "timestamp": 1570575678814,
     "user": {
      "displayName": "Benedict Paten",
      "photoUrl": "https://lh3.googleusercontent.com/a-/AAuE7mBMnWy8dDR7jyTHNy9tPaRx6DCyA3QKrIcuQ7R4=s64",
      "userId": "06399644931392855882"
     },
     "user_tz": 420
    },
    "id": "QpQlSwQlNTXf",
    "outputId": "95c5bc1a-c2e1-4c4a-9f3e-810a0ae22412",
    "slideshow": {
     "slide_type": "subslide"
    },
    "trusted": false
   },
   "cell_type": "code",
   "source": "# Loop through list to see if it contains a value less than 5\nlist = [ 10, 11, 1, 12, 7, 8, 2 ]\n\nfound = False\nfor i in list:\n  print(\"Looking at\", i)\n  if i < 5:\n    found = True\n    break # This causes loop to terminate\n    \nprint(\"found is\", found)",
   "execution_count": null,
   "outputs": []
  },
  {
   "metadata": {
    "id": "7lzvyskJm9Vc",
    "slideshow": {
     "slide_type": "fragment"
    }
   },
   "cell_type": "markdown",
   "source": "Without the break statement the loop would continue to evaluate all the elements on the sequence, but with it we only need to look at elements until the condition is determined to be true"
  },
  {
   "metadata": {
    "slideshow": {
     "slide_type": "subslide"
    }
   },
   "cell_type": "markdown",
   "source": "# Challenge 3"
  },
  {
   "metadata": {
    "execution": {
     "iopub.execute_input": "2022-09-23T00:20:07.207814Z",
     "iopub.status.busy": "2022-09-23T00:20:07.206934Z",
     "iopub.status.idle": "2022-09-23T00:20:07.214950Z",
     "shell.execute_reply": "2022-09-23T00:20:07.215447Z"
    },
    "slideshow": {
     "slide_type": "fragment"
    },
    "trusted": false
   },
   "cell_type": "code",
   "source": "# Add a conditional and a break statement to exit\n# the loop when the user enters a number greater than 0\n\nwhile True:\n    x = float(input(\"Enter a number greater than 0:\"))",
   "execution_count": null,
   "outputs": []
  },
  {
   "metadata": {
    "slideshow": {
     "slide_type": "slide"
    }
   },
   "cell_type": "markdown",
   "source": "# Break With Nested Loops"
  },
  {
   "metadata": {
    "slideshow": {
     "slide_type": "fragment"
    }
   },
   "cell_type": "markdown",
   "source": "Question: How does break behave with nested loops? \n\nIt only breaks out of the innermost loop"
  },
  {
   "metadata": {
    "execution": {
     "iopub.execute_input": "2022-09-23T00:20:07.244738Z",
     "iopub.status.busy": "2022-09-23T00:20:07.243966Z",
     "iopub.status.idle": "2022-09-23T00:20:07.247409Z",
     "shell.execute_reply": "2022-09-23T00:20:07.247827Z"
    },
    "slideshow": {
     "slide_type": "fragment"
    },
    "trusted": false
   },
   "cell_type": "code",
   "source": "for i in range(1, 4):\n    for j in range(1, 4):\n        if i + j > 3:\n            print(f\"At break i={i} j={j}\")\n            break\n        print(f\"Bottom of inner loop, i={i} j={j}\")\n    print(\"At bottom of outer loop\")  \n    ",
   "execution_count": null,
   "outputs": []
  },
  {
   "metadata": {
    "id": "KzQsuZmH2G_m",
    "slideshow": {
     "slide_type": "slide"
    }
   },
   "cell_type": "markdown",
   "source": "# Continue\n\nContinue let's us skip the remaining portion of a loop, but not exit the loop itself.\n\n<img src=\"https://raw.githubusercontent.com/cormacflanagan/intro_python/main/lecture_notebooks/figures/graffles/continue.jpg\" width=400 height=400 />\n"
  },
  {
   "metadata": {
    "colab": {
     "base_uri": "https://localhost:8080/"
    },
    "execution": {
     "iopub.execute_input": "2022-09-23T00:20:07.260857Z",
     "iopub.status.busy": "2022-09-23T00:20:07.260263Z",
     "iopub.status.idle": "2022-09-23T00:20:07.262593Z",
     "shell.execute_reply": "2022-09-23T00:20:07.263030Z"
    },
    "executionInfo": {
     "elapsed": 364,
     "status": "ok",
     "timestamp": 1607563622084,
     "user": {
      "displayName": "Benedict Paten",
      "photoUrl": "https://lh3.googleusercontent.com/a-/AOh14Gh2rYrrH6yoNnUp0Oj4p4ouybc6ZcWGyPmKFtIY=s64",
      "userId": "06399644931392855882"
     },
     "user_tz": 480
    },
    "id": "wbpGJEVjPeDO",
    "outputId": "1587dc2e-32f3-4b93-f352-777133b034ee",
    "slideshow": {
     "slide_type": "subslide"
    },
    "trusted": false
   },
   "cell_type": "code",
   "source": "# An example of using continue: sum integers > 5 in a sequence\n\nl = [ 10, 1, 12, 7, 8, 2 ] # The list\n\nsum = 0 \n\nfor i in l:\n  if i < 5:\n    print(\"skipping \" + str(i))\n    continue # go back to the top of the loop \n  \n  print(\"adding\", i)\n  sum += i \n  \nprint(f\"Sum is {sum}\")",
   "execution_count": null,
   "outputs": []
  },
  {
   "metadata": {
    "id": "oqa3DMzHQNjK",
    "slideshow": {
     "slide_type": "fragment"
    }
   },
   "cell_type": "markdown",
   "source": "Continue let's you be more selective about how much of a loop you execute. You can always substitute it for if/else constructs, but often it is more elegant (and less code) to use continue."
  },
  {
   "metadata": {
    "slideshow": {
     "slide_type": "subslide"
    }
   },
   "cell_type": "markdown",
   "source": "# Challenge 4"
  },
  {
   "metadata": {
    "execution": {
     "iopub.execute_input": "2022-09-23T00:20:07.267858Z",
     "iopub.status.busy": "2022-09-23T00:20:07.267210Z",
     "iopub.status.idle": "2022-09-23T00:20:07.269521Z",
     "shell.execute_reply": "2022-09-23T00:20:07.269960Z"
    },
    "slideshow": {
     "slide_type": "fragment"
    },
    "trusted": false
   },
   "cell_type": "code",
   "source": "# Add a conditional and continue statement to skip printing any word \n# beginning with the letter 'I' or 'l' \n\nl = [ \"I'm\", \"learning\", \"Python\", \"because\", \"...\" ]\n\nfor i in l:\n    print(i)",
   "execution_count": null,
   "outputs": []
  },
  {
   "metadata": {
    "id": "ur2PihONMXWV",
    "slideshow": {
     "slide_type": "slide"
    }
   },
   "cell_type": "markdown",
   "source": "# Homework\n\n* Zybooks (due Monday)\n  * Reading 5 (and 4)\n  * Assignment 2\n* Open book Chapter 7: http://openbookproject.net/thinkcs/python/english3e/iteration.html\n\n"
  }
 ],
 "metadata": {
  "celltoolbar": "Slideshow",
  "colab": {
   "collapsed_sections": [
    "qrG-dqucPTBn",
    "ltqxd2dKfrrP",
    "RYt-oPWENG-F"
   ],
   "name": "L05 Loops.ipynb",
   "provenance": []
  },
  "kernelspec": {
   "name": "python3",
   "display_name": "Python 3",
   "language": "python"
  },
  "language_info": {
   "name": "python",
   "version": "3.10.4",
   "mimetype": "text/x-python",
   "codemirror_mode": {
    "name": "ipython",
    "version": 3
   },
   "pygments_lexer": "ipython3",
   "nbconvert_exporter": "python",
   "file_extension": ".py"
  }
 },
 "nbformat": 4,
 "nbformat_minor": 1
}