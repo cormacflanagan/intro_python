{
 "cells": [
  {
   "metadata": {
    "id": "5UyFJYXOx-WH",
    "slideshow": {
     "slide_type": "slide"
    }
   },
   "cell_type": "markdown",
   "source": "# Lecture 14 - Inheritance "
  },
  {
   "metadata": {
    "id": "AxlJtEOK6Pbx",
    "slideshow": {
     "slide_type": "slide"
    }
   },
   "cell_type": "markdown",
   "source": "# Warm Up Challenge"
  },
  {
   "metadata": {
    "id": "RK_inLJJHAm2",
    "slideshow": {
     "slide_type": "fragment"
    },
    "trusted": true
   },
   "cell_type": "code",
   "source": "# Write a class to represent pets\n# where the constructor takes a pet name and kind (eg \"dog\" vs \"cat\")\n# with noise() and __str__ methods\n# so the following test code works\n\nclass Pet:\n    def __init__(self,name,kind):\n        self.name = name\n        self.kind = kind\n    def __str__(self): return self.name\n    def noise(self):\n        if   self.kind == \"dog\": return \"woof!\"\n        elif self.kind == \"cat\": return \"meow\"\n        elif self.kind == \"pug\": return \"oink\"\n        elif self.kind == \"whale\": return \"blows!\"\n        else: return \"??\"\n\npet = Pet(\"Ranger\",\"dog\")\nprint(f\"{pet} says {pet.noise()}\") # \"Ranger says woof!\"\"\np2 = Pet(\"Julie\",\"cat\")\nprint(f\"{p2} says {p2.noise()}\") \np2 = Pet(\"Lousie\",\"pug\")\nprint(f\"{p2} says {p2.noise()}\") \np2 = Pet(\"Monstro\",\"whale\")\nprint(f\"{p2} says {p2.noise()}\") \n\nclass Cat:\n    def __init__(self,name,kind):\n        self.name = name\n        self.kind = kind\n    def __str__(self): \n        return self.name\n    def noise(self):\n        return \"meow\"\n        \n",
   "execution_count": 12,
   "outputs": [
    {
     "output_type": "stream",
     "text": "Ranger says woof!\nJulie says meow\nLousie says oink\nMonstro says blows!\n",
     "name": "stdout"
    }
   ]
  },
  {
   "metadata": {
    "id": "AxlJtEOK6Pbx",
    "slideshow": {
     "slide_type": "slide"
    }
   },
   "cell_type": "markdown",
   "source": "# Suppose we wanted lots of kinds of Pets"
  },
  {
   "metadata": {
    "id": "LNbqtVrjHPwf",
    "slideshow": {
     "slide_type": "subslide"
    }
   },
   "cell_type": "markdown",
   "source": "Suppose we wanted to make specific objects to represent pet cats, dragons, etc\n\n* **Option 1**\n  * put all the cat/dragon functionality into the Pet class\n  * but the Pet class would get big as we add more pets\n  \n* **Option 2**\n  * make copy of the Pet class for cats and for dragons etc\n  * but we would copy a lot of code, which is bad\n    * large ugly code base\n    * when bugs crop up we have to fix them twice\n\n* **Option 3**\n  * **Inheritance**"
  },
  {
   "metadata": {
    "id": "AxlJtEOK6Pbx",
    "slideshow": {
     "slide_type": "slide"
    }
   },
   "cell_type": "markdown",
   "source": "# Inheritance"
  },
  {
   "metadata": {
    "id": "RK_inLJJHAm2",
    "slideshow": {
     "slide_type": "fragment"
    },
    "trusted": true
   },
   "cell_type": "code",
   "source": "class Pet:\n    def __init__(self, pet_name, age):\n        self.pet_name = pet_name\n        self.age      = age\n        \n    def __str__(self):\n        return f\"Pet {self.pet_name} age {self.age}\"\n    \n    def noise(self):\n        \"\"\" The noise the pet makes \"\"\"\n        return \"??\" \n    \np1 = Pet(\"Binky\", 40)\nprint(p1, \"goes\", p1.noise())",
   "execution_count": 1,
   "outputs": [
    {
     "output_type": "stream",
     "text": "Pet Binky age 40 goes ??\n",
     "name": "stdout"
    }
   ]
  },
  {
   "metadata": {
    "colab": {
     "base_uri": "https://localhost:8080/"
    },
    "executionInfo": {
     "elapsed": 347,
     "status": "ok",
     "timestamp": 1607998605239,
     "user": {
      "displayName": "Benedict Paten",
      "photoUrl": "https://lh3.googleusercontent.com/a-/AOh14Gh2rYrrH6yoNnUp0Oj4p4ouybc6ZcWGyPmKFtIY=s64",
      "userId": "06399644931392855882"
     },
     "user_tz": 480
    },
    "id": "phaKZacGHW3v",
    "outputId": "d8e78908-636d-463d-c2ec-db17a3ecf1b7",
    "slideshow": {
     "slide_type": "fragment"
    },
    "trusted": true
   },
   "cell_type": "code",
   "source": "class Cat(Pet): \n    # Here, Cat(Pet) means that Cat is \"inherited\" from Pet\n    # ie Cat has all the methods of Pet (eg __str__) \n    # We can redefine/override methods to give Cats new behavior\n    def noise(self):  return \"meow\"\n  \np2 = Cat(\"Tibbles\", 5)\nprint(p2, \"goes\", p2.noise())",
   "execution_count": 2,
   "outputs": [
    {
     "output_type": "stream",
     "text": "Pet Tibbles age 5 goes meow\n",
     "name": "stdout"
    }
   ]
  },
  {
   "metadata": {
    "colab": {
     "base_uri": "https://localhost:8080/"
    },
    "executionInfo": {
     "elapsed": 347,
     "status": "ok",
     "timestamp": 1607998605239,
     "user": {
      "displayName": "Benedict Paten",
      "photoUrl": "https://lh3.googleusercontent.com/a-/AOh14Gh2rYrrH6yoNnUp0Oj4p4ouybc6ZcWGyPmKFtIY=s64",
      "userId": "06399644931392855882"
     },
     "user_tz": 480
    },
    "id": "phaKZacGHW3v",
    "outputId": "d8e78908-636d-463d-c2ec-db17a3ecf1b7",
    "slideshow": {
     "slide_type": "fragment"
    },
    "trusted": true
   },
   "cell_type": "code",
   "source": "class Dragon(Pet):\n    def noise(self):  return \"rumble... growl...\"\n    def __str__(self): return \"Never say the name of a Dragon!\"\n\np3 = Dragon(\"Drogon\", 2)\nprint(p3.__str__(), \"goes\", p3.noise())\nprint(str(p3), \"goes\", p3.noise())\nprint(p3, \"goes\", p3.noise())\n",
   "execution_count": 9,
   "outputs": [
    {
     "output_type": "stream",
     "text": "Never say the name of a Dragon! goes rumble... growl...\nNever say the name of a Dragon! goes rumble... growl...\nNever say the name of a Dragon! goes rumble... growl...\n",
     "name": "stdout"
    }
   ]
  },
  {
   "metadata": {
    "id": "vQfTfNv0KIGo",
    "slideshow": {
     "slide_type": "subslide"
    }
   },
   "cell_type": "markdown",
   "source": "So what is going on?\n\n* When you inherit from a class, you create a **child class** of the **parent class**.\n\nA child class (eg Cat) has all the functionality of the parent (eg Pet), but you are free to add or redefine methods and variables.\n\nWhen you invoke a method, Python figures out the right version of the method to execute\n\n"
  },
  {
   "metadata": {
    "slideshow": {
     "slide_type": "subslide"
    }
   },
   "cell_type": "markdown",
   "source": "# Challenge 1"
  },
  {
   "metadata": {
    "slideshow": {
     "slide_type": "fragment"
    },
    "trusted": true
   },
   "cell_type": "code",
   "source": "# Create a Hamster class that inherits from Pet and implements the noise method. \n# Feel free to make up whatever noise you think a Hamster makes.\n\nclass Hamster(Pet):\n    def noise(self): return \"squeaky chirp!\"\n\nh = Hamster(\"hammy\",0)    \nprint(f\"{h} says {h.noise()}\")",
   "execution_count": 4,
   "outputs": [
    {
     "output_type": "stream",
     "text": "Pet hammy age 0 says squeaky chirp!\n",
     "name": "stdout"
    }
   ]
  },
  {
   "metadata": {
    "id": "iTzg1-y7ORjh",
    "slideshow": {
     "slide_type": "slide"
    }
   },
   "cell_type": "markdown",
   "source": "# Overriding \\__init__()\n\n* When defining a child class you often want to override \\__init__ to add new variables\n* You can call the \\__init__ method of the parent class via super().\\__init__(...)"
  },
  {
   "metadata": {
    "colab": {
     "base_uri": "https://localhost:8080/"
    },
    "executionInfo": {
     "elapsed": 670,
     "status": "ok",
     "timestamp": 1607998674591,
     "user": {
      "displayName": "Benedict Paten",
      "photoUrl": "https://lh3.googleusercontent.com/a-/AOh14Gh2rYrrH6yoNnUp0Oj4p4ouybc6ZcWGyPmKFtIY=s64",
      "userId": "06399644931392855882"
     },
     "user_tz": 480
    },
    "id": "pWz-qhNcO3Bi",
    "outputId": "3ef3069d-894e-4e0b-89e3-288f3725db6b",
    "slideshow": {
     "slide_type": "fragment"
    },
    "trusted": false
   },
   "cell_type": "code",
   "source": "class Snake(Pet):\n  def __init__(self, pet_name, age, venomous=True):\n    super().__init__(pet_name, age) \n    # super() is magic to call the parent class __init__ method\n    # You could equivalently call the parent constructor explicitly via\n    # Pet.__init__(self, pet_name, age) \n    self.venomous = venomous\n  \n  def __str__(self):\n    return f\"Snake {self.pet_name} age {self.age} {'venomous' if self.venomous else '' }\"\n\n  def noise(self):\n    return \"hiss\"\n  \nr = Snake(\"Cuddly\", 1)\n\nprint(r)",
   "execution_count": 13,
   "outputs": [
    {
     "name": "stdout",
     "output_type": "stream",
     "text": "Snake Cuddly age 1 venomous\n"
    }
   ]
  },
  {
   "metadata": {
    "slideshow": {
     "slide_type": "subslide"
    }
   },
   "cell_type": "markdown",
   "source": "# Challenge 2"
  },
  {
   "metadata": {
    "slideshow": {
     "slide_type": "fragment"
    },
    "trusted": true
   },
   "cell_type": "code",
   "source": "# Expand your Hamster class from Challenge 1 to include a \n# constructor (__init__) method which calls the parent constructor. \n# The constructor should take the pet_name and age attributes and a \n# favorite_food argument, which will stored as an object variable \n\nclass Hamster(Pet):\n    def __init__(self,pet_name,age,favorite_food):\n        super().__init__(pet_name,age)\n        self.favorite_food = favorite_food\n        \n    def noise(self): return \"squeaky chirp!\"\n    \n    def __str__(self):\n        return super().__str__() + \" loves \" + self.favorite_food\n        return f\"{super().__str__()} loves {self.favorite_food}\"\n            \n        #return f\"{self.pet_name} age {self.age} loves {self.favorite_food}\"\n    \n# This code should work\nh = Hamster(\"moley\", 1, \"oats\")\nassert h.pet_name == \"moley\"\nassert h.age == 1\nassert h.favorite_food == \"oats\"\nprint(h)",
   "execution_count": 4,
   "outputs": [
    {
     "output_type": "stream",
     "text": "Pet moley age 1 loves oats\n",
     "name": "stdout"
    }
   ]
  },
  {
   "metadata": {
    "id": "Pc0F3lc45MR2",
    "slideshow": {
     "slide_type": "slide"
    }
   },
   "cell_type": "markdown",
   "source": "# Object Composition\n\n* When you start writing OOP code, you may be tempted to create really large objects.\n\n* However, just like with functions, in code **small is generally beautiful**. \n* Put another way, it is often better to build more simple objects and compose them together than build fewer, more complex objects.\n\n* Consider this simple example"
  },
  {
   "metadata": {
    "id": "KSNfzH2a5OQQ",
    "slideshow": {
     "slide_type": "fragment"
    },
    "trusted": true
   },
   "cell_type": "code",
   "source": "# A class representing 2D coordinates:\n\nclass Point:\n  \"\"\" Create a new Point, at coordinates x, y \"\"\"\n\n  def __init__(self, x=0, y=0):\n    self.x = x\n    self.y = y\n\n  def __str__(self):\n    return f\"({self.x},{self.y})\"",
   "execution_count": 2,
   "outputs": []
  },
  {
   "metadata": {
    "id": "EcE_-gBBMQ1I",
    "slideshow": {
     "slide_type": "subslide"
    }
   },
   "cell_type": "markdown",
   "source": "Okay, suppose we wanted to make a line object, defined by pair of points, one for each end:"
  },
  {
   "metadata": {
    "colab": {
     "base_uri": "https://localhost:8080/"
    },
    "executionInfo": {
     "elapsed": 339,
     "status": "ok",
     "timestamp": 1607996590340,
     "user": {
      "displayName": "Benedict Paten",
      "photoUrl": "https://lh3.googleusercontent.com/a-/AOh14Gh2rYrrH6yoNnUp0Oj4p4ouybc6ZcWGyPmKFtIY=s64",
      "userId": "06399644931392855882"
     },
     "user_tz": 480
    },
    "id": "vinwzKq-5x31",
    "outputId": "f0f72022-bfe5-4109-e199-665a77daaf04",
    "slideshow": {
     "slide_type": "fragment"
    },
    "trusted": false
   },
   "cell_type": "code",
   "source": "class Line:\n  \"\"\" A class to represent lines \"\"\"\n\n  def __init__(self, p1, p2):\n    \"\"\" Initialize line with end-Points p1 and p2\"\"\"\n    self.p1 = p1\n    self.p2 = p2\n\n  def __str__(self):\n    return  f\"{self.p1}---->{self.p2}\" # Note how we reuse the __str__ method of Point\n\nl1 = Line(Point(0, 0), Point(100, 200))\nprint(\"line: \", l1)",
   "execution_count": 4,
   "outputs": [
    {
     "output_type": "stream",
     "text": "line:  (0,0)---->(100,200)\n",
     "name": "stdout"
    }
   ]
  },
  {
   "metadata": {
    "slideshow": {
     "slide_type": "subslide"
    }
   },
   "cell_type": "markdown",
   "source": "# Challenge 3"
  },
  {
   "metadata": {
    "slideshow": {
     "slide_type": "fragment"
    },
    "trusted": true
   },
   "cell_type": "code",
   "source": "# Create a triangle class, defined by three points, p1, p2, and p3.\n# Define the str method to return out the coordinates of each vertex (point) in the triangle. \n\nclass Triangle:\n    def __init__(self,p1,p2,p3):\n        self.p1 = p1 \n        self.p2 = p2\n        self.p3 = p3\n    def __str__(self): \n        return f\"Triangle {self.p1}-->{self.p2}-->{self.p3}-->{self.p1}\"\n    \nt = Triangle( Point(0,0), Point(0,1), Point(1,0) )\nprint(t) # Triangle (0, 0)-->(0, 1)-->(1, 0)-->(0, 0)\n        ",
   "execution_count": 4,
   "outputs": [
    {
     "output_type": "stream",
     "text": "Triangle (0,0)-->(0,1)-->(1,0)-->(0,0)\n",
     "name": "stdout"
    }
   ]
  },
  {
   "metadata": {
    "id": "AeSNnPP_Mc_P",
    "slideshow": {
     "slide_type": "slide"
    }
   },
   "cell_type": "markdown",
   "source": "# Inheritance vs. composition: aka: \"Is a\" vs. \"Has a\""
  },
  {
   "metadata": {
    "id": "NSf3bLaoMkbb",
    "slideshow": {
     "slide_type": "fragment"
    }
   },
   "cell_type": "markdown",
   "source": "When you first learn about inheritance there is a tendency to overuse it. Consider, we could have implemented the line class using inheritance:"
  },
  {
   "metadata": {
    "colab": {
     "base_uri": "https://localhost:8080/"
    },
    "executionInfo": {
     "elapsed": 395,
     "status": "ok",
     "timestamp": 1607997019395,
     "user": {
      "displayName": "Benedict Paten",
      "photoUrl": "https://lh3.googleusercontent.com/a-/AOh14Gh2rYrrH6yoNnUp0Oj4p4ouybc6ZcWGyPmKFtIY=s64",
      "userId": "06399644931392855882"
     },
     "user_tz": 480
    },
    "id": "og8pHqzvOICS",
    "outputId": "d922d796-cc56-4bc4-af31-2c0b91694c69",
    "slideshow": {
     "slide_type": "fragment"
    },
    "trusted": false
   },
   "cell_type": "code",
   "source": "class Line(Point):\n  \"\"\" A class to represent lines \"\"\"\n\n  def __init__(self, x1, y1, x2, y2):\n    \"\"\" Initialize line with two sets of x, y coordinates: (x1, y1) and (x2, y2) \n    \"\"\"\n    super().__init__(x1, y1)\n    self.x2 = x2\n    self.y2 = y2\n\n  def __str__(self):\n    return  f\"({self.x}, {self.y})-->({self.x2}, {self.y2})\" \n \nl1 = Line(0, 0, 100, 200)\nprint(\"line: \", l1)",
   "execution_count": 12,
   "outputs": [
    {
     "output_type": "stream",
     "text": "line:  (0, 0)-->(100, 200)\n",
     "name": "stdout"
    }
   ]
  },
  {
   "metadata": {
    "id": "3ZOAn7YiRfl0",
    "slideshow": {
     "slide_type": "subslide"
    }
   },
   "cell_type": "markdown",
   "source": "* However, which of the following statements is more correct\n  * A Line **is a** Point\n  * A Line **has a** Point (or actually two Points)"
  },
  {
   "metadata": {
    "id": "3ZOAn7YiRfl0",
    "slideshow": {
     "slide_type": "subslide"
    }
   },
   "cell_type": "markdown",
   "source": "* A Line **is a** Point suggests **inheritance** (eg class Line(Point))\n* A Line **has a** Point (or two) suggests **composition**, each Line objects has a variable (or two) of type Point\n\n* The take home: when building object hierarchies think carefully about if the relationship between objects is a \"is a\" relationship or a \"has a\" relationship. "
  },
  {
   "metadata": {
    "id": "PucGp8tOZC_s",
    "slideshow": {
     "slide_type": "slide"
    }
   },
   "cell_type": "markdown",
   "source": "# Homework\n\n* ZyBooks Reading 13,14\n* Assignment 8 (due Dec 2)\n* Read Chapter 22: (inheritance) \nhttp://openbookproject.net/thinkcs/python/english3e/inheritance.html\n"
  },
  {
   "metadata": {
    "id": "L2HQgeVTD8Ol",
    "slideshow": {
     "slide_type": "slide"
    }
   },
   "cell_type": "markdown",
   "source": " # An Example of OOP: Implementing the card game Old Maid\n\n **You may want to read the following ahead of going through the remainder of this lecture to get the most out of the following code walk through**\n \n * We're going to use the example of a card game (Old Maid; taken from: http://openbookproject.net/thinkcs/python/english3e/inheritance.html which contains a good write-up)\n \n * The objective is to study how a card game can be mapped to a set of objects in a natural way.\n \n * A card game has:\n  * Individual cards, each with a suit and rank, e.g. Ace, 2, 3, 4, ...\n  * One or more decks (a deck being a full set of cards)\n  * Hands (a hand is  subset of cards)\n  * Game logic\n  \n* We will see that we can map each of these concepts to a class definition.\n\n* In this process, we'll figure out which functions we'll need and in which classes they belong.\n\nLet's first build a card class:"
  },
  {
   "metadata": {
    "id": "If9Lg6lDGDKh",
    "slideshow": {
     "slide_type": "slide"
    }
   },
   "cell_type": "markdown",
   "source": "# The Card Class\n\n* A card has a suit (Clubs, Diamonds, Hearts or Spades) and a rank (Ace, 2, 3 ...).\n* As a reminder, cards also have a color, such that Diamonds and Hearts are Red while Clubs and Spades are black. Given that the suit implies the color, we don't need to store that.\n* We create a class to represent a card. In doing so we implement comparison functions, so that we can programmatically compare any two cards."
  },
  {
   "metadata": {
    "executionInfo": {
     "elapsed": 244,
     "status": "ok",
     "timestamp": 1614124610027,
     "user": {
      "displayName": "Benedict Paten",
      "photoUrl": "https://lh3.googleusercontent.com/a-/AOh14Gh2rYrrH6yoNnUp0Oj4p4ouybc6ZcWGyPmKFtIY=s64",
      "userId": "06399644931392855882"
     },
     "user_tz": 480
    },
    "id": "Fv6ucZiFYbG9",
    "slideshow": {
     "slide_type": "subslide"
    },
    "trusted": false
   },
   "cell_type": "code",
   "source": "class Card:\n    \"\"\" Represents a card from a deck of cards.\n    \"\"\"\n  \n    # Here are some class variables\n    # to represent possible suits and ranks\n    suits = [\"Clubs\", \"Diamonds\", \"Spades\", \"Hearts\"]\n    ranks = [\"narf\", \"Ace\", \"2\", \"3\", \"4\", \"5\", \"6\", \"7\",\n             \"8\", \"9\", \"10\", \"Jack\", \"Queen\", \"King\"]  \n\n    def __init__(self, suit=0, rank=0):\n        \"\"\" Create a card using integer variables to represent suit and rank.\n        \"\"\"\n        # Couple of handy asserts to check any cards we build make sense\n        assert suit >= 0 and suit < 4  \n        assert rank >= 0 and rank < 14\n        \n        self.suit = suit\n        self.rank = rank\n\n    def __str__(self):\n        # The lookup in the suits/ranks lists prints \n        # a human readable representation of the card.\n        return (self.ranks[self.rank] + \" of \" + self.suits[self.suit])\n      \n    def same_color(self, other):\n      \"\"\" Returns the True if cards have the same color else False\n      Diamonds and hearts are both red, clubs and spades are both black.\n      \"\"\"\n      return self.rank == other.rank or self.rank == (other.rank + 2) % 4\n    \n    # The following methods implement card comparison\n    \n    def cmp(self, other):\n      \"\"\" Compares the card with another, returning 1, 0, or -1 depending on \n      if this card is greater than, equal or less than the other card, respectively.\n      \n      Cards are compared first by suit and then rank.\n      \"\"\"\n      # Check the suits\n      if self.suit > other.suit: return 1\n      if self.suit < other.suit: return -1\n      # Suits are the same... check ranks\n      if self.rank > other.rank: return 1\n      if self.rank < other.rank: return -1\n      # Ranks are the same... it's a tie\n      return 0\n      \n    def __eq__(self, other):\n        return self.cmp(other) == 0\n\n    def __le__(self, other):\n        return self.cmp(other) <= 0\n\n    def __ge__(self, other):\n        return self.cmp(other) >= 0\n\n    def __gt__(self, other):\n        return self.cmp(other) > 0\n\n    def __lt__(self, other):\n        return self.cmp(other) < 0\n\n    def __ne__(self, other):\n        return self.cmp(other) != 0",
   "execution_count": 1,
   "outputs": []
  },
  {
   "metadata": {
    "colab": {
     "base_uri": "https://localhost:8080/"
    },
    "executionInfo": {
     "elapsed": 231,
     "status": "ok",
     "timestamp": 1614124623502,
     "user": {
      "displayName": "Benedict Paten",
      "photoUrl": "https://lh3.googleusercontent.com/a-/AOh14Gh2rYrrH6yoNnUp0Oj4p4ouybc6ZcWGyPmKFtIY=s64",
      "userId": "06399644931392855882"
     },
     "user_tz": 480
    },
    "id": "B2yy720MKRJZ",
    "outputId": "215e4468-0d42-4bd0-87e8-7c9e67c1844e",
    "slideshow": {
     "slide_type": "subslide"
    },
    "trusted": false
   },
   "cell_type": "code",
   "source": "# Play with the cards\n\nx = Card(2, 1)\ny = Card(2, 13)\n\nprint(\"x is:\", x)\nprint(\"y is:\", y)\nprint(\"x is less than y:\", x < y) # Aces low.",
   "execution_count": 2,
   "outputs": [
    {
     "name": "stdout",
     "output_type": "stream",
     "text": "x is: Ace of Spades\ny is: King of Spades\nx is less than y: True\n"
    }
   ]
  },
  {
   "metadata": {
    "id": "lut9ivL7I42n",
    "slideshow": {
     "slide_type": "slide"
    }
   },
   "cell_type": "markdown",
   "source": "# The Deck Class\n\n* A deck is a set of cards. \n\n* We should be able to shuffle a deck, we also implement  methods to remove cards from the deck so that we can deal them in hands.\n\n* Deck is not a type of card, rather a deck is composed of cards, so we use composition to include cards in the deck."
  },
  {
   "metadata": {
    "executionInfo": {
     "elapsed": 250,
     "status": "ok",
     "timestamp": 1614124986038,
     "user": {
      "displayName": "Benedict Paten",
      "photoUrl": "https://lh3.googleusercontent.com/a-/AOh14Gh2rYrrH6yoNnUp0Oj4p4ouybc6ZcWGyPmKFtIY=s64",
      "userId": "06399644931392855882"
     },
     "user_tz": 480
    },
    "id": "hS5tej3Tv-pw",
    "slideshow": {
     "slide_type": "subslide"
    },
    "trusted": false
   },
   "cell_type": "code",
   "source": "import random\n\nclass Deck:\n    \"\"\" Represents a deck of cards.\n    \"\"\"\n  \n    def __init__(self):\n        \"\"\" Creates a full set of cards\"\"\"\n        self.cards = [] # cards stores the list of cards\n        for suit in range(4): # Note the nested for loops\n            for rank in range(1, 14):\n                self.cards.append(Card(suit, rank))\n    \n    def __str__(self):\n        s = \"\" # Builds a deck of cards, laying them out diagonally \n        # across the screen.\n        for i in range(len(self.cards)):\n            s = s + \" \" * i + str(self.cards[i]) + \"\\n\"\n        return s\n      \n    def __len__(self):\n        return len(self.cards)\n      \n    def shuffle(self):\n        \"\"\" Shuffles the cards into a random order\n        \"\"\"\n        rng = random.Random()        # Create a random generator\n        num_cards = len(self.cards)\n        for i in range(num_cards):\n            j = rng.randrange(i, num_cards)\n            (self.cards[i], self.cards[j]) = (self.cards[j], self.cards[i])\n    \n    def remove(self, card):\n        \"\"\" Removes the card from the deck. Returns True if successful. \"\"\"\n        if card in self.cards:\n            self.cards.remove(card)\n            return True\n        else:\n            return False\n          \n    def pop(self):\n        \"\"\" Removes the last card in the deck and returns it.\"\"\"\n        return self.cards.pop()\n    \n    def add(self, card):\n        \"\"\" Adds the card to the deck. \"\"\"\n        assert card not in self.cards # We include this check here\n        # because we want to protect against having the same card\n        # in the deck twice\n        self.cards.append(card)\n      \n    def is_empty(self):\n        \"\"\" Returns True if the deck is empty.\"\"\"\n        return self.cards == []\n      \n    def deal(self, hands, num_cards_per_hand=999):\n        \"\"\" Deals cards into hands. num_cards_per_hand \n        is number of cards per hand\"\"\"\n        num_hands = len(hands)\n        for i in range(num_cards_per_hand * num_hands):\n            if self.is_empty():\n                break                    # Break if out of cards\n            card = self.pop()            # Take the top card\n            hand = hands[i % num_hands]  # Whose turn is next?\n            hand.add(card)               # Add the card to the hand",
   "execution_count": 3,
   "outputs": []
  },
  {
   "metadata": {
    "colab": {
     "base_uri": "https://localhost:8080/"
    },
    "executionInfo": {
     "elapsed": 235,
     "status": "ok",
     "timestamp": 1614124990965,
     "user": {
      "displayName": "Benedict Paten",
      "photoUrl": "https://lh3.googleusercontent.com/a-/AOh14Gh2rYrrH6yoNnUp0Oj4p4ouybc6ZcWGyPmKFtIY=s64",
      "userId": "06399644931392855882"
     },
     "user_tz": 480
    },
    "id": "7EI2wQolMQ7v",
    "outputId": "f2b444eb-1c64-4e9a-9a3f-72ab2e90edee",
    "slideshow": {
     "slide_type": "subslide"
    },
    "trusted": false
   },
   "cell_type": "code",
   "source": "# Play with deck of cards \n\ndeck = Deck()\n\nprint(deck)\n\nprint(\"There are\", len(deck), \"cards\")\n\ndeck.shuffle()\n\nprint(deck)",
   "execution_count": 4,
   "outputs": [
    {
     "name": "stdout",
     "output_type": "stream",
     "text": "Ace of Clubs\n 2 of Clubs\n  3 of Clubs\n   4 of Clubs\n    5 of Clubs\n     6 of Clubs\n      7 of Clubs\n       8 of Clubs\n        9 of Clubs\n         10 of Clubs\n          Jack of Clubs\n           Queen of Clubs\n            King of Clubs\n             Ace of Diamonds\n              2 of Diamonds\n               3 of Diamonds\n                4 of Diamonds\n                 5 of Diamonds\n                  6 of Diamonds\n                   7 of Diamonds\n                    8 of Diamonds\n                     9 of Diamonds\n                      10 of Diamonds\n                       Jack of Diamonds\n                        Queen of Diamonds\n                         King of Diamonds\n                          Ace of Spades\n                           2 of Spades\n                            3 of Spades\n                             4 of Spades\n                              5 of Spades\n                               6 of Spades\n                                7 of Spades\n                                 8 of Spades\n                                  9 of Spades\n                                   10 of Spades\n                                    Jack of Spades\n                                     Queen of Spades\n                                      King of Spades\n                                       Ace of Hearts\n                                        2 of Hearts\n                                         3 of Hearts\n                                          4 of Hearts\n                                           5 of Hearts\n                                            6 of Hearts\n                                             7 of Hearts\n                                              8 of Hearts\n                                               9 of Hearts\n                                                10 of Hearts\n                                                 Jack of Hearts\n                                                  Queen of Hearts\n                                                   King of Hearts\n\nThere are 52 cards\n3 of Spades\n 8 of Diamonds\n  3 of Diamonds\n   7 of Spades\n    Jack of Spades\n     7 of Diamonds\n      10 of Diamonds\n       9 of Clubs\n        King of Clubs\n         7 of Clubs\n          5 of Clubs\n           Jack of Clubs\n            6 of Clubs\n             2 of Spades\n              Queen of Clubs\n               Ace of Diamonds\n                4 of Spades\n                 6 of Spades\n                  6 of Hearts\n                   Queen of Hearts\n                    Ace of Spades\n                     5 of Spades\n                      King of Hearts\n                       Ace of Clubs\n                        Ace of Hearts\n                         10 of Clubs\n                          4 of Diamonds\n                           6 of Diamonds\n                            3 of Hearts\n                             9 of Diamonds\n                              10 of Hearts\n                               Queen of Diamonds\n                                2 of Clubs\n                                 9 of Hearts\n                                  5 of Diamonds\n                                   7 of Hearts\n                                    King of Spades\n                                     King of Diamonds\n                                      8 of Spades\n                                       Queen of Spades\n                                        5 of Hearts\n                                         2 of Hearts\n                                          Jack of Diamonds\n                                           8 of Hearts\n                                            Jack of Hearts\n                                             9 of Spades\n                                              4 of Hearts\n                                               10 of Spades\n                                                2 of Diamonds\n                                                 3 of Clubs\n                                                  4 of Clubs\n                                                   8 of Clubs\n\n"
    }
   ]
  },
  {
   "metadata": {
    "id": "vBVbvnisFREH",
    "slideshow": {
     "slide_type": "slide"
    }
   },
   "cell_type": "markdown",
   "source": "# The Hand Class\n\n* Represents a hand of cards. \n\n* A hand \"is a\" type of deck, albeit one with a smaller number of cards. It therefore makes sense to inherit from deck to make a sub-type of deck, albeit one with:\n  * a name (for the player)\n  * an adapted print method"
  },
  {
   "metadata": {
    "executionInfo": {
     "elapsed": 209,
     "status": "ok",
     "timestamp": 1614125209309,
     "user": {
      "displayName": "Benedict Paten",
      "photoUrl": "https://lh3.googleusercontent.com/a-/AOh14Gh2rYrrH6yoNnUp0Oj4p4ouybc6ZcWGyPmKFtIY=s64",
      "userId": "06399644931392855882"
     },
     "user_tz": 480
    },
    "id": "gNr3WJuOxLj7",
    "slideshow": {
     "slide_type": "fragment"
    },
    "trusted": false
   },
   "cell_type": "code",
   "source": "class Hand(Deck):\n    \"\"\" Represents a hand of cards. \"\"\"\n    \n    def __init__(self, name=\"\"):\n      \"\"\" Creates an initially empty set of cards.\n      \"\"\"\n      self.cards = []\n      self.name = name\n    \n    def __str__(self):\n      s = \"Hand \" + self.name\n      if self.is_empty():\n          s += \" is empty\\n\"\n      else:\n          s += \" contains\\n\"\n      return s + Deck.__str__(self)",
   "execution_count": 5,
   "outputs": []
  },
  {
   "metadata": {
    "colab": {
     "base_uri": "https://localhost:8080/"
    },
    "executionInfo": {
     "elapsed": 212,
     "status": "ok",
     "timestamp": 1614125211416,
     "user": {
      "displayName": "Benedict Paten",
      "photoUrl": "https://lh3.googleusercontent.com/a-/AOh14Gh2rYrrH6yoNnUp0Oj4p4ouybc6ZcWGyPmKFtIY=s64",
      "userId": "06399644931392855882"
     },
     "user_tz": 480
    },
    "id": "pNGMS6rONEEY",
    "outputId": "0ef34e8a-baef-43f2-8af7-6703dc5b4b93",
    "slideshow": {
     "slide_type": "subslide"
    },
    "trusted": false
   },
   "cell_type": "code",
   "source": "# Play with hands of cards\n\ndeck = Deck()\n\ndeck.shuffle() # Shuffle the deck\n\n# Make two hands, dealing cards from the deck\ndaves = Hand(\"Dave\")\nrojins = Hand(\"Rojin\")\ndeck.deal([ daves, rojins ], 5)\n\n# Print the resulting hands\nprint(daves)\nprint(rojins)",
   "execution_count": 6,
   "outputs": [
    {
     "name": "stdout",
     "output_type": "stream",
     "text": "Hand Dave contains\nJack of Hearts\n 3 of Hearts\n  Queen of Diamonds\n   Jack of Clubs\n    Queen of Spades\n\nHand Rojin contains\n3 of Clubs\n 9 of Hearts\n  10 of Hearts\n   King of Hearts\n    8 of Diamonds\n\n"
    }
   ]
  },
  {
   "metadata": {
    "id": "QVLYm77gFVKz",
    "slideshow": {
     "slide_type": "slide"
    }
   },
   "cell_type": "markdown",
   "source": "# The Card Game Class\n\n* We need a class to represent the logic of the game.\n\n* This logic is not inherently part of the Card, Deck or Hand classes, rather it makes sense for it to be a separate class that encapsulates the rules.\n\n* Here we use a trick of creating a \"base class\", a mostly empty class that represents the base functionality that a game of cards might need, but which in and of itself is not a complete game."
  },
  {
   "metadata": {
    "executionInfo": {
     "elapsed": 241,
     "status": "ok",
     "timestamp": 1614125443070,
     "user": {
      "displayName": "Benedict Paten",
      "photoUrl": "https://lh3.googleusercontent.com/a-/AOh14Gh2rYrrH6yoNnUp0Oj4p4ouybc6ZcWGyPmKFtIY=s64",
      "userId": "06399644931392855882"
     },
     "user_tz": 480
    },
    "id": "k56R0BeryE3g",
    "slideshow": {
     "slide_type": "fragment"
    },
    "trusted": false
   },
   "cell_type": "code",
   "source": "class CardGame:\n    \"\"\" Represents a card game. Designed\n    to be inherited by more specific, complete games\n    \"\"\"\n    \n    def __init__(self):\n        self.deck = Deck()\n        self.deck.shuffle()",
   "execution_count": 7,
   "outputs": []
  },
  {
   "metadata": {
    "id": "B4OROuiaFXa0",
    "slideshow": {
     "slide_type": "slide"
    }
   },
   "cell_type": "markdown",
   "source": "# Old Maid\n\n* The mechanics of Old Maid (well the version we're doing):\n  * 2 or more players\n  * A pair of cards is a match if they have equal color and rank\n  * The goal of play is to discard pairs of matched cards, and not to be left with the odd card (a queen) at the end.\n  * Setup:\n    * One queen is removed from the deck\n    * Remaining cards are dealt and players discard any pairs of matches in their hands\n  * Play:\n    * First player offers hand face-down to neighboring player to their left\n    * Neighboring player chooses one card and adds it to hand, discarding any new pair of matches\n    * Neighboring player then offers their hand to their left neighbor, and so forth\n    * Play continues until only one card remains, the unmatchable queen (called the old-maid).\n    * Player with the the old maid is the loser (wierdly, there is no overall winner).\n   \n  "
  },
  {
   "metadata": {
    "id": "wGJmS_BspWqm",
    "slideshow": {
     "slide_type": "slide"
    }
   },
   "cell_type": "markdown",
   "source": "# Old Maid Hand\n\n* To implement the removal of pairs of matches from a hand it makes sense to create a specialized version of a hand:"
  },
  {
   "metadata": {
    "executionInfo": {
     "elapsed": 246,
     "status": "ok",
     "timestamp": 1614125445244,
     "user": {
      "displayName": "Benedict Paten",
      "photoUrl": "https://lh3.googleusercontent.com/a-/AOh14Gh2rYrrH6yoNnUp0Oj4p4ouybc6ZcWGyPmKFtIY=s64",
      "userId": "06399644931392855882"
     },
     "user_tz": 480
    },
    "id": "h0C4-VAQyFnK",
    "slideshow": {
     "slide_type": "fragment"
    },
    "trusted": false
   },
   "cell_type": "code",
   "source": "class OldMaidHand(Hand):\n    \"\"\" Old Maid version of a hand.\n    \"\"\"\n    \n    def remove_matches(self):\n        \"\"\" Remove any pairs of matches from the hand.\n        Returns removed cards as a list.\n        \"\"\"\n        removed_cards = []\n        for card in self.cards[:]: # Note the fact that we copy self.cards\n            # before iterating over it, this is because we edit self.cards[:]\n            # in the loop, and you can't edit and iterate over the same list\n            # at the same time\n            \n            match = Card((card.suit + 2) % 4, card.rank)\n            if match in self.cards:\n                self.cards.remove(card)\n                self.cards.remove(match)\n                removed_cards.append(card)\n                removed_cards.append(match)\n                print(\"Hand {0}: {1} matches {2}\"\n                        .format(self.name, card, match))\n                \n        return removed_cards ",
   "execution_count": 8,
   "outputs": []
  },
  {
   "metadata": {
    "colab": {
     "base_uri": "https://localhost:8080/"
    },
    "executionInfo": {
     "elapsed": 207,
     "status": "ok",
     "timestamp": 1614125447515,
     "user": {
      "displayName": "Benedict Paten",
      "photoUrl": "https://lh3.googleusercontent.com/a-/AOh14Gh2rYrrH6yoNnUp0Oj4p4ouybc6ZcWGyPmKFtIY=s64",
      "userId": "06399644931392855882"
     },
     "user_tz": 480
    },
    "id": "6LocQ79cuFax",
    "outputId": "af0d3b98-c85d-43eb-bf1d-f76fc0fb2ec2",
    "slideshow": {
     "slide_type": "subslide"
    },
    "trusted": false
   },
   "cell_type": "code",
   "source": "# Make a shuffled deck\ndeck = Deck()\ndeck.shuffle()\n\n# Make a hand, dealing cards from the deck\ndaves = OldMaidHand(\"Dave\")\ndeck.deal([ daves ], 25)\n\n# Print the resulting hand\nprint(daves)\n\n# Remove the matches\nremoved_cards = daves.remove_matches()\nprint(\"Removed cards\", list(map(str, removed_cards)))\n\n# Print the resulting hand\nprint(daves)",
   "execution_count": 9,
   "outputs": [
    {
     "name": "stdout",
     "output_type": "stream",
     "text": "Hand Dave contains\n8 of Hearts\n 3 of Clubs\n  4 of Spades\n   Ace of Diamonds\n    6 of Hearts\n     5 of Diamonds\n      6 of Spades\n       5 of Spades\n        8 of Spades\n         6 of Clubs\n          3 of Hearts\n           5 of Hearts\n            10 of Clubs\n             10 of Spades\n              Ace of Hearts\n               2 of Hearts\n                9 of Hearts\n                 Jack of Diamonds\n                  7 of Clubs\n                   Queen of Diamonds\n                    3 of Diamonds\n                     10 of Hearts\n                      2 of Diamonds\n                       8 of Clubs\n                        8 of Diamonds\n\nHand Dave: 8 of Hearts matches 8 of Diamonds\nHand Dave: Ace of Diamonds matches Ace of Hearts\nHand Dave: 5 of Diamonds matches 5 of Hearts\nHand Dave: 6 of Spades matches 6 of Clubs\nHand Dave: 8 of Spades matches 8 of Clubs\nHand Dave: 3 of Hearts matches 3 of Diamonds\nHand Dave: 10 of Clubs matches 10 of Spades\nHand Dave: 2 of Hearts matches 2 of Diamonds\nRemoved cards ['8 of Hearts', '8 of Diamonds', 'Ace of Diamonds', 'Ace of Hearts', '5 of Diamonds', '5 of Hearts', '6 of Spades', '6 of Clubs', '8 of Spades', '8 of Clubs', '3 of Hearts', '3 of Diamonds', '10 of Clubs', '10 of Spades', '2 of Hearts', '2 of Diamonds']\nHand Dave contains\n3 of Clubs\n 4 of Spades\n  6 of Hearts\n   5 of Spades\n    9 of Hearts\n     Jack of Diamonds\n      7 of Clubs\n       Queen of Diamonds\n        10 of Hearts\n\n"
    }
   ]
  },
  {
   "metadata": {
    "id": "xbb4SaWJq-wk",
    "slideshow": {
     "slide_type": "slide"
    }
   },
   "cell_type": "markdown",
   "source": "# Old Maid Game Class\n\n* Okay, now let's implement the actual game logic:"
  },
  {
   "metadata": {
    "executionInfo": {
     "elapsed": 250,
     "status": "ok",
     "timestamp": 1614125624001,
     "user": {
      "displayName": "Benedict Paten",
      "photoUrl": "https://lh3.googleusercontent.com/a-/AOh14Gh2rYrrH6yoNnUp0Oj4p4ouybc6ZcWGyPmKFtIY=s64",
      "userId": "06399644931392855882"
     },
     "user_tz": 480
    },
    "id": "BNQqnfOYyV1O",
    "slideshow": {
     "slide_type": "subslide"
    },
    "trusted": false
   },
   "cell_type": "code",
   "source": "class OldMaidGame(CardGame):\n    def __init__(self, names):\n        \"\"\" Construct a game of Old Maid, each name\n        in names is the name of a player.\n        \"\"\"\n        CardGame.__init__(self) # Call the base class constructor\n        \n        # Remove Queen of Clubs (so Queen of Spades is Old Maid)\n        self.deck.remove(Card(0,12))\n\n        # Make a hand for each player\n        self.hands = []\n        for name in names:\n            self.hands.append(OldMaidHand(name))\n        \n    def play(self, interactive=False):\n        # Deal the cards\n        self.deck.deal(self.hands)\n        print(\"---------- Cards have been dealt\")\n        self.print_hands()\n\n        # Remove initial matches\n        count = 1 # Count of discarded cards (1 to start, \n        # representing discarded queen)\n        for hand in self.hands:\n            count += len(hand.remove_matches())\n        print(\"---------- Matches discarded, play ready to begin\")\n        self.print_hands()\n\n        # Play until all 50 cards are matched\n        turn = 0\n        num_hands = len(self.hands)\n        while count < 51:\n            count += self.play_one_turn(turn, interactive)\n            turn = (turn + 1) % num_hands\n\n        print(\"---------- Game is Over\")\n        self.print_hands()\n      \n    def play_one_turn(self, i, interactive):\n        \"\"\" Play one turn for the ith player\n        \"\"\"\n        \n        hand = self.hands[i]\n        \n        #if hand.is_empty(): # You can remove comments to allow players to get \"out\"\n        #return 0\n          \n        # Find a neighboring hand with one or more cards\n        neighbor = self.hands[self.find_neighbor(i)]\n        \n        if interactive:\n            # Allow the user to pick the card to add to their deck\n            while True:\n                s = \"{} enter a card choice from 1 to {} from {}'s hand:\".\\\n                format(hand.name, len(neighbor.cards)-1, neighbor.name)\n                user_value = input(s)\n                try: # This is an example of exception handling, we'll cover this next time\n                    j = int(user_value)\n                except ValueError:\n                    print(\"Invalid number\", user_value)\n                    continue\n                if j < 1 or j > len(neighbor.cards)-1:\n                    print(\"Invalid choice\", j)\n                    continue\n                picked_card = neighbor.cards[j-1]\n                del neighbor.cards[j-1]\n                break\n        else:\n            # Else just pick one randomly\n            picked_card = neighbor.pop()\n            \n        hand.add(picked_card)\n        print(\"Hand\", hand.name, \"picked\", picked_card, \"from\", neighbor.name)\n        count = len(hand.remove_matches())\n        \n        hand.shuffle()\n        \n        return count\n      \n    def find_neighbor(self, i):\n        \"\"\" Find the neighbor of the player without an empty hand \n        \"\"\"\n        num_hands = len(self.hands)\n        for next in range(1,num_hands):\n            neighbor = (i + next) % num_hands\n            if not self.hands[neighbor].is_empty():\n                return neighbor\n    \n    def print_hands(self):\n        for hand in self.hands:\n            print(hand)\n      ",
   "execution_count": 11,
   "outputs": []
  },
  {
   "metadata": {
    "colab": {
     "base_uri": "https://localhost:8080/"
    },
    "executionInfo": {
     "elapsed": 201,
     "status": "ok",
     "timestamp": 1614125644179,
     "user": {
      "displayName": "Benedict Paten",
      "photoUrl": "https://lh3.googleusercontent.com/a-/AOh14Gh2rYrrH6yoNnUp0Oj4p4ouybc6ZcWGyPmKFtIY=s64",
      "userId": "06399644931392855882"
     },
     "user_tz": 480
    },
    "id": "xnEamKIMzGI9",
    "outputId": "66d81809-4fe6-4c50-a43e-e747dc007762",
    "slideshow": {
     "slide_type": "subslide"
    },
    "trusted": false
   },
   "cell_type": "code",
   "source": "game = OldMaidGame([\"Allen\",\"Jeff\",\"Chris\"])\ngame.play(interactive=False) # Playing the game interactively is possible, but\n# very dull",
   "execution_count": 12,
   "outputs": [
    {
     "name": "stdout",
     "output_type": "stream",
     "text": "---------- Cards have been dealt\nHand Allen contains\n9 of Clubs\n 3 of Clubs\n  Queen of Spades\n   5 of Clubs\n    Queen of Diamonds\n     8 of Spades\n      10 of Diamonds\n       King of Diamonds\n        2 of Diamonds\n         7 of Diamonds\n          6 of Diamonds\n           King of Clubs\n            5 of Hearts\n             10 of Hearts\n              9 of Hearts\n               5 of Diamonds\n                4 of Spades\n\nHand Jeff contains\n3 of Spades\n Ace of Diamonds\n  4 of Diamonds\n   King of Spades\n    King of Hearts\n     6 of Clubs\n      2 of Hearts\n       7 of Clubs\n        10 of Clubs\n         7 of Spades\n          3 of Hearts\n           10 of Spades\n            7 of Hearts\n             6 of Spades\n              Jack of Clubs\n               6 of Hearts\n                9 of Spades\n\nHand Chris contains\nQueen of Hearts\n Jack of Diamonds\n  Ace of Clubs\n   2 of Clubs\n    9 of Diamonds\n     5 of Spades\n      2 of Spades\n       4 of Clubs\n        3 of Diamonds\n         Jack of Hearts\n          Ace of Spades\n           8 of Diamonds\n            8 of Clubs\n             Ace of Hearts\n              Jack of Spades\n               4 of Hearts\n                8 of Hearts\n\nHand Allen: 10 of Diamonds matches 10 of Hearts\nHand Allen: 5 of Hearts matches 5 of Diamonds\nHand Jeff: 6 of Clubs matches 6 of Spades\nHand Jeff: 7 of Clubs matches 7 of Spades\nHand Jeff: 10 of Clubs matches 10 of Spades\nHand Chris: Jack of Diamonds matches Jack of Hearts\nHand Chris: Ace of Clubs matches Ace of Spades\nHand Chris: 2 of Clubs matches 2 of Spades\nHand Chris: 8 of Diamonds matches 8 of Hearts\n---------- Matches discarded, play ready to begin\nHand Allen contains\n9 of Clubs\n 3 of Clubs\n  Queen of Spades\n   5 of Clubs\n    Queen of Diamonds\n     8 of Spades\n      King of Diamonds\n       2 of Diamonds\n        7 of Diamonds\n         6 of Diamonds\n          King of Clubs\n           9 of Hearts\n            4 of Spades\n\nHand Jeff contains\n3 of Spades\n Ace of Diamonds\n  4 of Diamonds\n   King of Spades\n    King of Hearts\n     2 of Hearts\n      3 of Hearts\n       7 of Hearts\n        Jack of Clubs\n         6 of Hearts\n          9 of Spades\n\nHand Chris contains\nQueen of Hearts\n 9 of Diamonds\n  5 of Spades\n   4 of Clubs\n    3 of Diamonds\n     8 of Clubs\n      Ace of Hearts\n       Jack of Spades\n        4 of Hearts\n\nHand Allen picked 9 of Spades from Jeff\nHand Allen: 9 of Clubs matches 9 of Spades\nHand Jeff picked 4 of Hearts from Chris\nHand Jeff: 4 of Diamonds matches 4 of Hearts\nHand Chris picked 2 of Diamonds from Allen\nHand Allen picked Jack of Clubs from Jeff\nHand Jeff picked 3 of Diamonds from Chris\nHand Jeff: 3 of Hearts matches 3 of Diamonds\nHand Chris picked 9 of Hearts from Allen\nHand Chris: 9 of Diamonds matches 9 of Hearts\nHand Allen picked King of Spades from Jeff\nHand Allen: King of Clubs matches King of Spades\nHand Jeff picked 2 of Diamonds from Chris\nHand Jeff: 2 of Hearts matches 2 of Diamonds\nHand Chris picked 6 of Diamonds from Allen\nHand Allen picked 6 of Hearts from Jeff\nHand Jeff picked 5 of Spades from Chris\nHand Chris picked 5 of Clubs from Allen\nHand Allen picked Ace of Diamonds from Jeff\nHand Jeff picked Queen of Hearts from Chris\nHand Chris picked Ace of Diamonds from Allen\nHand Chris: Ace of Hearts matches Ace of Diamonds\nHand Allen picked 7 of Hearts from Jeff\nHand Allen: 7 of Diamonds matches 7 of Hearts\nHand Jeff picked 8 of Clubs from Chris\nHand Chris picked King of Diamonds from Allen\nHand Allen picked King of Hearts from Jeff\nHand Jeff picked 4 of Clubs from Chris\nHand Chris picked Jack of Clubs from Allen\nHand Chris: Jack of Spades matches Jack of Clubs\nHand Allen picked Queen of Hearts from Jeff\nHand Allen: Queen of Diamonds matches Queen of Hearts\nHand Jeff picked King of Diamonds from Chris\nHand Chris picked 4 of Spades from Allen\nHand Allen picked 4 of Clubs from Jeff\nHand Jeff picked 6 of Diamonds from Chris\nHand Chris picked 4 of Clubs from Allen\nHand Chris: 4 of Spades matches 4 of Clubs\nHand Allen picked 3 of Spades from Jeff\nHand Allen: 3 of Clubs matches 3 of Spades\nHand Jeff picked 5 of Clubs from Chris\nHand Jeff: 5 of Spades matches 5 of Clubs\nHand Chris picked 8 of Spades from Allen\nHand Allen picked 6 of Diamonds from Jeff\nHand Allen: 6 of Hearts matches 6 of Diamonds\nHand Jeff picked 8 of Spades from Chris\nHand Jeff: 8 of Clubs matches 8 of Spades\nHand Chris picked Queen of Spades from Allen\nHand Allen picked King of Diamonds from Jeff\nHand Allen: King of Hearts matches King of Diamonds\n---------- Game is Over\nHand Allen is empty\n\nHand Jeff is empty\n\nHand Chris contains\nQueen of Spades\n\n"
    }
   ]
  }
 ],
 "metadata": {
  "celltoolbar": "Slideshow",
  "colab": {
   "collapsed_sections": [],
   "name": "L14 Inheritance.ipynb",
   "provenance": []
  },
  "kernelspec": {
   "name": "python3",
   "display_name": "Python 3",
   "language": "python"
  },
  "language_info": {
   "name": "python",
   "version": "3.10.4",
   "mimetype": "text/x-python",
   "codemirror_mode": {
    "name": "ipython",
    "version": 3
   },
   "pygments_lexer": "ipython3",
   "nbconvert_exporter": "python",
   "file_extension": ".py"
  }
 },
 "nbformat": 4,
 "nbformat_minor": 1
}